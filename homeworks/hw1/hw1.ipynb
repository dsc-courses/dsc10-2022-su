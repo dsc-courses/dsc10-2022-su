{
 "cells": [
  {
   "cell_type": "markdown",
   "metadata": {},
   "source": [
    "# Homework 1: Causality and Basic Python\n",
    "\n",
    "## Due Tuesday, July 5th at 11:59pm\n",
    "\n",
    "Welcome to Homework 1! This week's HW will cover causality and basic Python. You can find additional help on these topics in [Chapter 2](https://www.inferentialthinking.com/chapters/02/causality-and-experiments.html) of Computational and Inferential Thinking and [Notes 1-6](https://notes.dsc10.com/01-getting_started/tools.html) in the course notes."
   ]
  },
  {
   "cell_type": "markdown",
   "metadata": {},
   "source": [
    "### Instructions\n",
    "\n",
    "This assignment is due Tuesday, July 5th at 11:59pm. You are given six slip days throughout the quarter to extend deadlines. See the syllabus for more details. With the exception of using slip days, late work will not be accepted unless you have made special arrangements with your instructor. \n",
    "\n",
    "Remember to start early and submit often. \n",
    "\n",
    "**Important**: For homeworks, the `otter` tests don't usually tell you that your answer is correct. More often, they help catch careless mistakes. It's up to you to ensure that your answer is correct. If you're not sure, ask someone (not for the answer, but for some guidance about your approach). These are great questions for office hours (the schedule can be found [here](https://dsc10.com/calendar)) or Campuswire. Directly sharing answers is not okay, but discussing problems with the course staff or with other students is encouraged. "
   ]
  },
  {
   "cell_type": "code",
   "execution_count": 1,
   "metadata": {},
   "outputs": [],
   "source": [
    "# Please don't change this cell, but do make sure to run it.\n",
    "import babypandas as bpd\n",
    "import matplotlib.pyplot as plt\n",
    "import numpy as np\n",
    "import otter\n",
    "grader = otter.Notebook()\n",
    "\n",
    "plt.style.use('fivethirtyeight')"
   ]
  },
  {
   "cell_type": "markdown",
   "metadata": {},
   "source": [
    "## 1. COVID in Montana 🦠"
   ]
  },
  {
   "cell_type": "markdown",
   "metadata": {},
   "source": [
    "On March 30, 2022, [The New York Times](https://www.nytimes.com/interactive/2021/us/covid-cases.html) reported that there have been a total of 79,920,438 COVID cases in the US since January 21, 2020. Only 272,753 of those cases were in Montana. That's a proportion of $\\frac{272{,}753}{79{,}920{,}438} = 0.0034$, or $0.34\\%$, which certainly doesn't sound like a lot.\n",
    "\n",
    "However, it's hard to evaluate the meaning of this data without more information. If you could request **one** additional piece of data to better assess the scale of the pandemic in Montana as compared to the rest of the US as a whole, what would you want to know? Explain how you would use that piece of data to determine whether COVID is more or less prevalent in Montana as compared to elsewhere in the US.\n",
    "\n",
    "**Note:** This is a manually graded question. It will not be \"autograded\"; our tutors will read and grade your work."
   ]
  },
  {
   "cell_type": "markdown",
   "metadata": {
    "deletable": false,
    "editable": false
   },
   "source": [
    "<!-- BEGIN QUESTION -->\n",
    "\n",
    "<!--\n",
    "BEGIN QUESTION\n",
    "name: q1\n",
    "manual: true\n",
    "-->"
   ]
  },
  {
   "cell_type": "markdown",
   "metadata": {},
   "source": [
    "_Type your answer here, replacing this text._"
   ]
  },
  {
   "cell_type": "markdown",
   "metadata": {},
   "source": [
    "<!-- END QUESTION -->\n",
    "\n",
    "\n",
    "\n",
    "## 2. Characters in Winnie-the-Pooh 🧸🍯🐷"
   ]
  },
  {
   "cell_type": "markdown",
   "metadata": {},
   "source": [
    "In Lecture 1, we counted the number of times that the characters Amy, Beth, Jo, Meg, and Laurie were named in each chapter of the classic book, _Little Women_. In this question, we'll look at another classic book – _Winnie-the-Pooh (1926)_ by A. A. Milne and illustrated by Ernest H. Shepard. At the start of 2022, the copyright protections of the original book (but not the Disney franchise!) expired, and so sites like Project Gutenberg are now able to post copies of the book without violating any copyright laws. [Click here](https://www.gutenberg.org/files/67098/67098-h/67098-h.htm) to read a version of the book that has all of its original illustrations!"
   ]
  },
  {
   "cell_type": "markdown",
   "metadata": {},
   "source": [
    "<img src='data/illus27.jpg' width=500>"
   ]
  },
  {
   "cell_type": "markdown",
   "metadata": {},
   "source": [
    "Four of the main characters in _Winnie-the-Pooh_ are Pooh (🧸), Piglet (🐷), Eeyore (🐴), and Christopher Robin (🧍).\n",
    "\n",
    "Below, we've written code that shows the number of mentions of each of these four characters in each of the 10 chapters of the book. However, instead of displaying this information in a scatter plot, as was done in Lecture 1, we will use a bar chart.\n",
    "\n",
    "Run the cell below."
   ]
  },
  {
   "cell_type": "code",
   "execution_count": 2,
   "metadata": {},
   "outputs": [],
   "source": [
    "# This cell contains code that hasn't yet been covered in the course.\n",
    "# It isn't expected that you'll understand the code, but you should be able to \n",
    "# interpret the bar chart it generates.\n",
    "\n",
    "# Open the book and split it into chapters\n",
    "book_file = 'data/winnie-the-pooh.txt'\n",
    "raw_book = open(book_file, encoding=\"utf-8\").read()\n",
    "end_pos = raw_book.index('*** END OF THE PROJECT GUTENBERG EBOOK WINNIE-THE-POOH ***')\n",
    "chapters = raw_book[:end_pos].split('CHAPTER ')[1:]\n",
    "\n",
    "# Find the number of words in each chapter\n",
    "chapter_lengths = (np.array([len(c.split(' ')) for c in chapters]) / 100)\n",
    "\n",
    "# Find the number of mentions per 100 words for each character and chapter\n",
    "characters = bpd.DataFrame().assign(\n",
    "    Chapter=np.arange(1, 11),\n",
    "    Pooh=np.char.count(chapters, 'Pooh') / chapter_lengths,\n",
    "    Piglet=np.char.count(chapters, 'Piglet') / chapter_lengths,\n",
    "    Eeyore=np.char.count(chapters, 'Eeyore') / chapter_lengths,\n",
    "    Christopher=np.char.count(chapters, 'Christopher') / chapter_lengths\n",
    ")\n",
    "\n",
    "characters.plot(kind='bar', x='Chapter', figsize=(14, 8));\n",
    "plt.ylabel('Mentions per 100 words in chapter');"
   ]
  },
  {
   "cell_type": "markdown",
   "metadata": {},
   "source": [
    "Notice, the y-axis of this graph is \"Mentions per 100 words in chapter\". The height of the bar for Pooh in Chapter 1 is 1.5; this means that 1.5 of every 100 words in Chapter 1 are `\"Pooh\"` (or in other words, $1.5\\%$ of the words in Chapter 1 are `\"Pooh\"`)."
   ]
  },
  {
   "cell_type": "markdown",
   "metadata": {},
   "source": [
    "**Question 2.1.** The **first time** Eeyore is mentioned is in this sentence:\n",
    "\n",
    "> The Old Grey Donkey, Eeyore, stood by himself in a thistly corner of the forest, his front feet well apart, his head on one side, and thought about things.\n",
    "\n",
    "In which chapter is this sentence? Assign the name `pooh_part1` to an integer between 1 and 10."
   ]
  },
  {
   "cell_type": "code",
   "execution_count": 3,
   "metadata": {},
   "outputs": [],
   "source": [
    "pooh_part1 = ..."
   ]
  },
  {
   "cell_type": "code",
   "execution_count": null,
   "metadata": {
    "deletable": false,
    "editable": false
   },
   "outputs": [],
   "source": [
    "grader.check(\"q2_1\")"
   ]
  },
  {
   "cell_type": "markdown",
   "metadata": {},
   "source": [
    "**Question 2.2.** Pooh is mentioned 47 times in Chapter 5. How many times is Christopher mentioned in Chapter 5? Assign the name `pooh_part2` to 1, 2, 3, 4, or 5.\n",
    "\n",
    "1. 5\n",
    "2. 14\n",
    "3. 19\n",
    "4. 22\n",
    "5. 50"
   ]
  },
  {
   "cell_type": "code",
   "execution_count": 6,
   "metadata": {},
   "outputs": [],
   "source": [
    "pooh_part2 = ..."
   ]
  },
  {
   "cell_type": "code",
   "execution_count": null,
   "metadata": {
    "deletable": false,
    "editable": false
   },
   "outputs": [],
   "source": [
    "grader.check(\"q2_2\")"
   ]
  },
  {
   "cell_type": "markdown",
   "metadata": {},
   "source": [
    "**Question 2.3.** Which of the following is a valid conclusion we can make just based off of the above plot? Assign `pooh_part3` to 1, 2, 3, 4, or 5. There is only one correct answer.\n",
    "\n",
    "1. Piglet is mentioned more times in Chapter 3 than he is in Chapter 5.\n",
    "\n",
    "2. The chapter that Pooh is mentioned the most in is Chapter 2.\n",
    "\n",
    "3. Christopher is mentioned roughly the same number of times in each of Chapters 1, 2, and 3.\n",
    "\n",
    "4. Pooh is mentioned roughly the same number of times in Chapters 4 and 5.\n",
    "\n",
    "5. Christopher and Eeyore are mentioned roughly the same number of times in Chapter 10."
   ]
  },
  {
   "cell_type": "code",
   "execution_count": 9,
   "metadata": {},
   "outputs": [],
   "source": [
    "pooh_part3 = ..."
   ]
  },
  {
   "cell_type": "code",
   "execution_count": null,
   "metadata": {
    "deletable": false,
    "editable": false
   },
   "outputs": [],
   "source": [
    "grader.check(\"q2_3\")"
   ]
  },
  {
   "cell_type": "markdown",
   "metadata": {},
   "source": [
    "**Note:** The tests this section only checked that you set each variable to a number in the correct range. Unlike in labs, tests in homeworks **do not** check that you answered correctly; they only check that your answer is *reasonable*, or in the correct format. To put it another way: all of your tests might pass, but that doesn't mean you'll get full credit -- some of your answers may still be wrong. It's up to you to make sure that they're right!"
   ]
  },
  {
   "cell_type": "markdown",
   "metadata": {},
   "source": [
    "## 3. Python Basics 🐍"
   ]
  },
  {
   "cell_type": "markdown",
   "metadata": {},
   "source": [
    "**Question 3.1.** When you run the following cell, Python produces a cryptic error message."
   ]
  },
  {
   "cell_type": "code",
   "execution_count": 12,
   "metadata": {},
   "outputs": [],
   "source": [
    "2022 = 2020 + 2.0"
   ]
  },
  {
   "cell_type": "markdown",
   "metadata": {},
   "source": [
    "Choose the best explanation of what's wrong with the code, and then assign 1, 2, 3, or 4 to `basics_part1` below to indicate your answer.\n",
    "\n",
    "1. Python is not able to add an `int` to a `float` because they are of different data types.\n",
    "\n",
    "2. The left hand side is an `int`, while the right hand side is a `float`. It should be `2022.0 = 2020 + 2.0`.\n",
    "\n",
    "3. The result should be written after the calculation. It should be `2020 + 2.0 = 2022`.\n",
    "\n",
    "4. This is creating a variable called `2022`, which doesn't make sense because `2022` is a number."
   ]
  },
  {
   "cell_type": "markdown",
   "metadata": {},
   "source": [
    "**Important: Once you have finished this question, \"comment\"  out the above code cell out by replacing it with `# 2022 = 2020 + 2.0`. This will prevent the error message from appearing when your notebook is graded.**"
   ]
  },
  {
   "cell_type": "code",
   "execution_count": 13,
   "metadata": {},
   "outputs": [],
   "source": [
    "basics_part1 = ..."
   ]
  },
  {
   "cell_type": "code",
   "execution_count": null,
   "metadata": {
    "deletable": false,
    "editable": false
   },
   "outputs": [],
   "source": [
    "grader.check(\"q3_1\")"
   ]
  },
  {
   "cell_type": "markdown",
   "metadata": {},
   "source": [
    "**Question 3.2.** Consider the following poorly-written code."
   ]
  },
  {
   "cell_type": "code",
   "execution_count": 16,
   "metadata": {},
   "outputs": [],
   "source": [
    "three = 3\n",
    "three = three * three\n",
    "three = three + three\n",
    "three = three * three\n",
    "three = -three"
   ]
  },
  {
   "cell_type": "markdown",
   "metadata": {},
   "source": [
    "As this code executes, what values does the variable `three` take on? Assign 1, 2, 3, or 4 to `basics_part2` to indicate your answer.\n",
    "\n",
    "1. The variable `three` takes on the values 3, 9, 18, 324, -324.\n",
    "\n",
    "2. The variable `three` takes on the values 3, 9, 81, 243, -243.\n",
    "\n",
    "3. The variable `three` takes on the values 3, 6, 12, 36, -36.\n",
    "\n",
    "4. The variable `three` takes on the values 3, 9, 18, -54, 54."
   ]
  },
  {
   "cell_type": "code",
   "execution_count": 17,
   "metadata": {},
   "outputs": [],
   "source": [
    "basics_part2 = ..."
   ]
  },
  {
   "cell_type": "code",
   "execution_count": null,
   "metadata": {
    "deletable": false,
    "editable": false
   },
   "outputs": [],
   "source": [
    "grader.check(\"q3_2\")"
   ]
  },
  {
   "cell_type": "markdown",
   "metadata": {},
   "source": [
    "## 4. Euclidean Distance 📐"
   ]
  },
  {
   "cell_type": "markdown",
   "metadata": {},
   "source": [
    "You might remember from math that the distance between two points in the plane, also called Euclidean distance, is calculated using the following formula:\n",
    "\n",
    "$$d  = \\sqrt{(x_2 - x_1)^2 + (y_2 - y_1)^2},$$\n",
    "\n",
    "This formula comes from the Pythagorean Theorem, as you can see in the picture below.\n",
    "\n",
    "<img src=\"./data/distance.png\"\n",
    "     width=300/>\n",
    "\n",
    "\n",
    "**Question 4.1.** Calculate the distance between the points $(15, -4)$ and $(-3, 6)$ and save your answer in the variable `distance`. Have Python perform all the intermediate calculations, such as subtracting and squaring.\n",
    "\n",
    "Note that the `math` package has not been imported. You don't need it for this question, and **you should not import it**, otherwise the autograder may error. "
   ]
  },
  {
   "cell_type": "code",
   "execution_count": 20,
   "metadata": {},
   "outputs": [],
   "source": [
    "x_1 = ...\n",
    "y_1 = ...\n",
    "\n",
    "x_2 = ...\n",
    "y_2 = ...\n",
    "\n",
    "distance = ...\n",
    "distance"
   ]
  },
  {
   "cell_type": "code",
   "execution_count": null,
   "metadata": {
    "deletable": false,
    "editable": false
   },
   "outputs": [],
   "source": [
    "grader.check(\"q4_1\")"
   ]
  },
  {
   "cell_type": "markdown",
   "metadata": {},
   "source": [
    "**Question 4.2.** Calculate the largest distance between any pair of points on the list below, and save your answer in the variable `largest_distance`. Make sure to try all pairs!\n",
    "\n",
    "- $(5, 4)$\n",
    "- $(6, -1)$\n",
    "- $(3, 6)$\n",
    "- $(-2, 3)$"
   ]
  },
  {
   "cell_type": "code",
   "execution_count": 23,
   "metadata": {},
   "outputs": [],
   "source": [
    "# Feel free to define intermediate variables to use in your solution.\n",
    "# This is a multi-step problem that shouldn't be done in one line of code!\n",
    "\n",
    "\n",
    "largest_distance = ...\n",
    "largest_distance"
   ]
  },
  {
   "cell_type": "code",
   "execution_count": null,
   "metadata": {
    "deletable": false,
    "editable": false
   },
   "outputs": [],
   "source": [
    "grader.check(\"q4_2\")"
   ]
  },
  {
   "cell_type": "markdown",
   "metadata": {},
   "source": [
    "## 5. Vaccination Rates in Southern California 💉"
   ]
  },
  {
   "cell_type": "markdown",
   "metadata": {},
   "source": [
    "In this problem, we'll quantify the \"dissimilarity\" between the COVID vaccination rates in three different counties in southern California. To do this, we will use three percentages:\n",
    "- the percentage of residents aged 5 to 11 who completed the primary series of vaccinations,\n",
    "- the percentage of residents aged 18 and up who completed the primary series of vaccinations, and\n",
    "- the percentage of booster-eligible residents who received a booster shot.\n",
    "\n",
    "The data in the table below comes from [covid19.ca.gov](https://covid19.ca.gov/vaccination-progress-data/#overview) and is accurate as of March 30, 2022. \n",
    "\n",
    "| Percent of Residents       | San Diego County  | Orange County  | Imperial County |\n",
    "|-------------------------------------------|-------------|-----------|-----------|\n",
    "| aged 5 to 11 with primary series done        | 34.3 | 31.8 | 64.3 | \n",
    "| aged 18 and up with primary series done        | 88.9 | 81.2 | 95.0 | \n",
    "| booster-eligible with booster done     | 42.7 | 59.3  | 46.3 | \n",
    "\n",
    "We define the **dissimilarity** between two cities as the largest absolute difference between their 3 respective percentages.\n",
    "\n",
    "For example, if \n",
    "* County A's percentage for *aged 5 to 11 with primary series done* is **3 more** than County B's percentage, and \n",
    "* County A's percentage for *aged 12 and up with primary series done* is **2 less** than than County B's percentage, and \n",
    "* County A's percentage for *booster-eligible with booster done* is **4 less** than County B's percentage,\n",
    "\n",
    "then we would say the dissimilarity between County A and County B is 4, since the largest of 3, 2, and 4 is 4."
   ]
  },
  {
   "cell_type": "markdown",
   "metadata": {},
   "source": [
    "**Question 5.1.** \n",
    "Using this method, compute the dissimilarity between San Diego County and Orange County.  Name the result `dissimilarity`. Use a single expression (a single line of code) to compute the answer. Let Python perform all the arithmetic (like subtracting) rather than simplifying the expression yourself. The built-in `abs` function computes absolute values. "
   ]
  },
  {
   "cell_type": "code",
   "execution_count": 26,
   "metadata": {},
   "outputs": [],
   "source": [
    "dissimilarity = ...\n",
    "dissimilarity"
   ]
  },
  {
   "cell_type": "code",
   "execution_count": null,
   "metadata": {
    "deletable": false,
    "editable": false
   },
   "outputs": [],
   "source": [
    "grader.check(\"q5_1\")"
   ]
  },
  {
   "cell_type": "markdown",
   "metadata": {},
   "source": [
    "**Question 5.2.** Which pair of counties is **most** dissimilar, according to this measurement? Assign either 1, 2, or 3 to the name `most_dissimilar` below.\n",
    "\n",
    "1. San Diego County and Orange County\n",
    "2. Orange County and Imperial County\n",
    "3. Imperial County and San Diego County"
   ]
  },
  {
   "cell_type": "code",
   "execution_count": 30,
   "metadata": {},
   "outputs": [],
   "source": [
    "most_dissimilar = ..."
   ]
  },
  {
   "cell_type": "code",
   "execution_count": null,
   "metadata": {
    "deletable": false,
    "editable": false
   },
   "outputs": [],
   "source": [
    "grader.check(\"q5_2\")"
   ]
  },
  {
   "cell_type": "markdown",
   "metadata": {},
   "source": [
    "**Question 3.** It turns out that if we eliminated a certain one of the three percentages in the table and recalculated dissimilarities based on the remaining two percentages only, we would find the dissimilarity between each pair of cities to be the same as if we had used all three percentages. In other words, one of the three rows of the table ends up not factoring into the calculation for dissimilarity for all three pairs of cities.\n",
    "\n",
    "Which percentage can be eliminated without changing the dissimilarity of any pair of cities in the table? Assign either 1, 2, or 3 to the name `disposable` below.\n",
    "\n",
    "1. The percentage of residents aged 5 to 11 who completed the primary series of vaccinations.\n",
    "2. The percentage of residents aged 18 and up who completed the primary series of vaccinations.\n",
    "3. The percentage of booster-eligible residents who received a booster shot."
   ]
  },
  {
   "cell_type": "code",
   "execution_count": 33,
   "metadata": {},
   "outputs": [],
   "source": [
    "disposable = ..."
   ]
  },
  {
   "cell_type": "code",
   "execution_count": null,
   "metadata": {
    "deletable": false,
    "editable": false
   },
   "outputs": [],
   "source": [
    "grader.check(\"q5_3\")"
   ]
  },
  {
   "cell_type": "markdown",
   "metadata": {},
   "source": [
    "## 6. Amygdala Overgrowth and Autism 🧠"
   ]
  },
  {
   "cell_type": "markdown",
   "metadata": {},
   "source": [
    "The news article below [[source](https://www.wishtv.com/news/unusual-brain-growth-during-infancy-linked-to-autism/)] discusses the results of a very recent medical study.\n",
    "\n",
    "> \"Scientists have identified an association between autism spectrum disorder and atypical brain growth during infancy.\n",
    "<br><br>\n",
    "The part of the brain affected is called the amygdala. It plays a key role in decision making, memory processing and emotional responses. \n",
    "<br><br>\n",
    "Researchers at UNC Chapel Hill followed over 400 infants between the ages of 6 months to 24 months. They assessed brain growth using MRI scans. Children who were eventually diagnosed with autism spectrum disorder were found to have a faster-growing amygdala between 6 months and 1 year compared to children who did not develop the disorder. \n",
    "<br><br>\n",
    "“The faster the amygdala grew in infancy, the more social difficulties children showed when diagnosed with autism a year later,” said lead study author, Dr. Mark Shen, in a previous interview. \n",
    "<br><br>\n",
    "Shen goes on to say identifying amygdala overgrowth before the onset of symptoms could lead to improved treatments and intervention strategies.\""
   ]
  },
  {
   "cell_type": "markdown",
   "metadata": {},
   "source": [
    "**Question 6.1.** Was this an observational study or a randomized controlled trial?\n",
    "\n",
    "If you believe this was an observational study, set the variable `autism_q1` to 1; if you believe this was a randomized controlled trial, set `autism_q1` to 2."
   ]
  },
  {
   "cell_type": "code",
   "execution_count": 36,
   "metadata": {},
   "outputs": [],
   "source": [
    "autism_q1 = ..."
   ]
  },
  {
   "cell_type": "code",
   "execution_count": null,
   "metadata": {
    "deletable": false,
    "editable": false
   },
   "outputs": [],
   "source": [
    "grader.check(\"q6_1\")"
   ]
  },
  {
   "cell_type": "markdown",
   "metadata": {},
   "source": [
    "**Question 6.2.** Consider the last sentence of the article.\n",
    "> \"Shen goes on to say identifying amygdala overgrowth before the onset of symptoms could lead to improved treatments and intervention strategies.\"\n",
    "\n",
    "Why do you think Dr. Shen uses the word **could**? Choose the best answer and assign either 1, 2, or 3 to the name `autism_q2` below.\n",
    "\n",
    "1. It’s possible there is no relationship between amygdala overgrowth and autism.\n",
    "2. It’s possible the relationship between amygdala overgrowth and autism is non-causal.\n",
    "3. It’s possible the relationship between amygdala overgrowth is causal.\n"
   ]
  },
  {
   "cell_type": "code",
   "execution_count": 39,
   "metadata": {},
   "outputs": [],
   "source": [
    "autism_q2 = ..."
   ]
  },
  {
   "cell_type": "code",
   "execution_count": null,
   "metadata": {
    "deletable": false,
    "editable": false
   },
   "outputs": [],
   "source": [
    "grader.check(\"q6_2\")"
   ]
  },
  {
   "cell_type": "markdown",
   "metadata": {},
   "source": [
    "**Question 6.3.** How could we establish whether amygdala overgrowth does indeed cause autism? Choose the best answer and assign either 1, 2, or 3 to the name `autism_q3` below.\n",
    "\n",
    "1. We could do an observational study to test this.\n",
    "2. We could do a randomized controlled trial to test this.\n",
    "3. None of the above."
   ]
  },
  {
   "cell_type": "code",
   "execution_count": 42,
   "metadata": {},
   "outputs": [],
   "source": [
    "autism_q3 = ..."
   ]
  },
  {
   "cell_type": "code",
   "execution_count": null,
   "metadata": {
    "deletable": false,
    "editable": false
   },
   "outputs": [],
   "source": [
    "grader.check(\"q6_3\")"
   ]
  },
  {
   "cell_type": "markdown",
   "metadata": {},
   "source": [
    "## 7. Strike up the Band 🎺"
   ]
  },
  {
   "cell_type": "markdown",
   "metadata": {},
   "source": [
    "The [article linked here](https://www.apa.org/news/press/releases/2019/06/music-students-score-better) highlights a study published by the American Psychological Association. The study found that high schoolers who take music courses such as band and orchestra have higher test scores in academic areas including math, science, and English. One of the authors of the study is quoted below.\n",
    "\n",
    ">“Learning to play a musical instrument and playing in an ensemble is very demanding. A student has to learn to read music notation, develop eye-hand-mind coordination, develop keen listening skills, develop team skills for playing in an ensemble and develop discipline to practice. All those learning experiences play a role in enhancing children's cognitive capacities and their self-efficacy,” he said. “We think that the effects we see are partly a result of the fact that children engaging in school music over many years mostly receive quality music instruction and need to master the high expectations of performing at a high school band or orchestra level. In fact, it is that high levels of music engagement for which we saw the strongest effects.”\n",
    "\n",
    "**Question 7.1.** Does the author give a causal or non-causal explanation for the results of the study?\n",
    "\n",
    "If you believe this is a causal explanation, set the variable `music` to 1; if you believe this is a non-causal explanation, set `music` to 2."
   ]
  },
  {
   "cell_type": "code",
   "execution_count": 45,
   "metadata": {},
   "outputs": [],
   "source": [
    "music = ..."
   ]
  },
  {
   "cell_type": "code",
   "execution_count": null,
   "metadata": {
    "deletable": false,
    "editable": false
   },
   "outputs": [],
   "source": [
    "grader.check(\"q7_1\")"
   ]
  },
  {
   "cell_type": "markdown",
   "metadata": {},
   "source": [
    "**Question 7.2.** Give your own casual explanation and your own non-causal explanation for the results of the study. Give reasons other than those mentioned above. Make sure to specify which is the causal reason and which is the non-causal reason."
   ]
  },
  {
   "cell_type": "markdown",
   "metadata": {
    "deletable": false,
    "editable": false
   },
   "source": [
    "<!-- BEGIN QUESTION -->\n",
    "\n",
    "<!--\n",
    "BEGIN QUESTION\n",
    "name: q7_2\n",
    "manual: true\n",
    "-->"
   ]
  },
  {
   "cell_type": "markdown",
   "metadata": {},
   "source": [
    "_Type your answer here, replacing this text._"
   ]
  },
  {
   "cell_type": "markdown",
   "metadata": {},
   "source": [
    "<!-- END QUESTION -->\n",
    "\n",
    "\n",
    "\n",
    "## 8. Concussions in Athletes ⛹️‍♀️"
   ]
  },
  {
   "cell_type": "markdown",
   "metadata": {},
   "source": [
    "The following is an excerpt from a news article on the effects of recent legislation intended to prevent concussions in athletes.\n",
    "\n",
    "> “Since 2014, all 50 states and the District of Columbia have passed laws to protect young athletes against traumatic brain injury (TBI). Washington State was the first in 2009.\n",
    "<br><br>\n",
    "Most of the laws require athletes with suspected concussions to stop playing until a doctor clears them to return. Coaches, players, and parents must also receive yearly education about concussions.\n",
    "<br><br>\n",
    "Between fall 2005 and spring 2016, student athletes reported about 2.7 million concussions. Of those, 89 percent were new and 11 percent were repeat injuries.\n",
    "<br><br>\n",
    "In 2005, nearly 135,000 initial concussions were reported. The number jumped to more than 360,000 by 2016.\n",
    "<br><br>\n",
    "After concussion laws were introduced, however, repeat injuries fell dramatically, from about 14 percent of all concussions in 2005 to roughly 7 percent in 2016.\""
   ]
  },
  {
   "cell_type": "markdown",
   "metadata": {},
   "source": [
    "Which of the following is the most likely explanation for the fact that initial concussions nearly tripled from 135,000 in 2005 to 360,000 in 2016? Choose the best answer and assign either 1, 2, 3, or 4 to the name `athletes` below.\n",
    "\n",
    "1. An increase in the danger of athletics.\n",
    "2. An increase in the number of athletes.\n",
    "3. An increase in awareness about concussions.\n",
    "4. An increase in the population of the United States."
   ]
  },
  {
   "cell_type": "code",
   "execution_count": 48,
   "metadata": {},
   "outputs": [],
   "source": [
    "athletes = ..."
   ]
  },
  {
   "cell_type": "code",
   "execution_count": null,
   "metadata": {
    "deletable": false,
    "editable": false
   },
   "outputs": [],
   "source": [
    "grader.check(\"q8\")"
   ]
  },
  {
   "cell_type": "markdown",
   "metadata": {},
   "source": [
    "## 9. Randomized Controlled Experiments 🎲"
   ]
  },
  {
   "cell_type": "markdown",
   "metadata": {},
   "source": [
    "Which of these questions **cannot** be answered by running a randomized controlled experiment? Choose the best answer and assign either 1, 2, 3, or 4 to the name `no_rct` below.\n",
    "\n",
    "\n",
    "1. Does education in how Covid is spread make people more likely to wear masks?\n",
    "2. Does spending less time on Zoom promote better sleep?\n",
    "3. Does getting fired make someone less likely to recommend their employer?\n",
    "4. Does waking up early increase one's cancer risk? "
   ]
  },
  {
   "cell_type": "code",
   "execution_count": 51,
   "metadata": {},
   "outputs": [],
   "source": [
    "no_rct = ..."
   ]
  },
  {
   "cell_type": "code",
   "execution_count": null,
   "metadata": {
    "deletable": false,
    "editable": false
   },
   "outputs": [],
   "source": [
    "grader.check(\"q9\")"
   ]
  },
  {
   "cell_type": "markdown",
   "metadata": {},
   "source": [
    "## Finish Line: Almost there, but make sure to follow the steps below to submit! 🏁"
   ]
  },
  {
   "cell_type": "markdown",
   "metadata": {},
   "source": [
    "1. Make sure to comment out the code in Question 3.1 that causes an error.\n",
    "2. Select `Kernel -> Restart & Run All` to ensure that you have executed all cells, including the test cells. \n",
    "2. Read through the notebook to make sure all cells ran and all tests passed.\n",
    "3. Run the cell below to run all tests, and make sure that they all pass.\n",
    "4. Download your notebook using `File -> Download as -> Notebook (.ipynb)`, then upload your notebook to Gradescope.\n",
    "5. For a lab, the grade you see on Gradescope is your score on the assignment. For a homework or a project, the grade you see on Gradescope is **not your final score**. We will run correctness tests after the assignment's due date has passed."
   ]
  },
  {
   "cell_type": "code",
   "execution_count": 54,
   "metadata": {},
   "outputs": [],
   "source": [
    "grader.check_all()"
   ]
  }
 ],
 "metadata": {
  "kernelspec": {
   "display_name": "Python 3 (ipykernel)",
   "language": "python",
   "name": "python3"
  },
  "language_info": {
   "codemirror_mode": {
    "name": "ipython",
    "version": 3
   },
   "file_extension": ".py",
   "mimetype": "text/x-python",
   "name": "python",
   "nbconvert_exporter": "python",
   "pygments_lexer": "ipython3",
   "version": "3.9.7"
  }
 },
 "nbformat": 4,
 "nbformat_minor": 4
}
