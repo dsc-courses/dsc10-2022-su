{
 "cells": [
  {
   "cell_type": "markdown",
   "metadata": {},
   "source": [
    "# Homework 3: Data Visualization and Python Functions\n",
    "\n",
    "## Due Saturday, July 23th at 11:59pm PST\n",
    "\n",
    "Welcome to Homework 3! This week, we will cover DataFrame manipulations, making visualizations, and defining functions. You can find additional help on these topics in [Notes 11-17](https://notes.dsc10.com/02-data_sets/groupby.html) in the course notes."
   ]
  },
  {
   "cell_type": "markdown",
   "metadata": {},
   "source": [
    "### Instructions\n",
    "\n",
    "This assignment is due on Saturday, July 23rd at 11:59pm. You are given six slip days throughout the quarter to extend deadlines. See the syllabus for more details. With the exception of using slip days, late work will not be accepted unless you have made special arrangements with your instructor.\n",
    "\n",
    "**Important**: For homeworks, the `otter` tests don't usually tell you that your answer is correct. More often, they help catch careless mistakes. It's up to you to ensure that your answer is correct. If you're not sure, ask someone (not for the answer, but for some guidance about your approach). These are great questions for office hours (see the schedule on the [Calendar](https://dsc10.com/calendar)) or Campuswire. Directly sharing answers is not okay, but discussing problems with the course staff or with other students is encouraged.\n",
    "\n",
    "**Please do not use for-loops for any questions in this homework.** If you don't know what a for-loop is, don't worry -- we haven't covered them yet. But if you do know what they are and are wondering why it's not OK to use them, it is because loops in Python are slow, and looping over arrays and DataFrames should usually be avoided."
   ]
  },
  {
   "cell_type": "code",
   "execution_count": 1,
   "metadata": {},
   "outputs": [],
   "source": [
    "# Please don't change this cell, but do make sure to run it\n",
    "import babypandas as bpd\n",
    "import numpy as np\n",
    "\n",
    "import matplotlib.pyplot as plt\n",
    "plt.style.use('fivethirtyeight')\n",
    "\n",
    "import otter\n",
    "grader = otter.Notebook()\n",
    "\n",
    "%reload_ext pandas_tutor"
   ]
  },
  {
   "cell_type": "markdown",
   "metadata": {},
   "source": [
    "## 1. Winter is Coming ❄️ ⚔️"
   ]
  },
  {
   "cell_type": "markdown",
   "metadata": {},
   "source": [
    "<img src=\"./images/Game_of_Thrones.jpeg\" width=400/>\n",
    "\n",
    "*Game of Thrones* is a hit fantasy-adventure series based on George R.R. Martin's book series, \"A Song of Ice and Fire.\" The series is set in a fictional world, where powerful families, or \"houses\", fight for control of the Seven Kingdoms. In this question, we will investigate these battles.\n",
    "The data used in this question comes from [Chris Albon's \"The\n",
    "War of the Five Kings\" dataset](https://github.com/chrisalbon/war_of_the_five_kings_dataset), which contains detailed information on all of the battles in the series.\n",
    "\n",
    "The file named `battles.csv` in the `data/` directory has a row for each battle, and the following columns.\n",
    "\n",
    "|Column|Description|\n",
    "|------|-----------|\n",
    "|`'name'`|The name of the battle.|\n",
    "|`'year'`|The year in which the battle took place (the dataset contains battles from the years 298-300).|\n",
    "|`'attacker_king'`|The name of the king who was on the attacking side of the battle.|\n",
    "|`'defender_king'`|The name of the king who was on the defending side of the battle.|\n",
    "|`'major_death'`|Indicates whether a major character died during the battle. Values of `1.0` mean that some major character died, `0.0` means not.|\n",
    "|`'major_capture'`|Indicates whether a major character was captured during the battle. Values of `1.0` mean that some major character was captured, `0.0` means not.|\n",
    "|`'attacker_size'`|Number of people in the attacking army.|\n",
    "|`'defender_size'`|Number of people in the defending army.|\n",
    "|`'summer'`|Indicates if the battle took place in summer. Values of `1.0` mean the battle was in summer, `0.0` means not.|\n",
    "|`'location'`|The specific location where the battle took place.|\n",
    "|`'region'`|The more general region where the battle took place.|\n",
    "|`'attacker_win'`| Indicates whether the attacking army won the battle. Values of `1.0` mean the attackers won, `0.0` means they lost.|"
   ]
  },
  {
   "cell_type": "markdown",
   "metadata": {},
   "source": [
    "First, we'll read the data in as a DataFrame."
   ]
  },
  {
   "cell_type": "code",
   "execution_count": 2,
   "metadata": {},
   "outputs": [],
   "source": [
    "battles = bpd.read_csv('data/battles.csv')\n",
    "battles"
   ]
  },
  {
   "cell_type": "markdown",
   "metadata": {},
   "source": [
    "You may notice the DataFrame has many `NaN` values. `NaN` means \"not a number,\" and it's how `babypandas` handles missing values. You don't need to worry about these, as they won't affect any of the calculations. Python knows to ignore them."
   ]
  },
  {
   "cell_type": "markdown",
   "metadata": {},
   "source": [
    "Let's explore particular columns to get to know the data a little better. The `.describe()` method gives us some useful information about a column. Try it out on the `name` column."
   ]
  },
  {
   "cell_type": "code",
   "execution_count": 3,
   "metadata": {
    "scrolled": true
   },
   "outputs": [],
   "source": [
    "battles.get('name').describe()"
   ]
  },
  {
   "cell_type": "markdown",
   "metadata": {},
   "source": [
    "We learn that this column has 38 values, all of which are unique, and as a result the most frequent name appears only once.\n",
    "\n",
    "If we try this same command on the `'attacker_king'` column, we'll see that although there are 36 values (and therefore 2 missing values), there are only 4 distinct values. There are many battles with the same `'attacker_king'`. The most common `'attacker_king'` is `'Joffrey/Tommen Baratheon'` with 14 instances. "
   ]
  },
  {
   "cell_type": "code",
   "execution_count": 4,
   "metadata": {
    "scrolled": true
   },
   "outputs": [],
   "source": [
    "battles.get('attacker_king').describe()"
   ]
  },
  {
   "cell_type": "markdown",
   "metadata": {},
   "source": [
    "**Question 1.1.** We want to use some column as an index to help us better understand what each row represents. Which column would be the best index for this dataset? Set the index of `battles` to whichever column makes the most sense. "
   ]
  },
  {
   "cell_type": "code",
   "execution_count": 5,
   "metadata": {
    "scrolled": true
   },
   "outputs": [],
   "source": [
    "battles = ...\n",
    "battles"
   ]
  },
  {
   "cell_type": "code",
   "execution_count": null,
   "metadata": {
    "deletable": false,
    "editable": false
   },
   "outputs": [],
   "source": [
    "grader.check(\"q1_1\")"
   ]
  },
  {
   "cell_type": "markdown",
   "metadata": {},
   "source": [
    "**Question 1.2.** Assign `weakest_attack` and `weakest_defense` to the **names** of the battles with the smallest attacking army and smallest defending army, respectively.\n",
    "\n",
    "Similarly, assign `strongest_attack` and `strongest_defense` to the **names** of the battles with the largest attacking army and largest defending army, respectively.\n",
    "\n",
    "In the case of a tie, choose any one of the armies involved in the tie.\n",
    "\n",
    "_**Hint:**_ When sorting values, `NaN` is always sorted to the last position, no matter if you chose to sort in ascending or descending order. Since there are `NaN` values in this dataset, accessing the last index will probably give you an incorrect answer. Sort accordingly!"
   ]
  },
  {
   "cell_type": "code",
   "execution_count": 9,
   "metadata": {},
   "outputs": [],
   "source": [
    "weakest_attack = ...\n",
    "print(\"Weakest attack:\", weakest_attack)\n",
    "\n",
    "strongest_attack = ...\n",
    "print(\"Strongest attack:\", strongest_attack)\n",
    "\n",
    "weakest_defense = ...\n",
    "print(\"Weakest defense:\", weakest_defense)\n",
    "\n",
    "strongest_defense = ...\n",
    "print(\"Strongest defense:\", strongest_defense)"
   ]
  },
  {
   "cell_type": "code",
   "execution_count": null,
   "metadata": {
    "deletable": false,
    "editable": false
   },
   "outputs": [],
   "source": [
    "grader.check(\"q1_2\")"
   ]
  },
  {
   "cell_type": "markdown",
   "metadata": {},
   "source": [
    "**Question 1.3.** Leaders often like to choose where their battles are fought so they can gain an advantage over their opponent.  Make a DataFrame named `river_north_storm` containing only the the battles from `\"The Riverlands\"`, `\"The North\"`, and `\"The Stormlands\"` regions. All columns of `battles` should be included."
   ]
  },
  {
   "cell_type": "code",
   "execution_count": 15,
   "metadata": {},
   "outputs": [],
   "source": [
    "river_north_storm = ...\n",
    "river_north_storm"
   ]
  },
  {
   "cell_type": "code",
   "execution_count": null,
   "metadata": {
    "deletable": false,
    "editable": false
   },
   "outputs": [],
   "source": [
    "grader.check(\"q1_3\")"
   ]
  },
  {
   "cell_type": "markdown",
   "metadata": {},
   "source": [
    "**Question 1.4.** Make an appropriate plot that would help you answer the question,\n",
    "\n",
    "> Among battles from `\"Riverlands\"`, `\"The North\"`, and `\"The Stormlands\"` regions, do those with larger `attacker_size` also have larger `defender_size`?\n",
    "\n",
    "You only need to make a plot, you don't need to answer the question above.\n",
    "\n",
    "_**Note**_: The plot should only include battles for which you have available data for both `attacker_size` and `defender_size`."
   ]
  },
  {
   "cell_type": "markdown",
   "metadata": {
    "deletable": false,
    "editable": false
   },
   "source": [
    "<!-- BEGIN QUESTION -->\n",
    "\n",
    "<!--\n",
    "BEGIN QUESTION\n",
    "name: q1_4\n",
    "manual: true\n",
    "-->"
   ]
  },
  {
   "cell_type": "code",
   "execution_count": 20,
   "metadata": {},
   "outputs": [],
   "source": [
    "# Create your plot here\n",
    "..."
   ]
  },
  {
   "cell_type": "markdown",
   "metadata": {},
   "source": [
    "<!-- END QUESTION -->\n",
    "\n",
    "\n",
    "\n",
    "**Question 1.5.** Some characters in *Game of Thrones* have a large impact on the plot. When they die in battle, we record their deaths in the `major_death` column, which has a value of `1.0` if a major death occurred in that battle and `0.0` otherwise.\n",
    "\n",
    "Create a DataFrame named `major_deaths`, indexed by `'attacker_king'`. This DataFrame should have one column called `'num_major'`, that contains the total number of major deaths that each `attacker_king` saw in their battles.\n",
    "\n",
    "_**Hint:**_ You will need to change the names of columns, which you can do using `.assign` and `.drop`. Instead of using `.drop`, you may want to use `.get` and pass in a `list` containing the name of a single column that you want to keep (this was done in Lecture 8)."
   ]
  },
  {
   "cell_type": "code",
   "execution_count": 21,
   "metadata": {},
   "outputs": [],
   "source": [
    "major_deaths = ...\n",
    "major_deaths"
   ]
  },
  {
   "cell_type": "code",
   "execution_count": null,
   "metadata": {
    "deletable": false,
    "editable": false
   },
   "outputs": [],
   "source": [
    "grader.check(\"q1_5\")"
   ]
  },
  {
   "cell_type": "markdown",
   "metadata": {},
   "source": [
    "**Question 1.6.** It turns out that there is at least one `'attacker_king'` that never had any major deaths in their battles. Below, assign `happy_kings` to an array of the name(s) of these `'attacker_king'`(s)."
   ]
  },
  {
   "cell_type": "code",
   "execution_count": 26,
   "metadata": {},
   "outputs": [],
   "source": [
    "happy_kings = ...\n",
    "happy_kings "
   ]
  },
  {
   "cell_type": "code",
   "execution_count": null,
   "metadata": {
    "deletable": false,
    "editable": false
   },
   "outputs": [],
   "source": [
    "grader.check(\"q1_6\")"
   ]
  },
  {
   "cell_type": "markdown",
   "metadata": {},
   "source": [
    "**Question 1.7.** Suppose that you are royalty in the *Game of Thrones* universe, and you want to conquer more land. You want to team up with the strongest kings, so you're trying to find out who can give you the best attacking army. We want to find armies with the largest average army size (`'attacker_size'` column), those who manage to get rid of their enemies' leaders the most on average, (`'major_death'` column), and those who win the most on average, (`'attacker_win'` column).\n",
    "\n",
    "\n",
    "Create a DataFrame called `mean_stats`, indexed by `'attacker_king'`, that contains the means of these three columns for each king. `mean_stats` should only have these three columns, in this order: `'attacker_size'`, `'major_death'`, and `'attacker_win'`.\n",
    "\n",
    "\n"
   ]
  },
  {
   "cell_type": "code",
   "execution_count": 30,
   "metadata": {},
   "outputs": [],
   "source": [
    "mean_stats = ...\n",
    "mean_stats"
   ]
  },
  {
   "cell_type": "code",
   "execution_count": null,
   "metadata": {
    "deletable": false,
    "editable": false
   },
   "outputs": [],
   "source": [
    "grader.check(\"q1_7\")"
   ]
  },
  {
   "cell_type": "markdown",
   "metadata": {},
   "source": [
    "**Question 1.8.** While it might make for an entertaining show, it would be no fun to participate in a big battle. From the perspective of a soldier in battle, we'll say that a battle is considered \"bad\" if there were lots of attackers/defenders involved, if important people were captured, and if important people were killed. Additionally, we'll say that battles that take place in summer are considered worse, as the heat makes it harder for soldiers to carry heavy armor and equipment.\n",
    "\n",
    "A battle's \"badness rating\" is a weighted average of these, which can be defined as follows:\n",
    "\n",
    "- ``'attacker_size'``: 25%\n",
    "- ``'defender_size'``: 25%\n",
    "- ``'major_death'``: 25%\n",
    "- ``'major_capture'``: 15%\n",
    "- ``'summer'``: 10%\n",
    "\n",
    "Define a function called `calculate_badness` that takes in a battle's name and outputs the battle's \"badness rating\".\n",
    "\n",
    "_**Hint:**_ It may be helpful to work out an example by hand to ensure you know how the calculation is meant to be performed. For example, `'Battle of the Whispering Wood'` has an `'attacker_size'` of 1875, `'defender_size'` of 6000, `'major_death'` of 1.0, `'major_capture'` of 1.0, and `'summer'` of 1.0, so  `calculate_badness(\"Battle of the Whispering Wood\")` should return 1969.25. Once you've implemented `calculate_badness`, you should verify that your function works as intended. This is good practice in general!"
   ]
  },
  {
   "cell_type": "code",
   "execution_count": 35,
   "metadata": {},
   "outputs": [],
   "source": [
    "def calculate_badness(name):\n",
    "    ..."
   ]
  },
  {
   "cell_type": "code",
   "execution_count": null,
   "metadata": {
    "deletable": false,
    "editable": false
   },
   "outputs": [],
   "source": [
    "grader.check(\"q1_8\")"
   ]
  },
  {
   "cell_type": "markdown",
   "metadata": {},
   "source": [
    "**Question 1.9.** Use the `calculate_badness` function you've already written, along with the `.apply` method, to create an **array** called `badness_array` that contains the \"badness rating\" of each battle, in the same order as the rows of the `battles` DataFrame. Many battles may not have a \"badness rating\" if some data needed to calculate it is missing.\n",
    "\n",
    "_**Hint**_: Note that the `.apply` method allows you to apply a function to any *column* in a DataFrame, but not to the index. Instead, try using `.apply` on a version of the DataFrame that has the index reset to its default."
   ]
  },
  {
   "cell_type": "code",
   "execution_count": 40,
   "metadata": {
    "scrolled": true
   },
   "outputs": [],
   "source": [
    "badness_array = ...\n",
    "badness_array"
   ]
  },
  {
   "cell_type": "code",
   "execution_count": null,
   "metadata": {
    "deletable": false,
    "editable": false
   },
   "outputs": [],
   "source": [
    "grader.check(\"q1_9\")"
   ]
  },
  {
   "cell_type": "markdown",
   "metadata": {},
   "source": [
    "**Question 1.10.** Create a DataFrame called `with_badness` that contains all the columns of `battles` plus one more called `'badness'`, containing the values in `badness_array`. Order the rows in descending order of `'badness'`. \n",
    "\n",
    "Then, save the name of the worst battle as `worst_battle`. Here, the worst means having the largest \"badness rating.\""
   ]
  },
  {
   "cell_type": "code",
   "execution_count": 44,
   "metadata": {},
   "outputs": [],
   "source": [
    "with_badness = ...\n",
    "worst_battle = ...\n",
    "print('The battle with the largest \"badness rating\" is:', worst_battle)\n",
    "with_badness"
   ]
  },
  {
   "cell_type": "code",
   "execution_count": null,
   "metadata": {
    "deletable": false,
    "editable": false
   },
   "outputs": [],
   "source": [
    "grader.check(\"q1_10\")"
   ]
  },
  {
   "cell_type": "markdown",
   "metadata": {},
   "source": [
    "## 2. Club Penguin 🐧 "
   ]
  },
  {
   "cell_type": "markdown",
   "metadata": {},
   "source": [
    "In this question, we will explore a dataset containing size measurements for three penguin species observed on three islands in the Palmer Archipelago, Antarctica. The data was collected by Dr. Kristen Gorman, a marine biologist, from 2007 to 2009. Below is a picture of Dr. Gorman and her fellow researchers in action:"
   ]
  },
  {
   "cell_type": "markdown",
   "metadata": {},
   "source": [
    "<img src=\"./images/q2_dr_gorman.jpg\" width=300/> "
   ]
  },
  {
   "cell_type": "markdown",
   "metadata": {},
   "source": [
    "Let's break down the columns in our dataset. "
   ]
  },
  {
   "cell_type": "markdown",
   "metadata": {},
   "source": [
    "#### `'species'`\n",
    "\n",
    "There are three species of penguin in our dataset: Adelie, Chinstrap, and Gentoo.\n",
    "\n",
    "<img src=\"./images/q2_lter_penguins.png\" width=350/>"
   ]
  },
  {
   "cell_type": "markdown",
   "metadata": {},
   "source": [
    "#### `'island'`\n",
    "\n",
    "Dr. Gorman recorded data on penguins from three islands: Biscoe, Dream, and Torgersen. Below is a map:\n",
    "\n",
    "<img src=\"./images/q2_map.png\" width=350/>"
   ]
  },
  {
   "cell_type": "markdown",
   "metadata": {},
   "source": [
    "#### `'bill_length_mm'` and  `'bill_depth_mm'`\n",
    "\n",
    "These are physical attributes of individual penguins. Below is an illustration:\n",
    "\n",
    "<img src=\"./images/q2_culmen_depth.png\" width=350/>"
   ]
  },
  {
   "cell_type": "markdown",
   "metadata": {},
   "source": [
    "#### `'flipper_length_mm'`, `'body_mass_g'`, and `'sex'`\n",
    "\n",
    "Although penguins are birds that cannot fly, their wing, or flipper, structures are optimized for swimming. Here is a National Geographic [video](https://youtu.be/A9mbCNs47FI) showcasing the amazing swimming ability of penguins. The mass of the penguin is another attribute that was recorded in grams, and the sex of the penguin was recorded as either male or female. "
   ]
  },
  {
   "cell_type": "markdown",
   "metadata": {},
   "source": [
    "Run the next cell to load in the data. We have cleaned the data beforehand to ensure there are no missing values. Take some time to look at a few rows of the DataFrame to see what information is recorded."
   ]
  },
  {
   "cell_type": "code",
   "execution_count": 50,
   "metadata": {},
   "outputs": [],
   "source": [
    "# Run this cell to load the dataset.\n",
    "penguins = bpd.read_csv('data/penguins.csv')\n",
    "penguins"
   ]
  },
  {
   "cell_type": "markdown",
   "metadata": {},
   "source": [
    "**Question 2.1.** Suppose we're curious about how the mean bill length varies between penguin species. Assign `species_mean_bill` to a DataFrame with a single column, `'bill_length_mm'`, that contains the mean bill length for each species. `'species'` should be the index."
   ]
  },
  {
   "cell_type": "code",
   "execution_count": 51,
   "metadata": {},
   "outputs": [],
   "source": [
    "species_mean_bill = ...\n",
    "species_mean_bill"
   ]
  },
  {
   "cell_type": "code",
   "execution_count": null,
   "metadata": {
    "deletable": false,
    "editable": false
   },
   "outputs": [],
   "source": [
    "grader.check(\"q2_1\")"
   ]
  },
  {
   "cell_type": "markdown",
   "metadata": {
    "deletable": false,
    "editable": false
   },
   "source": [
    "**Question 2.2.** Below, write code to find the name of the species with the largest mean bill length, and assign the name `species_largest_bill` to the result.\n",
    "\n",
    "<!--\n",
    "BEGIN QUESTION\n",
    "name: q2_2\n",
    "-->"
   ]
  },
  {
   "cell_type": "code",
   "execution_count": 54,
   "metadata": {},
   "outputs": [],
   "source": [
    "species_largest_bill = ...\n",
    "species_largest_bill"
   ]
  },
  {
   "cell_type": "code",
   "execution_count": null,
   "metadata": {
    "deletable": false,
    "editable": false
   },
   "outputs": [],
   "source": [
    "grader.check(\"q2_2\")"
   ]
  },
  {
   "cell_type": "markdown",
   "metadata": {},
   "source": [
    "**Question 2.3** We want to visualize the **mean bill length** (in mm) for each species. Which visualization is the most appropriate? Assign an integer from 1 to 6 representing your answer to the name `q2_3`.\n",
    "\n",
    " 1. Histogram\n",
    " 2. Line plot\n",
    " 3. Scatterplot\n",
    " 4. Bar chart\n",
    " 5. Boxplot\n",
    " 6. None of the above"
   ]
  },
  {
   "cell_type": "code",
   "execution_count": 57,
   "metadata": {},
   "outputs": [],
   "source": [
    "q2_3 = ...\n",
    "q2_3"
   ]
  },
  {
   "cell_type": "code",
   "execution_count": null,
   "metadata": {
    "deletable": false,
    "editable": false
   },
   "outputs": [],
   "source": [
    "grader.check(\"q2_3\")"
   ]
  },
  {
   "cell_type": "markdown",
   "metadata": {},
   "source": [
    "**Question 2.4.** Using your `species_mean_bill` DataFrame from Question 2.1, generate a visualization that shows the mean bill length (in mm) for each species. Don't worry about sorting.\n",
    "\n",
    "_**Hint:**_ Your visualization type should be the one you selected in Question 2.3. If it doesn't make sense, try a different type of visualization!"
   ]
  },
  {
   "cell_type": "markdown",
   "metadata": {
    "deletable": false,
    "editable": false
   },
   "source": [
    "<!-- BEGIN QUESTION -->\n",
    "\n",
    "<!--\n",
    "BEGIN QUESTION\n",
    "name: q2_4\n",
    "manual: true\n",
    "-->"
   ]
  },
  {
   "cell_type": "code",
   "execution_count": 60,
   "metadata": {},
   "outputs": [],
   "source": [
    "# Create your plot here\n",
    "..."
   ]
  },
  {
   "cell_type": "markdown",
   "metadata": {},
   "source": [
    "<!-- END QUESTION -->\n",
    "\n",
    "\n",
    "\n",
    "**Question 2.5.** Assign `tor_ade` to a DataFrame that only contains rows for Adelie penguins on Torgersen Island. `tor_ade` should have all of the columns in `penguins` except for `'species'` and `'island'`, which will now be redundant (since all of the penguins in `tor_ade` will have the same `'species'` and `'island'`)."
   ]
  },
  {
   "cell_type": "code",
   "execution_count": 61,
   "metadata": {},
   "outputs": [],
   "source": [
    "tor_ade = ...\n",
    "tor_ade"
   ]
  },
  {
   "cell_type": "code",
   "execution_count": null,
   "metadata": {
    "deletable": false,
    "editable": false
   },
   "outputs": [],
   "source": [
    "grader.check(\"q2_5\")"
   ]
  },
  {
   "cell_type": "markdown",
   "metadata": {},
   "source": [
    "**Question 2.6.** Calculate the proportion of Adelie penguins on Torgersen Island that have a mass of over 4000 grams, and assign the result to `proportion_above_4000g`."
   ]
  },
  {
   "cell_type": "code",
   "execution_count": 65,
   "metadata": {},
   "outputs": [],
   "source": [
    "proportion_above_4000g = ...\n",
    "proportion_above_4000g"
   ]
  },
  {
   "cell_type": "code",
   "execution_count": null,
   "metadata": {
    "deletable": false,
    "editable": false
   },
   "outputs": [],
   "source": [
    "grader.check(\"q2_6\")"
   ]
  },
  {
   "cell_type": "markdown",
   "metadata": {},
   "source": [
    "**Question 2.7.** Create a density histogram showing the distribution of the body mass of Adelie penguins on Torgersen Island. Your histogram should have 10 bars in total (you can accomplish this by setting `bins=10`).\n",
    "\n",
    "Make sure to set `density=True` to create a density histogram, and set `ec='w'` to make the separation of bars more clear."
   ]
  },
  {
   "cell_type": "markdown",
   "metadata": {
    "deletable": false,
    "editable": false
   },
   "source": [
    "<!-- BEGIN QUESTION -->\n",
    "\n",
    "<!--\n",
    "BEGIN QUESTION\n",
    "name: q2_7\n",
    "manual: true\n",
    "-->"
   ]
  },
  {
   "cell_type": "code",
   "execution_count": 68,
   "metadata": {},
   "outputs": [],
   "source": [
    "# Create your plot here\n",
    "..."
   ]
  },
  {
   "cell_type": "markdown",
   "metadata": {},
   "source": [
    "<!-- END QUESTION -->\n",
    "\n",
    "\n",
    "\n",
    "<br>"
   ]
  },
  {
   "cell_type": "markdown",
   "metadata": {
    "deletable": false,
    "editable": false
   },
   "source": [
    "**Question 2.8.** Finally, we're interested in understanding the median `'flipper_length_mm'` of penguins from every combination of `'species'` and `'island'`. \n",
    "\n",
    "Below, assign `median_flipper_lengths` to a DataFrame with three columns, `'species'`, `'island'`, and `'flipper_length_mm'`. Each row of `median_flipper_lengths` should correspond to a different combination of `'species'` and `'island'`.\n",
    "\n",
    "_**Hint 1:**_ In order to create the desired DataFrame, you will have to group by more than one column. Please read [Note 11.4](https://notes.dsc10.com/02-data_sets/groupby.html) on grouping with subgroups for more information.\n",
    "\n",
    "_**Hint 2:**_ Remember to use `.reset_index()` after you group by multiple columns to get rid of the \"multi-index\".\n",
    "\n",
    "<!--\n",
    "BEGIN QUESTION\n",
    "name: q2_8\n",
    "-->"
   ]
  },
  {
   "cell_type": "code",
   "execution_count": 69,
   "metadata": {},
   "outputs": [],
   "source": [
    "median_flipper_lengths = ...\n",
    "median_flipper_lengths"
   ]
  },
  {
   "cell_type": "code",
   "execution_count": null,
   "metadata": {
    "deletable": false,
    "editable": false
   },
   "outputs": [],
   "source": [
    "grader.check(\"q2_8\")"
   ]
  },
  {
   "cell_type": "markdown",
   "metadata": {},
   "source": [
    "Say goodbye to our penguins!\n",
    "\n",
    "<img src=\"./images/q2_all3.png\" width=350/>"
   ]
  },
  {
   "cell_type": "markdown",
   "metadata": {},
   "source": [
    "## 3. Ramen🍜"
   ]
  },
  {
   "cell_type": "markdown",
   "metadata": {},
   "source": [
    "Instant ramen was first invented by Momofuku Ando in 1958 to cure hunger during wartime. It started off with only one kind for its original purpose, but the ramen industry has expanded over the years, and now there are over 100 different kinds of instant ramen. Ramen has not only made its way to the dinner table but also to some popular game shows, TV series, and even museums! Click [here](https://www.cupnoodles-museum.jp/en/osaka_ikeda/) to read more!\n",
    "\n",
    "\n",
    "<img src=\"./images/noodles-lowres-8607.png\" width=350/>"
   ]
  },
  {
   "cell_type": "markdown",
   "metadata": {},
   "source": [
    "We have a [dataset of instant ramen ratings from Kaggle](https://www.kaggle.com/datasets/residentmario/ramen-ratings?resource=download). First, we'll read in the data from a CSV. There is no good index, so we will leave it unset."
   ]
  },
  {
   "cell_type": "code",
   "execution_count": 75,
   "metadata": {},
   "outputs": [],
   "source": [
    "ramen_data = bpd.read_csv('data/ramen-rating.csv')\n",
    "ramen_data"
   ]
  },
  {
   "cell_type": "markdown",
   "metadata": {},
   "source": [
    "Notice that the `'Country'` column contains a country code. We want to convert these country codes into actual country names that everyone can understand.\n",
    "\n",
    "We'll use a Python [dictionary](https://www.tutorialspoint.com/python/python_dictionary.htm) to help us with this conversion. A dictionary is a simple way to map a unique key to a value. For example, the below dictionary maps course codes to course names."
   ]
  },
  {
   "cell_type": "code",
   "execution_count": 76,
   "metadata": {},
   "outputs": [],
   "source": [
    "dsc_courses = {\n",
    "    # key: value\n",
    "    'DSC 10': 'Principles of Data Science',\n",
    "    'DSC 20': 'Programming and Basic Data Structures for Data Science',\n",
    "    'DSC 30': 'Data Structures and Algorithms for Data Science',\n",
    "    'DSC 40A': 'Theoretical Foundations of Data Science I',\n",
    "    'DSC 40B': 'Theoretical Foundations of Data Science II',\n",
    "    'DSC 80': 'The Practice and Application of Data Science'\n",
    "}"
   ]
  },
  {
   "cell_type": "markdown",
   "metadata": {},
   "source": [
    "We can access the value corresponding to each key using bracket notation."
   ]
  },
  {
   "cell_type": "code",
   "execution_count": 77,
   "metadata": {},
   "outputs": [],
   "source": [
    "dsc30_name = dsc_courses['DSC 30']\n",
    "dsc30_name"
   ]
  },
  {
   "cell_type": "markdown",
   "metadata": {},
   "source": [
    "Here, `'DSC 30'` is the key and `'Data Structures and Algorithms for Data Science'` is the value.\n",
    "\n",
    "Let's use a dictionary to help us with our country code to country name conversion. Below is a dictionary containing country codes as keys and country names as values for each of the countries in our ramen dataset."
   ]
  },
  {
   "cell_type": "code",
   "execution_count": 78,
   "metadata": {},
   "outputs": [],
   "source": [
    "# Run this cell, DO NOT change it.\n",
    "country_codes = {\n",
    "    'AU':'Australia',\n",
    "    'BD':'Bangladesh', \n",
    "    'BR':'Brazil', \n",
    "    'KH':'Cambodia' , \n",
    "    'CA':'Canada', \n",
    "    'CN':'China',\n",
    "    'CO':'Colombia', \n",
    "    'DXB':'Dubai' , \n",
    "    'EE':'Estonia' , \n",
    "    'FIJI':'Fiji', \n",
    "    'FI':'Finland' , \n",
    "    'DE':'Germany',\n",
    "    'GHAN':'Ghana' , \n",
    "    'NL':'Holland', \n",
    "    'HK':'Hong Kong', \n",
    "    'HU':'Hungary', \n",
    "    'IN':'India', \n",
    "    'ID':'Indonesia',\n",
    "    'JP':'Japan', \n",
    "    'MY':'Malaysia', \n",
    "    'MX':'Mexico', \n",
    "    'MM':'Myanmar', \n",
    "    'NP':'Nepal', \n",
    "    'AN':'Netherlands',\n",
    "    'NG':'Nigeria', \n",
    "    'PK':'Pakistan', \n",
    "    'PH':'Philippines', \n",
    "    'PL':'Poland', \n",
    "    'SWK':'Sarawak',\n",
    "    'SG':'Singapore', \n",
    "    'KOR':'South Korea', \n",
    "    'SE':'Sweden', \n",
    "    'TW':'Taiwan', \n",
    "    'TH':'Thailand', \n",
    "    'UK' :'United Kingdom' ,\n",
    "    'USA':'United States', \n",
    "    'VN':'Vietnam' \n",
    "    }"
   ]
  },
  {
   "cell_type": "markdown",
   "metadata": {},
   "source": [
    "**Question 3.1.** Using the dictionary `country_codes`, define a function named `code_to_country` that takes as input a country code and returns the corresponding country's name. This should only take one line of code.\n",
    "\n",
    "_**Hint 1:**_ If you're stuck, take a look at the DSC 30 example above.\n",
    "\n",
    "_**Hint 2:**_ Once you've implemented `code_to_country`, you should verify that it works as intended by trying a few examples yourself. The provided tests will **not** do this for you."
   ]
  },
  {
   "cell_type": "code",
   "execution_count": 79,
   "metadata": {},
   "outputs": [],
   "source": [
    "def code_to_country(code):\n",
    "    ..."
   ]
  },
  {
   "cell_type": "code",
   "execution_count": null,
   "metadata": {
    "deletable": false,
    "editable": false
   },
   "outputs": [],
   "source": [
    "grader.check(\"q3_1\")"
   ]
  },
  {
   "cell_type": "markdown",
   "metadata": {},
   "source": [
    "**Question 3.2.** Use your `code_to_country` function and the `.apply` method to convert all of the country codes in the `'Country'` column of `ramen_data` into country names. Do this without creating an additional column or reordering the existing columns. Assign the resulting DataFrame to the variable name `ramen`.\n",
    "\n",
    "_**Hint:**_ Is there a way to use the `.assign` method to *replace* values in this column without creating an additional column? See if you can find out by reading [the `babypandas` documentation](https://babypandas.readthedocs.io/en/latest/index.html).\n",
    "\n",
    "**Important**: For the rest of the questions in this section, use the DataFrame `ramen` instead of `ramen_data`."
   ]
  },
  {
   "cell_type": "code",
   "execution_count": 84,
   "metadata": {},
   "outputs": [],
   "source": [
    "ramen = ...\n",
    "ramen"
   ]
  },
  {
   "cell_type": "code",
   "execution_count": null,
   "metadata": {
    "deletable": false,
    "editable": false
   },
   "outputs": [],
   "source": [
    "grader.check(\"q3_2\")"
   ]
  },
  {
   "cell_type": "markdown",
   "metadata": {},
   "source": [
    "**Question 3.3.** \n",
    "Define a function named `word_count` that returns the number of words in a ramen's `'Variety'`. It should take as input a string from the `'Variety'` column and  return the number of words in that string. We'll consider a piece of text to be a word if and only if it is separated from adjacent words by a space. \n",
    "For example:\n",
    "- `word_count('Cup Noodles Chicken Vegetable')` should return 4.\n",
    "- `word_count('Tonkotsu-Shoyu Rich Pork Flavor Ramen')` should return 5. Notice that `'Tonkotsu-Shoyu'` counts as one word.\n",
    "\n",
    "_**Hint**_: The string method [`.split()`](https://docs.python.org/3/library/stdtypes.html#str.split) will be helpful."
   ]
  },
  {
   "cell_type": "code",
   "execution_count": 90,
   "metadata": {},
   "outputs": [],
   "source": [
    "def word_count(variety):\n",
    "    ...\n",
    "    \n",
    "# Test cases for your own reference. Feel free to test out more!\n",
    "print(word_count('Cup Noodles Chicken Vegetable'))  # Should print 4\n",
    "print(word_count('Tonkotsu-Shoyu Rich Pork Flavor Ramen')) # Should print 5"
   ]
  },
  {
   "cell_type": "code",
   "execution_count": null,
   "metadata": {
    "deletable": false,
    "editable": false
   },
   "outputs": [],
   "source": [
    "grader.check(\"q3_3\")"
   ]
  },
  {
   "cell_type": "markdown",
   "metadata": {},
   "source": [
    "**Question 3.4.** Create a DataFrame called `with_word_count` with columns from left to right `'Brand'`, `'Country'`, `'Variety'` and `'Stars'` and a new column `'Word_Count'` that has the word count for each variety. Sort the DataFrame in descending order of `'Word_Count'`.\n",
    "\n",
    "_**Note**_: The `'Country'` column should have full country names, not codes."
   ]
  },
  {
   "cell_type": "code",
   "execution_count": 95,
   "metadata": {},
   "outputs": [],
   "source": [
    "with_word_count = ...\n",
    "with_word_count\n"
   ]
  },
  {
   "cell_type": "code",
   "execution_count": null,
   "metadata": {
    "deletable": false,
    "editable": false
   },
   "outputs": [],
   "source": [
    "grader.check(\"q3_4\")"
   ]
  },
  {
   "cell_type": "markdown",
   "metadata": {},
   "source": [
    "**Question 3.5.** How many words does the longest ramen `'Variety'` have? Assign this number to `most_ramen_words`. How many words does the shortest ramen `'Variety'` have? Assign this number to `fewest_ramen_words`. What is the absolute difference between these values? Assign this number to `range_ramen_words`."
   ]
  },
  {
   "cell_type": "code",
   "execution_count": 101,
   "metadata": {},
   "outputs": [],
   "source": [
    "most_ramen_words = ...\n",
    "fewest_ramen_words = ...\n",
    "range_ramen_words = ...\n",
    "print('Most ramen words', most_ramen_words)\n",
    "print('Fewest ramen words:', fewest_ramen_words)\n",
    "print('Range of ramen words:', range_ramen_words)"
   ]
  },
  {
   "cell_type": "code",
   "execution_count": null,
   "metadata": {
    "deletable": false,
    "editable": false
   },
   "outputs": [],
   "source": [
    "grader.check(\"q3_5\")"
   ]
  },
  {
   "cell_type": "markdown",
   "metadata": {},
   "source": [
    "**Question 3.6.** Create a function named `mean_word_count` that takes as an input the name of a ramen brand and returns the average `'Word_Count'` for all ramen varieties belonging to that brand."
   ]
  },
  {
   "cell_type": "code",
   "execution_count": 106,
   "metadata": {},
   "outputs": [],
   "source": [
    "def mean_word_count(brand):\n",
    "    ..."
   ]
  },
  {
   "cell_type": "code",
   "execution_count": null,
   "metadata": {
    "deletable": false,
    "editable": false
   },
   "outputs": [],
   "source": [
    "grader.check(\"q3_6\")"
   ]
  },
  {
   "cell_type": "markdown",
   "metadata": {},
   "source": [
    "**Question 3.7.** Create a horizontal bar chart that displays the mean word count for all ramen brands that have **more than ten varieties**. Sort the bars so the brands whose varieties have the most words on average appear at the very top, and those with the fewest words on average appear at the bottom.\n",
    "\n",
    "_**Hint 1:**_ If you use `.groupby` more than once on the same DataFrame, the order of rows will be the same, even with different aggregation methods.\n",
    " \n",
    "_**Hint 2:**_ To get the bar chart to display nicely, try adjusting the optional `figsize` argument, as we did in Lecture 8."
   ]
  },
  {
   "cell_type": "markdown",
   "metadata": {
    "deletable": false,
    "editable": false
   },
   "source": [
    "<!-- BEGIN QUESTION -->\n",
    "\n",
    "<!--\n",
    "BEGIN QUESTION\n",
    "name: q3_7\n",
    "manual: true\n",
    "-->"
   ]
  },
  {
   "cell_type": "code",
   "execution_count": 111,
   "metadata": {},
   "outputs": [],
   "source": [
    "# Create your plot here\n",
    "..."
   ]
  },
  {
   "cell_type": "markdown",
   "metadata": {
    "deletable": false,
    "editable": false
   },
   "source": [
    "<!-- END QUESTION -->"
   ]
  },
  {
   "cell_type": "code",
   "execution_count": 112,
   "metadata": {},
   "outputs": [],
   "source": [
    "many_variety_brands"
   ]
  },
  {
   "cell_type": "markdown",
   "metadata": {},
   "source": [
    "**Question 3.8.** Define a function named `point_total` that takes in a full country name and returns a point total for that country's ramen, according to the following scheme:\n",
    "- 1 point for every variety of ramen that has at least 1 star and less than 3 stars,\n",
    "- 2 points for every variety with at least 3 stars and less than 4 stars, and\n",
    "- 3 points for every variety with at least 4 stars (and at most 5 stars, which is the maximum possible).\n",
    "\n",
    "|Points Received | Stars (Condition)| \n",
    "| --- | --- | \n",
    "|1| $[1,3)$|\n",
    "|2| $[3, 4)$ | \n",
    "|3| $[4,5]$ |\n",
    "\n",
    "_**Hint:**_ Make sure that your function works for countries that don't have varieties of ramen at every possible number of stars. If you aren't able to accomplish this using grouping, try another strategy!"
   ]
  },
  {
   "cell_type": "code",
   "execution_count": 113,
   "metadata": {},
   "outputs": [],
   "source": [
    "def point_total(country):\n",
    "    ..."
   ]
  },
  {
   "cell_type": "code",
   "execution_count": null,
   "metadata": {
    "deletable": false,
    "editable": false
   },
   "outputs": [],
   "source": [
    "grader.check(\"q3_8\")"
   ]
  },
  {
   "cell_type": "markdown",
   "metadata": {},
   "source": [
    "**Question 3.9.** Among the five countries listed below, which has the **highest** point total, using the points system from Question 3.8?\n",
    "\n",
    "-  `'United States'`\n",
    "-  `'Canada'`\n",
    "-  `'Sweden'`\n",
    "-  `'China'`\n",
    "-  `'Japan'`\n",
    "\n",
    "Save the name (not country code) of the country as `country` and the country's number of points as `points`. You can set the value of `country` and `points` by hand for this question based on the output of the function you just wrote, for various inputs."
   ]
  },
  {
   "cell_type": "code",
   "execution_count": 119,
   "metadata": {},
   "outputs": [],
   "source": [
    "country = ...\n",
    "points = ..."
   ]
  },
  {
   "cell_type": "code",
   "execution_count": null,
   "metadata": {
    "deletable": false,
    "editable": false
   },
   "outputs": [],
   "source": [
    "grader.check(\"q3_9\")"
   ]
  },
  {
   "cell_type": "markdown",
   "metadata": {},
   "source": [
    "## 4. Histograms 🧑‍💻"
   ]
  },
  {
   "cell_type": "markdown",
   "metadata": {},
   "source": [
    "Suppose we have a DataFrame called `data` with two numerical columns, `'x'` and `'y'`. Consider the following scatter plot, which was generated by calling `data.plot(kind='scatter', x='x', y='y')`:\n",
    "\n",
    "<img src=\"./images/q4_scatter.png\" width=450/>\n",
    "\n",
    "Now consider these two histograms:\n",
    "\n",
    "**Histogram A**:\n",
    "\n",
    "<img src=\"./images/q4_hist_one.png\" width=450/>\n",
    "\n",
    "**Histogram B**:\n",
    "\n",
    "<img src=\"./images/q4_hist_two.png\" width=450/>"
   ]
  },
  {
   "cell_type": "markdown",
   "metadata": {},
   "source": [
    "**Question 4.1.** Which of these two lines of code generated Histogram A? Assign either `1` or `2` to `which_code`.\n",
    " 1. `data.plot(kind='hist', density=True, y='x')`\n",
    " 2. `data.plot(kind='hist', density=True, y='y')`  "
   ]
  },
  {
   "cell_type": "code",
   "execution_count": 124,
   "metadata": {},
   "outputs": [],
   "source": [
    "which_code = ..."
   ]
  },
  {
   "cell_type": "code",
   "execution_count": null,
   "metadata": {
    "deletable": false,
    "editable": false
   },
   "outputs": [],
   "source": [
    "grader.check(\"q4_1\")"
   ]
  },
  {
   "cell_type": "markdown",
   "metadata": {},
   "source": [
    "**Question 4.2.** Suppose we run this block of code:\n",
    "\n",
    "```py\n",
    "new_data = bpd.DataFrame().assign(\n",
    "    x = data.get('x') / 4,\n",
    "    y = data.get('y')\n",
    ")\n",
    "```\n",
    "    \n",
    "We then run `new_data.plot(kind='hist', density=True, y='x')`. How will this new histogram look compared to the original histogram, `data.plot(kind='hist', density=True, y='x')`, assuming both histograms are drawn on the same scale, with fixed axes? Assign `histogram_difference` to either 1, 2, 3, or 4, corresponding to your choice.\n",
    "\n",
    "1. The new histogram will be wider and taller than the original histogram.\n",
    "2. The new histogram will be wider and shorter than the original histogram.\n",
    "3. The new histogram will be narrower and taller than the original histogram.\n",
    "4. The new histogram will be narrower and shorter than the original histogram.\n",
    "\n",
    "_**Hint:**_ Look at the end of Lecture 8 for an example of two histograms drawn on the same scale with fixed axes."
   ]
  },
  {
   "cell_type": "code",
   "execution_count": 127,
   "metadata": {},
   "outputs": [],
   "source": [
    "histogram_difference = ..."
   ]
  },
  {
   "cell_type": "code",
   "execution_count": null,
   "metadata": {
    "deletable": false,
    "editable": false
   },
   "outputs": [],
   "source": [
    "grader.check(\"q4_2\")"
   ]
  },
  {
   "cell_type": "markdown",
   "metadata": {},
   "source": [
    "**Question 4.3.** Below, we show Histogram B again.\n",
    "\n",
    "<img src=\"./images/q4_hist_two.png\" width=450/>\n",
    "\n",
    "What **percent** of values in Histogram B are between -5 (inclusive) and -2 (exclusive)? While we cannot answer this question exactly since we do not know where the bins start and end, we can still approximate the answer. Assign the variable `are_between` to a number 1 through 5, corresponding to the closest answer.\n",
    "\n",
    "1. 10% \n",
    "2. 13% \n",
    "3. 25%\n",
    "4. 38%\n",
    "5. 52%"
   ]
  },
  {
   "cell_type": "code",
   "execution_count": 130,
   "metadata": {},
   "outputs": [],
   "source": [
    "are_between = ..."
   ]
  },
  {
   "cell_type": "code",
   "execution_count": null,
   "metadata": {
    "deletable": false,
    "editable": false
   },
   "outputs": [],
   "source": [
    "grader.check(\"q4_3\")"
   ]
  },
  {
   "cell_type": "markdown",
   "metadata": {},
   "source": [
    "## Finish Line "
   ]
  },
  {
   "cell_type": "markdown",
   "metadata": {},
   "source": [
    "To submit your assignment:\n",
    "\n",
    "1. Select `Kernel -> Restart & Run All` to ensure that you have executed all cells, including the test cells.\n",
    "2. Read through the notebook to make sure everything is fine and all tests passed.\n",
    "3. Run the cell below to run all tests, and make sure that they all pass.\n",
    "4. Download your notebook using `File -> Download as -> Notebook (.ipynb)`, then upload your notebook to Gradescope."
   ]
  },
  {
   "cell_type": "code",
   "execution_count": 133,
   "metadata": {},
   "outputs": [],
   "source": [
    "grader.check_all()"
   ]
  }
 ],
 "metadata": {
  "kernelspec": {
   "display_name": "Python 3 (ipykernel)",
   "language": "python",
   "name": "python3"
  },
  "language_info": {
   "codemirror_mode": {
    "name": "ipython",
    "version": 3
   },
   "file_extension": ".py",
   "mimetype": "text/x-python",
   "name": "python",
   "nbconvert_exporter": "python",
   "pygments_lexer": "ipython3",
   "version": "3.9.7"
  },
  "toc": {
   "base_numbering": 1,
   "nav_menu": {},
   "number_sections": true,
   "sideBar": true,
   "skip_h1_title": false,
   "title_cell": "Table of Contents",
   "title_sidebar": "Contents",
   "toc_cell": false,
   "toc_position": {},
   "toc_section_display": true,
   "toc_window_display": false
  }
 },
 "nbformat": 4,
 "nbformat_minor": 4
}
