{
 "cells": [
  {
   "cell_type": "markdown",
   "metadata": {},
   "source": [
    "# Homework 2: Arrays and DataFrames\n",
    "\n",
    "## Due Tuesday, April 12th at 11:59pm\n",
    "\n",
    "Welcome to Homework 2! This week's homework will cover arrays and DataFrames in Python. You can find additional help on these topics in [Notes 7-11](https://notes.dsc10.com/02-data_sets/arrays.html) in the course notes."
   ]
  },
  {
   "cell_type": "markdown",
   "metadata": {},
   "source": [
    "### Instructions\n",
    "\n",
    "This assignment is due Tuesday, April 12th at 11:59pm. You are given six slip days throughout the quarter to extend deadlines. See the syllabus for more details. With the exception of using slip days, late work will not be accepted unless you have made special arrangements with your instructor.\n",
    "\n",
    "**Important**: For homeworks, the `otter` tests don't usually tell you that your answer is correct. More often, they help catch careless mistakes. It's up to you to ensure that your answer is correct. If you're not sure, ask someone (not for the answer, but for some guidance about your approach). These are great questions for office hours (see the schedule on the [Calendar](https://dsc10.com/calendar)) or Campuswire. Directly sharing answers is not okay, but discussing problems with the course staff or with other students is encouraged. \n",
    "\n",
    "**Please do not use for-loops for any questions in this homework.** If you don't know what a for-loop is, don't worry -- we haven't covered them yet. But if you do know what they are and are wondering why it's not OK to use them, it is because loops in Python are slow, and looping over arrays and DataFrames should usually be avoided."
   ]
  },
  {
   "cell_type": "code",
   "execution_count": 1,
   "metadata": {},
   "outputs": [],
   "source": [
    "# Don't change this cell; just run it. Please don't import any additional packages.\n",
    "import numpy as np\n",
    "import babypandas as bpd\n",
    "\n",
    "import otter\n",
    "grader = otter.Notebook()\n",
    "\n",
    "%load_ext pandas_tutor"
   ]
  },
  {
   "cell_type": "markdown",
   "metadata": {},
   "source": [
    "## 1. Arrays 🗃️"
   ]
  },
  {
   "cell_type": "markdown",
   "metadata": {},
   "source": [
    "**Question 1.1** Make an array called `quirky_numbers` containing the following numbers (in the given order):\n",
    "\n",
    "1. $2^6 + 3^2$\n",
    "2. The mathematical constant of $e$ over 2 ($\\frac{e}{2}$)\n",
    "3. The factorial of 6\n",
    "4. 8 radians, in degrees\n",
    "5. The square root of 23\n",
    "\n",
    "*Hint:* Check out the functions constants available in the `numpy` module, which has been imported as `np`. If you're unsure of what function to use, a quick Google search should do the trick.  Do **not** import `math`. \n",
    "\n",
    "*Note:* In this problem, as with all others, we'll only check that your answer is correct. There may be several valid ways to produce the correct answer."
   ]
  },
  {
   "cell_type": "code",
   "execution_count": 2,
   "metadata": {
    "scrolled": true
   },
   "outputs": [],
   "source": [
    "quirky_numbers = ...\n",
    "quirky_numbers"
   ]
  },
  {
   "cell_type": "code",
   "execution_count": null,
   "metadata": {
    "deletable": false,
    "editable": false
   },
   "outputs": [],
   "source": [
    "grader.check(\"q1_1\")"
   ]
  },
  {
   "cell_type": "markdown",
   "metadata": {
    "deletable": false,
    "editable": false
   },
   "source": [
    "**Question 1.2.** Make an array called `likes` containing the following three strings:\n",
    "- `'I like cooking'`\n",
    "- `'my family'`\n",
    "- `'and my pets!'`\n",
    "\n",
    "<!--\n",
    "BEGIN QUESTION\n",
    "name: q1_2\n",
    "-->"
   ]
  },
  {
   "cell_type": "code",
   "execution_count": 5,
   "metadata": {},
   "outputs": [],
   "source": [
    "likes = ...\n",
    "likes"
   ]
  },
  {
   "cell_type": "code",
   "execution_count": null,
   "metadata": {
    "deletable": false,
    "editable": false
   },
   "outputs": [],
   "source": [
    "grader.check(\"q1_2\")"
   ]
  },
  {
   "cell_type": "markdown",
   "metadata": {},
   "source": [
    "<center><img src='data/cat_in_pot.png' width=400><a href=\"https://www.reddit.com/r/pottedcats/comments/eon2sc/cat_in_the_pot/\">source</a></center>\n",
    "\n",
    "Strings have a method called `join`.  `join` takes one argument, an array of strings, and it returns a single string. Specifically, the value of `some_string.join(some_array)` is a single string that's the concatenation (\"putting together\") of all the strings in `some_array`, with `some_string` inserted in between each string of `some_array`.\n",
    "\n",
    "Read that again if you need to!\n",
    "\n",
    "**Question 1.3.** Use the array `likes` and the method `join` to make two strings:\n",
    "\n",
    "1. `'I like cooking, my family, and my pets!'` (call this one `by_comma`)\n",
    "2. `'I like cooking my family and my pets!'` (call this one `by_space`)\n",
    "\n",
    "*Hint:* If you're not quite sure what `join` does, first try calling, for example, `'nope'.join(likes)` ."
   ]
  },
  {
   "cell_type": "code",
   "execution_count": 8,
   "metadata": {
    "scrolled": true
   },
   "outputs": [],
   "source": [
    "by_comma = ...\n",
    "by_space = ...\n",
    "print(by_comma)\n",
    "print(by_space)"
   ]
  },
  {
   "cell_type": "code",
   "execution_count": null,
   "metadata": {
    "deletable": false,
    "editable": false
   },
   "outputs": [],
   "source": [
    "grader.check(\"q1_3\")"
   ]
  },
  {
   "cell_type": "markdown",
   "metadata": {},
   "source": [
    "Now let's get some practice accessing individual elements of arrays.  In Python (and in many programming languages), elements are accessed by *integer position*, with the position of the first element being zero. That's probably not the way you learned to count, so it's easy to get mixed up here. Be careful!"
   ]
  },
  {
   "cell_type": "markdown",
   "metadata": {},
   "source": [
    "**Question 1.4.** The cell below creates an array of strings."
   ]
  },
  {
   "cell_type": "code",
   "execution_count": 13,
   "metadata": {
    "scrolled": true
   },
   "outputs": [],
   "source": [
    "some_emojis = np.array(['winter', '⛸️', 'Olympic', '🏅', '🥌', 'time', '🏒', '👀', '!'])\n",
    "some_emojis"
   ]
  },
  {
   "cell_type": "markdown",
   "metadata": {},
   "source": [
    "What is the integer position of `'🏅'` in the array? You can just type in the answer, which should be of type `int`. This is a conceptual question, not a coding question."
   ]
  },
  {
   "cell_type": "code",
   "execution_count": 14,
   "metadata": {},
   "outputs": [],
   "source": [
    "medal_position = ...\n",
    "medal_position"
   ]
  },
  {
   "cell_type": "code",
   "execution_count": null,
   "metadata": {
    "deletable": false,
    "editable": false
   },
   "outputs": [],
   "source": [
    "grader.check(\"q1_4\")"
   ]
  },
  {
   "cell_type": "markdown",
   "metadata": {},
   "source": [
    "**Question 1.5.** Suppose you have an array with 800 elements. What integer position is fifth-to-last in this array? You can just type in the answer, which should be of type `int`. This is a conceptual question, not a coding question."
   ]
  },
  {
   "cell_type": "code",
   "execution_count": 17,
   "metadata": {},
   "outputs": [],
   "source": [
    "fifth_last_position = ...\n",
    "fifth_last_position"
   ]
  },
  {
   "cell_type": "code",
   "execution_count": null,
   "metadata": {
    "deletable": false,
    "editable": false
   },
   "outputs": [],
   "source": [
    "grader.check(\"q1_5\")"
   ]
  },
  {
   "cell_type": "markdown",
   "metadata": {},
   "source": [
    "By the way, you can also use negative integer positions to access elements from the end of the array. Use -1 to get the last element, -2 to get the second-to-last element and so on. For example, to find the second-to-last element of `some_emojis`:"
   ]
  },
  {
   "cell_type": "code",
   "execution_count": 20,
   "metadata": {},
   "outputs": [],
   "source": [
    "some_emojis[-2]"
   ]
  },
  {
   "cell_type": "markdown",
   "metadata": {},
   "source": [
    "**Question 1.6.** Suppose you have an array with 327 elements. At what integer position is the middle element of this array? You can just type in the answer, which should be of type `int`. This is a conceptual question, not a coding question."
   ]
  },
  {
   "cell_type": "code",
   "execution_count": 21,
   "metadata": {},
   "outputs": [],
   "source": [
    "mid_position = ...\n",
    "mid_position"
   ]
  },
  {
   "cell_type": "code",
   "execution_count": null,
   "metadata": {
    "deletable": false,
    "editable": false
   },
   "outputs": [],
   "source": [
    "grader.check(\"q1_6\")"
   ]
  },
  {
   "cell_type": "markdown",
   "metadata": {},
   "source": [
    "## 2. DSC 10 Enrollments 📈"
   ]
  },
  {
   "cell_type": "markdown",
   "metadata": {},
   "source": [
    "It's time to get to know your classmates! The table below shows how many students in this quarter's offering of DSC 10 come from each of the seven colleges at UCSD. Looks like Sixth College is the most popular, with 83 students. The last column shows how many of these students are DSC majors. Of the 83 students from Sixth College, only 4 are DSC majors. \n",
    "\n",
    "For comparison's sake, we also have the corresponding data from the Fall 2021 offering of DSC 10. You can see that a lot more DSC majors took the course that quarter. This makes sense because it's the first course in the major, and so most majors take it during their first quarter at UCSD.\n",
    "\n",
    "Throughout this problem, we'll assume that all students in DSC 10 come from one of the seven colleges in the table.\n",
    "\n",
    "|College|F21 Students|F21 DSC Major Students|S22 Students|S22 DSC Major Students|\n",
    "|---|---|---|---|---|\n",
    "|Seventh|28|19|27|0|\n",
    "|Sixth|62|45|83|4|\n",
    "|Roosevelt|22|9|42|1|\n",
    "|Warren|31|19|44|1|\n",
    "|Marshall|49|26|48|2|\n",
    "|Muir|27|14|26|2|\n",
    "|Revelle|30|12|22|0|\n",
    "\n",
    "In this question, we'll be working with the data from this table as *arrays*. Here are those arrays:"
   ]
  },
  {
   "cell_type": "code",
   "execution_count": 24,
   "metadata": {
    "scrolled": false
   },
   "outputs": [],
   "source": [
    "students_21 = np.array([28, 62, 22, 31, 49, 27, 30])\n",
    "students_21"
   ]
  },
  {
   "cell_type": "code",
   "execution_count": 25,
   "metadata": {},
   "outputs": [],
   "source": [
    "majors_21 = np.array([19, 45, 9, 19, 26, 14, 12])\n",
    "majors_21"
   ]
  },
  {
   "cell_type": "code",
   "execution_count": 26,
   "metadata": {},
   "outputs": [],
   "source": [
    "students_22 = np.array([27, 83, 42, 44, 48, 26, 22])\n",
    "students_22"
   ]
  },
  {
   "cell_type": "code",
   "execution_count": 27,
   "metadata": {},
   "outputs": [],
   "source": [
    "majors_22 = np.array([0, 4, 1, 1, 2, 2, 0])\n",
    "majors_22"
   ]
  },
  {
   "cell_type": "markdown",
   "metadata": {},
   "source": [
    "Remember, the `numpy` package (`np` for short) provides many handy functions for working with arrays. These are specifically designed to work with arrays and are faster than using Python's built-in functions. \n",
    "\n",
    "Some frequently used array functions are `np.min()`, `np.max()`, `np.sum()`, `np.abs()`, and `np.round()`. There are many more, which you can browse by typing `np.` into a code cell and hitting the *tab* key."
   ]
  },
  {
   "cell_type": "markdown",
   "metadata": {},
   "source": [
    "**Question 2.1.** How many students were enrolled in DSC 10 in Fall 2021? In Spring 2022? Set the variables `enrolled_21` and `enrolled_22` to these values."
   ]
  },
  {
   "cell_type": "code",
   "execution_count": 28,
   "metadata": {
    "scrolled": true
   },
   "outputs": [],
   "source": [
    "enrolled_21 = ...\n",
    "enrolled_22 = ...\n",
    "print(enrolled_21)\n",
    "print(enrolled_22)"
   ]
  },
  {
   "cell_type": "code",
   "execution_count": null,
   "metadata": {
    "deletable": false,
    "editable": false
   },
   "outputs": [],
   "source": [
    "grader.check(\"q2_1\")"
   ]
  },
  {
   "cell_type": "markdown",
   "metadata": {},
   "source": [
    "**Question 2.2.** How many non-DSC major students from the Fall 2021 offering of DSC 10 came from each of the seven colleges? Your answer should be an array called `non_majors_21`, with the colleges in the same order as they appear in the table above. \n",
    "\n",
    "Similarly, how many non-DSC major students from the Spring 2022 offering of DSC 10 came from each of the seven colleges? Your answer should be an array called `non_majors_22`, with the colleges in the same order as they appear in the table above. \n"
   ]
  },
  {
   "cell_type": "code",
   "execution_count": 31,
   "metadata": {},
   "outputs": [],
   "source": [
    "non_majors_21 = ...\n",
    "non_majors_21"
   ]
  },
  {
   "cell_type": "code",
   "execution_count": null,
   "metadata": {
    "deletable": false,
    "editable": false
   },
   "outputs": [],
   "source": [
    "grader.check(\"q2_2_1\")"
   ]
  },
  {
   "cell_type": "code",
   "execution_count": 34,
   "metadata": {},
   "outputs": [],
   "source": [
    "non_majors_22 = ...\n",
    "non_majors_22"
   ]
  },
  {
   "cell_type": "code",
   "execution_count": null,
   "metadata": {
    "deletable": false,
    "editable": false
   },
   "outputs": [],
   "source": [
    "grader.check(\"q2_2_2\")"
   ]
  },
  {
   "cell_type": "markdown",
   "metadata": {},
   "source": [
    "**Question 2.3.** What percentage of Fall 2021 DSC 10 students from each college were DSC majors? Your answer should be an array called `percent_majors_21`, with the colleges in the same order as they appear in the table above, and percentages rounded to two decimal places. \n",
    "\n",
    "Similarly, what percentage of Spring 2022 DSC 10 students from each college were DSC majors? Your answer should be an array called `percent_majors_22`, with the colleges in the same order as they appear in the table above, and percentages rounded to two decimal places."
   ]
  },
  {
   "cell_type": "code",
   "execution_count": 37,
   "metadata": {},
   "outputs": [],
   "source": [
    "percent_majors_21 = ...\n",
    "percent_majors_21"
   ]
  },
  {
   "cell_type": "code",
   "execution_count": null,
   "metadata": {
    "deletable": false,
    "editable": false
   },
   "outputs": [],
   "source": [
    "grader.check(\"q2_3_1\")"
   ]
  },
  {
   "cell_type": "code",
   "execution_count": 41,
   "metadata": {},
   "outputs": [],
   "source": [
    "percent_majors_22 = ...\n",
    "percent_majors_22"
   ]
  },
  {
   "cell_type": "code",
   "execution_count": null,
   "metadata": {
    "deletable": false,
    "editable": false
   },
   "outputs": [],
   "source": [
    "grader.check(\"q2_3_2\")"
   ]
  },
  {
   "cell_type": "markdown",
   "metadata": {},
   "source": [
    "**Question 2.4.** For each college, what is the absolute difference in percentage of DSC majors enrolled in DSC 10 from Fall 2021 to Spring 2022? Use `percent_majors_21` and `percent_majors_22` to create an array called `abs_differences`, with the colleges in the same order as they appear in the table above."
   ]
  },
  {
   "cell_type": "code",
   "execution_count": 43,
   "metadata": {},
   "outputs": [],
   "source": [
    "abs_differences = ...\n",
    "abs_differences"
   ]
  },
  {
   "cell_type": "code",
   "execution_count": null,
   "metadata": {
    "deletable": false,
    "editable": false
   },
   "outputs": [],
   "source": [
    "grader.check(\"q2_4\")"
   ]
  },
  {
   "cell_type": "markdown",
   "metadata": {},
   "source": [
    "**Question 2.5.** You might say that the most consistent college is the one with the smallest absolute difference in percentage of DSC majors. Find the smallest value in the `abs_differences` array and save it as `smallest_abs_diff`. Referring back to the table, try to figure out which college that is. Assign `most_consistent_college` to the name of that college (as a string), exactly as it's displayed in the table."
   ]
  },
  {
   "cell_type": "code",
   "execution_count": 46,
   "metadata": {},
   "outputs": [],
   "source": [
    "smallest_abs_diff = ...\n",
    "\n",
    "most_consistent_college = ..."
   ]
  },
  {
   "cell_type": "code",
   "execution_count": null,
   "metadata": {
    "deletable": false,
    "editable": false
   },
   "outputs": [],
   "source": [
    "grader.check(\"q2_5\")"
   ]
  },
  {
   "cell_type": "markdown",
   "metadata": {},
   "source": [
    "## 3. Analyzing NBA Salaries 🏀"
   ]
  },
  {
   "cell_type": "markdown",
   "metadata": {},
   "source": [
    "<img src=\"./data/75th_year_nba.png\" width = 500/>\n",
    "\n",
    "The file named `nba_salaries.csv` in the `data/` directory contains data on professional men's basketball players in the NBA from 1985-2018. This data contains players and their salaries for each year they played. See below for a description of the data we have available. \n",
    "\n",
    "| Column      | Description |\n",
    "| ----------- | ----------- |\n",
    "| `'name'`      | Player name       |\n",
    "| `'season'`   | NBA season        |\n",
    "| `'salary'` | Salary (not adjusted for inflation) |\n",
    "| `'team'` | Player's current team | \n",
    "| `'position'` | Position(s) the player was in throughout his career | \n",
    "| `'draft_pick'` | Overall draft rank (if drafted)|\n",
    "| `'draft_year'` | Year drafted into the NBA (if drafted) |\n",
    "\n",
    "\n",
    "The file named `nba_17.csv` in the `data/` directory contains a subset of the data, for only the 2017-18 season.\n",
    "\n",
    "Note that this is not the same dataset we used in Lecture 5. Also note that these player salaries are:\n",
    "1. Not adjusted for inflation.\n",
    "2. Not adjusted for the salary cap (the limit that an NBA team can pay its players in total): the salary cap increased from around \\\\$35M in 2000 to around \\$120M in 2020, so salaries will likely be higher now!"
   ]
  },
  {
   "cell_type": "markdown",
   "metadata": {},
   "source": [
    "**Question 3.1.** Read the file containing all salaries from 1985-2018 into a DataFrame called `salaries`. Read the file containing the 2017-18 salaries into a DataFrame called `nba_17`."
   ]
  },
  {
   "cell_type": "code",
   "execution_count": 50,
   "metadata": {},
   "outputs": [],
   "source": [
    "salaries = ...\n",
    "nba_17 = ..."
   ]
  },
  {
   "cell_type": "code",
   "execution_count": null,
   "metadata": {
    "deletable": false,
    "editable": false
   },
   "outputs": [],
   "source": [
    "grader.check(\"q3_1\")"
   ]
  },
  {
   "cell_type": "markdown",
   "metadata": {},
   "source": [
    "**Note:** In questions 3.2 to 3.6, you will use `nba_17`. For all other questions, you will use `salaries`."
   ]
  },
  {
   "cell_type": "markdown",
   "metadata": {},
   "source": [
    "**Question 3.2.** Set the index of `nba_17` to be `'player_id'`. Save this DataFrame in `nba_17_id`."
   ]
  },
  {
   "cell_type": "code",
   "execution_count": 54,
   "metadata": {
    "scrolled": true
   },
   "outputs": [],
   "source": [
    "nba_17_id = ...\n",
    "nba_17_id"
   ]
  },
  {
   "cell_type": "code",
   "execution_count": null,
   "metadata": {
    "deletable": false,
    "editable": false
   },
   "outputs": [],
   "source": [
    "grader.check(\"q3_2\")"
   ]
  },
  {
   "cell_type": "markdown",
   "metadata": {},
   "source": [
    "What is the benefit of using `'player_id'` as the index rather than `'name'`? (You don't have to include your answer to this question anywhere, but you should think about it.)"
   ]
  },
  {
   "cell_type": "markdown",
   "metadata": {},
   "source": [
    "**Question 3.3.** In the 2017-18 season, James Harden of the Houston Rockets won the MVP (Most Valuable Player) award. Using DataFrame operations, assign `harden_17` to his salary during the 2017-18 season. The `'player_id'` for James Harden is `'hardeja01'`."
   ]
  },
  {
   "cell_type": "code",
   "execution_count": 58,
   "metadata": {},
   "outputs": [],
   "source": [
    "harden_17 = ...\n",
    "harden_17"
   ]
  },
  {
   "cell_type": "code",
   "execution_count": null,
   "metadata": {
    "deletable": false,
    "editable": false
   },
   "outputs": [],
   "source": [
    "grader.check(\"q3_3\")"
   ]
  },
  {
   "cell_type": "markdown",
   "metadata": {},
   "source": [
    "**Question 3.4.** Assign `ninth_highest_salary` to the ninth highest salary during the 2017-18 season. Assign `ninth_player_name` to the name of this player.\n",
    "\n",
    "Don't type in the salary or player name by hand; get Python to extract this information for you."
   ]
  },
  {
   "cell_type": "code",
   "execution_count": 61,
   "metadata": {
    "scrolled": true
   },
   "outputs": [],
   "source": [
    "ninth_highest_salary = ...\n",
    "ninth_player_name = ...\n",
    "print('Player:', ninth_player_name, '\\nSalary:', ninth_highest_salary)"
   ]
  },
  {
   "cell_type": "code",
   "execution_count": null,
   "metadata": {
    "deletable": false,
    "editable": false
   },
   "outputs": [],
   "source": [
    "grader.check(\"q3_4\")"
   ]
  },
  {
   "cell_type": "markdown",
   "metadata": {},
   "source": [
    "**Question 3.5.** Suppose we want to analyze the numbers of years that players in the 2017-18 NBA had played. We will define a player's **longevity** as follows: \n",
    "\n",
    "$$\\text{longevity} = 2018 - \\text{draft_year}$$\n",
    "\n",
    "Starting with the `nba_17_id` DataFrame, create a new DataFrame called `longevity` which has an additional column called ``years_played`` containing the longevity of each NBA player, as a `float`, sorted so that the players with the most years are listed first.\n",
    "\n",
    "_Note:_ For players who were not drafted, their `draft_year` entry will be `NaN`, so their longevity will be recorded as `NaN`, which is okay! `NaN` stands for \"not a number.\""
   ]
  },
  {
   "cell_type": "code",
   "execution_count": 65,
   "metadata": {},
   "outputs": [],
   "source": [
    "longevity = ...\n",
    "longevity"
   ]
  },
  {
   "cell_type": "code",
   "execution_count": null,
   "metadata": {
    "deletable": false,
    "editable": false
   },
   "outputs": [],
   "source": [
    "grader.check(\"q3_5\")"
   ]
  },
  {
   "cell_type": "markdown",
   "metadata": {},
   "source": [
    "**Question 3.6.** The 2017-18 NBA Finals featured the Golden State Warriors and Cleveland Cavaliers in their fourth straight Finals matchup. What proportion of players on the 2017-18 Warriors and Cavaliers rosters earned at least \\$10M in their salary? Assign this value to `prop_10m`.\n",
    "\n",
    "*Hint:* First make a combined Warriors and Cavaliers roster, and then find the proportion."
   ]
  },
  {
   "cell_type": "code",
   "execution_count": 71,
   "metadata": {},
   "outputs": [],
   "source": [
    "prop_10m = ...\n",
    "prop_10m"
   ]
  },
  {
   "cell_type": "code",
   "execution_count": null,
   "metadata": {
    "deletable": false,
    "editable": false
   },
   "outputs": [],
   "source": [
    "grader.check(\"q3_6\")"
   ]
  },
  {
   "cell_type": "markdown",
   "metadata": {},
   "source": [
    "For the remainder of this section, we will use the full `salaries` DataFrame.\n",
    "\n",
    "**Question 3.7.** Among all the salaries for players on the Milwaukee Bucks from 1985-2018, what is the median salary? Assign this value to `bucks_median`."
   ]
  },
  {
   "cell_type": "code",
   "execution_count": 74,
   "metadata": {},
   "outputs": [],
   "source": [
    "bucks_median = ...\n",
    "bucks_median"
   ]
  },
  {
   "cell_type": "code",
   "execution_count": null,
   "metadata": {
    "deletable": false,
    "editable": false
   },
   "outputs": [],
   "source": [
    "grader.check(\"q3_7\")"
   ]
  },
  {
   "cell_type": "markdown",
   "metadata": {},
   "source": [
    "**Question 3.8.** Assign `lowest_salary_tm` to the team in the 1985-2018 data that has the lowest mean player salaries. \n",
    "\n",
    "*Hint*: Our solution for this question used only one line of code (thanks, `groupby`)!"
   ]
  },
  {
   "cell_type": "code",
   "execution_count": 77,
   "metadata": {},
   "outputs": [],
   "source": [
    "lowest_salary_tm = ...\n",
    "lowest_salary_tm"
   ]
  },
  {
   "cell_type": "code",
   "execution_count": null,
   "metadata": {
    "deletable": false,
    "editable": false
   },
   "outputs": [],
   "source": [
    "grader.check(\"q3_8\")"
   ]
  },
  {
   "cell_type": "markdown",
   "metadata": {},
   "source": [
    "**Question 3.9.** In the NBA, there are five positions: center, power forward, small forward, point guard, and shooting guard. However, more recently, positions have become less important and players can fall into multiple roles. For example, LeBron James generally plays power forward, but he is currently playing center with the Los Angeles Lakers in 2022, and has played multiple positions before. \n",
    "\n",
    "From all of the NBA players from 1985-2018, we want to examine only the point guards. Note that we are only considering seasons in which the player was playing point guard. For example, if a player played point guard in 1999 and shooting guard in 2000, we would only consider their 1999 season. Assign `pt_guards` to a DataFrame that includes all the point guards from 1985-2018, sorted so the highest salaries appear first.\n",
    "\n",
    "*Hint 1*: You may want to use `.str.contains`; the *Boolean Indexing* section of the [DSC 10 Reference Sheet](https://drive.google.com/file/d/1mQApk9Ovdi-QVqMgnNcq5dZcWucUKoG-/view) shows you how to use it. Why are we using `.str.contains` and not simply checking for equality?\n",
    "\n",
    "*Hint 2*: The positions are strings, so they may have inconsistencies in how they're capitalized. If we want to include `'point guard'`, `'Point Guard'`, `'PoInT GuArD'`, and any other variations in capitalization, what operation should we call on the positions **first**? (You may end up using `.str` twice!)"
   ]
  },
  {
   "cell_type": "code",
   "execution_count": 80,
   "metadata": {
    "scrolled": true
   },
   "outputs": [],
   "source": [
    "# For a multi-step problem, it's helpful to define intermediate variables. \n",
    "# Feel free to do that here, or for any problem!\n",
    "\n",
    "pt_guards = ...\n",
    "pt_guards"
   ]
  },
  {
   "cell_type": "code",
   "execution_count": null,
   "metadata": {
    "deletable": false,
    "editable": false
   },
   "outputs": [],
   "source": [
    "grader.check(\"q3_9\")"
   ]
  },
  {
   "cell_type": "markdown",
   "metadata": {},
   "source": [
    "## 4. Analyzing Bob Ross Paintings 🎨"
   ]
  },
  {
   "cell_type": "markdown",
   "metadata": {},
   "source": [
    "<center><img src=\"./data/bob_ross.jpg\" width = 400/></center>\n",
    "\n",
    "Bob Ross was an iconic American landscape painter, most well-known for hosting an instructional television show in the 80s and 90s called *The Joy of Painting*. In each episode, Bob Ross taught viewers to paint a different landscape picture while encouraging them to bring out \"the artist hidden in the bottom of every single one of us.\" The file `data/bob_ross.csv` contains information on individual elements seen within Bob Ross' paintings across 403 episodes. For example, in [Season 1 Episode 1](https://www.youtube.com/watch?v=oh5p5f5_-7A), Bob shows how to create the painting below, titled \"A Walk in the Woods\".\n",
    "\n",
    "&nbsp;\n",
    "<center><img src=\"./data/bob_ross_s1_painting.png\" width = 400/></center>"
   ]
  },
  {
   "cell_type": "markdown",
   "metadata": {},
   "source": [
    "Now run the cell below to check out the data. "
   ]
  },
  {
   "cell_type": "code",
   "execution_count": 84,
   "metadata": {
    "scrolled": false,
    "tags": []
   },
   "outputs": [],
   "source": [
    "bob_ross = bpd.read_csv('data/bob_ross.csv')\n",
    "bob_ross"
   ]
  },
  {
   "cell_type": "markdown",
   "metadata": {},
   "source": [
    "This dataset contains 403 rows and 71 columns. Each column contains a different element that may or may not appear in a painting. The dataset uses the number 1 to mean that the element is included in the painting, and 0 if not. Notice, for example, that in Season 1, Episode 1, the dataset records a 1 for `'TREES'` and a 0 for `'WINDMILL'`, which corresponds to what we see in the painting shown above.\n",
    "\n",
    "It's hard to tell which different painting elements are included in our dataset, because the DataFrame above displays with an ellipsis (...) truncating the dataset in between the columns `'BRIDGE'` and `'TOMB_FRAME'`. This is because the `babypandas` display settings default to showing a maximum of 20 columns, the first 10 and the last 10. \n",
    "\n",
    "If you want to see the names of all the columns, you can run the cell below. "
   ]
  },
  {
   "cell_type": "code",
   "execution_count": 85,
   "metadata": {},
   "outputs": [],
   "source": [
    "bob_ross.columns"
   ]
  },
  {
   "cell_type": "markdown",
   "metadata": {},
   "source": [
    "**Question 4.1.** Examine the columns `'EPISODE'`, `'SEASON'`, and `'EPISODE_NUMBER'` and consider which would be the best choice of index for this DataFrame. Change the `bob_ross` DataFrame so that it's indexed by this value instead of the default index."
   ]
  },
  {
   "cell_type": "code",
   "execution_count": 86,
   "metadata": {
    "scrolled": false
   },
   "outputs": [],
   "source": [
    "bob_ross = ...\n",
    "bob_ross"
   ]
  },
  {
   "cell_type": "code",
   "execution_count": null,
   "metadata": {
    "deletable": false,
    "editable": false
   },
   "outputs": [],
   "source": [
    "grader.check(\"q4_1\")"
   ]
  },
  {
   "cell_type": "markdown",
   "metadata": {},
   "source": [
    "**Note**: Try running the cell where you set the index a second time. You should see an error message. Can you figure out what the error message means and why that's happening? If not, try asking Google - that's a great first step when you come across an error that you don't understand. If Google doesn't help, feel free to ask a classmate or the staff on Campuswire.\n",
    "\n",
    "When you submit your work for autograding, the entire notebook will be run from start to finish. Each cell will run only once, so it's no problem if your code errors on the second run. In this case, it means you're doing something right!"
   ]
  },
  {
   "cell_type": "markdown",
   "metadata": {},
   "source": [
    "**Question 4.2.** Throughout all 31 seasons, how many of Bob’s paintings contained an ocean? Assign your result to `ocean`.   "
   ]
  },
  {
   "cell_type": "code",
   "execution_count": 89,
   "metadata": {},
   "outputs": [],
   "source": [
    "ocean = ...\n",
    "ocean"
   ]
  },
  {
   "cell_type": "code",
   "execution_count": null,
   "metadata": {
    "deletable": false,
    "editable": false
   },
   "outputs": [],
   "source": [
    "grader.check(\"q4_2\")"
   ]
  },
  {
   "cell_type": "markdown",
   "metadata": {},
   "source": [
    "**Question 4.3.** What was the first episode in which a lighthouse was painted? Assign your result to `first_lighthouse` as a string in the form `'S__E__'`. For example, if your answer is Season 1 Episode 1 then your answer should be `'S01E01'`. You can assume that the data is already given in chronological order."
   ]
  },
  {
   "cell_type": "code",
   "execution_count": 92,
   "metadata": {},
   "outputs": [],
   "source": [
    "first_lighthouse = ...\n",
    "first_lighthouse"
   ]
  },
  {
   "cell_type": "code",
   "execution_count": null,
   "metadata": {
    "deletable": false,
    "editable": false
   },
   "outputs": [],
   "source": [
    "grader.check(\"q4_3\")"
   ]
  },
  {
   "cell_type": "markdown",
   "metadata": {},
   "source": [
    "**Question 4.4.** Which episode titles contain the word 'MOUNTAIN'? Create an *array* called `mountain_episodes` containing the titles of all such episodes. Then assign to `num_mountain_episodes` the number of such episodes.\n",
    "\n",
    "*Hint*: To convert a Series into an array, call the function `np.array` on the Series."
   ]
  },
  {
   "cell_type": "code",
   "execution_count": 95,
   "metadata": {},
   "outputs": [],
   "source": [
    "mountain_episodes = ...\n",
    "num_mountain_episodes = ...\n",
    "num_mountain_episodes"
   ]
  },
  {
   "cell_type": "code",
   "execution_count": null,
   "metadata": {
    "deletable": false,
    "editable": false
   },
   "outputs": [],
   "source": [
    "grader.check(\"q4_4\")"
   ]
  },
  {
   "cell_type": "markdown",
   "metadata": {},
   "source": [
    "**Question 4.5.** What proportion of all the paintings with trees in them have **both** a deciduous tree and a coniferous tree? Assign your result to the variable `decid_and_conif`.  Remember, proportions are always between 0 and 1.\n",
    "\n",
    "*Hint:* You'll need to use multiple conditions in order to solve this problem. [Section 2.10](https://notes.dsc10.com/02-data_sets/querying.html) in the course notes will be very useful. For this question, the paintings with trees are only the paintings that have 1 in the `TREES` column.  "
   ]
  },
  {
   "cell_type": "code",
   "execution_count": 99,
   "metadata": {},
   "outputs": [],
   "source": [
    "decid_and_conif = ...\n",
    "decid_and_conif"
   ]
  },
  {
   "cell_type": "code",
   "execution_count": null,
   "metadata": {
    "deletable": false,
    "editable": false
   },
   "outputs": [],
   "source": [
    "grader.check(\"q4_5\")"
   ]
  },
  {
   "cell_type": "markdown",
   "metadata": {},
   "source": [
    "**Question 4.6.** For the paintings in Season 1, calculate the average number of elements in each painting. Assign this average to the variable `season1_average`."
   ]
  },
  {
   "cell_type": "code",
   "execution_count": 102,
   "metadata": {},
   "outputs": [],
   "source": [
    "season1_average = ...\n",
    "season1_average"
   ]
  },
  {
   "cell_type": "code",
   "execution_count": null,
   "metadata": {
    "deletable": false,
    "editable": false
   },
   "outputs": [],
   "source": [
    "grader.check(\"q4_6\")"
   ]
  },
  {
   "cell_type": "markdown",
   "metadata": {},
   "source": [
    "**Question 4.7.** Now, assign `season2_average` to the average number of elements painted in each episode of Season 2. By what factor did the average number of elements increase from Season 1 to Season 2? Save your answer as `increase_factor`. For example, if the average number of elements painted in Season 2 was triple that of Season 1, you would set `increase_factor` to 3. "
   ]
  },
  {
   "cell_type": "code",
   "execution_count": 105,
   "metadata": {},
   "outputs": [],
   "source": [
    "season2_average = ...\n",
    "increase_factor = ...\n",
    "print('Season 1 Average:', season1_average, '\\nSeason 2 Average:', season2_average, '\\nIncrease Factor:', increase_factor)"
   ]
  },
  {
   "cell_type": "code",
   "execution_count": null,
   "metadata": {
    "deletable": false,
    "editable": false
   },
   "outputs": [],
   "source": [
    "grader.check(\"q4_7\")"
   ]
  },
  {
   "cell_type": "markdown",
   "metadata": {},
   "source": [
    "**Question 4.8.** We now know the factor by which the average number of painting elements increased from Season 1 to Season 2. If *every* season's average number of elements were to increase by this same factor from the previous season, how many elements would there be on average in each episode of Season 31?  Save your result as `constant_increase_season31_average`. \n",
    "\n",
    "*Note*: This is a hypothetical situation. This question is **not** asking for the average number of elements in each episode of Season 31, as calculated from the data. The actual average number of elements painted in each episode of Season 31 should be quite a bit smaller than `constant_increase_season31_average`."
   ]
  },
  {
   "cell_type": "code",
   "execution_count": 109,
   "metadata": {},
   "outputs": [],
   "source": [
    "constant_increase_season31_average = ...\n",
    "constant_increase_season31_average"
   ]
  },
  {
   "cell_type": "code",
   "execution_count": null,
   "metadata": {
    "deletable": false,
    "editable": false
   },
   "outputs": [],
   "source": [
    "grader.check(\"q4_8\")"
   ]
  },
  {
   "cell_type": "markdown",
   "metadata": {},
   "source": [
    "**Question 4.9.** Create an array called `ranked_seasons` containing the season numbers (1 through 31) ordered in descending order according to the average number of elements in paintings from that season. Each element of `ranked_seasons` should be an `int`.\n",
    "\n",
    "Note that sometimes `ranked_seasons` have same number of elements (i.e, there's a tie), in which case you would not get unique solution. To handle such situation you can choose the first one among the tied seasons. "
   ]
  },
  {
   "cell_type": "markdown",
   "metadata": {},
   "source": [
    "*Hint*: After doing some grouping, you'll want to grab the index of the DataFrame using `.index`, then convert it to an array by feeding it in as an input to `np.array`."
   ]
  },
  {
   "cell_type": "code",
   "execution_count": 112,
   "metadata": {
    "scrolled": true
   },
   "outputs": [],
   "source": [
    "ranked_seasons = ...\n",
    "ranked_seasons"
   ]
  },
  {
   "cell_type": "code",
   "execution_count": null,
   "metadata": {
    "deletable": false,
    "editable": false
   },
   "outputs": [],
   "source": [
    "grader.check(\"q4_9\")"
   ]
  },
  {
   "cell_type": "markdown",
   "metadata": {},
   "source": [
    "**Question 4.10.** Within the season with the most elements on average, which painting contained the fewest elements? Assign the title of that painting to `fewest_elements_title`. In the case of a tie, choose the painting from the episode that aired first."
   ]
  },
  {
   "cell_type": "code",
   "execution_count": 117,
   "metadata": {},
   "outputs": [],
   "source": [
    "fewest_elements_title = ...\n",
    "fewest_elements_title"
   ]
  },
  {
   "cell_type": "code",
   "execution_count": null,
   "metadata": {
    "deletable": false,
    "editable": false
   },
   "outputs": [],
   "source": [
    "grader.check(\"q4_10\")"
   ]
  },
  {
   "cell_type": "markdown",
   "metadata": {},
   "source": [
    "# Finish Line\n",
    "\n",
    "Congratulations! You are done with Homework 02.\n",
    "\n",
    "To submit your assignment:\n",
    "\n",
    "1. Select `Kernel -> Restart & Run All` to ensure that you have executed all cells, including the test cells.\n",
    "2. Read through the notebook to make sure everything is fine and all tests passed.\n",
    "3. Run the cell below to run all tests, and make sure that they all pass.\n",
    "4. Download your notebook using `File -> Download as -> Notebook (.ipynb)`, then upload your notebook to Gradescope."
   ]
  },
  {
   "cell_type": "code",
   "execution_count": 120,
   "metadata": {
    "scrolled": true
   },
   "outputs": [],
   "source": [
    "# For your convenience, you can run this cell to run all the tests at once!\n",
    "grader.check_all()"
   ]
  }
 ],
 "metadata": {
  "kernelspec": {
   "display_name": "Python 3 (ipykernel)",
   "language": "python",
   "name": "python3"
  },
  "language_info": {
   "codemirror_mode": {
    "name": "ipython",
    "version": 3
   },
   "file_extension": ".py",
   "mimetype": "text/x-python",
   "name": "python",
   "nbconvert_exporter": "python",
   "pygments_lexer": "ipython3",
   "version": "3.9.7"
  }
 },
 "nbformat": 4,
 "nbformat_minor": 4
}
