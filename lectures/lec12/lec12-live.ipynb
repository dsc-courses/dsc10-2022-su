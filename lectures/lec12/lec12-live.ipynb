{
 "cells": [
  {
   "cell_type": "markdown",
   "metadata": {
    "slideshow": {
     "slide_type": "slide"
    }
   },
   "source": [
    "# Lecture 12 – Probability\n",
    "\n",
    "## DSC 10, Summer 2022\n",
    "\n",
    "Note: No code in today's lecture. I recommend pen-and-paper instead."
   ]
  },
  {
   "cell_type": "markdown",
   "metadata": {
    "slideshow": {
     "slide_type": "slide"
    }
   },
   "source": [
    "### Announcements\n",
    "\n",
    "- Lab 4 is due **tomorrow at 11:59pm**.\n",
    "- The midterm is **Fri 7/29 at 11:00am**.\n",
    "- Homework 4 is due on **Sat 7/30 at 11:59pm**.\n",
    "- The Midterm Project is **released**.\n",
    "    - Open it to see how long it is and plan accordingly!\n",
    "- Grade report on Gradescope gives summary of grades so far. "
   ]
  },
  {
   "cell_type": "markdown",
   "metadata": {
    "slideshow": {
     "slide_type": "slide"
    }
   },
   "source": [
    "### Agenda\n",
    "\n",
    "- Motivation for probability.\n",
    "- Probability theory."
   ]
  },
  {
   "cell_type": "markdown",
   "metadata": {
    "slideshow": {
     "slide_type": "slide"
    }
   },
   "source": [
    "### Probability resources\n",
    "\n",
    "Probability is a tricky subject. If it doesn't click during lecture or on the assignments, take a look at the following resources:\n",
    "- [Note 18 in the course notes](https://notes.dsc10.com/04-probability_and_simulation/probability_and_simulation.html).\n",
    "- [Computational and Inferential Thinking, Chapter 9.5](https://inferentialthinking.com/chapters/09/5/Finding_Probabilities.html).\n",
    "- [Theory Meets Data, Chapters 1 and 2](http://stat88.org/textbook/notebooks/Chapter_01/00_The_Basics.html).\n",
    "- [Khan Academy's unit on Probability](https://www.khanacademy.org/math/probability/xa88397b6:probability)."
   ]
  },
  {
   "cell_type": "markdown",
   "metadata": {
    "slideshow": {
     "slide_type": "slide"
    }
   },
   "source": [
    "## Motivation for probability"
   ]
  },
  {
   "cell_type": "markdown",
   "metadata": {
    "slideshow": {
     "slide_type": "slide"
    }
   },
   "source": [
    "### Swain vs. Alabama, 1965\n",
    "- Robert Swain was a black man convicted of crime in Talladega County, Alabama.\n",
    "- He appealed the jury's decision all the way to the Supreme Court, on the grounds that Talladega County systematically excluded Black people from juries.\n",
    "- At the time, only men 21 years or older were allowed to serve on juries. 26% of this population was Black.\n",
    "- But of the 100 men on Robert Swain's jury panel, only 8 were Black (8%).\n",
    "    - Suspiciously low!"
   ]
  },
  {
   "cell_type": "markdown",
   "metadata": {
    "slideshow": {
     "slide_type": "slide"
    }
   },
   "source": [
    "### The Supreme Court's ruling ⚖️\n",
    "\n",
    "- About disparities between the percentages in the eligible population and the jury panel, the Supreme Court wrote:\n",
    "\n",
    "> \"... the overall percentage disparity has been small...”\n"
   ]
  },
  {
   "cell_type": "markdown",
   "metadata": {
    "slideshow": {
     "slide_type": "slide"
    }
   },
   "source": [
    "### Probability and Statistics\n",
    "\n"
   ]
  },
  {
   "cell_type": "markdown",
   "metadata": {
    "slideshow": {
     "slide_type": "slide"
    }
   },
   "source": [
    "## Probability theory"
   ]
  },
  {
   "cell_type": "markdown",
   "metadata": {
    "slideshow": {
     "slide_type": "slide"
    }
   },
   "source": [
    "### Probability theory\n",
    "\n",
    "- Some things in life *seem* random.\n",
    "    - e.g. flipping a coin or rolling a die 🎲.\n",
    "- The **probability** of seeing \"heads\" when flipping a fair coin is 50%.\n",
    "- One interpretation of probability says that if we flipped a coin infinitely many times, then 50% of outcomes would be heads."
   ]
  },
  {
   "cell_type": "markdown",
   "metadata": {
    "slideshow": {
     "slide_type": "slide"
    }
   },
   "source": [
    "### Terminology\n",
    "\n",
    "- **Experiment**: A process or action whose result is random.\n",
    "- **Outcome**: The result of an experiment.\n",
    "- **Event**: A set of outcomes."
   ]
  },
  {
   "cell_type": "markdown",
   "metadata": {
    "slideshow": {
     "slide_type": "slide"
    }
   },
   "source": [
    "### Terminology\n",
    "\n",
    "- **Probability**: A number between 0 and 1 (equivalently, between 0% and 100%) which describes the likelihood of an event.\n",
    "    - 0: the event never happens.\n",
    "    - 1: the event always happens.\n",
    "- Notation: if $A$ is an event, $P(A)$ is the probability of that event."
   ]
  },
  {
   "cell_type": "markdown",
   "metadata": {
    "slideshow": {
     "slide_type": "slide"
    }
   },
   "source": [
    "### Equally-likely outcomes\n",
    "\n",
    "- **Example 1:** Suppose we flip a fair coin 3 times. What is the probability we see exactly 2 heads?"
   ]
  },
  {
   "cell_type": "markdown",
   "metadata": {
    "slideshow": {
     "slide_type": "slide"
    }
   },
   "source": [
    "### Example 1 solved\n",
    "\n"
   ]
  },
  {
   "cell_type": "markdown",
   "metadata": {
    "slideshow": {
     "slide_type": "slide"
    }
   },
   "source": [
    "### You Try\n",
    "\n",
    "I have three cards: red, blue, and green. What is the chance that I choose a card at random, and it is green, then – **without putting it back** – I choose another card at random and it is red?"
   ]
  },
  {
   "cell_type": "markdown",
   "metadata": {
    "slideshow": {
     "slide_type": "slide"
    }
   },
   "source": [
    "### Solution\n",
    "\n"
   ]
  },
  {
   "cell_type": "markdown",
   "metadata": {
    "slideshow": {
     "slide_type": "slide"
    }
   },
   "source": [
    "### Conditional probabilities\n",
    "\n"
   ]
  },
  {
   "cell_type": "markdown",
   "metadata": {
    "slideshow": {
     "slide_type": "slide"
    }
   },
   "source": [
    "### Conditional probabilities\n",
    "\n",
    "- **Example 2:** Suppose I roll a fair six-sided die, and suppose $A$ is the event \"roll is 3 or less\" and $B$ is the event \"roll is even\". What is $P(B \\text{ given } A)$?"
   ]
  },
  {
   "cell_type": "markdown",
   "metadata": {
    "slideshow": {
     "slide_type": "slide"
    }
   },
   "source": [
    "### Example 2 solved\n",
    "\n"
   ]
  },
  {
   "cell_type": "markdown",
   "metadata": {
    "slideshow": {
     "slide_type": "slide"
    }
   },
   "source": [
    "### Probability that two events both happen\n"
   ]
  },
  {
   "cell_type": "markdown",
   "metadata": {
    "slideshow": {
     "slide_type": "slide"
    }
   },
   "source": [
    "### Probability that two events both happen\n",
    "\n",
    "- **Example 3:** I roll a fair six-sided die. What is the probability that the roll is 3 or less and even?"
   ]
  },
  {
   "cell_type": "markdown",
   "metadata": {
    "slideshow": {
     "slide_type": "slide"
    }
   },
   "source": [
    "### Example 3 solved\n",
    "\n"
   ]
  },
  {
   "cell_type": "markdown",
   "metadata": {
    "slideshow": {
     "slide_type": "slide"
    }
   },
   "source": [
    "### The multiplication rule\n",
    "\n"
   ]
  },
  {
   "cell_type": "markdown",
   "metadata": {
    "slideshow": {
     "slide_type": "slide"
    }
   },
   "source": [
    "### The multiplication rule\n",
    "\n",
    "- **Example 3, again:** I roll a fair six-sided die. What is the probability that the roll is 3 or less and even?"
   ]
  },
  {
   "cell_type": "markdown",
   "metadata": {
    "slideshow": {
     "slide_type": "slide"
    }
   },
   "source": [
    "### Example 3 solved, again\n",
    "\n"
   ]
  },
  {
   "cell_type": "markdown",
   "metadata": {
    "slideshow": {
     "slide_type": "slide"
    }
   },
   "source": [
    "### What if $A$ isn't affected by $B$? 🤔\n"
   ]
  },
  {
   "cell_type": "markdown",
   "metadata": {
    "slideshow": {
     "slide_type": "slide"
    }
   },
   "source": [
    "### Independent events\n",
    "\n",
    "- **Example 4:** Suppose we have a coin that is **biased**, and flips heads with probability 0.7. Each flip is independent of all other flips. We flip it 5 times. What's the probability we see 5 heads in a row?"
   ]
  },
  {
   "cell_type": "markdown",
   "metadata": {
    "slideshow": {
     "slide_type": "slide"
    }
   },
   "source": [
    "### Independent events\n",
    "\n",
    "- **Example 4:** Suppose we have a coin that is **biased**, and flips heads with probability 0.7. Each flip is independent of all other flips. We flip it 5 times. What's the probability we see 5 heads in a row?"
   ]
  },
  {
   "cell_type": "markdown",
   "metadata": {
    "slideshow": {
     "slide_type": "slide"
    }
   },
   "source": [
    "### Example 4 solved\n"
   ]
  },
  {
   "cell_type": "markdown",
   "metadata": {
    "slideshow": {
     "slide_type": "slide"
    }
   },
   "source": [
    "### Probability that an event *doesn't* happen\n"
   ]
  },
  {
   "cell_type": "markdown",
   "metadata": {
    "slideshow": {
     "slide_type": "skip"
    }
   },
   "source": [
    "<!--\n",
    "<div class=\"menti\">\n",
    "<div>\n",
    "\n",
    "### Discussion Question\n",
    "\n",
    "Every time I call my grandma 👵, the probability that she answers her phone is $\\frac{1}{3}$. If I call my grandma three times today, what is the chance that I will talk to her at least once?\n",
    "\n",
    "- A) $\\frac{1}{3}$\n",
    "- B) $\\frac{2}{3}$\n",
    "- C) $\\frac{1}{2}$\n",
    "- D) $1$\n",
    "- E) None of the above.\n",
    "\n",
    "</div>\n",
    "<div>\n",
    "\n",
    "### To answer, go to **[menti.com](https://www.menti.com/v42ge81t5d)** and enter the code 2863 3386 or use this QR code:\n",
    "\n",
    "![](images/menti-qr.png)\n",
    "    \n",
    "</div>\n",
    "</div>\n",
    "-->"
   ]
  },
  {
   "cell_type": "markdown",
   "metadata": {
    "slideshow": {
     "slide_type": "slide"
    }
   },
   "source": [
    "### Discussion Question\n",
    "\n",
    "Every time I call my grandma 👵, the probability that she answers her phone is $\\frac{1}{3}$. If I call my grandma three times today, what is the chance that I will talk to her at least once?\n"
   ]
  },
  {
   "cell_type": "markdown",
   "metadata": {
    "slideshow": {
     "slide_type": "slide"
    }
   },
   "source": [
    "### Discussion Question solved\n",
    "\n"
   ]
  },
  {
   "cell_type": "markdown",
   "metadata": {
    "slideshow": {
     "slide_type": "slide"
    }
   },
   "source": [
    "### Probability of either of two events happening"
   ]
  },
  {
   "cell_type": "markdown",
   "metadata": {
    "slideshow": {
     "slide_type": "slide"
    }
   },
   "source": [
    "### Probability of either of two events happening\n",
    "\n",
    "- **Example 5:** I roll a fair six-sided die. What is the probability that the roll is even or more than 5?"
   ]
  },
  {
   "cell_type": "markdown",
   "metadata": {
    "slideshow": {
     "slide_type": "slide"
    }
   },
   "source": [
    "### Example 5 solved\n"
   ]
  },
  {
   "cell_type": "markdown",
   "metadata": {
    "slideshow": {
     "slide_type": "slide"
    }
   },
   "source": [
    "### The addition rule\n"
   ]
  },
  {
   "cell_type": "markdown",
   "metadata": {
    "slideshow": {
     "slide_type": "slide"
    }
   },
   "source": [
    "### The addition rule\n",
    "\n",
    "- **Example 6:** Suppose I have two biased coins, coin $A$ and coin $B$. Coin $A$ flips heads with probability 0.6, and coin $B$ flips heads with probability 0.3. I flip both coins once. What's the probability I see two different faces?"
   ]
  },
  {
   "cell_type": "markdown",
   "metadata": {
    "slideshow": {
     "slide_type": "slide"
    }
   },
   "source": [
    "### Example 6 solved\n"
   ]
  },
  {
   "cell_type": "markdown",
   "metadata": {
    "slideshow": {
     "slide_type": "slide"
    }
   },
   "source": [
    "### Aside: proof of the addition rule for equally-likely events\n",
    "\n",
    "You are not required to know how to \"prove\" anything in this course; you may just find this interesting.\n",
    "\n",
    "If $A$ and $B$ are events consisting of equally likely outcomes, and furthermore $A$ and $B$ are mutually exclusive (meaning they have no overlap), then\n",
    "\n",
    "$$\n",
    "\\begin{align*}\n",
    "    P(A \\text{ or } B) \n",
    "    &= \\frac{\n",
    "        \\text{# of outcomes satisfying either $A$ or $B$}\n",
    "        }{\n",
    "        \\text{total # of outcomes}\n",
    "        }\n",
    "        \\\\[1em]\n",
    "    &= \\frac{\n",
    "            (\\text{# of outcomes satisfying $A$})\n",
    "            +\n",
    "            (\\text{# of outcomes satisfying $B$})\n",
    "        }{\n",
    "        \\text{total # of outcomes}\n",
    "        }\n",
    "        \\\\[1em]\n",
    "    &= \\frac{\n",
    "            (\\text{# of outcomes satisfying $A$})\n",
    "        }{\n",
    "        \\text{total # of outcomes}\n",
    "        }\n",
    "        +\n",
    "        \\frac{\n",
    "            (\\text{# of outcomes satisfying $B$})\n",
    "        }{\n",
    "        \\text{total # of outcomes}\n",
    "        }\n",
    "    \\\\[1em]\n",
    "    &= P(A) + P(B)\n",
    "\\end{align*}\n",
    "$$"
   ]
  },
  {
   "cell_type": "markdown",
   "metadata": {
    "slideshow": {
     "slide_type": "slide"
    }
   },
   "source": [
    "## Summary"
   ]
  },
  {
   "cell_type": "markdown",
   "metadata": {
    "slideshow": {
     "slide_type": "slide"
    }
   },
   "source": [
    "### Summary\n",
    "\n",
    "- Probability describes the likelihood of an event occurring.\n",
    "- There are several rules for computing probabilities. We looked at many special cases that involved equally-likely events.\n",
    "- There are two general rules to be aware of:\n",
    "    - The **multiplication rule**, which states that for any two events, $P(A \\text{ and } B) = P(B \\text{ given } A) \\cdot P(A) \\:$.\n",
    "    - The **addition rule**, which states that for any two **mutually exclusive** events, $P(A \\text{ or } B) = P(A) + P(B)$.\n",
    "- **Next time:** simulations."
   ]
  }
 ],
 "metadata": {
  "kernelspec": {
   "display_name": "Python 3 (ipykernel)",
   "language": "python",
   "name": "python3"
  },
  "language_info": {
   "codemirror_mode": {
    "name": "ipython",
    "version": 3
   },
   "file_extension": ".py",
   "mimetype": "text/x-python",
   "name": "python",
   "nbconvert_exporter": "python",
   "pygments_lexer": "ipython3",
   "version": "3.8.5"
  },
  "livereveal": {
   "scroll": true,
   "transition": "none"
  }
 },
 "nbformat": 4,
 "nbformat_minor": 2
}
