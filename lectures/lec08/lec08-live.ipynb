{
 "cells": [
  {
   "cell_type": "code",
   "execution_count": null,
   "metadata": {
    "slideshow": {
     "slide_type": "skip"
    }
   },
   "outputs": [],
   "source": [
    "# Set up packages for lecture. Don't worry about understanding this code, but\n",
    "# make sure to run it if you're following along.\n",
    "import numpy as np\n",
    "import babypandas as bpd\n",
    "import pandas as pd\n",
    "from matplotlib_inline.backend_inline import set_matplotlib_formats\n",
    "import matplotlib.pyplot as plt\n",
    "%reload_ext pandas_tutor\n",
    "%set_pandas_tutor_options {'projectorMode': True}\n",
    "set_matplotlib_formats(\"svg\")\n",
    "plt.style.use('fivethirtyeight')\n",
    "\n",
    "np.set_printoptions(threshold=20, precision=2, suppress=True)\n",
    "pd.set_option(\"display.max_rows\", 7)\n",
    "pd.set_option(\"display.max_columns\", 8)\n",
    "pd.set_option(\"display.precision\", 2)\n",
    "\n",
    "from IPython.display import display, IFrame\n",
    "\n",
    "def binning_animation():\n",
    "    src=\"https://docs.google.com/presentation/d/e/2PACX-1vTnRGwEnKP2V-Z82DlxW1b1nMb2F0zWyrXIzFSpQx_8Wd3MFaf56y2_u3JrLwZ5SjWmfapL5BJLfsDG/embed?start=false&loop=false&delayms=60000\"\n",
    "    width=900\n",
    "    height=307\n",
    "    display(IFrame(src, width, height))"
   ]
  },
  {
   "cell_type": "markdown",
   "metadata": {
    "slideshow": {
     "slide_type": "slide"
    }
   },
   "source": [
    "# Lecture 8 – Histograms and Overlaid Plots\n",
    "\n",
    "## DSC 10, Summer 2022"
   ]
  },
  {
   "cell_type": "markdown",
   "metadata": {
    "slideshow": {
     "slide_type": "slide"
    }
   },
   "source": [
    "### Announcements\n",
    "\n",
    "- Homework 2 is due **tomorrow, 7/16 at 11:59pm**.\n",
    "- Lab 3 is due on **Tue, 7/19 at 11:59pm**.\n",
    "- Looking for more examples? Read the [course notes](https://notes.dsc10.com/front.html).\n",
    "- Come to OH if you want help with the lab and homework problems!"
   ]
  },
  {
   "cell_type": "markdown",
   "metadata": {
    "slideshow": {
     "slide_type": "slide"
    }
   },
   "source": [
    "### Agenda\n",
    "\n",
    "- Histograms: Motivation.\n",
    "- Density histograms.\n",
    "- Overlaid plots."
   ]
  },
  {
   "cell_type": "markdown",
   "metadata": {
    "slideshow": {
     "slide_type": "slide"
    }
   },
   "source": [
    "### Review: types of visualizations\n",
    "\n",
    "The type of visualization we create depends on the kinds of variables we're visualizing.\n",
    "\n",
    "- **Scatter plot**: numerical vs. numerical.\n",
    "    - Example: weight vs. height.\n",
    "- **Line plot**: sequential numerical (time) vs. numerical.\n",
    "    - Example: height vs. time.\n",
    "- **Bar chart**: categorical vs. numerical.\n",
    "    - Example: heights of all family members.\n",
    "- **Histogram**: distribution of numerical.\n",
    "    \n",
    "**Note:** We may interchange the words \"plot\", \"chart\", and \"graph\"; they all mean the same thing."
   ]
  },
  {
   "cell_type": "markdown",
   "metadata": {
    "slideshow": {
     "slide_type": "slide"
    }
   },
   "source": [
    "## Histograms: Motivation"
   ]
  },
  {
   "cell_type": "markdown",
   "metadata": {
    "slideshow": {
     "slide_type": "slide"
    }
   },
   "source": [
    "### Dataset of the top 200 songs on Spotify as of Sunday (4/10/22) 🎵\n",
    "\n",
    "[Downloaded from here – check it out!](https://spotifycharts.com/regional)"
   ]
  },
  {
   "cell_type": "code",
   "execution_count": null,
   "metadata": {
    "slideshow": {
     "slide_type": "-"
    }
   },
   "outputs": [],
   "source": [
    "charts = (bpd.read_csv('data/regional-global-daily-latest.csv')\n",
    "          .set_index('rank')\n",
    "          .get(['track_name', 'artist_names', 'streams'])\n",
    "         )\n",
    "charts"
   ]
  },
  {
   "cell_type": "code",
   "execution_count": null,
   "metadata": {
    "slideshow": {
     "slide_type": "slide"
    }
   },
   "outputs": [],
   "source": []
  },
  {
   "cell_type": "markdown",
   "metadata": {},
   "source": [
    "Note the optional `title`, `color`, and `figsize` arguments."
   ]
  },
  {
   "cell_type": "markdown",
   "metadata": {
    "slideshow": {
     "slide_type": "slide"
    }
   },
   "source": [
    "### How do we visualize the distribution of the number of streams?\n",
    "\n",
    "- **Question:** Can we use a bar chart? \n",
    "\n",
    "- **Answer:** No! \n",
    "    - Bar charts visualize the relationship between a categorical variable (e.g. song name) and numerical variable (e.g. streams).\n",
    "    - In all of the bar charts we created, we had to pick a category for our labels.\n",
    "        - With a bar chart, we can visualize the number of streams **per song**. \n",
    "    - If we're looking at just the number of streams, and ignoring all other columns, there's no \"category\"."
   ]
  },
  {
   "cell_type": "markdown",
   "metadata": {
    "slideshow": {
     "slide_type": "slide"
    }
   },
   "source": [
    "### New idea: binning 🗑️\n",
    "\n",
    "- Binning is the act of counting the number of numerical values that fall within ranges, called “bins”.\n",
    "- A bin is defined by a left endpoint (lower bound) and right endpoint (upper bound).\n",
    "- A value falls in a bin if it is **greater than or equal to the left** endpoint and **less than the right** endpoint.\n",
    "    - [a, b): a is included, b is not.\n",
    "- The width of a bin is its right endpoint minus its left endpoint.\n"
   ]
  },
  {
   "cell_type": "code",
   "execution_count": null,
   "metadata": {
    "scrolled": true,
    "slideshow": {
     "slide_type": "-"
    }
   },
   "outputs": [],
   "source": [
    "binning_animation()"
   ]
  },
  {
   "cell_type": "markdown",
   "metadata": {
    "slideshow": {
     "slide_type": "slide"
    }
   },
   "source": [
    "### Distribution of streams\n",
    "\n",
    "- $x$-axis: streams (numerical).\n",
    "- $y$-axis: a bar whose height encodes the number of songs that had about that many streams."
   ]
  },
  {
   "cell_type": "code",
   "execution_count": null,
   "metadata": {},
   "outputs": [],
   "source": []
  },
  {
   "cell_type": "markdown",
   "metadata": {
    "slideshow": {
     "slide_type": "fragment"
    }
   },
   "source": [
    "- 👀 It seems like the vast majority of songs on the charts have under 2 million streams, but some have more.\n",
    "    - The `1e6` in the bottom right means \"multiply this axis by a million\", since $10^{6} = 1{,}000{,}000$."
   ]
  },
  {
   "cell_type": "markdown",
   "metadata": {
    "slideshow": {
     "slide_type": "slide"
    }
   },
   "source": [
    "### Plotting histograms\n",
    "\n",
    "- **Histograms** (not bar charts!) visualize the distribution of a single numerical variable by placing numbers into bins.\n",
    "- To create one from a DataFrame `df`, use\n",
    "```py\n",
    "df.plot(\n",
    "    kind='hist', \n",
    "    y=column_name\n",
    ")\n",
    "```\n",
    "- ⚠️ By default, the height of a bar is the *number* of values in the corresponding *bin*.\n",
    "- Optional: specify the number of bins with `bins=`. Use `ec='w'` to see where bins start and end more clearly."
   ]
  },
  {
   "cell_type": "code",
   "execution_count": null,
   "metadata": {},
   "outputs": [],
   "source": []
  },
  {
   "cell_type": "markdown",
   "metadata": {
    "slideshow": {
     "slide_type": "slide"
    }
   },
   "source": [
    "### Example: Number of songs per artist"
   ]
  },
  {
   "cell_type": "code",
   "execution_count": null,
   "metadata": {},
   "outputs": [],
   "source": []
  },
  {
   "cell_type": "markdown",
   "metadata": {
    "slideshow": {
     "slide_type": "fragment"
    }
   },
   "source": [
    "- Note: No more \"1e6\" in the bottom right!\n",
    "     - We're now plotting number of songs, not number of streams."
   ]
  },
  {
   "cell_type": "markdown",
   "metadata": {
    "slideshow": {
     "slide_type": "slide"
    }
   },
   "source": [
    "### Custom bins\n",
    "\n",
    "- We can specify our own bins with an array or list.\n",
    "    - It's good to do this, so that we know where the bins start and end.\n",
    "- `bins=np.arange(1, 9)` creates the bins [1, 2), [2, 3), [3, 4), [4, 5), [5, 6), [6, 7), and [7, 8].\n",
    "    - **Important**: in a histogram, only the last bin is inclusive of the right endpoint!\n",
    "- ⚠️ Data points not in any bin will not be included in the histogram."
   ]
  },
  {
   "cell_type": "code",
   "execution_count": null,
   "metadata": {
    "slideshow": {
     "slide_type": "-"
    }
   },
   "outputs": [],
   "source": []
  },
  {
   "cell_type": "markdown",
   "metadata": {
    "slideshow": {
     "slide_type": "fragment"
    }
   },
   "source": [
    "- 👀 The vast majority of artists had only 1 or 2 songs on the charts, but Bad Bunny had 14!\n",
    "- We'd say this distribution is **right-skewed** or **right-tailed**."
   ]
  },
  {
   "cell_type": "markdown",
   "metadata": {
    "slideshow": {
     "slide_type": "slide"
    }
   },
   "source": [
    "### Bin widths don't have to be uniform!\n",
    "\n",
    "- When we set `bins=np.arange(1, 9)`, each bin has the same width (1).\n",
    "- But we could make bins of varying widths.\n",
    "- `bins=[1, 2, 3, 4, 6, 8]` creates the bins [1, 2), [2, 3), [3, 4), [4, 6), and [6, 8]."
   ]
  },
  {
   "cell_type": "code",
   "execution_count": null,
   "metadata": {
    "slideshow": {
     "slide_type": "-"
    }
   },
   "outputs": [],
   "source": [
    "weird_bins = [1, 2, 3, 4, 6, 8]\n",
    "songs_per_artist.plot(kind='hist', y='count', ec='w', bins=weird_bins);"
   ]
  },
  {
   "cell_type": "markdown",
   "metadata": {
    "slideshow": {
     "slide_type": "slide"
    }
   },
   "source": [
    "<div class=\"menti\">\n",
    "<div>\n",
    "    \n",
    "### Discussion Question\n",
    "\n",
    "Intuitively, what should happen to our histogram if we combine the bins [2, 3), [3, 4), and [4, 6) into one large bin [2, 6)?\n",
    "\n",
    "A. The height of the bar for bin [2, 6) should be the sum of the heights of the three bars.\n",
    "\n",
    "B. The height of the bar for bin [2, 6) should be the average of the heights of the three bars.\n",
    "\n",
    "C. The area of the bar for bin [2, 6) should be the sum of the areas of the three bars.\n",
    "\n",
    "D. More than one of the above.\n",
    "\n",
    "\n",
    "</div>\n",
    "<div>\n",
    "\n",
    "### To answer, go to **[menti.com](https://www.menti.com/v42ge81t5d)** and enter the code 2863 3386 or use this QR code:\n",
    "\n",
    "![](images/menti-qr.png)\n",
    "    \n",
    "</div>\n",
    "</div>"
   ]
  },
  {
   "cell_type": "code",
   "execution_count": null,
   "metadata": {},
   "outputs": [],
   "source": []
  },
  {
   "cell_type": "markdown",
   "metadata": {
    "slideshow": {
     "slide_type": "fragment"
    }
   },
   "source": [
    "### There's a problem... 🤔\n",
    "\n",
    "- We know that there are ~130 artists with 1 song and ~15 artists with 2 songs.\n",
    "- But with these new bins, it looks like there are lots of artists that had between 2-6 songs.\n",
    "- **Takeaway:** Using bins with different widths is **misleading** if the $y$-axis is frequency (which is the default)."
   ]
  },
  {
   "cell_type": "markdown",
   "metadata": {
    "slideshow": {
     "slide_type": "slide"
    }
   },
   "source": [
    "## Density histograms"
   ]
  },
  {
   "cell_type": "markdown",
   "metadata": {
    "slideshow": {
     "slide_type": "slide"
    }
   },
   "source": [
    "### Solution: normalize bars by their width\n",
    "\n",
    "- Use the `density=True` keyword argument to make a **density histogram**.\n",
    "    - **Important:** We will **always** do this moving forward."
   ]
  },
  {
   "cell_type": "code",
   "execution_count": null,
   "metadata": {
    "scrolled": false
   },
   "outputs": [],
   "source": []
  },
  {
   "cell_type": "markdown",
   "metadata": {
    "slideshow": {
     "slide_type": "fragment"
    }
   },
   "source": [
    "What do you notice about this new histogram?\n",
    "\n",
    "- The $y$-axis is now in decimals.\n",
    "- The relative heights of the bins are now different."
   ]
  },
  {
   "cell_type": "markdown",
   "metadata": {
    "slideshow": {
     "slide_type": "slide"
    }
   },
   "source": [
    "### Areas are proportions!\n",
    "\n",
    "- The **area** of a bar in a density histogram is equal to the proportion (percentage) of all data points that fall into that bin.\n",
    "- **The total area of a density histogram is always 1 (100%)**.\n",
    "- Proportions and percentages represent the same thing.\n",
    "    - A proportion is a decimal between 0 and 1, a percentage is between 0\\% and 100\\%.\n",
    "    - 0.34 means 34\\%."
   ]
  },
  {
   "cell_type": "markdown",
   "metadata": {
    "slideshow": {
     "slide_type": "slide"
    }
   },
   "source": [
    "### How to calculate heights in a density histogram\n",
    "\n",
    "$$\\text{Area} = \\text{Height} \\times \\text{Width}$$\n",
    "\n",
    "That means\n",
    "\n",
    "$$\\text{Height} = \\frac{\\text{Area}}{\\text{Width}} = \\frac{\\text{Proportion (or Percentage)}}{\\text{Width}}$$\n",
    "\n",
    "- Note that this means the units for height are \"proportion per ($x$-axis unit)\"."
   ]
  },
  {
   "cell_type": "markdown",
   "metadata": {
    "slideshow": {
     "slide_type": "slide"
    }
   },
   "source": [
    "### Example calculation"
   ]
  },
  {
   "cell_type": "code",
   "execution_count": null,
   "metadata": {
    "scrolled": false
   },
   "outputs": [],
   "source": [
    "bins = [1, 3, 5, 7]\n",
    "songs_per_artist.plot(kind='hist', y='count', ec='w',\n",
    "                      bins=bins, density=True);"
   ]
  },
  {
   "cell_type": "markdown",
   "metadata": {
    "slideshow": {
     "slide_type": "fragment"
    }
   },
   "source": [
    "- The $y$-axis units here are \"proportion per song\", since the $x$-axis represents number of songs.\n",
    "  - Unfortunately, the $y$-axis units on the histogram still display as \"Frequency\". **This is wrong!**\n",
    "  - Can fix with `plt.ylabel(...)`\n",
    "- Based on this histogram, what proportion of artists had between 1 or 3 songs in the top 200?"
   ]
  },
  {
   "cell_type": "markdown",
   "metadata": {
    "slideshow": {
     "slide_type": "slide"
    }
   },
   "source": [
    "### Example calculation\n",
    "\n",
    "- The height of the [1, 3) bar looks to be around 0.45.\n",
    "    - Interpretation: 0.45 per song, or 45% per song.\n",
    "- The width of the bin is 3 - 1 = 2 songs.\n",
    "\n",
    "- Hence,\n",
    "\n",
    "$$\\text{Area} = \\text{Height} \\times \\text{Width} = 0.45 \\times 2 = 0.9$$\n",
    "\n",
    "- Since areas = proportions, this means that the proportion of artists with 1 or 2 songs on the charts was roughly 0.9 (90\\%)."
   ]
  },
  {
   "cell_type": "code",
   "execution_count": null,
   "metadata": {
    "slideshow": {
     "slide_type": "slide"
    }
   },
   "outputs": [],
   "source": [
    "# Let's check it\n"
   ]
  },
  {
   "cell_type": "code",
   "execution_count": null,
   "metadata": {},
   "outputs": [],
   "source": [
    "total = songs_per_artist.shape[0]\n",
    "total"
   ]
  },
  {
   "cell_type": "code",
   "execution_count": null,
   "metadata": {},
   "outputs": [],
   "source": []
  },
  {
   "cell_type": "markdown",
   "metadata": {
    "slideshow": {
     "slide_type": "fragment"
    }
   },
   "source": [
    "This matches the result we got. (Not exactly, since we made a rough guess for the height.)"
   ]
  },
  {
   "cell_type": "markdown",
   "metadata": {
    "slideshow": {
     "slide_type": "slide"
    }
   },
   "source": [
    "### 🌟 Important 🌟\n",
    "\n",
    "**In this class, \"histogram\" will always mean \"density histogram\".** We will **only** use density histograms moving forward."
   ]
  },
  {
   "cell_type": "markdown",
   "metadata": {
    "slideshow": {
     "slide_type": "slide"
    }
   },
   "source": [
    "<div class=\"menti\">\n",
    "<div>\n",
    "    \n",
    "### Discussion Question\n",
    "\n",
    "Suppose we created a density histogram of people's shoe sizes. 👟 Below are the bins we chose along with their heights.\n",
    "\n",
    "| Bin | Height of Bar |\n",
    "| --- | --- |\n",
    "| [3, 7) | 0.05 |\n",
    "| [7, 10) | 0.1 |\n",
    "| [10, 12) | 0.15 |\n",
    "| [12, 16] | $X$ |\n",
    "\n",
    "\n",
    "What should the value of $X$ be so that this is a valid histogram?\n",
    "\n",
    "A. 0.02\n",
    "\n",
    "B. 0.05\n",
    "\n",
    "C. 0.2\n",
    "\n",
    "D. 0.5\n",
    "\n",
    "E. 0.7\n",
    "\n",
    "</div>\n",
    "<div>\n",
    "\n",
    "### To answer, go to **[menti.com](https://www.menti.com/v42ge81t5d)** and enter the code 2863 3386 or use this QR code:\n",
    "\n",
    "![](images/menti-qr.png)\n",
    "    \n",
    "</div>\n",
    "</div>\n"
   ]
  },
  {
   "cell_type": "markdown",
   "metadata": {
    "slideshow": {
     "slide_type": "slide"
    }
   },
   "source": [
    "### Bar charts vs. histograms\n",
    "\n",
    "Bar Chart | Histogram\n",
    "---|---\n",
    "1 categorical axis,  1 numerical axis | 2 numerical axes\n",
    "Bars have arbitrary, but equal, widths and spacing | Horizontal axis is numerical and to scale\n",
    "Lengths of bars are proportional to the numerical quantity of interest | Height measures density; areas are proportional to the proportion (percent) of individuals"
   ]
  },
  {
   "cell_type": "markdown",
   "metadata": {
    "slideshow": {
     "slide_type": "slide"
    }
   },
   "source": [
    "## Overlaid plots"
   ]
  },
  {
   "cell_type": "markdown",
   "metadata": {
    "slideshow": {
     "slide_type": "slide"
    }
   },
   "source": [
    "### New dataset: populations of San Diego and San Jose over time\n",
    "\n",
    "The data for both cities was downloaded from [macrotrends.net](https://www.macrotrends.net/cities/23129/san-diego/population)."
   ]
  },
  {
   "cell_type": "code",
   "execution_count": null,
   "metadata": {
    "scrolled": true
   },
   "outputs": [],
   "source": [
    "population = bpd.read_csv('data/sd-sj-2022.csv').set_index('date')\n",
    "population"
   ]
  },
  {
   "cell_type": "markdown",
   "metadata": {
    "slideshow": {
     "slide_type": "slide"
    }
   },
   "source": [
    "### Recall: line plots"
   ]
  },
  {
   "cell_type": "code",
   "execution_count": null,
   "metadata": {},
   "outputs": [],
   "source": []
  },
  {
   "cell_type": "markdown",
   "metadata": {
    "slideshow": {
     "slide_type": "slide"
    }
   },
   "source": [
    "### Overlaying plots\n",
    "\n",
    "- If `y=column_name` is omitted, all columns are plotted!"
   ]
  },
  {
   "cell_type": "code",
   "execution_count": null,
   "metadata": {},
   "outputs": [],
   "source": []
  },
  {
   "cell_type": "markdown",
   "metadata": {
    "slideshow": {
     "slide_type": "slide"
    }
   },
   "source": [
    "### Selecting multiple columns at once\n",
    "- To get multiple columns, use `.get([column_1, ..., column_k])`.\n",
    "- Passing a list of column labels to `.get` returns a DataFrame.\n",
    "    - `.get([column_name])` will return a DataFrame with just one column!"
   ]
  },
  {
   "cell_type": "code",
   "execution_count": null,
   "metadata": {},
   "outputs": [],
   "source": []
  },
  {
   "cell_type": "code",
   "execution_count": null,
   "metadata": {},
   "outputs": [],
   "source": []
  },
  {
   "cell_type": "markdown",
   "metadata": {
    "slideshow": {
     "slide_type": "slide"
    }
   },
   "source": [
    "### To plot multiple graphs at once:\n",
    "* `drop` all extraneous columns from your DataFrame.\n",
    "    * Equivalently, `get` only the columns that contain information relevant to your plot.\n",
    "* Specify the column for the $x$-axis (if not the index) in `.plot(x=column_name)`.\n",
    "* `plot` will plot **all** other columns on a shared $y$-axis.\n",
    "\n",
    "The same thing works for `barh`, `bar`, and `hist`, but not `scatter`."
   ]
  },
  {
   "cell_type": "markdown",
   "metadata": {
    "slideshow": {
     "slide_type": "slide"
    }
   },
   "source": [
    "## Example: Overlaid histograms"
   ]
  },
  {
   "cell_type": "markdown",
   "metadata": {
    "slideshow": {
     "slide_type": "slide"
    }
   },
   "source": [
    "### New dataset: heights of children and their parents 👪 📏\n",
    "\n",
    "- This data was collected by Francis Galton, a eugenicist and the creator of linear regression.\n",
    "    - We will revisit this dataset later on in the course.\n",
    "- We only need the `'father'`, `'mother'`, and `'childHeight'` columns for now."
   ]
  },
  {
   "cell_type": "code",
   "execution_count": null,
   "metadata": {
    "scrolled": false,
    "slideshow": {
     "slide_type": "-"
    }
   },
   "outputs": [],
   "source": [
    "heights = (bpd.read_csv('data/galton.csv')\n",
    "           .get(['father', 'mother', 'childHeight']))\n",
    "heights"
   ]
  },
  {
   "cell_type": "markdown",
   "metadata": {
    "slideshow": {
     "slide_type": "slide"
    }
   },
   "source": [
    "### Plotting overlaid histograms\n",
    "\n",
    "- `alpha` controls how transparent the bars are (`alpha=1` is opaque, `alpha=0` is transparent)."
   ]
  },
  {
   "cell_type": "code",
   "execution_count": null,
   "metadata": {
    "scrolled": false
   },
   "outputs": [],
   "source": [
    "bins = np.arange(55, 80, 2.5)\n"
   ]
  },
  {
   "cell_type": "markdown",
   "metadata": {
    "slideshow": {
     "slide_type": "slide"
    }
   },
   "source": [
    "### Too much going on...\n",
    "\n",
    "It's too hard to read any of the individual histograms here. Let's just draw two, `'childHeight'` and `'mother'`."
   ]
  },
  {
   "cell_type": "code",
   "execution_count": null,
   "metadata": {},
   "outputs": [],
   "source": []
  },
  {
   "cell_type": "markdown",
   "metadata": {
    "slideshow": {
     "slide_type": "-"
    }
   },
   "source": [
    "### Practice Questions\n",
    "\n",
    "Try to answer these questions based on the overlaid histogram.\n",
    "\n",
    "1. What proportion of children were between 70 and 75 inches tall?\n",
    "\n",
    "2. What proportion of mothers were between 60 and 63 inches tall?"
   ]
  },
  {
   "cell_type": "markdown",
   "metadata": {
    "slideshow": {
     "slide_type": "slide"
    }
   },
   "source": [
    "<h3>Answers</h3>\n",
    "<details>\n",
    "<summary>Click here to show.</summary>\n",
    "    \n",
    "<b>Question 1</b>\n",
    "    \n",
    "The height of the $[70, 72.5)$ bar is around $0.08$, meaning that $0.08 \\cdot 2.5 = 0.2$ of children had heights in that interval. The height of the $[72.5, 75)$ bar is around $0.02$, meaning $0.02 \\cdot 2.5 = 0.05$ of children had heights in that interval. Thus, the overall proportion of children who were between $70$ and $75$ inches tall was around $0.20 + 0.05 = 0.25$, or $25\\%$.\n",
    "    \n",
    "To verify our answer, we can run\n",
    "\n",
    "<code>heights[(heights.get('childHeight') >= 70) & (heights.get('childHeight') < 75)].shape[0] / heights.shape[0]</code>\n",
    "    \n",
    "<b>Question 2</b>\n",
    "    \n",
    "We can't tell. We could try and breaking it up into the proportion of mothers in $[60, 62.5)$ and $[62.5, 63)$, but we don't know the latter. In the absence of any additional information, we can't infer about the distribution of values within a bin. For example, it could be that everyone in the interval $[62.5, 65)$ actually falls in the interval  $[62.5, 63)$ - or it could be that no one does!\n",
    "\n",
    "</details>"
   ]
  },
  {
   "cell_type": "markdown",
   "metadata": {
    "slideshow": {
     "slide_type": "slide"
    }
   },
   "source": [
    "## Summary"
   ]
  },
  {
   "cell_type": "markdown",
   "metadata": {
    "slideshow": {
     "slide_type": "slide"
    }
   },
   "source": [
    "### Summary\n",
    "\n",
    "- Histograms (not bar charts!) are used to display the distribution of a numerical variable.\n",
    "- We will always use density histograms.\n",
    "    - In density histograms, the area of a bar represents the proportion (percentage) of values within its bin.\n",
    "    - The total area of all bars is 1 (100%).\n",
    "- We can overlay multiple line plots, bar charts, and histograms on top of one another to look at multiple relationships or distributions.\n",
    "- **Next time**: More DataFrame manipulation.\n",
    "    - Writing our own functions (Lab 3)."
   ]
  }
 ],
 "metadata": {
  "kernelspec": {
   "display_name": "Python 3 (ipykernel)",
   "language": "python",
   "name": "python3"
  },
  "language_info": {
   "codemirror_mode": {
    "name": "ipython",
    "version": 3
   },
   "file_extension": ".py",
   "mimetype": "text/x-python",
   "name": "python",
   "nbconvert_exporter": "python",
   "pygments_lexer": "ipython3",
   "version": "3.8.5"
  },
  "livereveal": {
   "scroll": true
  }
 },
 "nbformat": 4,
 "nbformat_minor": 2
}
