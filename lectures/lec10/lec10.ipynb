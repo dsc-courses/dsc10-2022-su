{
 "cells": [
  {
   "cell_type": "code",
   "execution_count": 1,
   "metadata": {
    "slideshow": {
     "slide_type": "skip"
    }
   },
   "outputs": [
    {
     "data": {
      "text/html": [
       "\n",
       "<script type=\"text/javascript\" src=\"https://pandastutor.com/build/wsembed.bundle.2022-07-07-release.js\"></script>\n",
       "<script>\n",
       "console.log(\"initializing pandas_tutor js\")\n",
       "\n",
       "function drawWsv(viz_id, spec, options) {\n",
       "  if (typeof createWsvFromPandasTrace === 'undefined') {\n",
       "    setTimeout(() => drawWsv(viz_id, spec, options), 2000) // retry in 2 seconds\n",
       "    return\n",
       "  }\n",
       "  createWsvFromPandasTrace(viz_id, spec, options)\n",
       "}\n",
       "</script>\n"
      ],
      "text/plain": [
       "<IPython.core.display.HTML object>"
      ]
     },
     "metadata": {},
     "output_type": "display_data"
    }
   ],
   "source": [
    "# Set up packages for lecture. Don't worry about understanding this code, but\n",
    "# make sure to run it if you're following along.\n",
    "import numpy as np\n",
    "import babypandas as bpd\n",
    "import pandas as pd\n",
    "from matplotlib_inline.backend_inline import set_matplotlib_formats\n",
    "import matplotlib.pyplot as plt\n",
    "%reload_ext pandas_tutor\n",
    "%set_pandas_tutor_options {'projectorMode': True}\n",
    "set_matplotlib_formats(\"svg\")\n",
    "plt.style.use('fivethirtyeight')\n",
    "\n",
    "np.set_printoptions(threshold=20, precision=2, suppress=True)\n",
    "pd.set_option(\"display.max_rows\", 7)\n",
    "pd.set_option(\"display.max_columns\", 8)\n",
    "pd.set_option(\"display.precision\", 2)"
   ]
  },
  {
   "cell_type": "code",
   "execution_count": 2,
   "metadata": {
    "slideshow": {
     "slide_type": "skip"
    }
   },
   "outputs": [],
   "source": [
    "from IPython.display import display, IFrame\n",
    "\n",
    "def merging_animation():\n",
    "    src=\"https://docs.google.com/presentation/d/e/2PACX-1vSk2FfJ4K_An_CQwcN_Yu5unpJckOZjVQDFqZ78ZTTMmowUsCQKKVnum0_m6TaiGquQ44E3FiS9g2Y4/embed?start=false&loop=false&delayms=60000\"\n",
    "    width=825\n",
    "    height=500\n",
    "    display(IFrame(src, width, height))"
   ]
  },
  {
   "cell_type": "markdown",
   "metadata": {
    "slideshow": {
     "slide_type": "slide"
    }
   },
   "source": [
    "# Lecture 10 – Grouping with Subgroups, Merge\n",
    "\n",
    "## DSC 10, Summer 2022"
   ]
  },
  {
   "cell_type": "markdown",
   "metadata": {
    "slideshow": {
     "slide_type": "slide"
    }
   },
   "source": [
    "### Announcements\n",
    "\n",
    "- Good job so far on the assignments!\n",
    "    - Having trouble turning in assignments on time? Talk to a staff member during OH or via email!\n",
    "- Homework 3 is due **Sat at 11:59pm.**\n",
    "- Lab 4 is due **Tues 4/26 at 11:59pm**.\n",
    "- Midterm Project will be released later this week and will be due **Sat 8/6 at 11:59pm**.\n",
    "    - Can work alone or with a partner.\n",
    "    - Will make a spreadsheet to help people find partners.\n",
    "- Will try something different today:\n",
    "    - Open-ended coding questions instead of MC Menti Qs, will walk around to help."
   ]
  },
  {
   "cell_type": "markdown",
   "metadata": {
    "slideshow": {
     "slide_type": "slide"
    }
   },
   "source": [
    "### Agenda\n",
    "\n",
    "- Grouping with subgroups.\n",
    "- Merging."
   ]
  },
  {
   "cell_type": "markdown",
   "metadata": {
    "slideshow": {
     "slide_type": "slide"
    }
   },
   "source": [
    "## Grouping with subgroups"
   ]
  },
  {
   "cell_type": "markdown",
   "metadata": {
    "slideshow": {
     "slide_type": "slide"
    }
   },
   "source": [
    "### Our familiar NBA dataset 🏀"
   ]
  },
  {
   "cell_type": "code",
   "execution_count": 3,
   "metadata": {},
   "outputs": [
    {
     "data": {
      "text/html": [
       "<div>\n",
       "<style scoped>\n",
       "    .dataframe tbody tr th:only-of-type {\n",
       "        vertical-align: middle;\n",
       "    }\n",
       "\n",
       "    .dataframe tbody tr th {\n",
       "        vertical-align: top;\n",
       "    }\n",
       "\n",
       "    .dataframe thead th {\n",
       "        text-align: right;\n",
       "    }\n",
       "</style>\n",
       "<table border=\"1\" class=\"dataframe\">\n",
       "  <thead>\n",
       "    <tr style=\"text-align: right;\">\n",
       "      <th></th>\n",
       "      <th>Player</th>\n",
       "      <th>Position</th>\n",
       "      <th>Team</th>\n",
       "      <th>Salary</th>\n",
       "    </tr>\n",
       "  </thead>\n",
       "  <tbody>\n",
       "    <tr>\n",
       "      <th>0</th>\n",
       "      <td>John Collins</td>\n",
       "      <td>PF</td>\n",
       "      <td>Atlanta Hawks</td>\n",
       "      <td>23000000</td>\n",
       "    </tr>\n",
       "    <tr>\n",
       "      <th>1</th>\n",
       "      <td>Danilo Gallinari</td>\n",
       "      <td>PF</td>\n",
       "      <td>Atlanta Hawks</td>\n",
       "      <td>20475000</td>\n",
       "    </tr>\n",
       "    <tr>\n",
       "      <th>2</th>\n",
       "      <td>Bogdan Bogdanović</td>\n",
       "      <td>SG</td>\n",
       "      <td>Atlanta Hawks</td>\n",
       "      <td>18000000</td>\n",
       "    </tr>\n",
       "    <tr>\n",
       "      <th>...</th>\n",
       "      <td>...</td>\n",
       "      <td>...</td>\n",
       "      <td>...</td>\n",
       "      <td>...</td>\n",
       "    </tr>\n",
       "    <tr>\n",
       "      <th>378</th>\n",
       "      <td>Raul Neto</td>\n",
       "      <td>PG</td>\n",
       "      <td>Washington Wizards</td>\n",
       "      <td>2089448</td>\n",
       "    </tr>\n",
       "    <tr>\n",
       "      <th>379</th>\n",
       "      <td>Daniel Gafford</td>\n",
       "      <td>C</td>\n",
       "      <td>Washington Wizards</td>\n",
       "      <td>1782621</td>\n",
       "    </tr>\n",
       "    <tr>\n",
       "      <th>380</th>\n",
       "      <td>Anthony Gill</td>\n",
       "      <td>PF</td>\n",
       "      <td>Washington Wizards</td>\n",
       "      <td>1517981</td>\n",
       "    </tr>\n",
       "  </tbody>\n",
       "</table>\n",
       "<p>381 rows × 4 columns</p>\n",
       "</div>"
      ],
      "text/plain": [
       "                Player Position                Team    Salary\n",
       "0         John Collins       PF       Atlanta Hawks  23000000\n",
       "1     Danilo Gallinari       PF       Atlanta Hawks  20475000\n",
       "2    Bogdan Bogdanović       SG       Atlanta Hawks  18000000\n",
       "..                 ...      ...                 ...       ...\n",
       "378          Raul Neto       PG  Washington Wizards   2089448\n",
       "379     Daniel Gafford        C  Washington Wizards   1782621\n",
       "380       Anthony Gill       PF  Washington Wizards   1517981\n",
       "\n",
       "[381 rows x 4 columns]"
      ]
     },
     "execution_count": 3,
     "metadata": {},
     "output_type": "execute_result"
    }
   ],
   "source": [
    "nba = bpd.read_csv('data/nba-2022.csv')\n",
    "nba"
   ]
  },
  {
   "cell_type": "markdown",
   "metadata": {
    "slideshow": {
     "slide_type": "slide"
    }
   },
   "source": [
    "### How many players are on each team?\n",
    "\n",
    "- We know how to answer this: `.groupby('Team')` with `.count()`.\n",
    "- **Notice**: `'Team'` becomes the index."
   ]
  },
  {
   "cell_type": "code",
   "execution_count": 4,
   "metadata": {},
   "outputs": [
    {
     "data": {
      "text/html": [
       "<div>\n",
       "<style scoped>\n",
       "    .dataframe tbody tr th:only-of-type {\n",
       "        vertical-align: middle;\n",
       "    }\n",
       "\n",
       "    .dataframe tbody tr th {\n",
       "        vertical-align: top;\n",
       "    }\n",
       "\n",
       "    .dataframe thead th {\n",
       "        text-align: right;\n",
       "    }\n",
       "</style>\n",
       "<table border=\"1\" class=\"dataframe\">\n",
       "  <thead>\n",
       "    <tr style=\"text-align: right;\">\n",
       "      <th></th>\n",
       "      <th>Player</th>\n",
       "      <th>Position</th>\n",
       "      <th>Salary</th>\n",
       "    </tr>\n",
       "    <tr>\n",
       "      <th>Team</th>\n",
       "      <th></th>\n",
       "      <th></th>\n",
       "      <th></th>\n",
       "    </tr>\n",
       "  </thead>\n",
       "  <tbody>\n",
       "    <tr>\n",
       "      <th>Atlanta Hawks</th>\n",
       "      <td>11</td>\n",
       "      <td>11</td>\n",
       "      <td>11</td>\n",
       "    </tr>\n",
       "    <tr>\n",
       "      <th>Boston Celtics</th>\n",
       "      <td>13</td>\n",
       "      <td>13</td>\n",
       "      <td>13</td>\n",
       "    </tr>\n",
       "    <tr>\n",
       "      <th>Brooklyn Nets</th>\n",
       "      <td>11</td>\n",
       "      <td>11</td>\n",
       "      <td>11</td>\n",
       "    </tr>\n",
       "    <tr>\n",
       "      <th>...</th>\n",
       "      <td>...</td>\n",
       "      <td>...</td>\n",
       "      <td>...</td>\n",
       "    </tr>\n",
       "    <tr>\n",
       "      <th>Toronto Raptors</th>\n",
       "      <td>11</td>\n",
       "      <td>11</td>\n",
       "      <td>11</td>\n",
       "    </tr>\n",
       "    <tr>\n",
       "      <th>Utah Jazz</th>\n",
       "      <td>11</td>\n",
       "      <td>11</td>\n",
       "      <td>11</td>\n",
       "    </tr>\n",
       "    <tr>\n",
       "      <th>Washington Wizards</th>\n",
       "      <td>12</td>\n",
       "      <td>12</td>\n",
       "      <td>12</td>\n",
       "    </tr>\n",
       "  </tbody>\n",
       "</table>\n",
       "<p>30 rows × 3 columns</p>\n",
       "</div>"
      ],
      "text/plain": [
       "                    Player  Position  Salary\n",
       "Team                                        \n",
       "Atlanta Hawks           11        11      11\n",
       "Boston Celtics          13        13      13\n",
       "Brooklyn Nets           11        11      11\n",
       "...                    ...       ...     ...\n",
       "Toronto Raptors         11        11      11\n",
       "Utah Jazz               11        11      11\n",
       "Washington Wizards      12        12      12\n",
       "\n",
       "[30 rows x 3 columns]"
      ]
     },
     "execution_count": 4,
     "metadata": {},
     "output_type": "execute_result"
    }
   ],
   "source": [
    "nba.groupby('Team').count()"
   ]
  },
  {
   "cell_type": "markdown",
   "metadata": {
    "slideshow": {
     "slide_type": "slide"
    }
   },
   "source": [
    "### How many players at each position does each team have?\n",
    "\n",
    "- It seems like grouping would be helpful here, but currently we only know how to group by a single column.\n",
    "    - Right now, we can count the number of players on each team.\n",
    "    - Separately, we can count the number of players at each position.\n",
    "\n",
    "- Here, we want to somehow group by multiple columns. \n",
    "    - Specifically, we want the number of players at each position on each team.\n",
    "    - e.g. the number of centers on the Los Angeles Lakers, the number of power forwards on the Atlanta Hawks.\n",
    "- There's a way!"
   ]
  },
  {
   "cell_type": "code",
   "execution_count": 5,
   "metadata": {
    "slideshow": {
     "slide_type": "slide"
    }
   },
   "outputs": [
    {
     "data": {
      "text/html": [
       "\n",
       "<div class=\"pt-viz\" id=\"pt-viz-0\"></div>\n",
       "<script>\n",
       "drawWsv('#pt-viz-0', \"{\\n  \\\"code\\\": \\\"\\\\n# Take the top 24 rows for simplicity\\\\nnba.take(np.arange(24)).groupby(['Team', 'Position']).count()\\\\n\\\",\\n  \\\"explanation\\\": [\\n    {\\n      \\\"type\\\": \\\"PassThroughCall\\\",\\n      \\\"code_step\\\": \\\"nba.take(np.arange(24)).groupby(['Team', 'Position']).count()\\\",\\n      \\\"fragment\\\": {\\n        \\\"start\\\": {\\n          \\\"line\\\": 0,\\n          \\\"ch\\\": 3\\n        },\\n        \\\"end\\\": {\\n          \\\"line\\\": 0,\\n          \\\"ch\\\": 23\\n        }\\n      },\\n      \\\"marks\\\": [],\\n      \\\"data\\\": {\\n        \\\"lhs\\\": {\\n          \\\"type\\\": \\\"DataFrame\\\",\\n          \\\"columns\\\": {\\n            \\\"names\\\": [\\n              null\\n            ],\\n            \\\"labels\\\": [\\n              \\\"Player\\\",\\n              \\\"Position\\\",\\n              \\\"Team\\\",\\n              \\\"Salary\\\"\\n            ]\\n          },\\n          \\\"index\\\": {\\n            \\\"names\\\": [\\n              null\\n            ],\\n            \\\"labels\\\": [\\n              0,\\n              1,\\n              2,\\n              3,\\n              4,\\n              5,\\n              6,\\n              7,\\n              8,\\n              9,\\n              10,\\n              11,\\n              12,\\n              13,\\n              14,\\n              15,\\n              16,\\n              17,\\n              18,\\n              19,\\n              20,\\n              21,\\n              22,\\n              23,\\n              24,\\n              25,\\n              26,\\n              27,\\n              28,\\n              29,\\n              30,\\n              31,\\n              32,\\n              33,\\n              34,\\n              35,\\n              36,\\n              37,\\n              38,\\n              39,\\n              40,\\n              41,\\n              42,\\n              43,\\n              44,\\n              45,\\n              46,\\n              47,\\n              48,\\n              49,\\n              50,\\n              51,\\n              52,\\n              53,\\n              54,\\n              55,\\n              56,\\n              57,\\n              58,\\n              59,\\n              60,\\n              61,\\n              62,\\n              63,\\n              64,\\n              65,\\n              66,\\n              67,\\n              68,\\n              69,\\n              70,\\n              71,\\n              72,\\n              73,\\n              74,\\n              75,\\n              76,\\n              77,\\n              78,\\n              79,\\n              80,\\n              81,\\n              82,\\n              83,\\n              84,\\n              85,\\n              86,\\n              87,\\n              88,\\n              89,\\n              90,\\n              91,\\n              92,\\n              93,\\n              94,\\n              95,\\n              96,\\n              97,\\n              98,\\n              99,\\n              100,\\n              101,\\n              102,\\n              103,\\n              104,\\n              105,\\n              106,\\n              107,\\n              108,\\n              109,\\n              110,\\n              111,\\n              112,\\n              113,\\n              114,\\n              115,\\n              116,\\n              117,\\n              118,\\n              119,\\n              120,\\n              121,\\n              122,\\n              123,\\n              124,\\n              125,\\n              126,\\n              127,\\n              128,\\n              129,\\n              130,\\n              131,\\n              132,\\n              133,\\n              134,\\n              135,\\n              136,\\n              137,\\n              138,\\n              139,\\n              140,\\n              141,\\n              142,\\n              143,\\n              144,\\n              145,\\n              146,\\n              147,\\n              148,\\n              149,\\n              150,\\n              151,\\n              152,\\n              153,\\n              154,\\n              155,\\n              156,\\n              157,\\n              158,\\n              159,\\n              160,\\n              161,\\n              162,\\n              163,\\n              164,\\n              165,\\n              166,\\n              167,\\n              168,\\n              169,\\n              170,\\n              171,\\n              172,\\n              173,\\n              174,\\n              175,\\n              176,\\n              177,\\n              178,\\n              179,\\n              180,\\n              181,\\n              182,\\n              183,\\n              184,\\n              185,\\n              186,\\n              187,\\n              188,\\n              189,\\n              190,\\n              191,\\n              192,\\n              193,\\n              194,\\n              195,\\n              196,\\n              197,\\n              198,\\n              199,\\n              200,\\n              201,\\n              202,\\n              203,\\n              204,\\n              205,\\n              206,\\n              207,\\n              208,\\n              209,\\n              210,\\n              211,\\n              212,\\n              213,\\n              214,\\n              215,\\n              216,\\n              217,\\n              218,\\n              219,\\n              220,\\n              221,\\n              222,\\n              223,\\n              224,\\n              225,\\n              226,\\n              227,\\n              228,\\n              229,\\n              230,\\n              231,\\n              232,\\n              233,\\n              234,\\n              235,\\n              236,\\n              237,\\n              238,\\n              239,\\n              240,\\n              241,\\n              242,\\n              243,\\n              244,\\n              245,\\n              246,\\n              247,\\n              248,\\n              249,\\n              250,\\n              251,\\n              252,\\n              253,\\n              254,\\n              255,\\n              256,\\n              257,\\n              258,\\n              259,\\n              260,\\n              261,\\n              262,\\n              263,\\n              264,\\n              265,\\n              266,\\n              267,\\n              268,\\n              269,\\n              270,\\n              271,\\n              272,\\n              273,\\n              274,\\n              275,\\n              276,\\n              277,\\n              278,\\n              279,\\n              280,\\n              281,\\n              282,\\n              283,\\n              284,\\n              285,\\n              286,\\n              287,\\n              288,\\n              289,\\n              290,\\n              291,\\n              292,\\n              293,\\n              294,\\n              295,\\n              296,\\n              297,\\n              298,\\n              299,\\n              300,\\n              301,\\n              302,\\n              303,\\n              304,\\n              305,\\n              306,\\n              307,\\n              308,\\n              309,\\n              310,\\n              311,\\n              312,\\n              313,\\n              314,\\n              315,\\n              316,\\n              317,\\n              318,\\n              319,\\n              320,\\n              321,\\n              322,\\n              323,\\n              324,\\n              325,\\n              326,\\n              327,\\n              328,\\n              329,\\n              330,\\n              331,\\n              332,\\n              333,\\n              334,\\n              335,\\n              336,\\n              337,\\n              338,\\n              339,\\n              340,\\n              341,\\n              342,\\n              343,\\n              344,\\n              345,\\n              346,\\n              347,\\n              348,\\n              349,\\n              350,\\n              351,\\n              352,\\n              353,\\n              354,\\n              355,\\n              356,\\n              357,\\n              358,\\n              359,\\n              360,\\n              361,\\n              362,\\n              363,\\n              364,\\n              365,\\n              366,\\n              367,\\n              368,\\n              369,\\n              370,\\n              371,\\n              372,\\n              373,\\n              374,\\n              375,\\n              376,\\n              377,\\n              378,\\n              379,\\n              380\\n            ]\\n          },\\n          \\\"data\\\": [\\n            [\\n              \\\"John Collins\\\",\\n              \\\"PF\\\",\\n              \\\"Atlanta Hawks\\\",\\n              23000000\\n            ],\\n            [\\n              \\\"Danilo Gallinari\\\",\\n              \\\"PF\\\",\\n              \\\"Atlanta Hawks\\\",\\n              20475000\\n            ],\\n            [\\n              \\\"Bogdan Bogdanovi\\\\u0107\\\",\\n              \\\"SG\\\",\\n              \\\"Atlanta Hawks\\\",\\n              18000000\\n            ],\\n            [\\n              \\\"Clint Capela\\\",\\n              \\\"C\\\",\\n              \\\"Atlanta Hawks\\\",\\n              17103448\\n            ],\\n            [\\n              \\\"Delon Wright\\\",\\n              \\\"SG\\\",\\n              \\\"Atlanta Hawks\\\",\\n              8526316\\n            ],\\n            [\\n              \\\"Trae Young\\\",\\n              \\\"PG\\\",\\n              \\\"Atlanta Hawks\\\",\\n              8326471\\n            ],\\n            [\\n              \\\"Lou Williams\\\",\\n              \\\"PG\\\",\\n              \\\"Atlanta Hawks\\\",\\n              5000000\\n            ],\\n            [\\n              \\\"Cam Reddish\\\",\\n              \\\"SF\\\",\\n              \\\"Atlanta Hawks\\\",\\n              4670160\\n            ],\\n            [\\n              \\\"Kevin Huerter\\\",\\n              \\\"SG\\\",\\n              \\\"Atlanta Hawks\\\",\\n              4253357\\n            ],\\n            [\\n              \\\"Gorgui Dieng\\\",\\n              \\\"C\\\",\\n              \\\"Atlanta Hawks\\\",\\n              4000000\\n            ],\\n            [\\n              \\\"Timoth\\\\u00e9 Luwawu-Cabarrot\\\",\\n              \\\"SF\\\",\\n              \\\"Atlanta Hawks\\\",\\n              1939350\\n            ],\\n            [\\n              \\\"Jayson Tatum\\\",\\n              \\\"SF\\\",\\n              \\\"Boston Celtics\\\",\\n              28103550\\n            ],\\n            [\\n              \\\"Al Horford\\\",\\n              \\\"C\\\",\\n              \\\"Boston Celtics\\\",\\n              27000000\\n            ],\\n            [\\n              \\\"Jaylen Brown\\\",\\n              \\\"SF\\\",\\n              \\\"Boston Celtics\\\",\\n              24830357\\n            ],\\n            [\\n              \\\"Marcus Smart\\\",\\n              \\\"PG\\\",\\n              \\\"Boston Celtics\\\",\\n              14339285\\n            ],\\n            [\\n              \\\"Josh Richardson\\\",\\n              \\\"SG\\\",\\n              \\\"Boston Celtics\\\",\\n              11600000\\n            ],\\n            [\\n              \\\"Juancho Hernang\\\\u00f3mez\\\",\\n              \\\"PF\\\",\\n              \\\"Boston Celtics\\\",\\n              7012440\\n            ],\\n            [\\n              \\\"Dennis Schr\\\\u00f6der\\\",\\n              \\\"SG\\\",\\n              \\\"Boston Celtics\\\",\\n              5890000\\n            ],\\n            [\\n              \\\"Romeo Langford\\\",\\n              \\\"SG\\\",\\n              \\\"Boston Celtics\\\",\\n              3804360\\n            ],\\n            [\\n              \\\"Robert Williams\\\",\\n              \\\"C\\\",\\n              \\\"Boston Celtics\\\",\\n              3661976\\n            ],\\n            [\\n              \\\"Aaron Nesmith\\\",\\n              \\\"SF\\\",\\n              \\\"Boston Celtics\\\",\\n              3631200\\n            ],\\n            [\\n              \\\"Enes Freedom\\\",\\n              \\\"C\\\",\\n              \\\"Boston Celtics\\\",\\n              2641691\\n            ],\\n            [\\n              \\\"Grant Williams\\\",\\n              \\\"PF\\\",\\n              \\\"Boston Celtics\\\",\\n              2617800\\n            ],\\n            [\\n              \\\"Payton Pritchard\\\",\\n              \\\"SG\\\",\\n              \\\"Boston Celtics\\\",\\n              2137440\\n            ],\\n            [\\n              \\\"James Harden\\\",\\n              \\\"PG\\\",\\n              \\\"Brooklyn Nets\\\",\\n              43848000\\n            ],\\n            [\\n              \\\"Kevin Durant\\\",\\n              \\\"PF\\\",\\n              \\\"Brooklyn Nets\\\",\\n              40918900\\n            ],\\n            [\\n              \\\"Patty Mills\\\",\\n              \\\"PG\\\",\\n              \\\"Brooklyn Nets\\\",\\n              5890000\\n            ],\\n            [\\n              \\\"Bruce Brown\\\",\\n              \\\"SF\\\",\\n              \\\"Brooklyn Nets\\\",\\n              4736102\\n            ],\\n            [\\n              \\\"Jevon Carter\\\",\\n              \\\"PG\\\",\\n              \\\"Brooklyn Nets\\\",\\n              3833333\\n            ],\\n            [\\n              \\\"James Johnson\\\",\\n              \\\"PF\\\",\\n              \\\"Brooklyn Nets\\\",\\n              2641691\\n            ],\\n            [\\n              \\\"LaMarcus Aldridge\\\",\\n              \\\"C\\\",\\n              \\\"Brooklyn Nets\\\",\\n              2641691\\n            ],\\n            [\\n              \\\"Paul Millsap\\\",\\n              \\\"PF\\\",\\n              \\\"Brooklyn Nets\\\",\\n              2641691\\n            ],\\n            [\\n              \\\"Cam Thomas\\\",\\n              \\\"SG\\\",\\n              \\\"Brooklyn Nets\\\",\\n              2036280\\n            ],\\n            [\\n              \\\"DeAndre' Bembry\\\",\\n              \\\"SF\\\",\\n              \\\"Brooklyn Nets\\\",\\n              1939350\\n            ],\\n            [\\n              \\\"Nic Claxton\\\",\\n              \\\"C\\\",\\n              \\\"Brooklyn Nets\\\",\\n              1782621\\n            ],\\n            [\\n              \\\"Gordon Hayward\\\",\\n              \\\"SF\\\",\\n              \\\"Charlotte Hornets\\\",\\n              29900000\\n            ],\\n            [\\n              \\\"Terry Rozier\\\",\\n              \\\"SG\\\",\\n              \\\"Charlotte Hornets\\\",\\n              17905263\\n            ],\\n            [\\n              \\\"Nicolas Batum\\\",\\n              \\\"PF\\\",\\n              \\\"Charlotte Hornets\\\",\\n              12213507\\n            ],\\n            [\\n              \\\"Kelly Oubre Jr.\\\",\\n              \\\"SF\\\",\\n              \\\"Charlotte Hornets\\\",\\n              12000000\\n            ],\\n            [\\n              \\\"LaMelo Ball\\\",\\n              \\\"PG\\\",\\n              \\\"Charlotte Hornets\\\",\\n              8231760\\n            ],\\n            [\\n              \\\"Mason Plumlee\\\",\\n              \\\"C\\\",\\n              \\\"Charlotte Hornets\\\",\\n              8137500\\n            ],\\n            [\\n              \\\"Miles Bridges\\\",\\n              \\\"PF\\\",\\n              \\\"Charlotte Hornets\\\",\\n              5421493\\n            ],\\n            [\\n              \\\"Ish Smith\\\",\\n              \\\"PG\\\",\\n              \\\"Charlotte Hornets\\\",\\n              4500000\\n            ],\\n            [\\n              \\\"P.J. Washington\\\",\\n              \\\"PF\\\",\\n              \\\"Charlotte Hornets\\\",\\n              4215120\\n            ],\\n            [\\n              \\\"James Bouknight\\\",\\n              \\\"SG\\\",\\n              \\\"Charlotte Hornets\\\",\\n              4154400\\n            ],\\n            [\\n              \\\"Cody Martin\\\",\\n              \\\"SF\\\",\\n              \\\"Charlotte Hornets\\\",\\n              1782621\\n            ],\\n            [\\n              \\\"Jalen McDaniels\\\",\\n              \\\"SF\\\",\\n              \\\"Charlotte Hornets\\\",\\n              1782621\\n            ],\\n            [\\n              \\\"Nick Richards\\\",\\n              \\\"C\\\",\\n              \\\"Charlotte Hornets\\\",\\n              1517981\\n            ],\\n            [\\n              \\\"DeMar DeRozan\\\",\\n              \\\"PF\\\",\\n              \\\"Chicago Bulls\\\",\\n              26000000\\n            ],\\n            [\\n              \\\"Nikola Vu\\\\u010devi\\\\u0107\\\",\\n              \\\"C\\\",\\n              \\\"Chicago Bulls\\\",\\n              24000000\\n            ],\\n            [\\n              \\\"Zach LaVine\\\",\\n              \\\"SF\\\",\\n              \\\"Chicago Bulls\\\",\\n              19500000\\n            ],\\n            [\\n              \\\"Lonzo Ball\\\",\\n              \\\"PG\\\",\\n              \\\"Chicago Bulls\\\",\\n              18604651\\n            ],\\n            [\\n              \\\"Derrick Jones Jr.\\\",\\n              \\\"PF\\\",\\n              \\\"Chicago Bulls\\\",\\n              9720900\\n            ],\\n            [\\n              \\\"Alex Caruso\\\",\\n              \\\"SG\\\",\\n              \\\"Chicago Bulls\\\",\\n              8604651\\n            ],\\n            [\\n              \\\"Coby White\\\",\\n              \\\"PG\\\",\\n              \\\"Chicago Bulls\\\",\\n              5837760\\n            ],\\n            [\\n              \\\"Troy Brown Jr.\\\",\\n              \\\"SF\\\",\\n              \\\"Chicago Bulls\\\",\\n              5170564\\n            ],\\n            [\\n              \\\"Tony Bradley\\\",\\n              \\\"C\\\",\\n              \\\"Chicago Bulls\\\",\\n              1789256\\n            ],\\n            [\\n              \\\"Javonte Green\\\",\\n              \\\"SF\\\",\\n              \\\"Chicago Bulls\\\",\\n              1669178\\n            ],\\n            [\\n              \\\"Ayo Dosunmu\\\",\\n              \\\"SG\\\",\\n              \\\"Chicago Bulls\\\",\\n              925258\\n            ],\\n            [\\n              \\\"Alize Johnson\\\",\\n              \\\"PF\\\",\\n              \\\"Chicago Bulls\\\",\\n              705598\\n            ],\\n            [\\n              \\\"Kevin Love\\\",\\n              \\\"PF\\\",\\n              \\\"Cleveland Cavaliers\\\",\\n              31300000\\n            ],\\n            [\\n              \\\"Jarrett Allen\\\",\\n              \\\"C\\\",\\n              \\\"Cleveland Cavaliers\\\",\\n              20000000\\n            ],\\n            [\\n              \\\"Ricky Rubio\\\",\\n              \\\"PG\\\",\\n              \\\"Cleveland Cavaliers\\\",\\n              17809524\\n            ],\\n            [\\n              \\\"Lauri Markkanen\\\",\\n              \\\"PF\\\",\\n              \\\"Cleveland Cavaliers\\\",\\n              15690909\\n            ],\\n            [\\n              \\\"Evan Mobley\\\",\\n              \\\"PF\\\",\\n              \\\"Cleveland Cavaliers\\\",\\n              8075160\\n            ],\\n            [\\n              \\\"Cedi Osman\\\",\\n              \\\"SF\\\",\\n              \\\"Cleveland Cavaliers\\\",\\n              8050000\\n            ],\\n            [\\n              \\\"Darius Garland\\\",\\n              \\\"PG\\\",\\n              \\\"Cleveland Cavaliers\\\",\\n              7040880\\n            ],\\n            [\\n              \\\"Isaac Okoro\\\",\\n              \\\"SF\\\",\\n              \\\"Cleveland Cavaliers\\\",\\n              6720720\\n            ],\\n            [\\n              \\\"Dylan Windler\\\",\\n              \\\"SF\\\",\\n              \\\"Cleveland Cavaliers\\\",\\n              2239200\\n            ],\\n            [\\n              \\\"Dean Wade\\\",\\n              \\\"PF\\\",\\n              \\\"Cleveland Cavaliers\\\",\\n              1782621\\n            ],\\n            [\\n              \\\"Kevin Pangos\\\",\\n              \\\"PG\\\",\\n              \\\"Cleveland Cavaliers\\\",\\n              1669178\\n            ],\\n            [\\n              \\\"Lamar Stevens\\\",\\n              \\\"PF\\\",\\n              \\\"Cleveland Cavaliers\\\",\\n              1517981\\n            ],\\n            [\\n              \\\"Kristaps Porzi\\\\u0146\\\\u0123is\\\",\\n              \\\"PF\\\",\\n              \\\"Dallas Mavericks\\\",\\n              31650600\\n            ],\\n            [\\n              \\\"Tim Hardaway Jr.\\\",\\n              \\\"SG\\\",\\n              \\\"Dallas Mavericks\\\",\\n              21306816\\n            ],\\n            [\\n              \\\"Dwight Powell\\\",\\n              \\\"C\\\",\\n              \\\"Dallas Mavericks\\\",\\n              11000000\\n            ],\\n            [\\n              \\\"Luka Don\\\\u010di\\\\u0107\\\",\\n              \\\"PG\\\",\\n              \\\"Dallas Mavericks\\\",\\n              10174391\\n            ],\\n            [\\n              \\\"Reggie Bullock\\\",\\n              \\\"SF\\\",\\n              \\\"Dallas Mavericks\\\",\\n              9536000\\n            ],\\n            [\\n              \\\"Maxi Kleber\\\",\\n              \\\"PF\\\",\\n              \\\"Dallas Mavericks\\\",\\n              8750000\\n            ],\\n            [\\n              \\\"Willie Cauley-Stein\\\",\\n              \\\"C\\\",\\n              \\\"Dallas Mavericks\\\",\\n              4200000\\n            ],\\n            [\\n              \\\"Dorian Finney-Smith\\\",\\n              \\\"PF\\\",\\n              \\\"Dallas Mavericks\\\",\\n              4000000\\n            ],\\n            [\\n              \\\"Boban Marjanovi\\\\u0107\\\",\\n              \\\"C\\\",\\n              \\\"Dallas Mavericks\\\",\\n              3500000\\n            ],\\n            [\\n              \\\"Trey Burke\\\",\\n              \\\"PG\\\",\\n              \\\"Dallas Mavericks\\\",\\n              3333333\\n            ],\\n            [\\n              \\\"Sterling Brown\\\",\\n              \\\"SG\\\",\\n              \\\"Dallas Mavericks\\\",\\n              3000000\\n            ],\\n            [\\n              \\\"Josh Green\\\",\\n              \\\"SG\\\",\\n              \\\"Dallas Mavericks\\\",\\n              2957520\\n            ],\\n            [\\n              \\\"Jalen Brunson\\\",\\n              \\\"PG\\\",\\n              \\\"Dallas Mavericks\\\",\\n              1802057\\n            ],\\n            [\\n              \\\"Frank Ntilikina\\\",\\n              \\\"PG\\\",\\n              \\\"Dallas Mavericks\\\",\\n              1789256\\n            ],\\n            [\\n              \\\"Moses Brown\\\",\\n              \\\"C\\\",\\n              \\\"Dallas Mavericks\\\",\\n              1701593\\n            ],\\n            [\\n              \\\"Nikola Joki\\\\u0107\\\",\\n              \\\"C\\\",\\n              \\\"Denver Nuggets\\\",\\n              30510423\\n            ],\\n            [\\n              \\\"Aaron Gordon\\\",\\n              \\\"PF\\\",\\n              \\\"Denver Nuggets\\\",\\n              16409091\\n            ],\\n            [\\n              \\\"Will Barton\\\",\\n              \\\"SG\\\",\\n              \\\"Denver Nuggets\\\",\\n              15384615\\n            ],\\n            [\\n              \\\"Monte Morris\\\",\\n              \\\"PG\\\",\\n              \\\"Denver Nuggets\\\",\\n              8333333\\n            ],\\n            [\\n              \\\"JaMychal Green\\\",\\n              \\\"PF\\\",\\n              \\\"Denver Nuggets\\\",\\n              8292683\\n            ],\\n            [\\n              \\\"Jeff Green\\\",\\n              \\\"C\\\",\\n              \\\"Denver Nuggets\\\",\\n              4500000\\n            ],\\n            [\\n              \\\"Facundo Campazzo\\\",\\n              \\\"PG\\\",\\n              \\\"Denver Nuggets\\\",\\n              3804150\\n            ],\\n            [\\n              \\\"Zeke Nnaji\\\",\\n              \\\"PF\\\",\\n              \\\"Denver Nuggets\\\",\\n              2498760\\n            ],\\n            [\\n              \\\"Austin Rivers\\\",\\n              \\\"SG\\\",\\n              \\\"Denver Nuggets\\\",\\n              2401537\\n            ],\\n            [\\n              \\\"Bones Hyland\\\",\\n              \\\"PG\\\",\\n              \\\"Denver Nuggets\\\",\\n              2096880\\n            ],\\n            [\\n              \\\"Rodney McGruder\\\",\\n              \\\"SG\\\",\\n              \\\"Denver Nuggets\\\",\\n              1939350\\n            ],\\n            [\\n              \\\"Blake Griffin\\\",\\n              \\\"PF\\\",\\n              \\\"Detroit Pistons\\\",\\n              32405817\\n            ],\\n            [\\n              \\\"Jerami Grant\\\",\\n              \\\"PF\\\",\\n              \\\"Detroit Pistons\\\",\\n              20000000\\n            ],\\n            [\\n              \\\"DeAndre Jordan\\\",\\n              \\\"C\\\",\\n              \\\"Detroit Pistons\\\",\\n              10517224\\n            ],\\n            [\\n              \\\"Cade Cunningham\\\",\\n              \\\"PG\\\",\\n              \\\"Detroit Pistons\\\",\\n              10050120\\n            ],\\n            [\\n              \\\"Cory Joseph\\\",\\n              \\\"PG\\\",\\n              \\\"Detroit Pistons\\\",\\n              7310000\\n            ],\\n            [\\n              \\\"Killian Hayes\\\",\\n              \\\"PG\\\",\\n              \\\"Detroit Pistons\\\",\\n              5572680\\n            ],\\n            [\\n              \\\"Dewayne Dedmon\\\",\\n              \\\"C\\\",\\n              \\\"Detroit Pistons\\\",\\n              5256308\\n            ],\\n            [\\n              \\\"Hamidou Diallo\\\",\\n              \\\"SG\\\",\\n              \\\"Detroit Pistons\\\",\\n              5200000\\n            ],\\n            [\\n              \\\"Josh Jackson\\\",\\n              \\\"SF\\\",\\n              \\\"Detroit Pistons\\\",\\n              5005350\\n            ],\\n            [\\n              \\\"Isaiah Stewart\\\",\\n              \\\"C\\\",\\n              \\\"Detroit Pistons\\\",\\n              3277080\\n            ],\\n            [\\n              \\\"Frank Jackson\\\",\\n              \\\"PG\\\",\\n              \\\"Detroit Pistons\\\",\\n              3000000\\n            ],\\n            [\\n              \\\"Saddiq Bey\\\",\\n              \\\"SF\\\",\\n              \\\"Detroit Pistons\\\",\\n              2824320\\n            ],\\n            [\\n              \\\"Trey Lyles\\\",\\n              \\\"PF\\\",\\n              \\\"Detroit Pistons\\\",\\n              2500000\\n            ],\\n            [\\n              \\\"Saben Lee\\\",\\n              \\\"PG\\\",\\n              \\\"Detroit Pistons\\\",\\n              1489065\\n            ],\\n            [\\n              \\\"Luka Garza\\\",\\n              \\\"C\\\",\\n              \\\"Detroit Pistons\\\",\\n              925258\\n            ],\\n            [\\n              \\\"Stephen Curry\\\",\\n              \\\"PG\\\",\\n              \\\"Golden State Warriors\\\",\\n              45780966\\n            ],\\n            [\\n              \\\"Andrew Wiggins\\\",\\n              \\\"SF\\\",\\n              \\\"Golden State Warriors\\\",\\n              31579390\\n            ],\\n            [\\n              \\\"Draymond Green\\\",\\n              \\\"PF\\\",\\n              \\\"Golden State Warriors\\\",\\n              24026712\\n            ],\\n            [\\n              \\\"Jonathan Kuminga\\\",\\n              \\\"SF\\\",\\n              \\\"Golden State Warriors\\\",\\n              5466360\\n            ],\\n            [\\n              \\\"Kevon Looney\\\",\\n              \\\"C\\\",\\n              \\\"Golden State Warriors\\\",\\n              5178572\\n            ],\\n            [\\n              \\\"Moses Moody\\\",\\n              \\\"SG\\\",\\n              \\\"Golden State Warriors\\\",\\n              3562080\\n            ],\\n            [\\n              \\\"Andre Iguodala\\\",\\n              \\\"SF\\\",\\n              \\\"Golden State Warriors\\\",\\n              2641691\\n            ],\\n            [\\n              \\\"Otto Porter Jr.\\\",\\n              \\\"PF\\\",\\n              \\\"Golden State Warriors\\\",\\n              2389641\\n            ],\\n            [\\n              \\\"Jordan Poole\\\",\\n              \\\"SG\\\",\\n              \\\"Golden State Warriors\\\",\\n              2161440\\n            ],\\n            [\\n              \\\"Nemanja Bjelica\\\",\\n              \\\"C\\\",\\n              \\\"Golden State Warriors\\\",\\n              2089448\\n            ],\\n            [\\n              \\\"Gary Payton II\\\",\\n              \\\"PG\\\",\\n              \\\"Golden State Warriors\\\",\\n              1939350\\n            ],\\n            [\\n              \\\"Damion Lee\\\",\\n              \\\"SG\\\",\\n              \\\"Golden State Warriors\\\",\\n              1910860\\n            ],\\n            [\\n              \\\"Juan Toscano-Anderson\\\",\\n              \\\"SF\\\",\\n              \\\"Golden State Warriors\\\",\\n              1701593\\n            ],\\n            [\\n              \\\"Eric Gordon\\\",\\n              \\\"SG\\\",\\n              \\\"Houston Rockets\\\",\\n              18218818\\n            ],\\n            [\\n              \\\"Christian Wood\\\",\\n              \\\"C\\\",\\n              \\\"Houston Rockets\\\",\\n              13666667\\n            ],\\n            [\\n              \\\"Jalen Green\\\",\\n              \\\"SG\\\",\\n              \\\"Houston Rockets\\\",\\n              8992200\\n            ],\\n            [\\n              \\\"Daniel Theis\\\",\\n              \\\"C\\\",\\n              \\\"Houston Rockets\\\",\\n              8372093\\n            ],\\n            [\\n              \\\"D.J. Augustin\\\",\\n              \\\"PG\\\",\\n              \\\"Houston Rockets\\\",\\n              7000000\\n            ],\\n            [\\n              \\\"David Nwaba\\\",\\n              \\\"SF\\\",\\n              \\\"Houston Rockets\\\",\\n              4650000\\n            ],\\n            [\\n              \\\"Alperen \\\\u015eeng\\\\u00fcn\\\",\\n              \\\"C\\\",\\n              \\\"Houston Rockets\\\",\\n              3214680\\n            ],\\n            [\\n              \\\"Usman Garuba\\\",\\n              \\\"PF\\\",\\n              \\\"Houston Rockets\\\",\\n              2353320\\n            ],\\n            [\\n              \\\"Josh Christopher\\\",\\n              \\\"SG\\\",\\n              \\\"Houston Rockets\\\",\\n              2259240\\n            ],\\n            [\\n              \\\"Kevin Porter Jr.\\\",\\n              \\\"PG\\\",\\n              \\\"Houston Rockets\\\",\\n              2130240\\n            ],\\n            [\\n              \\\"Jae'Sean Tate\\\",\\n              \\\"SF\\\",\\n              \\\"Houston Rockets\\\",\\n              1517981\\n            ],\\n            [\\n              \\\"Kenyon Martin Jr.\\\",\\n              \\\"SF\\\",\\n              \\\"Houston Rockets\\\",\\n              1517981\\n            ],\\n            [\\n              \\\"Danuel House Jr.\\\",\\n              \\\"SF\\\",\\n              \\\"Houston Rockets\\\",\\n              1498955\\n            ],\\n            [\\n              \\\"Armoni Brooks\\\",\\n              \\\"SG\\\",\\n              \\\"Houston Rockets\\\",\\n              1489065\\n            ],\\n            [\\n              \\\"Garrison Mathews\\\",\\n              \\\"SG\\\",\\n              \\\"Houston Rockets\\\",\\n              1093598\\n            ],\\n            [\\n              \\\"Malcolm Brogdon\\\",\\n              \\\"PG\\\",\\n              \\\"Indiana Pacers\\\",\\n              21700000\\n            ],\\n            [\\n              \\\"Domantas Sabonis\\\",\\n              \\\"C\\\",\\n              \\\"Indiana Pacers\\\",\\n              18562500\\n            ],\\n            [\\n              \\\"Myles Turner\\\",\\n              \\\"C\\\",\\n              \\\"Indiana Pacers\\\",\\n              18000000\\n            ],\\n            [\\n              \\\"Caris LeVert\\\",\\n              \\\"SG\\\",\\n              \\\"Indiana Pacers\\\",\\n              17500000\\n            ],\\n            [\\n              \\\"Jeremy Lamb\\\",\\n              \\\"SF\\\",\\n              \\\"Indiana Pacers\\\",\\n              10500000\\n            ],\\n            [\\n              \\\"T.J. McConnell\\\",\\n              \\\"PG\\\",\\n              \\\"Indiana Pacers\\\",\\n              7500000\\n            ],\\n            [\\n              \\\"Justin Holiday\\\",\\n              \\\"SF\\\",\\n              \\\"Indiana Pacers\\\",\\n              6006420\\n            ],\\n            [\\n              \\\"Torrey Craig\\\",\\n              \\\"SF\\\",\\n              \\\"Indiana Pacers\\\",\\n              4878049\\n            ],\\n            [\\n              \\\"Chris Duarte\\\",\\n              \\\"SG\\\",\\n              \\\"Indiana Pacers\\\",\\n              3749520\\n            ],\\n            [\\n              \\\"Goga Bitadze\\\",\\n              \\\"C\\\",\\n              \\\"Indiana Pacers\\\",\\n              3098400\\n            ],\\n            [\\n              \\\"Oshae Brissett\\\",\\n              \\\"SF\\\",\\n              \\\"Indiana Pacers\\\",\\n              1701593\\n            ],\\n            [\\n              \\\"Brad Wanamaker\\\",\\n              \\\"PG\\\",\\n              \\\"Indiana Pacers\\\",\\n              705598\\n            ],\\n            [\\n              \\\"Paul George\\\",\\n              \\\"SF\\\",\\n              \\\"Los Angeles Clippers\\\",\\n              39344970\\n            ],\\n            [\\n              \\\"Eric Bledsoe\\\",\\n              \\\"PG\\\",\\n              \\\"Los Angeles Clippers\\\",\\n              18125000\\n            ],\\n            [\\n              \\\"Marcus Morris\\\",\\n              \\\"PF\\\",\\n              \\\"Los Angeles Clippers\\\",\\n              15627907\\n            ],\\n            [\\n              \\\"Luke Kennard\\\",\\n              \\\"SG\\\",\\n              \\\"Los Angeles Clippers\\\",\\n              12727273\\n            ],\\n            [\\n              \\\"Reggie Jackson\\\",\\n              \\\"SG\\\",\\n              \\\"Los Angeles Clippers\\\",\\n              10384500\\n            ],\\n            [\\n              \\\"Serge Ibaka\\\",\\n              \\\"C\\\",\\n              \\\"Los Angeles Clippers\\\",\\n              9742000\\n            ],\\n            [\\n              \\\"Ivica Zubac\\\",\\n              \\\"C\\\",\\n              \\\"Los Angeles Clippers\\\",\\n              7518518\\n            ],\\n            [\\n              \\\"Justise Winslow\\\",\\n              \\\"SF\\\",\\n              \\\"Los Angeles Clippers\\\",\\n              3902439\\n            ],\\n            [\\n              \\\"Isaiah Hartenstein\\\",\\n              \\\"C\\\",\\n              \\\"Los Angeles Clippers\\\",\\n              3430810\\n            ],\\n            [\\n              \\\"Keon Johnson\\\",\\n              \\\"SG\\\",\\n              \\\"Los Angeles Clippers\\\",\\n              2553120\\n            ],\\n            [\\n              \\\"Terance Mann\\\",\\n              \\\"SF\\\",\\n              \\\"Los Angeles Clippers\\\",\\n              1782621\\n            ],\\n            [\\n              \\\"Brandon Boston Jr.\\\",\\n              \\\"SG\\\",\\n              \\\"Los Angeles Clippers\\\",\\n              925258\\n            ],\\n            [\\n              \\\"Russell Westbrook\\\",\\n              \\\"PG\\\",\\n              \\\"Los Angeles Lakers\\\",\\n              44211146\\n            ],\\n            [\\n              \\\"LeBron James\\\",\\n              \\\"SF\\\",\\n              \\\"Los Angeles Lakers\\\",\\n              41180544\\n            ],\\n            [\\n              \\\"Anthony Davis\\\",\\n              \\\"C\\\",\\n              \\\"Los Angeles Lakers\\\",\\n              35361360\\n            ],\\n            [\\n              \\\"Talen Horton-Tucker\\\",\\n              \\\"SG\\\",\\n              \\\"Los Angeles Lakers\\\",\\n              9500000\\n            ],\\n            [\\n              \\\"Avery Bradley\\\",\\n              \\\"SG\\\",\\n              \\\"Los Angeles Lakers\\\",\\n              2641691\\n            ],\\n            [\\n              \\\"Carmelo Anthony\\\",\\n              \\\"PF\\\",\\n              \\\"Los Angeles Lakers\\\",\\n              2641691\\n            ],\\n            [\\n              \\\"Dwight Howard\\\",\\n              \\\"C\\\",\\n              \\\"Los Angeles Lakers\\\",\\n              2641691\\n            ],\\n            [\\n              \\\"Wayne Ellington\\\",\\n              \\\"SG\\\",\\n              \\\"Los Angeles Lakers\\\",\\n              2641691\\n            ],\\n            [\\n              \\\"Kent Bazemore\\\",\\n              \\\"SF\\\",\\n              \\\"Los Angeles Lakers\\\",\\n              2401537\\n            ],\\n            [\\n              \\\"Malik Monk\\\",\\n              \\\"SG\\\",\\n              \\\"Los Angeles Lakers\\\",\\n              1789256\\n            ],\\n            [\\n              \\\"Austin Reaves\\\",\\n              \\\"SG\\\",\\n              \\\"Los Angeles Lakers\\\",\\n              925258\\n            ],\\n            [\\n              \\\"Steven Adams\\\",\\n              \\\"C\\\",\\n              \\\"Memphis Grizzlies\\\",\\n              17073171\\n            ],\\n            [\\n              \\\"Dillon Brooks\\\",\\n              \\\"SF\\\",\\n              \\\"Memphis Grizzlies\\\",\\n              12200000\\n            ],\\n            [\\n              \\\"Kyle Anderson\\\",\\n              \\\"PF\\\",\\n              \\\"Memphis Grizzlies\\\",\\n              9937150\\n            ],\\n            [\\n              \\\"Ja Morant\\\",\\n              \\\"PG\\\",\\n              \\\"Memphis Grizzlies\\\",\\n              9603360\\n            ],\\n            [\\n              \\\"Jaren Jackson Jr.\\\",\\n              \\\"PF\\\",\\n              \\\"Memphis Grizzlies\\\",\\n              9180560\\n            ],\\n            [\\n              \\\"De'Anthony Melton\\\",\\n              \\\"SG\\\",\\n              \\\"Memphis Grizzlies\\\",\\n              8437500\\n            ],\\n            [\\n              \\\"Tyus Jones\\\",\\n              \\\"PG\\\",\\n              \\\"Memphis Grizzlies\\\",\\n              7522200\\n            ],\\n            [\\n              \\\"Jarrett Culver\\\",\\n              \\\"SG\\\",\\n              \\\"Memphis Grizzlies\\\",\\n              6395160\\n            ],\\n            [\\n              \\\"Ziaire Williams\\\",\\n              \\\"SF\\\",\\n              \\\"Memphis Grizzlies\\\",\\n              4373160\\n            ],\\n            [\\n              \\\"Brandon Clarke\\\",\\n              \\\"PF\\\",\\n              \\\"Memphis Grizzlies\\\",\\n              2726880\\n            ],\\n            [\\n              \\\"Rajon Rondo\\\",\\n              \\\"PG\\\",\\n              \\\"Memphis Grizzlies\\\",\\n              2641691\\n            ],\\n            [\\n              \\\"John Konchar\\\",\\n              \\\"SG\\\",\\n              \\\"Memphis Grizzlies\\\",\\n              2197674\\n            ],\\n            [\\n              \\\"Desmond Bane\\\",\\n              \\\"SF\\\",\\n              \\\"Memphis Grizzlies\\\",\\n              2033160\\n            ],\\n            [\\n              \\\"Killian Tillie\\\",\\n              \\\"C\\\",\\n              \\\"Memphis Grizzlies\\\",\\n              2000000\\n            ],\\n            [\\n              \\\"Santi Aldama\\\",\\n              \\\"PF\\\",\\n              \\\"Memphis Grizzlies\\\",\\n              1994520\\n            ],\\n            [\\n              \\\"Xavier Tillman Sr.\\\",\\n              \\\"PF\\\",\\n              \\\"Memphis Grizzlies\\\",\\n              1517981\\n            ],\\n            [\\n              \\\"Jimmy Butler\\\",\\n              \\\"SF\\\",\\n              \\\"Miami Heat\\\",\\n              36016200\\n            ],\\n            [\\n              \\\"Bam Adebayo\\\",\\n              \\\"C\\\",\\n              \\\"Miami Heat\\\",\\n              28103550\\n            ],\\n            [\\n              \\\"Kyle Lowry\\\",\\n              \\\"PG\\\",\\n              \\\"Miami Heat\\\",\\n              26984128\\n            ],\\n            [\\n              \\\"Duncan Robinson\\\",\\n              \\\"SG\\\",\\n              \\\"Miami Heat\\\",\\n              15560000\\n            ],\\n            [\\n              \\\"P.J. Tucker\\\",\\n              \\\"PF\\\",\\n              \\\"Miami Heat\\\",\\n              7000000\\n            ],\\n            [\\n              \\\"Tyler Herro\\\",\\n              \\\"SG\\\",\\n              \\\"Miami Heat\\\",\\n              4004280\\n            ],\\n            [\\n              \\\"KZ Okpala\\\",\\n              \\\"PF\\\",\\n              \\\"Miami Heat\\\",\\n              1782621\\n            ],\\n            [\\n              \\\"Gabe Vincent\\\",\\n              \\\"PG\\\",\\n              \\\"Miami Heat\\\",\\n              1669178\\n            ],\\n            [\\n              \\\"Max Strus\\\",\\n              \\\"SF\\\",\\n              \\\"Miami Heat\\\",\\n              1669178\\n            ],\\n            [\\n              \\\"Omer Yurtseven\\\",\\n              \\\"C\\\",\\n              \\\"Miami Heat\\\",\\n              1489065\\n            ],\\n            [\\n              \\\"Giannis Antetokounmpo\\\",\\n              \\\"PF\\\",\\n              \\\"Milwaukee Bucks\\\",\\n              39344970\\n            ],\\n            [\\n              \\\"Khris Middleton\\\",\\n              \\\"SF\\\",\\n              \\\"Milwaukee Bucks\\\",\\n              35500000\\n            ],\\n            [\\n              \\\"Jrue Holiday\\\",\\n              \\\"PG\\\",\\n              \\\"Milwaukee Bucks\\\",\\n              30133333\\n            ],\\n            [\\n              \\\"Pat Connaughton\\\",\\n              \\\"SG\\\",\\n              \\\"Milwaukee Bucks\\\",\\n              5333333\\n            ],\\n            [\\n              \\\"Bobby Portis\\\",\\n              \\\"C\\\",\\n              \\\"Milwaukee Bucks\\\",\\n              4347600\\n            ],\\n            [\\n              \\\"Grayson Allen\\\",\\n              \\\"SG\\\",\\n              \\\"Milwaukee Bucks\\\",\\n              4054695\\n            ],\\n            [\\n              \\\"George Hill\\\",\\n              \\\"SG\\\",\\n              \\\"Milwaukee Bucks\\\",\\n              4000000\\n            ],\\n            [\\n              \\\"Rodney Hood\\\",\\n              \\\"SF\\\",\\n              \\\"Milwaukee Bucks\\\",\\n              2239544\\n            ],\\n            [\\n              \\\"Wesley Matthews\\\",\\n              \\\"SG\\\",\\n              \\\"Milwaukee Bucks\\\",\\n              1958501\\n            ],\\n            [\\n              \\\"Semi Ojeleye\\\",\\n              \\\"PF\\\",\\n              \\\"Milwaukee Bucks\\\",\\n              1789256\\n            ],\\n            [\\n              \\\"Thanasis Antetokounmpo\\\",\\n              \\\"SF\\\",\\n              \\\"Milwaukee Bucks\\\",\\n              1729217\\n            ],\\n            [\\n              \\\"Jordan Nwora\\\",\\n              \\\"SF\\\",\\n              \\\"Milwaukee Bucks\\\",\\n              1517981\\n            ],\\n            [\\n              \\\"DeMarcus Cousins\\\",\\n              \\\"C\\\",\\n              \\\"Milwaukee Bucks\\\",\\n              607285\\n            ],\\n            [\\n              \\\"Karl-Anthony Towns\\\",\\n              \\\"C\\\",\\n              \\\"Minnesota Timberwolves\\\",\\n              31610000\\n            ],\\n            [\\n              \\\"D'Angelo Russell\\\",\\n              \\\"PG\\\",\\n              \\\"Minnesota Timberwolves\\\",\\n              30013500\\n            ],\\n            [\\n              \\\"Taurean Prince\\\",\\n              \\\"PF\\\",\\n              \\\"Minnesota Timberwolves\\\",\\n              15057692\\n            ],\\n            [\\n              \\\"Malik Beasley\\\",\\n              \\\"SG\\\",\\n              \\\"Minnesota Timberwolves\\\",\\n              14391964\\n            ],\\n            [\\n              \\\"Patrick Beverley\\\",\\n              \\\"PG\\\",\\n              \\\"Minnesota Timberwolves\\\",\\n              14320988\\n            ],\\n            [\\n              \\\"Anthony Edwards\\\",\\n              \\\"SG\\\",\\n              \\\"Minnesota Timberwolves\\\",\\n              10245480\\n            ],\\n            [\\n              \\\"Jarred Vanderbilt\\\",\\n              \\\"PF\\\",\\n              \\\"Minnesota Timberwolves\\\",\\n              4259259\\n            ],\\n            [\\n              \\\"Josh Okogie\\\",\\n              \\\"SG\\\",\\n              \\\"Minnesota Timberwolves\\\",\\n              4087904\\n            ],\\n            [\\n              \\\"Jake Layman\\\",\\n              \\\"SF\\\",\\n              \\\"Minnesota Timberwolves\\\",\\n              3940184\\n            ],\\n            [\\n              \\\"Leandro Bolmaro\\\",\\n              \\\"SF\\\",\\n              \\\"Minnesota Timberwolves\\\",\\n              2353320\\n            ],\\n            [\\n              \\\"Jaden McDaniels\\\",\\n              \\\"PF\\\",\\n              \\\"Minnesota Timberwolves\\\",\\n              2063280\\n            ],\\n            [\\n              \\\"Jaylen Nowell\\\",\\n              \\\"SG\\\",\\n              \\\"Minnesota Timberwolves\\\",\\n              1782621\\n            ],\\n            [\\n              \\\"Naz Reid\\\",\\n              \\\"C\\\",\\n              \\\"Minnesota Timberwolves\\\",\\n              1782621\\n            ],\\n            [\\n              \\\"Jordan McLaughlin\\\",\\n              \\\"PG\\\",\\n              \\\"Minnesota Timberwolves\\\",\\n              1669178\\n            ],\\n            [\\n              \\\"Brandon Ingram\\\",\\n              \\\"SF\\\",\\n              \\\"New Orleans Pelicans\\\",\\n              29467800\\n            ],\\n            [\\n              \\\"Jonas Valan\\\\u010di\\\\u016bnas\\\",\\n              \\\"C\\\",\\n              \\\"New Orleans Pelicans\\\",\\n              14000000\\n            ],\\n            [\\n              \\\"Josh Hart\\\",\\n              \\\"PF\\\",\\n              \\\"New Orleans Pelicans\\\",\\n              12000000\\n            ],\\n            [\\n              \\\"Devonte' Graham\\\",\\n              \\\"PG\\\",\\n              \\\"New Orleans Pelicans\\\",\\n              11000000\\n            ],\\n            [\\n              \\\"Tom\\\\u00e1\\\\u0161 Satoransk\\\\u00fd\\\",\\n              \\\"SG\\\",\\n              \\\"New Orleans Pelicans\\\",\\n              10000000\\n            ],\\n            [\\n              \\\"Jaxson Hayes\\\",\\n              \\\"C\\\",\\n              \\\"New Orleans Pelicans\\\",\\n              5348280\\n            ],\\n            [\\n              \\\"Garrett Temple\\\",\\n              \\\"SG\\\",\\n              \\\"New Orleans Pelicans\\\",\\n              4910000\\n            ],\\n            [\\n              \\\"Kira Lewis Jr.\\\",\\n              \\\"PG\\\",\\n              \\\"New Orleans Pelicans\\\",\\n              3822240\\n            ],\\n            [\\n              \\\"Nickeil Alexander-Walker\\\",\\n              \\\"SG\\\",\\n              \\\"New Orleans Pelicans\\\",\\n              3261480\\n            ],\\n            [\\n              \\\"Trey Murphy III\\\",\\n              \\\"SF\\\",\\n              \\\"New Orleans Pelicans\\\",\\n              3053760\\n            ],\\n            [\\n              \\\"Willy Hernang\\\\u00f3mez\\\",\\n              \\\"C\\\",\\n              \\\"New Orleans Pelicans\\\",\\n              2327220\\n            ],\\n            [\\n              \\\"Herbert Jones\\\",\\n              \\\"C\\\",\\n              \\\"New Orleans Pelicans\\\",\\n              1700000\\n            ],\\n            [\\n              \\\"Naji Marshall\\\",\\n              \\\"SF\\\",\\n              \\\"New Orleans Pelicans\\\",\\n              1517981\\n            ],\\n            [\\n              \\\"Julius Randle\\\",\\n              \\\"PF\\\",\\n              \\\"New York Knicks\\\",\\n              19800000\\n            ],\\n            [\\n              \\\"Evan Fournier\\\",\\n              \\\"SG\\\",\\n              \\\"New York Knicks\\\",\\n              18139535\\n            ],\\n            [\\n              \\\"Derrick Rose\\\",\\n              \\\"PG\\\",\\n              \\\"New York Knicks\\\",\\n              13445120\\n            ],\\n            [\\n              \\\"Alec Burks\\\",\\n              \\\"SG\\\",\\n              \\\"New York Knicks\\\",\\n              9536000\\n            ],\\n            [\\n              \\\"Nerlens Noel\\\",\\n              \\\"C\\\",\\n              \\\"New York Knicks\\\",\\n              8800000\\n            ],\\n            [\\n              \\\"RJ Barrett\\\",\\n              \\\"SF\\\",\\n              \\\"New York Knicks\\\",\\n              8623920\\n            ],\\n            [\\n              \\\"Obi Toppin\\\",\\n              \\\"PF\\\",\\n              \\\"New York Knicks\\\",\\n              5105160\\n            ],\\n            [\\n              \\\"Taj Gibson\\\",\\n              \\\"C\\\",\\n              \\\"New York Knicks\\\",\\n              4910000\\n            ],\\n            [\\n              \\\"Immanuel Quickley\\\",\\n              \\\"PG\\\",\\n              \\\"New York Knicks\\\",\\n              2210640\\n            ],\\n            [\\n              \\\"Quentin Grimes\\\",\\n              \\\"SG\\\",\\n              \\\"New York Knicks\\\",\\n              2168760\\n            ],\\n            [\\n              \\\"Mitchell Robinson\\\",\\n              \\\"C\\\",\\n              \\\"New York Knicks\\\",\\n              1802057\\n            ],\\n            [\\n              \\\"Miles McBride\\\",\\n              \\\"PG\\\",\\n              \\\"New York Knicks\\\",\\n              925258\\n            ],\\n            [\\n              \\\"Denzel Valentine\\\",\\n              \\\"SG\\\",\\n              \\\"New York Knicks\\\",\\n              111457\\n            ],\\n            [\\n              \\\"Derrick Favors\\\",\\n              \\\"C\\\",\\n              \\\"Oklahoma City Thunder\\\",\\n              9720900\\n            ],\\n            [\\n              \\\"Kemba Walker\\\",\\n              \\\"PG\\\",\\n              \\\"Oklahoma City Thunder\\\",\\n              8729020\\n            ],\\n            [\\n              \\\"Josh Giddey\\\",\\n              \\\"SG\\\",\\n              \\\"Oklahoma City Thunder\\\",\\n              5988000\\n            ],\\n            [\\n              \\\"Shai Gilgeous-Alexander\\\",\\n              \\\"PG\\\",\\n              \\\"Oklahoma City Thunder\\\",\\n              5495532\\n            ],\\n            [\\n              \\\"Mike Muscala\\\",\\n              \\\"C\\\",\\n              \\\"Oklahoma City Thunder\\\",\\n              3500000\\n            ],\\n            [\\n              \\\"Aleksej Pokusevski\\\",\\n              \\\"PF\\\",\\n              \\\"Oklahoma City Thunder\\\",\\n              3113160\\n            ],\\n            [\\n              \\\"Tre Mann\\\",\\n              \\\"PG\\\",\\n              \\\"Oklahoma City Thunder\\\",\\n              2901240\\n            ],\\n            [\\n              \\\"Darius Bazley\\\",\\n              \\\"PF\\\",\\n              \\\"Oklahoma City Thunder\\\",\\n              2513040\\n            ],\\n            [\\n              \\\"Ty Jerome\\\",\\n              \\\"SG\\\",\\n              \\\"Oklahoma City Thunder\\\",\\n              2412840\\n            ],\\n            [\\n              \\\"Jeremiah Robinson-Earl\\\",\\n              \\\"C\\\",\\n              \\\"Oklahoma City Thunder\\\",\\n              2000000\\n            ],\\n            [\\n              \\\"Kenrich Williams\\\",\\n              \\\"SF\\\",\\n              \\\"Oklahoma City Thunder\\\",\\n              2000000\\n            ],\\n            [\\n              \\\"Th\\\\u00e9o Maledon\\\",\\n              \\\"PG\\\",\\n              \\\"Oklahoma City Thunder\\\",\\n              2000000\\n            ],\\n            [\\n              \\\"Isaiah Roby\\\",\\n              \\\"PF\\\",\\n              \\\"Oklahoma City Thunder\\\",\\n              1782621\\n            ],\\n            [\\n              \\\"Luguentz Dort\\\",\\n              \\\"SF\\\",\\n              \\\"Oklahoma City Thunder\\\",\\n              1782621\\n            ],\\n            [\\n              \\\"Miye Oni\\\",\\n              \\\"SG\\\",\\n              \\\"Oklahoma City Thunder\\\",\\n              850331\\n            ],\\n            [\\n              \\\"Gary Harris\\\",\\n              \\\"SG\\\",\\n              \\\"Orlando Magic\\\",\\n              20482143\\n            ],\\n            [\\n              \\\"Terrence Ross\\\",\\n              \\\"SG\\\",\\n              \\\"Orlando Magic\\\",\\n              12500000\\n            ],\\n            [\\n              \\\"Mo Bamba\\\",\\n              \\\"C\\\",\\n              \\\"Orlando Magic\\\",\\n              7568742\\n            ],\\n            [\\n              \\\"Wendell Carter Jr.\\\",\\n              \\\"C\\\",\\n              \\\"Orlando Magic\\\",\\n              6920027\\n            ],\\n            [\\n              \\\"Jalen Suggs\\\",\\n              \\\"PG\\\",\\n              \\\"Orlando Magic\\\",\\n              6593040\\n            ],\\n            [\\n              \\\"Franz Wagner\\\",\\n              \\\"SF\\\",\\n              \\\"Orlando Magic\\\",\\n              5007840\\n            ],\\n            [\\n              \\\"Robin Lopez\\\",\\n              \\\"C\\\",\\n              \\\"Orlando Magic\\\",\\n              5000000\\n            ],\\n            [\\n              \\\"Cole Anthony\\\",\\n              \\\"PG\\\",\\n              \\\"Orlando Magic\\\",\\n              3449400\\n            ],\\n            [\\n              \\\"Chuma Okeke\\\",\\n              \\\"PF\\\",\\n              \\\"Orlando Magic\\\",\\n              3277080\\n            ],\\n            [\\n              \\\"R.J. Hampton\\\",\\n              \\\"SG\\\",\\n              \\\"Orlando Magic\\\",\\n              2303040\\n            ],\\n            [\\n              \\\"Moritz Wagner\\\",\\n              \\\"C\\\",\\n              \\\"Orlando Magic\\\",\\n              1729217\\n            ],\\n            [\\n              \\\"Tobias Harris\\\",\\n              \\\"PF\\\",\\n              \\\"Philadelphia 76ers\\\",\\n              36000000\\n            ],\\n            [\\n              \\\"Joel Embiid\\\",\\n              \\\"C\\\",\\n              \\\"Philadelphia 76ers\\\",\\n              31579390\\n            ],\\n            [\\n              \\\"Danny Green\\\",\\n              \\\"SF\\\",\\n              \\\"Philadelphia 76ers\\\",\\n              10000000\\n            ],\\n            [\\n              \\\"Seth Curry\\\",\\n              \\\"SG\\\",\\n              \\\"Philadelphia 76ers\\\",\\n              8186047\\n            ],\\n            [\\n              \\\"Furkan Korkmaz\\\",\\n              \\\"SG\\\",\\n              \\\"Philadelphia 76ers\\\",\\n              4629630\\n            ],\\n            [\\n              \\\"Georges Niang\\\",\\n              \\\"PF\\\",\\n              \\\"Philadelphia 76ers\\\",\\n              3300000\\n            ],\\n            [\\n              \\\"Matisse Thybulle\\\",\\n              \\\"SG\\\",\\n              \\\"Philadelphia 76ers\\\",\\n              2840160\\n            ],\\n            [\\n              \\\"Tyrese Maxey\\\",\\n              \\\"PG\\\",\\n              \\\"Philadelphia 76ers\\\",\\n              2602920\\n            ],\\n            [\\n              \\\"Andre Drummond\\\",\\n              \\\"C\\\",\\n              \\\"Philadelphia 76ers\\\",\\n              2401537\\n            ],\\n            [\\n              \\\"Shake Milton\\\",\\n              \\\"PG\\\",\\n              \\\"Philadelphia 76ers\\\",\\n              1846738\\n            ],\\n            [\\n              \\\"Isaiah Joe\\\",\\n              \\\"SG\\\",\\n              \\\"Philadelphia 76ers\\\",\\n              1517981\\n            ],\\n            [\\n              \\\"Paul Reed\\\",\\n              \\\"C\\\",\\n              \\\"Philadelphia 76ers\\\",\\n              1517981\\n            ],\\n            [\\n              \\\"Charles Bassey\\\",\\n              \\\"PF\\\",\\n              \\\"Philadelphia 76ers\\\",\\n              925258\\n            ],\\n            [\\n              \\\"Devin Booker\\\",\\n              \\\"SG\\\",\\n              \\\"Phoenix Suns\\\",\\n              31610000\\n            ],\\n            [\\n              \\\"Chris Paul\\\",\\n              \\\"PG\\\",\\n              \\\"Phoenix Suns\\\",\\n              30800000\\n            ],\\n            [\\n              \\\"Deandre Ayton\\\",\\n              \\\"C\\\",\\n              \\\"Phoenix Suns\\\",\\n              12632950\\n            ],\\n            [\\n              \\\"Jae Crowder\\\",\\n              \\\"PF\\\",\\n              \\\"Phoenix Suns\\\",\\n              9720900\\n            ],\\n            [\\n              \\\"Cameron Payne\\\",\\n              \\\"PG\\\",\\n              \\\"Phoenix Suns\\\",\\n              6500000\\n            ],\\n            [\\n              \\\"Mikal Bridges\\\",\\n              \\\"SF\\\",\\n              \\\"Phoenix Suns\\\",\\n              5557725\\n            ],\\n            [\\n              \\\"JaVale McGee\\\",\\n              \\\"C\\\",\\n              \\\"Phoenix Suns\\\",\\n              5000000\\n            ],\\n            [\\n              \\\"Jalen Smith\\\",\\n              \\\"PF\\\",\\n              \\\"Phoenix Suns\\\",\\n              4458000\\n            ],\\n            [\\n              \\\"Cameron Johnson\\\",\\n              \\\"PF\\\",\\n              \\\"Phoenix Suns\\\",\\n              4437000\\n            ],\\n            [\\n              \\\"Landry Shamet\\\",\\n              \\\"SG\\\",\\n              \\\"Phoenix Suns\\\",\\n              3768342\\n            ],\\n            [\\n              \\\"Elfrid Payton\\\",\\n              \\\"PG\\\",\\n              \\\"Phoenix Suns\\\",\\n              2239544\\n            ],\\n            [\\n              \\\"Damian Lillard\\\",\\n              \\\"PG\\\",\\n              \\\"Portland Trail Blazers\\\",\\n              39344900\\n            ],\\n            [\\n              \\\"CJ McCollum\\\",\\n              \\\"SG\\\",\\n              \\\"Portland Trail Blazers\\\",\\n              30864198\\n            ],\\n            [\\n              \\\"Norman Powell\\\",\\n              \\\"SF\\\",\\n              \\\"Portland Trail Blazers\\\",\\n              15517242\\n            ],\\n            [\\n              \\\"Robert Covington\\\",\\n              \\\"PF\\\",\\n              \\\"Portland Trail Blazers\\\",\\n              12975471\\n            ],\\n            [\\n              \\\"Jusuf Nurki\\\\u0107\\\",\\n              \\\"C\\\",\\n              \\\"Portland Trail Blazers\\\",\\n              12000000\\n            ],\\n            [\\n              \\\"Larry Nance Jr.\\\",\\n              \\\"PF\\\",\\n              \\\"Portland Trail Blazers\\\",\\n              10690909\\n            ],\\n            [\\n              \\\"Anfernee Simons\\\",\\n              \\\"SG\\\",\\n              \\\"Portland Trail Blazers\\\",\\n              3938818\\n            ],\\n            [\\n              \\\"Ben McLemore\\\",\\n              \\\"SG\\\",\\n              \\\"Portland Trail Blazers\\\",\\n              2389641\\n            ],\\n            [\\n              \\\"Cody Zeller\\\",\\n              \\\"C\\\",\\n              \\\"Portland Trail Blazers\\\",\\n              2389641\\n            ],\\n            [\\n              \\\"Tony Snell\\\",\\n              \\\"SG\\\",\\n              \\\"Portland Trail Blazers\\\",\\n              2389641\\n            ],\\n            [\\n              \\\"Nassir Little\\\",\\n              \\\"SF\\\",\\n              \\\"Portland Trail Blazers\\\",\\n              2316240\\n            ],\\n            [\\n              \\\"Dennis Smith Jr.\\\",\\n              \\\"PG\\\",\\n              \\\"Portland Trail Blazers\\\",\\n              1789256\\n            ],\\n            [\\n              \\\"CJ Elleby\\\",\\n              \\\"SF\\\",\\n              \\\"Portland Trail Blazers\\\",\\n              1517981\\n            ],\\n            [\\n              \\\"Greg Brown III\\\",\\n              \\\"SF\\\",\\n              \\\"Portland Trail Blazers\\\",\\n              925258\\n            ],\\n            [\\n              \\\"De'Aaron Fox\\\",\\n              \\\"PG\\\",\\n              \\\"Sacramento Kings\\\",\\n              28103550\\n            ],\\n            [\\n              \\\"Buddy Hield\\\",\\n              \\\"SG\\\",\\n              \\\"Sacramento Kings\\\",\\n              22477273\\n            ],\\n            [\\n              \\\"Harrison Barnes\\\",\\n              \\\"PF\\\",\\n              \\\"Sacramento Kings\\\",\\n              20284091\\n            ],\\n            [\\n              \\\"Marvin Bagley III\\\",\\n              \\\"PF\\\",\\n              \\\"Sacramento Kings\\\",\\n              11312114\\n            ],\\n            [\\n              \\\"Richaun Holmes\\\",\\n              \\\"C\\\",\\n              \\\"Sacramento Kings\\\",\\n              10384500\\n            ],\\n            [\\n              \\\"Tristan Thompson\\\",\\n              \\\"PF\\\",\\n              \\\"Sacramento Kings\\\",\\n              9720900\\n            ],\\n            [\\n              \\\"Davion Mitchell\\\",\\n              \\\"PG\\\",\\n              \\\"Sacramento Kings\\\",\\n              4603320\\n            ],\\n            [\\n              \\\"Maurice Harkless\\\",\\n              \\\"SF\\\",\\n              \\\"Sacramento Kings\\\",\\n              4347600\\n            ],\\n            [\\n              \\\"Tyrese Haliburton\\\",\\n              \\\"SG\\\",\\n              \\\"Sacramento Kings\\\",\\n              4023600\\n            ],\\n            [\\n              \\\"Terence Davis\\\",\\n              \\\"SG\\\",\\n              \\\"Sacramento Kings\\\",\\n              4000000\\n            ],\\n            [\\n              \\\"Alex Len\\\",\\n              \\\"C\\\",\\n              \\\"Sacramento Kings\\\",\\n              3731707\\n            ],\\n            [\\n              \\\"Damian Jones\\\",\\n              \\\"C\\\",\\n              \\\"Sacramento Kings\\\",\\n              1977011\\n            ],\\n            [\\n              \\\"Chimezie Metu\\\",\\n              \\\"C\\\",\\n              \\\"Sacramento Kings\\\",\\n              1762796\\n            ],\\n            [\\n              \\\"Jahmi'us Ramsey\\\",\\n              \\\"SG\\\",\\n              \\\"Sacramento Kings\\\",\\n              1517981\\n            ],\\n            [\\n              \\\"Dejounte Murray\\\",\\n              \\\"PG\\\",\\n              \\\"San Antonio Spurs\\\",\\n              15428571\\n            ],\\n            [\\n              \\\"Derrick White\\\",\\n              \\\"SG\\\",\\n              \\\"San Antonio Spurs\\\",\\n              15178571\\n            ],\\n            [\\n              \\\"Thaddeus Young\\\",\\n              \\\"PF\\\",\\n              \\\"San Antonio Spurs\\\",\\n              14190000\\n            ],\\n            [\\n              \\\"Doug McDermott\\\",\\n              \\\"PF\\\",\\n              \\\"San Antonio Spurs\\\",\\n              13750000\\n            ],\\n            [\\n              \\\"Jakob Poeltl\\\",\\n              \\\"C\\\",\\n              \\\"San Antonio Spurs\\\",\\n              8750000\\n            ],\\n            [\\n              \\\"Bryn Forbes\\\",\\n              \\\"SG\\\",\\n              \\\"San Antonio Spurs\\\",\\n              4500000\\n            ],\\n            [\\n              \\\"Lonnie Walker IV\\\",\\n              \\\"SG\\\",\\n              \\\"San Antonio Spurs\\\",\\n              4447896\\n            ],\\n            [\\n              \\\"Devin Vassell\\\",\\n              \\\"SF\\\",\\n              \\\"San Antonio Spurs\\\",\\n              4235160\\n            ],\\n            [\\n              \\\"Joshua Primo\\\",\\n              \\\"SG\\\",\\n              \\\"San Antonio Spurs\\\",\\n              3946800\\n            ],\\n            [\\n              \\\"Keldon Johnson\\\",\\n              \\\"SF\\\",\\n              \\\"San Antonio Spurs\\\",\\n              2145720\\n            ],\\n            [\\n              \\\"Drew Eubanks\\\",\\n              \\\"C\\\",\\n              \\\"San Antonio Spurs\\\",\\n              1762796\\n            ],\\n            [\\n              \\\"Keita Bates-Diop\\\",\\n              \\\"SF\\\",\\n              \\\"San Antonio Spurs\\\",\\n              1729217\\n            ],\\n            [\\n              \\\"Tre Jones\\\",\\n              \\\"PG\\\",\\n              \\\"San Antonio Spurs\\\",\\n              1517981\\n            ],\\n            [\\n              \\\"Jock Landale\\\",\\n              \\\"C\\\",\\n              \\\"San Antonio Spurs\\\",\\n              925258\\n            ],\\n            [\\n              \\\"Pascal Siakam\\\",\\n              \\\"PF\\\",\\n              \\\"Toronto Raptors\\\",\\n              31320000\\n            ],\\n            [\\n              \\\"Fred VanVleet\\\",\\n              \\\"PG\\\",\\n              \\\"Toronto Raptors\\\",\\n              19675926\\n            ],\\n            [\\n              \\\"OG Anunoby\\\",\\n              \\\"SF\\\",\\n              \\\"Toronto Raptors\\\",\\n              16071429\\n            ],\\n            [\\n              \\\"Gary Trent Jr.\\\",\\n              \\\"SG\\\",\\n              \\\"Toronto Raptors\\\",\\n              16000000\\n            ],\\n            [\\n              \\\"Scottie Barnes\\\",\\n              \\\"PF\\\",\\n              \\\"Toronto Raptors\\\",\\n              7280520\\n            ],\\n            [\\n              \\\"Chris Boucher\\\",\\n              \\\"PF\\\",\\n              \\\"Toronto Raptors\\\",\\n              7009615\\n            ],\\n            [\\n              \\\"Khem Birch\\\",\\n              \\\"C\\\",\\n              \\\"Toronto Raptors\\\",\\n              6350000\\n            ],\\n            [\\n              \\\"Precious Achiuwa\\\",\\n              \\\"C\\\",\\n              \\\"Toronto Raptors\\\",\\n              2711280\\n            ],\\n            [\\n              \\\"Malachi Flynn\\\",\\n              \\\"PG\\\",\\n              \\\"Toronto Raptors\\\",\\n              2048040\\n            ],\\n            [\\n              \\\"Svi Mykhailiuk\\\",\\n              \\\"SF\\\",\\n              \\\"Toronto Raptors\\\",\\n              1729217\\n            ],\\n            [\\n              \\\"Dalano Banton\\\",\\n              \\\"SF\\\",\\n              \\\"Toronto Raptors\\\",\\n              925258\\n            ],\\n            [\\n              \\\"Rudy Gobert\\\",\\n              \\\"C\\\",\\n              \\\"Utah Jazz\\\",\\n              35344828\\n            ],\\n            [\\n              \\\"Donovan Mitchell\\\",\\n              \\\"SG\\\",\\n              \\\"Utah Jazz\\\",\\n              28103550\\n            ],\\n            [\\n              \\\"Mike Conley\\\",\\n              \\\"PG\\\",\\n              \\\"Utah Jazz\\\",\\n              21000000\\n            ],\\n            [\\n              \\\"Bojan Bogdanovi\\\\u0107\\\",\\n              \\\"PF\\\",\\n              \\\"Utah Jazz\\\",\\n              18700000\\n            ],\\n            [\\n              \\\"Joe Ingles\\\",\\n              \\\"SF\\\",\\n              \\\"Utah Jazz\\\",\\n              14000000\\n            ],\\n            [\\n              \\\"Jordan Clarkson\\\",\\n              \\\"SG\\\",\\n              \\\"Utah Jazz\\\",\\n              12420000\\n            ],\\n            [\\n              \\\"Royce O'Neale\\\",\\n              \\\"SF\\\",\\n              \\\"Utah Jazz\\\",\\n              8678571\\n            ],\\n            [\\n              \\\"Rudy Gay\\\",\\n              \\\"PF\\\",\\n              \\\"Utah Jazz\\\",\\n              5890000\\n            ],\\n            [\\n              \\\"Hassan Whiteside\\\",\\n              \\\"C\\\",\\n              \\\"Utah Jazz\\\",\\n              2401537\\n            ],\\n            [\\n              \\\"Eric Paschall\\\",\\n              \\\"PF\\\",\\n              \\\"Utah Jazz\\\",\\n              1782621\\n            ],\\n            [\\n              \\\"Jared Butler\\\",\\n              \\\"SG\\\",\\n              \\\"Utah Jazz\\\",\\n              925258\\n            ],\\n            [\\n              \\\"Bradley Beal\\\",\\n              \\\"SG\\\",\\n              \\\"Washington Wizards\\\",\\n              34502130\\n            ],\\n            [\\n              \\\"Spencer Dinwiddie\\\",\\n              \\\"PG\\\",\\n              \\\"Washington Wizards\\\",\\n              17142857\\n            ],\\n            [\\n              \\\"D\\\\u0101vis Bert\\\\u0101ns\\\",\\n              \\\"PF\\\",\\n              \\\"Washington Wizards\\\",\\n              16000000\\n            ],\\n            [\\n              \\\"Kentavious Caldwell-Pope\\\",\\n              \\\"SG\\\",\\n              \\\"Washington Wizards\\\",\\n              13038862\\n            ],\\n            [\\n              \\\"Kyle Kuzma\\\",\\n              \\\"PF\\\",\\n              \\\"Washington Wizards\\\",\\n              13000000\\n            ],\\n            [\\n              \\\"Montrezl Harrell\\\",\\n              \\\"C\\\",\\n              \\\"Washington Wizards\\\",\\n              9720900\\n            ],\\n            [\\n              \\\"Deni Avdija\\\",\\n              \\\"SF\\\",\\n              \\\"Washington Wizards\\\",\\n              4692840\\n            ],\\n            [\\n              \\\"Aaron Holiday\\\",\\n              \\\"PG\\\",\\n              \\\"Washington Wizards\\\",\\n              3980551\\n            ],\\n            [\\n              \\\"Corey Kispert\\\",\\n              \\\"SF\\\",\\n              \\\"Washington Wizards\\\",\\n              3383640\\n            ],\\n            [\\n              \\\"Raul Neto\\\",\\n              \\\"PG\\\",\\n              \\\"Washington Wizards\\\",\\n              2089448\\n            ],\\n            [\\n              \\\"Daniel Gafford\\\",\\n              \\\"C\\\",\\n              \\\"Washington Wizards\\\",\\n              1782621\\n            ],\\n            [\\n              \\\"Anthony Gill\\\",\\n              \\\"PF\\\",\\n              \\\"Washington Wizards\\\",\\n              1517981\\n            ]\\n          ]\\n        },\\n        \\\"rhs\\\": {\\n          \\\"type\\\": \\\"DataFrame\\\",\\n          \\\"columns\\\": {\\n            \\\"names\\\": [\\n              null\\n            ],\\n            \\\"labels\\\": [\\n              \\\"Player\\\",\\n              \\\"Position\\\",\\n              \\\"Team\\\",\\n              \\\"Salary\\\"\\n            ]\\n          },\\n          \\\"index\\\": {\\n            \\\"names\\\": [\\n              null\\n            ],\\n            \\\"labels\\\": [\\n              0,\\n              1,\\n              2,\\n              3,\\n              4,\\n              5,\\n              6,\\n              7,\\n              8,\\n              9,\\n              10,\\n              11,\\n              12,\\n              13,\\n              14,\\n              15,\\n              16,\\n              17,\\n              18,\\n              19,\\n              20,\\n              21,\\n              22,\\n              23\\n            ]\\n          },\\n          \\\"data\\\": [\\n            [\\n              \\\"John Collins\\\",\\n              \\\"PF\\\",\\n              \\\"Atlanta Hawks\\\",\\n              23000000\\n            ],\\n            [\\n              \\\"Danilo Gallinari\\\",\\n              \\\"PF\\\",\\n              \\\"Atlanta Hawks\\\",\\n              20475000\\n            ],\\n            [\\n              \\\"Bogdan Bogdanovi\\\\u0107\\\",\\n              \\\"SG\\\",\\n              \\\"Atlanta Hawks\\\",\\n              18000000\\n            ],\\n            [\\n              \\\"Clint Capela\\\",\\n              \\\"C\\\",\\n              \\\"Atlanta Hawks\\\",\\n              17103448\\n            ],\\n            [\\n              \\\"Delon Wright\\\",\\n              \\\"SG\\\",\\n              \\\"Atlanta Hawks\\\",\\n              8526316\\n            ],\\n            [\\n              \\\"Trae Young\\\",\\n              \\\"PG\\\",\\n              \\\"Atlanta Hawks\\\",\\n              8326471\\n            ],\\n            [\\n              \\\"Lou Williams\\\",\\n              \\\"PG\\\",\\n              \\\"Atlanta Hawks\\\",\\n              5000000\\n            ],\\n            [\\n              \\\"Cam Reddish\\\",\\n              \\\"SF\\\",\\n              \\\"Atlanta Hawks\\\",\\n              4670160\\n            ],\\n            [\\n              \\\"Kevin Huerter\\\",\\n              \\\"SG\\\",\\n              \\\"Atlanta Hawks\\\",\\n              4253357\\n            ],\\n            [\\n              \\\"Gorgui Dieng\\\",\\n              \\\"C\\\",\\n              \\\"Atlanta Hawks\\\",\\n              4000000\\n            ],\\n            [\\n              \\\"Timoth\\\\u00e9 Luwawu-Cabarrot\\\",\\n              \\\"SF\\\",\\n              \\\"Atlanta Hawks\\\",\\n              1939350\\n            ],\\n            [\\n              \\\"Jayson Tatum\\\",\\n              \\\"SF\\\",\\n              \\\"Boston Celtics\\\",\\n              28103550\\n            ],\\n            [\\n              \\\"Al Horford\\\",\\n              \\\"C\\\",\\n              \\\"Boston Celtics\\\",\\n              27000000\\n            ],\\n            [\\n              \\\"Jaylen Brown\\\",\\n              \\\"SF\\\",\\n              \\\"Boston Celtics\\\",\\n              24830357\\n            ],\\n            [\\n              \\\"Marcus Smart\\\",\\n              \\\"PG\\\",\\n              \\\"Boston Celtics\\\",\\n              14339285\\n            ],\\n            [\\n              \\\"Josh Richardson\\\",\\n              \\\"SG\\\",\\n              \\\"Boston Celtics\\\",\\n              11600000\\n            ],\\n            [\\n              \\\"Juancho Hernang\\\\u00f3mez\\\",\\n              \\\"PF\\\",\\n              \\\"Boston Celtics\\\",\\n              7012440\\n            ],\\n            [\\n              \\\"Dennis Schr\\\\u00f6der\\\",\\n              \\\"SG\\\",\\n              \\\"Boston Celtics\\\",\\n              5890000\\n            ],\\n            [\\n              \\\"Romeo Langford\\\",\\n              \\\"SG\\\",\\n              \\\"Boston Celtics\\\",\\n              3804360\\n            ],\\n            [\\n              \\\"Robert Williams\\\",\\n              \\\"C\\\",\\n              \\\"Boston Celtics\\\",\\n              3661976\\n            ],\\n            [\\n              \\\"Aaron Nesmith\\\",\\n              \\\"SF\\\",\\n              \\\"Boston Celtics\\\",\\n              3631200\\n            ],\\n            [\\n              \\\"Enes Freedom\\\",\\n              \\\"C\\\",\\n              \\\"Boston Celtics\\\",\\n              2641691\\n            ],\\n            [\\n              \\\"Grant Williams\\\",\\n              \\\"PF\\\",\\n              \\\"Boston Celtics\\\",\\n              2617800\\n            ],\\n            [\\n              \\\"Payton Pritchard\\\",\\n              \\\"SG\\\",\\n              \\\"Boston Celtics\\\",\\n              2137440\\n            ]\\n          ]\\n        }\\n      }\\n    },\\n    {\\n      \\\"type\\\": \\\"GroupByCall\\\",\\n      \\\"code_step\\\": \\\"nba.take(np.arange(24)).groupby(['Team', 'Position']).count()\\\",\\n      \\\"fragment\\\": {\\n        \\\"start\\\": {\\n          \\\"line\\\": 0,\\n          \\\"ch\\\": 23\\n        },\\n        \\\"end\\\": {\\n          \\\"line\\\": 0,\\n          \\\"ch\\\": 53\\n        }\\n      },\\n      \\\"marks\\\": [\\n        {\\n          \\\"type\\\": \\\"using\\\",\\n          \\\"pos\\\": {\\n            \\\"type\\\": \\\"axis\\\",\\n            \\\"anchor\\\": \\\"lhs\\\",\\n            \\\"select\\\": \\\"column\\\",\\n            \\\"label\\\": \\\"Team\\\"\\n          }\\n        },\\n        {\\n          \\\"type\\\": \\\"using\\\",\\n          \\\"pos\\\": {\\n            \\\"type\\\": \\\"axis\\\",\\n            \\\"anchor\\\": \\\"lhs\\\",\\n            \\\"select\\\": \\\"column\\\",\\n            \\\"label\\\": \\\"Position\\\"\\n          }\\n        }\\n      ],\\n      \\\"data\\\": {\\n        \\\"lhs\\\": \\\"prev_rhs\\\",\\n        \\\"rhs\\\": {\\n          \\\"type\\\": \\\"DataFrameGroupBy\\\",\\n          \\\"columns\\\": {\\n            \\\"names\\\": [\\n              null\\n            ],\\n            \\\"labels\\\": [\\n              \\\"Player\\\",\\n              \\\"Position\\\",\\n              \\\"Team\\\",\\n              \\\"Salary\\\"\\n            ]\\n          },\\n          \\\"index\\\": {\\n            \\\"names\\\": [\\n              null\\n            ],\\n            \\\"labels\\\": [\\n              0,\\n              1,\\n              2,\\n              3,\\n              4,\\n              5,\\n              6,\\n              7,\\n              8,\\n              9,\\n              10,\\n              11,\\n              12,\\n              13,\\n              14,\\n              15,\\n              16,\\n              17,\\n              18,\\n              19,\\n              20,\\n              21,\\n              22,\\n              23\\n            ]\\n          },\\n          \\\"data\\\": [\\n            [\\n              \\\"John Collins\\\",\\n              \\\"PF\\\",\\n              \\\"Atlanta Hawks\\\",\\n              23000000\\n            ],\\n            [\\n              \\\"Danilo Gallinari\\\",\\n              \\\"PF\\\",\\n              \\\"Atlanta Hawks\\\",\\n              20475000\\n            ],\\n            [\\n              \\\"Bogdan Bogdanovi\\\\u0107\\\",\\n              \\\"SG\\\",\\n              \\\"Atlanta Hawks\\\",\\n              18000000\\n            ],\\n            [\\n              \\\"Clint Capela\\\",\\n              \\\"C\\\",\\n              \\\"Atlanta Hawks\\\",\\n              17103448\\n            ],\\n            [\\n              \\\"Delon Wright\\\",\\n              \\\"SG\\\",\\n              \\\"Atlanta Hawks\\\",\\n              8526316\\n            ],\\n            [\\n              \\\"Trae Young\\\",\\n              \\\"PG\\\",\\n              \\\"Atlanta Hawks\\\",\\n              8326471\\n            ],\\n            [\\n              \\\"Lou Williams\\\",\\n              \\\"PG\\\",\\n              \\\"Atlanta Hawks\\\",\\n              5000000\\n            ],\\n            [\\n              \\\"Cam Reddish\\\",\\n              \\\"SF\\\",\\n              \\\"Atlanta Hawks\\\",\\n              4670160\\n            ],\\n            [\\n              \\\"Kevin Huerter\\\",\\n              \\\"SG\\\",\\n              \\\"Atlanta Hawks\\\",\\n              4253357\\n            ],\\n            [\\n              \\\"Gorgui Dieng\\\",\\n              \\\"C\\\",\\n              \\\"Atlanta Hawks\\\",\\n              4000000\\n            ],\\n            [\\n              \\\"Timoth\\\\u00e9 Luwawu-Cabarrot\\\",\\n              \\\"SF\\\",\\n              \\\"Atlanta Hawks\\\",\\n              1939350\\n            ],\\n            [\\n              \\\"Jayson Tatum\\\",\\n              \\\"SF\\\",\\n              \\\"Boston Celtics\\\",\\n              28103550\\n            ],\\n            [\\n              \\\"Al Horford\\\",\\n              \\\"C\\\",\\n              \\\"Boston Celtics\\\",\\n              27000000\\n            ],\\n            [\\n              \\\"Jaylen Brown\\\",\\n              \\\"SF\\\",\\n              \\\"Boston Celtics\\\",\\n              24830357\\n            ],\\n            [\\n              \\\"Marcus Smart\\\",\\n              \\\"PG\\\",\\n              \\\"Boston Celtics\\\",\\n              14339285\\n            ],\\n            [\\n              \\\"Josh Richardson\\\",\\n              \\\"SG\\\",\\n              \\\"Boston Celtics\\\",\\n              11600000\\n            ],\\n            [\\n              \\\"Juancho Hernang\\\\u00f3mez\\\",\\n              \\\"PF\\\",\\n              \\\"Boston Celtics\\\",\\n              7012440\\n            ],\\n            [\\n              \\\"Dennis Schr\\\\u00f6der\\\",\\n              \\\"SG\\\",\\n              \\\"Boston Celtics\\\",\\n              5890000\\n            ],\\n            [\\n              \\\"Romeo Langford\\\",\\n              \\\"SG\\\",\\n              \\\"Boston Celtics\\\",\\n              3804360\\n            ],\\n            [\\n              \\\"Robert Williams\\\",\\n              \\\"C\\\",\\n              \\\"Boston Celtics\\\",\\n              3661976\\n            ],\\n            [\\n              \\\"Aaron Nesmith\\\",\\n              \\\"SF\\\",\\n              \\\"Boston Celtics\\\",\\n              3631200\\n            ],\\n            [\\n              \\\"Enes Freedom\\\",\\n              \\\"C\\\",\\n              \\\"Boston Celtics\\\",\\n              2641691\\n            ],\\n            [\\n              \\\"Grant Williams\\\",\\n              \\\"PF\\\",\\n              \\\"Boston Celtics\\\",\\n              2617800\\n            ],\\n            [\\n              \\\"Payton Pritchard\\\",\\n              \\\"SG\\\",\\n              \\\"Boston Celtics\\\",\\n              2137440\\n            ]\\n          ],\\n          \\\"group_data\\\": {\\n            \\\"columns\\\": [\\n              \\\"Team\\\",\\n              \\\"Position\\\"\\n            ],\\n            \\\"groups\\\": [\\n              {\\n                \\\"name\\\": [\\n                  \\\"Atlanta Hawks\\\",\\n                  \\\"C\\\"\\n                ],\\n                \\\"labels\\\": [\\n                  3,\\n                  9\\n                ]\\n              },\\n              {\\n                \\\"name\\\": [\\n                  \\\"Atlanta Hawks\\\",\\n                  \\\"PF\\\"\\n                ],\\n                \\\"labels\\\": [\\n                  0,\\n                  1\\n                ]\\n              },\\n              {\\n                \\\"name\\\": [\\n                  \\\"Atlanta Hawks\\\",\\n                  \\\"PG\\\"\\n                ],\\n                \\\"labels\\\": [\\n                  5,\\n                  6\\n                ]\\n              },\\n              {\\n                \\\"name\\\": [\\n                  \\\"Atlanta Hawks\\\",\\n                  \\\"SF\\\"\\n                ],\\n                \\\"labels\\\": [\\n                  7,\\n                  10\\n                ]\\n              },\\n              {\\n                \\\"name\\\": [\\n                  \\\"Atlanta Hawks\\\",\\n                  \\\"SG\\\"\\n                ],\\n                \\\"labels\\\": [\\n                  2,\\n                  4,\\n                  8\\n                ]\\n              },\\n              {\\n                \\\"name\\\": [\\n                  \\\"Boston Celtics\\\",\\n                  \\\"C\\\"\\n                ],\\n                \\\"labels\\\": [\\n                  12,\\n                  19,\\n                  21\\n                ]\\n              },\\n              {\\n                \\\"name\\\": [\\n                  \\\"Boston Celtics\\\",\\n                  \\\"PF\\\"\\n                ],\\n                \\\"labels\\\": [\\n                  16,\\n                  22\\n                ]\\n              },\\n              {\\n                \\\"name\\\": [\\n                  \\\"Boston Celtics\\\",\\n                  \\\"PG\\\"\\n                ],\\n                \\\"labels\\\": [\\n                  14\\n                ]\\n              },\\n              {\\n                \\\"name\\\": [\\n                  \\\"Boston Celtics\\\",\\n                  \\\"SF\\\"\\n                ],\\n                \\\"labels\\\": [\\n                  11,\\n                  13,\\n                  20\\n                ]\\n              },\\n              {\\n                \\\"name\\\": [\\n                  \\\"Boston Celtics\\\",\\n                  \\\"SG\\\"\\n                ],\\n                \\\"labels\\\": [\\n                  15,\\n                  17,\\n                  18,\\n                  23\\n                ]\\n              }\\n            ]\\n          }\\n        }\\n      }\\n    },\\n    {\\n      \\\"type\\\": \\\"AggCall\\\",\\n      \\\"code_step\\\": \\\"nba.take(np.arange(24)).groupby(['Team', 'Position']).count()\\\",\\n      \\\"fragment\\\": {\\n        \\\"start\\\": {\\n          \\\"line\\\": 0,\\n          \\\"ch\\\": 53\\n        },\\n        \\\"end\\\": {\\n          \\\"line\\\": 0,\\n          \\\"ch\\\": 61\\n        }\\n      },\\n      \\\"marks\\\": [\\n        {\\n          \\\"type\\\": \\\"map\\\",\\n          \\\"from\\\": {\\n            \\\"type\\\": \\\"axis\\\",\\n            \\\"anchor\\\": \\\"lhs\\\",\\n            \\\"select\\\": \\\"row\\\",\\n            \\\"label\\\": 3\\n          },\\n          \\\"to\\\": {\\n            \\\"type\\\": \\\"axis\\\",\\n            \\\"anchor\\\": \\\"rhs\\\",\\n            \\\"select\\\": \\\"row\\\",\\n            \\\"label\\\": [\\n              \\\"Atlanta Hawks\\\",\\n              \\\"C\\\"\\n            ]\\n          }\\n        },\\n        {\\n          \\\"type\\\": \\\"map\\\",\\n          \\\"from\\\": {\\n            \\\"type\\\": \\\"axis\\\",\\n            \\\"anchor\\\": \\\"lhs\\\",\\n            \\\"select\\\": \\\"row\\\",\\n            \\\"label\\\": 9\\n          },\\n          \\\"to\\\": {\\n            \\\"type\\\": \\\"axis\\\",\\n            \\\"anchor\\\": \\\"rhs\\\",\\n            \\\"select\\\": \\\"row\\\",\\n            \\\"label\\\": [\\n              \\\"Atlanta Hawks\\\",\\n              \\\"C\\\"\\n            ]\\n          }\\n        },\\n        {\\n          \\\"type\\\": \\\"map\\\",\\n          \\\"from\\\": {\\n            \\\"type\\\": \\\"axis\\\",\\n            \\\"anchor\\\": \\\"lhs\\\",\\n            \\\"select\\\": \\\"row\\\",\\n            \\\"label\\\": 0\\n          },\\n          \\\"to\\\": {\\n            \\\"type\\\": \\\"axis\\\",\\n            \\\"anchor\\\": \\\"rhs\\\",\\n            \\\"select\\\": \\\"row\\\",\\n            \\\"label\\\": [\\n              \\\"Atlanta Hawks\\\",\\n              \\\"PF\\\"\\n            ]\\n          }\\n        },\\n        {\\n          \\\"type\\\": \\\"map\\\",\\n          \\\"from\\\": {\\n            \\\"type\\\": \\\"axis\\\",\\n            \\\"anchor\\\": \\\"lhs\\\",\\n            \\\"select\\\": \\\"row\\\",\\n            \\\"label\\\": 1\\n          },\\n          \\\"to\\\": {\\n            \\\"type\\\": \\\"axis\\\",\\n            \\\"anchor\\\": \\\"rhs\\\",\\n            \\\"select\\\": \\\"row\\\",\\n            \\\"label\\\": [\\n              \\\"Atlanta Hawks\\\",\\n              \\\"PF\\\"\\n            ]\\n          }\\n        },\\n        {\\n          \\\"type\\\": \\\"map\\\",\\n          \\\"from\\\": {\\n            \\\"type\\\": \\\"axis\\\",\\n            \\\"anchor\\\": \\\"lhs\\\",\\n            \\\"select\\\": \\\"row\\\",\\n            \\\"label\\\": 5\\n          },\\n          \\\"to\\\": {\\n            \\\"type\\\": \\\"axis\\\",\\n            \\\"anchor\\\": \\\"rhs\\\",\\n            \\\"select\\\": \\\"row\\\",\\n            \\\"label\\\": [\\n              \\\"Atlanta Hawks\\\",\\n              \\\"PG\\\"\\n            ]\\n          }\\n        },\\n        {\\n          \\\"type\\\": \\\"map\\\",\\n          \\\"from\\\": {\\n            \\\"type\\\": \\\"axis\\\",\\n            \\\"anchor\\\": \\\"lhs\\\",\\n            \\\"select\\\": \\\"row\\\",\\n            \\\"label\\\": 6\\n          },\\n          \\\"to\\\": {\\n            \\\"type\\\": \\\"axis\\\",\\n            \\\"anchor\\\": \\\"rhs\\\",\\n            \\\"select\\\": \\\"row\\\",\\n            \\\"label\\\": [\\n              \\\"Atlanta Hawks\\\",\\n              \\\"PG\\\"\\n            ]\\n          }\\n        },\\n        {\\n          \\\"type\\\": \\\"map\\\",\\n          \\\"from\\\": {\\n            \\\"type\\\": \\\"axis\\\",\\n            \\\"anchor\\\": \\\"lhs\\\",\\n            \\\"select\\\": \\\"row\\\",\\n            \\\"label\\\": 7\\n          },\\n          \\\"to\\\": {\\n            \\\"type\\\": \\\"axis\\\",\\n            \\\"anchor\\\": \\\"rhs\\\",\\n            \\\"select\\\": \\\"row\\\",\\n            \\\"label\\\": [\\n              \\\"Atlanta Hawks\\\",\\n              \\\"SF\\\"\\n            ]\\n          }\\n        },\\n        {\\n          \\\"type\\\": \\\"map\\\",\\n          \\\"from\\\": {\\n            \\\"type\\\": \\\"axis\\\",\\n            \\\"anchor\\\": \\\"lhs\\\",\\n            \\\"select\\\": \\\"row\\\",\\n            \\\"label\\\": 10\\n          },\\n          \\\"to\\\": {\\n            \\\"type\\\": \\\"axis\\\",\\n            \\\"anchor\\\": \\\"rhs\\\",\\n            \\\"select\\\": \\\"row\\\",\\n            \\\"label\\\": [\\n              \\\"Atlanta Hawks\\\",\\n              \\\"SF\\\"\\n            ]\\n          }\\n        },\\n        {\\n          \\\"type\\\": \\\"map\\\",\\n          \\\"from\\\": {\\n            \\\"type\\\": \\\"axis\\\",\\n            \\\"anchor\\\": \\\"lhs\\\",\\n            \\\"select\\\": \\\"row\\\",\\n            \\\"label\\\": 2\\n          },\\n          \\\"to\\\": {\\n            \\\"type\\\": \\\"axis\\\",\\n            \\\"anchor\\\": \\\"rhs\\\",\\n            \\\"select\\\": \\\"row\\\",\\n            \\\"label\\\": [\\n              \\\"Atlanta Hawks\\\",\\n              \\\"SG\\\"\\n            ]\\n          }\\n        },\\n        {\\n          \\\"type\\\": \\\"map\\\",\\n          \\\"from\\\": {\\n            \\\"type\\\": \\\"axis\\\",\\n            \\\"anchor\\\": \\\"lhs\\\",\\n            \\\"select\\\": \\\"row\\\",\\n            \\\"label\\\": 4\\n          },\\n          \\\"to\\\": {\\n            \\\"type\\\": \\\"axis\\\",\\n            \\\"anchor\\\": \\\"rhs\\\",\\n            \\\"select\\\": \\\"row\\\",\\n            \\\"label\\\": [\\n              \\\"Atlanta Hawks\\\",\\n              \\\"SG\\\"\\n            ]\\n          }\\n        },\\n        {\\n          \\\"type\\\": \\\"map\\\",\\n          \\\"from\\\": {\\n            \\\"type\\\": \\\"axis\\\",\\n            \\\"anchor\\\": \\\"lhs\\\",\\n            \\\"select\\\": \\\"row\\\",\\n            \\\"label\\\": 8\\n          },\\n          \\\"to\\\": {\\n            \\\"type\\\": \\\"axis\\\",\\n            \\\"anchor\\\": \\\"rhs\\\",\\n            \\\"select\\\": \\\"row\\\",\\n            \\\"label\\\": [\\n              \\\"Atlanta Hawks\\\",\\n              \\\"SG\\\"\\n            ]\\n          }\\n        },\\n        {\\n          \\\"type\\\": \\\"map\\\",\\n          \\\"from\\\": {\\n            \\\"type\\\": \\\"axis\\\",\\n            \\\"anchor\\\": \\\"lhs\\\",\\n            \\\"select\\\": \\\"row\\\",\\n            \\\"label\\\": 12\\n          },\\n          \\\"to\\\": {\\n            \\\"type\\\": \\\"axis\\\",\\n            \\\"anchor\\\": \\\"rhs\\\",\\n            \\\"select\\\": \\\"row\\\",\\n            \\\"label\\\": [\\n              \\\"Boston Celtics\\\",\\n              \\\"C\\\"\\n            ]\\n          }\\n        },\\n        {\\n          \\\"type\\\": \\\"map\\\",\\n          \\\"from\\\": {\\n            \\\"type\\\": \\\"axis\\\",\\n            \\\"anchor\\\": \\\"lhs\\\",\\n            \\\"select\\\": \\\"row\\\",\\n            \\\"label\\\": 19\\n          },\\n          \\\"to\\\": {\\n            \\\"type\\\": \\\"axis\\\",\\n            \\\"anchor\\\": \\\"rhs\\\",\\n            \\\"select\\\": \\\"row\\\",\\n            \\\"label\\\": [\\n              \\\"Boston Celtics\\\",\\n              \\\"C\\\"\\n            ]\\n          }\\n        },\\n        {\\n          \\\"type\\\": \\\"map\\\",\\n          \\\"from\\\": {\\n            \\\"type\\\": \\\"axis\\\",\\n            \\\"anchor\\\": \\\"lhs\\\",\\n            \\\"select\\\": \\\"row\\\",\\n            \\\"label\\\": 21\\n          },\\n          \\\"to\\\": {\\n            \\\"type\\\": \\\"axis\\\",\\n            \\\"anchor\\\": \\\"rhs\\\",\\n            \\\"select\\\": \\\"row\\\",\\n            \\\"label\\\": [\\n              \\\"Boston Celtics\\\",\\n              \\\"C\\\"\\n            ]\\n          }\\n        },\\n        {\\n          \\\"type\\\": \\\"map\\\",\\n          \\\"from\\\": {\\n            \\\"type\\\": \\\"axis\\\",\\n            \\\"anchor\\\": \\\"lhs\\\",\\n            \\\"select\\\": \\\"row\\\",\\n            \\\"label\\\": 16\\n          },\\n          \\\"to\\\": {\\n            \\\"type\\\": \\\"axis\\\",\\n            \\\"anchor\\\": \\\"rhs\\\",\\n            \\\"select\\\": \\\"row\\\",\\n            \\\"label\\\": [\\n              \\\"Boston Celtics\\\",\\n              \\\"PF\\\"\\n            ]\\n          }\\n        },\\n        {\\n          \\\"type\\\": \\\"map\\\",\\n          \\\"from\\\": {\\n            \\\"type\\\": \\\"axis\\\",\\n            \\\"anchor\\\": \\\"lhs\\\",\\n            \\\"select\\\": \\\"row\\\",\\n            \\\"label\\\": 22\\n          },\\n          \\\"to\\\": {\\n            \\\"type\\\": \\\"axis\\\",\\n            \\\"anchor\\\": \\\"rhs\\\",\\n            \\\"select\\\": \\\"row\\\",\\n            \\\"label\\\": [\\n              \\\"Boston Celtics\\\",\\n              \\\"PF\\\"\\n            ]\\n          }\\n        },\\n        {\\n          \\\"type\\\": \\\"map\\\",\\n          \\\"from\\\": {\\n            \\\"type\\\": \\\"axis\\\",\\n            \\\"anchor\\\": \\\"lhs\\\",\\n            \\\"select\\\": \\\"row\\\",\\n            \\\"label\\\": 14\\n          },\\n          \\\"to\\\": {\\n            \\\"type\\\": \\\"axis\\\",\\n            \\\"anchor\\\": \\\"rhs\\\",\\n            \\\"select\\\": \\\"row\\\",\\n            \\\"label\\\": [\\n              \\\"Boston Celtics\\\",\\n              \\\"PG\\\"\\n            ]\\n          }\\n        },\\n        {\\n          \\\"type\\\": \\\"map\\\",\\n          \\\"from\\\": {\\n            \\\"type\\\": \\\"axis\\\",\\n            \\\"anchor\\\": \\\"lhs\\\",\\n            \\\"select\\\": \\\"row\\\",\\n            \\\"label\\\": 11\\n          },\\n          \\\"to\\\": {\\n            \\\"type\\\": \\\"axis\\\",\\n            \\\"anchor\\\": \\\"rhs\\\",\\n            \\\"select\\\": \\\"row\\\",\\n            \\\"label\\\": [\\n              \\\"Boston Celtics\\\",\\n              \\\"SF\\\"\\n            ]\\n          }\\n        },\\n        {\\n          \\\"type\\\": \\\"map\\\",\\n          \\\"from\\\": {\\n            \\\"type\\\": \\\"axis\\\",\\n            \\\"anchor\\\": \\\"lhs\\\",\\n            \\\"select\\\": \\\"row\\\",\\n            \\\"label\\\": 13\\n          },\\n          \\\"to\\\": {\\n            \\\"type\\\": \\\"axis\\\",\\n            \\\"anchor\\\": \\\"rhs\\\",\\n            \\\"select\\\": \\\"row\\\",\\n            \\\"label\\\": [\\n              \\\"Boston Celtics\\\",\\n              \\\"SF\\\"\\n            ]\\n          }\\n        },\\n        {\\n          \\\"type\\\": \\\"map\\\",\\n          \\\"from\\\": {\\n            \\\"type\\\": \\\"axis\\\",\\n            \\\"anchor\\\": \\\"lhs\\\",\\n            \\\"select\\\": \\\"row\\\",\\n            \\\"label\\\": 20\\n          },\\n          \\\"to\\\": {\\n            \\\"type\\\": \\\"axis\\\",\\n            \\\"anchor\\\": \\\"rhs\\\",\\n            \\\"select\\\": \\\"row\\\",\\n            \\\"label\\\": [\\n              \\\"Boston Celtics\\\",\\n              \\\"SF\\\"\\n            ]\\n          }\\n        },\\n        {\\n          \\\"type\\\": \\\"map\\\",\\n          \\\"from\\\": {\\n            \\\"type\\\": \\\"axis\\\",\\n            \\\"anchor\\\": \\\"lhs\\\",\\n            \\\"select\\\": \\\"row\\\",\\n            \\\"label\\\": 15\\n          },\\n          \\\"to\\\": {\\n            \\\"type\\\": \\\"axis\\\",\\n            \\\"anchor\\\": \\\"rhs\\\",\\n            \\\"select\\\": \\\"row\\\",\\n            \\\"label\\\": [\\n              \\\"Boston Celtics\\\",\\n              \\\"SG\\\"\\n            ]\\n          }\\n        },\\n        {\\n          \\\"type\\\": \\\"map\\\",\\n          \\\"from\\\": {\\n            \\\"type\\\": \\\"axis\\\",\\n            \\\"anchor\\\": \\\"lhs\\\",\\n            \\\"select\\\": \\\"row\\\",\\n            \\\"label\\\": 17\\n          },\\n          \\\"to\\\": {\\n            \\\"type\\\": \\\"axis\\\",\\n            \\\"anchor\\\": \\\"rhs\\\",\\n            \\\"select\\\": \\\"row\\\",\\n            \\\"label\\\": [\\n              \\\"Boston Celtics\\\",\\n              \\\"SG\\\"\\n            ]\\n          }\\n        },\\n        {\\n          \\\"type\\\": \\\"map\\\",\\n          \\\"from\\\": {\\n            \\\"type\\\": \\\"axis\\\",\\n            \\\"anchor\\\": \\\"lhs\\\",\\n            \\\"select\\\": \\\"row\\\",\\n            \\\"label\\\": 18\\n          },\\n          \\\"to\\\": {\\n            \\\"type\\\": \\\"axis\\\",\\n            \\\"anchor\\\": \\\"rhs\\\",\\n            \\\"select\\\": \\\"row\\\",\\n            \\\"label\\\": [\\n              \\\"Boston Celtics\\\",\\n              \\\"SG\\\"\\n            ]\\n          }\\n        },\\n        {\\n          \\\"type\\\": \\\"map\\\",\\n          \\\"from\\\": {\\n            \\\"type\\\": \\\"axis\\\",\\n            \\\"anchor\\\": \\\"lhs\\\",\\n            \\\"select\\\": \\\"row\\\",\\n            \\\"label\\\": 23\\n          },\\n          \\\"to\\\": {\\n            \\\"type\\\": \\\"axis\\\",\\n            \\\"anchor\\\": \\\"rhs\\\",\\n            \\\"select\\\": \\\"row\\\",\\n            \\\"label\\\": [\\n              \\\"Boston Celtics\\\",\\n              \\\"SG\\\"\\n            ]\\n          }\\n        }\\n      ],\\n      \\\"data\\\": {\\n        \\\"lhs\\\": \\\"prev_rhs\\\",\\n        \\\"rhs\\\": {\\n          \\\"type\\\": \\\"DataFrame\\\",\\n          \\\"columns\\\": {\\n            \\\"names\\\": [\\n              null\\n            ],\\n            \\\"labels\\\": [\\n              \\\"Player\\\",\\n              \\\"Salary\\\"\\n            ]\\n          },\\n          \\\"index\\\": {\\n            \\\"names\\\": [\\n              \\\"Team\\\",\\n              \\\"Position\\\"\\n            ],\\n            \\\"labels\\\": [\\n              [\\n                \\\"Atlanta Hawks\\\",\\n                \\\"C\\\"\\n              ],\\n              [\\n                \\\"Atlanta Hawks\\\",\\n                \\\"PF\\\"\\n              ],\\n              [\\n                \\\"Atlanta Hawks\\\",\\n                \\\"PG\\\"\\n              ],\\n              [\\n                \\\"Atlanta Hawks\\\",\\n                \\\"SF\\\"\\n              ],\\n              [\\n                \\\"Atlanta Hawks\\\",\\n                \\\"SG\\\"\\n              ],\\n              [\\n                \\\"Boston Celtics\\\",\\n                \\\"C\\\"\\n              ],\\n              [\\n                \\\"Boston Celtics\\\",\\n                \\\"PF\\\"\\n              ],\\n              [\\n                \\\"Boston Celtics\\\",\\n                \\\"PG\\\"\\n              ],\\n              [\\n                \\\"Boston Celtics\\\",\\n                \\\"SF\\\"\\n              ],\\n              [\\n                \\\"Boston Celtics\\\",\\n                \\\"SG\\\"\\n              ]\\n            ]\\n          },\\n          \\\"data\\\": [\\n            [\\n              2,\\n              2\\n            ],\\n            [\\n              2,\\n              2\\n            ],\\n            [\\n              2,\\n              2\\n            ],\\n            [\\n              2,\\n              2\\n            ],\\n            [\\n              3,\\n              3\\n            ],\\n            [\\n              3,\\n              3\\n            ],\\n            [\\n              2,\\n              2\\n            ],\\n            [\\n              1,\\n              1\\n            ],\\n            [\\n              3,\\n              3\\n            ],\\n            [\\n              4,\\n              4\\n            ]\\n          ]\\n        }\\n      }\\n    }\\n  ]\\n}\", {\"nohover\": true, \"maxDisplayRows\": 7, \"maxDisplayCols\": 5, \"colorPalette\": [\"#e41a1c\", \"#377eb8\", \"#4daf4a\", \"#984ea3\", \"#ff7f00\", \"#a65628\", \"#f781bf\", \"#999999\"]});\n",
       "</script>\n"
      ],
      "text/plain": [
       "<IPython.core.display.HTML object>"
      ]
     },
     "metadata": {},
     "output_type": "display_data"
    }
   ],
   "source": [
    "%%pt\n",
    "\n",
    "# Take the top 24 rows for simplicity\n",
    "nba.take(np.arange(24)).groupby(['Team', 'Position']).count()"
   ]
  },
  {
   "cell_type": "markdown",
   "metadata": {
    "slideshow": {
     "slide_type": "slide"
    }
   },
   "source": [
    "### `.groupby` with subgroups\n",
    "\n",
    "- To make groups within groups, pass a **list** of column names to `.groupby`:\n",
    "\n",
    "```py\n",
    "df.groupby([col_1, col_2, ..., col_k])\n",
    "```\n",
    "- Group by `col_1` first.\n",
    "- Within each group, group by `col_2`, and so on.\n",
    "- The resulting DataFrame has one row per unique combination of entries in the specified columns."
   ]
  },
  {
   "cell_type": "markdown",
   "metadata": {
    "slideshow": {
     "slide_type": "slide"
    }
   },
   "source": [
    "### Notice the index... 🤔\n",
    "\n",
    "- This is called a \"[MultiIndex](https://pandas.pydata.org/pandas-docs/stable/user_guide/advanced.html)\".\n",
    "    - The DataFrame is indexed by `'Team'` **and** `'Position'`.\n",
    "- We won't worry about the details of MultiIndexes.\n",
    "- We can use `.reset_index()` to \"flatten\" our DataFrame back to normal."
   ]
  },
  {
   "cell_type": "code",
   "execution_count": 6,
   "metadata": {
    "scrolled": false
   },
   "outputs": [
    {
     "data": {
      "text/html": [
       "<div>\n",
       "<style scoped>\n",
       "    .dataframe tbody tr th:only-of-type {\n",
       "        vertical-align: middle;\n",
       "    }\n",
       "\n",
       "    .dataframe tbody tr th {\n",
       "        vertical-align: top;\n",
       "    }\n",
       "\n",
       "    .dataframe thead th {\n",
       "        text-align: right;\n",
       "    }\n",
       "</style>\n",
       "<table border=\"1\" class=\"dataframe\">\n",
       "  <thead>\n",
       "    <tr style=\"text-align: right;\">\n",
       "      <th></th>\n",
       "      <th>Team</th>\n",
       "      <th>Position</th>\n",
       "      <th>Player</th>\n",
       "      <th>Salary</th>\n",
       "    </tr>\n",
       "  </thead>\n",
       "  <tbody>\n",
       "    <tr>\n",
       "      <th>0</th>\n",
       "      <td>Atlanta Hawks</td>\n",
       "      <td>C</td>\n",
       "      <td>2</td>\n",
       "      <td>2</td>\n",
       "    </tr>\n",
       "    <tr>\n",
       "      <th>1</th>\n",
       "      <td>Atlanta Hawks</td>\n",
       "      <td>PF</td>\n",
       "      <td>2</td>\n",
       "      <td>2</td>\n",
       "    </tr>\n",
       "    <tr>\n",
       "      <th>2</th>\n",
       "      <td>Atlanta Hawks</td>\n",
       "      <td>PG</td>\n",
       "      <td>2</td>\n",
       "      <td>2</td>\n",
       "    </tr>\n",
       "    <tr>\n",
       "      <th>...</th>\n",
       "      <td>...</td>\n",
       "      <td>...</td>\n",
       "      <td>...</td>\n",
       "      <td>...</td>\n",
       "    </tr>\n",
       "    <tr>\n",
       "      <th>144</th>\n",
       "      <td>Washington Wizards</td>\n",
       "      <td>PG</td>\n",
       "      <td>3</td>\n",
       "      <td>3</td>\n",
       "    </tr>\n",
       "    <tr>\n",
       "      <th>145</th>\n",
       "      <td>Washington Wizards</td>\n",
       "      <td>SF</td>\n",
       "      <td>2</td>\n",
       "      <td>2</td>\n",
       "    </tr>\n",
       "    <tr>\n",
       "      <th>146</th>\n",
       "      <td>Washington Wizards</td>\n",
       "      <td>SG</td>\n",
       "      <td>2</td>\n",
       "      <td>2</td>\n",
       "    </tr>\n",
       "  </tbody>\n",
       "</table>\n",
       "<p>147 rows × 4 columns</p>\n",
       "</div>"
      ],
      "text/plain": [
       "                   Team Position  Player  Salary\n",
       "0         Atlanta Hawks        C       2       2\n",
       "1         Atlanta Hawks       PF       2       2\n",
       "2         Atlanta Hawks       PG       2       2\n",
       "..                  ...      ...     ...     ...\n",
       "144  Washington Wizards       PG       3       3\n",
       "145  Washington Wizards       SF       2       2\n",
       "146  Washington Wizards       SG       2       2\n",
       "\n",
       "[147 rows x 4 columns]"
      ]
     },
     "execution_count": 6,
     "metadata": {},
     "output_type": "execute_result"
    }
   ],
   "source": [
    "nba.groupby(['Team', 'Position']).count().reset_index()"
   ]
  },
  {
   "cell_type": "markdown",
   "metadata": {
    "slideshow": {
     "slide_type": "slide"
    }
   },
   "source": [
    "### Does order matter?"
   ]
  },
  {
   "cell_type": "code",
   "execution_count": 7,
   "metadata": {
    "scrolled": false
   },
   "outputs": [
    {
     "data": {
      "text/html": [
       "<div>\n",
       "<style scoped>\n",
       "    .dataframe tbody tr th:only-of-type {\n",
       "        vertical-align: middle;\n",
       "    }\n",
       "\n",
       "    .dataframe tbody tr th {\n",
       "        vertical-align: top;\n",
       "    }\n",
       "\n",
       "    .dataframe thead th {\n",
       "        text-align: right;\n",
       "    }\n",
       "</style>\n",
       "<table border=\"1\" class=\"dataframe\">\n",
       "  <thead>\n",
       "    <tr style=\"text-align: right;\">\n",
       "      <th></th>\n",
       "      <th></th>\n",
       "      <th>Player</th>\n",
       "      <th>Salary</th>\n",
       "    </tr>\n",
       "    <tr>\n",
       "      <th>Position</th>\n",
       "      <th>Team</th>\n",
       "      <th></th>\n",
       "      <th></th>\n",
       "    </tr>\n",
       "  </thead>\n",
       "  <tbody>\n",
       "    <tr>\n",
       "      <th rowspan=\"3\" valign=\"top\">C</th>\n",
       "      <th>Atlanta Hawks</th>\n",
       "      <td>2</td>\n",
       "      <td>2</td>\n",
       "    </tr>\n",
       "    <tr>\n",
       "      <th>Boston Celtics</th>\n",
       "      <td>3</td>\n",
       "      <td>3</td>\n",
       "    </tr>\n",
       "    <tr>\n",
       "      <th>Brooklyn Nets</th>\n",
       "      <td>2</td>\n",
       "      <td>2</td>\n",
       "    </tr>\n",
       "    <tr>\n",
       "      <th>...</th>\n",
       "      <th>...</th>\n",
       "      <td>...</td>\n",
       "      <td>...</td>\n",
       "    </tr>\n",
       "    <tr>\n",
       "      <th rowspan=\"3\" valign=\"top\">SG</th>\n",
       "      <th>Toronto Raptors</th>\n",
       "      <td>1</td>\n",
       "      <td>1</td>\n",
       "    </tr>\n",
       "    <tr>\n",
       "      <th>Utah Jazz</th>\n",
       "      <td>3</td>\n",
       "      <td>3</td>\n",
       "    </tr>\n",
       "    <tr>\n",
       "      <th>Washington Wizards</th>\n",
       "      <td>2</td>\n",
       "      <td>2</td>\n",
       "    </tr>\n",
       "  </tbody>\n",
       "</table>\n",
       "<p>147 rows × 2 columns</p>\n",
       "</div>"
      ],
      "text/plain": [
       "                             Player  Salary\n",
       "Position Team                              \n",
       "C        Atlanta Hawks            2       2\n",
       "         Boston Celtics           3       3\n",
       "         Brooklyn Nets            2       2\n",
       "...                             ...     ...\n",
       "SG       Toronto Raptors          1       1\n",
       "         Utah Jazz                3       3\n",
       "         Washington Wizards       2       2\n",
       "\n",
       "[147 rows x 2 columns]"
      ]
     },
     "execution_count": 7,
     "metadata": {},
     "output_type": "execute_result"
    }
   ],
   "source": [
    "nba.groupby(['Position', 'Team']).count()"
   ]
  },
  {
   "cell_type": "markdown",
   "metadata": {
    "slideshow": {
     "slide_type": "fragment"
    }
   },
   "source": [
    "**Answer:** Kind of. The order of the indices will be different, but the resulting DataFrame will contain the same information."
   ]
  },
  {
   "cell_type": "markdown",
   "metadata": {
    "slideshow": {
     "slide_type": "slide"
    }
   },
   "source": [
    "### You try: Which team has the most centers?"
   ]
  },
  {
   "cell_type": "code",
   "execution_count": 8,
   "metadata": {},
   "outputs": [
    {
     "data": {
      "text/html": [
       "<div>\n",
       "<style scoped>\n",
       "    .dataframe tbody tr th:only-of-type {\n",
       "        vertical-align: middle;\n",
       "    }\n",
       "\n",
       "    .dataframe tbody tr th {\n",
       "        vertical-align: top;\n",
       "    }\n",
       "\n",
       "    .dataframe thead th {\n",
       "        text-align: right;\n",
       "    }\n",
       "</style>\n",
       "<table border=\"1\" class=\"dataframe\">\n",
       "  <thead>\n",
       "    <tr style=\"text-align: right;\">\n",
       "      <th></th>\n",
       "      <th>Team</th>\n",
       "      <th>Position</th>\n",
       "      <th>Player</th>\n",
       "      <th>Salary</th>\n",
       "    </tr>\n",
       "  </thead>\n",
       "  <tbody>\n",
       "    <tr>\n",
       "      <th>0</th>\n",
       "      <td>Atlanta Hawks</td>\n",
       "      <td>C</td>\n",
       "      <td>2</td>\n",
       "      <td>2</td>\n",
       "    </tr>\n",
       "    <tr>\n",
       "      <th>1</th>\n",
       "      <td>Atlanta Hawks</td>\n",
       "      <td>PF</td>\n",
       "      <td>2</td>\n",
       "      <td>2</td>\n",
       "    </tr>\n",
       "    <tr>\n",
       "      <th>2</th>\n",
       "      <td>Atlanta Hawks</td>\n",
       "      <td>PG</td>\n",
       "      <td>2</td>\n",
       "      <td>2</td>\n",
       "    </tr>\n",
       "    <tr>\n",
       "      <th>...</th>\n",
       "      <td>...</td>\n",
       "      <td>...</td>\n",
       "      <td>...</td>\n",
       "      <td>...</td>\n",
       "    </tr>\n",
       "    <tr>\n",
       "      <th>144</th>\n",
       "      <td>Washington Wizards</td>\n",
       "      <td>PG</td>\n",
       "      <td>3</td>\n",
       "      <td>3</td>\n",
       "    </tr>\n",
       "    <tr>\n",
       "      <th>145</th>\n",
       "      <td>Washington Wizards</td>\n",
       "      <td>SF</td>\n",
       "      <td>2</td>\n",
       "      <td>2</td>\n",
       "    </tr>\n",
       "    <tr>\n",
       "      <th>146</th>\n",
       "      <td>Washington Wizards</td>\n",
       "      <td>SG</td>\n",
       "      <td>2</td>\n",
       "      <td>2</td>\n",
       "    </tr>\n",
       "  </tbody>\n",
       "</table>\n",
       "<p>147 rows × 4 columns</p>\n",
       "</div>"
      ],
      "text/plain": [
       "                   Team Position  Player  Salary\n",
       "0         Atlanta Hawks        C       2       2\n",
       "1         Atlanta Hawks       PF       2       2\n",
       "2         Atlanta Hawks       PG       2       2\n",
       "..                  ...      ...     ...     ...\n",
       "144  Washington Wizards       PG       3       3\n",
       "145  Washington Wizards       SF       2       2\n",
       "146  Washington Wizards       SG       2       2\n",
       "\n",
       "[147 rows x 4 columns]"
      ]
     },
     "execution_count": 8,
     "metadata": {},
     "output_type": "execute_result"
    }
   ],
   "source": [
    "position_counts = nba.groupby(['Team', 'Position']).count().reset_index()\n",
    "position_counts"
   ]
  },
  {
   "cell_type": "code",
   "execution_count": 9,
   "metadata": {},
   "outputs": [
    {
     "data": {
      "text/html": [
       "<div>\n",
       "<style scoped>\n",
       "    .dataframe tbody tr th:only-of-type {\n",
       "        vertical-align: middle;\n",
       "    }\n",
       "\n",
       "    .dataframe tbody tr th {\n",
       "        vertical-align: top;\n",
       "    }\n",
       "\n",
       "    .dataframe thead th {\n",
       "        text-align: right;\n",
       "    }\n",
       "</style>\n",
       "<table border=\"1\" class=\"dataframe\">\n",
       "  <thead>\n",
       "    <tr style=\"text-align: right;\">\n",
       "      <th></th>\n",
       "      <th>Team</th>\n",
       "      <th>Position</th>\n",
       "      <th>Player</th>\n",
       "      <th>Salary</th>\n",
       "    </tr>\n",
       "  </thead>\n",
       "  <tbody>\n",
       "    <tr>\n",
       "      <th>122</th>\n",
       "      <td>Sacramento Kings</td>\n",
       "      <td>C</td>\n",
       "      <td>4</td>\n",
       "      <td>4</td>\n",
       "    </tr>\n",
       "    <tr>\n",
       "      <th>29</th>\n",
       "      <td>Dallas Mavericks</td>\n",
       "      <td>C</td>\n",
       "      <td>4</td>\n",
       "      <td>4</td>\n",
       "    </tr>\n",
       "    <tr>\n",
       "      <th>102</th>\n",
       "      <td>Orlando Magic</td>\n",
       "      <td>C</td>\n",
       "      <td>4</td>\n",
       "      <td>4</td>\n",
       "    </tr>\n",
       "    <tr>\n",
       "      <th>...</th>\n",
       "      <td>...</td>\n",
       "      <td>...</td>\n",
       "      <td>...</td>\n",
       "      <td>...</td>\n",
       "    </tr>\n",
       "    <tr>\n",
       "      <th>10</th>\n",
       "      <td>Brooklyn Nets</td>\n",
       "      <td>C</td>\n",
       "      <td>2</td>\n",
       "      <td>2</td>\n",
       "    </tr>\n",
       "    <tr>\n",
       "      <th>142</th>\n",
       "      <td>Washington Wizards</td>\n",
       "      <td>C</td>\n",
       "      <td>2</td>\n",
       "      <td>2</td>\n",
       "    </tr>\n",
       "    <tr>\n",
       "      <th>25</th>\n",
       "      <td>Cleveland Cavaliers</td>\n",
       "      <td>C</td>\n",
       "      <td>1</td>\n",
       "      <td>1</td>\n",
       "    </tr>\n",
       "  </tbody>\n",
       "</table>\n",
       "<p>30 rows × 4 columns</p>\n",
       "</div>"
      ],
      "text/plain": [
       "                    Team Position  Player  Salary\n",
       "122     Sacramento Kings        C       4       4\n",
       "29      Dallas Mavericks        C       4       4\n",
       "102        Orlando Magic        C       4       4\n",
       "..                   ...      ...     ...     ...\n",
       "10         Brooklyn Nets        C       2       2\n",
       "142   Washington Wizards        C       2       2\n",
       "25   Cleveland Cavaliers        C       1       1\n",
       "\n",
       "[30 rows x 4 columns]"
      ]
     },
     "execution_count": 9,
     "metadata": {},
     "output_type": "execute_result"
    }
   ],
   "source": [
    "(position_counts\n",
    " [position_counts.get('Position') == 'C'] \n",
    " .sort_values('Salary', ascending=False)\n",
    ")"
   ]
  },
  {
   "cell_type": "markdown",
   "metadata": {
    "slideshow": {
     "slide_type": "slide"
    }
   },
   "source": [
    "In this case, we could've done this without subgroups, too:"
   ]
  },
  {
   "cell_type": "code",
   "execution_count": 10,
   "metadata": {},
   "outputs": [
    {
     "data": {
      "text/html": [
       "<div>\n",
       "<style scoped>\n",
       "    .dataframe tbody tr th:only-of-type {\n",
       "        vertical-align: middle;\n",
       "    }\n",
       "\n",
       "    .dataframe tbody tr th {\n",
       "        vertical-align: top;\n",
       "    }\n",
       "\n",
       "    .dataframe thead th {\n",
       "        text-align: right;\n",
       "    }\n",
       "</style>\n",
       "<table border=\"1\" class=\"dataframe\">\n",
       "  <thead>\n",
       "    <tr style=\"text-align: right;\">\n",
       "      <th></th>\n",
       "      <th>Player</th>\n",
       "      <th>Position</th>\n",
       "      <th>Salary</th>\n",
       "    </tr>\n",
       "    <tr>\n",
       "      <th>Team</th>\n",
       "      <th></th>\n",
       "      <th></th>\n",
       "      <th></th>\n",
       "    </tr>\n",
       "  </thead>\n",
       "  <tbody>\n",
       "    <tr>\n",
       "      <th>Sacramento Kings</th>\n",
       "      <td>4</td>\n",
       "      <td>4</td>\n",
       "      <td>4</td>\n",
       "    </tr>\n",
       "    <tr>\n",
       "      <th>Dallas Mavericks</th>\n",
       "      <td>4</td>\n",
       "      <td>4</td>\n",
       "      <td>4</td>\n",
       "    </tr>\n",
       "    <tr>\n",
       "      <th>Orlando Magic</th>\n",
       "      <td>4</td>\n",
       "      <td>4</td>\n",
       "      <td>4</td>\n",
       "    </tr>\n",
       "    <tr>\n",
       "      <th>...</th>\n",
       "      <td>...</td>\n",
       "      <td>...</td>\n",
       "      <td>...</td>\n",
       "    </tr>\n",
       "    <tr>\n",
       "      <th>Brooklyn Nets</th>\n",
       "      <td>2</td>\n",
       "      <td>2</td>\n",
       "      <td>2</td>\n",
       "    </tr>\n",
       "    <tr>\n",
       "      <th>Washington Wizards</th>\n",
       "      <td>2</td>\n",
       "      <td>2</td>\n",
       "      <td>2</td>\n",
       "    </tr>\n",
       "    <tr>\n",
       "      <th>Cleveland Cavaliers</th>\n",
       "      <td>1</td>\n",
       "      <td>1</td>\n",
       "      <td>1</td>\n",
       "    </tr>\n",
       "  </tbody>\n",
       "</table>\n",
       "<p>30 rows × 3 columns</p>\n",
       "</div>"
      ],
      "text/plain": [
       "                     Player  Position  Salary\n",
       "Team                                         \n",
       "Sacramento Kings          4         4       4\n",
       "Dallas Mavericks          4         4       4\n",
       "Orlando Magic             4         4       4\n",
       "...                     ...       ...     ...\n",
       "Brooklyn Nets             2         2       2\n",
       "Washington Wizards        2         2       2\n",
       "Cleveland Cavaliers       1         1       1\n",
       "\n",
       "[30 rows x 3 columns]"
      ]
     },
     "execution_count": 10,
     "metadata": {},
     "output_type": "execute_result"
    }
   ],
   "source": [
    "(nba\n",
    " [nba.get('Position') == 'C']\n",
    " .groupby('Team')\n",
    " .count()\n",
    " .sort_values('Position', ascending=False)\n",
    ")"
   ]
  },
  {
   "cell_type": "markdown",
   "metadata": {
    "slideshow": {
     "slide_type": "slide"
    }
   },
   "source": [
    "### Other aggregation methods work, too!"
   ]
  },
  {
   "cell_type": "code",
   "execution_count": 11,
   "metadata": {},
   "outputs": [
    {
     "data": {
      "text/html": [
       "<div>\n",
       "<style scoped>\n",
       "    .dataframe tbody tr th:only-of-type {\n",
       "        vertical-align: middle;\n",
       "    }\n",
       "\n",
       "    .dataframe tbody tr th {\n",
       "        vertical-align: top;\n",
       "    }\n",
       "\n",
       "    .dataframe thead th {\n",
       "        text-align: right;\n",
       "    }\n",
       "</style>\n",
       "<table border=\"1\" class=\"dataframe\">\n",
       "  <thead>\n",
       "    <tr style=\"text-align: right;\">\n",
       "      <th></th>\n",
       "      <th></th>\n",
       "      <th>Player</th>\n",
       "      <th>Salary</th>\n",
       "    </tr>\n",
       "    <tr>\n",
       "      <th>Team</th>\n",
       "      <th>Position</th>\n",
       "      <th></th>\n",
       "      <th></th>\n",
       "    </tr>\n",
       "  </thead>\n",
       "  <tbody>\n",
       "    <tr>\n",
       "      <th rowspan=\"3\" valign=\"top\">Atlanta Hawks</th>\n",
       "      <th>C</th>\n",
       "      <td>Gorgui Dieng</td>\n",
       "      <td>17103448</td>\n",
       "    </tr>\n",
       "    <tr>\n",
       "      <th>PF</th>\n",
       "      <td>John Collins</td>\n",
       "      <td>23000000</td>\n",
       "    </tr>\n",
       "    <tr>\n",
       "      <th>PG</th>\n",
       "      <td>Trae Young</td>\n",
       "      <td>8326471</td>\n",
       "    </tr>\n",
       "    <tr>\n",
       "      <th>...</th>\n",
       "      <th>...</th>\n",
       "      <td>...</td>\n",
       "      <td>...</td>\n",
       "    </tr>\n",
       "    <tr>\n",
       "      <th rowspan=\"3\" valign=\"top\">Washington Wizards</th>\n",
       "      <th>PG</th>\n",
       "      <td>Spencer Dinwiddie</td>\n",
       "      <td>17142857</td>\n",
       "    </tr>\n",
       "    <tr>\n",
       "      <th>SF</th>\n",
       "      <td>Deni Avdija</td>\n",
       "      <td>4692840</td>\n",
       "    </tr>\n",
       "    <tr>\n",
       "      <th>SG</th>\n",
       "      <td>Kentavious Caldwell-Pope</td>\n",
       "      <td>34502130</td>\n",
       "    </tr>\n",
       "  </tbody>\n",
       "</table>\n",
       "<p>147 rows × 2 columns</p>\n",
       "</div>"
      ],
      "text/plain": [
       "                                               Player    Salary\n",
       "Team               Position                                    \n",
       "Atlanta Hawks      C                     Gorgui Dieng  17103448\n",
       "                   PF                    John Collins  23000000\n",
       "                   PG                      Trae Young   8326471\n",
       "...                                               ...       ...\n",
       "Washington Wizards PG               Spencer Dinwiddie  17142857\n",
       "                   SF                     Deni Avdija   4692840\n",
       "                   SG        Kentavious Caldwell-Pope  34502130\n",
       "\n",
       "[147 rows x 2 columns]"
      ]
     },
     "execution_count": 11,
     "metadata": {},
     "output_type": "execute_result"
    }
   ],
   "source": [
    "nba.groupby(['Team', 'Position']).max()"
   ]
  },
  {
   "cell_type": "markdown",
   "metadata": {
    "slideshow": {
     "slide_type": "fragment"
    }
   },
   "source": [
    "- Remember, the aggregation method is applied to each column individually.\n",
    "- For instance, Gorgui Dieng does not make a salary of 17,103,448 – his name is just the last (`max`) name alphabetically amongst all centers on the Atlanta Hawks."
   ]
  },
  {
   "cell_type": "code",
   "execution_count": 12,
   "metadata": {},
   "outputs": [
    {
     "data": {
      "text/html": [
       "<div>\n",
       "<style scoped>\n",
       "    .dataframe tbody tr th:only-of-type {\n",
       "        vertical-align: middle;\n",
       "    }\n",
       "\n",
       "    .dataframe tbody tr th {\n",
       "        vertical-align: top;\n",
       "    }\n",
       "\n",
       "    .dataframe thead th {\n",
       "        text-align: right;\n",
       "    }\n",
       "</style>\n",
       "<table border=\"1\" class=\"dataframe\">\n",
       "  <thead>\n",
       "    <tr style=\"text-align: right;\">\n",
       "      <th></th>\n",
       "      <th>Player</th>\n",
       "      <th>Position</th>\n",
       "      <th>Team</th>\n",
       "      <th>Salary</th>\n",
       "    </tr>\n",
       "  </thead>\n",
       "  <tbody>\n",
       "    <tr>\n",
       "      <th>3</th>\n",
       "      <td>Clint Capela</td>\n",
       "      <td>C</td>\n",
       "      <td>Atlanta Hawks</td>\n",
       "      <td>17103448</td>\n",
       "    </tr>\n",
       "    <tr>\n",
       "      <th>9</th>\n",
       "      <td>Gorgui Dieng</td>\n",
       "      <td>C</td>\n",
       "      <td>Atlanta Hawks</td>\n",
       "      <td>4000000</td>\n",
       "    </tr>\n",
       "  </tbody>\n",
       "</table>\n",
       "</div>"
      ],
      "text/plain": [
       "         Player Position           Team    Salary\n",
       "3  Clint Capela        C  Atlanta Hawks  17103448\n",
       "9  Gorgui Dieng        C  Atlanta Hawks   4000000"
      ]
     },
     "execution_count": 12,
     "metadata": {},
     "output_type": "execute_result"
    }
   ],
   "source": [
    "nba[(nba.get('Team') == 'Atlanta Hawks') & (nba.get('Position') == 'C')]"
   ]
  },
  {
   "cell_type": "markdown",
   "metadata": {
    "slideshow": {
     "slide_type": "slide"
    }
   },
   "source": [
    "### Example: Sea temperatures 🌊\n",
    "\n",
    "This dataset contains the sea surface temperature in La Jolla, on many days ranging from August 22, 1916 to May 31, 2019."
   ]
  },
  {
   "cell_type": "code",
   "execution_count": 13,
   "metadata": {},
   "outputs": [
    {
     "data": {
      "text/html": [
       "<div>\n",
       "<style scoped>\n",
       "    .dataframe tbody tr th:only-of-type {\n",
       "        vertical-align: middle;\n",
       "    }\n",
       "\n",
       "    .dataframe tbody tr th {\n",
       "        vertical-align: top;\n",
       "    }\n",
       "\n",
       "    .dataframe thead th {\n",
       "        text-align: right;\n",
       "    }\n",
       "</style>\n",
       "<table border=\"1\" class=\"dataframe\">\n",
       "  <thead>\n",
       "    <tr style=\"text-align: right;\">\n",
       "      <th></th>\n",
       "      <th>YEAR</th>\n",
       "      <th>MONTH</th>\n",
       "      <th>DAY</th>\n",
       "      <th>SURFACE_TEMP</th>\n",
       "    </tr>\n",
       "  </thead>\n",
       "  <tbody>\n",
       "    <tr>\n",
       "      <th>0</th>\n",
       "      <td>1916</td>\n",
       "      <td>8</td>\n",
       "      <td>22</td>\n",
       "      <td>19.5</td>\n",
       "    </tr>\n",
       "    <tr>\n",
       "      <th>1</th>\n",
       "      <td>1916</td>\n",
       "      <td>8</td>\n",
       "      <td>23</td>\n",
       "      <td>19.9</td>\n",
       "    </tr>\n",
       "    <tr>\n",
       "      <th>2</th>\n",
       "      <td>1916</td>\n",
       "      <td>8</td>\n",
       "      <td>24</td>\n",
       "      <td>19.7</td>\n",
       "    </tr>\n",
       "    <tr>\n",
       "      <th>...</th>\n",
       "      <td>...</td>\n",
       "      <td>...</td>\n",
       "      <td>...</td>\n",
       "      <td>...</td>\n",
       "    </tr>\n",
       "    <tr>\n",
       "      <th>36294</th>\n",
       "      <td>2019</td>\n",
       "      <td>5</td>\n",
       "      <td>28</td>\n",
       "      <td>17.1</td>\n",
       "    </tr>\n",
       "    <tr>\n",
       "      <th>36295</th>\n",
       "      <td>2019</td>\n",
       "      <td>5</td>\n",
       "      <td>29</td>\n",
       "      <td>18.1</td>\n",
       "    </tr>\n",
       "    <tr>\n",
       "      <th>36296</th>\n",
       "      <td>2019</td>\n",
       "      <td>5</td>\n",
       "      <td>31</td>\n",
       "      <td>18.3</td>\n",
       "    </tr>\n",
       "  </tbody>\n",
       "</table>\n",
       "<p>36297 rows × 4 columns</p>\n",
       "</div>"
      ],
      "text/plain": [
       "       YEAR  MONTH  DAY  SURFACE_TEMP\n",
       "0      1916      8   22          19.5\n",
       "1      1916      8   23          19.9\n",
       "2      1916      8   24          19.7\n",
       "...     ...    ...  ...           ...\n",
       "36294  2019      5   28          17.1\n",
       "36295  2019      5   29          18.1\n",
       "36296  2019      5   31          18.3\n",
       "\n",
       "[36297 rows x 4 columns]"
      ]
     },
     "execution_count": 13,
     "metadata": {},
     "output_type": "execute_result"
    }
   ],
   "source": [
    "sea_temp = bpd.read_csv('data/sea_temp.csv')\n",
    "sea_temp"
   ]
  },
  {
   "cell_type": "markdown",
   "metadata": {
    "slideshow": {
     "slide_type": "skip"
    }
   },
   "source": [
    "<!--\n",
    "<div class=\"menti\">\n",
    "<div>\n",
    "\n",
    "### Discussion Question: Our dataset contains information on 1,234 different months. How do we find the month (e.g. November 1998) with the highest average temperature?\n",
    "\n",
    "What kind of grouping should we do here?\n",
    "\n",
    "- A) `sea_temp.groupby('SURFACE_TEMP').mean()`\n",
    "- B) `sea_temp.groupby('MONTH').mean()`\n",
    "- C) `sea_temp.groupby(['YEAR', 'MONTH']).mean()`\n",
    "- D) `sea_temp.groupby(['MONTH', 'DAY']).mean()`\n",
    "- E) `sea_temp.groupby(['MONTH', 'SURFACE_TEMP']).mean()`\n",
    "    \n",
    "</div>\n",
    "<div>\n",
    "\n",
    "### To answer, go to **[menti.com](https://www.menti.com/v42ge81t5d)** and enter the code 2863 3386 or use this QR code:\n",
    "\n",
    "![](images/menti-qr.png)\n",
    "    \n",
    "</div>\n",
    "</div>\n",
    "-->"
   ]
  },
  {
   "cell_type": "markdown",
   "metadata": {
    "slideshow": {
     "slide_type": "slide"
    }
   },
   "source": [
    "### You try: Our dataset contains information on 1,234 different months. How do we find the month (e.g. November 1998) with the highest average temperature?\n"
   ]
  },
  {
   "cell_type": "code",
   "execution_count": null,
   "metadata": {},
   "outputs": [],
   "source": []
  },
  {
   "cell_type": "markdown",
   "metadata": {
    "slideshow": {
     "slide_type": "slide"
    }
   },
   "source": [
    "### Plot of monthly average surface temperature 📈"
   ]
  },
  {
   "cell_type": "code",
   "execution_count": 14,
   "metadata": {},
   "outputs": [
    {
     "data": {
      "image/svg+xml": [
       "<?xml version=\"1.0\" encoding=\"utf-8\" standalone=\"no\"?>\n",
       "<!DOCTYPE svg PUBLIC \"-//W3C//DTD SVG 1.1//EN\"\n",
       "  \"http://www.w3.org/Graphics/SVG/1.1/DTD/svg11.dtd\">\n",
       "<svg height=\"284.988625pt\" version=\"1.1\" viewBox=\"0 0 411.555 284.988625\" width=\"411.555pt\" xmlns=\"http://www.w3.org/2000/svg\" xmlns:xlink=\"http://www.w3.org/1999/xlink\">\n",
       " <metadata>\n",
       "  <rdf:RDF xmlns:cc=\"http://creativecommons.org/ns#\" xmlns:dc=\"http://purl.org/dc/elements/1.1/\" xmlns:rdf=\"http://www.w3.org/1999/02/22-rdf-syntax-ns#\">\n",
       "   <cc:Work>\n",
       "    <dc:type rdf:resource=\"http://purl.org/dc/dcmitype/StillImage\"/>\n",
       "    <dc:date>2022-07-19T15:46:28.989113</dc:date>\n",
       "    <dc:format>image/svg+xml</dc:format>\n",
       "    <dc:creator>\n",
       "     <cc:Agent>\n",
       "      <dc:title>Matplotlib v3.4.2, https://matplotlib.org/</dc:title>\n",
       "     </cc:Agent>\n",
       "    </dc:creator>\n",
       "   </cc:Work>\n",
       "  </rdf:RDF>\n",
       " </metadata>\n",
       " <defs>\n",
       "  <style type=\"text/css\">*{stroke-linecap:butt;stroke-linejoin:round;}</style>\n",
       " </defs>\n",
       " <g id=\"figure_1\">\n",
       "  <g id=\"patch_1\">\n",
       "   <path d=\"M 0 284.988625 \n",
       "L 411.555 284.988625 \n",
       "L 411.555 0 \n",
       "L 0 0 \n",
       "z\n",
       "\" style=\"fill:#f0f0f0;\"/>\n",
       "  </g>\n",
       "  <g id=\"axes_1\">\n",
       "   <g id=\"patch_2\">\n",
       "    <path d=\"M 28.515 240.48 \n",
       "L 404.355 240.48 \n",
       "L 404.355 7.2 \n",
       "L 28.515 7.2 \n",
       "z\n",
       "\" style=\"fill:#f0f0f0;\"/>\n",
       "   </g>\n",
       "   <g id=\"matplotlib.axis_1\">\n",
       "    <g id=\"xtick_1\">\n",
       "     <g id=\"line2d_1\">\n",
       "      <path clip-path=\"url(#p0483536c87)\" d=\"M 76.659793 240.48 \n",
       "L 76.659793 7.2 \n",
       "\" style=\"fill:none;stroke:#cbcbcb;\"/>\n",
       "     </g>\n",
       "     <g id=\"line2d_2\"/>\n",
       "     <g id=\"text_1\">\n",
       "      <!-- 2 -->\n",
       "      <g transform=\"translate(72.206043 254.617813)scale(0.14 -0.14)\">\n",
       "       <defs>\n",
       "        <path d=\"M 1228 531 \n",
       "L 3431 531 \n",
       "L 3431 0 \n",
       "L 469 0 \n",
       "L 469 531 \n",
       "Q 828 903 1448 1529 \n",
       "Q 2069 2156 2228 2338 \n",
       "Q 2531 2678 2651 2914 \n",
       "Q 2772 3150 2772 3378 \n",
       "Q 2772 3750 2511 3984 \n",
       "Q 2250 4219 1831 4219 \n",
       "Q 1534 4219 1204 4116 \n",
       "Q 875 4013 500 3803 \n",
       "L 500 4441 \n",
       "Q 881 4594 1212 4672 \n",
       "Q 1544 4750 1819 4750 \n",
       "Q 2544 4750 2975 4387 \n",
       "Q 3406 4025 3406 3419 \n",
       "Q 3406 3131 3298 2873 \n",
       "Q 3191 2616 2906 2266 \n",
       "Q 2828 2175 2409 1742 \n",
       "Q 1991 1309 1228 531 \n",
       "z\n",
       "\" id=\"DejaVuSans-32\" transform=\"scale(0.015625)\"/>\n",
       "       </defs>\n",
       "       <use xlink:href=\"#DejaVuSans-32\"/>\n",
       "      </g>\n",
       "     </g>\n",
       "    </g>\n",
       "    <g id=\"xtick_2\">\n",
       "     <g id=\"line2d_3\">\n",
       "      <path clip-path=\"url(#p0483536c87)\" d=\"M 138.782107 240.48 \n",
       "L 138.782107 7.2 \n",
       "\" style=\"fill:none;stroke:#cbcbcb;\"/>\n",
       "     </g>\n",
       "     <g id=\"line2d_4\"/>\n",
       "     <g id=\"text_2\">\n",
       "      <!-- 4 -->\n",
       "      <g transform=\"translate(134.328357 254.617813)scale(0.14 -0.14)\">\n",
       "       <defs>\n",
       "        <path d=\"M 2419 4116 \n",
       "L 825 1625 \n",
       "L 2419 1625 \n",
       "L 2419 4116 \n",
       "z\n",
       "M 2253 4666 \n",
       "L 3047 4666 \n",
       "L 3047 1625 \n",
       "L 3713 1625 \n",
       "L 3713 1100 \n",
       "L 3047 1100 \n",
       "L 3047 0 \n",
       "L 2419 0 \n",
       "L 2419 1100 \n",
       "L 313 1100 \n",
       "L 313 1709 \n",
       "L 2253 4666 \n",
       "z\n",
       "\" id=\"DejaVuSans-34\" transform=\"scale(0.015625)\"/>\n",
       "       </defs>\n",
       "       <use xlink:href=\"#DejaVuSans-34\"/>\n",
       "      </g>\n",
       "     </g>\n",
       "    </g>\n",
       "    <g id=\"xtick_3\">\n",
       "     <g id=\"line2d_5\">\n",
       "      <path clip-path=\"url(#p0483536c87)\" d=\"M 200.904421 240.48 \n",
       "L 200.904421 7.2 \n",
       "\" style=\"fill:none;stroke:#cbcbcb;\"/>\n",
       "     </g>\n",
       "     <g id=\"line2d_6\"/>\n",
       "     <g id=\"text_3\">\n",
       "      <!-- 6 -->\n",
       "      <g transform=\"translate(196.450671 254.617813)scale(0.14 -0.14)\">\n",
       "       <defs>\n",
       "        <path d=\"M 2113 2584 \n",
       "Q 1688 2584 1439 2293 \n",
       "Q 1191 2003 1191 1497 \n",
       "Q 1191 994 1439 701 \n",
       "Q 1688 409 2113 409 \n",
       "Q 2538 409 2786 701 \n",
       "Q 3034 994 3034 1497 \n",
       "Q 3034 2003 2786 2293 \n",
       "Q 2538 2584 2113 2584 \n",
       "z\n",
       "M 3366 4563 \n",
       "L 3366 3988 \n",
       "Q 3128 4100 2886 4159 \n",
       "Q 2644 4219 2406 4219 \n",
       "Q 1781 4219 1451 3797 \n",
       "Q 1122 3375 1075 2522 \n",
       "Q 1259 2794 1537 2939 \n",
       "Q 1816 3084 2150 3084 \n",
       "Q 2853 3084 3261 2657 \n",
       "Q 3669 2231 3669 1497 \n",
       "Q 3669 778 3244 343 \n",
       "Q 2819 -91 2113 -91 \n",
       "Q 1303 -91 875 529 \n",
       "Q 447 1150 447 2328 \n",
       "Q 447 3434 972 4092 \n",
       "Q 1497 4750 2381 4750 \n",
       "Q 2619 4750 2861 4703 \n",
       "Q 3103 4656 3366 4563 \n",
       "z\n",
       "\" id=\"DejaVuSans-36\" transform=\"scale(0.015625)\"/>\n",
       "       </defs>\n",
       "       <use xlink:href=\"#DejaVuSans-36\"/>\n",
       "      </g>\n",
       "     </g>\n",
       "    </g>\n",
       "    <g id=\"xtick_4\">\n",
       "     <g id=\"line2d_7\">\n",
       "      <path clip-path=\"url(#p0483536c87)\" d=\"M 263.026736 240.48 \n",
       "L 263.026736 7.2 \n",
       "\" style=\"fill:none;stroke:#cbcbcb;\"/>\n",
       "     </g>\n",
       "     <g id=\"line2d_8\"/>\n",
       "     <g id=\"text_4\">\n",
       "      <!-- 8 -->\n",
       "      <g transform=\"translate(258.572986 254.617813)scale(0.14 -0.14)\">\n",
       "       <defs>\n",
       "        <path d=\"M 2034 2216 \n",
       "Q 1584 2216 1326 1975 \n",
       "Q 1069 1734 1069 1313 \n",
       "Q 1069 891 1326 650 \n",
       "Q 1584 409 2034 409 \n",
       "Q 2484 409 2743 651 \n",
       "Q 3003 894 3003 1313 \n",
       "Q 3003 1734 2745 1975 \n",
       "Q 2488 2216 2034 2216 \n",
       "z\n",
       "M 1403 2484 \n",
       "Q 997 2584 770 2862 \n",
       "Q 544 3141 544 3541 \n",
       "Q 544 4100 942 4425 \n",
       "Q 1341 4750 2034 4750 \n",
       "Q 2731 4750 3128 4425 \n",
       "Q 3525 4100 3525 3541 \n",
       "Q 3525 3141 3298 2862 \n",
       "Q 3072 2584 2669 2484 \n",
       "Q 3125 2378 3379 2068 \n",
       "Q 3634 1759 3634 1313 \n",
       "Q 3634 634 3220 271 \n",
       "Q 2806 -91 2034 -91 \n",
       "Q 1263 -91 848 271 \n",
       "Q 434 634 434 1313 \n",
       "Q 434 1759 690 2068 \n",
       "Q 947 2378 1403 2484 \n",
       "z\n",
       "M 1172 3481 \n",
       "Q 1172 3119 1398 2916 \n",
       "Q 1625 2713 2034 2713 \n",
       "Q 2441 2713 2670 2916 \n",
       "Q 2900 3119 2900 3481 \n",
       "Q 2900 3844 2670 4047 \n",
       "Q 2441 4250 2034 4250 \n",
       "Q 1625 4250 1398 4047 \n",
       "Q 1172 3844 1172 3481 \n",
       "z\n",
       "\" id=\"DejaVuSans-38\" transform=\"scale(0.015625)\"/>\n",
       "       </defs>\n",
       "       <use xlink:href=\"#DejaVuSans-38\"/>\n",
       "      </g>\n",
       "     </g>\n",
       "    </g>\n",
       "    <g id=\"xtick_5\">\n",
       "     <g id=\"line2d_9\">\n",
       "      <path clip-path=\"url(#p0483536c87)\" d=\"M 325.14905 240.48 \n",
       "L 325.14905 7.2 \n",
       "\" style=\"fill:none;stroke:#cbcbcb;\"/>\n",
       "     </g>\n",
       "     <g id=\"line2d_10\"/>\n",
       "     <g id=\"text_5\">\n",
       "      <!-- 10 -->\n",
       "      <g transform=\"translate(316.24155 254.617813)scale(0.14 -0.14)\">\n",
       "       <defs>\n",
       "        <path d=\"M 794 531 \n",
       "L 1825 531 \n",
       "L 1825 4091 \n",
       "L 703 3866 \n",
       "L 703 4441 \n",
       "L 1819 4666 \n",
       "L 2450 4666 \n",
       "L 2450 531 \n",
       "L 3481 531 \n",
       "L 3481 0 \n",
       "L 794 0 \n",
       "L 794 531 \n",
       "z\n",
       "\" id=\"DejaVuSans-31\" transform=\"scale(0.015625)\"/>\n",
       "        <path d=\"M 2034 4250 \n",
       "Q 1547 4250 1301 3770 \n",
       "Q 1056 3291 1056 2328 \n",
       "Q 1056 1369 1301 889 \n",
       "Q 1547 409 2034 409 \n",
       "Q 2525 409 2770 889 \n",
       "Q 3016 1369 3016 2328 \n",
       "Q 3016 3291 2770 3770 \n",
       "Q 2525 4250 2034 4250 \n",
       "z\n",
       "M 2034 4750 \n",
       "Q 2819 4750 3233 4129 \n",
       "Q 3647 3509 3647 2328 \n",
       "Q 3647 1150 3233 529 \n",
       "Q 2819 -91 2034 -91 \n",
       "Q 1250 -91 836 529 \n",
       "Q 422 1150 422 2328 \n",
       "Q 422 3509 836 4129 \n",
       "Q 1250 4750 2034 4750 \n",
       "z\n",
       "\" id=\"DejaVuSans-30\" transform=\"scale(0.015625)\"/>\n",
       "       </defs>\n",
       "       <use xlink:href=\"#DejaVuSans-31\"/>\n",
       "       <use x=\"63.623047\" xlink:href=\"#DejaVuSans-30\"/>\n",
       "      </g>\n",
       "     </g>\n",
       "    </g>\n",
       "    <g id=\"xtick_6\">\n",
       "     <g id=\"line2d_11\">\n",
       "      <path clip-path=\"url(#p0483536c87)\" d=\"M 387.271364 240.48 \n",
       "L 387.271364 7.2 \n",
       "\" style=\"fill:none;stroke:#cbcbcb;\"/>\n",
       "     </g>\n",
       "     <g id=\"line2d_12\"/>\n",
       "     <g id=\"text_6\">\n",
       "      <!-- 12 -->\n",
       "      <g transform=\"translate(378.363864 254.617813)scale(0.14 -0.14)\">\n",
       "       <use xlink:href=\"#DejaVuSans-31\"/>\n",
       "       <use x=\"63.623047\" xlink:href=\"#DejaVuSans-32\"/>\n",
       "      </g>\n",
       "     </g>\n",
       "    </g>\n",
       "    <g id=\"text_7\">\n",
       "     <!-- MONTH -->\n",
       "     <g transform=\"translate(184.843125 274.29475)scale(0.168 -0.168)\">\n",
       "      <defs>\n",
       "       <path d=\"M 628 4666 \n",
       "L 1569 4666 \n",
       "L 2759 1491 \n",
       "L 3956 4666 \n",
       "L 4897 4666 \n",
       "L 4897 0 \n",
       "L 4281 0 \n",
       "L 4281 4097 \n",
       "L 3078 897 \n",
       "L 2444 897 \n",
       "L 1241 4097 \n",
       "L 1241 0 \n",
       "L 628 0 \n",
       "L 628 4666 \n",
       "z\n",
       "\" id=\"DejaVuSans-4d\" transform=\"scale(0.015625)\"/>\n",
       "       <path d=\"M 2522 4238 \n",
       "Q 1834 4238 1429 3725 \n",
       "Q 1025 3213 1025 2328 \n",
       "Q 1025 1447 1429 934 \n",
       "Q 1834 422 2522 422 \n",
       "Q 3209 422 3611 934 \n",
       "Q 4013 1447 4013 2328 \n",
       "Q 4013 3213 3611 3725 \n",
       "Q 3209 4238 2522 4238 \n",
       "z\n",
       "M 2522 4750 \n",
       "Q 3503 4750 4090 4092 \n",
       "Q 4678 3434 4678 2328 \n",
       "Q 4678 1225 4090 567 \n",
       "Q 3503 -91 2522 -91 \n",
       "Q 1538 -91 948 565 \n",
       "Q 359 1222 359 2328 \n",
       "Q 359 3434 948 4092 \n",
       "Q 1538 4750 2522 4750 \n",
       "z\n",
       "\" id=\"DejaVuSans-4f\" transform=\"scale(0.015625)\"/>\n",
       "       <path d=\"M 628 4666 \n",
       "L 1478 4666 \n",
       "L 3547 763 \n",
       "L 3547 4666 \n",
       "L 4159 4666 \n",
       "L 4159 0 \n",
       "L 3309 0 \n",
       "L 1241 3903 \n",
       "L 1241 0 \n",
       "L 628 0 \n",
       "L 628 4666 \n",
       "z\n",
       "\" id=\"DejaVuSans-4e\" transform=\"scale(0.015625)\"/>\n",
       "       <path d=\"M -19 4666 \n",
       "L 3928 4666 \n",
       "L 3928 4134 \n",
       "L 2272 4134 \n",
       "L 2272 0 \n",
       "L 1638 0 \n",
       "L 1638 4134 \n",
       "L -19 4134 \n",
       "L -19 4666 \n",
       "z\n",
       "\" id=\"DejaVuSans-54\" transform=\"scale(0.015625)\"/>\n",
       "       <path d=\"M 628 4666 \n",
       "L 1259 4666 \n",
       "L 1259 2753 \n",
       "L 3553 2753 \n",
       "L 3553 4666 \n",
       "L 4184 4666 \n",
       "L 4184 0 \n",
       "L 3553 0 \n",
       "L 3553 2222 \n",
       "L 1259 2222 \n",
       "L 1259 0 \n",
       "L 628 0 \n",
       "L 628 4666 \n",
       "z\n",
       "\" id=\"DejaVuSans-48\" transform=\"scale(0.015625)\"/>\n",
       "      </defs>\n",
       "      <use xlink:href=\"#DejaVuSans-4d\"/>\n",
       "      <use x=\"86.279297\" xlink:href=\"#DejaVuSans-4f\"/>\n",
       "      <use x=\"164.990234\" xlink:href=\"#DejaVuSans-4e\"/>\n",
       "      <use x=\"239.794922\" xlink:href=\"#DejaVuSans-54\"/>\n",
       "      <use x=\"300.878906\" xlink:href=\"#DejaVuSans-48\"/>\n",
       "     </g>\n",
       "    </g>\n",
       "   </g>\n",
       "   <g id=\"matplotlib.axis_2\">\n",
       "    <g id=\"ytick_1\">\n",
       "     <g id=\"line2d_13\">\n",
       "      <path clip-path=\"url(#p0483536c87)\" d=\"M 28.515 209.446643 \n",
       "L 404.355 209.446643 \n",
       "\" style=\"fill:none;stroke:#cbcbcb;\"/>\n",
       "     </g>\n",
       "     <g id=\"line2d_14\"/>\n",
       "     <g id=\"text_8\">\n",
       "      <!-- 15 -->\n",
       "      <g transform=\"translate(7.2 214.765549)scale(0.14 -0.14)\">\n",
       "       <defs>\n",
       "        <path d=\"M 691 4666 \n",
       "L 3169 4666 \n",
       "L 3169 4134 \n",
       "L 1269 4134 \n",
       "L 1269 2991 \n",
       "Q 1406 3038 1543 3061 \n",
       "Q 1681 3084 1819 3084 \n",
       "Q 2600 3084 3056 2656 \n",
       "Q 3513 2228 3513 1497 \n",
       "Q 3513 744 3044 326 \n",
       "Q 2575 -91 1722 -91 \n",
       "Q 1428 -91 1123 -41 \n",
       "Q 819 9 494 109 \n",
       "L 494 744 \n",
       "Q 775 591 1075 516 \n",
       "Q 1375 441 1709 441 \n",
       "Q 2250 441 2565 725 \n",
       "Q 2881 1009 2881 1497 \n",
       "Q 2881 1984 2565 2268 \n",
       "Q 2250 2553 1709 2553 \n",
       "Q 1456 2553 1204 2497 \n",
       "Q 953 2441 691 2322 \n",
       "L 691 4666 \n",
       "z\n",
       "\" id=\"DejaVuSans-35\" transform=\"scale(0.015625)\"/>\n",
       "       </defs>\n",
       "       <use xlink:href=\"#DejaVuSans-31\"/>\n",
       "       <use x=\"63.623047\" xlink:href=\"#DejaVuSans-35\"/>\n",
       "      </g>\n",
       "     </g>\n",
       "    </g>\n",
       "    <g id=\"ytick_2\">\n",
       "     <g id=\"line2d_15\">\n",
       "      <path clip-path=\"url(#p0483536c87)\" d=\"M 28.515 177.600112 \n",
       "L 404.355 177.600112 \n",
       "\" style=\"fill:none;stroke:#cbcbcb;\"/>\n",
       "     </g>\n",
       "     <g id=\"line2d_16\"/>\n",
       "     <g id=\"text_9\">\n",
       "      <!-- 16 -->\n",
       "      <g transform=\"translate(7.2 182.919018)scale(0.14 -0.14)\">\n",
       "       <use xlink:href=\"#DejaVuSans-31\"/>\n",
       "       <use x=\"63.623047\" xlink:href=\"#DejaVuSans-36\"/>\n",
       "      </g>\n",
       "     </g>\n",
       "    </g>\n",
       "    <g id=\"ytick_3\">\n",
       "     <g id=\"line2d_17\">\n",
       "      <path clip-path=\"url(#p0483536c87)\" d=\"M 28.515 145.753581 \n",
       "L 404.355 145.753581 \n",
       "\" style=\"fill:none;stroke:#cbcbcb;\"/>\n",
       "     </g>\n",
       "     <g id=\"line2d_18\"/>\n",
       "     <g id=\"text_10\">\n",
       "      <!-- 17 -->\n",
       "      <g transform=\"translate(7.2 151.072487)scale(0.14 -0.14)\">\n",
       "       <defs>\n",
       "        <path d=\"M 525 4666 \n",
       "L 3525 4666 \n",
       "L 3525 4397 \n",
       "L 1831 0 \n",
       "L 1172 0 \n",
       "L 2766 4134 \n",
       "L 525 4134 \n",
       "L 525 4666 \n",
       "z\n",
       "\" id=\"DejaVuSans-37\" transform=\"scale(0.015625)\"/>\n",
       "       </defs>\n",
       "       <use xlink:href=\"#DejaVuSans-31\"/>\n",
       "       <use x=\"63.623047\" xlink:href=\"#DejaVuSans-37\"/>\n",
       "      </g>\n",
       "     </g>\n",
       "    </g>\n",
       "    <g id=\"ytick_4\">\n",
       "     <g id=\"line2d_19\">\n",
       "      <path clip-path=\"url(#p0483536c87)\" d=\"M 28.515 113.90705 \n",
       "L 404.355 113.90705 \n",
       "\" style=\"fill:none;stroke:#cbcbcb;\"/>\n",
       "     </g>\n",
       "     <g id=\"line2d_20\"/>\n",
       "     <g id=\"text_11\">\n",
       "      <!-- 18 -->\n",
       "      <g transform=\"translate(7.2 119.225956)scale(0.14 -0.14)\">\n",
       "       <use xlink:href=\"#DejaVuSans-31\"/>\n",
       "       <use x=\"63.623047\" xlink:href=\"#DejaVuSans-38\"/>\n",
       "      </g>\n",
       "     </g>\n",
       "    </g>\n",
       "    <g id=\"ytick_5\">\n",
       "     <g id=\"line2d_21\">\n",
       "      <path clip-path=\"url(#p0483536c87)\" d=\"M 28.515 82.060518 \n",
       "L 404.355 82.060518 \n",
       "\" style=\"fill:none;stroke:#cbcbcb;\"/>\n",
       "     </g>\n",
       "     <g id=\"line2d_22\"/>\n",
       "     <g id=\"text_12\">\n",
       "      <!-- 19 -->\n",
       "      <g transform=\"translate(7.2 87.379425)scale(0.14 -0.14)\">\n",
       "       <defs>\n",
       "        <path d=\"M 703 97 \n",
       "L 703 672 \n",
       "Q 941 559 1184 500 \n",
       "Q 1428 441 1663 441 \n",
       "Q 2288 441 2617 861 \n",
       "Q 2947 1281 2994 2138 \n",
       "Q 2813 1869 2534 1725 \n",
       "Q 2256 1581 1919 1581 \n",
       "Q 1219 1581 811 2004 \n",
       "Q 403 2428 403 3163 \n",
       "Q 403 3881 828 4315 \n",
       "Q 1253 4750 1959 4750 \n",
       "Q 2769 4750 3195 4129 \n",
       "Q 3622 3509 3622 2328 \n",
       "Q 3622 1225 3098 567 \n",
       "Q 2575 -91 1691 -91 \n",
       "Q 1453 -91 1209 -44 \n",
       "Q 966 3 703 97 \n",
       "z\n",
       "M 1959 2075 \n",
       "Q 2384 2075 2632 2365 \n",
       "Q 2881 2656 2881 3163 \n",
       "Q 2881 3666 2632 3958 \n",
       "Q 2384 4250 1959 4250 \n",
       "Q 1534 4250 1286 3958 \n",
       "Q 1038 3666 1038 3163 \n",
       "Q 1038 2656 1286 2365 \n",
       "Q 1534 2075 1959 2075 \n",
       "z\n",
       "\" id=\"DejaVuSans-39\" transform=\"scale(0.015625)\"/>\n",
       "       </defs>\n",
       "       <use xlink:href=\"#DejaVuSans-31\"/>\n",
       "       <use x=\"63.623047\" xlink:href=\"#DejaVuSans-39\"/>\n",
       "      </g>\n",
       "     </g>\n",
       "    </g>\n",
       "    <g id=\"ytick_6\">\n",
       "     <g id=\"line2d_23\">\n",
       "      <path clip-path=\"url(#p0483536c87)\" d=\"M 28.515 50.213987 \n",
       "L 404.355 50.213987 \n",
       "\" style=\"fill:none;stroke:#cbcbcb;\"/>\n",
       "     </g>\n",
       "     <g id=\"line2d_24\"/>\n",
       "     <g id=\"text_13\">\n",
       "      <!-- 20 -->\n",
       "      <g transform=\"translate(7.2 55.532894)scale(0.14 -0.14)\">\n",
       "       <use xlink:href=\"#DejaVuSans-32\"/>\n",
       "       <use x=\"63.623047\" xlink:href=\"#DejaVuSans-30\"/>\n",
       "      </g>\n",
       "     </g>\n",
       "    </g>\n",
       "    <g id=\"ytick_7\">\n",
       "     <g id=\"line2d_25\">\n",
       "      <path clip-path=\"url(#p0483536c87)\" d=\"M 28.515 18.367456 \n",
       "L 404.355 18.367456 \n",
       "\" style=\"fill:none;stroke:#cbcbcb;\"/>\n",
       "     </g>\n",
       "     <g id=\"line2d_26\"/>\n",
       "     <g id=\"text_14\">\n",
       "      <!-- 21 -->\n",
       "      <g transform=\"translate(7.2 23.686363)scale(0.14 -0.14)\">\n",
       "       <use xlink:href=\"#DejaVuSans-32\"/>\n",
       "       <use x=\"63.623047\" xlink:href=\"#DejaVuSans-31\"/>\n",
       "      </g>\n",
       "     </g>\n",
       "    </g>\n",
       "   </g>\n",
       "   <g id=\"line2d_27\">\n",
       "    <path clip-path=\"url(#p0483536c87)\" d=\"M 45.598636 228.652503 \n",
       "L 76.659793 229.876364 \n",
       "L 107.72095 213.917743 \n",
       "L 138.782107 184.500728 \n",
       "L 169.843264 136.280805 \n",
       "L 200.904421 90.325809 \n",
       "L 231.965579 42.422701 \n",
       "L 263.026736 17.803636 \n",
       "L 294.087893 56.893757 \n",
       "L 325.14905 101.276899 \n",
       "L 356.210207 158.003152 \n",
       "L 387.271364 205.891082 \n",
       "\" style=\"fill:none;stroke:#008fd5;stroke-width:4;\"/>\n",
       "   </g>\n",
       "   <g id=\"patch_3\">\n",
       "    <path d=\"M 28.515 240.48 \n",
       "L 28.515 7.2 \n",
       "\" style=\"fill:none;stroke:#f0f0f0;stroke-linecap:square;stroke-linejoin:miter;stroke-width:3;\"/>\n",
       "   </g>\n",
       "   <g id=\"patch_4\">\n",
       "    <path d=\"M 404.355 240.48 \n",
       "L 404.355 7.2 \n",
       "\" style=\"fill:none;stroke:#f0f0f0;stroke-linecap:square;stroke-linejoin:miter;stroke-width:3;\"/>\n",
       "   </g>\n",
       "   <g id=\"patch_5\">\n",
       "    <path d=\"M 28.515 240.48 \n",
       "L 404.355 240.48 \n",
       "\" style=\"fill:none;stroke:#f0f0f0;stroke-linecap:square;stroke-linejoin:miter;stroke-width:3;\"/>\n",
       "   </g>\n",
       "   <g id=\"patch_6\">\n",
       "    <path d=\"M 28.515 7.2 \n",
       "L 404.355 7.2 \n",
       "\" style=\"fill:none;stroke:#f0f0f0;stroke-linecap:square;stroke-linejoin:miter;stroke-width:3;\"/>\n",
       "   </g>\n",
       "   <g id=\"legend_1\">\n",
       "    <g id=\"patch_7\">\n",
       "     <path d=\"M 38.315 39.33875 \n",
       "L 191.62375 39.33875 \n",
       "Q 194.42375 39.33875 194.42375 36.53875 \n",
       "L 194.42375 17 \n",
       "Q 194.42375 14.2 191.62375 14.2 \n",
       "L 38.315 14.2 \n",
       "Q 35.515 14.2 35.515 17 \n",
       "L 35.515 36.53875 \n",
       "Q 35.515 39.33875 38.315 39.33875 \n",
       "z\n",
       "\" style=\"fill:#f0f0f0;opacity:0.8;stroke:#cccccc;stroke-linejoin:miter;stroke-width:0.5;\"/>\n",
       "    </g>\n",
       "    <g id=\"line2d_28\">\n",
       "     <path d=\"M 41.115 25.537813 \n",
       "L 69.115 25.537813 \n",
       "\" style=\"fill:none;stroke:#008fd5;stroke-width:4;\"/>\n",
       "    </g>\n",
       "    <g id=\"line2d_29\"/>\n",
       "    <g id=\"text_15\">\n",
       "     <!-- SURFACE_TEMP -->\n",
       "     <g transform=\"translate(80.315 30.437813)scale(0.14 -0.14)\">\n",
       "      <defs>\n",
       "       <path d=\"M 3425 4513 \n",
       "L 3425 3897 \n",
       "Q 3066 4069 2747 4153 \n",
       "Q 2428 4238 2131 4238 \n",
       "Q 1616 4238 1336 4038 \n",
       "Q 1056 3838 1056 3469 \n",
       "Q 1056 3159 1242 3001 \n",
       "Q 1428 2844 1947 2747 \n",
       "L 2328 2669 \n",
       "Q 3034 2534 3370 2195 \n",
       "Q 3706 1856 3706 1288 \n",
       "Q 3706 609 3251 259 \n",
       "Q 2797 -91 1919 -91 \n",
       "Q 1588 -91 1214 -16 \n",
       "Q 841 59 441 206 \n",
       "L 441 856 \n",
       "Q 825 641 1194 531 \n",
       "Q 1563 422 1919 422 \n",
       "Q 2459 422 2753 634 \n",
       "Q 3047 847 3047 1241 \n",
       "Q 3047 1584 2836 1778 \n",
       "Q 2625 1972 2144 2069 \n",
       "L 1759 2144 \n",
       "Q 1053 2284 737 2584 \n",
       "Q 422 2884 422 3419 \n",
       "Q 422 4038 858 4394 \n",
       "Q 1294 4750 2059 4750 \n",
       "Q 2388 4750 2728 4690 \n",
       "Q 3069 4631 3425 4513 \n",
       "z\n",
       "\" id=\"DejaVuSans-53\" transform=\"scale(0.015625)\"/>\n",
       "       <path d=\"M 556 4666 \n",
       "L 1191 4666 \n",
       "L 1191 1831 \n",
       "Q 1191 1081 1462 751 \n",
       "Q 1734 422 2344 422 \n",
       "Q 2950 422 3222 751 \n",
       "Q 3494 1081 3494 1831 \n",
       "L 3494 4666 \n",
       "L 4128 4666 \n",
       "L 4128 1753 \n",
       "Q 4128 841 3676 375 \n",
       "Q 3225 -91 2344 -91 \n",
       "Q 1459 -91 1007 375 \n",
       "Q 556 841 556 1753 \n",
       "L 556 4666 \n",
       "z\n",
       "\" id=\"DejaVuSans-55\" transform=\"scale(0.015625)\"/>\n",
       "       <path d=\"M 2841 2188 \n",
       "Q 3044 2119 3236 1894 \n",
       "Q 3428 1669 3622 1275 \n",
       "L 4263 0 \n",
       "L 3584 0 \n",
       "L 2988 1197 \n",
       "Q 2756 1666 2539 1819 \n",
       "Q 2322 1972 1947 1972 \n",
       "L 1259 1972 \n",
       "L 1259 0 \n",
       "L 628 0 \n",
       "L 628 4666 \n",
       "L 2053 4666 \n",
       "Q 2853 4666 3247 4331 \n",
       "Q 3641 3997 3641 3322 \n",
       "Q 3641 2881 3436 2590 \n",
       "Q 3231 2300 2841 2188 \n",
       "z\n",
       "M 1259 4147 \n",
       "L 1259 2491 \n",
       "L 2053 2491 \n",
       "Q 2509 2491 2742 2702 \n",
       "Q 2975 2913 2975 3322 \n",
       "Q 2975 3731 2742 3939 \n",
       "Q 2509 4147 2053 4147 \n",
       "L 1259 4147 \n",
       "z\n",
       "\" id=\"DejaVuSans-52\" transform=\"scale(0.015625)\"/>\n",
       "       <path d=\"M 628 4666 \n",
       "L 3309 4666 \n",
       "L 3309 4134 \n",
       "L 1259 4134 \n",
       "L 1259 2759 \n",
       "L 3109 2759 \n",
       "L 3109 2228 \n",
       "L 1259 2228 \n",
       "L 1259 0 \n",
       "L 628 0 \n",
       "L 628 4666 \n",
       "z\n",
       "\" id=\"DejaVuSans-46\" transform=\"scale(0.015625)\"/>\n",
       "       <path d=\"M 2188 4044 \n",
       "L 1331 1722 \n",
       "L 3047 1722 \n",
       "L 2188 4044 \n",
       "z\n",
       "M 1831 4666 \n",
       "L 2547 4666 \n",
       "L 4325 0 \n",
       "L 3669 0 \n",
       "L 3244 1197 \n",
       "L 1141 1197 \n",
       "L 716 0 \n",
       "L 50 0 \n",
       "L 1831 4666 \n",
       "z\n",
       "\" id=\"DejaVuSans-41\" transform=\"scale(0.015625)\"/>\n",
       "       <path d=\"M 4122 4306 \n",
       "L 4122 3641 \n",
       "Q 3803 3938 3442 4084 \n",
       "Q 3081 4231 2675 4231 \n",
       "Q 1875 4231 1450 3742 \n",
       "Q 1025 3253 1025 2328 \n",
       "Q 1025 1406 1450 917 \n",
       "Q 1875 428 2675 428 \n",
       "Q 3081 428 3442 575 \n",
       "Q 3803 722 4122 1019 \n",
       "L 4122 359 \n",
       "Q 3791 134 3420 21 \n",
       "Q 3050 -91 2638 -91 \n",
       "Q 1578 -91 968 557 \n",
       "Q 359 1206 359 2328 \n",
       "Q 359 3453 968 4101 \n",
       "Q 1578 4750 2638 4750 \n",
       "Q 3056 4750 3426 4639 \n",
       "Q 3797 4528 4122 4306 \n",
       "z\n",
       "\" id=\"DejaVuSans-43\" transform=\"scale(0.015625)\"/>\n",
       "       <path d=\"M 628 4666 \n",
       "L 3578 4666 \n",
       "L 3578 4134 \n",
       "L 1259 4134 \n",
       "L 1259 2753 \n",
       "L 3481 2753 \n",
       "L 3481 2222 \n",
       "L 1259 2222 \n",
       "L 1259 531 \n",
       "L 3634 531 \n",
       "L 3634 0 \n",
       "L 628 0 \n",
       "L 628 4666 \n",
       "z\n",
       "\" id=\"DejaVuSans-45\" transform=\"scale(0.015625)\"/>\n",
       "       <path d=\"M 3263 -1063 \n",
       "L 3263 -1509 \n",
       "L -63 -1509 \n",
       "L -63 -1063 \n",
       "L 3263 -1063 \n",
       "z\n",
       "\" id=\"DejaVuSans-5f\" transform=\"scale(0.015625)\"/>\n",
       "       <path d=\"M 1259 4147 \n",
       "L 1259 2394 \n",
       "L 2053 2394 \n",
       "Q 2494 2394 2734 2622 \n",
       "Q 2975 2850 2975 3272 \n",
       "Q 2975 3691 2734 3919 \n",
       "Q 2494 4147 2053 4147 \n",
       "L 1259 4147 \n",
       "z\n",
       "M 628 4666 \n",
       "L 2053 4666 \n",
       "Q 2838 4666 3239 4311 \n",
       "Q 3641 3956 3641 3272 \n",
       "Q 3641 2581 3239 2228 \n",
       "Q 2838 1875 2053 1875 \n",
       "L 1259 1875 \n",
       "L 1259 0 \n",
       "L 628 0 \n",
       "L 628 4666 \n",
       "z\n",
       "\" id=\"DejaVuSans-50\" transform=\"scale(0.015625)\"/>\n",
       "      </defs>\n",
       "      <use xlink:href=\"#DejaVuSans-53\"/>\n",
       "      <use x=\"63.476562\" xlink:href=\"#DejaVuSans-55\"/>\n",
       "      <use x=\"136.669922\" xlink:href=\"#DejaVuSans-52\"/>\n",
       "      <use x=\"206.152344\" xlink:href=\"#DejaVuSans-46\"/>\n",
       "      <use x=\"254.546875\" xlink:href=\"#DejaVuSans-41\"/>\n",
       "      <use x=\"321.205078\" xlink:href=\"#DejaVuSans-43\"/>\n",
       "      <use x=\"391.029297\" xlink:href=\"#DejaVuSans-45\"/>\n",
       "      <use x=\"454.212891\" xlink:href=\"#DejaVuSans-5f\"/>\n",
       "      <use x=\"504.212891\" xlink:href=\"#DejaVuSans-54\"/>\n",
       "      <use x=\"565.296875\" xlink:href=\"#DejaVuSans-45\"/>\n",
       "      <use x=\"628.480469\" xlink:href=\"#DejaVuSans-4d\"/>\n",
       "      <use x=\"714.759766\" xlink:href=\"#DejaVuSans-50\"/>\n",
       "     </g>\n",
       "    </g>\n",
       "   </g>\n",
       "  </g>\n",
       " </g>\n",
       " <defs>\n",
       "  <clipPath id=\"p0483536c87\">\n",
       "   <rect height=\"233.28\" width=\"375.84\" x=\"28.515\" y=\"7.2\"/>\n",
       "  </clipPath>\n",
       " </defs>\n",
       "</svg>\n"
      ],
      "text/plain": [
       "<Figure size 432x288 with 1 Axes>"
      ]
     },
     "metadata": {},
     "output_type": "display_data"
    }
   ],
   "source": [
    "(sea_temp\n",
    " .groupby('MONTH') \n",
    " .mean() \n",
    " .plot(kind='line', y='SURFACE_TEMP')\n",
    ");"
   ]
  },
  {
   "cell_type": "markdown",
   "metadata": {
    "slideshow": {
     "slide_type": "slide"
    }
   },
   "source": [
    "### Summary: `.groupby` with subgroups\n",
    "\n",
    "- Pass a list of columns to `.groupby` to make subgroups.\n",
    "- **Always** use `.reset_index()` after grouping with subgroups, to move the MultiIndex back to the columns."
   ]
  },
  {
   "cell_type": "markdown",
   "metadata": {
    "slideshow": {
     "slide_type": "slide"
    }
   },
   "source": [
    "## Merging 🚗"
   ]
  },
  {
   "cell_type": "code",
   "execution_count": 15,
   "metadata": {
    "slideshow": {
     "slide_type": "slide"
    }
   },
   "outputs": [],
   "source": [
    "phones = bpd.DataFrame().assign(\n",
    "    Model=['iPhone 13', 'iPhone 13 Pro Max', 'Samsung Galaxy Z Flip', 'Pixel 5a'],\n",
    "    Price=[799, 1099, 999, 449],\n",
    "    Screen=[6.1, 6.7, 6.7, 6.3]\n",
    ")\n",
    "\n",
    "inventory = bpd.DataFrame().assign(\n",
    "    Handset=['iPhone 13 Pro Max', 'iPhone 13', 'Pixel 5a', 'iPhone 13'],\n",
    "    Units=[50, 40, 10, 100],\n",
    "    Store=['Westfield UTC', 'Westfield UTC', 'Fashion Valley', 'Downtown']\n",
    ")"
   ]
  },
  {
   "cell_type": "code",
   "execution_count": 16,
   "metadata": {
    "slideshow": {
     "slide_type": "slide"
    }
   },
   "outputs": [
    {
     "data": {
      "text/html": [
       "<div>\n",
       "<style scoped>\n",
       "    .dataframe tbody tr th:only-of-type {\n",
       "        vertical-align: middle;\n",
       "    }\n",
       "\n",
       "    .dataframe tbody tr th {\n",
       "        vertical-align: top;\n",
       "    }\n",
       "\n",
       "    .dataframe thead th {\n",
       "        text-align: right;\n",
       "    }\n",
       "</style>\n",
       "<table border=\"1\" class=\"dataframe\">\n",
       "  <thead>\n",
       "    <tr style=\"text-align: right;\">\n",
       "      <th></th>\n",
       "      <th>Model</th>\n",
       "      <th>Price</th>\n",
       "      <th>Screen</th>\n",
       "    </tr>\n",
       "  </thead>\n",
       "  <tbody>\n",
       "    <tr>\n",
       "      <th>0</th>\n",
       "      <td>iPhone 13</td>\n",
       "      <td>799</td>\n",
       "      <td>6.1</td>\n",
       "    </tr>\n",
       "    <tr>\n",
       "      <th>1</th>\n",
       "      <td>iPhone 13 Pro Max</td>\n",
       "      <td>1099</td>\n",
       "      <td>6.7</td>\n",
       "    </tr>\n",
       "    <tr>\n",
       "      <th>2</th>\n",
       "      <td>Samsung Galaxy Z Flip</td>\n",
       "      <td>999</td>\n",
       "      <td>6.7</td>\n",
       "    </tr>\n",
       "    <tr>\n",
       "      <th>3</th>\n",
       "      <td>Pixel 5a</td>\n",
       "      <td>449</td>\n",
       "      <td>6.3</td>\n",
       "    </tr>\n",
       "  </tbody>\n",
       "</table>\n",
       "</div>"
      ],
      "text/plain": [
       "                   Model  Price  Screen\n",
       "0              iPhone 13    799     6.1\n",
       "1      iPhone 13 Pro Max   1099     6.7\n",
       "2  Samsung Galaxy Z Flip    999     6.7\n",
       "3               Pixel 5a    449     6.3"
      ]
     },
     "execution_count": 16,
     "metadata": {},
     "output_type": "execute_result"
    }
   ],
   "source": [
    "# Phones on the market right now\n",
    "phones"
   ]
  },
  {
   "cell_type": "code",
   "execution_count": 17,
   "metadata": {},
   "outputs": [
    {
     "data": {
      "text/html": [
       "<div>\n",
       "<style scoped>\n",
       "    .dataframe tbody tr th:only-of-type {\n",
       "        vertical-align: middle;\n",
       "    }\n",
       "\n",
       "    .dataframe tbody tr th {\n",
       "        vertical-align: top;\n",
       "    }\n",
       "\n",
       "    .dataframe thead th {\n",
       "        text-align: right;\n",
       "    }\n",
       "</style>\n",
       "<table border=\"1\" class=\"dataframe\">\n",
       "  <thead>\n",
       "    <tr style=\"text-align: right;\">\n",
       "      <th></th>\n",
       "      <th>Handset</th>\n",
       "      <th>Units</th>\n",
       "      <th>Store</th>\n",
       "    </tr>\n",
       "  </thead>\n",
       "  <tbody>\n",
       "    <tr>\n",
       "      <th>0</th>\n",
       "      <td>iPhone 13 Pro Max</td>\n",
       "      <td>50</td>\n",
       "      <td>Westfield UTC</td>\n",
       "    </tr>\n",
       "    <tr>\n",
       "      <th>1</th>\n",
       "      <td>iPhone 13</td>\n",
       "      <td>40</td>\n",
       "      <td>Westfield UTC</td>\n",
       "    </tr>\n",
       "    <tr>\n",
       "      <th>2</th>\n",
       "      <td>Pixel 5a</td>\n",
       "      <td>10</td>\n",
       "      <td>Fashion Valley</td>\n",
       "    </tr>\n",
       "    <tr>\n",
       "      <th>3</th>\n",
       "      <td>iPhone 13</td>\n",
       "      <td>100</td>\n",
       "      <td>Downtown</td>\n",
       "    </tr>\n",
       "  </tbody>\n",
       "</table>\n",
       "</div>"
      ],
      "text/plain": [
       "             Handset  Units           Store\n",
       "0  iPhone 13 Pro Max     50   Westfield UTC\n",
       "1          iPhone 13     40   Westfield UTC\n",
       "2           Pixel 5a     10  Fashion Valley\n",
       "3          iPhone 13    100        Downtown"
      ]
     },
     "execution_count": 17,
     "metadata": {},
     "output_type": "execute_result"
    }
   ],
   "source": [
    "# Which phones my stores have in stock in the area\n",
    "inventory"
   ]
  },
  {
   "cell_type": "markdown",
   "metadata": {
    "slideshow": {
     "slide_type": "fragment"
    }
   },
   "source": [
    "**Question:** If I sell all of the phones in my inventory, how much will I make in revenue?"
   ]
  },
  {
   "cell_type": "markdown",
   "metadata": {
    "slideshow": {
     "slide_type": "slide"
    }
   },
   "source": [
    "### If I sell all of the phones in my inventory, how much will I make in revenue?"
   ]
  },
  {
   "cell_type": "code",
   "execution_count": 18,
   "metadata": {},
   "outputs": [
    {
     "data": {
      "text/html": [
       "\n",
       "<div class=\"pt-viz\" id=\"pt-viz-1\"></div>\n",
       "<script>\n",
       "drawWsv('#pt-viz-1', \"{\\n  \\\"code\\\": \\\"\\\\nphones.merge(inventory, left_on='Model', right_on='Handset')\\\\n\\\",\\n  \\\"explanation\\\": [\\n    {\\n      \\\"type\\\": \\\"MergeCall\\\",\\n      \\\"code_step\\\": \\\"phones.merge(inventory, left_on='Model', right_on='Handset')\\\",\\n      \\\"fragment\\\": {\\n        \\\"start\\\": {\\n          \\\"line\\\": 0,\\n          \\\"ch\\\": 6\\n        },\\n        \\\"end\\\": {\\n          \\\"line\\\": 0,\\n          \\\"ch\\\": 60\\n        }\\n      },\\n      \\\"marks\\\": [\\n        {\\n          \\\"type\\\": \\\"using\\\",\\n          \\\"pos\\\": {\\n            \\\"type\\\": \\\"axis\\\",\\n            \\\"anchor\\\": \\\"lhs\\\",\\n            \\\"select\\\": \\\"column\\\",\\n            \\\"label\\\": \\\"Model\\\"\\n          }\\n        },\\n        {\\n          \\\"type\\\": \\\"using\\\",\\n          \\\"pos\\\": {\\n            \\\"type\\\": \\\"axis\\\",\\n            \\\"anchor\\\": \\\"lhs2\\\",\\n            \\\"select\\\": \\\"column\\\",\\n            \\\"label\\\": \\\"Handset\\\"\\n          }\\n        },\\n        {\\n          \\\"type\\\": \\\"using\\\",\\n          \\\"pos\\\": {\\n            \\\"type\\\": \\\"axis\\\",\\n            \\\"anchor\\\": \\\"rhs\\\",\\n            \\\"select\\\": \\\"column\\\",\\n            \\\"label\\\": \\\"Model\\\"\\n          }\\n        },\\n        {\\n          \\\"type\\\": \\\"using\\\",\\n          \\\"pos\\\": {\\n            \\\"type\\\": \\\"axis\\\",\\n            \\\"anchor\\\": \\\"rhs\\\",\\n            \\\"select\\\": \\\"column\\\",\\n            \\\"label\\\": \\\"Handset\\\"\\n          }\\n        },\\n        {\\n          \\\"type\\\": \\\"drop\\\",\\n          \\\"pos\\\": {\\n            \\\"type\\\": \\\"axis\\\",\\n            \\\"anchor\\\": \\\"lhs\\\",\\n            \\\"select\\\": \\\"row\\\",\\n            \\\"label\\\": 2\\n          }\\n        },\\n        {\\n          \\\"type\\\": \\\"map_set\\\",\\n          \\\"maps\\\": [\\n            {\\n              \\\"type\\\": \\\"map\\\",\\n              \\\"from\\\": {\\n                \\\"type\\\": \\\"axis\\\",\\n                \\\"anchor\\\": \\\"lhs\\\",\\n                \\\"select\\\": \\\"row\\\",\\n                \\\"label\\\": 3\\n              },\\n              \\\"to\\\": {\\n                \\\"type\\\": \\\"axis\\\",\\n                \\\"anchor\\\": \\\"rhs\\\",\\n                \\\"select\\\": \\\"row\\\",\\n                \\\"label\\\": 3\\n              }\\n            },\\n            {\\n              \\\"type\\\": \\\"map\\\",\\n              \\\"from\\\": {\\n                \\\"type\\\": \\\"axis\\\",\\n                \\\"anchor\\\": \\\"lhs2\\\",\\n                \\\"select\\\": \\\"row\\\",\\n                \\\"label\\\": 2\\n              },\\n              \\\"to\\\": {\\n                \\\"type\\\": \\\"axis\\\",\\n                \\\"anchor\\\": \\\"rhs\\\",\\n                \\\"select\\\": \\\"row\\\",\\n                \\\"label\\\": 3\\n              }\\n            }\\n          ]\\n        },\\n        {\\n          \\\"type\\\": \\\"map_set\\\",\\n          \\\"maps\\\": [\\n            {\\n              \\\"type\\\": \\\"map\\\",\\n              \\\"from\\\": {\\n                \\\"type\\\": \\\"axis\\\",\\n                \\\"anchor\\\": \\\"lhs\\\",\\n                \\\"select\\\": \\\"row\\\",\\n                \\\"label\\\": 0\\n              },\\n              \\\"to\\\": {\\n                \\\"type\\\": \\\"axis\\\",\\n                \\\"anchor\\\": \\\"rhs\\\",\\n                \\\"select\\\": \\\"row\\\",\\n                \\\"label\\\": 0\\n              }\\n            },\\n            {\\n              \\\"type\\\": \\\"map\\\",\\n              \\\"from\\\": {\\n                \\\"type\\\": \\\"axis\\\",\\n                \\\"anchor\\\": \\\"lhs2\\\",\\n                \\\"select\\\": \\\"row\\\",\\n                \\\"label\\\": 1\\n              },\\n              \\\"to\\\": {\\n                \\\"type\\\": \\\"axis\\\",\\n                \\\"anchor\\\": \\\"rhs\\\",\\n                \\\"select\\\": \\\"row\\\",\\n                \\\"label\\\": 0\\n              }\\n            },\\n            {\\n              \\\"type\\\": \\\"map\\\",\\n              \\\"from\\\": {\\n                \\\"type\\\": \\\"axis\\\",\\n                \\\"anchor\\\": \\\"lhs\\\",\\n                \\\"select\\\": \\\"row\\\",\\n                \\\"label\\\": 0\\n              },\\n              \\\"to\\\": {\\n                \\\"type\\\": \\\"axis\\\",\\n                \\\"anchor\\\": \\\"rhs\\\",\\n                \\\"select\\\": \\\"row\\\",\\n                \\\"label\\\": 1\\n              }\\n            },\\n            {\\n              \\\"type\\\": \\\"map\\\",\\n              \\\"from\\\": {\\n                \\\"type\\\": \\\"axis\\\",\\n                \\\"anchor\\\": \\\"lhs2\\\",\\n                \\\"select\\\": \\\"row\\\",\\n                \\\"label\\\": 3\\n              },\\n              \\\"to\\\": {\\n                \\\"type\\\": \\\"axis\\\",\\n                \\\"anchor\\\": \\\"rhs\\\",\\n                \\\"select\\\": \\\"row\\\",\\n                \\\"label\\\": 1\\n              }\\n            }\\n          ]\\n        },\\n        {\\n          \\\"type\\\": \\\"map_set\\\",\\n          \\\"maps\\\": [\\n            {\\n              \\\"type\\\": \\\"map\\\",\\n              \\\"from\\\": {\\n                \\\"type\\\": \\\"axis\\\",\\n                \\\"anchor\\\": \\\"lhs\\\",\\n                \\\"select\\\": \\\"row\\\",\\n                \\\"label\\\": 1\\n              },\\n              \\\"to\\\": {\\n                \\\"type\\\": \\\"axis\\\",\\n                \\\"anchor\\\": \\\"rhs\\\",\\n                \\\"select\\\": \\\"row\\\",\\n                \\\"label\\\": 2\\n              }\\n            },\\n            {\\n              \\\"type\\\": \\\"map\\\",\\n              \\\"from\\\": {\\n                \\\"type\\\": \\\"axis\\\",\\n                \\\"anchor\\\": \\\"lhs2\\\",\\n                \\\"select\\\": \\\"row\\\",\\n                \\\"label\\\": 0\\n              },\\n              \\\"to\\\": {\\n                \\\"type\\\": \\\"axis\\\",\\n                \\\"anchor\\\": \\\"rhs\\\",\\n                \\\"select\\\": \\\"row\\\",\\n                \\\"label\\\": 2\\n              }\\n            }\\n          ]\\n        }\\n      ],\\n      \\\"data\\\": {\\n        \\\"lhs\\\": {\\n          \\\"type\\\": \\\"DataFrame\\\",\\n          \\\"columns\\\": {\\n            \\\"names\\\": [\\n              null\\n            ],\\n            \\\"labels\\\": [\\n              \\\"Model\\\",\\n              \\\"Price\\\",\\n              \\\"Screen\\\"\\n            ]\\n          },\\n          \\\"index\\\": {\\n            \\\"names\\\": [\\n              null\\n            ],\\n            \\\"labels\\\": [\\n              0,\\n              1,\\n              2,\\n              3\\n            ]\\n          },\\n          \\\"data\\\": [\\n            [\\n              \\\"iPhone 13\\\",\\n              799,\\n              6.1\\n            ],\\n            [\\n              \\\"iPhone 13 Pro Max\\\",\\n              1099,\\n              6.7\\n            ],\\n            [\\n              \\\"Samsung Galaxy Z Flip\\\",\\n              999,\\n              6.7\\n            ],\\n            [\\n              \\\"Pixel 5a\\\",\\n              449,\\n              6.3\\n            ]\\n          ]\\n        },\\n        \\\"lhs2\\\": {\\n          \\\"type\\\": \\\"DataFrame\\\",\\n          \\\"columns\\\": {\\n            \\\"names\\\": [\\n              null\\n            ],\\n            \\\"labels\\\": [\\n              \\\"Handset\\\",\\n              \\\"Units\\\",\\n              \\\"Store\\\"\\n            ]\\n          },\\n          \\\"index\\\": {\\n            \\\"names\\\": [\\n              null\\n            ],\\n            \\\"labels\\\": [\\n              0,\\n              1,\\n              2,\\n              3\\n            ]\\n          },\\n          \\\"data\\\": [\\n            [\\n              \\\"iPhone 13 Pro Max\\\",\\n              50,\\n              \\\"Westfield UTC\\\"\\n            ],\\n            [\\n              \\\"iPhone 13\\\",\\n              40,\\n              \\\"Westfield UTC\\\"\\n            ],\\n            [\\n              \\\"Pixel 5a\\\",\\n              10,\\n              \\\"Fashion Valley\\\"\\n            ],\\n            [\\n              \\\"iPhone 13\\\",\\n              100,\\n              \\\"Downtown\\\"\\n            ]\\n          ]\\n        },\\n        \\\"rhs\\\": {\\n          \\\"type\\\": \\\"DataFrame\\\",\\n          \\\"columns\\\": {\\n            \\\"names\\\": [\\n              null\\n            ],\\n            \\\"labels\\\": [\\n              \\\"Model\\\",\\n              \\\"Price\\\",\\n              \\\"Screen\\\",\\n              \\\"Handset\\\",\\n              \\\"Units\\\",\\n              \\\"Store\\\"\\n            ]\\n          },\\n          \\\"index\\\": {\\n            \\\"names\\\": [\\n              null\\n            ],\\n            \\\"labels\\\": [\\n              0,\\n              1,\\n              2,\\n              3\\n            ]\\n          },\\n          \\\"data\\\": [\\n            [\\n              \\\"iPhone 13\\\",\\n              799,\\n              6.1,\\n              \\\"iPhone 13\\\",\\n              40,\\n              \\\"Westfield UTC\\\"\\n            ],\\n            [\\n              \\\"iPhone 13\\\",\\n              799,\\n              6.1,\\n              \\\"iPhone 13\\\",\\n              100,\\n              \\\"Downtown\\\"\\n            ],\\n            [\\n              \\\"iPhone 13 Pro Max\\\",\\n              1099,\\n              6.7,\\n              \\\"iPhone 13 Pro Max\\\",\\n              50,\\n              \\\"Westfield UTC\\\"\\n            ],\\n            [\\n              \\\"Pixel 5a\\\",\\n              449,\\n              6.3,\\n              \\\"Pixel 5a\\\",\\n              10,\\n              \\\"Fashion Valley\\\"\\n            ]\\n          ]\\n        }\\n      }\\n    }\\n  ]\\n}\", {\"nohover\": true, \"maxDisplayRows\": 7, \"maxDisplayCols\": 5, \"colorPalette\": [\"#e41a1c\", \"#377eb8\", \"#4daf4a\", \"#984ea3\", \"#ff7f00\", \"#a65628\", \"#f781bf\", \"#999999\"]});\n",
       "</script>\n"
      ],
      "text/plain": [
       "<IPython.core.display.HTML object>"
      ]
     },
     "metadata": {},
     "output_type": "display_data"
    }
   ],
   "source": [
    "%%pt\n",
    "\n",
    "phones.merge(inventory, left_on='Model', right_on='Handset')"
   ]
  },
  {
   "cell_type": "markdown",
   "metadata": {
    "slideshow": {
     "slide_type": "slide"
    }
   },
   "source": [
    "### What just happened!? 🤯"
   ]
  },
  {
   "cell_type": "code",
   "execution_count": 19,
   "metadata": {},
   "outputs": [
    {
     "data": {
      "text/html": [
       "\n",
       "        <iframe\n",
       "            width=\"825\"\n",
       "            height=\"500\"\n",
       "            src=\"https://docs.google.com/presentation/d/e/2PACX-1vSk2FfJ4K_An_CQwcN_Yu5unpJckOZjVQDFqZ78ZTTMmowUsCQKKVnum0_m6TaiGquQ44E3FiS9g2Y4/embed?start=false&loop=false&delayms=60000\"\n",
       "            frameborder=\"0\"\n",
       "            allowfullscreen\n",
       "        ></iframe>\n",
       "        "
      ],
      "text/plain": [
       "<IPython.lib.display.IFrame at 0x7fe4009ed880>"
      ]
     },
     "metadata": {},
     "output_type": "display_data"
    }
   ],
   "source": [
    "# Click through the presentation that appears\n",
    "merging_animation()"
   ]
  },
  {
   "cell_type": "markdown",
   "metadata": {
    "slideshow": {
     "slide_type": "slide"
    }
   },
   "source": [
    "### `.merge`\n",
    "\n",
    "- Pick a \"left\" and \"right\" DataFrame.\n",
    "- Choose a column from each to \"merge on\".\n",
    "```python\n",
    "left_df.merge(\n",
    "    right_df, \n",
    "    left_on=left_column_name,\n",
    "    right_on=right_column_name\n",
    ")\n",
    "```\n",
    "- `left_on` and `right_on` should be column names (they don't have to be the same).\n",
    "- The resulting DataFrame contains a single row for every match between the two columns.\n",
    "- Rows in either DataFrame without a match disappear!"
   ]
  },
  {
   "cell_type": "markdown",
   "metadata": {
    "slideshow": {
     "slide_type": "slide"
    }
   },
   "source": [
    "### If I sell all of the phones in my inventory, how much will I make in revenue?"
   ]
  },
  {
   "cell_type": "code",
   "execution_count": 20,
   "metadata": {},
   "outputs": [
    {
     "data": {
      "text/html": [
       "\n",
       "<div class=\"pt-viz\" id=\"pt-viz-2\"></div>\n",
       "<script>\n",
       "drawWsv('#pt-viz-2', \"{\\n  \\\"code\\\": \\\"\\\\n# Notice there's no Samsung Galaxy Z Flip in phones_merged\\\\nphones_merged = phones.merge(inventory, left_on='Model', right_on='Handset')\\\\n\\\",\\n  \\\"explanation\\\": [\\n    {\\n      \\\"type\\\": \\\"MergeCall\\\",\\n      \\\"code_step\\\": \\\"phones_merged = phones.merge(inventory, left_on='Model', right_on='Handset')\\\",\\n      \\\"fragment\\\": {\\n        \\\"start\\\": {\\n          \\\"line\\\": 0,\\n          \\\"ch\\\": 22\\n        },\\n        \\\"end\\\": {\\n          \\\"line\\\": 0,\\n          \\\"ch\\\": 76\\n        }\\n      },\\n      \\\"marks\\\": [\\n        {\\n          \\\"type\\\": \\\"using\\\",\\n          \\\"pos\\\": {\\n            \\\"type\\\": \\\"axis\\\",\\n            \\\"anchor\\\": \\\"lhs\\\",\\n            \\\"select\\\": \\\"column\\\",\\n            \\\"label\\\": \\\"Model\\\"\\n          }\\n        },\\n        {\\n          \\\"type\\\": \\\"using\\\",\\n          \\\"pos\\\": {\\n            \\\"type\\\": \\\"axis\\\",\\n            \\\"anchor\\\": \\\"lhs2\\\",\\n            \\\"select\\\": \\\"column\\\",\\n            \\\"label\\\": \\\"Handset\\\"\\n          }\\n        },\\n        {\\n          \\\"type\\\": \\\"using\\\",\\n          \\\"pos\\\": {\\n            \\\"type\\\": \\\"axis\\\",\\n            \\\"anchor\\\": \\\"rhs\\\",\\n            \\\"select\\\": \\\"column\\\",\\n            \\\"label\\\": \\\"Model\\\"\\n          }\\n        },\\n        {\\n          \\\"type\\\": \\\"using\\\",\\n          \\\"pos\\\": {\\n            \\\"type\\\": \\\"axis\\\",\\n            \\\"anchor\\\": \\\"rhs\\\",\\n            \\\"select\\\": \\\"column\\\",\\n            \\\"label\\\": \\\"Handset\\\"\\n          }\\n        },\\n        {\\n          \\\"type\\\": \\\"drop\\\",\\n          \\\"pos\\\": {\\n            \\\"type\\\": \\\"axis\\\",\\n            \\\"anchor\\\": \\\"lhs\\\",\\n            \\\"select\\\": \\\"row\\\",\\n            \\\"label\\\": 2\\n          }\\n        },\\n        {\\n          \\\"type\\\": \\\"map_set\\\",\\n          \\\"maps\\\": [\\n            {\\n              \\\"type\\\": \\\"map\\\",\\n              \\\"from\\\": {\\n                \\\"type\\\": \\\"axis\\\",\\n                \\\"anchor\\\": \\\"lhs\\\",\\n                \\\"select\\\": \\\"row\\\",\\n                \\\"label\\\": 3\\n              },\\n              \\\"to\\\": {\\n                \\\"type\\\": \\\"axis\\\",\\n                \\\"anchor\\\": \\\"rhs\\\",\\n                \\\"select\\\": \\\"row\\\",\\n                \\\"label\\\": 3\\n              }\\n            },\\n            {\\n              \\\"type\\\": \\\"map\\\",\\n              \\\"from\\\": {\\n                \\\"type\\\": \\\"axis\\\",\\n                \\\"anchor\\\": \\\"lhs2\\\",\\n                \\\"select\\\": \\\"row\\\",\\n                \\\"label\\\": 2\\n              },\\n              \\\"to\\\": {\\n                \\\"type\\\": \\\"axis\\\",\\n                \\\"anchor\\\": \\\"rhs\\\",\\n                \\\"select\\\": \\\"row\\\",\\n                \\\"label\\\": 3\\n              }\\n            }\\n          ]\\n        },\\n        {\\n          \\\"type\\\": \\\"map_set\\\",\\n          \\\"maps\\\": [\\n            {\\n              \\\"type\\\": \\\"map\\\",\\n              \\\"from\\\": {\\n                \\\"type\\\": \\\"axis\\\",\\n                \\\"anchor\\\": \\\"lhs\\\",\\n                \\\"select\\\": \\\"row\\\",\\n                \\\"label\\\": 0\\n              },\\n              \\\"to\\\": {\\n                \\\"type\\\": \\\"axis\\\",\\n                \\\"anchor\\\": \\\"rhs\\\",\\n                \\\"select\\\": \\\"row\\\",\\n                \\\"label\\\": 0\\n              }\\n            },\\n            {\\n              \\\"type\\\": \\\"map\\\",\\n              \\\"from\\\": {\\n                \\\"type\\\": \\\"axis\\\",\\n                \\\"anchor\\\": \\\"lhs2\\\",\\n                \\\"select\\\": \\\"row\\\",\\n                \\\"label\\\": 1\\n              },\\n              \\\"to\\\": {\\n                \\\"type\\\": \\\"axis\\\",\\n                \\\"anchor\\\": \\\"rhs\\\",\\n                \\\"select\\\": \\\"row\\\",\\n                \\\"label\\\": 0\\n              }\\n            },\\n            {\\n              \\\"type\\\": \\\"map\\\",\\n              \\\"from\\\": {\\n                \\\"type\\\": \\\"axis\\\",\\n                \\\"anchor\\\": \\\"lhs\\\",\\n                \\\"select\\\": \\\"row\\\",\\n                \\\"label\\\": 0\\n              },\\n              \\\"to\\\": {\\n                \\\"type\\\": \\\"axis\\\",\\n                \\\"anchor\\\": \\\"rhs\\\",\\n                \\\"select\\\": \\\"row\\\",\\n                \\\"label\\\": 1\\n              }\\n            },\\n            {\\n              \\\"type\\\": \\\"map\\\",\\n              \\\"from\\\": {\\n                \\\"type\\\": \\\"axis\\\",\\n                \\\"anchor\\\": \\\"lhs2\\\",\\n                \\\"select\\\": \\\"row\\\",\\n                \\\"label\\\": 3\\n              },\\n              \\\"to\\\": {\\n                \\\"type\\\": \\\"axis\\\",\\n                \\\"anchor\\\": \\\"rhs\\\",\\n                \\\"select\\\": \\\"row\\\",\\n                \\\"label\\\": 1\\n              }\\n            }\\n          ]\\n        },\\n        {\\n          \\\"type\\\": \\\"map_set\\\",\\n          \\\"maps\\\": [\\n            {\\n              \\\"type\\\": \\\"map\\\",\\n              \\\"from\\\": {\\n                \\\"type\\\": \\\"axis\\\",\\n                \\\"anchor\\\": \\\"lhs\\\",\\n                \\\"select\\\": \\\"row\\\",\\n                \\\"label\\\": 1\\n              },\\n              \\\"to\\\": {\\n                \\\"type\\\": \\\"axis\\\",\\n                \\\"anchor\\\": \\\"rhs\\\",\\n                \\\"select\\\": \\\"row\\\",\\n                \\\"label\\\": 2\\n              }\\n            },\\n            {\\n              \\\"type\\\": \\\"map\\\",\\n              \\\"from\\\": {\\n                \\\"type\\\": \\\"axis\\\",\\n                \\\"anchor\\\": \\\"lhs2\\\",\\n                \\\"select\\\": \\\"row\\\",\\n                \\\"label\\\": 0\\n              },\\n              \\\"to\\\": {\\n                \\\"type\\\": \\\"axis\\\",\\n                \\\"anchor\\\": \\\"rhs\\\",\\n                \\\"select\\\": \\\"row\\\",\\n                \\\"label\\\": 2\\n              }\\n            }\\n          ]\\n        }\\n      ],\\n      \\\"data\\\": {\\n        \\\"lhs\\\": {\\n          \\\"type\\\": \\\"DataFrame\\\",\\n          \\\"columns\\\": {\\n            \\\"names\\\": [\\n              null\\n            ],\\n            \\\"labels\\\": [\\n              \\\"Model\\\",\\n              \\\"Price\\\",\\n              \\\"Screen\\\"\\n            ]\\n          },\\n          \\\"index\\\": {\\n            \\\"names\\\": [\\n              null\\n            ],\\n            \\\"labels\\\": [\\n              0,\\n              1,\\n              2,\\n              3\\n            ]\\n          },\\n          \\\"data\\\": [\\n            [\\n              \\\"iPhone 13\\\",\\n              799,\\n              6.1\\n            ],\\n            [\\n              \\\"iPhone 13 Pro Max\\\",\\n              1099,\\n              6.7\\n            ],\\n            [\\n              \\\"Samsung Galaxy Z Flip\\\",\\n              999,\\n              6.7\\n            ],\\n            [\\n              \\\"Pixel 5a\\\",\\n              449,\\n              6.3\\n            ]\\n          ]\\n        },\\n        \\\"lhs2\\\": {\\n          \\\"type\\\": \\\"DataFrame\\\",\\n          \\\"columns\\\": {\\n            \\\"names\\\": [\\n              null\\n            ],\\n            \\\"labels\\\": [\\n              \\\"Handset\\\",\\n              \\\"Units\\\",\\n              \\\"Store\\\"\\n            ]\\n          },\\n          \\\"index\\\": {\\n            \\\"names\\\": [\\n              null\\n            ],\\n            \\\"labels\\\": [\\n              0,\\n              1,\\n              2,\\n              3\\n            ]\\n          },\\n          \\\"data\\\": [\\n            [\\n              \\\"iPhone 13 Pro Max\\\",\\n              50,\\n              \\\"Westfield UTC\\\"\\n            ],\\n            [\\n              \\\"iPhone 13\\\",\\n              40,\\n              \\\"Westfield UTC\\\"\\n            ],\\n            [\\n              \\\"Pixel 5a\\\",\\n              10,\\n              \\\"Fashion Valley\\\"\\n            ],\\n            [\\n              \\\"iPhone 13\\\",\\n              100,\\n              \\\"Downtown\\\"\\n            ]\\n          ]\\n        },\\n        \\\"rhs\\\": {\\n          \\\"type\\\": \\\"DataFrame\\\",\\n          \\\"columns\\\": {\\n            \\\"names\\\": [\\n              null\\n            ],\\n            \\\"labels\\\": [\\n              \\\"Model\\\",\\n              \\\"Price\\\",\\n              \\\"Screen\\\",\\n              \\\"Handset\\\",\\n              \\\"Units\\\",\\n              \\\"Store\\\"\\n            ]\\n          },\\n          \\\"index\\\": {\\n            \\\"names\\\": [\\n              null\\n            ],\\n            \\\"labels\\\": [\\n              0,\\n              1,\\n              2,\\n              3\\n            ]\\n          },\\n          \\\"data\\\": [\\n            [\\n              \\\"iPhone 13\\\",\\n              799,\\n              6.1,\\n              \\\"iPhone 13\\\",\\n              40,\\n              \\\"Westfield UTC\\\"\\n            ],\\n            [\\n              \\\"iPhone 13\\\",\\n              799,\\n              6.1,\\n              \\\"iPhone 13\\\",\\n              100,\\n              \\\"Downtown\\\"\\n            ],\\n            [\\n              \\\"iPhone 13 Pro Max\\\",\\n              1099,\\n              6.7,\\n              \\\"iPhone 13 Pro Max\\\",\\n              50,\\n              \\\"Westfield UTC\\\"\\n            ],\\n            [\\n              \\\"Pixel 5a\\\",\\n              449,\\n              6.3,\\n              \\\"Pixel 5a\\\",\\n              10,\\n              \\\"Fashion Valley\\\"\\n            ]\\n          ]\\n        }\\n      }\\n    }\\n  ]\\n}\", {\"nohover\": true, \"maxDisplayRows\": 7, \"maxDisplayCols\": 5, \"colorPalette\": [\"#e41a1c\", \"#377eb8\", \"#4daf4a\", \"#984ea3\", \"#ff7f00\", \"#a65628\", \"#f781bf\", \"#999999\"]});\n",
       "</script>\n"
      ],
      "text/plain": [
       "<IPython.core.display.HTML object>"
      ]
     },
     "metadata": {},
     "output_type": "display_data"
    }
   ],
   "source": [
    "%%pt\n",
    "\n",
    "# Notice there's no Samsung Galaxy Z Flip in phones_merged\n",
    "phones_merged = phones.merge(inventory, left_on='Model', right_on='Handset')"
   ]
  },
  {
   "cell_type": "code",
   "execution_count": 21,
   "metadata": {},
   "outputs": [
    {
     "data": {
      "text/plain": [
       "171300"
      ]
     },
     "execution_count": 21,
     "metadata": {},
     "output_type": "execute_result"
    }
   ],
   "source": [
    "(phones_merged.get('Price') * phones_merged.get('Units')).sum()"
   ]
  },
  {
   "cell_type": "markdown",
   "metadata": {
    "slideshow": {
     "slide_type": "slide"
    }
   },
   "source": [
    "### Shortcut if column names are the same: `on`"
   ]
  },
  {
   "cell_type": "code",
   "execution_count": 22,
   "metadata": {},
   "outputs": [
    {
     "data": {
      "text/html": [
       "<div>\n",
       "<style scoped>\n",
       "    .dataframe tbody tr th:only-of-type {\n",
       "        vertical-align: middle;\n",
       "    }\n",
       "\n",
       "    .dataframe tbody tr th {\n",
       "        vertical-align: top;\n",
       "    }\n",
       "\n",
       "    .dataframe thead th {\n",
       "        text-align: right;\n",
       "    }\n",
       "</style>\n",
       "<table border=\"1\" class=\"dataframe\">\n",
       "  <thead>\n",
       "    <tr style=\"text-align: right;\">\n",
       "      <th></th>\n",
       "      <th>Units</th>\n",
       "      <th>Store</th>\n",
       "      <th>Model</th>\n",
       "    </tr>\n",
       "  </thead>\n",
       "  <tbody>\n",
       "    <tr>\n",
       "      <th>0</th>\n",
       "      <td>50</td>\n",
       "      <td>Westfield UTC</td>\n",
       "      <td>iPhone 13 Pro Max</td>\n",
       "    </tr>\n",
       "    <tr>\n",
       "      <th>1</th>\n",
       "      <td>40</td>\n",
       "      <td>Westfield UTC</td>\n",
       "      <td>iPhone 13</td>\n",
       "    </tr>\n",
       "    <tr>\n",
       "      <th>2</th>\n",
       "      <td>10</td>\n",
       "      <td>Fashion Valley</td>\n",
       "      <td>Pixel 5a</td>\n",
       "    </tr>\n",
       "    <tr>\n",
       "      <th>3</th>\n",
       "      <td>100</td>\n",
       "      <td>Downtown</td>\n",
       "      <td>iPhone 13</td>\n",
       "    </tr>\n",
       "  </tbody>\n",
       "</table>\n",
       "</div>"
      ],
      "text/plain": [
       "   Units           Store              Model\n",
       "0     50   Westfield UTC  iPhone 13 Pro Max\n",
       "1     40   Westfield UTC          iPhone 13\n",
       "2     10  Fashion Valley           Pixel 5a\n",
       "3    100        Downtown          iPhone 13"
      ]
     },
     "execution_count": 22,
     "metadata": {},
     "output_type": "execute_result"
    }
   ],
   "source": [
    "inventory_relabeled = inventory.assign(Model=inventory.get('Handset')).drop(columns=['Handset'])\n",
    "inventory_relabeled"
   ]
  },
  {
   "cell_type": "code",
   "execution_count": 23,
   "metadata": {},
   "outputs": [
    {
     "data": {
      "text/html": [
       "\n",
       "<div class=\"pt-viz\" id=\"pt-viz-3\"></div>\n",
       "<script>\n",
       "drawWsv('#pt-viz-3', \"{\\n  \\\"code\\\": \\\"\\\\nphones.merge(inventory_relabeled, on='Model')\\\\n\\\",\\n  \\\"explanation\\\": [\\n    {\\n      \\\"type\\\": \\\"MergeCall\\\",\\n      \\\"code_step\\\": \\\"phones.merge(inventory_relabeled, on='Model')\\\",\\n      \\\"fragment\\\": {\\n        \\\"start\\\": {\\n          \\\"line\\\": 0,\\n          \\\"ch\\\": 6\\n        },\\n        \\\"end\\\": {\\n          \\\"line\\\": 0,\\n          \\\"ch\\\": 45\\n        }\\n      },\\n      \\\"marks\\\": [\\n        {\\n          \\\"type\\\": \\\"using\\\",\\n          \\\"pos\\\": {\\n            \\\"type\\\": \\\"axis\\\",\\n            \\\"anchor\\\": \\\"lhs\\\",\\n            \\\"select\\\": \\\"column\\\",\\n            \\\"label\\\": \\\"Model\\\"\\n          }\\n        },\\n        {\\n          \\\"type\\\": \\\"using\\\",\\n          \\\"pos\\\": {\\n            \\\"type\\\": \\\"axis\\\",\\n            \\\"anchor\\\": \\\"lhs2\\\",\\n            \\\"select\\\": \\\"column\\\",\\n            \\\"label\\\": \\\"Model\\\"\\n          }\\n        },\\n        {\\n          \\\"type\\\": \\\"using\\\",\\n          \\\"pos\\\": {\\n            \\\"type\\\": \\\"axis\\\",\\n            \\\"anchor\\\": \\\"rhs\\\",\\n            \\\"select\\\": \\\"column\\\",\\n            \\\"label\\\": \\\"Model\\\"\\n          }\\n        },\\n        {\\n          \\\"type\\\": \\\"drop\\\",\\n          \\\"pos\\\": {\\n            \\\"type\\\": \\\"axis\\\",\\n            \\\"anchor\\\": \\\"lhs\\\",\\n            \\\"select\\\": \\\"row\\\",\\n            \\\"label\\\": 2\\n          }\\n        },\\n        {\\n          \\\"type\\\": \\\"map_set\\\",\\n          \\\"maps\\\": [\\n            {\\n              \\\"type\\\": \\\"map\\\",\\n              \\\"from\\\": {\\n                \\\"type\\\": \\\"axis\\\",\\n                \\\"anchor\\\": \\\"lhs\\\",\\n                \\\"select\\\": \\\"row\\\",\\n                \\\"label\\\": 3\\n              },\\n              \\\"to\\\": {\\n                \\\"type\\\": \\\"axis\\\",\\n                \\\"anchor\\\": \\\"rhs\\\",\\n                \\\"select\\\": \\\"row\\\",\\n                \\\"label\\\": 3\\n              }\\n            },\\n            {\\n              \\\"type\\\": \\\"map\\\",\\n              \\\"from\\\": {\\n                \\\"type\\\": \\\"axis\\\",\\n                \\\"anchor\\\": \\\"lhs2\\\",\\n                \\\"select\\\": \\\"row\\\",\\n                \\\"label\\\": 2\\n              },\\n              \\\"to\\\": {\\n                \\\"type\\\": \\\"axis\\\",\\n                \\\"anchor\\\": \\\"rhs\\\",\\n                \\\"select\\\": \\\"row\\\",\\n                \\\"label\\\": 3\\n              }\\n            }\\n          ]\\n        },\\n        {\\n          \\\"type\\\": \\\"map_set\\\",\\n          \\\"maps\\\": [\\n            {\\n              \\\"type\\\": \\\"map\\\",\\n              \\\"from\\\": {\\n                \\\"type\\\": \\\"axis\\\",\\n                \\\"anchor\\\": \\\"lhs\\\",\\n                \\\"select\\\": \\\"row\\\",\\n                \\\"label\\\": 0\\n              },\\n              \\\"to\\\": {\\n                \\\"type\\\": \\\"axis\\\",\\n                \\\"anchor\\\": \\\"rhs\\\",\\n                \\\"select\\\": \\\"row\\\",\\n                \\\"label\\\": 0\\n              }\\n            },\\n            {\\n              \\\"type\\\": \\\"map\\\",\\n              \\\"from\\\": {\\n                \\\"type\\\": \\\"axis\\\",\\n                \\\"anchor\\\": \\\"lhs2\\\",\\n                \\\"select\\\": \\\"row\\\",\\n                \\\"label\\\": 1\\n              },\\n              \\\"to\\\": {\\n                \\\"type\\\": \\\"axis\\\",\\n                \\\"anchor\\\": \\\"rhs\\\",\\n                \\\"select\\\": \\\"row\\\",\\n                \\\"label\\\": 0\\n              }\\n            },\\n            {\\n              \\\"type\\\": \\\"map\\\",\\n              \\\"from\\\": {\\n                \\\"type\\\": \\\"axis\\\",\\n                \\\"anchor\\\": \\\"lhs\\\",\\n                \\\"select\\\": \\\"row\\\",\\n                \\\"label\\\": 0\\n              },\\n              \\\"to\\\": {\\n                \\\"type\\\": \\\"axis\\\",\\n                \\\"anchor\\\": \\\"rhs\\\",\\n                \\\"select\\\": \\\"row\\\",\\n                \\\"label\\\": 1\\n              }\\n            },\\n            {\\n              \\\"type\\\": \\\"map\\\",\\n              \\\"from\\\": {\\n                \\\"type\\\": \\\"axis\\\",\\n                \\\"anchor\\\": \\\"lhs2\\\",\\n                \\\"select\\\": \\\"row\\\",\\n                \\\"label\\\": 3\\n              },\\n              \\\"to\\\": {\\n                \\\"type\\\": \\\"axis\\\",\\n                \\\"anchor\\\": \\\"rhs\\\",\\n                \\\"select\\\": \\\"row\\\",\\n                \\\"label\\\": 1\\n              }\\n            }\\n          ]\\n        },\\n        {\\n          \\\"type\\\": \\\"map_set\\\",\\n          \\\"maps\\\": [\\n            {\\n              \\\"type\\\": \\\"map\\\",\\n              \\\"from\\\": {\\n                \\\"type\\\": \\\"axis\\\",\\n                \\\"anchor\\\": \\\"lhs\\\",\\n                \\\"select\\\": \\\"row\\\",\\n                \\\"label\\\": 1\\n              },\\n              \\\"to\\\": {\\n                \\\"type\\\": \\\"axis\\\",\\n                \\\"anchor\\\": \\\"rhs\\\",\\n                \\\"select\\\": \\\"row\\\",\\n                \\\"label\\\": 2\\n              }\\n            },\\n            {\\n              \\\"type\\\": \\\"map\\\",\\n              \\\"from\\\": {\\n                \\\"type\\\": \\\"axis\\\",\\n                \\\"anchor\\\": \\\"lhs2\\\",\\n                \\\"select\\\": \\\"row\\\",\\n                \\\"label\\\": 0\\n              },\\n              \\\"to\\\": {\\n                \\\"type\\\": \\\"axis\\\",\\n                \\\"anchor\\\": \\\"rhs\\\",\\n                \\\"select\\\": \\\"row\\\",\\n                \\\"label\\\": 2\\n              }\\n            }\\n          ]\\n        }\\n      ],\\n      \\\"data\\\": {\\n        \\\"lhs\\\": {\\n          \\\"type\\\": \\\"DataFrame\\\",\\n          \\\"columns\\\": {\\n            \\\"names\\\": [\\n              null\\n            ],\\n            \\\"labels\\\": [\\n              \\\"Model\\\",\\n              \\\"Price\\\",\\n              \\\"Screen\\\"\\n            ]\\n          },\\n          \\\"index\\\": {\\n            \\\"names\\\": [\\n              null\\n            ],\\n            \\\"labels\\\": [\\n              0,\\n              1,\\n              2,\\n              3\\n            ]\\n          },\\n          \\\"data\\\": [\\n            [\\n              \\\"iPhone 13\\\",\\n              799,\\n              6.1\\n            ],\\n            [\\n              \\\"iPhone 13 Pro Max\\\",\\n              1099,\\n              6.7\\n            ],\\n            [\\n              \\\"Samsung Galaxy Z Flip\\\",\\n              999,\\n              6.7\\n            ],\\n            [\\n              \\\"Pixel 5a\\\",\\n              449,\\n              6.3\\n            ]\\n          ]\\n        },\\n        \\\"lhs2\\\": {\\n          \\\"type\\\": \\\"DataFrame\\\",\\n          \\\"columns\\\": {\\n            \\\"names\\\": [\\n              null\\n            ],\\n            \\\"labels\\\": [\\n              \\\"Units\\\",\\n              \\\"Store\\\",\\n              \\\"Model\\\"\\n            ]\\n          },\\n          \\\"index\\\": {\\n            \\\"names\\\": [\\n              null\\n            ],\\n            \\\"labels\\\": [\\n              0,\\n              1,\\n              2,\\n              3\\n            ]\\n          },\\n          \\\"data\\\": [\\n            [\\n              50,\\n              \\\"Westfield UTC\\\",\\n              \\\"iPhone 13 Pro Max\\\"\\n            ],\\n            [\\n              40,\\n              \\\"Westfield UTC\\\",\\n              \\\"iPhone 13\\\"\\n            ],\\n            [\\n              10,\\n              \\\"Fashion Valley\\\",\\n              \\\"Pixel 5a\\\"\\n            ],\\n            [\\n              100,\\n              \\\"Downtown\\\",\\n              \\\"iPhone 13\\\"\\n            ]\\n          ]\\n        },\\n        \\\"rhs\\\": {\\n          \\\"type\\\": \\\"DataFrame\\\",\\n          \\\"columns\\\": {\\n            \\\"names\\\": [\\n              null\\n            ],\\n            \\\"labels\\\": [\\n              \\\"Model\\\",\\n              \\\"Price\\\",\\n              \\\"Screen\\\",\\n              \\\"Units\\\",\\n              \\\"Store\\\"\\n            ]\\n          },\\n          \\\"index\\\": {\\n            \\\"names\\\": [\\n              null\\n            ],\\n            \\\"labels\\\": [\\n              0,\\n              1,\\n              2,\\n              3\\n            ]\\n          },\\n          \\\"data\\\": [\\n            [\\n              \\\"iPhone 13\\\",\\n              799,\\n              6.1,\\n              40,\\n              \\\"Westfield UTC\\\"\\n            ],\\n            [\\n              \\\"iPhone 13\\\",\\n              799,\\n              6.1,\\n              100,\\n              \\\"Downtown\\\"\\n            ],\\n            [\\n              \\\"iPhone 13 Pro Max\\\",\\n              1099,\\n              6.7,\\n              50,\\n              \\\"Westfield UTC\\\"\\n            ],\\n            [\\n              \\\"Pixel 5a\\\",\\n              449,\\n              6.3,\\n              10,\\n              \\\"Fashion Valley\\\"\\n            ]\\n          ]\\n        }\\n      }\\n    }\\n  ]\\n}\", {\"nohover\": true, \"maxDisplayRows\": 7, \"maxDisplayCols\": 5, \"colorPalette\": [\"#e41a1c\", \"#377eb8\", \"#4daf4a\", \"#984ea3\", \"#ff7f00\", \"#a65628\", \"#f781bf\", \"#999999\"]});\n",
       "</script>\n"
      ],
      "text/plain": [
       "<IPython.core.display.HTML object>"
      ]
     },
     "metadata": {},
     "output_type": "display_data"
    }
   ],
   "source": [
    "%%pt\n",
    "\n",
    "phones.merge(inventory_relabeled, on='Model')"
   ]
  },
  {
   "cell_type": "markdown",
   "metadata": {
    "slideshow": {
     "slide_type": "fragment"
    }
   },
   "source": [
    "**Notice**: There's only one column containing phone names now."
   ]
  },
  {
   "cell_type": "markdown",
   "metadata": {
    "slideshow": {
     "slide_type": "slide"
    }
   },
   "source": [
    "### Does order matter? 🤔"
   ]
  },
  {
   "cell_type": "code",
   "execution_count": 24,
   "metadata": {},
   "outputs": [
    {
     "data": {
      "text/html": [
       "\n",
       "<div class=\"pt-viz\" id=\"pt-viz-4\"></div>\n",
       "<script>\n",
       "drawWsv('#pt-viz-4', \"{\\n  \\\"code\\\": \\\"\\\\ninventory.merge(phones, left_on='Handset', right_on='Model')\\\\n\\\",\\n  \\\"explanation\\\": [\\n    {\\n      \\\"type\\\": \\\"MergeCall\\\",\\n      \\\"code_step\\\": \\\"inventory.merge(phones, left_on='Handset', right_on='Model')\\\",\\n      \\\"fragment\\\": {\\n        \\\"start\\\": {\\n          \\\"line\\\": 0,\\n          \\\"ch\\\": 9\\n        },\\n        \\\"end\\\": {\\n          \\\"line\\\": 0,\\n          \\\"ch\\\": 60\\n        }\\n      },\\n      \\\"marks\\\": [\\n        {\\n          \\\"type\\\": \\\"using\\\",\\n          \\\"pos\\\": {\\n            \\\"type\\\": \\\"axis\\\",\\n            \\\"anchor\\\": \\\"lhs\\\",\\n            \\\"select\\\": \\\"column\\\",\\n            \\\"label\\\": \\\"Handset\\\"\\n          }\\n        },\\n        {\\n          \\\"type\\\": \\\"using\\\",\\n          \\\"pos\\\": {\\n            \\\"type\\\": \\\"axis\\\",\\n            \\\"anchor\\\": \\\"lhs2\\\",\\n            \\\"select\\\": \\\"column\\\",\\n            \\\"label\\\": \\\"Model\\\"\\n          }\\n        },\\n        {\\n          \\\"type\\\": \\\"using\\\",\\n          \\\"pos\\\": {\\n            \\\"type\\\": \\\"axis\\\",\\n            \\\"anchor\\\": \\\"rhs\\\",\\n            \\\"select\\\": \\\"column\\\",\\n            \\\"label\\\": \\\"Handset\\\"\\n          }\\n        },\\n        {\\n          \\\"type\\\": \\\"using\\\",\\n          \\\"pos\\\": {\\n            \\\"type\\\": \\\"axis\\\",\\n            \\\"anchor\\\": \\\"rhs\\\",\\n            \\\"select\\\": \\\"column\\\",\\n            \\\"label\\\": \\\"Model\\\"\\n          }\\n        },\\n        {\\n          \\\"type\\\": \\\"drop\\\",\\n          \\\"pos\\\": {\\n            \\\"type\\\": \\\"axis\\\",\\n            \\\"anchor\\\": \\\"lhs2\\\",\\n            \\\"select\\\": \\\"row\\\",\\n            \\\"label\\\": 2\\n          }\\n        },\\n        {\\n          \\\"type\\\": \\\"map_set\\\",\\n          \\\"maps\\\": [\\n            {\\n              \\\"type\\\": \\\"map\\\",\\n              \\\"from\\\": {\\n                \\\"type\\\": \\\"axis\\\",\\n                \\\"anchor\\\": \\\"lhs\\\",\\n                \\\"select\\\": \\\"row\\\",\\n                \\\"label\\\": 2\\n              },\\n              \\\"to\\\": {\\n                \\\"type\\\": \\\"axis\\\",\\n                \\\"anchor\\\": \\\"rhs\\\",\\n                \\\"select\\\": \\\"row\\\",\\n                \\\"label\\\": 3\\n              }\\n            },\\n            {\\n              \\\"type\\\": \\\"map\\\",\\n              \\\"from\\\": {\\n                \\\"type\\\": \\\"axis\\\",\\n                \\\"anchor\\\": \\\"lhs2\\\",\\n                \\\"select\\\": \\\"row\\\",\\n                \\\"label\\\": 3\\n              },\\n              \\\"to\\\": {\\n                \\\"type\\\": \\\"axis\\\",\\n                \\\"anchor\\\": \\\"rhs\\\",\\n                \\\"select\\\": \\\"row\\\",\\n                \\\"label\\\": 3\\n              }\\n            }\\n          ]\\n        },\\n        {\\n          \\\"type\\\": \\\"map_set\\\",\\n          \\\"maps\\\": [\\n            {\\n              \\\"type\\\": \\\"map\\\",\\n              \\\"from\\\": {\\n                \\\"type\\\": \\\"axis\\\",\\n                \\\"anchor\\\": \\\"lhs\\\",\\n                \\\"select\\\": \\\"row\\\",\\n                \\\"label\\\": 1\\n              },\\n              \\\"to\\\": {\\n                \\\"type\\\": \\\"axis\\\",\\n                \\\"anchor\\\": \\\"rhs\\\",\\n                \\\"select\\\": \\\"row\\\",\\n                \\\"label\\\": 1\\n              }\\n            },\\n            {\\n              \\\"type\\\": \\\"map\\\",\\n              \\\"from\\\": {\\n                \\\"type\\\": \\\"axis\\\",\\n                \\\"anchor\\\": \\\"lhs2\\\",\\n                \\\"select\\\": \\\"row\\\",\\n                \\\"label\\\": 0\\n              },\\n              \\\"to\\\": {\\n                \\\"type\\\": \\\"axis\\\",\\n                \\\"anchor\\\": \\\"rhs\\\",\\n                \\\"select\\\": \\\"row\\\",\\n                \\\"label\\\": 1\\n              }\\n            },\\n            {\\n              \\\"type\\\": \\\"map\\\",\\n              \\\"from\\\": {\\n                \\\"type\\\": \\\"axis\\\",\\n                \\\"anchor\\\": \\\"lhs\\\",\\n                \\\"select\\\": \\\"row\\\",\\n                \\\"label\\\": 3\\n              },\\n              \\\"to\\\": {\\n                \\\"type\\\": \\\"axis\\\",\\n                \\\"anchor\\\": \\\"rhs\\\",\\n                \\\"select\\\": \\\"row\\\",\\n                \\\"label\\\": 2\\n              }\\n            },\\n            {\\n              \\\"type\\\": \\\"map\\\",\\n              \\\"from\\\": {\\n                \\\"type\\\": \\\"axis\\\",\\n                \\\"anchor\\\": \\\"lhs2\\\",\\n                \\\"select\\\": \\\"row\\\",\\n                \\\"label\\\": 0\\n              },\\n              \\\"to\\\": {\\n                \\\"type\\\": \\\"axis\\\",\\n                \\\"anchor\\\": \\\"rhs\\\",\\n                \\\"select\\\": \\\"row\\\",\\n                \\\"label\\\": 2\\n              }\\n            }\\n          ]\\n        },\\n        {\\n          \\\"type\\\": \\\"map_set\\\",\\n          \\\"maps\\\": [\\n            {\\n              \\\"type\\\": \\\"map\\\",\\n              \\\"from\\\": {\\n                \\\"type\\\": \\\"axis\\\",\\n                \\\"anchor\\\": \\\"lhs\\\",\\n                \\\"select\\\": \\\"row\\\",\\n                \\\"label\\\": 0\\n              },\\n              \\\"to\\\": {\\n                \\\"type\\\": \\\"axis\\\",\\n                \\\"anchor\\\": \\\"rhs\\\",\\n                \\\"select\\\": \\\"row\\\",\\n                \\\"label\\\": 0\\n              }\\n            },\\n            {\\n              \\\"type\\\": \\\"map\\\",\\n              \\\"from\\\": {\\n                \\\"type\\\": \\\"axis\\\",\\n                \\\"anchor\\\": \\\"lhs2\\\",\\n                \\\"select\\\": \\\"row\\\",\\n                \\\"label\\\": 1\\n              },\\n              \\\"to\\\": {\\n                \\\"type\\\": \\\"axis\\\",\\n                \\\"anchor\\\": \\\"rhs\\\",\\n                \\\"select\\\": \\\"row\\\",\\n                \\\"label\\\": 0\\n              }\\n            }\\n          ]\\n        }\\n      ],\\n      \\\"data\\\": {\\n        \\\"lhs\\\": {\\n          \\\"type\\\": \\\"DataFrame\\\",\\n          \\\"columns\\\": {\\n            \\\"names\\\": [\\n              null\\n            ],\\n            \\\"labels\\\": [\\n              \\\"Handset\\\",\\n              \\\"Units\\\",\\n              \\\"Store\\\"\\n            ]\\n          },\\n          \\\"index\\\": {\\n            \\\"names\\\": [\\n              null\\n            ],\\n            \\\"labels\\\": [\\n              0,\\n              1,\\n              2,\\n              3\\n            ]\\n          },\\n          \\\"data\\\": [\\n            [\\n              \\\"iPhone 13 Pro Max\\\",\\n              50,\\n              \\\"Westfield UTC\\\"\\n            ],\\n            [\\n              \\\"iPhone 13\\\",\\n              40,\\n              \\\"Westfield UTC\\\"\\n            ],\\n            [\\n              \\\"Pixel 5a\\\",\\n              10,\\n              \\\"Fashion Valley\\\"\\n            ],\\n            [\\n              \\\"iPhone 13\\\",\\n              100,\\n              \\\"Downtown\\\"\\n            ]\\n          ]\\n        },\\n        \\\"lhs2\\\": {\\n          \\\"type\\\": \\\"DataFrame\\\",\\n          \\\"columns\\\": {\\n            \\\"names\\\": [\\n              null\\n            ],\\n            \\\"labels\\\": [\\n              \\\"Model\\\",\\n              \\\"Price\\\",\\n              \\\"Screen\\\"\\n            ]\\n          },\\n          \\\"index\\\": {\\n            \\\"names\\\": [\\n              null\\n            ],\\n            \\\"labels\\\": [\\n              0,\\n              1,\\n              2,\\n              3\\n            ]\\n          },\\n          \\\"data\\\": [\\n            [\\n              \\\"iPhone 13\\\",\\n              799,\\n              6.1\\n            ],\\n            [\\n              \\\"iPhone 13 Pro Max\\\",\\n              1099,\\n              6.7\\n            ],\\n            [\\n              \\\"Samsung Galaxy Z Flip\\\",\\n              999,\\n              6.7\\n            ],\\n            [\\n              \\\"Pixel 5a\\\",\\n              449,\\n              6.3\\n            ]\\n          ]\\n        },\\n        \\\"rhs\\\": {\\n          \\\"type\\\": \\\"DataFrame\\\",\\n          \\\"columns\\\": {\\n            \\\"names\\\": [\\n              null\\n            ],\\n            \\\"labels\\\": [\\n              \\\"Handset\\\",\\n              \\\"Units\\\",\\n              \\\"Store\\\",\\n              \\\"Model\\\",\\n              \\\"Price\\\",\\n              \\\"Screen\\\"\\n            ]\\n          },\\n          \\\"index\\\": {\\n            \\\"names\\\": [\\n              null\\n            ],\\n            \\\"labels\\\": [\\n              0,\\n              1,\\n              2,\\n              3\\n            ]\\n          },\\n          \\\"data\\\": [\\n            [\\n              \\\"iPhone 13 Pro Max\\\",\\n              50,\\n              \\\"Westfield UTC\\\",\\n              \\\"iPhone 13 Pro Max\\\",\\n              1099,\\n              6.7\\n            ],\\n            [\\n              \\\"iPhone 13\\\",\\n              40,\\n              \\\"Westfield UTC\\\",\\n              \\\"iPhone 13\\\",\\n              799,\\n              6.1\\n            ],\\n            [\\n              \\\"iPhone 13\\\",\\n              100,\\n              \\\"Downtown\\\",\\n              \\\"iPhone 13\\\",\\n              799,\\n              6.1\\n            ],\\n            [\\n              \\\"Pixel 5a\\\",\\n              10,\\n              \\\"Fashion Valley\\\",\\n              \\\"Pixel 5a\\\",\\n              449,\\n              6.3\\n            ]\\n          ]\\n        }\\n      }\\n    }\\n  ]\\n}\", {\"nohover\": true, \"maxDisplayRows\": 7, \"maxDisplayCols\": 5, \"colorPalette\": [\"#e41a1c\", \"#377eb8\", \"#4daf4a\", \"#984ea3\", \"#ff7f00\", \"#a65628\", \"#f781bf\", \"#999999\"]});\n",
       "</script>\n"
      ],
      "text/plain": [
       "<IPython.core.display.HTML object>"
      ]
     },
     "metadata": {},
     "output_type": "display_data"
    }
   ],
   "source": [
    "%%pt\n",
    "\n",
    "inventory.merge(phones, left_on='Handset', right_on='Model')"
   ]
  },
  {
   "cell_type": "markdown",
   "metadata": {
    "slideshow": {
     "slide_type": "fragment"
    }
   },
   "source": [
    "**Answer:** The order of the rows and columns will be different, but the content will be the same."
   ]
  },
  {
   "cell_type": "markdown",
   "metadata": {
    "slideshow": {
     "slide_type": "slide"
    }
   },
   "source": [
    "### What if we want to \"merge on\" an index?\n",
    "\n",
    "Instead of using `left_on` or `right_on`, use `left_index=True` or `right_index=True`."
   ]
  },
  {
   "cell_type": "code",
   "execution_count": 25,
   "metadata": {},
   "outputs": [
    {
     "data": {
      "text/html": [
       "<div>\n",
       "<style scoped>\n",
       "    .dataframe tbody tr th:only-of-type {\n",
       "        vertical-align: middle;\n",
       "    }\n",
       "\n",
       "    .dataframe tbody tr th {\n",
       "        vertical-align: top;\n",
       "    }\n",
       "\n",
       "    .dataframe thead th {\n",
       "        text-align: right;\n",
       "    }\n",
       "</style>\n",
       "<table border=\"1\" class=\"dataframe\">\n",
       "  <thead>\n",
       "    <tr style=\"text-align: right;\">\n",
       "      <th></th>\n",
       "      <th>Model</th>\n",
       "      <th>Price</th>\n",
       "      <th>Screen</th>\n",
       "    </tr>\n",
       "  </thead>\n",
       "  <tbody>\n",
       "    <tr>\n",
       "      <th>0</th>\n",
       "      <td>iPhone 13</td>\n",
       "      <td>799</td>\n",
       "      <td>6.1</td>\n",
       "    </tr>\n",
       "    <tr>\n",
       "      <th>1</th>\n",
       "      <td>iPhone 13 Pro Max</td>\n",
       "      <td>1099</td>\n",
       "      <td>6.7</td>\n",
       "    </tr>\n",
       "    <tr>\n",
       "      <th>2</th>\n",
       "      <td>Samsung Galaxy Z Flip</td>\n",
       "      <td>999</td>\n",
       "      <td>6.7</td>\n",
       "    </tr>\n",
       "    <tr>\n",
       "      <th>3</th>\n",
       "      <td>Pixel 5a</td>\n",
       "      <td>449</td>\n",
       "      <td>6.3</td>\n",
       "    </tr>\n",
       "  </tbody>\n",
       "</table>\n",
       "</div>"
      ],
      "text/plain": [
       "                   Model  Price  Screen\n",
       "0              iPhone 13    799     6.1\n",
       "1      iPhone 13 Pro Max   1099     6.7\n",
       "2  Samsung Galaxy Z Flip    999     6.7\n",
       "3               Pixel 5a    449     6.3"
      ]
     },
     "execution_count": 25,
     "metadata": {},
     "output_type": "execute_result"
    }
   ],
   "source": [
    "phones"
   ]
  },
  {
   "cell_type": "code",
   "execution_count": 26,
   "metadata": {},
   "outputs": [
    {
     "data": {
      "text/html": [
       "<div>\n",
       "<style scoped>\n",
       "    .dataframe tbody tr th:only-of-type {\n",
       "        vertical-align: middle;\n",
       "    }\n",
       "\n",
       "    .dataframe tbody tr th {\n",
       "        vertical-align: top;\n",
       "    }\n",
       "\n",
       "    .dataframe thead th {\n",
       "        text-align: right;\n",
       "    }\n",
       "</style>\n",
       "<table border=\"1\" class=\"dataframe\">\n",
       "  <thead>\n",
       "    <tr style=\"text-align: right;\">\n",
       "      <th></th>\n",
       "      <th>Units</th>\n",
       "      <th>Store</th>\n",
       "    </tr>\n",
       "    <tr>\n",
       "      <th>Handset</th>\n",
       "      <th></th>\n",
       "      <th></th>\n",
       "    </tr>\n",
       "  </thead>\n",
       "  <tbody>\n",
       "    <tr>\n",
       "      <th>iPhone 13 Pro Max</th>\n",
       "      <td>50</td>\n",
       "      <td>Westfield UTC</td>\n",
       "    </tr>\n",
       "    <tr>\n",
       "      <th>iPhone 13</th>\n",
       "      <td>40</td>\n",
       "      <td>Westfield UTC</td>\n",
       "    </tr>\n",
       "    <tr>\n",
       "      <th>Pixel 5a</th>\n",
       "      <td>10</td>\n",
       "      <td>Fashion Valley</td>\n",
       "    </tr>\n",
       "    <tr>\n",
       "      <th>iPhone 13</th>\n",
       "      <td>100</td>\n",
       "      <td>Downtown</td>\n",
       "    </tr>\n",
       "  </tbody>\n",
       "</table>\n",
       "</div>"
      ],
      "text/plain": [
       "                   Units           Store\n",
       "Handset                                 \n",
       "iPhone 13 Pro Max     50   Westfield UTC\n",
       "iPhone 13             40   Westfield UTC\n",
       "Pixel 5a              10  Fashion Valley\n",
       "iPhone 13            100        Downtown"
      ]
     },
     "execution_count": 26,
     "metadata": {},
     "output_type": "execute_result"
    }
   ],
   "source": [
    "inventory_by_handset = inventory.set_index('Handset')\n",
    "inventory_by_handset"
   ]
  },
  {
   "cell_type": "code",
   "execution_count": 27,
   "metadata": {},
   "outputs": [
    {
     "data": {
      "text/html": [
       "\n",
       "<div class=\"pt-viz\" id=\"pt-viz-5\"></div>\n",
       "<script>\n",
       "drawWsv('#pt-viz-5', \"{\\n  \\\"code\\\": \\\"\\\\nphones.merge(inventory_by_handset, left_on='Model', right_index=True)\\\\n\\\",\\n  \\\"explanation\\\": [\\n    {\\n      \\\"type\\\": \\\"MergeCall\\\",\\n      \\\"code_step\\\": \\\"phones.merge(inventory_by_handset, left_on='Model', right_index=True)\\\",\\n      \\\"fragment\\\": {\\n        \\\"start\\\": {\\n          \\\"line\\\": 0,\\n          \\\"ch\\\": 6\\n        },\\n        \\\"end\\\": {\\n          \\\"line\\\": 0,\\n          \\\"ch\\\": 69\\n        }\\n      },\\n      \\\"marks\\\": [],\\n      \\\"data\\\": {\\n        \\\"lhs\\\": {\\n          \\\"type\\\": \\\"DataFrame\\\",\\n          \\\"columns\\\": {\\n            \\\"names\\\": [\\n              null\\n            ],\\n            \\\"labels\\\": [\\n              \\\"Model\\\",\\n              \\\"Price\\\",\\n              \\\"Screen\\\"\\n            ]\\n          },\\n          \\\"index\\\": {\\n            \\\"names\\\": [\\n              null\\n            ],\\n            \\\"labels\\\": [\\n              0,\\n              1,\\n              2,\\n              3\\n            ]\\n          },\\n          \\\"data\\\": [\\n            [\\n              \\\"iPhone 13\\\",\\n              799,\\n              6.1\\n            ],\\n            [\\n              \\\"iPhone 13 Pro Max\\\",\\n              1099,\\n              6.7\\n            ],\\n            [\\n              \\\"Samsung Galaxy Z Flip\\\",\\n              999,\\n              6.7\\n            ],\\n            [\\n              \\\"Pixel 5a\\\",\\n              449,\\n              6.3\\n            ]\\n          ]\\n        },\\n        \\\"lhs2\\\": {\\n          \\\"type\\\": \\\"DataFrame\\\",\\n          \\\"columns\\\": {\\n            \\\"names\\\": [\\n              null\\n            ],\\n            \\\"labels\\\": [\\n              \\\"Units\\\",\\n              \\\"Store\\\"\\n            ]\\n          },\\n          \\\"index\\\": {\\n            \\\"names\\\": [\\n              \\\"Handset\\\"\\n            ],\\n            \\\"labels\\\": [\\n              \\\"iPhone 13 Pro Max\\\",\\n              \\\"iPhone 13\\\",\\n              \\\"Pixel 5a\\\",\\n              \\\"iPhone 13\\\"\\n            ]\\n          },\\n          \\\"data\\\": [\\n            [\\n              50,\\n              \\\"Westfield UTC\\\"\\n            ],\\n            [\\n              40,\\n              \\\"Westfield UTC\\\"\\n            ],\\n            [\\n              10,\\n              \\\"Fashion Valley\\\"\\n            ],\\n            [\\n              100,\\n              \\\"Downtown\\\"\\n            ]\\n          ]\\n        },\\n        \\\"rhs\\\": {\\n          \\\"type\\\": \\\"DataFrame\\\",\\n          \\\"columns\\\": {\\n            \\\"names\\\": [\\n              null\\n            ],\\n            \\\"labels\\\": [\\n              \\\"Model\\\",\\n              \\\"Price\\\",\\n              \\\"Screen\\\",\\n              \\\"Units\\\",\\n              \\\"Store\\\"\\n            ]\\n          },\\n          \\\"index\\\": {\\n            \\\"names\\\": [\\n              null\\n            ],\\n            \\\"labels\\\": [\\n              0,\\n              0,\\n              1,\\n              3\\n            ]\\n          },\\n          \\\"data\\\": [\\n            [\\n              \\\"iPhone 13\\\",\\n              799,\\n              6.1,\\n              40,\\n              \\\"Westfield UTC\\\"\\n            ],\\n            [\\n              \\\"iPhone 13\\\",\\n              799,\\n              6.1,\\n              100,\\n              \\\"Downtown\\\"\\n            ],\\n            [\\n              \\\"iPhone 13 Pro Max\\\",\\n              1099,\\n              6.7,\\n              50,\\n              \\\"Westfield UTC\\\"\\n            ],\\n            [\\n              \\\"Pixel 5a\\\",\\n              449,\\n              6.3,\\n              10,\\n              \\\"Fashion Valley\\\"\\n            ]\\n          ]\\n        }\\n      }\\n    }\\n  ]\\n}\", {\"nohover\": true, \"maxDisplayRows\": 7, \"maxDisplayCols\": 5, \"colorPalette\": [\"#e41a1c\", \"#377eb8\", \"#4daf4a\", \"#984ea3\", \"#ff7f00\", \"#a65628\", \"#f781bf\", \"#999999\"]});\n",
       "</script>\n"
      ],
      "text/plain": [
       "<IPython.core.display.HTML object>"
      ]
     },
     "metadata": {},
     "output_type": "display_data"
    }
   ],
   "source": [
    "%%pt\n",
    "\n",
    "phones.merge(inventory_by_handset, left_on='Model', right_index=True)"
   ]
  },
  {
   "cell_type": "markdown",
   "metadata": {
    "slideshow": {
     "slide_type": "slide"
    }
   },
   "source": [
    "### Discussion Question Setup"
   ]
  },
  {
   "cell_type": "code",
   "execution_count": 28,
   "metadata": {},
   "outputs": [],
   "source": [
    "nice_weather_cities = bpd.DataFrame().assign(\n",
    "    city=['La Jolla', 'San Diego', 'Austin', 'Los Angeles'],\n",
    "    state=['California', 'California', 'Texas', 'California'],\n",
    "    today_high_temp=['79', '83', '87', '87']\n",
    "    \n",
    ")\n",
    "\n",
    "schools = bpd.DataFrame().assign(\n",
    "    name=['UCSD', 'University of Chicago', 'University of San Diego','Johns Hopkins University', 'UT Austin', 'SDSU', 'UCLA'], \n",
    "    city=['La Jolla', 'Chicago', 'San Diego', 'Baltimore', 'Austin', 'San Diego', 'Los Angeles'],\n",
    "    state=['California', 'Illinois', 'California', 'Maryland', 'Texas', 'California', 'California'],\n",
    "    graduation_rate=[0.87, 0.94, 0.78, 0.92, 0.81, 0.83, 0.91 ]\n",
    ")"
   ]
  },
  {
   "cell_type": "markdown",
   "metadata": {
    "slideshow": {
     "slide_type": "slide"
    }
   },
   "source": [
    "### Discussion Question"
   ]
  },
  {
   "cell_type": "code",
   "execution_count": 29,
   "metadata": {},
   "outputs": [
    {
     "data": {
      "text/html": [
       "<div>\n",
       "<style scoped>\n",
       "    .dataframe tbody tr th:only-of-type {\n",
       "        vertical-align: middle;\n",
       "    }\n",
       "\n",
       "    .dataframe tbody tr th {\n",
       "        vertical-align: top;\n",
       "    }\n",
       "\n",
       "    .dataframe thead th {\n",
       "        text-align: right;\n",
       "    }\n",
       "</style>\n",
       "<table border=\"1\" class=\"dataframe\">\n",
       "  <thead>\n",
       "    <tr style=\"text-align: right;\">\n",
       "      <th></th>\n",
       "      <th>city</th>\n",
       "      <th>state</th>\n",
       "      <th>today_high_temp</th>\n",
       "    </tr>\n",
       "  </thead>\n",
       "  <tbody>\n",
       "    <tr>\n",
       "      <th>0</th>\n",
       "      <td>La Jolla</td>\n",
       "      <td>California</td>\n",
       "      <td>79</td>\n",
       "    </tr>\n",
       "    <tr>\n",
       "      <th>1</th>\n",
       "      <td>San Diego</td>\n",
       "      <td>California</td>\n",
       "      <td>83</td>\n",
       "    </tr>\n",
       "    <tr>\n",
       "      <th>2</th>\n",
       "      <td>Austin</td>\n",
       "      <td>Texas</td>\n",
       "      <td>87</td>\n",
       "    </tr>\n",
       "    <tr>\n",
       "      <th>3</th>\n",
       "      <td>Los Angeles</td>\n",
       "      <td>California</td>\n",
       "      <td>87</td>\n",
       "    </tr>\n",
       "  </tbody>\n",
       "</table>\n",
       "</div>"
      ],
      "text/plain": [
       "          city       state today_high_temp\n",
       "0     La Jolla  California              79\n",
       "1    San Diego  California              83\n",
       "2       Austin       Texas              87\n",
       "3  Los Angeles  California              87"
      ]
     },
     "execution_count": 29,
     "metadata": {},
     "output_type": "execute_result"
    }
   ],
   "source": [
    "nice_weather_cities"
   ]
  },
  {
   "cell_type": "code",
   "execution_count": 30,
   "metadata": {},
   "outputs": [
    {
     "data": {
      "text/html": [
       "<div>\n",
       "<style scoped>\n",
       "    .dataframe tbody tr th:only-of-type {\n",
       "        vertical-align: middle;\n",
       "    }\n",
       "\n",
       "    .dataframe tbody tr th {\n",
       "        vertical-align: top;\n",
       "    }\n",
       "\n",
       "    .dataframe thead th {\n",
       "        text-align: right;\n",
       "    }\n",
       "</style>\n",
       "<table border=\"1\" class=\"dataframe\">\n",
       "  <thead>\n",
       "    <tr style=\"text-align: right;\">\n",
       "      <th></th>\n",
       "      <th>name</th>\n",
       "      <th>city</th>\n",
       "      <th>state</th>\n",
       "      <th>graduation_rate</th>\n",
       "    </tr>\n",
       "  </thead>\n",
       "  <tbody>\n",
       "    <tr>\n",
       "      <th>0</th>\n",
       "      <td>UCSD</td>\n",
       "      <td>La Jolla</td>\n",
       "      <td>California</td>\n",
       "      <td>0.87</td>\n",
       "    </tr>\n",
       "    <tr>\n",
       "      <th>1</th>\n",
       "      <td>University of Chicago</td>\n",
       "      <td>Chicago</td>\n",
       "      <td>Illinois</td>\n",
       "      <td>0.94</td>\n",
       "    </tr>\n",
       "    <tr>\n",
       "      <th>2</th>\n",
       "      <td>University of San Diego</td>\n",
       "      <td>San Diego</td>\n",
       "      <td>California</td>\n",
       "      <td>0.78</td>\n",
       "    </tr>\n",
       "    <tr>\n",
       "      <th>3</th>\n",
       "      <td>Johns Hopkins University</td>\n",
       "      <td>Baltimore</td>\n",
       "      <td>Maryland</td>\n",
       "      <td>0.92</td>\n",
       "    </tr>\n",
       "    <tr>\n",
       "      <th>4</th>\n",
       "      <td>UT Austin</td>\n",
       "      <td>Austin</td>\n",
       "      <td>Texas</td>\n",
       "      <td>0.81</td>\n",
       "    </tr>\n",
       "    <tr>\n",
       "      <th>5</th>\n",
       "      <td>SDSU</td>\n",
       "      <td>San Diego</td>\n",
       "      <td>California</td>\n",
       "      <td>0.83</td>\n",
       "    </tr>\n",
       "    <tr>\n",
       "      <th>6</th>\n",
       "      <td>UCLA</td>\n",
       "      <td>Los Angeles</td>\n",
       "      <td>California</td>\n",
       "      <td>0.91</td>\n",
       "    </tr>\n",
       "  </tbody>\n",
       "</table>\n",
       "</div>"
      ],
      "text/plain": [
       "                       name         city       state  graduation_rate\n",
       "0                      UCSD     La Jolla  California             0.87\n",
       "1     University of Chicago      Chicago    Illinois             0.94\n",
       "2   University of San Diego    San Diego  California             0.78\n",
       "3  Johns Hopkins University    Baltimore    Maryland             0.92\n",
       "4                 UT Austin       Austin       Texas             0.81\n",
       "5                      SDSU    San Diego  California             0.83\n",
       "6                      UCLA  Los Angeles  California             0.91"
      ]
     },
     "execution_count": 30,
     "metadata": {},
     "output_type": "execute_result"
    }
   ],
   "source": [
    "schools"
   ]
  },
  {
   "cell_type": "markdown",
   "metadata": {},
   "source": [
    "### No code: how many rows in `nice_weather_cities.merge(schools, on='city')`?"
   ]
  },
  {
   "cell_type": "markdown",
   "metadata": {
    "slideshow": {
     "slide_type": "skip"
    }
   },
   "source": [
    "<!--\n",
    "**How many rows will be in the output of `nice_weather_cities.merge(schools, on='city')`?**\n",
    "\n",
    "<center>\n",
    "<pre>\n",
    "A. 4      B. 5      C. 6       D. 7       E. 8\n",
    "</pre>\n",
    "</center>\n",
    "\n",
    "### To answer, go to **[menti.com](https://www.menti.com/v42ge81t5d)** and enter the code 2863 3386.\n",
    "-->"
   ]
  },
  {
   "cell_type": "code",
   "execution_count": null,
   "metadata": {},
   "outputs": [],
   "source": []
  },
  {
   "cell_type": "markdown",
   "metadata": {
    "slideshow": {
     "slide_type": "slide"
    }
   },
   "source": [
    "### Followup: How many rows in `nice_weather_cities.merge(schools, on='state')`?\n",
    "\n",
    "(It's more than you might guess at first!)"
   ]
  },
  {
   "cell_type": "code",
   "execution_count": 31,
   "metadata": {},
   "outputs": [
    {
     "data": {
      "text/html": [
       "<div>\n",
       "<style scoped>\n",
       "    .dataframe tbody tr th:only-of-type {\n",
       "        vertical-align: middle;\n",
       "    }\n",
       "\n",
       "    .dataframe tbody tr th {\n",
       "        vertical-align: top;\n",
       "    }\n",
       "\n",
       "    .dataframe thead th {\n",
       "        text-align: right;\n",
       "    }\n",
       "</style>\n",
       "<table border=\"1\" class=\"dataframe\">\n",
       "  <thead>\n",
       "    <tr style=\"text-align: right;\">\n",
       "      <th></th>\n",
       "      <th>city_x</th>\n",
       "      <th>state</th>\n",
       "      <th>today_high_temp</th>\n",
       "      <th>name</th>\n",
       "      <th>city_y</th>\n",
       "      <th>graduation_rate</th>\n",
       "    </tr>\n",
       "  </thead>\n",
       "  <tbody>\n",
       "    <tr>\n",
       "      <th>0</th>\n",
       "      <td>La Jolla</td>\n",
       "      <td>California</td>\n",
       "      <td>79</td>\n",
       "      <td>UCSD</td>\n",
       "      <td>La Jolla</td>\n",
       "      <td>0.87</td>\n",
       "    </tr>\n",
       "    <tr>\n",
       "      <th>1</th>\n",
       "      <td>La Jolla</td>\n",
       "      <td>California</td>\n",
       "      <td>79</td>\n",
       "      <td>University of San Diego</td>\n",
       "      <td>San Diego</td>\n",
       "      <td>0.78</td>\n",
       "    </tr>\n",
       "    <tr>\n",
       "      <th>2</th>\n",
       "      <td>La Jolla</td>\n",
       "      <td>California</td>\n",
       "      <td>79</td>\n",
       "      <td>SDSU</td>\n",
       "      <td>San Diego</td>\n",
       "      <td>0.83</td>\n",
       "    </tr>\n",
       "    <tr>\n",
       "      <th>...</th>\n",
       "      <td>...</td>\n",
       "      <td>...</td>\n",
       "      <td>...</td>\n",
       "      <td>...</td>\n",
       "      <td>...</td>\n",
       "      <td>...</td>\n",
       "    </tr>\n",
       "    <tr>\n",
       "      <th>10</th>\n",
       "      <td>Los Angeles</td>\n",
       "      <td>California</td>\n",
       "      <td>87</td>\n",
       "      <td>SDSU</td>\n",
       "      <td>San Diego</td>\n",
       "      <td>0.83</td>\n",
       "    </tr>\n",
       "    <tr>\n",
       "      <th>11</th>\n",
       "      <td>Los Angeles</td>\n",
       "      <td>California</td>\n",
       "      <td>87</td>\n",
       "      <td>UCLA</td>\n",
       "      <td>Los Angeles</td>\n",
       "      <td>0.91</td>\n",
       "    </tr>\n",
       "    <tr>\n",
       "      <th>12</th>\n",
       "      <td>Austin</td>\n",
       "      <td>Texas</td>\n",
       "      <td>87</td>\n",
       "      <td>UT Austin</td>\n",
       "      <td>Austin</td>\n",
       "      <td>0.81</td>\n",
       "    </tr>\n",
       "  </tbody>\n",
       "</table>\n",
       "<p>13 rows × 6 columns</p>\n",
       "</div>"
      ],
      "text/plain": [
       "         city_x       state today_high_temp                     name  \\\n",
       "0      La Jolla  California              79                     UCSD   \n",
       "1      La Jolla  California              79  University of San Diego   \n",
       "2      La Jolla  California              79                     SDSU   \n",
       "..          ...         ...             ...                      ...   \n",
       "10  Los Angeles  California              87                     SDSU   \n",
       "11  Los Angeles  California              87                     UCLA   \n",
       "12       Austin       Texas              87                UT Austin   \n",
       "\n",
       "         city_y  graduation_rate  \n",
       "0      La Jolla             0.87  \n",
       "1     San Diego             0.78  \n",
       "2     San Diego             0.83  \n",
       "..          ...              ...  \n",
       "10    San Diego             0.83  \n",
       "11  Los Angeles             0.91  \n",
       "12       Austin             0.81  \n",
       "\n",
       "[13 rows x 6 columns]"
      ]
     },
     "execution_count": 31,
     "metadata": {},
     "output_type": "execute_result"
    }
   ],
   "source": [
    "nice_weather_cities.merge(schools, on='state')"
   ]
  },
  {
   "cell_type": "code",
   "execution_count": 32,
   "metadata": {},
   "outputs": [
    {
     "data": {
      "text/html": [
       "\n",
       "<div class=\"pt-viz\" id=\"pt-viz-6\"></div>\n",
       "<script>\n",
       "drawWsv('#pt-viz-6', \"{\\n  \\\"code\\\": \\\"\\\\n# Why?\\\\n\\\\nnice_weather_cities.merge(schools, on='state')\\\\n\\\",\\n  \\\"explanation\\\": [\\n    {\\n      \\\"type\\\": \\\"MergeCall\\\",\\n      \\\"code_step\\\": \\\"nice_weather_cities.merge(schools, on='state')\\\",\\n      \\\"fragment\\\": {\\n        \\\"start\\\": {\\n          \\\"line\\\": 0,\\n          \\\"ch\\\": 19\\n        },\\n        \\\"end\\\": {\\n          \\\"line\\\": 0,\\n          \\\"ch\\\": 46\\n        }\\n      },\\n      \\\"marks\\\": [\\n        {\\n          \\\"type\\\": \\\"using\\\",\\n          \\\"pos\\\": {\\n            \\\"type\\\": \\\"axis\\\",\\n            \\\"anchor\\\": \\\"lhs\\\",\\n            \\\"select\\\": \\\"column\\\",\\n            \\\"label\\\": \\\"state\\\"\\n          }\\n        },\\n        {\\n          \\\"type\\\": \\\"using\\\",\\n          \\\"pos\\\": {\\n            \\\"type\\\": \\\"axis\\\",\\n            \\\"anchor\\\": \\\"lhs2\\\",\\n            \\\"select\\\": \\\"column\\\",\\n            \\\"label\\\": \\\"state\\\"\\n          }\\n        },\\n        {\\n          \\\"type\\\": \\\"using\\\",\\n          \\\"pos\\\": {\\n            \\\"type\\\": \\\"axis\\\",\\n            \\\"anchor\\\": \\\"rhs\\\",\\n            \\\"select\\\": \\\"column\\\",\\n            \\\"label\\\": \\\"state\\\"\\n          }\\n        },\\n        {\\n          \\\"type\\\": \\\"drop\\\",\\n          \\\"pos\\\": {\\n            \\\"type\\\": \\\"axis\\\",\\n            \\\"anchor\\\": \\\"lhs2\\\",\\n            \\\"select\\\": \\\"row\\\",\\n            \\\"label\\\": 1\\n          }\\n        },\\n        {\\n          \\\"type\\\": \\\"drop\\\",\\n          \\\"pos\\\": {\\n            \\\"type\\\": \\\"axis\\\",\\n            \\\"anchor\\\": \\\"lhs2\\\",\\n            \\\"select\\\": \\\"row\\\",\\n            \\\"label\\\": 3\\n          }\\n        },\\n        {\\n          \\\"type\\\": \\\"map_set\\\",\\n          \\\"maps\\\": [\\n            {\\n              \\\"type\\\": \\\"map\\\",\\n              \\\"from\\\": {\\n                \\\"type\\\": \\\"axis\\\",\\n                \\\"anchor\\\": \\\"lhs\\\",\\n                \\\"select\\\": \\\"row\\\",\\n                \\\"label\\\": 0\\n              },\\n              \\\"to\\\": {\\n                \\\"type\\\": \\\"axis\\\",\\n                \\\"anchor\\\": \\\"rhs\\\",\\n                \\\"select\\\": \\\"row\\\",\\n                \\\"label\\\": 0\\n              }\\n            },\\n            {\\n              \\\"type\\\": \\\"map\\\",\\n              \\\"from\\\": {\\n                \\\"type\\\": \\\"axis\\\",\\n                \\\"anchor\\\": \\\"lhs2\\\",\\n                \\\"select\\\": \\\"row\\\",\\n                \\\"label\\\": 0\\n              },\\n              \\\"to\\\": {\\n                \\\"type\\\": \\\"axis\\\",\\n                \\\"anchor\\\": \\\"rhs\\\",\\n                \\\"select\\\": \\\"row\\\",\\n                \\\"label\\\": 0\\n              }\\n            },\\n            {\\n              \\\"type\\\": \\\"map\\\",\\n              \\\"from\\\": {\\n                \\\"type\\\": \\\"axis\\\",\\n                \\\"anchor\\\": \\\"lhs\\\",\\n                \\\"select\\\": \\\"row\\\",\\n                \\\"label\\\": 0\\n              },\\n              \\\"to\\\": {\\n                \\\"type\\\": \\\"axis\\\",\\n                \\\"anchor\\\": \\\"rhs\\\",\\n                \\\"select\\\": \\\"row\\\",\\n                \\\"label\\\": 1\\n              }\\n            },\\n            {\\n              \\\"type\\\": \\\"map\\\",\\n              \\\"from\\\": {\\n                \\\"type\\\": \\\"axis\\\",\\n                \\\"anchor\\\": \\\"lhs2\\\",\\n                \\\"select\\\": \\\"row\\\",\\n                \\\"label\\\": 2\\n              },\\n              \\\"to\\\": {\\n                \\\"type\\\": \\\"axis\\\",\\n                \\\"anchor\\\": \\\"rhs\\\",\\n                \\\"select\\\": \\\"row\\\",\\n                \\\"label\\\": 1\\n              }\\n            },\\n            {\\n              \\\"type\\\": \\\"map\\\",\\n              \\\"from\\\": {\\n                \\\"type\\\": \\\"axis\\\",\\n                \\\"anchor\\\": \\\"lhs\\\",\\n                \\\"select\\\": \\\"row\\\",\\n                \\\"label\\\": 0\\n              },\\n              \\\"to\\\": {\\n                \\\"type\\\": \\\"axis\\\",\\n                \\\"anchor\\\": \\\"rhs\\\",\\n                \\\"select\\\": \\\"row\\\",\\n                \\\"label\\\": 2\\n              }\\n            },\\n            {\\n              \\\"type\\\": \\\"map\\\",\\n              \\\"from\\\": {\\n                \\\"type\\\": \\\"axis\\\",\\n                \\\"anchor\\\": \\\"lhs2\\\",\\n                \\\"select\\\": \\\"row\\\",\\n                \\\"label\\\": 5\\n              },\\n              \\\"to\\\": {\\n                \\\"type\\\": \\\"axis\\\",\\n                \\\"anchor\\\": \\\"rhs\\\",\\n                \\\"select\\\": \\\"row\\\",\\n                \\\"label\\\": 2\\n              }\\n            },\\n            {\\n              \\\"type\\\": \\\"map\\\",\\n              \\\"from\\\": {\\n                \\\"type\\\": \\\"axis\\\",\\n                \\\"anchor\\\": \\\"lhs\\\",\\n                \\\"select\\\": \\\"row\\\",\\n                \\\"label\\\": 0\\n              },\\n              \\\"to\\\": {\\n                \\\"type\\\": \\\"axis\\\",\\n                \\\"anchor\\\": \\\"rhs\\\",\\n                \\\"select\\\": \\\"row\\\",\\n                \\\"label\\\": 3\\n              }\\n            },\\n            {\\n              \\\"type\\\": \\\"map\\\",\\n              \\\"from\\\": {\\n                \\\"type\\\": \\\"axis\\\",\\n                \\\"anchor\\\": \\\"lhs2\\\",\\n                \\\"select\\\": \\\"row\\\",\\n                \\\"label\\\": 6\\n              },\\n              \\\"to\\\": {\\n                \\\"type\\\": \\\"axis\\\",\\n                \\\"anchor\\\": \\\"rhs\\\",\\n                \\\"select\\\": \\\"row\\\",\\n                \\\"label\\\": 3\\n              }\\n            },\\n            {\\n              \\\"type\\\": \\\"map\\\",\\n              \\\"from\\\": {\\n                \\\"type\\\": \\\"axis\\\",\\n                \\\"anchor\\\": \\\"lhs\\\",\\n                \\\"select\\\": \\\"row\\\",\\n                \\\"label\\\": 1\\n              },\\n              \\\"to\\\": {\\n                \\\"type\\\": \\\"axis\\\",\\n                \\\"anchor\\\": \\\"rhs\\\",\\n                \\\"select\\\": \\\"row\\\",\\n                \\\"label\\\": 4\\n              }\\n            },\\n            {\\n              \\\"type\\\": \\\"map\\\",\\n              \\\"from\\\": {\\n                \\\"type\\\": \\\"axis\\\",\\n                \\\"anchor\\\": \\\"lhs2\\\",\\n                \\\"select\\\": \\\"row\\\",\\n                \\\"label\\\": 0\\n              },\\n              \\\"to\\\": {\\n                \\\"type\\\": \\\"axis\\\",\\n                \\\"anchor\\\": \\\"rhs\\\",\\n                \\\"select\\\": \\\"row\\\",\\n                \\\"label\\\": 4\\n              }\\n            },\\n            {\\n              \\\"type\\\": \\\"map\\\",\\n              \\\"from\\\": {\\n                \\\"type\\\": \\\"axis\\\",\\n                \\\"anchor\\\": \\\"lhs\\\",\\n                \\\"select\\\": \\\"row\\\",\\n                \\\"label\\\": 1\\n              },\\n              \\\"to\\\": {\\n                \\\"type\\\": \\\"axis\\\",\\n                \\\"anchor\\\": \\\"rhs\\\",\\n                \\\"select\\\": \\\"row\\\",\\n                \\\"label\\\": 5\\n              }\\n            },\\n            {\\n              \\\"type\\\": \\\"map\\\",\\n              \\\"from\\\": {\\n                \\\"type\\\": \\\"axis\\\",\\n                \\\"anchor\\\": \\\"lhs2\\\",\\n                \\\"select\\\": \\\"row\\\",\\n                \\\"label\\\": 2\\n              },\\n              \\\"to\\\": {\\n                \\\"type\\\": \\\"axis\\\",\\n                \\\"anchor\\\": \\\"rhs\\\",\\n                \\\"select\\\": \\\"row\\\",\\n                \\\"label\\\": 5\\n              }\\n            },\\n            {\\n              \\\"type\\\": \\\"map\\\",\\n              \\\"from\\\": {\\n                \\\"type\\\": \\\"axis\\\",\\n                \\\"anchor\\\": \\\"lhs\\\",\\n                \\\"select\\\": \\\"row\\\",\\n                \\\"label\\\": 1\\n              },\\n              \\\"to\\\": {\\n                \\\"type\\\": \\\"axis\\\",\\n                \\\"anchor\\\": \\\"rhs\\\",\\n                \\\"select\\\": \\\"row\\\",\\n                \\\"label\\\": 6\\n              }\\n            },\\n            {\\n              \\\"type\\\": \\\"map\\\",\\n              \\\"from\\\": {\\n                \\\"type\\\": \\\"axis\\\",\\n                \\\"anchor\\\": \\\"lhs2\\\",\\n                \\\"select\\\": \\\"row\\\",\\n                \\\"label\\\": 5\\n              },\\n              \\\"to\\\": {\\n                \\\"type\\\": \\\"axis\\\",\\n                \\\"anchor\\\": \\\"rhs\\\",\\n                \\\"select\\\": \\\"row\\\",\\n                \\\"label\\\": 6\\n              }\\n            },\\n            {\\n              \\\"type\\\": \\\"map\\\",\\n              \\\"from\\\": {\\n                \\\"type\\\": \\\"axis\\\",\\n                \\\"anchor\\\": \\\"lhs\\\",\\n                \\\"select\\\": \\\"row\\\",\\n                \\\"label\\\": 1\\n              },\\n              \\\"to\\\": {\\n                \\\"type\\\": \\\"axis\\\",\\n                \\\"anchor\\\": \\\"rhs\\\",\\n                \\\"select\\\": \\\"row\\\",\\n                \\\"label\\\": 7\\n              }\\n            },\\n            {\\n              \\\"type\\\": \\\"map\\\",\\n              \\\"from\\\": {\\n                \\\"type\\\": \\\"axis\\\",\\n                \\\"anchor\\\": \\\"lhs2\\\",\\n                \\\"select\\\": \\\"row\\\",\\n                \\\"label\\\": 6\\n              },\\n              \\\"to\\\": {\\n                \\\"type\\\": \\\"axis\\\",\\n                \\\"anchor\\\": \\\"rhs\\\",\\n                \\\"select\\\": \\\"row\\\",\\n                \\\"label\\\": 7\\n              }\\n            },\\n            {\\n              \\\"type\\\": \\\"map\\\",\\n              \\\"from\\\": {\\n                \\\"type\\\": \\\"axis\\\",\\n                \\\"anchor\\\": \\\"lhs\\\",\\n                \\\"select\\\": \\\"row\\\",\\n                \\\"label\\\": 3\\n              },\\n              \\\"to\\\": {\\n                \\\"type\\\": \\\"axis\\\",\\n                \\\"anchor\\\": \\\"rhs\\\",\\n                \\\"select\\\": \\\"row\\\",\\n                \\\"label\\\": 8\\n              }\\n            },\\n            {\\n              \\\"type\\\": \\\"map\\\",\\n              \\\"from\\\": {\\n                \\\"type\\\": \\\"axis\\\",\\n                \\\"anchor\\\": \\\"lhs2\\\",\\n                \\\"select\\\": \\\"row\\\",\\n                \\\"label\\\": 0\\n              },\\n              \\\"to\\\": {\\n                \\\"type\\\": \\\"axis\\\",\\n                \\\"anchor\\\": \\\"rhs\\\",\\n                \\\"select\\\": \\\"row\\\",\\n                \\\"label\\\": 8\\n              }\\n            },\\n            {\\n              \\\"type\\\": \\\"map\\\",\\n              \\\"from\\\": {\\n                \\\"type\\\": \\\"axis\\\",\\n                \\\"anchor\\\": \\\"lhs\\\",\\n                \\\"select\\\": \\\"row\\\",\\n                \\\"label\\\": 3\\n              },\\n              \\\"to\\\": {\\n                \\\"type\\\": \\\"axis\\\",\\n                \\\"anchor\\\": \\\"rhs\\\",\\n                \\\"select\\\": \\\"row\\\",\\n                \\\"label\\\": 9\\n              }\\n            },\\n            {\\n              \\\"type\\\": \\\"map\\\",\\n              \\\"from\\\": {\\n                \\\"type\\\": \\\"axis\\\",\\n                \\\"anchor\\\": \\\"lhs2\\\",\\n                \\\"select\\\": \\\"row\\\",\\n                \\\"label\\\": 2\\n              },\\n              \\\"to\\\": {\\n                \\\"type\\\": \\\"axis\\\",\\n                \\\"anchor\\\": \\\"rhs\\\",\\n                \\\"select\\\": \\\"row\\\",\\n                \\\"label\\\": 9\\n              }\\n            },\\n            {\\n              \\\"type\\\": \\\"map\\\",\\n              \\\"from\\\": {\\n                \\\"type\\\": \\\"axis\\\",\\n                \\\"anchor\\\": \\\"lhs\\\",\\n                \\\"select\\\": \\\"row\\\",\\n                \\\"label\\\": 3\\n              },\\n              \\\"to\\\": {\\n                \\\"type\\\": \\\"axis\\\",\\n                \\\"anchor\\\": \\\"rhs\\\",\\n                \\\"select\\\": \\\"row\\\",\\n                \\\"label\\\": 10\\n              }\\n            },\\n            {\\n              \\\"type\\\": \\\"map\\\",\\n              \\\"from\\\": {\\n                \\\"type\\\": \\\"axis\\\",\\n                \\\"anchor\\\": \\\"lhs2\\\",\\n                \\\"select\\\": \\\"row\\\",\\n                \\\"label\\\": 5\\n              },\\n              \\\"to\\\": {\\n                \\\"type\\\": \\\"axis\\\",\\n                \\\"anchor\\\": \\\"rhs\\\",\\n                \\\"select\\\": \\\"row\\\",\\n                \\\"label\\\": 10\\n              }\\n            },\\n            {\\n              \\\"type\\\": \\\"map\\\",\\n              \\\"from\\\": {\\n                \\\"type\\\": \\\"axis\\\",\\n                \\\"anchor\\\": \\\"lhs\\\",\\n                \\\"select\\\": \\\"row\\\",\\n                \\\"label\\\": 3\\n              },\\n              \\\"to\\\": {\\n                \\\"type\\\": \\\"axis\\\",\\n                \\\"anchor\\\": \\\"rhs\\\",\\n                \\\"select\\\": \\\"row\\\",\\n                \\\"label\\\": 11\\n              }\\n            },\\n            {\\n              \\\"type\\\": \\\"map\\\",\\n              \\\"from\\\": {\\n                \\\"type\\\": \\\"axis\\\",\\n                \\\"anchor\\\": \\\"lhs2\\\",\\n                \\\"select\\\": \\\"row\\\",\\n                \\\"label\\\": 6\\n              },\\n              \\\"to\\\": {\\n                \\\"type\\\": \\\"axis\\\",\\n                \\\"anchor\\\": \\\"rhs\\\",\\n                \\\"select\\\": \\\"row\\\",\\n                \\\"label\\\": 11\\n              }\\n            }\\n          ]\\n        },\\n        {\\n          \\\"type\\\": \\\"map_set\\\",\\n          \\\"maps\\\": [\\n            {\\n              \\\"type\\\": \\\"map\\\",\\n              \\\"from\\\": {\\n                \\\"type\\\": \\\"axis\\\",\\n                \\\"anchor\\\": \\\"lhs\\\",\\n                \\\"select\\\": \\\"row\\\",\\n                \\\"label\\\": 2\\n              },\\n              \\\"to\\\": {\\n                \\\"type\\\": \\\"axis\\\",\\n                \\\"anchor\\\": \\\"rhs\\\",\\n                \\\"select\\\": \\\"row\\\",\\n                \\\"label\\\": 12\\n              }\\n            },\\n            {\\n              \\\"type\\\": \\\"map\\\",\\n              \\\"from\\\": {\\n                \\\"type\\\": \\\"axis\\\",\\n                \\\"anchor\\\": \\\"lhs2\\\",\\n                \\\"select\\\": \\\"row\\\",\\n                \\\"label\\\": 4\\n              },\\n              \\\"to\\\": {\\n                \\\"type\\\": \\\"axis\\\",\\n                \\\"anchor\\\": \\\"rhs\\\",\\n                \\\"select\\\": \\\"row\\\",\\n                \\\"label\\\": 12\\n              }\\n            }\\n          ]\\n        }\\n      ],\\n      \\\"data\\\": {\\n        \\\"lhs\\\": {\\n          \\\"type\\\": \\\"DataFrame\\\",\\n          \\\"columns\\\": {\\n            \\\"names\\\": [\\n              null\\n            ],\\n            \\\"labels\\\": [\\n              \\\"city\\\",\\n              \\\"state\\\",\\n              \\\"today_high_temp\\\"\\n            ]\\n          },\\n          \\\"index\\\": {\\n            \\\"names\\\": [\\n              null\\n            ],\\n            \\\"labels\\\": [\\n              0,\\n              1,\\n              2,\\n              3\\n            ]\\n          },\\n          \\\"data\\\": [\\n            [\\n              \\\"La Jolla\\\",\\n              \\\"California\\\",\\n              \\\"79\\\"\\n            ],\\n            [\\n              \\\"San Diego\\\",\\n              \\\"California\\\",\\n              \\\"83\\\"\\n            ],\\n            [\\n              \\\"Austin\\\",\\n              \\\"Texas\\\",\\n              \\\"87\\\"\\n            ],\\n            [\\n              \\\"Los Angeles\\\",\\n              \\\"California\\\",\\n              \\\"87\\\"\\n            ]\\n          ]\\n        },\\n        \\\"lhs2\\\": {\\n          \\\"type\\\": \\\"DataFrame\\\",\\n          \\\"columns\\\": {\\n            \\\"names\\\": [\\n              null\\n            ],\\n            \\\"labels\\\": [\\n              \\\"name\\\",\\n              \\\"city\\\",\\n              \\\"state\\\",\\n              \\\"graduation_rate\\\"\\n            ]\\n          },\\n          \\\"index\\\": {\\n            \\\"names\\\": [\\n              null\\n            ],\\n            \\\"labels\\\": [\\n              0,\\n              1,\\n              2,\\n              3,\\n              4,\\n              5,\\n              6\\n            ]\\n          },\\n          \\\"data\\\": [\\n            [\\n              \\\"UCSD\\\",\\n              \\\"La Jolla\\\",\\n              \\\"California\\\",\\n              0.87\\n            ],\\n            [\\n              \\\"University of Chicago\\\",\\n              \\\"Chicago\\\",\\n              \\\"Illinois\\\",\\n              0.94\\n            ],\\n            [\\n              \\\"University of San Diego\\\",\\n              \\\"San Diego\\\",\\n              \\\"California\\\",\\n              0.78\\n            ],\\n            [\\n              \\\"Johns Hopkins University\\\",\\n              \\\"Baltimore\\\",\\n              \\\"Maryland\\\",\\n              0.92\\n            ],\\n            [\\n              \\\"UT Austin\\\",\\n              \\\"Austin\\\",\\n              \\\"Texas\\\",\\n              0.81\\n            ],\\n            [\\n              \\\"SDSU\\\",\\n              \\\"San Diego\\\",\\n              \\\"California\\\",\\n              0.83\\n            ],\\n            [\\n              \\\"UCLA\\\",\\n              \\\"Los Angeles\\\",\\n              \\\"California\\\",\\n              0.91\\n            ]\\n          ]\\n        },\\n        \\\"rhs\\\": {\\n          \\\"type\\\": \\\"DataFrame\\\",\\n          \\\"columns\\\": {\\n            \\\"names\\\": [\\n              null\\n            ],\\n            \\\"labels\\\": [\\n              \\\"city_x\\\",\\n              \\\"state\\\",\\n              \\\"today_high_temp\\\",\\n              \\\"name\\\",\\n              \\\"city_y\\\",\\n              \\\"graduation_rate\\\"\\n            ]\\n          },\\n          \\\"index\\\": {\\n            \\\"names\\\": [\\n              null\\n            ],\\n            \\\"labels\\\": [\\n              0,\\n              1,\\n              2,\\n              3,\\n              4,\\n              5,\\n              6,\\n              7,\\n              8,\\n              9,\\n              10,\\n              11,\\n              12\\n            ]\\n          },\\n          \\\"data\\\": [\\n            [\\n              \\\"La Jolla\\\",\\n              \\\"California\\\",\\n              \\\"79\\\",\\n              \\\"UCSD\\\",\\n              \\\"La Jolla\\\",\\n              0.87\\n            ],\\n            [\\n              \\\"La Jolla\\\",\\n              \\\"California\\\",\\n              \\\"79\\\",\\n              \\\"University of San Diego\\\",\\n              \\\"San Diego\\\",\\n              0.78\\n            ],\\n            [\\n              \\\"La Jolla\\\",\\n              \\\"California\\\",\\n              \\\"79\\\",\\n              \\\"SDSU\\\",\\n              \\\"San Diego\\\",\\n              0.83\\n            ],\\n            [\\n              \\\"La Jolla\\\",\\n              \\\"California\\\",\\n              \\\"79\\\",\\n              \\\"UCLA\\\",\\n              \\\"Los Angeles\\\",\\n              0.91\\n            ],\\n            [\\n              \\\"San Diego\\\",\\n              \\\"California\\\",\\n              \\\"83\\\",\\n              \\\"UCSD\\\",\\n              \\\"La Jolla\\\",\\n              0.87\\n            ],\\n            [\\n              \\\"San Diego\\\",\\n              \\\"California\\\",\\n              \\\"83\\\",\\n              \\\"University of San Diego\\\",\\n              \\\"San Diego\\\",\\n              0.78\\n            ],\\n            [\\n              \\\"San Diego\\\",\\n              \\\"California\\\",\\n              \\\"83\\\",\\n              \\\"SDSU\\\",\\n              \\\"San Diego\\\",\\n              0.83\\n            ],\\n            [\\n              \\\"San Diego\\\",\\n              \\\"California\\\",\\n              \\\"83\\\",\\n              \\\"UCLA\\\",\\n              \\\"Los Angeles\\\",\\n              0.91\\n            ],\\n            [\\n              \\\"Los Angeles\\\",\\n              \\\"California\\\",\\n              \\\"87\\\",\\n              \\\"UCSD\\\",\\n              \\\"La Jolla\\\",\\n              0.87\\n            ],\\n            [\\n              \\\"Los Angeles\\\",\\n              \\\"California\\\",\\n              \\\"87\\\",\\n              \\\"University of San Diego\\\",\\n              \\\"San Diego\\\",\\n              0.78\\n            ],\\n            [\\n              \\\"Los Angeles\\\",\\n              \\\"California\\\",\\n              \\\"87\\\",\\n              \\\"SDSU\\\",\\n              \\\"San Diego\\\",\\n              0.83\\n            ],\\n            [\\n              \\\"Los Angeles\\\",\\n              \\\"California\\\",\\n              \\\"87\\\",\\n              \\\"UCLA\\\",\\n              \\\"Los Angeles\\\",\\n              0.91\\n            ],\\n            [\\n              \\\"Austin\\\",\\n              \\\"Texas\\\",\\n              \\\"87\\\",\\n              \\\"UT Austin\\\",\\n              \\\"Austin\\\",\\n              0.81\\n            ]\\n          ]\\n        }\\n      }\\n    }\\n  ]\\n}\", {\"nohover\": true, \"maxDisplayRows\": 7, \"maxDisplayCols\": 5, \"colorPalette\": [\"#e41a1c\", \"#377eb8\", \"#4daf4a\", \"#984ea3\", \"#ff7f00\", \"#a65628\", \"#f781bf\", \"#999999\"]});\n",
       "</script>\n"
      ],
      "text/plain": [
       "<IPython.core.display.HTML object>"
      ]
     },
     "metadata": {},
     "output_type": "display_data"
    }
   ],
   "source": [
    "%%pt\n",
    "\n",
    "# Why?\n",
    "\n",
    "nice_weather_cities.merge(schools, on='state')"
   ]
  },
  {
   "cell_type": "markdown",
   "metadata": {
    "slideshow": {
     "slide_type": "slide"
    }
   },
   "source": [
    "## Summary"
   ]
  },
  {
   "cell_type": "markdown",
   "metadata": {
    "slideshow": {
     "slide_type": "slide"
    }
   },
   "source": [
    "### Summary\n",
    "\n",
    "- To create groups within a group, pass a list to `.groupby`.\n",
    "    - The result has one row for every unique combination of elements in the specified columns.\n",
    "- To combine information from multiple DataFrames, use `.merge`.\n",
    "    - When using `.merge`, Python searches for a match between a specified column in each DataFrame and combines the rows with a match.\n",
    "    - No matches = row disappears!\n",
    "- **Next time**: if-statements and loops."
   ]
  }
 ],
 "metadata": {
  "kernelspec": {
   "display_name": "Python 3 (ipykernel)",
   "language": "python",
   "name": "python3"
  },
  "language_info": {
   "codemirror_mode": {
    "name": "ipython",
    "version": 3
   },
   "file_extension": ".py",
   "mimetype": "text/x-python",
   "name": "python",
   "nbconvert_exporter": "python",
   "pygments_lexer": "ipython3",
   "version": "3.8.5"
  },
  "livereveal": {
   "scroll": true,
   "transition": "none"
  }
 },
 "nbformat": 4,
 "nbformat_minor": 2
}
