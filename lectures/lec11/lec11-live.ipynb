{
 "cells": [
  {
   "cell_type": "code",
   "execution_count": 1,
   "metadata": {
    "slideshow": {
     "slide_type": "skip"
    }
   },
   "outputs": [
    {
     "data": {
      "text/html": [
       "\n",
       "<script type=\"text/javascript\" src=\"https://pandastutor.com/build/wsembed.bundle.2022-07-07-release.js\"></script>\n",
       "<script>\n",
       "console.log(\"initializing pandas_tutor js\")\n",
       "\n",
       "function drawWsv(viz_id, spec, options) {\n",
       "  if (typeof createWsvFromPandasTrace === 'undefined') {\n",
       "    setTimeout(() => drawWsv(viz_id, spec, options), 2000) // retry in 2 seconds\n",
       "    return\n",
       "  }\n",
       "  createWsvFromPandasTrace(viz_id, spec, options)\n",
       "}\n",
       "</script>\n"
      ],
      "text/plain": [
       "<IPython.core.display.HTML object>"
      ]
     },
     "metadata": {},
     "output_type": "display_data"
    }
   ],
   "source": [
    "# Set up packages for lecture. Don't worry about understanding this code, but\n",
    "# make sure to run it if you're following along.\n",
    "import numpy as np\n",
    "import babypandas as bpd\n",
    "import pandas as pd\n",
    "from matplotlib_inline.backend_inline import set_matplotlib_formats\n",
    "import matplotlib.pyplot as plt\n",
    "%reload_ext pandas_tutor\n",
    "%set_pandas_tutor_options {'projectorMode': True}\n",
    "set_matplotlib_formats(\"svg\")\n",
    "plt.style.use('fivethirtyeight')\n",
    "\n",
    "np.set_printoptions(threshold=20, precision=2, suppress=True)\n",
    "pd.set_option(\"display.max_rows\", 7)\n",
    "pd.set_option(\"display.max_columns\", 8)\n",
    "pd.set_option(\"display.precision\", 2)"
   ]
  },
  {
   "cell_type": "markdown",
   "metadata": {
    "slideshow": {
     "slide_type": "slide"
    }
   },
   "source": [
    "# Lecture 11 – Booleans and Conditionals, Iteration\n",
    "\n",
    "## DSC 10, Summer 2022"
   ]
  },
  {
   "cell_type": "markdown",
   "metadata": {
    "slideshow": {
     "slide_type": "slide"
    }
   },
   "source": [
    "### Announcements\n",
    "\n",
    "- Homework 3 is due **tomorrow at 11:59pm.**\n",
    "- Lab 4 is due **Tues 4/26 at 11:59pm**.\n",
    "- Midterm Project will be released soon and will be due **Sat 8/6 at 11:59pm**.\n",
    "    - See [the spreadsheet for finding a partner][pairs].\n",
    "    - If you work with a partner, you **must** follow these [pair programming guidelines](https://dsc10.com/pair-programming).\n",
    "    - **Start early and come to office hours!**\n",
    "\n",
    "\n",
    "[pairs]: https://docs.google.com/spreadsheets/d/1bikGY4L2mvnlEY3Gux1A3OqomRDh7Z00R___CRJZj-A/edit#gid=176865528"
   ]
  },
  {
   "cell_type": "markdown",
   "metadata": {
    "slideshow": {
     "slide_type": "slide"
    }
   },
   "source": [
    "### Midterm Exam Details\n",
    "\n",
    "- The midterm exam will take place on Fri, July 29 from 11:00-11:50am in class.\n",
    "- You can bring one 8.5\" by 11\" page of handwritten notes (double-sided is ok).\n",
    "- We'll also provide [the DSC 10 reference sheet][ref] during the exam.\n",
    "- Covers lectures 1-12.\n",
    "- Multiple-choice + fill-in-the-blank.\n",
    "    - You'll have to write short snippets of code, not long ones.\n",
    "- How do I study?\n",
    "    - Take past exams and treat them like real ones!\n",
    "\n",
    "[ref]: https://drive.google.com/file/d/1mQApk9Ovdi-QVqMgnNcq5dZcWucUKoG-/view"
   ]
  },
  {
   "cell_type": "markdown",
   "metadata": {
    "slideshow": {
     "slide_type": "slide"
    }
   },
   "source": [
    "### Agenda\n",
    "\n",
    "- Booleans.\n",
    "- Conditionals (i.e. `if`-statements).\n",
    "- Iteration (i.e. `for`-loops).\n",
    "\n",
    "**Note:** \n",
    "- We've finished introducing new DataFrame manipulation techniques. \n",
    "- The content we're covering today will become more relevant as we start to cover more ideas in statistics (next week)."
   ]
  },
  {
   "cell_type": "markdown",
   "metadata": {
    "slideshow": {
     "slide_type": "slide"
    }
   },
   "source": [
    "## Booleans\n",
    "\n",
    "- `bool` is a data type in Python, just like `int`, `float`, and `str`. \n",
    "    - It stands for \"Boolean\", named after George Boole, an early mathematician.\n",
    "- There are only two possible Boolean values: `True` or `False`.\n",
    "    - Yes or no.\n",
    "    - On or off.\n",
    "    - 1 or 0.\n",
    "- There are three operators that allow us to perform arithmetic with Booleans – `not`, `and`, and `or`.\n",
    "- Comparisons result in Boolean values."
   ]
  },
  {
   "cell_type": "code",
   "execution_count": null,
   "metadata": {},
   "outputs": [],
   "source": []
  },
  {
   "cell_type": "code",
   "execution_count": null,
   "metadata": {},
   "outputs": [],
   "source": []
  },
  {
   "cell_type": "code",
   "execution_count": null,
   "metadata": {},
   "outputs": [],
   "source": []
  },
  {
   "cell_type": "markdown",
   "metadata": {
    "slideshow": {
     "slide_type": "slide"
    }
   },
   "source": [
    "### The `not` operator\n",
    "\n",
    "Flips a `True` to a `False`, and a `False` to a `True`."
   ]
  },
  {
   "cell_type": "code",
   "execution_count": null,
   "metadata": {},
   "outputs": [],
   "source": []
  },
  {
   "cell_type": "markdown",
   "metadata": {
    "slideshow": {
     "slide_type": "slide"
    }
   },
   "source": [
    "### The `and` operator\n",
    "\n",
    "- Placed between two `bool`s.\n",
    "- `True` if **both** are true, otherwise `False`."
   ]
  },
  {
   "cell_type": "code",
   "execution_count": null,
   "metadata": {},
   "outputs": [],
   "source": []
  },
  {
   "cell_type": "code",
   "execution_count": null,
   "metadata": {},
   "outputs": [],
   "source": []
  },
  {
   "cell_type": "markdown",
   "metadata": {
    "slideshow": {
     "slide_type": "slide"
    }
   },
   "source": [
    "### The `or` operator\n",
    "\n",
    "- Placed between two `bool`s.\n",
    "- `True` if **at least one** of them is `True`, otherwise `False`."
   ]
  },
  {
   "cell_type": "code",
   "execution_count": null,
   "metadata": {},
   "outputs": [],
   "source": []
  },
  {
   "cell_type": "code",
   "execution_count": null,
   "metadata": {},
   "outputs": [],
   "source": []
  },
  {
   "cell_type": "code",
   "execution_count": null,
   "metadata": {},
   "outputs": [],
   "source": []
  },
  {
   "cell_type": "markdown",
   "metadata": {
    "slideshow": {
     "slide_type": "slide"
    }
   },
   "source": [
    "### Comparisons and Boolean operators\n",
    "\n",
    "- Remember, comparisons result in Boolean values.\n",
    "- As usual, use **(parentheses)** to make expressions more clear.\n",
    "    - By default, the order of operations is `not`, `and`, `or`."
   ]
  },
  {
   "cell_type": "code",
   "execution_count": null,
   "metadata": {},
   "outputs": [],
   "source": []
  },
  {
   "cell_type": "code",
   "execution_count": null,
   "metadata": {},
   "outputs": [],
   "source": []
  },
  {
   "cell_type": "code",
   "execution_count": null,
   "metadata": {},
   "outputs": [],
   "source": []
  },
  {
   "cell_type": "code",
   "execution_count": null,
   "metadata": {},
   "outputs": [],
   "source": []
  },
  {
   "cell_type": "markdown",
   "metadata": {
    "slideshow": {
     "slide_type": "slide"
    }
   },
   "source": [
    "### Booleans can be tricky!"
   ]
  },
  {
   "cell_type": "code",
   "execution_count": null,
   "metadata": {},
   "outputs": [],
   "source": [
    "a = True\n",
    "b = False\n",
    "\n",
    "not (a and b)"
   ]
  },
  {
   "cell_type": "code",
   "execution_count": null,
   "metadata": {},
   "outputs": [],
   "source": [
    "(not a) and (not b)"
   ]
  },
  {
   "cell_type": "markdown",
   "metadata": {
    "slideshow": {
     "slide_type": "slide"
    }
   },
   "source": [
    "### Note: `&` and `|` vs. `and` and `or`\n",
    "\n",
    "When performing Boolean arithmetic...\n",
    "- Use the `&` and `|` operators between two **Series**. Arithmetic will be done in an elementwise fashion (i.e. separately for each row).\n",
    "    - This is relevant when writing DataFrame queries, e.g. `df[(df.get('x') == 2) & (df.get('y') != 'ucsd')]`.\n",
    "- Use the `and` and `or` operators between two **individual** Booleans.\n",
    "    - e.g. `(x > 2) and (y != 'ucsd')`."
   ]
  },
  {
   "cell_type": "markdown",
   "metadata": {
    "slideshow": {
     "slide_type": "slide"
    }
   },
   "source": [
    "### You Try\n",
    "\n",
    "Suppose we define `a = True` and `b = True`. What does the following expression evaluate to?\n",
    "\n",
    "```py\n",
    "not (((not a) and b) or ((not b) or a))\n",
    "```"
   ]
  },
  {
   "cell_type": "code",
   "execution_count": null,
   "metadata": {},
   "outputs": [],
   "source": []
  },
  {
   "cell_type": "markdown",
   "metadata": {
    "slideshow": {
     "slide_type": "slide"
    }
   },
   "source": [
    "## Conditionals"
   ]
  },
  {
   "cell_type": "markdown",
   "metadata": {
    "slideshow": {
     "slide_type": "slide"
    }
   },
   "source": [
    "### `if`-statements\n",
    "\n",
    "- Often, we'll want to run a block of code only if a particular conditional expression is `True`.\n",
    "- The syntax for this is as follows (don't forget the colon!):\n",
    "\n",
    "```py\n",
    "if <condition>:\n",
    "    <body>\n",
    "```\n",
    "            \n",
    "- Indentation matters!"
   ]
  },
  {
   "cell_type": "code",
   "execution_count": null,
   "metadata": {},
   "outputs": [],
   "source": [
    "is_sunny = True"
   ]
  },
  {
   "cell_type": "markdown",
   "metadata": {
    "slideshow": {
     "slide_type": "slide"
    }
   },
   "source": [
    "### `else`\n",
    "\n",
    "`else`: Do something else if the specified condition is `False`."
   ]
  },
  {
   "cell_type": "code",
   "execution_count": null,
   "metadata": {},
   "outputs": [],
   "source": [
    "is_sunny = False"
   ]
  },
  {
   "cell_type": "markdown",
   "metadata": {
    "slideshow": {
     "slide_type": "slide"
    }
   },
   "source": [
    "### `elif`\n",
    "\n",
    "- What if we want to check more than one condition? Use `elif`.\n",
    "- `elif`: if the specified condition is `False`, check the next condition.\n",
    "- If that condition is `False`, check the next condition, and so on, until we see a `True` condition.\n",
    "    - After seeing a `True` condition, it evaluates the indented code and stops.\n",
    "- If none of the conditions are `True`, the `else` body is run."
   ]
  },
  {
   "cell_type": "code",
   "execution_count": null,
   "metadata": {},
   "outputs": [],
   "source": [
    "is_raining = False\n",
    "is_warm = True\n",
    "is_sunny = True"
   ]
  },
  {
   "cell_type": "code",
   "execution_count": null,
   "metadata": {},
   "outputs": [],
   "source": [
    "# What happens if you use `if` instead of `elif`?\n"
   ]
  },
  {
   "cell_type": "markdown",
   "metadata": {
    "slideshow": {
     "slide_type": "slide"
    }
   },
   "source": [
    "### Example: sign function\n",
    "\n",
    "Below, complete the implementation of the function `sign`, which takes a single number (`x`) and returns `'positive'` if the number is positive, `'negative'` if the number is negative, and `'neither'` if it is neither."
   ]
  },
  {
   "cell_type": "code",
   "execution_count": null,
   "metadata": {},
   "outputs": [],
   "source": [
    "def sign(x):\n",
    "    ..."
   ]
  },
  {
   "cell_type": "code",
   "execution_count": null,
   "metadata": {},
   "outputs": [],
   "source": []
  },
  {
   "cell_type": "code",
   "execution_count": null,
   "metadata": {},
   "outputs": [],
   "source": []
  },
  {
   "cell_type": "markdown",
   "metadata": {
    "slideshow": {
     "slide_type": "slide"
    }
   },
   "source": [
    "### You Try: percentage to letter grade\n",
    "\n",
    "Below, complete the implementation of the function, `grade_converter`, which takes in a percentage grade (`grade`) and returns the corresponding letter grade, according to this table:\n",
    "\n",
    "| Letter | Range |\n",
    "| --- | --- |\n",
    "| A | [90, 100] |\n",
    "| B | [80, 90) |\n",
    "| C | [70, 80) |\n",
    "| D | [60, 70) |\n",
    "| F | [0, 60)\n",
    "\n",
    "Your function should work on these examples:\n",
    "\n",
    "```py\n",
    ">>> grade_converter(84)\n",
    "'B'\n",
    "\n",
    ">>> grade_converter(60)\n",
    "'D'\n",
    "```"
   ]
  },
  {
   "cell_type": "code",
   "execution_count": null,
   "metadata": {},
   "outputs": [],
   "source": [
    "def grade_converter(grade):\n",
    "    ..."
   ]
  },
  {
   "cell_type": "code",
   "execution_count": null,
   "metadata": {},
   "outputs": [],
   "source": []
  },
  {
   "cell_type": "markdown",
   "metadata": {
    "slideshow": {
     "slide_type": "slide"
    }
   },
   "source": [
    "### You Try: mystery\n",
    "\n",
    "```py\n",
    "\n",
    "def mystery(a, b):\n",
    "    if (a + b > 4) and (b > 0):\n",
    "        return 'bear'\n",
    "    elif (a * b >= 4) or (b < 0):\n",
    "        return 'triton'\n",
    "    else:\n",
    "        return 'bruin'\n",
    "```\n",
    "\n",
    "Without running code:\n",
    "\n",
    "1. What does `mystery(2, 2)` return?\n",
    "1. Find inputs so that calling `mystery` will produce `'bruin'`."
   ]
  },
  {
   "cell_type": "code",
   "execution_count": null,
   "metadata": {
    "slideshow": {
     "slide_type": "slide"
    }
   },
   "outputs": [],
   "source": [
    "def mystery(a, b):\n",
    "    if (a + b > 4) and (b > 0):\n",
    "        return 'bear'\n",
    "    elif (a * b >= 4) or (b < 0):\n",
    "        return 'triton'\n",
    "    else:\n",
    "        return 'bruin'"
   ]
  },
  {
   "cell_type": "code",
   "execution_count": null,
   "metadata": {},
   "outputs": [],
   "source": [
    "mystery(2, 2)"
   ]
  },
  {
   "cell_type": "code",
   "execution_count": null,
   "metadata": {},
   "outputs": [],
   "source": []
  },
  {
   "cell_type": "markdown",
   "metadata": {
    "slideshow": {
     "slide_type": "slide"
    }
   },
   "source": [
    "## Iteration"
   ]
  },
  {
   "cell_type": "markdown",
   "metadata": {
    "slideshow": {
     "slide_type": "slide"
    }
   },
   "source": [
    "### `for`-loops"
   ]
  },
  {
   "cell_type": "code",
   "execution_count": null,
   "metadata": {},
   "outputs": [],
   "source": [
    "import time\n",
    "\n",
    "print(\"Launching in...\")\n",
    "\n",
    "for x in [10, 9, 8, 7, 6, 5, 4, 3, 2, 1]:\n",
    "    print(\"t-minus\", x)\n",
    "    time.sleep(0.5) # Pauses for half a second\n",
    "    \n",
    "print(\"Blast off! 🚀\")"
   ]
  },
  {
   "cell_type": "markdown",
   "metadata": {
    "slideshow": {
     "slide_type": "slide"
    }
   },
   "source": [
    "### `for`-loops\n",
    "\n",
    "- `for`-loops repeat specified code for every value in a sequence.\n",
    "    - Lists and arrays are sequences.\n",
    "    - \"Iterate\" means \"repeat\".\n",
    "- `for`-loop syntax (don't forget the colon!):\n",
    "\n",
    "```py\n",
    "for <loop variable> in <sequence>:\n",
    "    <body>\n",
    "```\n",
    "\n",
    "- Indentation matters!\n"
   ]
  },
  {
   "cell_type": "markdown",
   "metadata": {
    "slideshow": {
     "slide_type": "slide"
    }
   },
   "source": [
    "### Example: squares"
   ]
  },
  {
   "cell_type": "code",
   "execution_count": null,
   "metadata": {},
   "outputs": [],
   "source": []
  },
  {
   "cell_type": "code",
   "execution_count": null,
   "metadata": {},
   "outputs": [],
   "source": []
  },
  {
   "cell_type": "markdown",
   "metadata": {
    "slideshow": {
     "slide_type": "fragment"
    }
   },
   "source": [
    "The line `print(num, 'squared is', num ** 2)` is run four times:\n",
    "- On the first iteration, `num` is 4.\n",
    "- On the second iteration, `num` is 2.\n",
    "- On the third iteration, `num` is 1.\n",
    "- On the fourth iteration, `num` is 3.\n",
    "\n",
    "This happens, even though there is no `num = ` anywhere."
   ]
  },
  {
   "cell_type": "markdown",
   "metadata": {
    "slideshow": {
     "slide_type": "slide"
    }
   },
   "source": [
    "### You try: colleges\n",
    "\n",
    "Fill in the `for` loop so that the cell displays:\n",
    "\n",
    "```\n",
    "Revelle College\n",
    "John Muir College\n",
    "Thurgood Marshall College\n",
    "Earl Warren College\n",
    "Eleanor Roosevelt College\n",
    "Sixth College\n",
    "Seventh College\n",
    "```"
   ]
  },
  {
   "cell_type": "code",
   "execution_count": null,
   "metadata": {},
   "outputs": [],
   "source": [
    "colleges = np.array(['Revelle', 'John Muir', 'Thurgood Marshall', \n",
    "            'Earl Warren', 'Eleanor Roosevelt', 'Sixth', 'Seventh'])"
   ]
  },
  {
   "cell_type": "code",
   "execution_count": null,
   "metadata": {},
   "outputs": [],
   "source": [
    "for college in colleges:\n",
    "    ..."
   ]
  },
  {
   "cell_type": "markdown",
   "metadata": {
    "slideshow": {
     "slide_type": "slide"
    }
   },
   "source": [
    "### Ranges\n",
    "\n",
    "- Recall, each element of a list/array has a numerical position.\n",
    "    - The position of the first element is 0, the position of the second element is 1, etc.\n",
    "- We can write a `for`-loop that accesses each element in an array by using its position.\n",
    "- `np.arange` will come in handy."
   ]
  },
  {
   "cell_type": "code",
   "execution_count": null,
   "metadata": {},
   "outputs": [],
   "source": [
    "colleges"
   ]
  },
  {
   "cell_type": "code",
   "execution_count": null,
   "metadata": {},
   "outputs": [],
   "source": []
  },
  {
   "cell_type": "code",
   "execution_count": null,
   "metadata": {},
   "outputs": [],
   "source": []
  },
  {
   "cell_type": "code",
   "execution_count": null,
   "metadata": {},
   "outputs": [],
   "source": []
  },
  {
   "cell_type": "markdown",
   "metadata": {
    "slideshow": {
     "slide_type": "slide"
    }
   },
   "source": [
    "### You try: colleges round 2!\n",
    "\n",
    "Fill in the `for` loop so that the cell displays:\n",
    "\n",
    "```\n",
    "Revelle College\n",
    "John Muir College\n",
    "Thurgood Marshall College\n",
    "Earl Warren College\n",
    "Eleanor Roosevelt College\n",
    "Sixth College\n",
    "Seventh College\n",
    "```"
   ]
  },
  {
   "cell_type": "code",
   "execution_count": null,
   "metadata": {},
   "outputs": [],
   "source": [
    "colleges = np.array(['Revelle', 'John Muir', 'Thurgood Marshall', \n",
    "            'Earl Warren', 'Eleanor Roosevelt', 'Sixth', 'Seventh'])"
   ]
  },
  {
   "cell_type": "code",
   "execution_count": null,
   "metadata": {},
   "outputs": [],
   "source": [
    "# Don't edit the for loop line, just the body.\n",
    "for i in np.arange(len(colleges)):\n",
    "    ..."
   ]
  },
  {
   "cell_type": "markdown",
   "metadata": {
    "slideshow": {
     "slide_type": "slide"
    }
   },
   "source": [
    "### Building an array by iterating\n",
    "\n",
    "- **Question: How many letters are in each college's name?**\n",
    "- We can figure it out one college at a time, but we want to save our results!\n",
    "- One idea:\n",
    "    - Create an empty array.\n",
    "    - For each college, figure out the length of its name, and store this length in the array that we created.\n",
    "        - Use `np.append`, which appends (adds) an element to the end of an array.\n",
    "    - At the end, the empty array we created will contain the lengths of each college's name.\n",
    "- We will follow this pattern **very often** when generating data and running experiments or simulations. \n",
    "    - It is called the **accumulator pattern**, because the empty array that we created \"accumulates\" the values we want."
   ]
  },
  {
   "cell_type": "code",
   "execution_count": null,
   "metadata": {
    "slideshow": {
     "slide_type": "slide"
    }
   },
   "outputs": [],
   "source": [
    "colleges"
   ]
  },
  {
   "cell_type": "code",
   "execution_count": null,
   "metadata": {},
   "outputs": [],
   "source": []
  },
  {
   "cell_type": "code",
   "execution_count": null,
   "metadata": {
    "slideshow": {
     "slide_type": "slide"
    }
   },
   "outputs": [],
   "source": [
    "df = bpd.DataFrame().assign(colleges=colleges)\n",
    "df"
   ]
  },
  {
   "cell_type": "code",
   "execution_count": null,
   "metadata": {},
   "outputs": [],
   "source": []
  },
  {
   "cell_type": "markdown",
   "metadata": {
    "slideshow": {
     "slide_type": "slide"
    }
   },
   "source": [
    "### Working with strings\n",
    "\n",
    "String are sequences, so we can iterate over them, too!"
   ]
  },
  {
   "cell_type": "code",
   "execution_count": null,
   "metadata": {},
   "outputs": [],
   "source": []
  },
  {
   "cell_type": "code",
   "execution_count": null,
   "metadata": {},
   "outputs": [],
   "source": []
  },
  {
   "cell_type": "markdown",
   "metadata": {
    "slideshow": {
     "slide_type": "slide"
    }
   },
   "source": [
    "### You try: vowel count\n",
    "\n",
    "Below, complete the implementation of the function `vowel_count`, which returns the number of vowels in the input string `s` (including repeats). Example behavior is shown below.\n",
    "\n",
    "```py\n",
    ">>> vowel_count('king triton')\n",
    "3\n",
    "\n",
    ">>> vowel_count('i go to uc san diego')\n",
    "8\n",
    "```"
   ]
  },
  {
   "cell_type": "code",
   "execution_count": null,
   "metadata": {},
   "outputs": [],
   "source": [
    "def vowel_count(s):\n",
    "    ..."
   ]
  },
  {
   "cell_type": "code",
   "execution_count": null,
   "metadata": {},
   "outputs": [],
   "source": []
  },
  {
   "cell_type": "code",
   "execution_count": null,
   "metadata": {},
   "outputs": [],
   "source": []
  },
  {
   "cell_type": "markdown",
   "metadata": {
    "slideshow": {
     "slide_type": "slide"
    }
   },
   "source": [
    "### Reflecting on the previous example\n",
    "\n",
    "- The implementation of `vowel_count` used the accumulator pattern.\n",
    "- More generally: if we want to keep track of the number of times something occurred, we can initialize a variable to be 0 and add to it in our `for`-loop.\n",
    "    - See Question 4 in Lab 4.\n",
    "- The vast majority of `for`-loops you write in DSC 10 will be similar to this one.\n",
    "    - Do **not** use `for`-loops to perform mathematical operations on every element of an array or Series; use built-in array/Series methods for that.\n",
    "    - We will see **lots** of `for`-loops in the second half of the quarter."
   ]
  },
  {
   "cell_type": "markdown",
   "metadata": {
    "slideshow": {
     "slide_type": "slide"
    }
   },
   "source": [
    "## Summary"
   ]
  },
  {
   "cell_type": "markdown",
   "metadata": {
    "slideshow": {
     "slide_type": "slide"
    }
   },
   "source": [
    "### Summary\n",
    "\n",
    "- The `bool` data type has two possible values: `True` and `False`.\n",
    "- The Boolean operators, `not`, `and`, and `or`, allow us to make expressions that involve multiple Booleans.\n",
    "- `if`-statements allow us to run pieces of code depending on whether certain conditions are `True`.\n",
    "- `for`-loops are used to repeat the execution of code for every element of a sequence.\n",
    "    - Lists, arrays, and strings are examples of sequences.\n",
    "- **Next time**: Probability."
   ]
  }
 ],
 "metadata": {
  "kernelspec": {
   "display_name": "Python 3 (ipykernel)",
   "language": "python",
   "name": "python3"
  },
  "language_info": {
   "codemirror_mode": {
    "name": "ipython",
    "version": 3
   },
   "file_extension": ".py",
   "mimetype": "text/x-python",
   "name": "python",
   "nbconvert_exporter": "python",
   "pygments_lexer": "ipython3",
   "version": "3.8.5"
  },
  "livereveal": {
   "scroll": true,
   "transition": "none"
  }
 },
 "nbformat": 4,
 "nbformat_minor": 2
}
