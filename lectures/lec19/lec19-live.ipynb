{
 "cells": [
  {
   "cell_type": "code",
   "execution_count": null,
   "metadata": {
    "slideshow": {
     "slide_type": "skip"
    }
   },
   "outputs": [],
   "source": [
    "# Set up packages for lecture. Don't worry about understanding this code, but\n",
    "# make sure to run it if you're following along.\n",
    "import numpy as np\n",
    "import babypandas as bpd\n",
    "import pandas as pd\n",
    "from matplotlib_inline.backend_inline import set_matplotlib_formats\n",
    "import matplotlib.pyplot as plt\n",
    "%reload_ext pandas_tutor\n",
    "%set_pandas_tutor_options {'projectorMode': True}\n",
    "set_matplotlib_formats(\"svg\")\n",
    "plt.style.use('fivethirtyeight')\n",
    "\n",
    "np.set_printoptions(threshold=20, precision=2, suppress=True)\n",
    "pd.set_option(\"display.max_rows\", 7)\n",
    "pd.set_option(\"display.max_columns\", 8)\n",
    "pd.set_option(\"display.precision\", 2)\n",
    "\n",
    "# Animations\n",
    "from IPython.display import display, IFrame\n",
    "\n",
    "def show_bootstrapping_slides():\n",
    "    src = \"https://docs.google.com/presentation/d/e/2PACX-1vS_iYHJYXSVMMZ-YQVFwMEFR6EFN3FDSAvaMyUm-YJfLQgRMTHm3vI-wWJJ5999eFJq70nWp2hyItZg/embed?start=false&loop=false&delayms=3000\"\n",
    "    width = 960\n",
    "    height = 509\n",
    "    display(IFrame(src, width, height))\n",
    "    \n",
    "def show_confidence_interval_slides():\n",
    "    src=\"https://docs.google.com/presentation/d/e/2PACX-1vTaPZsueXI6fey_5cj2Y1TevkR1joBvpwaWVsZNvgBlnJSrw1EiBLHJywkFH_QNLU5Tdr6JZgDrhFxG/embed?start=false&loop=false&delayms=3000\"\n",
    "    width = 960\n",
    "    height = 989\n",
    "    display(IFrame(src, width, height))"
   ]
  },
  {
   "cell_type": "markdown",
   "metadata": {
    "slideshow": {
     "slide_type": "slide"
    }
   },
   "source": [
    "# Lecture 19 – Bootstrap, Percentiles, and Confidence Intervals\n",
    "\n",
    "## DSC 10, Summer 2022"
   ]
  },
  {
   "cell_type": "markdown",
   "metadata": {
    "slideshow": {
     "slide_type": "slide"
    }
   },
   "source": [
    "### Announcements\n",
    "\n",
    "- HW 5 is due **tomorrow at 11:59pm**.\n",
    "- Lab 6 is due **Tuesday at 11:59pm**."
   ]
  },
  {
   "cell_type": "markdown",
   "metadata": {
    "slideshow": {
     "slide_type": "slide"
    }
   },
   "source": [
    "### Agenda\n",
    "\n",
    "- Bootstrapping.\n",
    "- Percentiles.\n",
    "- Confidence intervals."
   ]
  },
  {
   "cell_type": "markdown",
   "metadata": {
    "slideshow": {
     "slide_type": "slide"
    }
   },
   "source": [
    "## Bootstrapping 🥾"
   ]
  },
  {
   "cell_type": "markdown",
   "metadata": {
    "slideshow": {
     "slide_type": "slide"
    }
   },
   "source": [
    "### City of San Diego employee salary data\n",
    "\n",
    "All City of San Diego employee salary data [is public](https://publicpay.ca.gov/Reports/Cities/City.aspx?entityid=405&year=2020&rpt=1). We are using the latest available data."
   ]
  },
  {
   "cell_type": "code",
   "execution_count": null,
   "metadata": {},
   "outputs": [],
   "source": [
    "population = bpd.read_csv('data/2020_salaries.csv')\n",
    "population"
   ]
  },
  {
   "cell_type": "markdown",
   "metadata": {
    "slideshow": {
     "slide_type": "slide"
    }
   },
   "source": [
    "When you load in a dataset that has so many columns that you can't see them all, it's a good idea to look at the column names."
   ]
  },
  {
   "cell_type": "code",
   "execution_count": null,
   "metadata": {},
   "outputs": [],
   "source": [
    "population.columns"
   ]
  },
  {
   "cell_type": "markdown",
   "metadata": {
    "slideshow": {
     "slide_type": "slide"
    }
   },
   "source": [
    "### We only need the total wages..."
   ]
  },
  {
   "cell_type": "code",
   "execution_count": null,
   "metadata": {},
   "outputs": [],
   "source": [
    "population = population.get(['TotalWages'])\n",
    "population"
   ]
  },
  {
   "cell_type": "code",
   "execution_count": null,
   "metadata": {
    "scrolled": false
   },
   "outputs": [],
   "source": [
    "population.plot(kind='hist', bins=np.arange(0, 325000, 10000), density=True, ec='w', figsize=(10, 5));"
   ]
  },
  {
   "cell_type": "markdown",
   "metadata": {
    "slideshow": {
     "slide_type": "slide"
    }
   },
   "source": [
    "### The median salary\n",
    "\n",
    "- We can use `.median()` to find the median salary of all city employees.\n",
    "- This is **not** a random quantity."
   ]
  },
  {
   "cell_type": "code",
   "execution_count": null,
   "metadata": {},
   "outputs": [],
   "source": [
    "population_median = population.get('TotalWages').median()\n",
    "population_median"
   ]
  },
  {
   "cell_type": "markdown",
   "metadata": {
    "slideshow": {
     "slide_type": "slide"
    }
   },
   "source": [
    "### Let's be realistic...\n",
    "\n",
    "- In practice, it is costly and time-consuming to survey **all** 12,000+ employees.\n",
    "    - More generally, we can't expect to survey all members of the population we care about.\n",
    "- Instead, we gather salaries for a random sample of, say, 500 people.\n",
    "- Hopefully, the median of the sample is close to the median of the population."
   ]
  },
  {
   "cell_type": "markdown",
   "metadata": {
    "slideshow": {
     "slide_type": "slide"
    }
   },
   "source": [
    "### In the language of statistics\n",
    "\n",
    "- The full DataFrame of salaries is the **population**.\n",
    "- We observe a **sample** of 500 salaries from the population.\n",
    "- We want to determine the **population median (a parameter)**, but we don't have the whole population, so instead we use the **sample median (a statistic) as an estimate**.\n",
    "- Hopefully the sample median is close to the population median."
   ]
  },
  {
   "cell_type": "markdown",
   "metadata": {
    "slideshow": {
     "slide_type": "slide"
    }
   },
   "source": [
    "### The sample median\n",
    "\n",
    "- Let's survey 500 employees at random.\n",
    "- We can use `.sample()`:"
   ]
  },
  {
   "cell_type": "code",
   "execution_count": null,
   "metadata": {},
   "outputs": [],
   "source": [
    "np.random.seed(23) # Magic to ensure that we get the same results every time this code is run\n",
    "\n",
    "# Take a sample of size 500\n",
    "my_sample = ...\n",
    "my_sample"
   ]
  },
  {
   "cell_type": "markdown",
   "metadata": {},
   "source": [
    "We won't reassign `my_sample` at any point in this notebook, so it will always refer to this particular sample."
   ]
  },
  {
   "cell_type": "code",
   "execution_count": null,
   "metadata": {},
   "outputs": [],
   "source": [
    "# Compute the sample median\n",
    "sample_median = ...\n",
    "sample_median"
   ]
  },
  {
   "cell_type": "markdown",
   "metadata": {
    "slideshow": {
     "slide_type": "slide"
    }
   },
   "source": [
    "### How confident are we that this is a good estimate?\n",
    "\n",
    "- `sample_median` is \\\\$69616. That's our best guess for the actual population median.\n",
    "- But...our estimate depended on a random sample.\n",
    "- If our sample was different, our estimate may have been different, too.\n",
    "- **How different could our estimate have been?**\n",
    "- Our confidence in the estimate depends on the answer to this question."
   ]
  },
  {
   "cell_type": "markdown",
   "metadata": {
    "slideshow": {
     "slide_type": "slide"
    }
   },
   "source": [
    "### The sample median is random\n",
    "\n",
    "- The sample median is a random number.\n",
    "- It comes from some distribution, which we don't know.\n",
    "- How different could our estimate have been, if we drew a different sample?\n",
    "    - \"Narrow\" distribution $\\Rightarrow$ not too different.\n",
    "    - \"Wide\" distribution $\\Rightarrow$ quite different.\n",
    "- **What is the distribution of the sample median?**"
   ]
  },
  {
   "cell_type": "markdown",
   "metadata": {
    "slideshow": {
     "slide_type": "slide"
    }
   },
   "source": [
    "### What we've done before\n",
    "\n",
    "- One idea: repeatedly collect random samples of 500 **from the population** and compute its median.\n",
    "    - This is what we did in Lecture 14 to compute an empirical distribution of the sample mean of flight delays.\n",
    "- We can plot the empirical distribution of the sample median with a histogram.\n",
    "- This is an approximation of the true distribution of the sample median, using 1000 samples."
   ]
  },
  {
   "cell_type": "code",
   "execution_count": null,
   "metadata": {},
   "outputs": [],
   "source": [
    "sample_medians = np.array([])\n",
    "for i in np.arange(1_000):\n",
    "    median = population.sample(500).get('TotalWages').median()\n",
    "    sample_medians = np.append(sample_medians, median)\n",
    "sample_medians"
   ]
  },
  {
   "cell_type": "code",
   "execution_count": null,
   "metadata": {},
   "outputs": [],
   "source": [
    "(bpd.DataFrame()\n",
    " .assign(SampleMedians=sample_medians)\n",
    " .plot(kind='hist', density=True,\n",
    "       bins=30, ec='w', figsize=(8, 5))\n",
    ");"
   ]
  },
  {
   "cell_type": "markdown",
   "metadata": {
    "slideshow": {
     "slide_type": "slide"
    }
   },
   "source": [
    "### The problem\n",
    "\n",
    "- Drawing new samples like this is impractical.\n",
    "    - If we were able to do this, why not just collect more data in the first place?\n",
    "- Often, we can't ask for new samples from the population.\n",
    "- **Key insight:** our original sample, `my_sample`, looks a lot like the population.\n",
    "    - Their distributions are similar."
   ]
  },
  {
   "cell_type": "code",
   "execution_count": null,
   "metadata": {},
   "outputs": [],
   "source": [
    "fig, ax = plt.subplots(figsize=(10, 5))\n",
    "bins=np.arange(10_000, 300_000, 10_000)\n",
    "population.plot(kind='hist', y='TotalWages', ax=ax, density=True, alpha=.75, bins=bins, ec='w')\n",
    "my_sample.plot(kind='hist', y='TotalWages', ax=ax, density=True, alpha=.75, bins=bins, ec='w')\n",
    "plt.legend(['Population', 'My Sample']);"
   ]
  },
  {
   "cell_type": "markdown",
   "metadata": {
    "slideshow": {
     "slide_type": "fragment"
    }
   },
   "source": [
    "Note that unlike the previous histogram we saw, this is depicting the distribution of the population and of one particular sample (`my_sample`), **not** the distribution of sample medians for 246 samples."
   ]
  },
  {
   "cell_type": "markdown",
   "metadata": {
    "slideshow": {
     "slide_type": "slide"
    }
   },
   "source": [
    "### The bootstrap\n",
    "\n",
    "- **Big idea:** Use the sample to simulate more samples.\n",
    "    - The sample itself looks like the population.\n",
    "    - So, resampling from the sample is like sampling from the population.\n",
    "    - The act of resampling from a sample is called **bootstrapping** or \"**the bootstrap**\" method.\n",
    "\n",
    "- In our case specifically:\n",
    "    - We have a sample of 500 salaries.\n",
    "    - We want another sample of 500 salaries, but we can't draw from the population.\n",
    "    - However, the original sample looks like the population.\n",
    "    - So, let's just **resample from the sample!**"
   ]
  },
  {
   "cell_type": "code",
   "execution_count": null,
   "metadata": {
    "scrolled": false,
    "slideshow": {
     "slide_type": "slide"
    }
   },
   "outputs": [],
   "source": [
    "show_bootstrapping_slides()"
   ]
  },
  {
   "cell_type": "markdown",
   "metadata": {
    "slideshow": {
     "slide_type": "slide"
    }
   },
   "source": [
    "### Resampling with replacement\n",
    "\n",
    "When bootstrapping, we resample **with** replacement. Why? 🤔"
   ]
  },
  {
   "cell_type": "markdown",
   "metadata": {
    "slideshow": {
     "slide_type": "slide"
    }
   },
   "source": [
    "### Resampling with replacement\n",
    "\n",
    "- Our goal when bootstrapping is to create a sample of the same size as our original sample.\n",
    "- If we were to resample without replacement $n$ times from an original sample of size $n$, our resample would look exactly the same as the original sample.\n",
    "    - For instance, if we sample 5 elements without replacement from `['A', 'B', 'C', 'D', 'E']`, our sample will contain the same 5 characters, just in a different order.\n",
    "- So, we need to sample **with replacement** to ensure that our resamples can be different from the original sample.\n",
    "- Why does this work? If we assume population is large, sampling with replacement is approx the same as sampling without replacement."
   ]
  },
  {
   "cell_type": "markdown",
   "metadata": {
    "slideshow": {
     "slide_type": "slide"
    }
   },
   "source": [
    "### Running the bootstrap\n",
    "\n",
    "- We can simulate the act of collecting new samples by **sampling with replacement from our original sample, `my_sample`**."
   ]
  },
  {
   "cell_type": "code",
   "execution_count": null,
   "metadata": {},
   "outputs": [],
   "source": [
    "# Note that the population DataFrame doesn't appear anywhere here!"
   ]
  },
  {
   "cell_type": "code",
   "execution_count": null,
   "metadata": {},
   "outputs": [],
   "source": [
    "boot_medians"
   ]
  },
  {
   "cell_type": "markdown",
   "metadata": {
    "slideshow": {
     "slide_type": "slide"
    }
   },
   "source": [
    "### Bootstrap distribution of the sample median"
   ]
  },
  {
   "cell_type": "code",
   "execution_count": null,
   "metadata": {
    "scrolled": false
   },
   "outputs": [],
   "source": [
    "bpd.DataFrame().assign(BootstrapMedians=boot_medians).plot(kind='hist', density=True, bins=np.arange(60000, 85000, 1000), ec='w', figsize=(10, 5))\n",
    "plt.scatter(population_median, 0.000004, color='orange', s=100, label='population median').set_zorder(2)\n",
    "plt.legend();"
   ]
  },
  {
   "cell_type": "markdown",
   "metadata": {
    "slideshow": {
     "slide_type": "fragment"
    }
   },
   "source": [
    "- The population median (orange dot) is near the middle.\n",
    "    - **In reality, we'd never get to see this!**"
   ]
  },
  {
   "cell_type": "markdown",
   "metadata": {
    "slideshow": {
     "slide_type": "slide"
    }
   },
   "source": [
    "## What's the bootstrap useful for?\n",
    "\n",
    "- We have a sample median wage:"
   ]
  },
  {
   "cell_type": "code",
   "execution_count": null,
   "metadata": {},
   "outputs": [],
   "source": [
    "my_sample.get('TotalWages').median()"
   ]
  },
  {
   "cell_type": "markdown",
   "metadata": {
    "slideshow": {
     "slide_type": "fragment"
    }
   },
   "source": [
    "- And now we can say: the population median wage is approx \\\\$69616.\n",
    "    - But how approximate?"
   ]
  },
  {
   "cell_type": "code",
   "execution_count": null,
   "metadata": {
    "scrolled": false,
    "slideshow": {
     "slide_type": "slide"
    }
   },
   "outputs": [],
   "source": [
    "(bpd.DataFrame()\n",
    " .assign(BootstrapMedians=boot_medians)\n",
    " .plot(kind='hist', density=True, bins=np.arange(60000, 85000, 1000), ec='w', figsize=(10, 5))\n",
    ")\n",
    "# plt.scatter(population_median, 0.000004, color='orange', s=100, label='population median').set_zorder(2)\n",
    "plt.legend();"
   ]
  },
  {
   "cell_type": "markdown",
   "metadata": {
    "slideshow": {
     "slide_type": "fragment"
    }
   },
   "source": [
    "- So now we can say: my guess for the population median wage is that it's between \\\\$65,000 and \\\\$75,000."
   ]
  },
  {
   "cell_type": "markdown",
   "metadata": {
    "slideshow": {
     "slide_type": "slide"
    }
   },
   "source": [
    "### You Try: Bootstrap the sample median\n",
    "\n",
    "1. Simulate another sample by resampling 500 items from `my_sample` with replacement. Then, find the median of each bootstrap sample.\n",
    "1. Repeat step 1 5,000 times. Store results in an array called `boot_medians`.\n",
    "1. Plot a histogram of the bootstrap medians.\n",
    "1. Say what your best guess for the population median is.\n",
    "\n",
    "Yes, I know that we just wrote the code for this. Try to write it again without looking at the answer!"
   ]
  },
  {
   "cell_type": "code",
   "execution_count": null,
   "metadata": {},
   "outputs": [],
   "source": []
  },
  {
   "cell_type": "code",
   "execution_count": null,
   "metadata": {},
   "outputs": [],
   "source": []
  },
  {
   "cell_type": "code",
   "execution_count": null,
   "metadata": {},
   "outputs": [],
   "source": []
  },
  {
   "cell_type": "markdown",
   "metadata": {
    "slideshow": {
     "slide_type": "fragment"
    }
   },
   "source": [
    "- We can only plot the orange dot because we happen to know the population parameter in this case (for teaching purposes).\n",
    "    - In reality, you will not know the population parameter!\n",
    "- If we just look at the bootstrap distribution, what's our best guess for the population median?\n",
    "    - \\\\$65,000 to \\\\$75,000?\n",
    "    - \\\\$68,000 to \\\\$72,000?\n",
    "    - Something else?\n",
    "- **Idea:** Find the range that captures the middle 95% of the values."
   ]
  },
  {
   "cell_type": "markdown",
   "metadata": {
    "slideshow": {
     "slide_type": "slide"
    }
   },
   "source": [
    "## Percentiles"
   ]
  },
  {
   "cell_type": "markdown",
   "metadata": {
    "slideshow": {
     "slide_type": "slide"
    }
   },
   "source": [
    "### Mathematical definition\n",
    "\n",
    "> Let $p$ be a number between 0 and 100. The $p$th percentile of a collection is the smallest value in the collection that is *at least as large* as $p$% of all the values. \n",
    "\n",
    "By this definition, any percentile between 0 and 100 can be computed for any collection of values and is **always an element of the collection.** "
   ]
  },
  {
   "cell_type": "markdown",
   "metadata": {
    "slideshow": {
     "slide_type": "slide"
    }
   },
   "source": [
    "### How to calculate percentiles using mathematical definition\n",
    "\n",
    "Suppose there are $n$ elements in the collection. To find the $p$th percentile:\n",
    "\n",
    "1. Sort the collection in increasing order.\n",
    "2. Define $h$ to be $p\\%$ of $n$: \n",
    "\n",
    "$$h = \\frac p{100} \\cdot n$$\n",
    "\n",
    "3. If $h$ is an integer, define $k = h$. Otherwise, let $k$ be the smallest integer greater than $h$.\n",
    "\n",
    "4. Take the $k$th element of the sorted collection (start counting from 1, not 0)."
   ]
  },
  {
   "cell_type": "markdown",
   "metadata": {
    "slideshow": {
     "slide_type": "slide"
    }
   },
   "source": [
    "### Example\n",
    "\n",
    "Let's say we have an array: `np.array([4, 10, 15, 21, 100, 120])`. Here's what our percentile formula does:\n",
    "\n",
    "| data       | 4       | 10       | 15       | 21       | 100       | 120 |\n",
    "|------------|---------|----------|----------|----------|-----------|-----|\n",
    "| percentile | [0, 20) | [20, 40) | [40, 60) | [60, 80) | [80, 100) | 100 |\n",
    "\n",
    "So, the 8th percentile is `4`. The 60th percentile is `21`. Etc.\n",
    "\n",
    "- The median is the 50th percentile: `15`.\n",
    "- Easiest way to remember:\n",
    "    - First item in array is the 0th percentile.\n",
    "    - Last item in array is the 100th percentile.\n",
    "    - Split up the rest of the range evenly.\n",
    "    - When you're in between two percentiles, choose the lower array item."
   ]
  },
  {
   "cell_type": "markdown",
   "metadata": {
    "slideshow": {
     "slide_type": "slide"
    }
   },
   "source": [
    "### You Try:\n",
    "\n",
    "What is the 50th percentile (the median) of this array?\n",
    "\n",
    "What about the 70th percentile?\n",
    "\n",
    "`np.array([70, 18, 56, 89, 55, 35, 10, 45])`"
   ]
  },
  {
   "cell_type": "markdown",
   "metadata": {
    "slideshow": {
     "slide_type": "slide"
    }
   },
   "source": [
    "### Calculating the percentile using our mathematical definition"
   ]
  },
  {
   "cell_type": "code",
   "execution_count": null,
   "metadata": {},
   "outputs": [],
   "source": [
    "def percentile(data, p):\n",
    "    ..."
   ]
  },
  {
   "cell_type": "code",
   "execution_count": null,
   "metadata": {},
   "outputs": [],
   "source": [
    "example = np.array([70, 18, 56, 89, 55, 35, 10, 45])\n",
    "percentile(example, 50)"
   ]
  },
  {
   "cell_type": "markdown",
   "metadata": {
    "slideshow": {
     "slide_type": "slide"
    }
   },
   "source": [
    "### Another definition of percentile\n",
    "\n",
    "- The `numpy` package provides a function to calculate percentiles, `np.percentile(array, p)`, which returns the `p`th percentile of `array`.\n",
    "- To do our definition of percentile, use `interpolation='lower'`."
   ]
  },
  {
   "cell_type": "code",
   "execution_count": null,
   "metadata": {},
   "outputs": [],
   "source": [
    "np.percentile(example, 50, interpolation='lower')"
   ]
  },
  {
   "cell_type": "markdown",
   "metadata": {
    "slideshow": {
     "slide_type": "slide"
    }
   },
   "source": [
    "## Confidence intervals"
   ]
  },
  {
   "cell_type": "markdown",
   "metadata": {
    "slideshow": {
     "slide_type": "slide"
    }
   },
   "source": [
    "### Using the bootstrap distribution\n",
    "\n",
    "- Now, let's return to our original question:\n",
    "    - We have a sample median (around \\\\$69k).\n",
    "    - This means that we think that the population median is close to \\\\$69k.\n",
    "    - How do we capture our uncertainty about this guess?\n",
    "- Idea: Find a range that captures most of the bootstrap distribution."
   ]
  },
  {
   "cell_type": "code",
   "execution_count": null,
   "metadata": {},
   "outputs": [],
   "source": [
    "bpd.DataFrame().assign(bootstrap_medians=boot_medians).plot(kind='hist', density=True, bins=np.arange(60000, 85000, 1000), ec='w', figsize=(10, 5))\n",
    "plt.axvline(sample_median, c='r', label='sample_median');\n",
    "plt.legend();"
   ]
  },
  {
   "cell_type": "markdown",
   "metadata": {
    "slideshow": {
     "slide_type": "slide"
    }
   },
   "source": [
    "### Confidence intervals\n",
    "\n",
    "Let's state it using statistical lingo:\n",
    "\n",
    "- Goal: estimate an unknown population parameter.\n",
    "- We have been saying \n",
    ">\"My guess for the population parameter is my sample statistic, $x$.\"\n",
    "- We want to say \n",
    ">\"My guess is that the population parameter is between $a$ and $b$.\"\n",
    "- Let's use the bootstrapped distribution of an estimate to compute an **interval** that contains \"the bulk\" of the estimates."
   ]
  },
  {
   "cell_type": "markdown",
   "metadata": {
    "slideshow": {
     "slide_type": "slide"
    }
   },
   "source": [
    "### Finding endpoints\n",
    "\n",
    "- We want to find two points, $x$ and $y$, such that the area:\n",
    "    - to the left of $x$ is about 2.5%.\n",
    "    - to the right of $y$ is about 2.5%.\n",
    "- The interval $[x,y]$ will contain about 95% of the total area, i.e. 95% of the total values.\n",
    "- $x$ and $y$ are the **2.5th percentile** and **97.5th percentile**, respectively."
   ]
  },
  {
   "cell_type": "code",
   "execution_count": null,
   "metadata": {
    "slideshow": {
     "slide_type": "slide"
    }
   },
   "outputs": [],
   "source": [
    "bpd.DataFrame().assign(BootstrapMedians=boot_medians).plot(kind='hist', density=True, bins=np.arange(60000, 85000, 1000), ec='w', figsize=(10, 5))\n",
    "plt.axvline(sample_median, c='r', label='sample_median');\n",
    "plt.legend();"
   ]
  },
  {
   "cell_type": "code",
   "execution_count": null,
   "metadata": {},
   "outputs": [],
   "source": [
    "# Left endpoint\n",
    "left = ...\n",
    "left"
   ]
  },
  {
   "cell_type": "code",
   "execution_count": null,
   "metadata": {},
   "outputs": [],
   "source": [
    "# Right endpoint\n",
    "right = ...\n",
    "right"
   ]
  },
  {
   "cell_type": "code",
   "execution_count": null,
   "metadata": {},
   "outputs": [],
   "source": [
    "# Therefore, our interval is\n",
    "[left, right]"
   ]
  },
  {
   "cell_type": "markdown",
   "metadata": {},
   "source": [
    "You will use the code above **very** frequently moving forward!"
   ]
  },
  {
   "cell_type": "markdown",
   "metadata": {
    "slideshow": {
     "slide_type": "slide"
    }
   },
   "source": [
    "### Visualizing our 95% confidence interval\n",
    "\n",
    "- Let's draw the interval we just computed on the histogram.\n",
    "- 95% of the bootstrap medians fell into this interval."
   ]
  },
  {
   "cell_type": "code",
   "execution_count": null,
   "metadata": {
    "scrolled": false
   },
   "outputs": [],
   "source": [
    "bpd.DataFrame().assign(BootstrapMedians=boot_medians).plot(kind='hist', density=True, bins=np.arange(60000, 85000, 1000), ec='w', figsize=(10, 5))\n",
    "plt.plot([left, right], [0, 0], color='lime', linewidth=12, label='95% confidence interval');\n",
    "plt.axvline(sample_median, c='r', label='sample_median');\n",
    "plt.scatter(population_median, 0.000004, color='orange', s=100, label='population median').set_zorder(3)\n",
    "plt.legend();"
   ]
  },
  {
   "cell_type": "markdown",
   "metadata": {},
   "source": [
    "- In this case, our 95% confidence interval (lime green) contains the true population parameter (orange dot).\n",
    "    - It won't always, because you might have a bad original sample!\n",
    "    - In reality, you won't know where the population parameter is, and so you won't know if your confidence interval contains it."
   ]
  },
  {
   "cell_type": "markdown",
   "metadata": {
    "slideshow": {
     "slide_type": "slide"
    }
   },
   "source": [
    "### You Try: Confidence levels\n",
    "\n",
    "The code above finds the 95% confidence interval. Will the 80% confidence interval be wider or narrower than the 95% interval? Take a guess, then write code to compute the 80% confidence interval.\n",
    "\n",
    "Explain the pros and cons of using an 80% interval instead of a 95%.\n",
    "\n",
    "  - We haven't covered how to do this exactly, but take your best guess."
   ]
  },
  {
   "cell_type": "code",
   "execution_count": null,
   "metadata": {},
   "outputs": [],
   "source": []
  },
  {
   "cell_type": "code",
   "execution_count": null,
   "metadata": {},
   "outputs": [],
   "source": []
  },
  {
   "cell_type": "markdown",
   "metadata": {
    "slideshow": {
     "slide_type": "slide"
    }
   },
   "source": [
    "## Interpreting confidence intervals"
   ]
  },
  {
   "cell_type": "markdown",
   "metadata": {
    "slideshow": {
     "slide_type": "slide"
    }
   },
   "source": [
    "### Interpreting confidence intervals\n",
    "\n",
    "- 95% of our bootstrap medians fell within this interval.\n",
    "- We're pretty confident that the true median does, too.\n",
    "- How confident should we be about this? **What does a 95% confidence interval mean?**"
   ]
  },
  {
   "cell_type": "markdown",
   "metadata": {
    "slideshow": {
     "slide_type": "slide"
    }
   },
   "source": [
    "### Capturing the true value\n",
    "\n",
    "- Consider the process of:\n",
    "    - Collecting a **new original sample** from the population,\n",
    "    - Bootstrap resampling from it many times, computing the statistic (e.g. median) in each resample, and\n",
    "    - Constructing a new 95% confidence interval.\n",
    "- What a 95% confidence level states is that **approximately 95% of the time, the intervals you create through this process will contain the true population parameter**.\n",
    "- The confidence is in **the process** that generates the interval."
   ]
  },
  {
   "cell_type": "markdown",
   "metadata": {
    "slideshow": {
     "slide_type": "slide"
    }
   },
   "source": [
    "### Many confidence intervals\n",
    "\n",
    "- We repeated the process outlined on the previous slide 200 times, to come up with 200 confidence intervals.\n",
    "    - We did this in advance and saved the results to a file to save time.\n",
    "- The resulting CIs are stored in the array `many_cis` below."
   ]
  },
  {
   "cell_type": "code",
   "execution_count": null,
   "metadata": {},
   "outputs": [],
   "source": [
    "many_cis = np.load('data/many_cis.npy')\n",
    "many_cis"
   ]
  },
  {
   "cell_type": "markdown",
   "metadata": {
    "slideshow": {
     "slide_type": "slide"
    }
   },
   "source": [
    "In the visualization below,\n",
    "- The orange line represents the population parameter. **This is not random.**\n",
    "- Each green line represents a separate confidence interval, created using the specified process.\n",
    "- Most of these confidence intervals contain the true parameter – but not all!"
   ]
  },
  {
   "cell_type": "code",
   "execution_count": null,
   "metadata": {},
   "outputs": [],
   "source": [
    "plt.figure(figsize=(10, 5))\n",
    "for i, ci in enumerate(many_cis):\n",
    "    plt.plot([ci[0], ci[1]], [i, i], color='green', linewidth=1)\n",
    "plt.axvline(x=population_median, color='orange');"
   ]
  },
  {
   "cell_type": "markdown",
   "metadata": {
    "slideshow": {
     "slide_type": "slide"
    }
   },
   "source": [
    "### Which confidence intervals don't contain the true parameter?"
   ]
  },
  {
   "cell_type": "code",
   "execution_count": null,
   "metadata": {},
   "outputs": [],
   "source": [
    "plt.figure(figsize=(10, 5))\n",
    "count_outside = 0\n",
    "for i, ci in enumerate(many_cis):\n",
    "    if ci[0] > population_median or ci[1] < population_median:\n",
    "        plt.plot([ci[0], ci[1]], [i, i], color='green', linewidth=1)\n",
    "        count_outside = count_outside + 1\n",
    "plt.axvline(x=population_median, color='orange');"
   ]
  },
  {
   "cell_type": "code",
   "execution_count": null,
   "metadata": {},
   "outputs": [],
   "source": [
    "count_outside"
   ]
  },
  {
   "cell_type": "markdown",
   "metadata": {},
   "source": [
    "- 13 of my 200 confidence intervals didn't contain the true parameter.\n",
    "- That means 187/200, or 93.5% of them, did.\n",
    "    - This is pretty close to 95%!\n",
    "- In reality, you will have **no way of knowing if your confidence interval contains the true parameter**, since you have no way of knowing if your original sample is good."
   ]
  },
  {
   "cell_type": "markdown",
   "metadata": {
    "slideshow": {
     "slide_type": "slide"
    }
   },
   "source": [
    "### Confidence Tradeoffs\n",
    "\n",
    "- If I choose 95% confidence, about 5% of my samples will be \"unlucky\".\n",
    "    - When I use an unlucky sample to make my CI, the CI won't contain the population parameter.\n",
    "- If I choose 80% confidence, about 20% of my samples will be unlucky.\n",
    "    - But, my confidence interval will be narrower, which means I'm making a more precise estimation.\n",
    "- How do I have high confidence and high precision?\n",
    "    - Take a big sample!"
   ]
  },
  {
   "cell_type": "markdown",
   "metadata": {
    "slideshow": {
     "slide_type": "slide"
    }
   },
   "source": [
    "### Misinterpreting confidence intervals\n",
    "\n",
    "- Confidence intervals are confusing. Here are a few common misconceptions."
   ]
  },
  {
   "cell_type": "code",
   "execution_count": null,
   "metadata": {},
   "outputs": [],
   "source": [
    "# Our interval\n",
    "[left, right]"
   ]
  },
  {
   "cell_type": "markdown",
   "metadata": {},
   "source": [
    "- It is **not true** that this interval contains 95% of all salaries.\n",
    "- Instead, it is true that this interval contains 95% of all bootstrapped **median** salaries."
   ]
  },
  {
   "cell_type": "code",
   "execution_count": null,
   "metadata": {},
   "outputs": [],
   "source": [
    "population.plot(kind='hist', y='TotalWages', density=True, ec='w', figsize=(10, 5))\n",
    "plt.plot([left, right], [0, 0], color='lime', linewidth=10, label='95% confidence interval');\n",
    "plt.legend();"
   ]
  },
  {
   "cell_type": "markdown",
   "metadata": {
    "slideshow": {
     "slide_type": "slide"
    }
   },
   "source": [
    "### Misinterpreting confidence intervals"
   ]
  },
  {
   "cell_type": "code",
   "execution_count": null,
   "metadata": {},
   "outputs": [],
   "source": [
    "# Our interval\n",
    "[left, right]"
   ]
  },
  {
   "cell_type": "markdown",
   "metadata": {},
   "source": [
    "- It is **not true** that there is a 95% chance that the interval above contains the population parameter.\n",
    "    - Once I have a sample, the interval is (essentially) fixed.\n",
    "    - Either the population parameter is in the interval, or it is not. There is no randomness involved.\n",
    "- Remember that the 95% confidence is in the process that created an interval.\n",
    "    - This process (sampling, then bootstrapping, then creating an interval) has a roughly 95% chance of creating a good interval.\n",
    "    - 95% confidence needs all three steps. Can't skip the first one!"
   ]
  },
  {
   "cell_type": "code",
   "execution_count": null,
   "metadata": {
    "scrolled": false,
    "slideshow": {
     "slide_type": "slide"
    }
   },
   "outputs": [],
   "source": [
    "show_confidence_interval_slides()"
   ]
  },
  {
   "cell_type": "markdown",
   "metadata": {
    "slideshow": {
     "slide_type": "slide"
    }
   },
   "source": [
    "### Bootstrap rules of thumb\n",
    "\n",
    "- The bootstrap is an awesome tool:\n",
    "    - We only had to collect a single sample from the population to get the (approximate) distribution of the sample median.\n",
    "- But it has limitations:\n",
    "    - It is not good for sensitive statistics, like the max or min.\n",
    "    - It requires the sample to be a good approximation of population.\n",
    "        - If our original sample was not representative of the population, the resulting bootstrapped samples will also not be representative of the population."
   ]
  },
  {
   "cell_type": "markdown",
   "metadata": {
    "slideshow": {
     "slide_type": "slide"
    }
   },
   "source": [
    "### Example: estimating the max of a population (if time allows)\n",
    "\n",
    "Suppose we want to estimate the maximum salary of all San Diego city employees, given just a single sample `my_sample`."
   ]
  },
  {
   "cell_type": "code",
   "execution_count": null,
   "metadata": {},
   "outputs": [],
   "source": [
    "# The true maximum salary in the population\n",
    "population_max = population.get('TotalWages').max()\n",
    "population_max"
   ]
  },
  {
   "cell_type": "markdown",
   "metadata": {
    "slideshow": {
     "slide_type": "slide"
    }
   },
   "source": [
    "### Running the bootstrap\n",
    "\n",
    "- We want to estimate the maximum number in the population.\n",
    "- Our estimate will be the max in the sample.\n",
    "- We run the bootstrap:"
   ]
  },
  {
   "cell_type": "code",
   "execution_count": null,
   "metadata": {},
   "outputs": [],
   "source": [
    "n_resamples = 5000\n",
    "boot_maxes = np.array([])\n",
    "\n",
    "for i in range(n_resamples):\n",
    "\n",
    "    resample = my_sample.sample(my_sample.shape[0], replace=True)\n",
    "    \n",
    "    boot_max = resample.get('TotalWages').max()\n",
    "    \n",
    "    boot_maxes = np.append(boot_maxes, boot_max)"
   ]
  },
  {
   "cell_type": "code",
   "execution_count": null,
   "metadata": {},
   "outputs": [],
   "source": [
    "boot_maxes"
   ]
  },
  {
   "cell_type": "markdown",
   "metadata": {
    "slideshow": {
     "slide_type": "slide"
    }
   },
   "source": [
    "### Visualize\n",
    "\n",
    "The bootstrap distribution doesn't capture the population maximum (orange dot) of 320699. Why not? 🤔"
   ]
  },
  {
   "cell_type": "code",
   "execution_count": null,
   "metadata": {
    "scrolled": false
   },
   "outputs": [],
   "source": [
    "bpd.DataFrame().assign(BootstrapMax=boot_maxes).plot(kind='hist', \n",
    "                                                     density=True, \n",
    "                                                     bins=10,\n",
    "                                                     ec='w',\n",
    "                                                     figsize=(10, 5))\n",
    "plt.scatter(population_max, 0.0000008, color='orange', s=100, label='population max')\n",
    "plt.legend();"
   ]
  },
  {
   "cell_type": "markdown",
   "metadata": {
    "slideshow": {
     "slide_type": "slide"
    }
   },
   "source": [
    "### Why did that happen?"
   ]
  },
  {
   "cell_type": "code",
   "execution_count": null,
   "metadata": {},
   "outputs": [],
   "source": [
    "my_sample.get('TotalWages').max()"
   ]
  },
  {
   "cell_type": "markdown",
   "metadata": {
    "slideshow": {
     "slide_type": "fragment"
    }
   },
   "source": [
    "- The largest value in our original sample was 257062. \n",
    "- Therefore, the largest value in any bootstrapped sample is at most 257062.\n",
    "- Generally, the bootstrap works better for measures of central tendency or variation (means, medians, variances) than it does for extremas (maxes and mins)."
   ]
  },
  {
   "cell_type": "markdown",
   "metadata": {
    "slideshow": {
     "slide_type": "slide"
    }
   },
   "source": [
    "## Why does it matter?\n",
    "\n",
    "- Now, we're learning estimation techniques that are more applicable to real life.\n",
    "- Real life: no population, only a sample!\n",
    "- Using the bootstrap lets us **quantify uncertainty**.\n",
    "- \"How long does it take to drive to the airport?\"\n",
    "    - \"Around 25-35 minutes.\"\n",
    "- In the past week, we're making this reasoning rigorous.\n",
    "- Confidence intervals are used basically whenever we're uncertain about something.\n",
    "    - In engineering: when will this part break?\n",
    "    - In business: how much profit will we make next month? \n",
    "    - In economics: how will the inflation rate affect markets?\n",
    "- Next time: we'll connect CIs with hypothesis testing."
   ]
  }
 ],
 "metadata": {
  "kernelspec": {
   "display_name": "Python 3 (ipykernel)",
   "language": "python",
   "name": "python3"
  },
  "language_info": {
   "codemirror_mode": {
    "name": "ipython",
    "version": 3
   },
   "file_extension": ".py",
   "mimetype": "text/x-python",
   "name": "python",
   "nbconvert_exporter": "python",
   "pygments_lexer": "ipython3",
   "version": "3.8.5"
  },
  "livereveal": {
   "scroll": true,
   "transition": "none"
  }
 },
 "nbformat": 4,
 "nbformat_minor": 2
}
