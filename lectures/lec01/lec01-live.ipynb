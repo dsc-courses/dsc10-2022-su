{
 "cells": [
  {
   "cell_type": "code",
   "execution_count": null,
   "metadata": {
    "slideshow": {
     "slide_type": "skip"
    }
   },
   "outputs": [],
   "source": [
    "# Imports\n",
    "import babypandas as bpd\n",
    "import numpy as np\n",
    "import plotly.express as px\n",
    "import matplotlib.pyplot as plt\n",
    "\n",
    "plt.style.use('fivethirtyeight')\n",
    "\n",
    "from IPython.display import YouTubeVideo"
   ]
  },
  {
   "cell_type": "markdown",
   "metadata": {
    "slideshow": {
     "slide_type": "slide"
    }
   },
   "source": [
    "# Lecture 1 – Introduction\n",
    "\n",
    "## DSC 10, Summer 2022"
   ]
  },
  {
   "cell_type": "markdown",
   "metadata": {
    "slideshow": {
     "slide_type": "slide"
    }
   },
   "source": [
    "### Welcome to DSC 10! 👋\n",
    "- A guided tour of data science.\n",
    "- A course developed by UC Berkeley in 2015 and adapted by UC San Diego in 2017.\n",
    "- Learn just enough programming and statistics to do data science.\n",
    "    - Statistics without too much math, mostly simulation.\n",
    "    - Lays the foundation for all other courses in the DSC major."
   ]
  },
  {
   "cell_type": "markdown",
   "metadata": {
    "slideshow": {
     "slide_type": "slide"
    }
   },
   "source": [
    "### Agenda\n",
    "\n",
    "- Who are we?\n",
    "- What is data science?\n",
    "- How will this course run?\n",
    "- Literature demo."
   ]
  },
  {
   "cell_type": "markdown",
   "metadata": {
    "slideshow": {
     "slide_type": "slide"
    }
   },
   "source": [
    "### About the instructor 👩‍🏫\n",
    "\n",
    "#### Samuel Lau (call me Sam)\n",
    "\n",
    "- PhD in Cog Sci (Human-Computer Interaction) at UCSD\n",
    "  - Research: tools for teaching data science like Pandas Tutor\n",
    "- BS and MS in Electrical Engineering and Computer Science at UC Berkeley\n",
    "  - Worked on the OG data science courses at UC Berkeley \n",
    "- Writing textbook called Learning Data Science"
   ]
  },
  {
   "cell_type": "markdown",
   "metadata": {
    "slideshow": {
     "slide_type": "slide"
    }
   },
   "source": [
    "### Course staff\n",
    "\n",
    "In addition, we have several other course staff members who are here to support you in discussion, office hours, and Campuswire.\n",
    "\n",
    "- 1 graduate TAs: Shivani Bhakta\n",
    "- 3 undergraduate tutors: Eric Chen, Oren Ciolli, and Tiffany Yu.\n",
    "\n",
    "Learn more about them at [dsc10.com/staff](https://dsc10.com/staff)."
   ]
  },
  {
   "cell_type": "markdown",
   "metadata": {
    "slideshow": {
     "slide_type": "slide"
    }
   },
   "source": [
    "### About you\n",
    "\n",
    "Do you have any programming experience?\n",
    "\n",
    "<div align=center>\n",
    "<img src=\"https://i.imgur.com/Bv3DBGa.gif\" width=500>\n",
    "</div>\n",
    "\n",
    "A. Yes, I'm a pro!\n",
    "\n",
    "B. I have some experience.\n",
    "\n",
    "C. I know a few basic concepts.\n",
    "\n",
    "D. No experience whatsoever!\n",
    "\n",
    "### To answer, go to **[menti.com](https://menti.com)** and enter the code **9731 1635**."
   ]
  },
  {
   "cell_type": "markdown",
   "metadata": {
    "slideshow": {
     "slide_type": "slide"
    }
   },
   "source": [
    "## What is \"data science\"? 🤔"
   ]
  },
  {
   "cell_type": "markdown",
   "metadata": {
    "slideshow": {
     "slide_type": "slide"
    }
   },
   "source": [
    "<center><img src='images/what-is-ds.png' width=1250>Everyone seems to have their own definition of data science.</center>"
   ]
  },
  {
   "cell_type": "markdown",
   "metadata": {
    "slideshow": {
     "slide_type": "slide"
    }
   },
   "source": [
    "### What is \"data science\"?\n",
    "\n",
    "Data science is about **drawing useful conclusions from data using computation**.\n",
    "\n",
    "- **Exploration**.\n",
    "    - Identifying patterns in information.\n",
    "    - Uses visualizations.\n",
    "- **Prediction**.\n",
    "    - Making informed guesses.\n",
    "    - Uses machine learning and optimization.\n",
    "- **Inference**.\n",
    "    - Quantifying whether those predictions are reliable.\n",
    "    - Uses randomization.\n",
    "    \n",
    "In this class, we'll focus on the first and third, with a touch of the second."
   ]
  },
  {
   "cell_type": "markdown",
   "metadata": {
    "slideshow": {
     "slide_type": "slide"
    }
   },
   "source": [
    "### Data science is more relevant than ever\n",
    "\n",
    "<center><img src='images/nyt-covid-line.png'></center>"
   ]
  },
  {
   "cell_type": "markdown",
   "metadata": {
    "slideshow": {
     "slide_type": "slide"
    }
   },
   "source": [
    "<center><img src='images/covid-candles.png' width=800>\n",
    "    <a href=\"https://twitter.com/zornsllama/status/1473575508784955394/\">source</a>\n",
    "</center>\n",
    "\n",
    "<span style='color:blue'><b>blue line</b></span>: daily COVID cases in the USA<br>\n",
    "<span style='color:red'><b>red line</b></span>: bad reviews of Yankee Candles on Amazon saying \"they don't have any scent\""
   ]
  },
  {
   "cell_type": "markdown",
   "metadata": {
    "slideshow": {
     "slide_type": "slide"
    }
   },
   "source": [
    "### Social implications\n",
    "\n",
    "A [\"Face Depixelizer\"](https://github.com/tg-bomze/Face-Depixelizer) released in 2020 takes pixelated images and generates images that are perceptually realistic and downscale correctly.\n",
    "\n",
    "<center>\n",
    "<img src='images/depixel.png' width=300>\n",
    "</center>"
   ]
  },
  {
   "cell_type": "markdown",
   "metadata": {
    "slideshow": {
     "slide_type": "fragment"
    }
   },
   "source": [
    "    \n",
    "What happened here? Why do you think this happened?\n",
    "\n",
    "<center>\n",
    "<img src='images/depixel2.png' width=600>\n",
    "</center>"
   ]
  },
  {
   "cell_type": "markdown",
   "metadata": {
    "slideshow": {
     "slide_type": "slide"
    }
   },
   "source": [
    "## Course logistics"
   ]
  },
  {
   "cell_type": "markdown",
   "metadata": {
    "slideshow": {
     "slide_type": "slide"
    }
   },
   "source": [
    "### Course website\n",
    "\n",
    "The course website is your one-stop-shop for all things related to the course.\n",
    "\n",
    "<br>\n",
    "\n",
    "<center><h3><a href=\"https://dsc10.com\">dsc10.com</a></h3></center>\n",
    "\n",
    "<br>\n",
    "\n",
    "This is where lectures, homeworks, labs, discussions, and all other content will be posted. Check it often, and **read the [syllabus](https://dsc10.com/syllabus)**!"
   ]
  },
  {
   "cell_type": "markdown",
   "metadata": {
    "slideshow": {
     "slide_type": "slide"
    }
   },
   "source": [
    "### Getting set up\n",
    "\n",
    "- **Campuswire**: Q&A forum. Must be active here, since this is where all announcements will be made. Should have gotten email invitation; if not, there's a link on the course website.\n",
    "- **Gradescope**: Where you will submit all assignments for autograding, and where all of your grades will live. Should have been automatically added; contact us if not.\n",
    "- **DataHub**: Where you will access and run all code in this class. Access at [datahub.ucsd.edu](https://datahub.ucsd.edu).\n",
    "- We will **not** be using Canvas for anything!\n",
    "\n",
    "In addition, you must also fill out our [Beginning of Quarter Survey](https://forms.gle/Vc3GiLXfuN4iV9Hf9)."
   ]
  },
  {
   "cell_type": "markdown",
   "metadata": {
    "slideshow": {
     "slide_type": "slide"
    }
   },
   "source": [
    "### Lecture\n",
    "\n",
    "- Lectures will be in-person and podcasted for viewing afterwards.\n",
    "    - Attendance will never be required (but is strongly encouraged!)\n",
    "    - Recordings will be linked from the [course homepage](https://dsc10.com).\n",
    "- Slides/code from lecture will be linked on the course website.\n",
    "- <span style=\"color:red;\"><b>Important: We will **not** be using the assigned discussion or lab times!</b></span>\n",
    "    - i.e. you can ignore the Tues and Thurs 11am times on WebReg.\n",
    "- I bet you're thinking..."
   ]
  },
  {
   "cell_type": "markdown",
   "metadata": {
    "slideshow": {
     "slide_type": "slide"
    }
   },
   "source": [
    "### Labs\n",
    "- Lab assignments are a required part of the course and help you develop fluency in Python and working with data.\n",
    "- While working on the lab, you'll be able to run **autograder tests** which tell you if your answers are correct.\n",
    "    - For labs, if you pass all autograder tests, you will get 100\\%!\n",
    "- You must submit labs individually, but you can discuss ideas with others (no sharing code).\n",
    "- Labs are due on **Saturdays at 11:59pm** to Gradescope. The first lab (due this Saturday) will have submission instructions."
   ]
  },
  {
   "cell_type": "markdown",
   "metadata": {
    "slideshow": {
     "slide_type": "slide"
    }
   },
   "source": [
    "### Homeworks and projects\n",
    "\n",
    "- Weekly homework assignments build off of skills you develop in labs.\n",
    "- Key difference between homeworks and labs: passing autograder tests does not guarantee a perfect score!\n",
    "    - In homeworks, we have \"hidden tests\" that are only run after you submit the assignment.\n",
    "    - The tests that are available to you within the assignment itself only verify that your answer is reasonable/on the right track.\n",
    "- Again, you must work on homeworks yourself, but you can discuss ideas with other students (no sharing code).\n",
    "- Homeworks are due on **Tuesdays at 11:59pm** to Gradescope.\n",
    "- **Midterm Project and Final Project**: Deep dive into a data set! Longer than homeworks. Can work with a partner using [\"pair programming.\"](https://dsc10.com/pair-programming/)"
   ]
  },
  {
   "cell_type": "markdown",
   "metadata": {
    "slideshow": {
     "slide_type": "slide"
    }
   },
   "source": [
    "### Exams\n",
    "\n",
    "We will have two exams this quarter.\n",
    "- Midterm Exam: Friday, July 29, during the scheduled lecture time (11am).\n",
    "- Final Exam: Saturday, Sept 3 from 11:30am-2:30pm.\n",
    "- Both exams will be in-person, on-paper exams."
   ]
  },
  {
   "cell_type": "markdown",
   "metadata": {
    "slideshow": {
     "slide_type": "slide"
    }
   },
   "source": [
    "### Readings and resources\n",
    "\n",
    "- We will draw readings from two sources. Readings for each lecture will be posted on the course homepage.\n",
    "    - [DSC 10 Course Notes](https://notes.dsc10.com)\n",
    "    - [Computational and Inferential Thinking (CIT)](https://inferentialthinking.com)\n",
    "- The [Resources](https://dsc10.com/resources) tab of the course website contains links to helpful resources that you'll want to use throughout the course (e.g. DSC 10 reference sheet, programming tutorials, supplemental videos).\n",
    "- The [Debugging](https://dsc10.com/debugging) tab of the course website has answers to many common technical issues."
   ]
  },
  {
   "cell_type": "markdown",
   "metadata": {
    "slideshow": {
     "slide_type": "slide"
    }
   },
   "source": [
    "### A typical week in DSC 10\n",
    "\n",
    "| Sunday | Monday | Tuesday | Wednesday | Thursday | Friday | Saturday |\n",
    "|: -- :|: -- :|: -- :|: -- :|: -- :|: -- :|: -- :|\n",
    "| Nothing! 😎 | Lecture | | Lecture | | Lecture | |\n",
    "| | | | | | | |\n",
    "| | | **Homework due** | | | | **Lab due** |\n",
    "\n",
    "See https://dsc10.com/syllabus for more details."
   ]
  },
  {
   "cell_type": "markdown",
   "metadata": {
    "slideshow": {
     "slide_type": "slide"
    }
   },
   "source": [
    "### First assignments\n",
    "- Lab 1, due Saturday, July 2 at 11:59pm.\n",
    "    - Do the lab before you do the homework!\n",
    "- Homework 1, due Tuesday, July 5 at 11:59pm.\n",
    "    - Will be released by Wednesday.\n",
    "- <span style='color:red'><b>Important: Start early and submit often</b>.</span>"
   ]
  },
  {
   "cell_type": "markdown",
   "metadata": {
    "slideshow": {
     "slide_type": "slide"
    }
   },
   "source": [
    "### Getting help\n",
    "\n",
    "This is a tough, fast-paced course. But we're here to help you – here's how:\n",
    "\n",
    "- **Office Hours (OH)**\n",
    "    - Remote and in-person throughout the week.\n",
    "    - See the schedule and Zoom link on the [Calendar 📆](https://dsc10.com/calendar).\n",
    "- **Campuswire**\n",
    "    - Post here with any logistical or conceptual questions (please don't ask these questions via email).\n",
    "    - If posting your code, make your post private to instructors + TAs; otherwise, make your post public (you can post anonymously, if you'd like).\n",
    "    - No DMs!\n",
    "- <span style=\"color:red;\"><b>Important: Use these to your advantage!</b></span>"
   ]
  },
  {
   "cell_type": "markdown",
   "metadata": {
    "slideshow": {
     "slide_type": "slide"
    }
   },
   "source": [
    "### Advice from previous students\n",
    "\n",
    "At the end of fall quarter, we asked DSC 10 students to give advice to future students in the course. Here are some responses:\n",
    "\n",
    "> \"Go to office hours! Get a partner for the project even if you don't want to. If you don't understand a topic try the following: go to office hours, ask on campuswire, check the textbook, look at lecture notes. Start on the assignments early try and finish 2 days early to check your work.\"\n",
    "\n",
    "> \"I would give the advice to attend the discussions and office hours whenever possible, as a lot of the times I found myself learning new things even when I didn't come with a question ready.\"\n",
    "\n",
    "> \"Do NOT fall behind in lectures. It becomes very difficult to catch up on the concepts. Go to your discussion section! Hearing a concept explained once can be difficult to understand so discussion section was extremely helpful.\"\n",
    "\n",
    "> \"GO TO OFFICE HOURS!  It's very important to let your voice out. Talk to the professor after lectures, attend office hours, post your questions and ask a question.\""
   ]
  },
  {
   "cell_type": "markdown",
   "metadata": {
    "slideshow": {
     "slide_type": "slide"
    }
   },
   "source": [
    "### Collaboration\n",
    "\n",
    "#### Asking questions is highly encouraged!\n",
    "- Discuss all questions with each other (except exams).\n",
    "- Submit lab assignments individually, but you can work with others (no sharing code).\n",
    "- Submit homeworks individually, but you can discuss problem-solving strategies with others (no sharing code).\n",
    "- Submit projects individually or in pairs using pair programming."
   ]
  },
  {
   "cell_type": "markdown",
   "metadata": {
    "slideshow": {
     "slide_type": "fragment"
    }
   },
   "source": [
    "#### The limits of collaboration\n",
    "- Don't share solutions with each other or look at someone’s code.\n",
    "- Partners should work together and be physically in the same place (or same Zoom call).\n",
    "- Academic integrity violations usually result in failing the course. "
   ]
  },
  {
   "cell_type": "markdown",
   "metadata": {
    "slideshow": {
     "slide_type": "slide"
    }
   },
   "source": [
    "### We're here for you!\n",
    "\n",
    "Regardless of your background, you can succeed in this course. **No prior programming or statistics experience will be assumed!**\n",
    "\n",
    "This summer might be the smallest DSC 10 course for the foreseeable future---take advantage!"
   ]
  },
  {
   "cell_type": "markdown",
   "metadata": {
    "slideshow": {
     "slide_type": "slide"
    }
   },
   "source": [
    "### Campus resources\n",
    "\n",
    "Counseling and Psychological Services (CAPS) is a campus unit that offers “short term counseling for academic, career, and personal issues and also offers psychiatry services for circumstances when medication can help with counseling.”\n",
    "If you or anyone you know is ever in need of mental health care, you should contact CAPS.\n",
    "\n",
    "<center><h3><a href=\"https://caps.ucsd.edu/\">caps.ucsd.edu</a></h3></center>"
   ]
  },
  {
   "cell_type": "markdown",
   "metadata": {
    "slideshow": {
     "slide_type": "slide"
    }
   },
   "source": [
    "## Demo"
   ]
  },
  {
   "cell_type": "markdown",
   "metadata": {
    "slideshow": {
     "slide_type": "slide"
    }
   },
   "source": [
    "### _Little Women_ (1868)\n",
    "\n",
    "- _Little Women_, by Louisa May Alcott, is a novel that follows the life of four sisters – Meg, Jo, Beth, and Amy.\n",
    "- Using tools from this class, we'll learn about the plot of the book, without reading it.\n",
    "- Do not worry about any of this code – we'll cover the necessary pieces in the weeks to come. Sit back and relax!"
   ]
  },
  {
   "cell_type": "code",
   "execution_count": null,
   "metadata": {
    "scrolled": true,
    "slideshow": {
     "slide_type": "slide"
    }
   },
   "outputs": [],
   "source": [
    "# Read in 'lw.txt' to a variable called \"little_women_text\"\n",
    "little_women_text = open('data/lw.txt').read()"
   ]
  },
  {
   "cell_type": "code",
   "execution_count": null,
   "metadata": {
    "slideshow": {
     "slide_type": "slide"
    }
   },
   "outputs": [],
   "source": [
    "# See the first three thousand characters\n",
    "little_women_text[:3000]"
   ]
  },
  {
   "cell_type": "code",
   "execution_count": null,
   "metadata": {
    "slideshow": {
     "slide_type": "slide"
    }
   },
   "outputs": [],
   "source": [
    "# Print the first three thousand characters\n",
    "print(little_women_text[:3000])"
   ]
  },
  {
   "cell_type": "code",
   "execution_count": null,
   "metadata": {
    "slideshow": {
     "slide_type": "slide"
    }
   },
   "outputs": [],
   "source": [
    "# Create a variable \"chapters\" by splitting the text on 'CHAPTER '\n",
    "chapters = little_women_text.split('CHAPTER ') \n",
    "\n",
    "# Create a DataFrame with one column -- the chapters\n",
    "bpd.DataFrame().assign(chapters=chapters)"
   ]
  },
  {
   "cell_type": "code",
   "execution_count": null,
   "metadata": {
    "slideshow": {
     "slide_type": "slide"
    }
   },
   "outputs": [],
   "source": [
    "# Counts of names in the chapters of Little Women\n",
    "\n",
    "counts = bpd.DataFrame().assign(\n",
    "    Amy=np.char.count(chapters, 'Amy'),\n",
    "    Beth=np.char.count(chapters, 'Beth'),\n",
    "    Jo=np.char.count(chapters, 'Jo'),\n",
    "    Meg=np.char.count(chapters, 'Meg'),\n",
    "    Laurie=np.char.count(chapters, 'Laurie'),\n",
    ")\n",
    "counts"
   ]
  },
  {
   "cell_type": "code",
   "execution_count": null,
   "metadata": {
    "slideshow": {
     "slide_type": "slide"
    }
   },
   "outputs": [],
   "source": [
    "# Cumulative number of times each name appears\n",
    "\n",
    "cumulative_counts = bpd.DataFrame().assign(\n",
    "    Amy=np.cumsum(counts.get('Amy')),\n",
    "    Beth=np.cumsum(counts.get('Beth')),\n",
    "    Jo=np.cumsum(counts.get('Jo')),\n",
    "    Meg=np.cumsum(counts.get('Meg')),\n",
    "    Laurie=np.cumsum(counts.get('Laurie')),\n",
    "    Chapter=np.arange(1, 49, 1)\n",
    ")\n",
    "\n",
    "cumulative_counts.plot(x='Chapter')\n",
    "\n",
    "plt.title('Cumulative Number of Times Each Name Appears', y=1.08);"
   ]
  },
  {
   "cell_type": "code",
   "execution_count": null,
   "metadata": {
    "slideshow": {
     "slide_type": "slide"
    }
   },
   "outputs": [],
   "source": [
    "# Interactive version of the previous plot\n",
    "\n",
    "cumulative_counts_df = cumulative_counts.drop(columns=['Chapter']).to_df().melt().rename(columns={'variable': 'name', 'value': 'count'})\n",
    "cumulative_counts_df = cumulative_counts_df.assign(chapter = list(range(1, 49)) * 5)\n",
    "px.line(cumulative_counts_df, x='chapter', y='count', color='name', width=900, height=600, title='Cumulative Number of Times Each Name Appears')"
   ]
  },
  {
   "cell_type": "markdown",
   "metadata": {
    "slideshow": {
     "slide_type": "slide"
    }
   },
   "source": [
    "### Discussion Question\n",
    "\n",
    "In Chapter 32, Jo moves to New York alone. Her relationship with which sister suffers the most from this faraway move?\n",
    "\n",
    "A. Amy\n",
    "\n",
    "B. Beth\n",
    "\n",
    "C. Meg\n",
    "\n",
    "### To answer, go to **[menti.com](https://menti.com)** and enter the code **9731 1635**."
   ]
  },
  {
   "cell_type": "markdown",
   "metadata": {
    "slideshow": {
     "slide_type": "slide"
    }
   },
   "source": [
    "### Discussion Question\n",
    "\n",
    "Laurie is a man who marries one of the sisters at the end. Which one?\n",
    "\n",
    "\n",
    "A. Amy\n",
    "\n",
    "B. Beth\n",
    "\n",
    "C. Jo\n",
    "\n",
    "D. Meg\n",
    "\n",
    "### To answer, go to **[menti.com](https://menti.com)** and enter the code **9731 1635**."
   ]
  },
  {
   "cell_type": "markdown",
   "metadata": {
    "slideshow": {
     "slide_type": "slide"
    }
   },
   "source": [
    "### Next time\n",
    "\n",
    "On Wednesday, we'll look at the question of when we can assign a cause to an effect. "
   ]
  }
 ],
 "metadata": {
  "celltoolbar": "Slideshow",
  "kernelspec": {
   "display_name": "Python 3 (ipykernel)",
   "language": "python",
   "name": "python3"
  },
  "language_info": {
   "codemirror_mode": {
    "name": "ipython",
    "version": 3
   },
   "file_extension": ".py",
   "mimetype": "text/x-python",
   "name": "python",
   "nbconvert_exporter": "python",
   "pygments_lexer": "ipython3",
   "version": "3.8.5"
  },
  "rise": {
   "enable_chalkboard": true
  }
 },
 "nbformat": 4,
 "nbformat_minor": 4
}
