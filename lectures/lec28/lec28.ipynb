{
 "cells": [
  {
   "cell_type": "code",
   "execution_count": 1,
   "id": "61ca88b5",
   "metadata": {
    "slideshow": {
     "slide_type": "skip"
    }
   },
   "outputs": [
    {
     "data": {
      "text/html": [
       "\n",
       "<script type=\"text/javascript\" src=\"https://pandastutor.com/build/wsembed.bundle.2022-07-07-release.js\"></script>\n",
       "<script>\n",
       "console.log(\"initializing pandas_tutor js\")\n",
       "\n",
       "function drawWsv(viz_id, spec, options) {\n",
       "  if (typeof createWsvFromPandasTrace === 'undefined') {\n",
       "    setTimeout(() => drawWsv(viz_id, spec, options), 2000) // retry in 2 seconds\n",
       "    return\n",
       "  }\n",
       "  createWsvFromPandasTrace(viz_id, spec, options)\n",
       "}\n",
       "</script>\n"
      ],
      "text/plain": [
       "<IPython.core.display.HTML object>"
      ]
     },
     "metadata": {},
     "output_type": "display_data"
    }
   ],
   "source": [
    "# Set up packages for lecture. Don't worry about understanding this code, but\n",
    "# make sure to run it if you're following along.\n",
    "import numpy as np\n",
    "import babypandas as bpd\n",
    "import pandas as pd\n",
    "from matplotlib_inline.backend_inline import set_matplotlib_formats\n",
    "import matplotlib.pyplot as plt\n",
    "from scipy import stats\n",
    "%reload_ext pandas_tutor\n",
    "%set_pandas_tutor_options {'projectorMode': True}\n",
    "set_matplotlib_formats(\"svg\")\n",
    "plt.style.use('fivethirtyeight')\n",
    "\n",
    "np.set_printoptions(threshold=20, precision=2, suppress=True)\n",
    "pd.set_option(\"display.max_rows\", 7)\n",
    "pd.set_option(\"display.max_columns\", 8)\n",
    "pd.set_option(\"display.precision\", 2)\n",
    "\n",
    "# Setup to start where we left off last time\n",
    "keep_cols = ['business_name', 'inspection_date', 'inspection_score', 'risk_category', 'Neighborhoods', 'Zip Codes']\n",
    "restaurants_full = bpd.read_csv('data/restaurants.csv').get(keep_cols)\n",
    "bakeries = restaurants_full[restaurants_full.get('business_name').str.lower().str.contains('bake')]\n",
    "bakeries = bakeries[bakeries.get('inspection_score') >= 0] # Keeping only the rows where we know the inspection score"
   ]
  },
  {
   "cell_type": "markdown",
   "id": "61a2a8dc",
   "metadata": {
    "slideshow": {
     "slide_type": "slide"
    }
   },
   "source": [
    "# Lecture 28 – Conclusion, How to Get Data Science Experience\n",
    "\n",
    "## DSC 10, Summer 2022"
   ]
  },
  {
   "cell_type": "markdown",
   "id": "65feeef8",
   "metadata": {
    "slideshow": {
     "slide_type": "slide"
    }
   },
   "source": [
    "### Announcements\n",
    "\n",
    "- The Final Exam is **tomorrow from 11:30-2:30pm**.\n",
    "- End of quarter feedback\n",
    "    - We very much value your feedback on the course and the instruction! 🙏\n",
    "    - [End-of-quarter survey](https://forms.gle/czvzKHTZ4V7h1u1t8) for course-specific feedback, and [TA evaluations](https://academicaffairs.ucsd.edu/Modules/Evals) for course staff\n",
    "    - If at least 85% of the class fills out the [end-of-quarter survey](https://forms.gle/czvzKHTZ4V7h1u1t8), then everyone will receive 1 point of extra credit for their final exam."
   ]
  },
  {
   "cell_type": "markdown",
   "id": "0dcd77c9",
   "metadata": {
    "slideshow": {
     "slide_type": "slide"
    }
   },
   "source": [
    "### Agenda\n",
    "\n",
    "- Overview of course.\n",
    "- Personal projects. \n",
    "- How do I get more real-world data science experience?"
   ]
  },
  {
   "cell_type": "markdown",
   "id": "419621a1",
   "metadata": {
    "slideshow": {
     "slide_type": "slide"
    }
   },
   "source": [
    "## From Lecture 1: what is data science?\n",
    "\n",
    "Drawing useful conclusions from data using computation.\n",
    "\n",
    "- **Exploration**\n",
    "    - Identifying patterns in information\n",
    "    - Uses visualizations\n",
    "- **Prediction**\n",
    "    - Making informed guesses\n",
    "    - Uses machine learning and optimization\n",
    "- **Inference**\n",
    "    - Quantifying whether those predictions are reliable\n",
    "    - Uses randomization\n",
    "    \n",
    "Throughout the quarter, you were exposed to all three of these facets. In future courses, you'll continue to learn more."
   ]
  },
  {
   "cell_type": "markdown",
   "id": "0be1987f",
   "metadata": {
    "slideshow": {
     "slide_type": "slide"
    }
   },
   "source": [
    "### Thank you!\n",
    "\n",
    "This course would not have been possible without...\n",
    "- Our TA: Shivani Bhakta\n",
    "- Our tutors: Eric Chen, Oren Ciolli, and Tiffany Yu\n",
    "\n",
    "- Find out [more about tutoring](https://datascience.ucsd.edu/academics/undergraduate/dsc-tutors/) if you're interested - it's a lot of fun!\n",
    "- Keep in touch! [dsc10.com/staff](https://dsc10.com/staff)"
   ]
  },
  {
   "cell_type": "markdown",
   "id": "116bb9bf",
   "metadata": {
    "slideshow": {
     "slide_type": "slide"
    }
   },
   "source": [
    "## Personal projects"
   ]
  },
  {
   "cell_type": "markdown",
   "id": "1096e857",
   "metadata": {
    "slideshow": {
     "slide_type": "slide"
    }
   },
   "source": [
    "### Using Jupyter Notebooks after DSC 10\n",
    "\n",
    "- You may be interested in working on data science projects of your own.\n",
    "- In [this video](https://www.youtube.com/watch?v=Hq8VaNirDRQ), we show you how to make blank notebooks and upload datasets of your own to DataHub.\n",
    "- Depending on the classes you're in, you may not have access to DataHub. Eventually, you'll want to install Jupyter Notebooks on your computer.\n",
    "    - [Anaconda](https://docs.anaconda.com/anaconda/install/index.html) is a great way to do that, as it also installs many commonly used packages.\n",
    "    - You may want to download your work from DataHub so you can refer to it after the course ends.\n",
    "    - Remember, all `babypandas` code is regular `pandas` code, too!"
   ]
  },
  {
   "cell_type": "markdown",
   "id": "11dcf19d",
   "metadata": {
    "slideshow": {
     "slide_type": "slide"
    }
   },
   "source": [
    "### Finding data\n",
    "\n",
    "These sites allow you to search for datasets (in CSV format) from a variety of different domains. Some may require you to sign up for an account; these are generally reputable sources.\n",
    "\n",
    "Note that all of these links are also available at https://rampure.org/find-datasets.\n",
    "\n",
    "- [Data is Plural](https://www.data-is-plural.com/archive/)\n",
    "- [FiveThirtyEight](https://data.fivethirtyeight.com/).\n",
    "- [CORGIS](https://corgis-edu.github.io/corgis/csv/).\n",
    "- [Kaggle Datasets](https://www.kaggle.com/datasets).\n",
    "- [Google’s dataset search](http://toolbox.google.com/datasetsearch).\n",
    "- [DataHub.io](https://datahub.io/collections).\n",
    "- [Data.world.](https://data.world/)\n",
    "- [R datasets](https://vincentarelbundock.github.io/Rdatasets/articles/data.html).\n",
    "- Wikipedia. (use [this site](https://wikitable2csv.ggor.de/) to extract and download tables as CSVs)\n",
    "- [Awesome Public Datasets GitHub repo](https://github.com/awesomedata/awesome-public-datasets).\n",
    "- [Links to even more sources](https://rockcontent.com/blog/data-sources/)"
   ]
  },
  {
   "cell_type": "markdown",
   "id": "4d072278",
   "metadata": {
    "slideshow": {
     "slide_type": "slide"
    }
   },
   "source": [
    "### Domain-specific sources of data\n",
    "\n",
    "- Sports: [Basketball Reference](https://www.basketball-reference.com/), [Baseball Reference](https://www.baseball-reference.com/), etc.\n",
    "- US Government Sources: [census.gov](https://www.census.gov/data/tables.html), [data.gov](https://www.data.gov/), [data.ca.gov](https://data.ca.gov/), [data.sfgov.org](https://data.sfgov.org/browse?), [FBI’s Crime Data Explorer](https://crime-data-explorer.fr.cloud.gov/), [Centers for Disease Control and Prevention](https://data.cdc.gov/browse?category=NCHS).\n",
    "- Global Development: [data.worldbank.org](https://data.worldbank.org/), [databank.worldbank.org](https://databank.worldbank.org/home.aspx), [WHO](https://apps.who.int/gho/data/node.home).\n",
    "- Transportation: [New York Taxi trips](https://www1.nyc.gov/site/tlc/about/tlc-trip-record-data.page), [Bureau of Transportation Statistics](https://www.transtats.bts.gov/DataIndex.asp), [SFO Air Traffic Statistics](https://www.flysfo.com/media/facts-statistics/air-traffic-statistics).\n",
    "- Music: [Spotify Charts](https://spotifycharts.com/regional).\n",
    "- COVID: [Johns Hopkins](https://github.com/CSSEGISandData/COVID-19).\n",
    "- Any Google Forms survey you’ve administered! (Go to the results spreadsheet, then go to “File > Download > Comma-separated values”.)\n",
    "\n",
    "Tip: if a site only allows you to download a file as an Excel file, not a CSV file, you can download it, open it in a spreadsheet viewer (Excel, Numbers, Google Sheets), and export it to a CSV."
   ]
  },
  {
   "cell_type": "markdown",
   "id": "696860e3",
   "metadata": {
    "slideshow": {
     "slide_type": "slide"
    }
   },
   "source": [
    "## Parting thoughts"
   ]
  },
  {
   "cell_type": "markdown",
   "id": "13c939fb",
   "metadata": {
    "slideshow": {
     "slide_type": "slide"
    }
   },
   "source": [
    "## How do I get more real-world data science experience?\n",
    "\n",
    "- Most accessible way is to get involved with a research group on campus.\n",
    "- How? Sam will walk through a few steps you can do."
   ]
  },
  {
   "cell_type": "markdown",
   "id": "5df7ad61",
   "metadata": {},
   "source": [
    "- Friendly, but not toooo enthusiastic, know what you're interested in.\n",
    "- Not hyper-focused on getting a research job.\n",
    "- I'm really interested in the topic.\n",
    "\n",
    "Hi [X],\n",
    "\n",
    "I'm [X], a 3rd year undergrad at UCSD studying [blank].\n",
    "\n",
    "I saw your paper on [X] and am interested in hearing about the idea and the process of doing your research.\n",
    "\n",
    "- I see that you're research in [X] and would like to hear about your current research ideas.\n",
    "\n",
    "Would you be open to having a 30-min chat with me about your work?\n",
    "\n",
    "\n",
    "\n",
    "At the end of the conversation:\n",
    "\n",
    "- I'm looking for real-world data science experience during the upcoming school year, would you be open to having me come and help?\n",
    "- Do you know anyone who you think I could talk to learn more?"
   ]
  },
  {
   "cell_type": "markdown",
   "id": "28c20d5d",
   "metadata": {
    "slideshow": {
     "slide_type": "slide"
    }
   },
   "source": [
    "## Good luck on the final! 🎉"
   ]
  }
 ],
 "metadata": {
  "kernelspec": {
   "display_name": "Python 3 (ipykernel)",
   "language": "python",
   "name": "python3"
  },
  "language_info": {
   "codemirror_mode": {
    "name": "ipython",
    "version": 3
   },
   "file_extension": ".py",
   "mimetype": "text/x-python",
   "name": "python",
   "nbconvert_exporter": "python",
   "pygments_lexer": "ipython3",
   "version": "3.8.5"
  }
 },
 "nbformat": 4,
 "nbformat_minor": 5
}
