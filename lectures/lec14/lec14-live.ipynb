{
 "cells": [
  {
   "cell_type": "code",
   "execution_count": null,
   "metadata": {
    "slideshow": {
     "slide_type": "skip"
    }
   },
   "outputs": [],
   "source": [
    "# Set up packages for lecture. Don't worry about understanding this code, but\n",
    "# make sure to run it if you're following along.\n",
    "import numpy as np\n",
    "import babypandas as bpd\n",
    "import pandas as pd\n",
    "from matplotlib_inline.backend_inline import set_matplotlib_formats\n",
    "import matplotlib.pyplot as plt\n",
    "%reload_ext pandas_tutor\n",
    "%set_pandas_tutor_options {'projectorMode': True}\n",
    "set_matplotlib_formats(\"svg\")\n",
    "plt.style.use('fivethirtyeight')\n",
    "\n",
    "np.set_printoptions(threshold=20, precision=2, suppress=True)\n",
    "pd.set_option(\"display.max_rows\", 7)\n",
    "pd.set_option(\"display.max_columns\", 8)\n",
    "pd.set_option(\"display.precision\", 2)"
   ]
  },
  {
   "cell_type": "markdown",
   "metadata": {
    "slideshow": {
     "slide_type": "slide"
    }
   },
   "source": [
    "# Lecture 14 – Distributions and Sampling\n",
    "\n",
    "## DSC 10, Summer 2022"
   ]
  },
  {
   "cell_type": "markdown",
   "metadata": {
    "slideshow": {
     "slide_type": "slide"
    }
   },
   "source": [
    "### Announcements\n",
    "\n",
    "- Good job on the midterm!\n",
    "- Fill out **the [Mid-Quarter Survey][survey] by 11:59pm tonight**.\n",
    "    - If 90% of the class fills it out, everyone gets +0.5 points back on the midterm.\n",
    "    - Right now we're at 50%!\n",
    "- The Midterm Project is due **Sat, 8/6 at 11:59pm**.\n",
    "\n",
    "\n",
    "[survey]: https://docs.google.com/forms/d/e/1FAIpQLSd-DNxEqG-qb44LTt_zinwcYXsfh7IjaUuDSugFdq_waF4PAw/viewform"
   ]
  },
  {
   "cell_type": "markdown",
   "metadata": {
    "slideshow": {
     "slide_type": "slide"
    }
   },
   "source": [
    "## So far...\n",
    "\n",
    "- Experiments\n",
    "- DataFrames\n",
    "- Plotting\n",
    "- Iteration\n",
    "- Probability\n",
    "- Simulation"
   ]
  },
  {
   "cell_type": "markdown",
   "metadata": {
    "slideshow": {
     "slide_type": "slide"
    }
   },
   "source": [
    "## Next...\n",
    "\n",
    "- Hypothesis testing\n",
    "- Bootstrapping\n",
    "- Confidence intervals\n",
    "- Regression\n",
    "\n",
    "⚠️ Tricky concepts! Expect to spend more time on this part of the course."
   ]
  },
  {
   "cell_type": "markdown",
   "metadata": {
    "slideshow": {
     "slide_type": "slide"
    }
   },
   "source": [
    "## Agenda\n",
    "\n",
    "- Probability distributions and empirical distributions.\n",
    "- Populations and samples.\n",
    "- Parameters and statistics."
   ]
  },
  {
   "cell_type": "markdown",
   "metadata": {
    "slideshow": {
     "slide_type": "slide"
    }
   },
   "source": [
    "## Distributions"
   ]
  },
  {
   "cell_type": "markdown",
   "metadata": {
    "slideshow": {
     "slide_type": "slide"
    }
   },
   "source": [
    "### Distributions\n",
    "- A **distribution** describes the frequency of each value of a variable.\n",
    "- We visualize distributions of numerical variables with histograms."
   ]
  },
  {
   "cell_type": "markdown",
   "metadata": {
    "slideshow": {
     "slide_type": "slide"
    }
   },
   "source": [
    "### Probability distributions\n",
    "- Consider a random quantity with various possible values, each of which has some associated probability.\n",
    "- A **probability distribution** is a description of:\n",
    "    - All possible values of the quantity.\n",
    "    - The theoretical probability of each value.\n",
    "* Example, for rolling a single die:\n",
    "\n",
    "| Value     |Probability |\n",
    "| ----------- | ----------- |\n",
    "| 1      | $\\frac{1}{6}$ |\n",
    "| 2   | $\\frac{1}{6}$        |\n",
    "| 3      | $\\frac{1}{6}$       |\n",
    "| 4   | $\\frac{1}{6}$       |\n",
    "| 5      | $\\frac{1}{6}$       |\n",
    "| 6   | $\\frac{1}{6}$        |\n"
   ]
  },
  {
   "cell_type": "markdown",
   "metadata": {
    "slideshow": {
     "slide_type": "slide"
    }
   },
   "source": [
    "### Example: probability distribution of a die roll 🎲\n",
    "\n",
    "The distribution is **uniform**, meaning that each outcome has the same probability of occurring."
   ]
  },
  {
   "cell_type": "code",
   "execution_count": null,
   "metadata": {},
   "outputs": [],
   "source": []
  },
  {
   "cell_type": "code",
   "execution_count": null,
   "metadata": {},
   "outputs": [],
   "source": [
    "bins = np.arange(0.5, 6.6, 1)\n",
    "\n",
    "# Note that you can add titles to your visualizations, like this!\n",
    "\n",
    "# You can also set the y-axis label with plt.ylabel"
   ]
  },
  {
   "cell_type": "markdown",
   "metadata": {
    "slideshow": {
     "slide_type": "slide"
    }
   },
   "source": [
    "### Empirical distributions\n",
    "\n",
    "- Unlike probability distributions, which are theoretical, **empirical distributions are based on observations**.\n",
    "- Commonly, these observations are of repetitions of an experiment.\n",
    "- An **empirical distribution** describes:\n",
    "    - All observed values.\n",
    "    - The proportion of observations in which each value occurred.\n",
    "- Unlike probability distributions, empirical distributions represent what actually happened in practice. "
   ]
  },
  {
   "cell_type": "markdown",
   "metadata": {
    "slideshow": {
     "slide_type": "slide"
    }
   },
   "source": [
    "### Example: Empirical distribution of a die roll 🎲\n",
    "- Let's simulate a roll by using `np.random.choice`.\n",
    "- Rolling a die = sampling with replacement.\n",
    "    - If you roll a 4, you can roll a 4 again."
   ]
  },
  {
   "cell_type": "code",
   "execution_count": null,
   "metadata": {},
   "outputs": [],
   "source": []
  },
  {
   "cell_type": "code",
   "execution_count": null,
   "metadata": {},
   "outputs": [],
   "source": []
  },
  {
   "cell_type": "markdown",
   "metadata": {
    "slideshow": {
     "slide_type": "slide"
    }
   },
   "source": [
    "### You Try: many die rolls 🎲\n",
    "\n",
    "What happens if we increase the number of die rolls? 🤔\n",
    "\n",
    "Make a histogram for the empirical distribution of 100, 1000, 5000, and 10000 rolls. What you do notice?"
   ]
  },
  {
   "cell_type": "code",
   "execution_count": null,
   "metadata": {},
   "outputs": [],
   "source": []
  },
  {
   "cell_type": "markdown",
   "metadata": {
    "slideshow": {
     "slide_type": "slide"
    }
   },
   "source": [
    "### Many die rolls 🎲"
   ]
  },
  {
   "cell_type": "code",
   "execution_count": null,
   "metadata": {},
   "outputs": [],
   "source": []
  },
  {
   "cell_type": "markdown",
   "metadata": {
    "slideshow": {
     "slide_type": "slide"
    }
   },
   "source": [
    "### Why does this happen? ⚖️\n",
    "\n",
    "The **law of large numbers** states that if a chance experiment is repeated \n",
    "- many times,\n",
    "- independently, and\n",
    "- under the same conditions,\n",
    "    \n",
    "then the **proportion** of times that an event occurs gets closer and closer to the **theoretical probability** of that event.\n",
    "\n",
    "**For example:** As you roll a die repeatedly, the proportion of times you roll a 5 gets closer to $\\frac{1}{6}$."
   ]
  },
  {
   "cell_type": "markdown",
   "metadata": {
    "slideshow": {
     "slide_type": "slide"
    }
   },
   "source": [
    "## Sampling"
   ]
  },
  {
   "cell_type": "markdown",
   "metadata": {
    "slideshow": {
     "slide_type": "slide"
    }
   },
   "source": [
    "### Populations and samples\n",
    "\n",
    "- A **population** is the complete group of people, objects, or events that we want to learn something about.\n",
    "- It's often infeasible to collect information about every member of a population.\n",
    "- Instead, we can collect a **sample**, which is a subset of the population.\n",
    "- **Goal**: estimate the distribution of some numerical variable in the population, using only a sample.\n",
    "    - For example, say I want to know the number of credits each UCSD student is taking this quarter.\n",
    "    - It's too hard to get this information for every UCSD student, so we don't know the **population distribution**.\n",
    "    - Instead we collect data from only certain UCSD students to generate a **sample distribution**."
   ]
  },
  {
   "cell_type": "markdown",
   "metadata": {
    "slideshow": {
     "slide_type": "slide"
    }
   },
   "source": [
    "**Question:** How do we collect a good sample, so that the sample distribution closely approximates the population distribution?\n",
    "\n",
    "- **Bad idea ❌:** Survey whoever you can get ahold of (e.g. internet survey, people in line at Panda Express at PC).\n",
    "    - Such a sample is known as a convenience sample.\n",
    "    - Convenience samples often contain hidden sources of **bias**."
   ]
  },
  {
   "cell_type": "markdown",
   "metadata": {
    "slideshow": {
     "slide_type": "slide"
    }
   },
   "source": [
    "### Probability sample (aka random sample)\n",
    "\n",
    "- In order for a sample to be a probability sample, you **must be able to calculate the probability of selecting any subset of the population**.\n",
    "- Not all individuals need to have an equal chance of being selected.\n",
    "- What's the point?\n",
    "    - There's a better chance of collecting a **representative** sample this way."
   ]
  },
  {
   "cell_type": "markdown",
   "metadata": {
    "slideshow": {
     "slide_type": "slide"
    }
   },
   "source": [
    "### Example: movies 🎥"
   ]
  },
  {
   "cell_type": "code",
   "execution_count": null,
   "metadata": {
    "slideshow": {
     "slide_type": "-"
    }
   },
   "outputs": [],
   "source": [
    "top = bpd.read_csv('data/top_movies.csv')\n",
    "top"
   ]
  },
  {
   "cell_type": "markdown",
   "metadata": {
    "slideshow": {
     "slide_type": "slide"
    }
   },
   "source": [
    "### A probability sample\n",
    "- **Scheme:** Start with a random number between 0 and 9 take every tenth row thereafter.\n",
    "    - **This is a probability sample!**\n",
    "- Any given row is equally likely to be picked, with probability 1/10.\n",
    "- It is **not** true that every subset of rows has the same probability of being selected.\n",
    "    - There are only 10 possible samples: rows (0, 10, 20, 30, ..., 190), rows (1, 11, 21, ..., 191), and so on."
   ]
  },
  {
   "cell_type": "code",
   "execution_count": null,
   "metadata": {
    "slideshow": {
     "slide_type": "-"
    }
   },
   "outputs": [],
   "source": [
    "start = np.random.choice(np.arange(10))\n",
    "top.take(np.arange(start, 200, 10))"
   ]
  },
  {
   "cell_type": "markdown",
   "metadata": {
    "slideshow": {
     "slide_type": "slide"
    }
   },
   "source": [
    "### Simple random sample\n",
    "\n",
    "- A **simple random sample (SRS)** is a sample drawn **uniformly** at random **without** replacement.\n",
    "- In an SRS...\n",
    "    - Every individual has the same chance of being selected.\n",
    "    - Every pair has the same chance of being selected.\n",
    "    - Every triplet has the same chance of being selected.\n",
    "    - And so on...\n",
    "- To perform an SRS from a list or array `options`, we use `np.random.choice(options, replace=False)`.\n",
    "    - If we use `replace=True`, then we're **sampling uniformly at random with replacement** – there's no simpler term for this."
   ]
  },
  {
   "cell_type": "markdown",
   "metadata": {
    "slideshow": {
     "slide_type": "slide"
    }
   },
   "source": [
    "### Sampling rows from a DataFrame\n",
    "\n",
    "If we want to sample rows from a DataFrame, we can use the `.sample` method on a DataFrame.\n",
    "\n",
    "```py\n",
    "df.sample(n)\n",
    "```\n",
    "\n",
    "returns a random subset of `n` rows of `df`, drawn **without replacement** (i.e. the default is `replace=False`, unlike `np.random.choice`)."
   ]
  },
  {
   "cell_type": "code",
   "execution_count": null,
   "metadata": {},
   "outputs": [],
   "source": []
  },
  {
   "cell_type": "code",
   "execution_count": null,
   "metadata": {},
   "outputs": [],
   "source": []
  },
  {
   "cell_type": "markdown",
   "metadata": {
    "slideshow": {
     "slide_type": "slide"
    }
   },
   "source": [
    "### The effect of sample size\n",
    "\n",
    "- The law of large numbers states that when we repeat a chance experiment more and more times, the empirical distribution will look more and more like the true probability distribution.\n",
    "- **Similarly, if we take a large simple random sample, then the sample distribution is likely to be a good approximation of the true population distribution.**"
   ]
  },
  {
   "cell_type": "markdown",
   "metadata": {
    "slideshow": {
     "slide_type": "slide"
    }
   },
   "source": [
    "### Example: distribution of flight delays ✈️\n",
    "\n",
    "`united_full` contains information about all United flights leaving SFO between 6/1/15 and 8/31/15."
   ]
  },
  {
   "cell_type": "code",
   "execution_count": null,
   "metadata": {},
   "outputs": [],
   "source": [
    "united_full = bpd.read_csv('data/united_summer2015.csv')\n",
    "united_full"
   ]
  },
  {
   "cell_type": "markdown",
   "metadata": {
    "slideshow": {
     "slide_type": "slide"
    }
   },
   "source": [
    "### Only need delays..."
   ]
  },
  {
   "cell_type": "code",
   "execution_count": null,
   "metadata": {},
   "outputs": [],
   "source": [
    "united = united_full.get(['Delay'])\n",
    "united"
   ]
  },
  {
   "cell_type": "markdown",
   "metadata": {
    "slideshow": {
     "slide_type": "slide"
    }
   },
   "source": [
    "### Population distribution of flight delays ✈️"
   ]
  },
  {
   "cell_type": "code",
   "execution_count": null,
   "metadata": {},
   "outputs": [],
   "source": [
    "bins = np.arange(-20, 300, 10)\n",
    "united.plot(kind='hist', y='Delay', bins=bins, density=True, ec='w', \n",
    "            title='Population Distribution of Flight Delays', figsize=(8, 3))\n",
    "plt.ylabel('Proportion per minute');"
   ]
  },
  {
   "cell_type": "markdown",
   "metadata": {},
   "source": [
    "Note that this distribution is **fixed**."
   ]
  },
  {
   "cell_type": "markdown",
   "metadata": {
    "slideshow": {
     "slide_type": "slide"
    }
   },
   "source": [
    "### Sample distribution of flight delays ✈️\n",
    "\n",
    "- The 13825 flight delays in `united` constitute our population.\n",
    "- Normally, we won't have access to the entire population.\n",
    "- To replicate a real-world scenario, we will sample from `united` **without replacement**."
   ]
  },
  {
   "cell_type": "code",
   "execution_count": null,
   "metadata": {},
   "outputs": [],
   "source": []
  },
  {
   "cell_type": "markdown",
   "metadata": {},
   "source": [
    "Note that as we increase `N`, the sample distribution of delays looks more and more like the true population distribution of delays."
   ]
  },
  {
   "cell_type": "markdown",
   "metadata": {
    "slideshow": {
     "slide_type": "slide"
    }
   },
   "source": [
    "## Parameters and statistics"
   ]
  },
  {
   "cell_type": "markdown",
   "metadata": {
    "slideshow": {
     "slide_type": "slide"
    }
   },
   "source": [
    "### Terminology\n",
    "\n",
    "- **Statistical inference** is the practice of making conclusions about a population, using data from a random sample.\n",
    "- **Parameter**: A number associated with the population.\n",
    "    - Example: the population mean.\n",
    "- **Statistic**: A number calculated from the sample.\n",
    "    - Example: the sample mean.\n",
    "- A statistic can be used as an **estimate** for a parameter.\n",
    "\n",
    "_To remember: **p**arameter and **p**opulation both start with p, **s**tatistic and **s**ample both start with s._"
   ]
  },
  {
   "cell_type": "markdown",
   "metadata": {
    "slideshow": {
     "slide_type": "slide"
    }
   },
   "source": [
    "### Mean flight delay ✈️\n",
    "\n",
    "**Question:** What is the average delay of United flights out of SFO? 🤔\n",
    "\n",
    "- We'd love to know the **mean delay in the population (parameter)**, but in practice we'll only have a **sample**.\n",
    "\n",
    "- How does the **mean delay in the sample (statistic)** compare to the **mean delay in the population (parameter)**?"
   ]
  },
  {
   "cell_type": "markdown",
   "metadata": {
    "slideshow": {
     "slide_type": "slide"
    }
   },
   "source": [
    "### Population mean\n",
    "\n",
    "The **population mean** is a **parameter**."
   ]
  },
  {
   "cell_type": "code",
   "execution_count": null,
   "metadata": {},
   "outputs": [],
   "source": [
    "# Calculate the mean of the population"
   ]
  },
  {
   "cell_type": "markdown",
   "metadata": {
    "slideshow": {
     "slide_type": "fragment"
    }
   },
   "source": [
    "This number (like the population distribution) is fixed, and is not random."
   ]
  },
  {
   "cell_type": "markdown",
   "metadata": {
    "slideshow": {
     "slide_type": "slide"
    }
   },
   "source": [
    "### Sample mean\n",
    "\n",
    "The **sample mean** is a **statistic**. Since it depends on our sample, which was drawn at random, the sample mean is **also random**."
   ]
  },
  {
   "cell_type": "code",
   "execution_count": null,
   "metadata": {},
   "outputs": [],
   "source": []
  },
  {
   "cell_type": "markdown",
   "metadata": {
    "slideshow": {
     "slide_type": "fragment"
    }
   },
   "source": [
    "- Each time we run the cell above, we are:\n",
    "    - Collecting a new sample of size 100 from the population, and\n",
    "    - Computing the sample mean.\n",
    "- We see a slightly different value on each run of the cell.\n",
    "    - Sometimes, the sample mean is close to the population mean.\n",
    "    - Sometimes, it's far away from the population mean."
   ]
  },
  {
   "cell_type": "markdown",
   "metadata": {
    "slideshow": {
     "slide_type": "slide"
    }
   },
   "source": [
    "### The effect of sample size\n",
    "\n",
    "What if we choose a larger sample size?"
   ]
  },
  {
   "cell_type": "code",
   "execution_count": null,
   "metadata": {},
   "outputs": [],
   "source": []
  },
  {
   "cell_type": "markdown",
   "metadata": {
    "slideshow": {
     "slide_type": "fragment"
    }
   },
   "source": [
    "- Each time we run this cell, the result is still slightly different.\n",
    "- However, the results seem to be much closer together – and much closer to the true population mean – than when we used a sample size of 100.\n",
    "- **In general**, statistics computed on larger samples tend to be more accurate than statistics computed on smaller samples."
   ]
  },
  {
   "cell_type": "markdown",
   "metadata": {
    "slideshow": {
     "slide_type": "slide"
    }
   },
   "source": [
    "## You Try: Increasing sample size, part 2\n",
    "\n",
    "1. Take 2000 samples of size 100 from `united`.\n",
    "1. Find the mean delay for each sample.\n",
    "1. Plot the distribution of means on a histogram.\n",
    "1. Repeat steps 1-3 for a sample of size 1000. Make sure that the histograms have similar x-axis limits.\n",
    "1. What do you notice?"
   ]
  },
  {
   "cell_type": "code",
   "execution_count": null,
   "metadata": {},
   "outputs": [],
   "source": []
  },
  {
   "cell_type": "code",
   "execution_count": null,
   "metadata": {},
   "outputs": [],
   "source": []
  },
  {
   "cell_type": "markdown",
   "metadata": {
    "slideshow": {
     "slide_type": "slide"
    }
   },
   "source": [
    "### Smaller Samples:<center><img src='data/bullseye-high.png' width=300></center>\n",
    "### Larger Samples:<center><img src='data/bullseye-low.png' width=300></center>"
   ]
  },
  {
   "cell_type": "markdown",
   "metadata": {
    "slideshow": {
     "slide_type": "slide"
    }
   },
   "source": [
    "### Probability distribution of a statistic\n",
    "\n",
    "- The value of a statistic, e.g. the sample mean, is random, because it depends on a random sample.\n",
    "- Like other random quantities, we can study the \"probability distribution\" of the statistic (also known as its \"sampling distribution\").\n",
    "    - This describes all possible values of the statistic and all the corresponding probabilities.\n",
    "- Unfortunately, this can be hard to calculate exactly.\n",
    "    - Option 1: do the math by hand.\n",
    "    - Option 2: generate **all** possible samples and calculate the statistic on each sample.\n",
    "- So we'll use simulation again to approximate:\n",
    "    - Generate **a lot of** possible samples and calculate the statistic on each sample."
   ]
  },
  {
   "cell_type": "markdown",
   "metadata": {
    "slideshow": {
     "slide_type": "slide"
    }
   },
   "source": [
    "### Distribution of sample means\n",
    "\n",
    "- Let's...\n",
    "    - Repeatedly draw a bunch of samples.\n",
    "    - Record the mean of each.\n",
    "    - Draw a histogram of the resulting distribution.\n",
    "- Try different sample sizes and look at the resulting histogram!"
   ]
  },
  {
   "cell_type": "code",
   "execution_count": null,
   "metadata": {},
   "outputs": [],
   "source": []
  },
  {
   "cell_type": "markdown",
   "metadata": {
    "slideshow": {
     "slide_type": "slide"
    }
   },
   "source": [
    "### Empirical distribution of a statistic\n",
    "- The empirical distribution of a statistic is based on simulated values of the statistic. It describes\n",
    "    - all the observed values of the statistic, and\n",
    "    - the proportion of times each value appeared.\n",
    "- The empirical distribution of a statistic can be a good approximation to the probability distribution of the statistic, **if the number of repetitions in the simulation is large**."
   ]
  },
  {
   "cell_type": "markdown",
   "metadata": {},
   "source": [
    "## You Try: What does increasing sample size really mean?\n",
    "\n",
    "The two cells below repeat code from this lecture. Both of them take samples from `united` and draw a histogram. But increasing the sample size works differently for these two histograms. Try to figure out why.\n",
    "\n",
    "1. Change the sample size and rerun the first cell. What happens when the sample size is small? What happens when the sample size is large?\n",
    "1. Now do the same for the second cell.\n",
    "1. Why does changing the sample size for these cells produce different results?\n",
    "1. Come up with a real-world scenario where you would use the histograms from the first and second cells."
   ]
  },
  {
   "cell_type": "code",
   "execution_count": null,
   "metadata": {},
   "outputs": [],
   "source": [
    "# Sample distribution\n",
    "N = 100\n",
    "(united\n",
    " .sample(N)\n",
    " .plot(kind='hist', y='Delay', bins=bins, density=True, ec='w',\n",
    "       title='Sample Distribution of Flight Delays',\n",
    "       figsize=(8, 3))\n",
    ");"
   ]
  },
  {
   "cell_type": "code",
   "execution_count": null,
   "metadata": {},
   "outputs": [],
   "source": [
    "sample_size = 100\n",
    "repetitions = 2000\n",
    "sample_means = np.array([])\n",
    "\n",
    "for n in np.arange(repetitions):\n",
    "    m = united.sample(sample_size).get('Delay').mean()\n",
    "    sample_means = np.append(sample_means, m)\n",
    "\n",
    "(bpd.DataFrame()\n",
    " .assign(sample_means=sample_means)\n",
    " .plot(kind='hist', bins=np.arange(5, 30, 0.5), density=True, ec='w',\n",
    "       title=f'Distribution of Sample Mean with Sample Size {sample_size}',\n",
    "       figsize=(8, 3))\n",
    ");\n",
    "\n",
    "plt.xlim(5, 30)\n",
    "    \n",
    "plt.axvline(x=united_mean, c='r');"
   ]
  },
  {
   "cell_type": "markdown",
   "metadata": {
    "slideshow": {
     "slide_type": "slide"
    }
   },
   "source": [
    "## Why Does It Matter?\n",
    "\n",
    "- Big cognitive leap for today: randomness not only for individual samples but also for statistics from samples.\n",
    "- You make judgement calls using distributions all the time.\n",
    "    - \"Wow, bananas are 5 cents, that's cheap!\"\n",
    "    - \"Gas prices are 6 dollars, that's expensive 😢.\"\n",
    "- Now we're formalizing using the language of statistics: population, sample, statistics, and distributions\n",
    "- What does the empirical distribution of a sample mean tell us?\n",
    "    - \"I bought 100 bananas for 5 cents each, that's cheap!\"\n",
    "    - \"I bought 1000 bananas for 5 cents each, that's really cheap!\"\n",
    "- In real life, we don't have access to the population.\n",
    "    - We only have one sample and we can only get one statistic.\n",
    "    - But we can still use the sample to make estimates about the population!\n",
    "    - Topic for next time."
   ]
  }
 ],
 "metadata": {
  "kernelspec": {
   "display_name": "Python 3 (ipykernel)",
   "language": "python",
   "name": "python3"
  },
  "language_info": {
   "codemirror_mode": {
    "name": "ipython",
    "version": 3
   },
   "file_extension": ".py",
   "mimetype": "text/x-python",
   "name": "python",
   "nbconvert_exporter": "python",
   "pygments_lexer": "ipython3",
   "version": "3.8.5"
  },
  "livereveal": {
   "scroll": true,
   "transition": "none"
  }
 },
 "nbformat": 4,
 "nbformat_minor": 2
}
