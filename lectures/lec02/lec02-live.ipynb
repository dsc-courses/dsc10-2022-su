{
 "cells": [
  {
   "cell_type": "code",
   "execution_count": 14,
   "metadata": {
    "slideshow": {
     "slide_type": "skip"
    }
   },
   "outputs": [
    {
     "data": {
      "text/html": [
       "\n",
       "<style>\n",
       ".menti {\n",
       "    display: flex;\n",
       "    gap: 1rem;\n",
       "}\n",
       "\n",
       ".menti > div {\n",
       "    flex-grow: 1;\n",
       "}\n",
       "\n",
       ".menti > div:last-child {\n",
       "    max-width: 30%;\n",
       "}\n",
       "</style>\n"
      ],
      "text/plain": [
       "<IPython.core.display.HTML object>"
      ]
     },
     "metadata": {},
     "output_type": "display_data"
    }
   ],
   "source": [
    "%%html\n",
    "\n",
    "<style>\n",
    ".menti {\n",
    "    display: flex;\n",
    "    gap: 1rem;\n",
    "}\n",
    "\n",
    ".menti > div {\n",
    "    flex-grow: 1;\n",
    "}\n",
    "\n",
    ".menti > div:last-child {\n",
    "    max-width: 30%;\n",
    "}\n",
    "</style>"
   ]
  },
  {
   "cell_type": "markdown",
   "metadata": {
    "slideshow": {
     "slide_type": "slide"
    }
   },
   "source": [
    "# Lecture 2 – Association and Causality\n",
    "\n",
    "## DSC 10, Summer 2022"
   ]
  },
  {
   "cell_type": "markdown",
   "metadata": {
    "slideshow": {
     "slide_type": "slide"
    }
   },
   "source": [
    "### Announcements\n",
    "\n",
    "- You should have access to Campuswire and Gradescope now. If not, email Shivani.\n",
    "- Lab 1 released, due **Sat at 11:59pm**.\n",
    "    - Don't worry if it looks foreign. It's guided and Friday's class will help.\n",
    "    - Post on Campuswire or come to office hours for help!\n",
    "- HW 1 released, due **Tues at 11:59pm**.\n",
    "- Check out the [Syllabus](https://dsc10.com/syllabus) on the course website, https://dsc10.com.\n",
    "    - **Reminder:** We're not using Canvas for anything."
   ]
  },
  {
   "cell_type": "markdown",
   "metadata": {
    "slideshow": {
     "slide_type": "slide"
    }
   },
   "source": [
    "### Announcements\n",
    "\n",
    "**Make sure you're using the server marked \"latest\". Not the one marked \"datascience-notebook\".**\n",
    "\n",
    "![](images/latest-datahub.png)"
   ]
  },
  {
   "cell_type": "markdown",
   "metadata": {
    "slideshow": {
     "slide_type": "slide"
    }
   },
   "source": [
    "### Agenda\n",
    "\n",
    "- Association and causation.\n",
    "- Case study: London in 1854.\n",
    "- Confounding factors and randomized control experiments."
   ]
  },
  {
   "cell_type": "markdown",
   "metadata": {
    "slideshow": {
     "slide_type": "slide"
    }
   },
   "source": [
    "## Association"
   ]
  },
  {
   "cell_type": "markdown",
   "metadata": {
    "slideshow": {
     "slide_type": "slide"
    }
   },
   "source": [
    "### A Link \n",
    "\n",
    "Report on a July 2020 article in the European Journal of Preventive Cardiology\n",
    "\n",
    "<div align=center>\n",
    "<img src='images/chocolate-article.png' width=800 />\n",
    "</div>\n",
    "\n",
    "Source: [Everyday Health](https://www.everydayhealth.com/diet-nutrition/eating-chocolate-regularly-linked-to-lower-heart-attack-risk/) "
   ]
  },
  {
   "cell_type": "markdown",
   "metadata": {
    "slideshow": {
     "slide_type": "slide"
    }
   },
   "source": [
    "### Observation\n",
    "\n",
    "Some terminology:\n",
    "\n",
    "- **individuals**, study subjects, participants, units.\n",
    "    - _336,289 US, Swedish, and Australian adults in several studies_ 🧍\n",
    "- **treatment**.\n",
    "    - _chocolate consumption_ 🍫\n",
    "- **outcome**.\n",
    "    - _heart disease_ ❤️"
   ]
  },
  {
   "cell_type": "markdown",
   "metadata": {
    "slideshow": {
     "slide_type": "slide"
    }
   },
   "source": [
    "### The first question\n",
    "\n",
    "Is there **any relation** between chocolate consumption 🍫 and heart disease ❤️?\n",
    "\n",
    "**Association** is another term for \"any relation\" or \"link\"."
   ]
  },
  {
   "cell_type": "markdown",
   "metadata": {
    "slideshow": {
     "slide_type": "slide"
    }
   },
   "source": [
    "<div class=\"menti\">\n",
    "<div>\n",
    "\n",
    "### Some Data\n",
    "\n",
    "> Researchers examined [...] a total of 336,289 participants [...] which found that eating any kind of chocolate more than once per week was linked with an 8 percent reduced risk of coronary artery disease.\n",
    "\n",
    "**Question:** Is there an association (any relation) between chocolate consumption 🍫 and heart disease ❤️?\n",
    "\n",
    "A. Yes, I think so\n",
    "\n",
    "B. No, I don't think so\n",
    "    \n",
    "</div>\n",
    "<div>\n",
    "\n",
    "### To answer, go to **[menti.com](https://menti.com)** and enter the code 7834 4873 or use this QR code:\n",
    "\n",
    "![](images/menti-qr.png)\n",
    "    \n",
    "</div>\n",
    "</div>"
   ]
  },
  {
   "cell_type": "markdown",
   "metadata": {
    "slideshow": {
     "slide_type": "slide"
    }
   },
   "source": [
    "### A Stronger Link\n",
    "\n",
    "Other headlines about the same research article:\n",
    "\n",
    "![](images/chocolate-causal-article1.png)\n",
    "\n",
    "![](images/chocolate-causal-article2.png)\n"
   ]
  },
  {
   "cell_type": "markdown",
   "metadata": {
    "slideshow": {
     "slide_type": "slide"
    }
   },
   "source": [
    "<div class=\"menti\">\n",
    "<div>\n",
    "\n",
    "   \n",
    "### The next question\n",
    "\n",
    "Does chocolate consumption 🍫  **lead to** a reduction in heart disease  ❤️?\n",
    "\n",
    "This question introduces the idea of **causality**.\n",
    "\n",
    "**Question**: Does chocolate consumption 🍫  lead to (cause) a reduction in heart disease  ❤️?\n",
    "\n",
    "A. Yes, I think so\n",
    "\n",
    "B. No, I don't think so\n",
    "\n",
    "C. Maybe, I can't tell\n",
    "    \n",
    "</div>\n",
    "<div>\n",
    "\n",
    "### To answer, go to **[menti.com](https://menti.com)** and enter the code 7834 4873 or use this QR code:\n",
    "\n",
    "![](images/menti-qr.png)\n",
    "\n",
    "</div>\n",
    "</div>"
   ]
  },
  {
   "cell_type": "markdown",
   "metadata": {
    "slideshow": {
     "slide_type": "slide"
    }
   },
   "source": [
    "Does chocolate consumption 🍫  **lead to** a reduction in heart disease  ❤️?\n",
    "\n",
    "This question is often harder to answer.\n",
    "\n",
    "> “Chocolate appears promising for prevention of coronary artery disease, but more research is needed to pinpoint how much and what kind of chocolate could be recommended,” Krittanawong says."
   ]
  },
  {
   "cell_type": "markdown",
   "metadata": {
    "slideshow": {
     "slide_type": "slide"
    }
   },
   "source": [
    "## Case study: London in 1854"
   ]
  },
  {
   "cell_type": "markdown",
   "metadata": {
    "slideshow": {
     "slide_type": "slide"
    }
   },
   "source": [
    "### Miasmas, miasmatism, miasmatists\n",
    "\n",
    "- **Miasma** is a term for bad smells 👃 given off by waste and rotting matter.\n",
    "\n",
    "- At one point, miasmas were thought to be the main source of disease. Those who believed that miasmas caused disease were called **miasmatists**.\n",
    "\n",
    "- Suggested remedies for disease:\n",
    "    - “fly to clene air”. ✈️\n",
    "    - “a pocket full o’posies”. 💐\n",
    "    - “fire off barrels of gunpowder”. 🎆\n",
    "\n",
    "- Staunch believers in miasmatism:\n",
    "    - Florence Nightingale, founder of modern nursing. 👩‍⚕️\n",
    "    - Edwin Chadwick, Commissioner of General Board of Health."
   ]
  },
  {
   "cell_type": "markdown",
   "metadata": {
    "slideshow": {
     "slide_type": "slide"
    }
   },
   "source": [
    "### John Snow, 1813-1858 ❄️\n",
    "\n",
    "<div align=center>\n",
    "<img src=\"images\\snow.jpg\" width=400>\n",
    "</div>\n",
    "\n",
    "Not this Jon Snow...\n",
    "\n",
    "<div align=center>\n",
    "<img src=\"images/got.jpg\" width=400>\n",
    "</div>"
   ]
  },
  {
   "cell_type": "markdown",
   "metadata": {
    "slideshow": {
     "slide_type": "slide"
    }
   },
   "source": [
    "### Map of SoHo, London\n",
    "\n",
    "Each bar represents a death by cholera. What do you notice?\n",
    "\n",
    "<div align=center>\n",
    "<img src=\"images/map.jpg\" width=750>\n",
    "</div>"
   ]
  },
  {
   "cell_type": "markdown",
   "metadata": {
    "slideshow": {
     "slide_type": "slide"
    }
   },
   "source": [
    "<div align=center>\n",
    "<img src=\"images/inked.jpg\" width=750>\n",
    "</div>"
   ]
  },
  {
   "cell_type": "markdown",
   "metadata": {
    "slideshow": {
     "slide_type": "slide"
    }
   },
   "source": [
    "![](images/snow-google-map.png)"
   ]
  },
  {
   "cell_type": "markdown",
   "metadata": {
    "slideshow": {
     "slide_type": "slide"
    }
   },
   "source": [
    "### Broad Street Pump\n",
    "\n",
    "<div align=center>\n",
    "<img src=\"images/pump.png\" width=900>\n",
    "</div>\n",
    "\n",
    "Now the site of a pub."
   ]
  },
  {
   "cell_type": "markdown",
   "metadata": {
    "slideshow": {
     "slide_type": "slide"
    }
   },
   "source": [
    "## Establishing causation"
   ]
  },
  {
   "cell_type": "markdown",
   "metadata": {
    "slideshow": {
     "slide_type": "slide"
    }
   },
   "source": [
    "<div align=center>\n",
    "<img src=\"images/watersupplymap.png\">\n",
    "</div>\n",
    "\n",
    "S&V: dirty water.<br>\n",
    "Lambeth: clean water."
   ]
  },
  {
   "cell_type": "markdown",
   "metadata": {
    "slideshow": {
     "slide_type": "slide"
    }
   },
   "source": [
    "<center><img src='images/river-diagram.png'</center>"
   ]
  },
  {
   "cell_type": "markdown",
   "metadata": {
    "slideshow": {
     "slide_type": "slide"
    }
   },
   "source": [
    "<div class=\"menti\">\n",
    "<div>\n",
    "\n",
    "### Comparision ⚖️\n",
    "\n",
    "- **treatment group**: does receive the treatment.\n",
    "- **control group**: does not receive the treatment.\n",
    "\n",
    " **Question:** Which houses were part of the treatment group? 🏠\n",
    "\n",
    "A. All houses in the region of overlap\n",
    "\n",
    "B. Houses served by S&V (dirty water) in the region of overlap\n",
    "\n",
    "C. Houses served by Lambeth (clean water) in the region of overlap\n",
    "    \n",
    "</div>\n",
    "<div>\n",
    "\n",
    "### To answer, go to **[menti.com](https://menti.com)** and enter the code 7834 4873 or use this QR code:\n",
    "\n",
    "![](images/menti-qr.png)\n",
    "\n",
    "</div>\n",
    "</div>"
   ]
  },
  {
   "cell_type": "markdown",
   "metadata": {
    "slideshow": {
     "slide_type": "slide"
    }
   },
   "source": [
    "### Snow's \"Grand Experiment\"\n",
    "\n",
    "> “… there is no difference whatever in the houses or the people receiving the supply of the two Water Companies, or in any of the physical conditions with which they are surrounded …”\n",
    "\n",
    "In other words, the two groups were _similar except for the treatment_."
   ]
  },
  {
   "cell_type": "markdown",
   "metadata": {
    "slideshow": {
     "slide_type": "slide"
    }
   },
   "source": [
    "<div class=\"menti\">\n",
    "<div>\n",
    "\n",
    "### Snow's table\n",
    "\n",
    "<div align=center>\n",
    "<img src=\"images/table.png\" width=1000>\n",
    "</div>\n",
    "\n",
    "**Question:** Does dirty water cause cholera?\n",
    "\n",
    "A. Yes, I think so ✔️\n",
    "\n",
    "B. No, I don't think so ❌\n",
    "\n",
    "C. Maybe, I can't tell ❔\n",
    "\n",
    "    \n",
    "</div>\n",
    "<div>\n",
    "\n",
    "### To answer, go to **[menti.com](https://menti.com)** and enter the code 7834 4873 or use this QR code:\n",
    "\n",
    "![](images/menti-qr.png)\n",
    "\n",
    "</div>\n",
    "</div>"
   ]
  },
  {
   "cell_type": "markdown",
   "metadata": {
    "slideshow": {
     "slide_type": "slide"
    }
   },
   "source": [
    "### Key to establishing causality 🗝️\n",
    "\n",
    "If the treatment and control groups are _similar apart from the treatment_, then the differences between the outcomes in the two groups can be ascribed to the treatment."
   ]
  },
  {
   "cell_type": "markdown",
   "metadata": {
    "slideshow": {
     "slide_type": "slide"
    }
   },
   "source": [
    "## Confounding factors"
   ]
  },
  {
   "cell_type": "markdown",
   "metadata": {
    "slideshow": {
     "slide_type": "slide"
    }
   },
   "source": [
    "### Trouble ⚠️\n",
    "\n",
    "If the treatment and control groups have _systematic differences other than the treatment_, then it might be difficult to identify causality.\n",
    "\n",
    "- Such differences are often present in **observational studies**. 👀\n",
    "- In an observational study, participants self-select or naturally fall into groups. Not random!\n",
    "\n",
    "- Are the outcomes different because of the treatment or because of other systematic differences? 😕 **Hard to tell!**\n",
    "- These other differences are called _confounding factors_ (confounding means confusing).\n",
    "\n",
    "- Example: previously, it was widely accepted that coffee ☕ caused lung cancer. Why?"
   ]
  },
  {
   "cell_type": "markdown",
   "metadata": {
    "slideshow": {
     "slide_type": "slide"
    }
   },
   "source": [
    "### Randomize! 🎲\n",
    "\n",
    "- If you assign individuals to treatment and control **at random**, then the two groups are likely to be similar apart from the treatment.\n",
    "\n",
    "- You can account – mathematically – for variability in the assignment.\n",
    "\n",
    "- Such an experiment is known as a **randomized controlled experiment** (or \"randomized controlled trial\" or RCT)."
   ]
  },
  {
   "cell_type": "markdown",
   "metadata": {
    "slideshow": {
     "slide_type": "slide"
    }
   },
   "source": [
    "<div class=\"menti\">\n",
    "<div>\n",
    "\n",
    "### Randomized controlled experiments\n",
    "\n",
    "We want to assign individuals to treatment and control **at random**.\n",
    "\n",
    "**Question:** Which of these questions cannot be answered by running a randomized controlled experiment?\n",
    "\n",
    "A. Does daily meditation 😌 reduce anxiety?\n",
    "\n",
    "B. Does playing video games 🎮 increase aggressive behavior?\n",
    "\n",
    "C. Does smoking cigarettes 🚬 cause weight loss?\n",
    "\n",
    "D. Does early exposure to classical music 🎻 increase a person’s IQ?\n",
    "    \n",
    "</div>\n",
    "<div>\n",
    "\n",
    "### To answer, go to **[menti.com](https://menti.com)** and enter the code 7834 4873 or use this QR code:\n",
    "\n",
    "![](images/menti-qr.png)\n",
    "\n",
    "</div>\n",
    "</div>"
   ]
  },
  {
   "cell_type": "markdown",
   "metadata": {
    "slideshow": {
     "slide_type": "slide"
    }
   },
   "source": [
    "<center><img src='images/rct-covid.png' width=800>\n",
    "    <a href=\"https://www.cnn.com/2022/01/03/health/covid-weight-loss-wellness/index.html\">source</a>\n",
    "</center>"
   ]
  },
  {
   "cell_type": "markdown",
   "metadata": {
    "slideshow": {
     "slide_type": "slide"
    }
   },
   "source": [
    "### Careful...\n",
    "\n",
    "Regardless of what the dictionary says...\n",
    "\n",
    "<center><h3> In probability theory, random ≠ haphazard! </h3></center>"
   ]
  },
  {
   "cell_type": "markdown",
   "metadata": {
    "slideshow": {
     "slide_type": "slide"
    }
   },
   "source": [
    "## Summary: cause and effect"
   ]
  },
  {
   "cell_type": "markdown",
   "metadata": {
    "slideshow": {
     "slide_type": "slide"
    }
   },
   "source": [
    "### Comparison ⚖️\n",
    "\n",
    "- Group by some **treatment** and measure some **outcome**.\n",
    "\n",
    "- Simplest setting: a **treatment group** and a **control group**.\n",
    "\n",
    "- If the outcome differs between these two groups, that's evidence of an **association** (or **relation**).\n",
    "    - E.g., the top-tier chocolate eaters died of heart disease at a lower rate (12%) than chocolate abstainers (17%).\n",
    "\n",
    "- If the two groups are similar in all ways but the treatment, a difference in the **outcome** is also evidence of **causality**."
   ]
  },
  {
   "cell_type": "markdown",
   "metadata": {
    "slideshow": {
     "slide_type": "slide"
    }
   },
   "source": [
    "### Confounding 😕\n",
    "\n",
    "- If the treatment and control groups have systematic differences other than the treatment itself, then it might be difficult to identify a causal link.\n",
    "\n",
    "- When these systematic differences lead researchers astray, they are called **confounding factors**.\n",
    "\n",
    "- Such differences are often present in observational studies.\n",
    "    - **Observational study**: the researcher does not choose which subjects receive the treatment.\n",
    "    - **Controlled experiment**: the researcher designs a procedure for selecting the treatment and control groups."
   ]
  },
  {
   "cell_type": "markdown",
   "metadata": {
    "slideshow": {
     "slide_type": "slide"
    }
   },
   "source": [
    "### Randomize! 🎲\n",
    "\n",
    "- When subjects are split up **randomly**, it's unlikely that there will be systematic differences between the groups.\n",
    "\n",
    "- And it's possible to account for the chance of a difference.\n",
    "\n",
    "- Therefore, **randomized controlled experiments** are the most reliable way to establish causal relations."
   ]
  },
  {
   "cell_type": "markdown",
   "metadata": {
    "slideshow": {
     "slide_type": "slide"
    }
   },
   "source": [
    "### Next time\n",
    "\n",
    "On Friday, we'll switch gears and start programming in Python. 💻\n",
    "\n",
    "### Further reading: [The Medical Detective: John Snow, Cholera and the Mystery of the Broad Street Pump](https://www.amazon.com/gp/product/1862079374/ref=dbs_a_def_rwt_hsch_vapi_taft_p1_i2)"
   ]
  }
 ],
 "metadata": {
  "celltoolbar": "Slideshow",
  "kernelspec": {
   "display_name": "Python 3 (ipykernel)",
   "language": "python",
   "name": "python3"
  },
  "language_info": {
   "codemirror_mode": {
    "name": "ipython",
    "version": 3
   },
   "file_extension": ".py",
   "mimetype": "text/x-python",
   "name": "python",
   "nbconvert_exporter": "python",
   "pygments_lexer": "ipython3",
   "version": "3.8.5"
  }
 },
 "nbformat": 4,
 "nbformat_minor": 4
}
