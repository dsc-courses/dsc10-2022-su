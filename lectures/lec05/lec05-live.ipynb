{
 "cells": [
  {
   "cell_type": "code",
   "execution_count": null,
   "metadata": {
    "slideshow": {
     "slide_type": "skip"
    }
   },
   "outputs": [],
   "source": [
    "# This code configures how dataframes are displayed. Don't worry about\n",
    "# understanding this code, but make sure to run it if you're following along.\n",
    "import numpy as np\n",
    "import pandas as pd\n",
    "\n",
    "np.set_printoptions(threshold=20, precision=2, suppress=True)\n",
    "pd.set_option(\"display.max_rows\", 7)\n",
    "pd.set_option(\"display.max_columns\", 8)\n",
    "pd.set_option(\"precision\", 2)"
   ]
  },
  {
   "cell_type": "markdown",
   "metadata": {
    "slideshow": {
     "slide_type": "slide"
    }
   },
   "source": [
    "# Lecture 5 –  Accessing, Sorting, and Querying\n",
    "## DSC 10, Summer 2022"
   ]
  },
  {
   "cell_type": "markdown",
   "metadata": {
    "slideshow": {
     "slide_type": "slide"
    }
   },
   "source": [
    "### Announcements\n",
    "\n",
    "- Lab 2 is due on **Tuesday 7/12 at 11:59pm**.\n",
    "- Remember to check the [Debugging](https://dsc10.com/debugging) tab on the course website if you run into any issues.\n",
    "- Please use Campuswire main feed instead of DM and email."
   ]
  },
  {
   "cell_type": "markdown",
   "metadata": {
    "slideshow": {
     "slide_type": "slide"
    }
   },
   "source": [
    "### Agenda\n",
    "\n",
    "- Using a single dataset to illustrate key DataFrame manipulation techniques.\n",
    "    - Will use lots of motivating questions.\n",
    "\n",
    "#### Note:\n",
    "\n",
    "- Remember to check the [Resources tab of the course website](https://dsc10.com/resources/) for programming resources.\n",
    "- Some key links moving forward:\n",
    "    - [DSC 10 Reference Sheet](https://drive.google.com/file/d/1mQApk9Ovdi-QVqMgnNcq5dZcWucUKoG-/view).\n",
    "    - [BabyPandas Documentation](https://babypandas.readthedocs.io/en/latest/index.html)."
   ]
  },
  {
   "cell_type": "markdown",
   "metadata": {
    "slideshow": {
     "slide_type": "slide"
    }
   },
   "source": [
    "## DataFrames"
   ]
  },
  {
   "cell_type": "markdown",
   "metadata": {
    "slideshow": {
     "slide_type": "slide"
    }
   },
   "source": [
    "### `pandas`\n",
    "\n",
    "- DataFrames are provided by a package called `pandas`.\n",
    "- `pandas` is **the** tool for doing data science in Python.\n",
    "\n",
    "<center>\n",
    "<img src='data/pandas.png' width=500>\n",
    "</center>"
   ]
  },
  {
   "cell_type": "markdown",
   "metadata": {
    "slideshow": {
     "slide_type": "slide"
    }
   },
   "source": [
    "### But `pandas` is not so cute...\n",
    "\n",
    "<center>\n",
    "<img height=100% src=\"data/angrypanda.jpg\"/>\n",
    "</center>"
   ]
  },
  {
   "cell_type": "markdown",
   "metadata": {
    "slideshow": {
     "slide_type": "slide"
    }
   },
   "source": [
    "### `babypandas`\n",
    "\n",
    "- We at UCSD have created a smaller, nicer version of `pandas` called `babypandas`.\n",
    "- It keeps the important stuff and has much better error messages.\n",
    "- It's easier to learn, but is still valid `pandas` code.\n",
    "\n",
    "<center>\n",
    "<img height=75% src=\"data/babypanda.jpg\"/ width=500>\n",
    "</center>"
   ]
  },
  {
   "cell_type": "markdown",
   "metadata": {
    "slideshow": {
     "slide_type": "slide"
    }
   },
   "source": [
    "### DataFrames in `babypandas` 🐼\n",
    "\n",
    "- Tables in `babypandas` (and `pandas`) are called \"DataFrames.\"\n",
    "- To use DataFrames, we'll need to import `babypandas`. (We'll need `numpy` as well.)"
   ]
  },
  {
   "cell_type": "code",
   "execution_count": null,
   "metadata": {
    "slideshow": {
     "slide_type": "-"
    }
   },
   "outputs": [],
   "source": [
    "import babypandas as bpd\n",
    "import numpy as np\n",
    "%load_ext pandas_tutor"
   ]
  },
  {
   "cell_type": "markdown",
   "metadata": {
    "slideshow": {
     "slide_type": "slide"
    }
   },
   "source": [
    "### Reading data from a file 📖\n",
    "\n",
    "- The file `nba-2022.csv` contains all salaries from the 2021-22 NBA (National Basketball Association 🏀) season for players who have played at least 15 games.\n",
    "    - CSV stands for \"comma-separated values\".\n",
    "- We can read a CSV using `bpd.read_csv(...)`. Give it the name of the file if it's in the same directory as your notebook, or a path to the file otherwise."
   ]
  },
  {
   "cell_type": "code",
   "execution_count": null,
   "metadata": {
    "scrolled": false
   },
   "outputs": [],
   "source": []
  },
  {
   "cell_type": "markdown",
   "metadata": {
    "slideshow": {
     "slide_type": "slide"
    }
   },
   "source": [
    "### Structure of a DataFrame\n",
    "\n",
    "- DataFrames have *columns* and *rows*.\n",
    "    - Think of each column as an array.\n",
    "- Each column has a label: `'Player'`, `'Position'`, etc.\n",
    "    - This is its name.\n",
    "    - Column labels are stored as strings.\n",
    "- Every row has a label too: in this case, 0, 1, 2, 3, 4, ..., 380.\n",
    "    - Together, the row labels are called the _index_. The index is **not** a column!"
   ]
  },
  {
   "cell_type": "code",
   "execution_count": null,
   "metadata": {},
   "outputs": [],
   "source": [
    "salaries"
   ]
  },
  {
   "cell_type": "markdown",
   "metadata": {
    "slideshow": {
     "slide_type": "slide"
    }
   },
   "source": [
    "### Setting a new index\n",
    "\n",
    "- We can set a better index using `.set_index(column_name)`.\n",
    "- Row labels should be unique identifiers.\n",
    "    - Row labels = row names; ideally, each row has a different, descriptive name.\n",
    "- ⚠️ Like most DataFrame methods, `.set_index` returns a new DataFrame; it does not modify the original DataFrame."
   ]
  },
  {
   "cell_type": "code",
   "execution_count": null,
   "metadata": {},
   "outputs": [],
   "source": []
  },
  {
   "cell_type": "markdown",
   "metadata": {
    "slideshow": {
     "slide_type": "slide"
    }
   },
   "source": [
    "### Shape of a DataFrame\n",
    "\n",
    "- `.shape` returns the number of rows and columns in a given DataFrame.\n",
    "- Access each with `[]`:"
   ]
  },
  {
   "cell_type": "code",
   "execution_count": null,
   "metadata": {},
   "outputs": [],
   "source": [
    "salaries_by_player"
   ]
  },
  {
   "cell_type": "code",
   "execution_count": null,
   "metadata": {},
   "outputs": [],
   "source": [
    "# Number of rows\n"
   ]
  },
  {
   "cell_type": "code",
   "execution_count": null,
   "metadata": {},
   "outputs": [],
   "source": [
    "# Number of columns\n"
   ]
  },
  {
   "cell_type": "markdown",
   "metadata": {
    "slideshow": {
     "slide_type": "slide"
    }
   },
   "source": [
    "## Example 1: Salary per game\n",
    "\n",
    "**Key concepts:** How do we access columns, perform operations on them, and add new columns?"
   ]
  },
  {
   "cell_type": "markdown",
   "metadata": {
    "slideshow": {
     "slide_type": "slide"
    }
   },
   "source": [
    "### Finding per-game salaries\n",
    "\n",
    "- We have each player's salary this season. An NBA regular season has 82 games in it.\n",
    "- **Question:** How much money is each player getting paid per game?\n",
    "- Workflow:\n",
    "    - Get the column of salaries.\n",
    "    - Divide each element by 82.\n",
    "    - Add a new column to the DataFrame."
   ]
  },
  {
   "cell_type": "markdown",
   "metadata": {
    "slideshow": {
     "slide_type": "slide"
    }
   },
   "source": [
    "#### Step 1 – Getting a column\n",
    "\n",
    "- We can get a column from a DataFrame using `.get(column_name)`.\n",
    "- ⚠️ Column names are case sensitive!\n",
    "- The result looks like a 1-column DataFrame, but is actually a *Series*."
   ]
  },
  {
   "cell_type": "code",
   "execution_count": null,
   "metadata": {},
   "outputs": [],
   "source": [
    "salaries_by_player"
   ]
  },
  {
   "cell_type": "code",
   "execution_count": null,
   "metadata": {},
   "outputs": [],
   "source": []
  },
  {
   "cell_type": "markdown",
   "metadata": {
    "slideshow": {
     "slide_type": "slide"
    }
   },
   "source": [
    "### Digression: Series\n",
    "\n",
    "- A *Series* is like an array, but with an index.\n",
    "- In particular, Series' support arithmetic."
   ]
  },
  {
   "cell_type": "code",
   "execution_count": null,
   "metadata": {},
   "outputs": [],
   "source": [
    "salaries_by_player.get('Salary')"
   ]
  },
  {
   "cell_type": "markdown",
   "metadata": {
    "slideshow": {
     "slide_type": "slide"
    }
   },
   "source": [
    "#### Step 2 – Dividing salaries by the number of games\n",
    "\n",
    "- Just like with arrays, we can perform arithmetic operations on every element of a Series quite efficiently."
   ]
  },
  {
   "cell_type": "code",
   "execution_count": null,
   "metadata": {},
   "outputs": [],
   "source": []
  },
  {
   "cell_type": "markdown",
   "metadata": {
    "slideshow": {
     "slide_type": "slide"
    }
   },
   "source": [
    "#### Step 3 – Adding the per-game salaries to the DataFrame\n",
    "\n",
    "- Use `.assign(Name_of_column=data_in_array)` to assign a Series (or array, or list) to a DataFrame.\n",
    "- ⚠️ Don't put quotes around `Name_of_column`.\n",
    "- Creates a new DataFrame! Must save to variable."
   ]
  },
  {
   "cell_type": "code",
   "execution_count": null,
   "metadata": {
    "scrolled": true
   },
   "outputs": [],
   "source": []
  },
  {
   "cell_type": "code",
   "execution_count": null,
   "metadata": {},
   "outputs": [],
   "source": []
  },
  {
   "cell_type": "code",
   "execution_count": null,
   "metadata": {},
   "outputs": [],
   "source": []
  },
  {
   "cell_type": "markdown",
   "metadata": {
    "slideshow": {
     "slide_type": "slide"
    }
   },
   "source": [
    "### Using pandas_tutor\n",
    "\n",
    "- Pandas Tutor is a tool I developed as part of my PhD!\n",
    "- It draws diagrams to explain `pandas` (and `babypandas`) code.\n",
    "- Add `%%pt` to the top of the cell to explain the last line of `babypandas` code.\n",
    "  - Can also use website: https://pandastutor.com/"
   ]
  },
  {
   "cell_type": "code",
   "execution_count": null,
   "metadata": {
    "slideshow": {
     "slide_type": "slide"
    }
   },
   "outputs": [],
   "source": []
  },
  {
   "cell_type": "markdown",
   "metadata": {
    "slideshow": {
     "slide_type": "slide"
    }
   },
   "source": [
    "## Example 2: Getting a particular player's salary\n",
    "\n",
    "**Key concept**: How do we access specific values using an index?"
   ]
  },
  {
   "cell_type": "markdown",
   "metadata": {
    "slideshow": {
     "slide_type": "slide"
    }
   },
   "source": [
    "### How much is LeBron James 🐐 making this season?"
   ]
  },
  {
   "cell_type": "code",
   "execution_count": null,
   "metadata": {},
   "outputs": [],
   "source": []
  },
  {
   "cell_type": "markdown",
   "metadata": {
    "slideshow": {
     "slide_type": "slide"
    }
   },
   "source": [
    "### Accessing a Series by row label: `.loc`\n",
    "\n",
    "- Use `.loc[]` to *access* the element of a Series with a particular row label."
   ]
  },
  {
   "cell_type": "code",
   "execution_count": null,
   "metadata": {},
   "outputs": [],
   "source": []
  },
  {
   "cell_type": "markdown",
   "metadata": {
    "slideshow": {
     "slide_type": "slide"
    }
   },
   "source": [
    "### How to get a particular element from a DataFrame\n",
    "\n",
    "1. `.get()` the column label.\n",
    "2. `.loc[]` the row label.\n",
    "\n",
    "In this class, we'll always get a column, then a row (but row, then column is also possible).\n",
    "\n",
    " Example: What position does LeBron play?"
   ]
  },
  {
   "cell_type": "code",
   "execution_count": null,
   "metadata": {},
   "outputs": [],
   "source": []
  },
  {
   "cell_type": "markdown",
   "metadata": {
    "slideshow": {
     "slide_type": "slide"
    }
   },
   "source": [
    "## Example 3: Salary analysis\n",
    "\n",
    "**Key concept**: How do we compute statistics of columns?"
   ]
  },
  {
   "cell_type": "markdown",
   "metadata": {
    "slideshow": {
     "slide_type": "slide"
    }
   },
   "source": [
    "### Questions about salary\n",
    "\n",
    "- What is the highest/lowest salary? What is the average salary?\n",
    "- Series' have helpful methods, like `.min()`, `.max()`, `.mean()`, etc."
   ]
  },
  {
   "cell_type": "code",
   "execution_count": null,
   "metadata": {},
   "outputs": [],
   "source": []
  },
  {
   "cell_type": "code",
   "execution_count": null,
   "metadata": {},
   "outputs": [],
   "source": []
  },
  {
   "cell_type": "markdown",
   "metadata": {
    "slideshow": {
     "slide_type": "slide"
    }
   },
   "source": [
    "## Example 4: *Who* has the highest salary?\n",
    "\n",
    "**Key concept**: Sorting."
   ]
  },
  {
   "cell_type": "markdown",
   "metadata": {
    "slideshow": {
     "slide_type": "slide"
    }
   },
   "source": [
    "#### Step 1 – Sorting the DataFrame\n",
    "\n",
    "- Use the `.sort_values(by=column_name)` method to sort.\n",
    "    - **Notice:** Like most DataFrame methods, this returns a new DataFrame.\n",
    "- Everything works as expected, but we wanted *descending* order."
   ]
  },
  {
   "cell_type": "code",
   "execution_count": null,
   "metadata": {},
   "outputs": [],
   "source": []
  },
  {
   "cell_type": "markdown",
   "metadata": {
    "slideshow": {
     "slide_type": "slide"
    }
   },
   "source": [
    "#### Step 1 – Sorting the DataFrame in *descending* order\n",
    "\n",
    "- Use `.sort_values(by=column_name, ascending=False)` to sort in *descending* order."
   ]
  },
  {
   "cell_type": "code",
   "execution_count": null,
   "metadata": {},
   "outputs": [],
   "source": []
  },
  {
   "cell_type": "markdown",
   "metadata": {
    "slideshow": {
     "slide_type": "slide"
    }
   },
   "source": [
    "#### Step 2 – Getting the *name* of the person with the highest salary\n",
    "\n",
    "- We saw that it's Stephen Curry, but how do we get the name using code?\n",
    "- Remember, the index is like an array."
   ]
  },
  {
   "cell_type": "code",
   "execution_count": null,
   "metadata": {},
   "outputs": [],
   "source": []
  },
  {
   "cell_type": "markdown",
   "metadata": {
    "slideshow": {
     "slide_type": "slide"
    }
   },
   "source": [
    "## Example 5: What team does the person with the third-lowest salary play for?\n",
    "\n",
    "**Key concept**: Using integer positions."
   ]
  },
  {
   "cell_type": "markdown",
   "metadata": {
    "slideshow": {
     "slide_type": "slide"
    }
   },
   "source": [
    "#### Strategy 1\n",
    "\n",
    "Using what we already know, we could...\n",
    "\n",
    "1. Sort the DataFrame in ascending order using `.sort_values(by='Salary')`.\n",
    "2. Get the name of the person using `.index[2]` (remember, positions start at 0).\n",
    "3. Use `.get('Team').loc[their_name]` to get their team name.\n",
    "\n"
   ]
  },
  {
   "cell_type": "code",
   "execution_count": null,
   "metadata": {},
   "outputs": [],
   "source": []
  },
  {
   "cell_type": "code",
   "execution_count": null,
   "metadata": {},
   "outputs": [],
   "source": []
  },
  {
   "cell_type": "markdown",
   "metadata": {
    "slideshow": {
     "slide_type": "slide"
    }
   },
   "source": [
    "#### Another approach?\n",
    "\n",
    "- To get the third element of a Series using `.loc[]`, we first had to find its label.\n",
    "- Can we just get the third element of a Series without knowing its label?\n",
    "- Yes, with `.iloc[]`:"
   ]
  },
  {
   "cell_type": "code",
   "execution_count": null,
   "metadata": {},
   "outputs": [],
   "source": []
  },
  {
   "cell_type": "markdown",
   "metadata": {
    "slideshow": {
     "slide_type": "slide"
    }
   },
   "source": [
    "#### Strategy 2\n",
    "\n",
    "1. Sort the DataFrame in ascending order using `.sort_values(by='Salary')`, as before.\n",
    "2. Use `.get('Team').iloc[2]` to get the team name."
   ]
  },
  {
   "cell_type": "code",
   "execution_count": null,
   "metadata": {},
   "outputs": [],
   "source": []
  },
  {
   "cell_type": "markdown",
   "metadata": {
    "slideshow": {
     "slide_type": "slide"
    }
   },
   "source": [
    "### Summary of accessing a Series\n",
    "\n",
    "- There are two ways to get an element of a Series:\n",
    "    - `.loc[]` uses the row label.\n",
    "    - `.iloc[]` uses the integer position.\n",
    "- Usually `.loc[]` is more convenient, but you'll need to know both."
   ]
  },
  {
   "cell_type": "markdown",
   "metadata": {
    "slideshow": {
     "slide_type": "slide"
    }
   },
   "source": [
    "### Note\n",
    "\n",
    "- Sometimes the integer position and row label are the same.\n",
    "- This happens by default with `bpd.read_csv`:"
   ]
  },
  {
   "cell_type": "code",
   "execution_count": null,
   "metadata": {},
   "outputs": [],
   "source": [
    "bpd.read_csv('data/nba-2022.csv')"
   ]
  },
  {
   "cell_type": "code",
   "execution_count": null,
   "metadata": {},
   "outputs": [],
   "source": []
  },
  {
   "cell_type": "markdown",
   "metadata": {
    "slideshow": {
     "slide_type": "slide"
    }
   },
   "source": [
    "## Reflection"
   ]
  },
  {
   "cell_type": "markdown",
   "metadata": {
    "slideshow": {
     "slide_type": "slide"
    }
   },
   "source": [
    "### Questions we can answer right now:\n",
    "- What is the highest salary?\n",
    "    - `salaries_pg.get('Salary').max()`\n",
    "- How many players are there in the dataset?\n",
    "    - `salaries_pg.shape[0]`\n",
    "- What is LeBron James' salary per game?\n",
    "    - `salaries_pg.get('Salary_per_game').loc['LeBron James']`\n",
    "- Who has the highest salary?\n",
    "    - `salaries_pg.sort_values(by='Salary', ascending=False).index[0]`"
   ]
  },
  {
   "cell_type": "markdown",
   "metadata": {
    "slideshow": {
     "slide_type": "slide"
    }
   },
   "source": [
    "### Questions we can't yet answer:\n",
    "- Who is the highest paid center (C)?\n",
    "- How many players make over \\$200,000 per game?\n",
    "- What is the total payroll of the Cleveland Cavaliers?\n",
    "\n",
    "\n",
    "\n",
    "The common thread between these questions is that they all involve only a **subset** of the rows in our DataFrame."
   ]
  },
  {
   "cell_type": "markdown",
   "metadata": {
    "slideshow": {
     "slide_type": "slide"
    }
   },
   "source": [
    "## Example 6: Who is the highest paid center (C)?\n",
    "\n",
    "**Key concept**: Selecting rows (via Boolean indexing)."
   ]
  },
  {
   "cell_type": "markdown",
   "metadata": {
    "slideshow": {
     "slide_type": "slide"
    }
   },
   "source": [
    "### Selecting rows\n",
    "\n",
    "- We can determine who the highest paid center (C) is if we have a DataFrame consisting of only centers.\n",
    "- How do we get that DataFrame?"
   ]
  },
  {
   "cell_type": "markdown",
   "metadata": {
    "slideshow": {
     "slide_type": "slide"
    }
   },
   "source": [
    "### The solution"
   ]
  },
  {
   "cell_type": "code",
   "execution_count": null,
   "metadata": {},
   "outputs": [],
   "source": []
  },
  {
   "cell_type": "code",
   "execution_count": null,
   "metadata": {},
   "outputs": [],
   "source": []
  },
  {
   "cell_type": "markdown",
   "metadata": {
    "slideshow": {
     "slide_type": "slide"
    }
   },
   "source": [
    "### Boolean indexing\n",
    "\n",
    "To select only some rows of `salaries_pg`:\n",
    "\n",
    "1. Make a sequence (list/array/Series) of `True`s (keep) and `False`s (toss).\n",
    "    - The values `True` and `False` are of the _Boolean_ data type.\n",
    "    \n",
    "2. Then pass it into `salaries_pg[sequence_goes_here]`.\n",
    "\n",
    "Rather than making the sequence by hand, we usually generate it by making a comparison."
   ]
  },
  {
   "cell_type": "markdown",
   "metadata": {
    "slideshow": {
     "slide_type": "slide"
    }
   },
   "source": [
    "### Elementwise comparisions work as expected"
   ]
  },
  {
   "cell_type": "code",
   "execution_count": null,
   "metadata": {},
   "outputs": [],
   "source": []
  },
  {
   "cell_type": "markdown",
   "metadata": {
    "slideshow": {
     "slide_type": "slide"
    }
   },
   "source": [
    "### How do we make a DataFrame with only the players who make over \\$200,000 per game?"
   ]
  },
  {
   "cell_type": "code",
   "execution_count": null,
   "metadata": {},
   "outputs": [],
   "source": []
  },
  {
   "cell_type": "markdown",
   "metadata": {
    "slideshow": {
     "slide_type": "slide"
    }
   },
   "source": [
    "### How do we make a DataFrame with only the players on the Cleveland Cavaliers?"
   ]
  },
  {
   "cell_type": "code",
   "execution_count": null,
   "metadata": {},
   "outputs": [],
   "source": []
  },
  {
   "cell_type": "markdown",
   "metadata": {
    "slideshow": {
     "slide_type": "slide"
    }
   },
   "source": [
    "### Original Question: How do we determine who the highest paid center is?\n",
    "\n",
    "Strategy:\n",
    "1. Extract a DataFrame of just the centers.\n",
    "2. Sort by salary.\n",
    "3. Return the first element in the index."
   ]
  },
  {
   "cell_type": "code",
   "execution_count": null,
   "metadata": {},
   "outputs": [],
   "source": []
  },
  {
   "cell_type": "markdown",
   "metadata": {
    "slideshow": {
     "slide_type": "slide"
    }
   },
   "source": [
    "### What if the condition isn't satisfied?"
   ]
  },
  {
   "cell_type": "code",
   "execution_count": null,
   "metadata": {},
   "outputs": [],
   "source": []
  },
  {
   "cell_type": "markdown",
   "metadata": {
    "slideshow": {
     "slide_type": "slide"
    }
   },
   "source": [
    "<div class=\"menti\">\n",
    "<div>\n",
    "\n",
    "### Discussion Question\n",
    "\n",
    "Which of the following queries determines the total payroll of the Golden State Warriors (GSW)?\n",
    "Assume that `gsw = 'Golden State Warriors'`.\n",
    "\n",
    "A. `\n",
    "   (salaries_pg\n",
    "    [salaries_pg.get('Team') == gsw]\n",
    "    .get('Salary').sum())\n",
    "   `\n",
    "\n",
    "B. `\n",
    "   (salaries_pg.get('Salary').sum()\n",
    "    [salaries_pg.get('Team') == gsw])`\n",
    "\n",
    "C. `\n",
    "   salaries_pg[gsw].get('Salary').sum()\n",
    "   `\n",
    "    \n",
    "</div>\n",
    "<div>\n",
    "\n",
    "### To answer, go to **[menti.com](https://www.menti.com/v42ge81t5d)** and enter the code 2863 3386 or use this QR code:\n",
    "\n",
    "![](images/menti-qr.png)\n",
    "    \n",
    "</div>\n",
    "</div>"
   ]
  },
  {
   "cell_type": "code",
   "execution_count": null,
   "metadata": {
    "slideshow": {
     "slide_type": "slide"
    }
   },
   "outputs": [],
   "source": [
    "gsw = 'Golden State Warriors'"
   ]
  },
  {
   "cell_type": "code",
   "execution_count": null,
   "metadata": {},
   "outputs": [],
   "source": []
  },
  {
   "cell_type": "markdown",
   "metadata": {
    "slideshow": {
     "slide_type": "slide"
    }
   },
   "source": [
    "## Summary"
   ]
  },
  {
   "cell_type": "markdown",
   "metadata": {
    "slideshow": {
     "slide_type": "slide"
    }
   },
   "source": [
    "### Summary\n",
    "\n",
    "- We learned many DataFrame methods and techniques.\n",
    "- Don't feel the need to memorize them all right away.\n",
    "- Instead, refer to this lecture, [the course notes](https://notes.dsc10.com/front.html), [the DSC 10 reference sheet](https://drive.google.com/file/d/1mQApk9Ovdi-QVqMgnNcq5dZcWucUKoG-/view), and [the `babypandas` documentation](https://babypandas.readthedocs.io/en/latest/index.html) when working on assignments.\n",
    "- Over time, these techniques will become more and more familiar.\n",
    "- **Practice!** Frame your own questions using this dataset and try and answer them."
   ]
  },
  {
   "cell_type": "markdown",
   "metadata": {
    "slideshow": {
     "slide_type": "slide"
    }
   },
   "source": [
    "### Next time\n",
    "\n",
    "- We'll answer more complicated questions, which will lead us to a new core DataFrame method – `groupby`."
   ]
  }
 ],
 "metadata": {
  "kernelspec": {
   "display_name": "Python 3 (ipykernel)",
   "language": "python",
   "name": "python3"
  },
  "language_info": {
   "codemirror_mode": {
    "name": "ipython",
    "version": 3
   },
   "file_extension": ".py",
   "mimetype": "text/x-python",
   "name": "python",
   "nbconvert_exporter": "python",
   "pygments_lexer": "ipython3",
   "version": "3.8.5"
  }
 },
 "nbformat": 4,
 "nbformat_minor": 2
}
