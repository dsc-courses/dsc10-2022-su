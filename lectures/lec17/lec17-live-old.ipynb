{
 "cells": [
  {
   "cell_type": "code",
   "execution_count": 3,
   "metadata": {
    "slideshow": {
     "slide_type": "skip"
    }
   },
   "outputs": [
    {
     "data": {
      "text/html": [
       "\n",
       "<script type=\"text/javascript\" src=\"https://pandastutor.com/build/wsembed.bundle.2022-07-07-release.js\"></script>\n",
       "<script>\n",
       "console.log(\"initializing pandas_tutor js\")\n",
       "\n",
       "function drawWsv(viz_id, spec, options) {\n",
       "  if (typeof createWsvFromPandasTrace === 'undefined') {\n",
       "    setTimeout(() => drawWsv(viz_id, spec, options), 2000) // retry in 2 seconds\n",
       "    return\n",
       "  }\n",
       "  createWsvFromPandasTrace(viz_id, spec, options)\n",
       "}\n",
       "</script>\n"
      ],
      "text/plain": [
       "<IPython.core.display.HTML object>"
      ]
     },
     "metadata": {},
     "output_type": "display_data"
    }
   ],
   "source": [
    "# Set up packages for lecture. Don't worry about understanding this code, but\n",
    "# make sure to run it if you're following along.\n",
    "import numpy as np\n",
    "import babypandas as bpd\n",
    "import pandas as pd\n",
    "from matplotlib_inline.backend_inline import set_matplotlib_formats\n",
    "import matplotlib.pyplot as plt\n",
    "%reload_ext pandas_tutor\n",
    "%set_pandas_tutor_options {'projectorMode': True}\n",
    "set_matplotlib_formats(\"svg\")\n",
    "plt.style.use('fivethirtyeight')\n",
    "\n",
    "np.set_printoptions(threshold=20, precision=2, suppress=True)\n",
    "pd.set_option(\"display.max_rows\", 7)\n",
    "pd.set_option(\"display.max_columns\", 8)\n",
    "pd.set_option(\"display.precision\", 2)\n",
    "from IPython.display import display, IFrame, HTML, YouTubeVideo\n",
    "\n",
    "def show_permutation_testing_slides():\n",
    "    src = \"https://docs.google.com/presentation/d/e/2PACX-1vSovXDonR6EmjrT45h4pY1mwmcKFMWVSdgpbKHC5HNTm9sbG7dojvvCDEQCjuk2dk1oA4gmwMogr8ZL/embed?start=false&loop=false&delayms=3000\"\n",
    "    width = 960\n",
    "    height = 569\n",
    "    display(IFrame(src, width, height))"
   ]
  },
  {
   "cell_type": "markdown",
   "metadata": {
    "slideshow": {
     "slide_type": "slide"
    }
   },
   "source": [
    "# Lecture 17 – Permutation Testing\n",
    "\n",
    "## DSC 10, Summer 2022"
   ]
  },
  {
   "cell_type": "markdown",
   "metadata": {
    "slideshow": {
     "slide_type": "slide"
    }
   },
   "source": [
    "### Announcements\n",
    "\n",
    "- Lab 5 is due **tomorrow at 11:59pm**.\n",
    "- Homework 5 is due **Sat 8/13 at 11:59pm**."
   ]
  },
  {
   "cell_type": "markdown",
   "metadata": {
    "slideshow": {
     "slide_type": "slide"
    }
   },
   "source": [
    "### Agenda\n",
    "\n",
    "- TVDs and test statistics.\n",
    "- A new type of hypothesis test.\n",
    "    - So far, we've been assessing models given a single random sample.\n",
    "        - We flip a coin 400 times. Are the flips consistent with the coin being fair?\n",
    "        - Did the jury panel in the Swain case look like a random sample from the eligible population?\n",
    "        - Are the test scores for the TA's section a random sample from the class's scores?\n",
    "    - But we often have **two** random samples we wish to compare.\n",
    "        - Example: birth weights of babies born to smoking mothers vs. non-smoking mothers 👶.\n",
    "        - Example: drops in pressure for footballs from two different teams (Deflategate) 🏈.\n",
    "    - **Permutation testing** (i.e. **A/B testing**) will help us decide whether two random samples come from the same distribution."
   ]
  },
  {
   "cell_type": "markdown",
   "metadata": {
    "slideshow": {
     "slide_type": "slide"
    }
   },
   "source": [
    "## TVD and Test Statistics"
   ]
  },
  {
   "cell_type": "code",
   "execution_count": 4,
   "metadata": {},
   "outputs": [
    {
     "data": {
      "text/html": [
       "<div>\n",
       "<style scoped>\n",
       "    .dataframe tbody tr th:only-of-type {\n",
       "        vertical-align: middle;\n",
       "    }\n",
       "\n",
       "    .dataframe tbody tr th {\n",
       "        vertical-align: top;\n",
       "    }\n",
       "\n",
       "    .dataframe thead th {\n",
       "        text-align: right;\n",
       "    }\n",
       "</style>\n",
       "<table border=\"1\" class=\"dataframe\">\n",
       "  <thead>\n",
       "    <tr style=\"text-align: right;\">\n",
       "      <th></th>\n",
       "      <th>Ethnicity</th>\n",
       "      <th>Eligible</th>\n",
       "      <th>Panels</th>\n",
       "    </tr>\n",
       "  </thead>\n",
       "  <tbody>\n",
       "    <tr>\n",
       "      <th>0</th>\n",
       "      <td>Asian</td>\n",
       "      <td>0.15</td>\n",
       "      <td>0.26</td>\n",
       "    </tr>\n",
       "    <tr>\n",
       "      <th>1</th>\n",
       "      <td>Black</td>\n",
       "      <td>0.18</td>\n",
       "      <td>0.08</td>\n",
       "    </tr>\n",
       "    <tr>\n",
       "      <th>2</th>\n",
       "      <td>Latino</td>\n",
       "      <td>0.12</td>\n",
       "      <td>0.08</td>\n",
       "    </tr>\n",
       "    <tr>\n",
       "      <th>3</th>\n",
       "      <td>White</td>\n",
       "      <td>0.54</td>\n",
       "      <td>0.54</td>\n",
       "    </tr>\n",
       "    <tr>\n",
       "      <th>4</th>\n",
       "      <td>Other</td>\n",
       "      <td>0.01</td>\n",
       "      <td>0.04</td>\n",
       "    </tr>\n",
       "  </tbody>\n",
       "</table>\n",
       "</div>"
      ],
      "text/plain": [
       "  Ethnicity  Eligible  Panels\n",
       "0     Asian      0.15    0.26\n",
       "1     Black      0.18    0.08\n",
       "2    Latino      0.12    0.08\n",
       "3     White      0.54    0.54\n",
       "4     Other      0.01    0.04"
      ]
     },
     "execution_count": 4,
     "metadata": {},
     "output_type": "execute_result"
    }
   ],
   "source": [
    "jury = bpd.DataFrame().assign(\n",
    "    Ethnicity=['Asian', 'Black', 'Latino', 'White', 'Other'],\n",
    "    Eligible=[0.15, 0.18, 0.12, 0.54, 0.01],\n",
    "    Panels=[0.26, 0.08, 0.08, 0.54, 0.04]\n",
    ")\n",
    "jury"
   ]
  },
  {
   "cell_type": "code",
   "execution_count": 5,
   "metadata": {
    "slideshow": {
     "slide_type": "slide"
    }
   },
   "outputs": [],
   "source": [
    "def total_variation_distance(dist1, dist2):\n",
    "    ..."
   ]
  },
  {
   "cell_type": "code",
   "execution_count": 6,
   "metadata": {
    "slideshow": {
     "slide_type": "-"
    }
   },
   "outputs": [],
   "source": [
    "# Calculate the TVD between the distribution of ethnicities in the eligible population\n",
    "# and the distribution of ethnicities in the observed panelists"
   ]
  },
  {
   "cell_type": "markdown",
   "metadata": {
    "slideshow": {
     "slide_type": "slide"
    }
   },
   "source": [
    "### You Try: Jury Panels using TVD\n",
    "\n",
    "1. Draw a random jury panel of 1453 people from the population. Calculate the TVD between the sample and population.\n",
    "1. Repeat 10,000 times, store results in an array called `tvds`.\n",
    "1. Plot the `tvds` in a histogram, and plot the observed TVD (0.14) as a vertical line.\n",
    "1. Calculate the p-value for this hypothesis test, and draw a conclusion."
   ]
  },
  {
   "cell_type": "code",
   "execution_count": null,
   "metadata": {},
   "outputs": [],
   "source": []
  },
  {
   "cell_type": "code",
   "execution_count": null,
   "metadata": {},
   "outputs": [],
   "source": []
  },
  {
   "cell_type": "code",
   "execution_count": null,
   "metadata": {},
   "outputs": [],
   "source": []
  },
  {
   "cell_type": "code",
   "execution_count": null,
   "metadata": {},
   "outputs": [],
   "source": []
  },
  {
   "cell_type": "markdown",
   "metadata": {
    "slideshow": {
     "slide_type": "fragment"
    }
   },
   "source": [
    "When the p-value is tiny, Python rounds to 0."
   ]
  },
  {
   "cell_type": "markdown",
   "metadata": {
    "slideshow": {
     "slide_type": "slide"
    }
   },
   "source": [
    "## Hypothesis Test Toolbox\n",
    "\n",
    "1. State: null and alternative hypotheses.\n",
    "1. Pick test statistic: use alternative hypothesis to decide what test statistic to use.\n",
    "    1. Mean (flight delays)\n",
    "    1. Count (# Black people in jury)\n",
    "    1. Absolute difference in proportions (pea plants)\n",
    "    1. TVD (Alameda juries)\n",
    "1. Simulate: draw samples under the null hypothesis, calculate the test statistic on each one.\n",
    "    1. Know population? `df.sample(n)`.\n",
    "    1. Know proportions in population? `np.random.multinomial(n, props)`.\n",
    "    1. Today: permutation testing.\n",
    "1. Visualize: plot the simulated values and observed test statistic.\n",
    "1. Find p-value: proportion of simulations that have values at least as extreme as the one observed."
   ]
  },
  {
   "cell_type": "markdown",
   "metadata": {
    "slideshow": {
     "slide_type": "slide"
    }
   },
   "source": [
    "## Motivating A/B testing"
   ]
  },
  {
   "cell_type": "markdown",
   "metadata": {
    "slideshow": {
     "slide_type": "slide"
    }
   },
   "source": [
    "### 2008 Obama Campaign\n",
    "\n",
    "<center><img src='data/obama.png' width=600></center>\n",
    "\n",
    "- In 2008, the Obama campaign tested several different versions of a pop-up box on their website. Each visitor to the site would view a random version of the site, with different buttons and images.\n",
    "- For each version, they recorded the number of people who signed up to be a donor.\n",
    "- Read more at [this blog post](https://blog.optimizely.com/2010/11/29/how-obama-raised-60-million-by-running-a-simple-experiment/)."
   ]
  },
  {
   "cell_type": "markdown",
   "metadata": {
    "slideshow": {
     "slide_type": "slide"
    }
   },
   "source": [
    "### Button choices\n",
    "\n",
    "- Here are the four different buttons they used.\n",
    "- Intuitively, which one do you think would lead to the most signups?\n",
    "\n",
    "<center><img src='data/buttons.png' width=400>"
   ]
  },
  {
   "cell_type": "markdown",
   "metadata": {
    "slideshow": {
     "slide_type": "slide"
    }
   },
   "source": [
    "### The winner\n",
    "\n",
    "<center><img src='data/winner.png' width=600>\n",
    "\n",
    "It is estimated that this combination of image and button brought in an **additional 60 million dollars** in donations versus the original version of the site."
   ]
  },
  {
   "cell_type": "markdown",
   "metadata": {
    "slideshow": {
     "slide_type": "slide"
    }
   },
   "source": [
    "## Example: Smoking and birth weight 👶"
   ]
  },
  {
   "cell_type": "markdown",
   "metadata": {
    "slideshow": {
     "slide_type": "slide"
    }
   },
   "source": [
    "### Smoking and birth weight\n",
    "\n",
    "- **Question:** Is there a significant difference in the weight of babies born to mothers who smoked vs. babies born to mothers who didn't smoke?\n",
    "- We'll load in data from an **observational study**.\n",
    "    - Each row corresponds to a baby.\n",
    "    - There are two groups of babies: those whose mothers smoked, and those whose mothers didn't smoke."
   ]
  },
  {
   "cell_type": "code",
   "execution_count": 7,
   "metadata": {
    "scrolled": true,
    "slideshow": {
     "slide_type": "-"
    }
   },
   "outputs": [
    {
     "data": {
      "text/html": [
       "<div>\n",
       "<style scoped>\n",
       "    .dataframe tbody tr th:only-of-type {\n",
       "        vertical-align: middle;\n",
       "    }\n",
       "\n",
       "    .dataframe tbody tr th {\n",
       "        vertical-align: top;\n",
       "    }\n",
       "\n",
       "    .dataframe thead th {\n",
       "        text-align: right;\n",
       "    }\n",
       "</style>\n",
       "<table border=\"1\" class=\"dataframe\">\n",
       "  <thead>\n",
       "    <tr style=\"text-align: right;\">\n",
       "      <th></th>\n",
       "      <th>Birth Weight</th>\n",
       "      <th>Gestational Days</th>\n",
       "      <th>Maternal Age</th>\n",
       "      <th>Maternal Height</th>\n",
       "      <th>Maternal Pregnancy Weight</th>\n",
       "      <th>Maternal Smoker</th>\n",
       "    </tr>\n",
       "  </thead>\n",
       "  <tbody>\n",
       "    <tr>\n",
       "      <th>0</th>\n",
       "      <td>120</td>\n",
       "      <td>284</td>\n",
       "      <td>27</td>\n",
       "      <td>62</td>\n",
       "      <td>100</td>\n",
       "      <td>False</td>\n",
       "    </tr>\n",
       "    <tr>\n",
       "      <th>1</th>\n",
       "      <td>113</td>\n",
       "      <td>282</td>\n",
       "      <td>33</td>\n",
       "      <td>64</td>\n",
       "      <td>135</td>\n",
       "      <td>False</td>\n",
       "    </tr>\n",
       "    <tr>\n",
       "      <th>2</th>\n",
       "      <td>128</td>\n",
       "      <td>279</td>\n",
       "      <td>28</td>\n",
       "      <td>64</td>\n",
       "      <td>115</td>\n",
       "      <td>True</td>\n",
       "    </tr>\n",
       "    <tr>\n",
       "      <th>...</th>\n",
       "      <td>...</td>\n",
       "      <td>...</td>\n",
       "      <td>...</td>\n",
       "      <td>...</td>\n",
       "      <td>...</td>\n",
       "      <td>...</td>\n",
       "    </tr>\n",
       "    <tr>\n",
       "      <th>1171</th>\n",
       "      <td>130</td>\n",
       "      <td>291</td>\n",
       "      <td>30</td>\n",
       "      <td>65</td>\n",
       "      <td>150</td>\n",
       "      <td>True</td>\n",
       "    </tr>\n",
       "    <tr>\n",
       "      <th>1172</th>\n",
       "      <td>125</td>\n",
       "      <td>281</td>\n",
       "      <td>21</td>\n",
       "      <td>65</td>\n",
       "      <td>110</td>\n",
       "      <td>False</td>\n",
       "    </tr>\n",
       "    <tr>\n",
       "      <th>1173</th>\n",
       "      <td>117</td>\n",
       "      <td>297</td>\n",
       "      <td>38</td>\n",
       "      <td>65</td>\n",
       "      <td>129</td>\n",
       "      <td>False</td>\n",
       "    </tr>\n",
       "  </tbody>\n",
       "</table>\n",
       "<p>1174 rows × 6 columns</p>\n",
       "</div>"
      ],
      "text/plain": [
       "      Birth Weight  Gestational Days  Maternal Age  Maternal Height  \\\n",
       "0              120               284            27               62   \n",
       "1              113               282            33               64   \n",
       "2              128               279            28               64   \n",
       "...            ...               ...           ...              ...   \n",
       "1171           130               291            30               65   \n",
       "1172           125               281            21               65   \n",
       "1173           117               297            38               65   \n",
       "\n",
       "      Maternal Pregnancy Weight  Maternal Smoker  \n",
       "0                           100            False  \n",
       "1                           135            False  \n",
       "2                           115             True  \n",
       "...                         ...              ...  \n",
       "1171                        150             True  \n",
       "1172                        110            False  \n",
       "1173                        129            False  \n",
       "\n",
       "[1174 rows x 6 columns]"
      ]
     },
     "execution_count": 7,
     "metadata": {},
     "output_type": "execute_result"
    }
   ],
   "source": [
    "baby = bpd.read_csv('data/baby.csv')\n",
    "baby"
   ]
  },
  {
   "cell_type": "code",
   "execution_count": 8,
   "metadata": {
    "slideshow": {
     "slide_type": "slide"
    }
   },
   "outputs": [
    {
     "data": {
      "text/html": [
       "<div>\n",
       "<style scoped>\n",
       "    .dataframe tbody tr th:only-of-type {\n",
       "        vertical-align: middle;\n",
       "    }\n",
       "\n",
       "    .dataframe tbody tr th {\n",
       "        vertical-align: top;\n",
       "    }\n",
       "\n",
       "    .dataframe thead th {\n",
       "        text-align: right;\n",
       "    }\n",
       "</style>\n",
       "<table border=\"1\" class=\"dataframe\">\n",
       "  <thead>\n",
       "    <tr style=\"text-align: right;\">\n",
       "      <th></th>\n",
       "      <th>Maternal Smoker</th>\n",
       "      <th>Birth Weight</th>\n",
       "    </tr>\n",
       "  </thead>\n",
       "  <tbody>\n",
       "    <tr>\n",
       "      <th>0</th>\n",
       "      <td>False</td>\n",
       "      <td>120</td>\n",
       "    </tr>\n",
       "    <tr>\n",
       "      <th>1</th>\n",
       "      <td>False</td>\n",
       "      <td>113</td>\n",
       "    </tr>\n",
       "    <tr>\n",
       "      <th>2</th>\n",
       "      <td>True</td>\n",
       "      <td>128</td>\n",
       "    </tr>\n",
       "    <tr>\n",
       "      <th>...</th>\n",
       "      <td>...</td>\n",
       "      <td>...</td>\n",
       "    </tr>\n",
       "    <tr>\n",
       "      <th>1171</th>\n",
       "      <td>True</td>\n",
       "      <td>130</td>\n",
       "    </tr>\n",
       "    <tr>\n",
       "      <th>1172</th>\n",
       "      <td>False</td>\n",
       "      <td>125</td>\n",
       "    </tr>\n",
       "    <tr>\n",
       "      <th>1173</th>\n",
       "      <td>False</td>\n",
       "      <td>117</td>\n",
       "    </tr>\n",
       "  </tbody>\n",
       "</table>\n",
       "<p>1174 rows × 2 columns</p>\n",
       "</div>"
      ],
      "text/plain": [
       "      Maternal Smoker  Birth Weight\n",
       "0               False           120\n",
       "1               False           113\n",
       "2                True           128\n",
       "...               ...           ...\n",
       "1171             True           130\n",
       "1172            False           125\n",
       "1173            False           117\n",
       "\n",
       "[1174 rows x 2 columns]"
      ]
     },
     "execution_count": 8,
     "metadata": {},
     "output_type": "execute_result"
    }
   ],
   "source": [
    "# Selecting only the columns that are relevant\n",
    "smoking_and_birthweight = baby.get(['Maternal Smoker', 'Birth Weight'])\n",
    "smoking_and_birthweight"
   ]
  },
  {
   "cell_type": "markdown",
   "metadata": {
    "slideshow": {
     "slide_type": "slide"
    }
   },
   "source": [
    "### Visualizing the distribution of each group"
   ]
  },
  {
   "cell_type": "code",
   "execution_count": 9,
   "metadata": {},
   "outputs": [],
   "source": [
    "smokers = smoking_and_birthweight[smoking_and_birthweight.get('Maternal Smoker')]\n",
    "non_smokers = smoking_and_birthweight[-smoking_and_birthweight.get('Maternal Smoker')]"
   ]
  },
  {
   "cell_type": "code",
   "execution_count": 10,
   "metadata": {
    "scrolled": false,
    "slideshow": {
     "slide_type": "-"
    }
   },
   "outputs": [
    {
     "data": {
      "image/svg+xml": [
       "<?xml version=\"1.0\" encoding=\"utf-8\" standalone=\"no\"?>\n",
       "<!DOCTYPE svg PUBLIC \"-//W3C//DTD SVG 1.1//EN\"\n",
       "  \"http://www.w3.org/Graphics/SVG/1.1/DTD/svg11.dtd\">\n",
       "<svg height=\"343.308625pt\" version=\"1.1\" viewBox=\"0 0 709.163511 343.308625\" width=\"709.163511pt\" xmlns=\"http://www.w3.org/2000/svg\" xmlns:xlink=\"http://www.w3.org/1999/xlink\">\n",
       " <metadata>\n",
       "  <rdf:RDF xmlns:cc=\"http://creativecommons.org/ns#\" xmlns:dc=\"http://purl.org/dc/elements/1.1/\" xmlns:rdf=\"http://www.w3.org/1999/02/22-rdf-syntax-ns#\">\n",
       "   <cc:Work>\n",
       "    <dc:type rdf:resource=\"http://purl.org/dc/dcmitype/StillImage\"/>\n",
       "    <dc:date>2022-08-05T15:14:36.819241</dc:date>\n",
       "    <dc:format>image/svg+xml</dc:format>\n",
       "    <dc:creator>\n",
       "     <cc:Agent>\n",
       "      <dc:title>Matplotlib v3.4.2, https://matplotlib.org/</dc:title>\n",
       "     </cc:Agent>\n",
       "    </dc:creator>\n",
       "   </cc:Work>\n",
       "  </rdf:RDF>\n",
       " </metadata>\n",
       " <defs>\n",
       "  <style type=\"text/css\">*{stroke-linecap:butt;stroke-linejoin:round;}</style>\n",
       " </defs>\n",
       " <g id=\"figure_1\">\n",
       "  <g id=\"patch_1\">\n",
       "   <path d=\"M 0 343.308625 \n",
       "L 709.163511 343.308625 \n",
       "L 709.163511 0 \n",
       "L 0 0 \n",
       "z\n",
       "\" style=\"fill:#f0f0f0;\"/>\n",
       "  </g>\n",
       "  <g id=\"axes_1\">\n",
       "   <g id=\"patch_2\">\n",
       "    <path d=\"M 71.038625 298.8 \n",
       "L 697.438625 298.8 \n",
       "L 697.438625 7.2 \n",
       "L 71.038625 7.2 \n",
       "z\n",
       "\" style=\"fill:#f0f0f0;\"/>\n",
       "   </g>\n",
       "   <g id=\"matplotlib.axis_1\">\n",
       "    <g id=\"xtick_1\">\n",
       "     <g id=\"line2d_1\">\n",
       "      <path clip-path=\"url(#pd842fd44e3)\" d=\"M 138.78408 298.8 \n",
       "L 138.78408 7.2 \n",
       "\" style=\"fill:none;stroke:#cbcbcb;\"/>\n",
       "     </g>\n",
       "     <g id=\"line2d_2\"/>\n",
       "     <g id=\"text_1\">\n",
       "      <!-- 60 -->\n",
       "      <g transform=\"translate(129.87658 312.937813)scale(0.14 -0.14)\">\n",
       "       <defs>\n",
       "        <path d=\"M 2113 2584 \n",
       "Q 1688 2584 1439 2293 \n",
       "Q 1191 2003 1191 1497 \n",
       "Q 1191 994 1439 701 \n",
       "Q 1688 409 2113 409 \n",
       "Q 2538 409 2786 701 \n",
       "Q 3034 994 3034 1497 \n",
       "Q 3034 2003 2786 2293 \n",
       "Q 2538 2584 2113 2584 \n",
       "z\n",
       "M 3366 4563 \n",
       "L 3366 3988 \n",
       "Q 3128 4100 2886 4159 \n",
       "Q 2644 4219 2406 4219 \n",
       "Q 1781 4219 1451 3797 \n",
       "Q 1122 3375 1075 2522 \n",
       "Q 1259 2794 1537 2939 \n",
       "Q 1816 3084 2150 3084 \n",
       "Q 2853 3084 3261 2657 \n",
       "Q 3669 2231 3669 1497 \n",
       "Q 3669 778 3244 343 \n",
       "Q 2819 -91 2113 -91 \n",
       "Q 1303 -91 875 529 \n",
       "Q 447 1150 447 2328 \n",
       "Q 447 3434 972 4092 \n",
       "Q 1497 4750 2381 4750 \n",
       "Q 2619 4750 2861 4703 \n",
       "Q 3103 4656 3366 4563 \n",
       "z\n",
       "\" id=\"DejaVuSans-36\" transform=\"scale(0.015625)\"/>\n",
       "        <path d=\"M 2034 4250 \n",
       "Q 1547 4250 1301 3770 \n",
       "Q 1056 3291 1056 2328 \n",
       "Q 1056 1369 1301 889 \n",
       "Q 1547 409 2034 409 \n",
       "Q 2525 409 2770 889 \n",
       "Q 3016 1369 3016 2328 \n",
       "Q 3016 3291 2770 3770 \n",
       "Q 2525 4250 2034 4250 \n",
       "z\n",
       "M 2034 4750 \n",
       "Q 2819 4750 3233 4129 \n",
       "Q 3647 3509 3647 2328 \n",
       "Q 3647 1150 3233 529 \n",
       "Q 2819 -91 2034 -91 \n",
       "Q 1250 -91 836 529 \n",
       "Q 422 1150 422 2328 \n",
       "Q 422 3509 836 4129 \n",
       "Q 1250 4750 2034 4750 \n",
       "z\n",
       "\" id=\"DejaVuSans-30\" transform=\"scale(0.015625)\"/>\n",
       "       </defs>\n",
       "       <use xlink:href=\"#DejaVuSans-36\"/>\n",
       "       <use x=\"63.623047\" xlink:href=\"#DejaVuSans-30\"/>\n",
       "      </g>\n",
       "     </g>\n",
       "    </g>\n",
       "    <g id=\"xtick_2\">\n",
       "     <g id=\"line2d_3\">\n",
       "      <path clip-path=\"url(#pd842fd44e3)\" d=\"M 217.329534 298.8 \n",
       "L 217.329534 7.2 \n",
       "\" style=\"fill:none;stroke:#cbcbcb;\"/>\n",
       "     </g>\n",
       "     <g id=\"line2d_4\"/>\n",
       "     <g id=\"text_2\">\n",
       "      <!-- 80 -->\n",
       "      <g transform=\"translate(208.422034 312.937813)scale(0.14 -0.14)\">\n",
       "       <defs>\n",
       "        <path d=\"M 2034 2216 \n",
       "Q 1584 2216 1326 1975 \n",
       "Q 1069 1734 1069 1313 \n",
       "Q 1069 891 1326 650 \n",
       "Q 1584 409 2034 409 \n",
       "Q 2484 409 2743 651 \n",
       "Q 3003 894 3003 1313 \n",
       "Q 3003 1734 2745 1975 \n",
       "Q 2488 2216 2034 2216 \n",
       "z\n",
       "M 1403 2484 \n",
       "Q 997 2584 770 2862 \n",
       "Q 544 3141 544 3541 \n",
       "Q 544 4100 942 4425 \n",
       "Q 1341 4750 2034 4750 \n",
       "Q 2731 4750 3128 4425 \n",
       "Q 3525 4100 3525 3541 \n",
       "Q 3525 3141 3298 2862 \n",
       "Q 3072 2584 2669 2484 \n",
       "Q 3125 2378 3379 2068 \n",
       "Q 3634 1759 3634 1313 \n",
       "Q 3634 634 3220 271 \n",
       "Q 2806 -91 2034 -91 \n",
       "Q 1263 -91 848 271 \n",
       "Q 434 634 434 1313 \n",
       "Q 434 1759 690 2068 \n",
       "Q 947 2378 1403 2484 \n",
       "z\n",
       "M 1172 3481 \n",
       "Q 1172 3119 1398 2916 \n",
       "Q 1625 2713 2034 2713 \n",
       "Q 2441 2713 2670 2916 \n",
       "Q 2900 3119 2900 3481 \n",
       "Q 2900 3844 2670 4047 \n",
       "Q 2441 4250 2034 4250 \n",
       "Q 1625 4250 1398 4047 \n",
       "Q 1172 3844 1172 3481 \n",
       "z\n",
       "\" id=\"DejaVuSans-38\" transform=\"scale(0.015625)\"/>\n",
       "       </defs>\n",
       "       <use xlink:href=\"#DejaVuSans-38\"/>\n",
       "       <use x=\"63.623047\" xlink:href=\"#DejaVuSans-30\"/>\n",
       "      </g>\n",
       "     </g>\n",
       "    </g>\n",
       "    <g id=\"xtick_3\">\n",
       "     <g id=\"line2d_5\">\n",
       "      <path clip-path=\"url(#pd842fd44e3)\" d=\"M 295.874989 298.8 \n",
       "L 295.874989 7.2 \n",
       "\" style=\"fill:none;stroke:#cbcbcb;\"/>\n",
       "     </g>\n",
       "     <g id=\"line2d_6\"/>\n",
       "     <g id=\"text_3\">\n",
       "      <!-- 100 -->\n",
       "      <g transform=\"translate(282.513739 312.937813)scale(0.14 -0.14)\">\n",
       "       <defs>\n",
       "        <path d=\"M 794 531 \n",
       "L 1825 531 \n",
       "L 1825 4091 \n",
       "L 703 3866 \n",
       "L 703 4441 \n",
       "L 1819 4666 \n",
       "L 2450 4666 \n",
       "L 2450 531 \n",
       "L 3481 531 \n",
       "L 3481 0 \n",
       "L 794 0 \n",
       "L 794 531 \n",
       "z\n",
       "\" id=\"DejaVuSans-31\" transform=\"scale(0.015625)\"/>\n",
       "       </defs>\n",
       "       <use xlink:href=\"#DejaVuSans-31\"/>\n",
       "       <use x=\"63.623047\" xlink:href=\"#DejaVuSans-30\"/>\n",
       "       <use x=\"127.246094\" xlink:href=\"#DejaVuSans-30\"/>\n",
       "      </g>\n",
       "     </g>\n",
       "    </g>\n",
       "    <g id=\"xtick_4\">\n",
       "     <g id=\"line2d_7\">\n",
       "      <path clip-path=\"url(#pd842fd44e3)\" d=\"M 374.420443 298.8 \n",
       "L 374.420443 7.2 \n",
       "\" style=\"fill:none;stroke:#cbcbcb;\"/>\n",
       "     </g>\n",
       "     <g id=\"line2d_8\"/>\n",
       "     <g id=\"text_4\">\n",
       "      <!-- 120 -->\n",
       "      <g transform=\"translate(361.059193 312.937813)scale(0.14 -0.14)\">\n",
       "       <defs>\n",
       "        <path d=\"M 1228 531 \n",
       "L 3431 531 \n",
       "L 3431 0 \n",
       "L 469 0 \n",
       "L 469 531 \n",
       "Q 828 903 1448 1529 \n",
       "Q 2069 2156 2228 2338 \n",
       "Q 2531 2678 2651 2914 \n",
       "Q 2772 3150 2772 3378 \n",
       "Q 2772 3750 2511 3984 \n",
       "Q 2250 4219 1831 4219 \n",
       "Q 1534 4219 1204 4116 \n",
       "Q 875 4013 500 3803 \n",
       "L 500 4441 \n",
       "Q 881 4594 1212 4672 \n",
       "Q 1544 4750 1819 4750 \n",
       "Q 2544 4750 2975 4387 \n",
       "Q 3406 4025 3406 3419 \n",
       "Q 3406 3131 3298 2873 \n",
       "Q 3191 2616 2906 2266 \n",
       "Q 2828 2175 2409 1742 \n",
       "Q 1991 1309 1228 531 \n",
       "z\n",
       "\" id=\"DejaVuSans-32\" transform=\"scale(0.015625)\"/>\n",
       "       </defs>\n",
       "       <use xlink:href=\"#DejaVuSans-31\"/>\n",
       "       <use x=\"63.623047\" xlink:href=\"#DejaVuSans-32\"/>\n",
       "       <use x=\"127.246094\" xlink:href=\"#DejaVuSans-30\"/>\n",
       "      </g>\n",
       "     </g>\n",
       "    </g>\n",
       "    <g id=\"xtick_5\">\n",
       "     <g id=\"line2d_9\">\n",
       "      <path clip-path=\"url(#pd842fd44e3)\" d=\"M 452.965898 298.8 \n",
       "L 452.965898 7.2 \n",
       "\" style=\"fill:none;stroke:#cbcbcb;\"/>\n",
       "     </g>\n",
       "     <g id=\"line2d_10\"/>\n",
       "     <g id=\"text_5\">\n",
       "      <!-- 140 -->\n",
       "      <g transform=\"translate(439.604648 312.937813)scale(0.14 -0.14)\">\n",
       "       <defs>\n",
       "        <path d=\"M 2419 4116 \n",
       "L 825 1625 \n",
       "L 2419 1625 \n",
       "L 2419 4116 \n",
       "z\n",
       "M 2253 4666 \n",
       "L 3047 4666 \n",
       "L 3047 1625 \n",
       "L 3713 1625 \n",
       "L 3713 1100 \n",
       "L 3047 1100 \n",
       "L 3047 0 \n",
       "L 2419 0 \n",
       "L 2419 1100 \n",
       "L 313 1100 \n",
       "L 313 1709 \n",
       "L 2253 4666 \n",
       "z\n",
       "\" id=\"DejaVuSans-34\" transform=\"scale(0.015625)\"/>\n",
       "       </defs>\n",
       "       <use xlink:href=\"#DejaVuSans-31\"/>\n",
       "       <use x=\"63.623047\" xlink:href=\"#DejaVuSans-34\"/>\n",
       "       <use x=\"127.246094\" xlink:href=\"#DejaVuSans-30\"/>\n",
       "      </g>\n",
       "     </g>\n",
       "    </g>\n",
       "    <g id=\"xtick_6\">\n",
       "     <g id=\"line2d_11\">\n",
       "      <path clip-path=\"url(#pd842fd44e3)\" d=\"M 531.511352 298.8 \n",
       "L 531.511352 7.2 \n",
       "\" style=\"fill:none;stroke:#cbcbcb;\"/>\n",
       "     </g>\n",
       "     <g id=\"line2d_12\"/>\n",
       "     <g id=\"text_6\">\n",
       "      <!-- 160 -->\n",
       "      <g transform=\"translate(518.150102 312.937813)scale(0.14 -0.14)\">\n",
       "       <use xlink:href=\"#DejaVuSans-31\"/>\n",
       "       <use x=\"63.623047\" xlink:href=\"#DejaVuSans-36\"/>\n",
       "       <use x=\"127.246094\" xlink:href=\"#DejaVuSans-30\"/>\n",
       "      </g>\n",
       "     </g>\n",
       "    </g>\n",
       "    <g id=\"xtick_7\">\n",
       "     <g id=\"line2d_13\">\n",
       "      <path clip-path=\"url(#pd842fd44e3)\" d=\"M 610.056807 298.8 \n",
       "L 610.056807 7.2 \n",
       "\" style=\"fill:none;stroke:#cbcbcb;\"/>\n",
       "     </g>\n",
       "     <g id=\"line2d_14\"/>\n",
       "     <g id=\"text_7\">\n",
       "      <!-- 180 -->\n",
       "      <g transform=\"translate(596.695557 312.937813)scale(0.14 -0.14)\">\n",
       "       <use xlink:href=\"#DejaVuSans-31\"/>\n",
       "       <use x=\"63.623047\" xlink:href=\"#DejaVuSans-38\"/>\n",
       "       <use x=\"127.246094\" xlink:href=\"#DejaVuSans-30\"/>\n",
       "      </g>\n",
       "     </g>\n",
       "    </g>\n",
       "    <g id=\"xtick_8\">\n",
       "     <g id=\"line2d_15\">\n",
       "      <path clip-path=\"url(#pd842fd44e3)\" d=\"M 688.602261 298.8 \n",
       "L 688.602261 7.2 \n",
       "\" style=\"fill:none;stroke:#cbcbcb;\"/>\n",
       "     </g>\n",
       "     <g id=\"line2d_16\"/>\n",
       "     <g id=\"text_8\">\n",
       "      <!-- 200 -->\n",
       "      <g transform=\"translate(675.241011 312.937813)scale(0.14 -0.14)\">\n",
       "       <use xlink:href=\"#DejaVuSans-32\"/>\n",
       "       <use x=\"63.623047\" xlink:href=\"#DejaVuSans-30\"/>\n",
       "       <use x=\"127.246094\" xlink:href=\"#DejaVuSans-30\"/>\n",
       "      </g>\n",
       "     </g>\n",
       "    </g>\n",
       "    <g id=\"text_9\">\n",
       "     <!-- Birth Weight -->\n",
       "     <g transform=\"translate(332.138937 332.61475)scale(0.168 -0.168)\">\n",
       "      <defs>\n",
       "       <path d=\"M 1259 2228 \n",
       "L 1259 519 \n",
       "L 2272 519 \n",
       "Q 2781 519 3026 730 \n",
       "Q 3272 941 3272 1375 \n",
       "Q 3272 1813 3026 2020 \n",
       "Q 2781 2228 2272 2228 \n",
       "L 1259 2228 \n",
       "z\n",
       "M 1259 4147 \n",
       "L 1259 2741 \n",
       "L 2194 2741 \n",
       "Q 2656 2741 2882 2914 \n",
       "Q 3109 3088 3109 3444 \n",
       "Q 3109 3797 2882 3972 \n",
       "Q 2656 4147 2194 4147 \n",
       "L 1259 4147 \n",
       "z\n",
       "M 628 4666 \n",
       "L 2241 4666 \n",
       "Q 2963 4666 3353 4366 \n",
       "Q 3744 4066 3744 3513 \n",
       "Q 3744 3084 3544 2831 \n",
       "Q 3344 2578 2956 2516 \n",
       "Q 3422 2416 3680 2098 \n",
       "Q 3938 1781 3938 1306 \n",
       "Q 3938 681 3513 340 \n",
       "Q 3088 0 2303 0 \n",
       "L 628 0 \n",
       "L 628 4666 \n",
       "z\n",
       "\" id=\"DejaVuSans-42\" transform=\"scale(0.015625)\"/>\n",
       "       <path d=\"M 603 3500 \n",
       "L 1178 3500 \n",
       "L 1178 0 \n",
       "L 603 0 \n",
       "L 603 3500 \n",
       "z\n",
       "M 603 4863 \n",
       "L 1178 4863 \n",
       "L 1178 4134 \n",
       "L 603 4134 \n",
       "L 603 4863 \n",
       "z\n",
       "\" id=\"DejaVuSans-69\" transform=\"scale(0.015625)\"/>\n",
       "       <path d=\"M 2631 2963 \n",
       "Q 2534 3019 2420 3045 \n",
       "Q 2306 3072 2169 3072 \n",
       "Q 1681 3072 1420 2755 \n",
       "Q 1159 2438 1159 1844 \n",
       "L 1159 0 \n",
       "L 581 0 \n",
       "L 581 3500 \n",
       "L 1159 3500 \n",
       "L 1159 2956 \n",
       "Q 1341 3275 1631 3429 \n",
       "Q 1922 3584 2338 3584 \n",
       "Q 2397 3584 2469 3576 \n",
       "Q 2541 3569 2628 3553 \n",
       "L 2631 2963 \n",
       "z\n",
       "\" id=\"DejaVuSans-72\" transform=\"scale(0.015625)\"/>\n",
       "       <path d=\"M 1172 4494 \n",
       "L 1172 3500 \n",
       "L 2356 3500 \n",
       "L 2356 3053 \n",
       "L 1172 3053 \n",
       "L 1172 1153 \n",
       "Q 1172 725 1289 603 \n",
       "Q 1406 481 1766 481 \n",
       "L 2356 481 \n",
       "L 2356 0 \n",
       "L 1766 0 \n",
       "Q 1100 0 847 248 \n",
       "Q 594 497 594 1153 \n",
       "L 594 3053 \n",
       "L 172 3053 \n",
       "L 172 3500 \n",
       "L 594 3500 \n",
       "L 594 4494 \n",
       "L 1172 4494 \n",
       "z\n",
       "\" id=\"DejaVuSans-74\" transform=\"scale(0.015625)\"/>\n",
       "       <path d=\"M 3513 2113 \n",
       "L 3513 0 \n",
       "L 2938 0 \n",
       "L 2938 2094 \n",
       "Q 2938 2591 2744 2837 \n",
       "Q 2550 3084 2163 3084 \n",
       "Q 1697 3084 1428 2787 \n",
       "Q 1159 2491 1159 1978 \n",
       "L 1159 0 \n",
       "L 581 0 \n",
       "L 581 4863 \n",
       "L 1159 4863 \n",
       "L 1159 2956 \n",
       "Q 1366 3272 1645 3428 \n",
       "Q 1925 3584 2291 3584 \n",
       "Q 2894 3584 3203 3211 \n",
       "Q 3513 2838 3513 2113 \n",
       "z\n",
       "\" id=\"DejaVuSans-68\" transform=\"scale(0.015625)\"/>\n",
       "       <path id=\"DejaVuSans-20\" transform=\"scale(0.015625)\"/>\n",
       "       <path d=\"M 213 4666 \n",
       "L 850 4666 \n",
       "L 1831 722 \n",
       "L 2809 4666 \n",
       "L 3519 4666 \n",
       "L 4500 722 \n",
       "L 5478 4666 \n",
       "L 6119 4666 \n",
       "L 4947 0 \n",
       "L 4153 0 \n",
       "L 3169 4050 \n",
       "L 2175 0 \n",
       "L 1381 0 \n",
       "L 213 4666 \n",
       "z\n",
       "\" id=\"DejaVuSans-57\" transform=\"scale(0.015625)\"/>\n",
       "       <path d=\"M 3597 1894 \n",
       "L 3597 1613 \n",
       "L 953 1613 \n",
       "Q 991 1019 1311 708 \n",
       "Q 1631 397 2203 397 \n",
       "Q 2534 397 2845 478 \n",
       "Q 3156 559 3463 722 \n",
       "L 3463 178 \n",
       "Q 3153 47 2828 -22 \n",
       "Q 2503 -91 2169 -91 \n",
       "Q 1331 -91 842 396 \n",
       "Q 353 884 353 1716 \n",
       "Q 353 2575 817 3079 \n",
       "Q 1281 3584 2069 3584 \n",
       "Q 2775 3584 3186 3129 \n",
       "Q 3597 2675 3597 1894 \n",
       "z\n",
       "M 3022 2063 \n",
       "Q 3016 2534 2758 2815 \n",
       "Q 2500 3097 2075 3097 \n",
       "Q 1594 3097 1305 2825 \n",
       "Q 1016 2553 972 2059 \n",
       "L 3022 2063 \n",
       "z\n",
       "\" id=\"DejaVuSans-65\" transform=\"scale(0.015625)\"/>\n",
       "       <path d=\"M 2906 1791 \n",
       "Q 2906 2416 2648 2759 \n",
       "Q 2391 3103 1925 3103 \n",
       "Q 1463 3103 1205 2759 \n",
       "Q 947 2416 947 1791 \n",
       "Q 947 1169 1205 825 \n",
       "Q 1463 481 1925 481 \n",
       "Q 2391 481 2648 825 \n",
       "Q 2906 1169 2906 1791 \n",
       "z\n",
       "M 3481 434 \n",
       "Q 3481 -459 3084 -895 \n",
       "Q 2688 -1331 1869 -1331 \n",
       "Q 1566 -1331 1297 -1286 \n",
       "Q 1028 -1241 775 -1147 \n",
       "L 775 -588 \n",
       "Q 1028 -725 1275 -790 \n",
       "Q 1522 -856 1778 -856 \n",
       "Q 2344 -856 2625 -561 \n",
       "Q 2906 -266 2906 331 \n",
       "L 2906 616 \n",
       "Q 2728 306 2450 153 \n",
       "Q 2172 0 1784 0 \n",
       "Q 1141 0 747 490 \n",
       "Q 353 981 353 1791 \n",
       "Q 353 2603 747 3093 \n",
       "Q 1141 3584 1784 3584 \n",
       "Q 2172 3584 2450 3431 \n",
       "Q 2728 3278 2906 2969 \n",
       "L 2906 3500 \n",
       "L 3481 3500 \n",
       "L 3481 434 \n",
       "z\n",
       "\" id=\"DejaVuSans-67\" transform=\"scale(0.015625)\"/>\n",
       "      </defs>\n",
       "      <use xlink:href=\"#DejaVuSans-42\"/>\n",
       "      <use x=\"68.603516\" xlink:href=\"#DejaVuSans-69\"/>\n",
       "      <use x=\"96.386719\" xlink:href=\"#DejaVuSans-72\"/>\n",
       "      <use x=\"137.5\" xlink:href=\"#DejaVuSans-74\"/>\n",
       "      <use x=\"176.708984\" xlink:href=\"#DejaVuSans-68\"/>\n",
       "      <use x=\"240.087891\" xlink:href=\"#DejaVuSans-20\"/>\n",
       "      <use x=\"271.875\" xlink:href=\"#DejaVuSans-57\"/>\n",
       "      <use x=\"364.876953\" xlink:href=\"#DejaVuSans-65\"/>\n",
       "      <use x=\"426.400391\" xlink:href=\"#DejaVuSans-69\"/>\n",
       "      <use x=\"454.183594\" xlink:href=\"#DejaVuSans-67\"/>\n",
       "      <use x=\"517.660156\" xlink:href=\"#DejaVuSans-68\"/>\n",
       "      <use x=\"581.039062\" xlink:href=\"#DejaVuSans-74\"/>\n",
       "     </g>\n",
       "    </g>\n",
       "   </g>\n",
       "   <g id=\"matplotlib.axis_2\">\n",
       "    <g id=\"ytick_1\">\n",
       "     <g id=\"line2d_17\">\n",
       "      <path clip-path=\"url(#pd842fd44e3)\" d=\"M 71.038625 298.8 \n",
       "L 697.438625 298.8 \n",
       "\" style=\"fill:none;stroke:#cbcbcb;\"/>\n",
       "     </g>\n",
       "     <g id=\"line2d_18\"/>\n",
       "     <g id=\"text_10\">\n",
       "      <!-- 0.000 -->\n",
       "      <g transform=\"translate(27.45925 304.118906)scale(0.14 -0.14)\">\n",
       "       <defs>\n",
       "        <path d=\"M 684 794 \n",
       "L 1344 794 \n",
       "L 1344 0 \n",
       "L 684 0 \n",
       "L 684 794 \n",
       "z\n",
       "\" id=\"DejaVuSans-2e\" transform=\"scale(0.015625)\"/>\n",
       "       </defs>\n",
       "       <use xlink:href=\"#DejaVuSans-30\"/>\n",
       "       <use x=\"63.623047\" xlink:href=\"#DejaVuSans-2e\"/>\n",
       "       <use x=\"95.410156\" xlink:href=\"#DejaVuSans-30\"/>\n",
       "       <use x=\"159.033203\" xlink:href=\"#DejaVuSans-30\"/>\n",
       "       <use x=\"222.65625\" xlink:href=\"#DejaVuSans-30\"/>\n",
       "      </g>\n",
       "     </g>\n",
       "    </g>\n",
       "    <g id=\"ytick_2\">\n",
       "     <g id=\"line2d_19\">\n",
       "      <path clip-path=\"url(#pd842fd44e3)\" d=\"M 71.038625 248.145481 \n",
       "L 697.438625 248.145481 \n",
       "\" style=\"fill:none;stroke:#cbcbcb;\"/>\n",
       "     </g>\n",
       "     <g id=\"line2d_20\"/>\n",
       "     <g id=\"text_11\">\n",
       "      <!-- 0.005 -->\n",
       "      <g transform=\"translate(27.45925 253.464387)scale(0.14 -0.14)\">\n",
       "       <defs>\n",
       "        <path d=\"M 691 4666 \n",
       "L 3169 4666 \n",
       "L 3169 4134 \n",
       "L 1269 4134 \n",
       "L 1269 2991 \n",
       "Q 1406 3038 1543 3061 \n",
       "Q 1681 3084 1819 3084 \n",
       "Q 2600 3084 3056 2656 \n",
       "Q 3513 2228 3513 1497 \n",
       "Q 3513 744 3044 326 \n",
       "Q 2575 -91 1722 -91 \n",
       "Q 1428 -91 1123 -41 \n",
       "Q 819 9 494 109 \n",
       "L 494 744 \n",
       "Q 775 591 1075 516 \n",
       "Q 1375 441 1709 441 \n",
       "Q 2250 441 2565 725 \n",
       "Q 2881 1009 2881 1497 \n",
       "Q 2881 1984 2565 2268 \n",
       "Q 2250 2553 1709 2553 \n",
       "Q 1456 2553 1204 2497 \n",
       "Q 953 2441 691 2322 \n",
       "L 691 4666 \n",
       "z\n",
       "\" id=\"DejaVuSans-35\" transform=\"scale(0.015625)\"/>\n",
       "       </defs>\n",
       "       <use xlink:href=\"#DejaVuSans-30\"/>\n",
       "       <use x=\"63.623047\" xlink:href=\"#DejaVuSans-2e\"/>\n",
       "       <use x=\"95.410156\" xlink:href=\"#DejaVuSans-30\"/>\n",
       "       <use x=\"159.033203\" xlink:href=\"#DejaVuSans-30\"/>\n",
       "       <use x=\"222.65625\" xlink:href=\"#DejaVuSans-35\"/>\n",
       "      </g>\n",
       "     </g>\n",
       "    </g>\n",
       "    <g id=\"ytick_3\">\n",
       "     <g id=\"line2d_21\">\n",
       "      <path clip-path=\"url(#pd842fd44e3)\" d=\"M 71.038625 197.490962 \n",
       "L 697.438625 197.490962 \n",
       "\" style=\"fill:none;stroke:#cbcbcb;\"/>\n",
       "     </g>\n",
       "     <g id=\"line2d_22\"/>\n",
       "     <g id=\"text_12\">\n",
       "      <!-- 0.010 -->\n",
       "      <g transform=\"translate(27.45925 202.809868)scale(0.14 -0.14)\">\n",
       "       <use xlink:href=\"#DejaVuSans-30\"/>\n",
       "       <use x=\"63.623047\" xlink:href=\"#DejaVuSans-2e\"/>\n",
       "       <use x=\"95.410156\" xlink:href=\"#DejaVuSans-30\"/>\n",
       "       <use x=\"159.033203\" xlink:href=\"#DejaVuSans-31\"/>\n",
       "       <use x=\"222.65625\" xlink:href=\"#DejaVuSans-30\"/>\n",
       "      </g>\n",
       "     </g>\n",
       "    </g>\n",
       "    <g id=\"ytick_4\">\n",
       "     <g id=\"line2d_23\">\n",
       "      <path clip-path=\"url(#pd842fd44e3)\" d=\"M 71.038625 146.836443 \n",
       "L 697.438625 146.836443 \n",
       "\" style=\"fill:none;stroke:#cbcbcb;\"/>\n",
       "     </g>\n",
       "     <g id=\"line2d_24\"/>\n",
       "     <g id=\"text_13\">\n",
       "      <!-- 0.015 -->\n",
       "      <g transform=\"translate(27.45925 152.155349)scale(0.14 -0.14)\">\n",
       "       <use xlink:href=\"#DejaVuSans-30\"/>\n",
       "       <use x=\"63.623047\" xlink:href=\"#DejaVuSans-2e\"/>\n",
       "       <use x=\"95.410156\" xlink:href=\"#DejaVuSans-30\"/>\n",
       "       <use x=\"159.033203\" xlink:href=\"#DejaVuSans-31\"/>\n",
       "       <use x=\"222.65625\" xlink:href=\"#DejaVuSans-35\"/>\n",
       "      </g>\n",
       "     </g>\n",
       "    </g>\n",
       "    <g id=\"ytick_5\">\n",
       "     <g id=\"line2d_25\">\n",
       "      <path clip-path=\"url(#pd842fd44e3)\" d=\"M 71.038625 96.181924 \n",
       "L 697.438625 96.181924 \n",
       "\" style=\"fill:none;stroke:#cbcbcb;\"/>\n",
       "     </g>\n",
       "     <g id=\"line2d_26\"/>\n",
       "     <g id=\"text_14\">\n",
       "      <!-- 0.020 -->\n",
       "      <g transform=\"translate(27.45925 101.50083)scale(0.14 -0.14)\">\n",
       "       <use xlink:href=\"#DejaVuSans-30\"/>\n",
       "       <use x=\"63.623047\" xlink:href=\"#DejaVuSans-2e\"/>\n",
       "       <use x=\"95.410156\" xlink:href=\"#DejaVuSans-30\"/>\n",
       "       <use x=\"159.033203\" xlink:href=\"#DejaVuSans-32\"/>\n",
       "       <use x=\"222.65625\" xlink:href=\"#DejaVuSans-30\"/>\n",
       "      </g>\n",
       "     </g>\n",
       "    </g>\n",
       "    <g id=\"ytick_6\">\n",
       "     <g id=\"line2d_27\">\n",
       "      <path clip-path=\"url(#pd842fd44e3)\" d=\"M 71.038625 45.527405 \n",
       "L 697.438625 45.527405 \n",
       "\" style=\"fill:none;stroke:#cbcbcb;\"/>\n",
       "     </g>\n",
       "     <g id=\"line2d_28\"/>\n",
       "     <g id=\"text_15\">\n",
       "      <!-- 0.025 -->\n",
       "      <g transform=\"translate(27.45925 50.846311)scale(0.14 -0.14)\">\n",
       "       <use xlink:href=\"#DejaVuSans-30\"/>\n",
       "       <use x=\"63.623047\" xlink:href=\"#DejaVuSans-2e\"/>\n",
       "       <use x=\"95.410156\" xlink:href=\"#DejaVuSans-30\"/>\n",
       "       <use x=\"159.033203\" xlink:href=\"#DejaVuSans-32\"/>\n",
       "       <use x=\"222.65625\" xlink:href=\"#DejaVuSans-35\"/>\n",
       "      </g>\n",
       "     </g>\n",
       "    </g>\n",
       "    <g id=\"text_16\">\n",
       "     <!-- Frequency -->\n",
       "     <g transform=\"translate(19.965375 196.393875)rotate(-90)scale(0.168 -0.168)\">\n",
       "      <defs>\n",
       "       <path d=\"M 628 4666 \n",
       "L 3309 4666 \n",
       "L 3309 4134 \n",
       "L 1259 4134 \n",
       "L 1259 2759 \n",
       "L 3109 2759 \n",
       "L 3109 2228 \n",
       "L 1259 2228 \n",
       "L 1259 0 \n",
       "L 628 0 \n",
       "L 628 4666 \n",
       "z\n",
       "\" id=\"DejaVuSans-46\" transform=\"scale(0.015625)\"/>\n",
       "       <path d=\"M 947 1747 \n",
       "Q 947 1113 1208 752 \n",
       "Q 1469 391 1925 391 \n",
       "Q 2381 391 2643 752 \n",
       "Q 2906 1113 2906 1747 \n",
       "Q 2906 2381 2643 2742 \n",
       "Q 2381 3103 1925 3103 \n",
       "Q 1469 3103 1208 2742 \n",
       "Q 947 2381 947 1747 \n",
       "z\n",
       "M 2906 525 \n",
       "Q 2725 213 2448 61 \n",
       "Q 2172 -91 1784 -91 \n",
       "Q 1150 -91 751 415 \n",
       "Q 353 922 353 1747 \n",
       "Q 353 2572 751 3078 \n",
       "Q 1150 3584 1784 3584 \n",
       "Q 2172 3584 2448 3432 \n",
       "Q 2725 3281 2906 2969 \n",
       "L 2906 3500 \n",
       "L 3481 3500 \n",
       "L 3481 -1331 \n",
       "L 2906 -1331 \n",
       "L 2906 525 \n",
       "z\n",
       "\" id=\"DejaVuSans-71\" transform=\"scale(0.015625)\"/>\n",
       "       <path d=\"M 544 1381 \n",
       "L 544 3500 \n",
       "L 1119 3500 \n",
       "L 1119 1403 \n",
       "Q 1119 906 1312 657 \n",
       "Q 1506 409 1894 409 \n",
       "Q 2359 409 2629 706 \n",
       "Q 2900 1003 2900 1516 \n",
       "L 2900 3500 \n",
       "L 3475 3500 \n",
       "L 3475 0 \n",
       "L 2900 0 \n",
       "L 2900 538 \n",
       "Q 2691 219 2414 64 \n",
       "Q 2138 -91 1772 -91 \n",
       "Q 1169 -91 856 284 \n",
       "Q 544 659 544 1381 \n",
       "z\n",
       "M 1991 3584 \n",
       "L 1991 3584 \n",
       "z\n",
       "\" id=\"DejaVuSans-75\" transform=\"scale(0.015625)\"/>\n",
       "       <path d=\"M 3513 2113 \n",
       "L 3513 0 \n",
       "L 2938 0 \n",
       "L 2938 2094 \n",
       "Q 2938 2591 2744 2837 \n",
       "Q 2550 3084 2163 3084 \n",
       "Q 1697 3084 1428 2787 \n",
       "Q 1159 2491 1159 1978 \n",
       "L 1159 0 \n",
       "L 581 0 \n",
       "L 581 3500 \n",
       "L 1159 3500 \n",
       "L 1159 2956 \n",
       "Q 1366 3272 1645 3428 \n",
       "Q 1925 3584 2291 3584 \n",
       "Q 2894 3584 3203 3211 \n",
       "Q 3513 2838 3513 2113 \n",
       "z\n",
       "\" id=\"DejaVuSans-6e\" transform=\"scale(0.015625)\"/>\n",
       "       <path d=\"M 3122 3366 \n",
       "L 3122 2828 \n",
       "Q 2878 2963 2633 3030 \n",
       "Q 2388 3097 2138 3097 \n",
       "Q 1578 3097 1268 2742 \n",
       "Q 959 2388 959 1747 \n",
       "Q 959 1106 1268 751 \n",
       "Q 1578 397 2138 397 \n",
       "Q 2388 397 2633 464 \n",
       "Q 2878 531 3122 666 \n",
       "L 3122 134 \n",
       "Q 2881 22 2623 -34 \n",
       "Q 2366 -91 2075 -91 \n",
       "Q 1284 -91 818 406 \n",
       "Q 353 903 353 1747 \n",
       "Q 353 2603 823 3093 \n",
       "Q 1294 3584 2113 3584 \n",
       "Q 2378 3584 2631 3529 \n",
       "Q 2884 3475 3122 3366 \n",
       "z\n",
       "\" id=\"DejaVuSans-63\" transform=\"scale(0.015625)\"/>\n",
       "       <path d=\"M 2059 -325 \n",
       "Q 1816 -950 1584 -1140 \n",
       "Q 1353 -1331 966 -1331 \n",
       "L 506 -1331 \n",
       "L 506 -850 \n",
       "L 844 -850 \n",
       "Q 1081 -850 1212 -737 \n",
       "Q 1344 -625 1503 -206 \n",
       "L 1606 56 \n",
       "L 191 3500 \n",
       "L 800 3500 \n",
       "L 1894 763 \n",
       "L 2988 3500 \n",
       "L 3597 3500 \n",
       "L 2059 -325 \n",
       "z\n",
       "\" id=\"DejaVuSans-79\" transform=\"scale(0.015625)\"/>\n",
       "      </defs>\n",
       "      <use xlink:href=\"#DejaVuSans-46\"/>\n",
       "      <use x=\"50.269531\" xlink:href=\"#DejaVuSans-72\"/>\n",
       "      <use x=\"89.132812\" xlink:href=\"#DejaVuSans-65\"/>\n",
       "      <use x=\"150.65625\" xlink:href=\"#DejaVuSans-71\"/>\n",
       "      <use x=\"214.132812\" xlink:href=\"#DejaVuSans-75\"/>\n",
       "      <use x=\"277.511719\" xlink:href=\"#DejaVuSans-65\"/>\n",
       "      <use x=\"339.035156\" xlink:href=\"#DejaVuSans-6e\"/>\n",
       "      <use x=\"402.414062\" xlink:href=\"#DejaVuSans-63\"/>\n",
       "      <use x=\"457.394531\" xlink:href=\"#DejaVuSans-79\"/>\n",
       "     </g>\n",
       "    </g>\n",
       "   </g>\n",
       "   <g id=\"patch_3\">\n",
       "    <path clip-path=\"url(#pd842fd44e3)\" d=\"M 99.511352 298.8 \n",
       "L 119.147716 298.8 \n",
       "L 119.147716 298.8 \n",
       "L 99.511352 298.8 \n",
       "z\n",
       "\" style=\"fill:#008fd5;opacity:0.75;stroke:#ffffff;stroke-linejoin:miter;stroke-width:0.5;\"/>\n",
       "   </g>\n",
       "   <g id=\"patch_4\">\n",
       "    <path clip-path=\"url(#pd842fd44e3)\" d=\"M 119.147716 298.8 \n",
       "L 138.78408 298.8 \n",
       "L 138.78408 295.966181 \n",
       "L 119.147716 295.966181 \n",
       "z\n",
       "\" style=\"fill:#008fd5;opacity:0.75;stroke:#ffffff;stroke-linejoin:miter;stroke-width:0.5;\"/>\n",
       "   </g>\n",
       "   <g id=\"patch_5\">\n",
       "    <path clip-path=\"url(#pd842fd44e3)\" d=\"M 138.78408 298.8 \n",
       "L 158.420443 298.8 \n",
       "L 158.420443 293.132362 \n",
       "L 138.78408 293.132362 \n",
       "z\n",
       "\" style=\"fill:#008fd5;opacity:0.75;stroke:#ffffff;stroke-linejoin:miter;stroke-width:0.5;\"/>\n",
       "   </g>\n",
       "   <g id=\"patch_6\">\n",
       "    <path clip-path=\"url(#pd842fd44e3)\" d=\"M 158.420443 298.8 \n",
       "L 178.056807 298.8 \n",
       "L 178.056807 295.966181 \n",
       "L 158.420443 295.966181 \n",
       "z\n",
       "\" style=\"fill:#008fd5;opacity:0.75;stroke:#ffffff;stroke-linejoin:miter;stroke-width:0.5;\"/>\n",
       "   </g>\n",
       "   <g id=\"patch_7\">\n",
       "    <path clip-path=\"url(#pd842fd44e3)\" d=\"M 178.056807 298.8 \n",
       "L 197.69317 298.8 \n",
       "L 197.69317 290.298542 \n",
       "L 178.056807 290.298542 \n",
       "z\n",
       "\" style=\"fill:#008fd5;opacity:0.75;stroke:#ffffff;stroke-linejoin:miter;stroke-width:0.5;\"/>\n",
       "   </g>\n",
       "   <g id=\"patch_8\">\n",
       "    <path clip-path=\"url(#pd842fd44e3)\" d=\"M 197.69317 298.8 \n",
       "L 217.329534 298.8 \n",
       "L 217.329534 287.464723 \n",
       "L 197.69317 287.464723 \n",
       "z\n",
       "\" style=\"fill:#008fd5;opacity:0.75;stroke:#ffffff;stroke-linejoin:miter;stroke-width:0.5;\"/>\n",
       "   </g>\n",
       "   <g id=\"patch_9\">\n",
       "    <path clip-path=\"url(#pd842fd44e3)\" d=\"M 217.329534 298.8 \n",
       "L 236.965898 298.8 \n",
       "L 236.965898 284.630904 \n",
       "L 217.329534 284.630904 \n",
       "z\n",
       "\" style=\"fill:#008fd5;opacity:0.75;stroke:#ffffff;stroke-linejoin:miter;stroke-width:0.5;\"/>\n",
       "   </g>\n",
       "   <g id=\"patch_10\">\n",
       "    <path clip-path=\"url(#pd842fd44e3)\" d=\"M 236.965898 298.8 \n",
       "L 256.602261 298.8 \n",
       "L 256.602261 276.129446 \n",
       "L 236.965898 276.129446 \n",
       "z\n",
       "\" style=\"fill:#008fd5;opacity:0.75;stroke:#ffffff;stroke-linejoin:miter;stroke-width:0.5;\"/>\n",
       "   </g>\n",
       "   <g id=\"patch_11\">\n",
       "    <path clip-path=\"url(#pd842fd44e3)\" d=\"M 256.602261 298.8 \n",
       "L 276.238625 298.8 \n",
       "L 276.238625 270.461808 \n",
       "L 256.602261 270.461808 \n",
       "z\n",
       "\" style=\"fill:#008fd5;opacity:0.75;stroke:#ffffff;stroke-linejoin:miter;stroke-width:0.5;\"/>\n",
       "   </g>\n",
       "   <g id=\"patch_12\">\n",
       "    <path clip-path=\"url(#pd842fd44e3)\" d=\"M 276.238625 298.8 \n",
       "L 295.874989 298.8 \n",
       "L 295.874989 242.123615 \n",
       "L 276.238625 242.123615 \n",
       "z\n",
       "\" style=\"fill:#008fd5;opacity:0.75;stroke:#ffffff;stroke-linejoin:miter;stroke-width:0.5;\"/>\n",
       "   </g>\n",
       "   <g id=\"patch_13\">\n",
       "    <path clip-path=\"url(#pd842fd44e3)\" d=\"M 295.874989 298.8 \n",
       "L 315.511352 298.8 \n",
       "L 315.511352 208.117784 \n",
       "L 295.874989 208.117784 \n",
       "z\n",
       "\" style=\"fill:#008fd5;opacity:0.75;stroke:#ffffff;stroke-linejoin:miter;stroke-width:0.5;\"/>\n",
       "   </g>\n",
       "   <g id=\"patch_14\">\n",
       "    <path clip-path=\"url(#pd842fd44e3)\" d=\"M 315.511352 298.8 \n",
       "L 335.147716 298.8 \n",
       "L 335.147716 185.44723 \n",
       "L 315.511352 185.44723 \n",
       "z\n",
       "\" style=\"fill:#008fd5;opacity:0.75;stroke:#ffffff;stroke-linejoin:miter;stroke-width:0.5;\"/>\n",
       "   </g>\n",
       "   <g id=\"patch_15\">\n",
       "    <path clip-path=\"url(#pd842fd44e3)\" d=\"M 335.147716 298.8 \n",
       "L 354.78408 298.8 \n",
       "L 354.78408 69.260641 \n",
       "L 335.147716 69.260641 \n",
       "z\n",
       "\" style=\"fill:#008fd5;opacity:0.75;stroke:#ffffff;stroke-linejoin:miter;stroke-width:0.5;\"/>\n",
       "   </g>\n",
       "   <g id=\"patch_16\">\n",
       "    <path clip-path=\"url(#pd842fd44e3)\" d=\"M 354.78408 298.8 \n",
       "L 374.420443 298.8 \n",
       "L 374.420443 66.426822 \n",
       "L 354.78408 66.426822 \n",
       "z\n",
       "\" style=\"fill:#008fd5;opacity:0.75;stroke:#ffffff;stroke-linejoin:miter;stroke-width:0.5;\"/>\n",
       "   </g>\n",
       "   <g id=\"patch_17\">\n",
       "    <path clip-path=\"url(#pd842fd44e3)\" d=\"M 374.420443 298.8 \n",
       "L 394.056807 298.8 \n",
       "L 394.056807 43.756268 \n",
       "L 374.420443 43.756268 \n",
       "z\n",
       "\" style=\"fill:#008fd5;opacity:0.75;stroke:#ffffff;stroke-linejoin:miter;stroke-width:0.5;\"/>\n",
       "   </g>\n",
       "   <g id=\"patch_18\">\n",
       "    <path clip-path=\"url(#pd842fd44e3)\" d=\"M 394.056807 298.8 \n",
       "L 413.69317 298.8 \n",
       "L 413.69317 21.085714 \n",
       "L 394.056807 21.085714 \n",
       "z\n",
       "\" style=\"fill:#008fd5;opacity:0.75;stroke:#ffffff;stroke-linejoin:miter;stroke-width:0.5;\"/>\n",
       "   </g>\n",
       "   <g id=\"patch_19\">\n",
       "    <path clip-path=\"url(#pd842fd44e3)\" d=\"M 413.69317 298.8 \n",
       "L 433.329534 298.8 \n",
       "L 433.329534 106.100292 \n",
       "L 413.69317 106.100292 \n",
       "z\n",
       "\" style=\"fill:#008fd5;opacity:0.75;stroke:#ffffff;stroke-linejoin:miter;stroke-width:0.5;\"/>\n",
       "   </g>\n",
       "   <g id=\"patch_20\">\n",
       "    <path clip-path=\"url(#pd842fd44e3)\" d=\"M 433.329534 298.8 \n",
       "L 452.965898 298.8 \n",
       "L 452.965898 108.934111 \n",
       "L 433.329534 108.934111 \n",
       "z\n",
       "\" style=\"fill:#008fd5;opacity:0.75;stroke:#ffffff;stroke-linejoin:miter;stroke-width:0.5;\"/>\n",
       "   </g>\n",
       "   <g id=\"patch_21\">\n",
       "    <path clip-path=\"url(#pd842fd44e3)\" d=\"M 452.965898 298.8 \n",
       "L 472.602261 298.8 \n",
       "L 472.602261 193.948688 \n",
       "L 452.965898 193.948688 \n",
       "z\n",
       "\" style=\"fill:#008fd5;opacity:0.75;stroke:#ffffff;stroke-linejoin:miter;stroke-width:0.5;\"/>\n",
       "   </g>\n",
       "   <g id=\"patch_22\">\n",
       "    <path clip-path=\"url(#pd842fd44e3)\" d=\"M 472.602261 298.8 \n",
       "L 492.238625 298.8 \n",
       "L 492.238625 233.622157 \n",
       "L 472.602261 233.622157 \n",
       "z\n",
       "\" style=\"fill:#008fd5;opacity:0.75;stroke:#ffffff;stroke-linejoin:miter;stroke-width:0.5;\"/>\n",
       "   </g>\n",
       "   <g id=\"patch_23\">\n",
       "    <path clip-path=\"url(#pd842fd44e3)\" d=\"M 492.238625 298.8 \n",
       "L 511.874989 298.8 \n",
       "L 511.874989 259.126531 \n",
       "L 492.238625 259.126531 \n",
       "z\n",
       "\" style=\"fill:#008fd5;opacity:0.75;stroke:#ffffff;stroke-linejoin:miter;stroke-width:0.5;\"/>\n",
       "   </g>\n",
       "   <g id=\"patch_24\">\n",
       "    <path clip-path=\"url(#pd842fd44e3)\" d=\"M 511.874989 298.8 \n",
       "L 531.511352 298.8 \n",
       "L 531.511352 264.794169 \n",
       "L 511.874989 264.794169 \n",
       "z\n",
       "\" style=\"fill:#008fd5;opacity:0.75;stroke:#ffffff;stroke-linejoin:miter;stroke-width:0.5;\"/>\n",
       "   </g>\n",
       "   <g id=\"patch_25\">\n",
       "    <path clip-path=\"url(#pd842fd44e3)\" d=\"M 531.511352 298.8 \n",
       "L 551.147716 298.8 \n",
       "L 551.147716 278.963265 \n",
       "L 531.511352 278.963265 \n",
       "z\n",
       "\" style=\"fill:#008fd5;opacity:0.75;stroke:#ffffff;stroke-linejoin:miter;stroke-width:0.5;\"/>\n",
       "   </g>\n",
       "   <g id=\"patch_26\">\n",
       "    <path clip-path=\"url(#pd842fd44e3)\" d=\"M 551.147716 298.8 \n",
       "L 570.78408 298.8 \n",
       "L 570.78408 287.464723 \n",
       "L 551.147716 287.464723 \n",
       "z\n",
       "\" style=\"fill:#008fd5;opacity:0.75;stroke:#ffffff;stroke-linejoin:miter;stroke-width:0.5;\"/>\n",
       "   </g>\n",
       "   <g id=\"patch_27\">\n",
       "    <path clip-path=\"url(#pd842fd44e3)\" d=\"M 570.78408 298.8 \n",
       "L 590.420443 298.8 \n",
       "L 590.420443 284.630904 \n",
       "L 570.78408 284.630904 \n",
       "z\n",
       "\" style=\"fill:#008fd5;opacity:0.75;stroke:#ffffff;stroke-linejoin:miter;stroke-width:0.5;\"/>\n",
       "   </g>\n",
       "   <g id=\"patch_28\">\n",
       "    <path clip-path=\"url(#pd842fd44e3)\" d=\"M 590.420443 298.8 \n",
       "L 610.056807 298.8 \n",
       "L 610.056807 295.966181 \n",
       "L 590.420443 295.966181 \n",
       "z\n",
       "\" style=\"fill:#008fd5;opacity:0.75;stroke:#ffffff;stroke-linejoin:miter;stroke-width:0.5;\"/>\n",
       "   </g>\n",
       "   <g id=\"patch_29\">\n",
       "    <path clip-path=\"url(#pd842fd44e3)\" d=\"M 610.056807 298.8 \n",
       "L 629.69317 298.8 \n",
       "L 629.69317 298.8 \n",
       "L 610.056807 298.8 \n",
       "z\n",
       "\" style=\"fill:#008fd5;opacity:0.75;stroke:#ffffff;stroke-linejoin:miter;stroke-width:0.5;\"/>\n",
       "   </g>\n",
       "   <g id=\"patch_30\">\n",
       "    <path clip-path=\"url(#pd842fd44e3)\" d=\"M 629.69317 298.8 \n",
       "L 649.329534 298.8 \n",
       "L 649.329534 298.8 \n",
       "L 629.69317 298.8 \n",
       "z\n",
       "\" style=\"fill:#008fd5;opacity:0.75;stroke:#ffffff;stroke-linejoin:miter;stroke-width:0.5;\"/>\n",
       "   </g>\n",
       "   <g id=\"patch_31\">\n",
       "    <path clip-path=\"url(#pd842fd44e3)\" d=\"M 649.329534 298.8 \n",
       "L 668.965898 298.8 \n",
       "L 668.965898 298.8 \n",
       "L 649.329534 298.8 \n",
       "z\n",
       "\" style=\"fill:#008fd5;opacity:0.75;stroke:#ffffff;stroke-linejoin:miter;stroke-width:0.5;\"/>\n",
       "   </g>\n",
       "   <g id=\"patch_32\">\n",
       "    <path clip-path=\"url(#pd842fd44e3)\" d=\"M 99.511352 298.8 \n",
       "L 119.147716 298.8 \n",
       "L 119.147716 298.8 \n",
       "L 99.511352 298.8 \n",
       "z\n",
       "\" style=\"fill:#fc4f30;opacity:0.75;stroke:#ffffff;stroke-linejoin:miter;stroke-width:0.5;\"/>\n",
       "   </g>\n",
       "   <g id=\"patch_33\">\n",
       "    <path clip-path=\"url(#pd842fd44e3)\" d=\"M 119.147716 298.8 \n",
       "L 138.78408 298.8 \n",
       "L 138.78408 294.385663 \n",
       "L 119.147716 294.385663 \n",
       "z\n",
       "\" style=\"fill:#fc4f30;opacity:0.75;stroke:#ffffff;stroke-linejoin:miter;stroke-width:0.5;\"/>\n",
       "   </g>\n",
       "   <g id=\"patch_34\">\n",
       "    <path clip-path=\"url(#pd842fd44e3)\" d=\"M 138.78408 298.8 \n",
       "L 158.420443 298.8 \n",
       "L 158.420443 298.8 \n",
       "L 138.78408 298.8 \n",
       "z\n",
       "\" style=\"fill:#fc4f30;opacity:0.75;stroke:#ffffff;stroke-linejoin:miter;stroke-width:0.5;\"/>\n",
       "   </g>\n",
       "   <g id=\"patch_35\">\n",
       "    <path clip-path=\"url(#pd842fd44e3)\" d=\"M 158.420443 298.8 \n",
       "L 178.056807 298.8 \n",
       "L 178.056807 285.556989 \n",
       "L 158.420443 285.556989 \n",
       "z\n",
       "\" style=\"fill:#fc4f30;opacity:0.75;stroke:#ffffff;stroke-linejoin:miter;stroke-width:0.5;\"/>\n",
       "   </g>\n",
       "   <g id=\"patch_36\">\n",
       "    <path clip-path=\"url(#pd842fd44e3)\" d=\"M 178.056807 298.8 \n",
       "L 197.69317 298.8 \n",
       "L 197.69317 281.142651 \n",
       "L 178.056807 281.142651 \n",
       "z\n",
       "\" style=\"fill:#fc4f30;opacity:0.75;stroke:#ffffff;stroke-linejoin:miter;stroke-width:0.5;\"/>\n",
       "   </g>\n",
       "   <g id=\"patch_37\">\n",
       "    <path clip-path=\"url(#pd842fd44e3)\" d=\"M 197.69317 298.8 \n",
       "L 217.329534 298.8 \n",
       "L 217.329534 267.89964 \n",
       "L 197.69317 267.89964 \n",
       "z\n",
       "\" style=\"fill:#fc4f30;opacity:0.75;stroke:#ffffff;stroke-linejoin:miter;stroke-width:0.5;\"/>\n",
       "   </g>\n",
       "   <g id=\"patch_38\">\n",
       "    <path clip-path=\"url(#pd842fd44e3)\" d=\"M 217.329534 298.8 \n",
       "L 236.965898 298.8 \n",
       "L 236.965898 263.485303 \n",
       "L 217.329534 263.485303 \n",
       "z\n",
       "\" style=\"fill:#fc4f30;opacity:0.75;stroke:#ffffff;stroke-linejoin:miter;stroke-width:0.5;\"/>\n",
       "   </g>\n",
       "   <g id=\"patch_39\">\n",
       "    <path clip-path=\"url(#pd842fd44e3)\" d=\"M 236.965898 298.8 \n",
       "L 256.602261 298.8 \n",
       "L 256.602261 223.756268 \n",
       "L 236.965898 223.756268 \n",
       "z\n",
       "\" style=\"fill:#fc4f30;opacity:0.75;stroke:#ffffff;stroke-linejoin:miter;stroke-width:0.5;\"/>\n",
       "   </g>\n",
       "   <g id=\"patch_40\">\n",
       "    <path clip-path=\"url(#pd842fd44e3)\" d=\"M 256.602261 298.8 \n",
       "L 276.238625 298.8 \n",
       "L 276.238625 206.09892 \n",
       "L 256.602261 206.09892 \n",
       "z\n",
       "\" style=\"fill:#fc4f30;opacity:0.75;stroke:#ffffff;stroke-linejoin:miter;stroke-width:0.5;\"/>\n",
       "   </g>\n",
       "   <g id=\"patch_41\">\n",
       "    <path clip-path=\"url(#pd842fd44e3)\" d=\"M 276.238625 298.8 \n",
       "L 295.874989 298.8 \n",
       "L 295.874989 131.055188 \n",
       "L 276.238625 131.055188 \n",
       "z\n",
       "\" style=\"fill:#fc4f30;opacity:0.75;stroke:#ffffff;stroke-linejoin:miter;stroke-width:0.5;\"/>\n",
       "   </g>\n",
       "   <g id=\"patch_42\">\n",
       "    <path clip-path=\"url(#pd842fd44e3)\" d=\"M 295.874989 298.8 \n",
       "L 315.511352 298.8 \n",
       "L 315.511352 69.254468 \n",
       "L 295.874989 69.254468 \n",
       "z\n",
       "\" style=\"fill:#fc4f30;opacity:0.75;stroke:#ffffff;stroke-linejoin:miter;stroke-width:0.5;\"/>\n",
       "   </g>\n",
       "   <g id=\"patch_43\">\n",
       "    <path clip-path=\"url(#pd842fd44e3)\" d=\"M 315.511352 298.8 \n",
       "L 335.147716 298.8 \n",
       "L 335.147716 131.055188 \n",
       "L 315.511352 131.055188 \n",
       "z\n",
       "\" style=\"fill:#fc4f30;opacity:0.75;stroke:#ffffff;stroke-linejoin:miter;stroke-width:0.5;\"/>\n",
       "   </g>\n",
       "   <g id=\"patch_44\">\n",
       "    <path clip-path=\"url(#pd842fd44e3)\" d=\"M 335.147716 298.8 \n",
       "L 354.78408 298.8 \n",
       "L 354.78408 139.883862 \n",
       "L 335.147716 139.883862 \n",
       "z\n",
       "\" style=\"fill:#fc4f30;opacity:0.75;stroke:#ffffff;stroke-linejoin:miter;stroke-width:0.5;\"/>\n",
       "   </g>\n",
       "   <g id=\"patch_45\">\n",
       "    <path clip-path=\"url(#pd842fd44e3)\" d=\"M 354.78408 298.8 \n",
       "L 374.420443 298.8 \n",
       "L 374.420443 25.111096 \n",
       "L 354.78408 25.111096 \n",
       "z\n",
       "\" style=\"fill:#fc4f30;opacity:0.75;stroke:#ffffff;stroke-linejoin:miter;stroke-width:0.5;\"/>\n",
       "   </g>\n",
       "   <g id=\"patch_46\">\n",
       "    <path clip-path=\"url(#pd842fd44e3)\" d=\"M 374.420443 298.8 \n",
       "L 394.056807 298.8 \n",
       "L 394.056807 95.74049 \n",
       "L 374.420443 95.74049 \n",
       "z\n",
       "\" style=\"fill:#fc4f30;opacity:0.75;stroke:#ffffff;stroke-linejoin:miter;stroke-width:0.5;\"/>\n",
       "   </g>\n",
       "   <g id=\"patch_47\">\n",
       "    <path clip-path=\"url(#pd842fd44e3)\" d=\"M 394.056807 298.8 \n",
       "L 413.69317 298.8 \n",
       "L 413.69317 126.640851 \n",
       "L 394.056807 126.640851 \n",
       "z\n",
       "\" style=\"fill:#fc4f30;opacity:0.75;stroke:#ffffff;stroke-linejoin:miter;stroke-width:0.5;\"/>\n",
       "   </g>\n",
       "   <g id=\"patch_48\">\n",
       "    <path clip-path=\"url(#pd842fd44e3)\" d=\"M 413.69317 298.8 \n",
       "L 433.329534 298.8 \n",
       "L 433.329534 157.541211 \n",
       "L 413.69317 157.541211 \n",
       "z\n",
       "\" style=\"fill:#fc4f30;opacity:0.75;stroke:#ffffff;stroke-linejoin:miter;stroke-width:0.5;\"/>\n",
       "   </g>\n",
       "   <g id=\"patch_49\">\n",
       "    <path clip-path=\"url(#pd842fd44e3)\" d=\"M 433.329534 298.8 \n",
       "L 452.965898 298.8 \n",
       "L 452.965898 241.413617 \n",
       "L 433.329534 241.413617 \n",
       "z\n",
       "\" style=\"fill:#fc4f30;opacity:0.75;stroke:#ffffff;stroke-linejoin:miter;stroke-width:0.5;\"/>\n",
       "   </g>\n",
       "   <g id=\"patch_50\">\n",
       "    <path clip-path=\"url(#pd842fd44e3)\" d=\"M 452.965898 298.8 \n",
       "L 472.602261 298.8 \n",
       "L 472.602261 206.09892 \n",
       "L 452.965898 206.09892 \n",
       "z\n",
       "\" style=\"fill:#fc4f30;opacity:0.75;stroke:#ffffff;stroke-linejoin:miter;stroke-width:0.5;\"/>\n",
       "   </g>\n",
       "   <g id=\"patch_51\">\n",
       "    <path clip-path=\"url(#pd842fd44e3)\" d=\"M 472.602261 298.8 \n",
       "L 492.238625 298.8 \n",
       "L 492.238625 263.485303 \n",
       "L 472.602261 263.485303 \n",
       "z\n",
       "\" style=\"fill:#fc4f30;opacity:0.75;stroke:#ffffff;stroke-linejoin:miter;stroke-width:0.5;\"/>\n",
       "   </g>\n",
       "   <g id=\"patch_52\">\n",
       "    <path clip-path=\"url(#pd842fd44e3)\" d=\"M 492.238625 298.8 \n",
       "L 511.874989 298.8 \n",
       "L 511.874989 267.89964 \n",
       "L 492.238625 267.89964 \n",
       "z\n",
       "\" style=\"fill:#fc4f30;opacity:0.75;stroke:#ffffff;stroke-linejoin:miter;stroke-width:0.5;\"/>\n",
       "   </g>\n",
       "   <g id=\"patch_53\">\n",
       "    <path clip-path=\"url(#pd842fd44e3)\" d=\"M 511.874989 298.8 \n",
       "L 531.511352 298.8 \n",
       "L 531.511352 289.971326 \n",
       "L 511.874989 289.971326 \n",
       "z\n",
       "\" style=\"fill:#fc4f30;opacity:0.75;stroke:#ffffff;stroke-linejoin:miter;stroke-width:0.5;\"/>\n",
       "   </g>\n",
       "   <g id=\"patch_54\">\n",
       "    <path clip-path=\"url(#pd842fd44e3)\" d=\"M 531.511352 298.8 \n",
       "L 551.147716 298.8 \n",
       "L 551.147716 281.142651 \n",
       "L 531.511352 281.142651 \n",
       "z\n",
       "\" style=\"fill:#fc4f30;opacity:0.75;stroke:#ffffff;stroke-linejoin:miter;stroke-width:0.5;\"/>\n",
       "   </g>\n",
       "   <g id=\"patch_55\">\n",
       "    <path clip-path=\"url(#pd842fd44e3)\" d=\"M 551.147716 298.8 \n",
       "L 570.78408 298.8 \n",
       "L 570.78408 298.8 \n",
       "L 551.147716 298.8 \n",
       "z\n",
       "\" style=\"fill:#fc4f30;opacity:0.75;stroke:#ffffff;stroke-linejoin:miter;stroke-width:0.5;\"/>\n",
       "   </g>\n",
       "   <g id=\"patch_56\">\n",
       "    <path clip-path=\"url(#pd842fd44e3)\" d=\"M 570.78408 298.8 \n",
       "L 590.420443 298.8 \n",
       "L 590.420443 298.8 \n",
       "L 570.78408 298.8 \n",
       "z\n",
       "\" style=\"fill:#fc4f30;opacity:0.75;stroke:#ffffff;stroke-linejoin:miter;stroke-width:0.5;\"/>\n",
       "   </g>\n",
       "   <g id=\"patch_57\">\n",
       "    <path clip-path=\"url(#pd842fd44e3)\" d=\"M 590.420443 298.8 \n",
       "L 610.056807 298.8 \n",
       "L 610.056807 298.8 \n",
       "L 590.420443 298.8 \n",
       "z\n",
       "\" style=\"fill:#fc4f30;opacity:0.75;stroke:#ffffff;stroke-linejoin:miter;stroke-width:0.5;\"/>\n",
       "   </g>\n",
       "   <g id=\"patch_58\">\n",
       "    <path clip-path=\"url(#pd842fd44e3)\" d=\"M 610.056807 298.8 \n",
       "L 629.69317 298.8 \n",
       "L 629.69317 298.8 \n",
       "L 610.056807 298.8 \n",
       "z\n",
       "\" style=\"fill:#fc4f30;opacity:0.75;stroke:#ffffff;stroke-linejoin:miter;stroke-width:0.5;\"/>\n",
       "   </g>\n",
       "   <g id=\"patch_59\">\n",
       "    <path clip-path=\"url(#pd842fd44e3)\" d=\"M 629.69317 298.8 \n",
       "L 649.329534 298.8 \n",
       "L 649.329534 298.8 \n",
       "L 629.69317 298.8 \n",
       "z\n",
       "\" style=\"fill:#fc4f30;opacity:0.75;stroke:#ffffff;stroke-linejoin:miter;stroke-width:0.5;\"/>\n",
       "   </g>\n",
       "   <g id=\"patch_60\">\n",
       "    <path clip-path=\"url(#pd842fd44e3)\" d=\"M 649.329534 298.8 \n",
       "L 668.965898 298.8 \n",
       "L 668.965898 298.8 \n",
       "L 649.329534 298.8 \n",
       "z\n",
       "\" style=\"fill:#fc4f30;opacity:0.75;stroke:#ffffff;stroke-linejoin:miter;stroke-width:0.5;\"/>\n",
       "   </g>\n",
       "   <g id=\"patch_61\">\n",
       "    <path d=\"M 71.038625 298.8 \n",
       "L 71.038625 7.2 \n",
       "\" style=\"fill:none;stroke:#f0f0f0;stroke-linecap:square;stroke-linejoin:miter;stroke-width:3;\"/>\n",
       "   </g>\n",
       "   <g id=\"patch_62\">\n",
       "    <path d=\"M 697.438625 298.8 \n",
       "L 697.438625 7.2 \n",
       "\" style=\"fill:none;stroke:#f0f0f0;stroke-linecap:square;stroke-linejoin:miter;stroke-width:3;\"/>\n",
       "   </g>\n",
       "   <g id=\"patch_63\">\n",
       "    <path d=\"M 71.038625 298.8 \n",
       "L 697.438625 298.8 \n",
       "\" style=\"fill:none;stroke:#f0f0f0;stroke-linecap:square;stroke-linejoin:miter;stroke-width:3;\"/>\n",
       "   </g>\n",
       "   <g id=\"patch_64\">\n",
       "    <path d=\"M 71.038625 7.2 \n",
       "L 697.438625 7.2 \n",
       "\" style=\"fill:none;stroke:#f0f0f0;stroke-linecap:square;stroke-linejoin:miter;stroke-width:3;\"/>\n",
       "   </g>\n",
       "   <g id=\"legend_1\">\n",
       "    <g id=\"patch_65\">\n",
       "     <path d=\"M 467.934875 59.49875 \n",
       "L 687.638625 59.49875 \n",
       "Q 690.438625 59.49875 690.438625 56.69875 \n",
       "L 690.438625 17 \n",
       "Q 690.438625 14.2 687.638625 14.2 \n",
       "L 467.934875 14.2 \n",
       "Q 465.134875 14.2 465.134875 17 \n",
       "L 465.134875 56.69875 \n",
       "Q 465.134875 59.49875 467.934875 59.49875 \n",
       "z\n",
       "\" style=\"fill:#f0f0f0;opacity:0.8;stroke:#cccccc;stroke-linejoin:miter;stroke-width:0.5;\"/>\n",
       "    </g>\n",
       "    <g id=\"patch_66\">\n",
       "     <path d=\"M 470.734875 30.437813 \n",
       "L 498.734875 30.437813 \n",
       "L 498.734875 20.637813 \n",
       "L 470.734875 20.637813 \n",
       "z\n",
       "\" style=\"fill:#008fd5;opacity:0.75;stroke:#ffffff;stroke-linejoin:miter;stroke-width:0.5;\"/>\n",
       "    </g>\n",
       "    <g id=\"text_17\">\n",
       "     <!-- Maternal Smoker = False -->\n",
       "     <g transform=\"translate(509.934875 30.437813)scale(0.14 -0.14)\">\n",
       "      <defs>\n",
       "       <path d=\"M 628 4666 \n",
       "L 1569 4666 \n",
       "L 2759 1491 \n",
       "L 3956 4666 \n",
       "L 4897 4666 \n",
       "L 4897 0 \n",
       "L 4281 0 \n",
       "L 4281 4097 \n",
       "L 3078 897 \n",
       "L 2444 897 \n",
       "L 1241 4097 \n",
       "L 1241 0 \n",
       "L 628 0 \n",
       "L 628 4666 \n",
       "z\n",
       "\" id=\"DejaVuSans-4d\" transform=\"scale(0.015625)\"/>\n",
       "       <path d=\"M 2194 1759 \n",
       "Q 1497 1759 1228 1600 \n",
       "Q 959 1441 959 1056 \n",
       "Q 959 750 1161 570 \n",
       "Q 1363 391 1709 391 \n",
       "Q 2188 391 2477 730 \n",
       "Q 2766 1069 2766 1631 \n",
       "L 2766 1759 \n",
       "L 2194 1759 \n",
       "z\n",
       "M 3341 1997 \n",
       "L 3341 0 \n",
       "L 2766 0 \n",
       "L 2766 531 \n",
       "Q 2569 213 2275 61 \n",
       "Q 1981 -91 1556 -91 \n",
       "Q 1019 -91 701 211 \n",
       "Q 384 513 384 1019 \n",
       "Q 384 1609 779 1909 \n",
       "Q 1175 2209 1959 2209 \n",
       "L 2766 2209 \n",
       "L 2766 2266 \n",
       "Q 2766 2663 2505 2880 \n",
       "Q 2244 3097 1772 3097 \n",
       "Q 1472 3097 1187 3025 \n",
       "Q 903 2953 641 2809 \n",
       "L 641 3341 \n",
       "Q 956 3463 1253 3523 \n",
       "Q 1550 3584 1831 3584 \n",
       "Q 2591 3584 2966 3190 \n",
       "Q 3341 2797 3341 1997 \n",
       "z\n",
       "\" id=\"DejaVuSans-61\" transform=\"scale(0.015625)\"/>\n",
       "       <path d=\"M 603 4863 \n",
       "L 1178 4863 \n",
       "L 1178 0 \n",
       "L 603 0 \n",
       "L 603 4863 \n",
       "z\n",
       "\" id=\"DejaVuSans-6c\" transform=\"scale(0.015625)\"/>\n",
       "       <path d=\"M 3425 4513 \n",
       "L 3425 3897 \n",
       "Q 3066 4069 2747 4153 \n",
       "Q 2428 4238 2131 4238 \n",
       "Q 1616 4238 1336 4038 \n",
       "Q 1056 3838 1056 3469 \n",
       "Q 1056 3159 1242 3001 \n",
       "Q 1428 2844 1947 2747 \n",
       "L 2328 2669 \n",
       "Q 3034 2534 3370 2195 \n",
       "Q 3706 1856 3706 1288 \n",
       "Q 3706 609 3251 259 \n",
       "Q 2797 -91 1919 -91 \n",
       "Q 1588 -91 1214 -16 \n",
       "Q 841 59 441 206 \n",
       "L 441 856 \n",
       "Q 825 641 1194 531 \n",
       "Q 1563 422 1919 422 \n",
       "Q 2459 422 2753 634 \n",
       "Q 3047 847 3047 1241 \n",
       "Q 3047 1584 2836 1778 \n",
       "Q 2625 1972 2144 2069 \n",
       "L 1759 2144 \n",
       "Q 1053 2284 737 2584 \n",
       "Q 422 2884 422 3419 \n",
       "Q 422 4038 858 4394 \n",
       "Q 1294 4750 2059 4750 \n",
       "Q 2388 4750 2728 4690 \n",
       "Q 3069 4631 3425 4513 \n",
       "z\n",
       "\" id=\"DejaVuSans-53\" transform=\"scale(0.015625)\"/>\n",
       "       <path d=\"M 3328 2828 \n",
       "Q 3544 3216 3844 3400 \n",
       "Q 4144 3584 4550 3584 \n",
       "Q 5097 3584 5394 3201 \n",
       "Q 5691 2819 5691 2113 \n",
       "L 5691 0 \n",
       "L 5113 0 \n",
       "L 5113 2094 \n",
       "Q 5113 2597 4934 2840 \n",
       "Q 4756 3084 4391 3084 \n",
       "Q 3944 3084 3684 2787 \n",
       "Q 3425 2491 3425 1978 \n",
       "L 3425 0 \n",
       "L 2847 0 \n",
       "L 2847 2094 \n",
       "Q 2847 2600 2669 2842 \n",
       "Q 2491 3084 2119 3084 \n",
       "Q 1678 3084 1418 2786 \n",
       "Q 1159 2488 1159 1978 \n",
       "L 1159 0 \n",
       "L 581 0 \n",
       "L 581 3500 \n",
       "L 1159 3500 \n",
       "L 1159 2956 \n",
       "Q 1356 3278 1631 3431 \n",
       "Q 1906 3584 2284 3584 \n",
       "Q 2666 3584 2933 3390 \n",
       "Q 3200 3197 3328 2828 \n",
       "z\n",
       "\" id=\"DejaVuSans-6d\" transform=\"scale(0.015625)\"/>\n",
       "       <path d=\"M 1959 3097 \n",
       "Q 1497 3097 1228 2736 \n",
       "Q 959 2375 959 1747 \n",
       "Q 959 1119 1226 758 \n",
       "Q 1494 397 1959 397 \n",
       "Q 2419 397 2687 759 \n",
       "Q 2956 1122 2956 1747 \n",
       "Q 2956 2369 2687 2733 \n",
       "Q 2419 3097 1959 3097 \n",
       "z\n",
       "M 1959 3584 \n",
       "Q 2709 3584 3137 3096 \n",
       "Q 3566 2609 3566 1747 \n",
       "Q 3566 888 3137 398 \n",
       "Q 2709 -91 1959 -91 \n",
       "Q 1206 -91 779 398 \n",
       "Q 353 888 353 1747 \n",
       "Q 353 2609 779 3096 \n",
       "Q 1206 3584 1959 3584 \n",
       "z\n",
       "\" id=\"DejaVuSans-6f\" transform=\"scale(0.015625)\"/>\n",
       "       <path d=\"M 581 4863 \n",
       "L 1159 4863 \n",
       "L 1159 1991 \n",
       "L 2875 3500 \n",
       "L 3609 3500 \n",
       "L 1753 1863 \n",
       "L 3688 0 \n",
       "L 2938 0 \n",
       "L 1159 1709 \n",
       "L 1159 0 \n",
       "L 581 0 \n",
       "L 581 4863 \n",
       "z\n",
       "\" id=\"DejaVuSans-6b\" transform=\"scale(0.015625)\"/>\n",
       "       <path d=\"M 678 2906 \n",
       "L 4684 2906 \n",
       "L 4684 2381 \n",
       "L 678 2381 \n",
       "L 678 2906 \n",
       "z\n",
       "M 678 1631 \n",
       "L 4684 1631 \n",
       "L 4684 1100 \n",
       "L 678 1100 \n",
       "L 678 1631 \n",
       "z\n",
       "\" id=\"DejaVuSans-3d\" transform=\"scale(0.015625)\"/>\n",
       "       <path d=\"M 2834 3397 \n",
       "L 2834 2853 \n",
       "Q 2591 2978 2328 3040 \n",
       "Q 2066 3103 1784 3103 \n",
       "Q 1356 3103 1142 2972 \n",
       "Q 928 2841 928 2578 \n",
       "Q 928 2378 1081 2264 \n",
       "Q 1234 2150 1697 2047 \n",
       "L 1894 2003 \n",
       "Q 2506 1872 2764 1633 \n",
       "Q 3022 1394 3022 966 \n",
       "Q 3022 478 2636 193 \n",
       "Q 2250 -91 1575 -91 \n",
       "Q 1294 -91 989 -36 \n",
       "Q 684 19 347 128 \n",
       "L 347 722 \n",
       "Q 666 556 975 473 \n",
       "Q 1284 391 1588 391 \n",
       "Q 1994 391 2212 530 \n",
       "Q 2431 669 2431 922 \n",
       "Q 2431 1156 2273 1281 \n",
       "Q 2116 1406 1581 1522 \n",
       "L 1381 1569 \n",
       "Q 847 1681 609 1914 \n",
       "Q 372 2147 372 2553 \n",
       "Q 372 3047 722 3315 \n",
       "Q 1072 3584 1716 3584 \n",
       "Q 2034 3584 2315 3537 \n",
       "Q 2597 3491 2834 3397 \n",
       "z\n",
       "\" id=\"DejaVuSans-73\" transform=\"scale(0.015625)\"/>\n",
       "      </defs>\n",
       "      <use xlink:href=\"#DejaVuSans-4d\"/>\n",
       "      <use x=\"86.279297\" xlink:href=\"#DejaVuSans-61\"/>\n",
       "      <use x=\"147.558594\" xlink:href=\"#DejaVuSans-74\"/>\n",
       "      <use x=\"186.767578\" xlink:href=\"#DejaVuSans-65\"/>\n",
       "      <use x=\"248.291016\" xlink:href=\"#DejaVuSans-72\"/>\n",
       "      <use x=\"287.654297\" xlink:href=\"#DejaVuSans-6e\"/>\n",
       "      <use x=\"351.033203\" xlink:href=\"#DejaVuSans-61\"/>\n",
       "      <use x=\"412.3125\" xlink:href=\"#DejaVuSans-6c\"/>\n",
       "      <use x=\"440.095703\" xlink:href=\"#DejaVuSans-20\"/>\n",
       "      <use x=\"471.882812\" xlink:href=\"#DejaVuSans-53\"/>\n",
       "      <use x=\"535.359375\" xlink:href=\"#DejaVuSans-6d\"/>\n",
       "      <use x=\"632.771484\" xlink:href=\"#DejaVuSans-6f\"/>\n",
       "      <use x=\"693.953125\" xlink:href=\"#DejaVuSans-6b\"/>\n",
       "      <use x=\"748.238281\" xlink:href=\"#DejaVuSans-65\"/>\n",
       "      <use x=\"809.761719\" xlink:href=\"#DejaVuSans-72\"/>\n",
       "      <use x=\"850.875\" xlink:href=\"#DejaVuSans-20\"/>\n",
       "      <use x=\"882.662109\" xlink:href=\"#DejaVuSans-3d\"/>\n",
       "      <use x=\"966.451172\" xlink:href=\"#DejaVuSans-20\"/>\n",
       "      <use x=\"998.238281\" xlink:href=\"#DejaVuSans-46\"/>\n",
       "      <use x=\"1046.632812\" xlink:href=\"#DejaVuSans-61\"/>\n",
       "      <use x=\"1107.912109\" xlink:href=\"#DejaVuSans-6c\"/>\n",
       "      <use x=\"1135.695312\" xlink:href=\"#DejaVuSans-73\"/>\n",
       "      <use x=\"1187.794922\" xlink:href=\"#DejaVuSans-65\"/>\n",
       "     </g>\n",
       "    </g>\n",
       "    <g id=\"patch_67\">\n",
       "     <path d=\"M 470.734875 50.987188 \n",
       "L 498.734875 50.987188 \n",
       "L 498.734875 41.187188 \n",
       "L 470.734875 41.187188 \n",
       "z\n",
       "\" style=\"fill:#fc4f30;opacity:0.75;stroke:#ffffff;stroke-linejoin:miter;stroke-width:0.5;\"/>\n",
       "    </g>\n",
       "    <g id=\"text_18\">\n",
       "     <!-- Maternal Smoker = True -->\n",
       "     <g transform=\"translate(509.934875 50.987188)scale(0.14 -0.14)\">\n",
       "      <defs>\n",
       "       <path d=\"M -19 4666 \n",
       "L 3928 4666 \n",
       "L 3928 4134 \n",
       "L 2272 4134 \n",
       "L 2272 0 \n",
       "L 1638 0 \n",
       "L 1638 4134 \n",
       "L -19 4134 \n",
       "L -19 4666 \n",
       "z\n",
       "\" id=\"DejaVuSans-54\" transform=\"scale(0.015625)\"/>\n",
       "      </defs>\n",
       "      <use xlink:href=\"#DejaVuSans-4d\"/>\n",
       "      <use x=\"86.279297\" xlink:href=\"#DejaVuSans-61\"/>\n",
       "      <use x=\"147.558594\" xlink:href=\"#DejaVuSans-74\"/>\n",
       "      <use x=\"186.767578\" xlink:href=\"#DejaVuSans-65\"/>\n",
       "      <use x=\"248.291016\" xlink:href=\"#DejaVuSans-72\"/>\n",
       "      <use x=\"287.654297\" xlink:href=\"#DejaVuSans-6e\"/>\n",
       "      <use x=\"351.033203\" xlink:href=\"#DejaVuSans-61\"/>\n",
       "      <use x=\"412.3125\" xlink:href=\"#DejaVuSans-6c\"/>\n",
       "      <use x=\"440.095703\" xlink:href=\"#DejaVuSans-20\"/>\n",
       "      <use x=\"471.882812\" xlink:href=\"#DejaVuSans-53\"/>\n",
       "      <use x=\"535.359375\" xlink:href=\"#DejaVuSans-6d\"/>\n",
       "      <use x=\"632.771484\" xlink:href=\"#DejaVuSans-6f\"/>\n",
       "      <use x=\"693.953125\" xlink:href=\"#DejaVuSans-6b\"/>\n",
       "      <use x=\"748.238281\" xlink:href=\"#DejaVuSans-65\"/>\n",
       "      <use x=\"809.761719\" xlink:href=\"#DejaVuSans-72\"/>\n",
       "      <use x=\"850.875\" xlink:href=\"#DejaVuSans-20\"/>\n",
       "      <use x=\"882.662109\" xlink:href=\"#DejaVuSans-3d\"/>\n",
       "      <use x=\"966.451172\" xlink:href=\"#DejaVuSans-20\"/>\n",
       "      <use x=\"998.238281\" xlink:href=\"#DejaVuSans-54\"/>\n",
       "      <use x=\"1044.572266\" xlink:href=\"#DejaVuSans-72\"/>\n",
       "      <use x=\"1085.685547\" xlink:href=\"#DejaVuSans-75\"/>\n",
       "      <use x=\"1149.064453\" xlink:href=\"#DejaVuSans-65\"/>\n",
       "     </g>\n",
       "    </g>\n",
       "   </g>\n",
       "  </g>\n",
       " </g>\n",
       " <defs>\n",
       "  <clipPath id=\"pd842fd44e3\">\n",
       "   <rect height=\"291.6\" width=\"626.4\" x=\"71.038625\" y=\"7.2\"/>\n",
       "  </clipPath>\n",
       " </defs>\n",
       "</svg>\n"
      ],
      "text/plain": [
       "<Figure size 720x360 with 1 Axes>"
      ]
     },
     "metadata": {},
     "output_type": "display_data"
    }
   ],
   "source": [
    "fig, ax = plt.subplots()\n",
    "baby_bins = np.arange(50, 200, 5)\n",
    "non_smokers.plot(kind='hist', density=True, ax=ax, alpha=0.75, bins=baby_bins, ec='w', figsize=(10, 5))\n",
    "smokers.plot(kind='hist', density=True, ax=ax, alpha=0.75, bins=baby_bins, ec='w')\n",
    "plt.legend(['Maternal Smoker = False', 'Maternal Smoker = True'])\n",
    "plt.xlabel('Birth Weight');"
   ]
  },
  {
   "cell_type": "markdown",
   "metadata": {
    "slideshow": {
     "slide_type": "slide"
    }
   },
   "source": [
    "### The question\n",
    "\n",
    "- It appears that babies born to smokers typically have lower birth weights than babies born to non-smokers.\n",
    "- Does the difference we see reflect a real difference in the population?\n",
    "- Or is it just due to random chance?"
   ]
  },
  {
   "cell_type": "markdown",
   "metadata": {
    "slideshow": {
     "slide_type": "slide"
    }
   },
   "source": [
    "### Testing hypotheses\n",
    "\n",
    "- **Null hypothesis**: In the population, birth weights of babies born to smokers and non-smokers have the same distribution.\n",
    "    - In other words, the difference we saw was to random chance.\n",
    "- **Alternative hypothesis**: In the population, babies born to smokers have lower birth weights than babies born to non-smokers, on average.\n",
    "    - In other words, what we saw cannot be explained by random chance alone, and there is instead a meaningful difference in these distributions."
   ]
  },
  {
   "cell_type": "markdown",
   "metadata": {
    "slideshow": {
     "slide_type": "slide"
    }
   },
   "source": [
    "### Discussion Question\n",
    "\n",
    "Why **can't** we use the Total Variation Distance (TVD) as our test statistic here? Any ideas for a test statistic that we could use?\n",
    "\n",
    "Discuss with your peers."
   ]
  },
  {
   "cell_type": "markdown",
   "metadata": {
    "slideshow": {
     "slide_type": "slide"
    }
   },
   "source": [
    "### Test statistic: the difference between means\n",
    "\n",
    "The test statistic we'll use is\n",
    "\n",
    "$$\\text{mean birth weight of babies born to non-smokers} - \\text{mean birth weight of babies born to smokers}$$\n",
    "\n",
    "Note that **large values of this test statistic favor the alternative hypothesis**."
   ]
  },
  {
   "cell_type": "code",
   "execution_count": null,
   "metadata": {},
   "outputs": [],
   "source": []
  },
  {
   "cell_type": "code",
   "execution_count": 12,
   "metadata": {},
   "outputs": [],
   "source": [
    "# The difference between the mean birth weight for non-smokers and smokers\n"
   ]
  },
  {
   "cell_type": "markdown",
   "metadata": {
    "slideshow": {
     "slide_type": "slide"
    }
   },
   "source": [
    "### Hypothesis testing through simulation\n",
    "\n",
    "- **Null hypothesis**: The two groups are sampled from the same distribution.\n",
    "- **Test statistic**: The difference between the mean non-smoker weight and the mean smoker weight.\n",
    "- Note that the null hypothesis doesn't say *what* the distribution is.\n",
    "    - This is different from earlier examples (jury panels, fair coins, etc.) where we specified exactly what the distribution under the null is.\n",
    "    - We can't draw directly from the distribution!\n",
    "- We have to do something a bit more clever."
   ]
  },
  {
   "cell_type": "markdown",
   "metadata": {
    "slideshow": {
     "slide_type": "slide"
    }
   },
   "source": [
    "### Implications of the null hypothesis\n",
    "\n",
    "- Under the null hypothesis, both groups are sampled from the same population distribution.\n",
    "- If that's true, then whether `'Maternal Smoker'` is `True` or `False` should have no impact on the `'Birth Weight'` variable.\n",
    "- **Idea:** the distribution of birth weights for smokers and non-smokers should remain the same if we shuffle one of the two columns in our DataFrame."
   ]
  },
  {
   "cell_type": "code",
   "execution_count": null,
   "metadata": {},
   "outputs": [],
   "source": [
    "# What if we shuffle one of these columns?\n",
    "smoking_and_birthweight"
   ]
  },
  {
   "cell_type": "markdown",
   "metadata": {
    "slideshow": {
     "slide_type": "slide"
    }
   },
   "source": [
    "### Permutation tests\n",
    "\n",
    "- Perhaps the difference in means we saw is due to random chance in assignment.\n",
    "- **The key idea behind permutation tests**: Shuffle the group labels (i.e. `True`s and `False`s) many, many times, and compute the difference in the group means each time. \n",
    "    - **How often do we see a difference in means this extreme?**\n",
    "    - If we **rarely** see a difference in means as extreme as the one in our observed samples, then the null hypothesis doesn't look likely.\n",
    "- Randomly permuting labels is equivalent to randomly assigning birth weights to groups, without changing group sizes.\n"
   ]
  },
  {
   "cell_type": "markdown",
   "metadata": {
    "slideshow": {
     "slide_type": "slide"
    }
   },
   "source": [
    "### Permutation tests with DataFrames\n",
    "\n",
    "- We want to randomly shuffle one of the columns in our DataFrame.\n",
    "- `df.sample` returns a random sample of the rows in a DataFrame, but we want to shuffle one column independently.\n",
    "- **Solution:** Use `np.random.permutation`, which takes in an array and returns a shuffled version of it."
   ]
  },
  {
   "cell_type": "code",
   "execution_count": null,
   "metadata": {},
   "outputs": [],
   "source": [
    "data = bpd.DataFrame().assign(x=['a', 'b', 'c', 'd'], y=[1, 2, 3, 4])\n",
    "data"
   ]
  },
  {
   "cell_type": "code",
   "execution_count": null,
   "metadata": {},
   "outputs": [],
   "source": [
    "# Random!\n",
    "np.random.permutation(data.get('y'))"
   ]
  },
  {
   "cell_type": "code",
   "execution_count": null,
   "metadata": {},
   "outputs": [],
   "source": [
    "data.assign(shuffled_y=np.random.permutation(data.get('y')))"
   ]
  },
  {
   "cell_type": "markdown",
   "metadata": {
    "slideshow": {
     "slide_type": "slide"
    }
   },
   "source": [
    "### Shuffling one column\n",
    "\n",
    "- Note that it doesn't matter which of the two columns we shuffle; the end result will be a random pairing of labels (`True` and `False`) and weights.\n",
    "- We've chosen to shuffle `'Birth Weight'`, but we could be shuffling `'Maternal Smoker'`."
   ]
  },
  {
   "cell_type": "code",
   "execution_count": null,
   "metadata": {},
   "outputs": [],
   "source": [
    "original_and_shuffled = smoking_and_birthweight.assign(\n",
    "    ShuffledBirthWeight=np.random.permutation(smoking_and_birthweight.get('Birth Weight'))\n",
    ")\n",
    "original_and_shuffled"
   ]
  },
  {
   "cell_type": "code",
   "execution_count": null,
   "metadata": {},
   "outputs": [],
   "source": [
    "fig, ax = plt.subplots()\n",
    "smokers = original_and_shuffled[original_and_shuffled.get('Maternal Smoker')]\n",
    "non_smokers = original_and_shuffled[original_and_shuffled.get('Maternal Smoker') == False]\n",
    "non_smokers.plot(kind='hist', y='ShuffledBirthWeight', density=True, ax=ax, alpha=0.75, bins=baby_bins, ec='w', figsize=(10, 5))\n",
    "smokers.plot(kind='hist',y='ShuffledBirthWeight', density=True, ax=ax, alpha=0.75, bins=baby_bins)\n",
    "plt.legend(['Maternal Smoker = False', 'Maternal Smoker = True'])\n",
    "plt.xlabel('Birth Weight');"
   ]
  },
  {
   "cell_type": "markdown",
   "metadata": {
    "slideshow": {
     "slide_type": "slide"
    }
   },
   "source": [
    "### How close are the means of the shuffled groups?"
   ]
  },
  {
   "cell_type": "code",
   "execution_count": null,
   "metadata": {},
   "outputs": [],
   "source": [
    "original_and_shuffled.groupby('Maternal Smoker').mean()"
   ]
  },
  {
   "cell_type": "code",
   "execution_count": null,
   "metadata": {},
   "outputs": [],
   "source": [
    "group_means = original_and_shuffled.groupby('Maternal Smoker').mean().get('ShuffledBirthWeight')\n",
    "\n",
    "group_means.loc[False] - group_means.loc[True]"
   ]
  },
  {
   "cell_type": "markdown",
   "metadata": {
    "slideshow": {
     "slide_type": "-"
    }
   },
   "source": [
    "- This is the test statistic for one experiment (one \"shuffle\").\n",
    "- Let's write a function that can compute this test statistic for any shuffle."
   ]
  },
  {
   "cell_type": "code",
   "execution_count": null,
   "metadata": {},
   "outputs": [],
   "source": [
    "def difference_in_mean_weights(weights_df):\n",
    "    group_means = weights_df.groupby('Maternal Smoker').mean().get('ShuffledBirthWeight')\n",
    "    return group_means.loc[False] - group_means.loc[True]\n",
    "\n",
    "difference_in_mean_weights(original_and_shuffled)"
   ]
  },
  {
   "cell_type": "markdown",
   "metadata": {
    "slideshow": {
     "slide_type": "slide"
    }
   },
   "source": [
    "### Simulation\n",
    "\n",
    "- This was just one random shuffle.\n",
    "- How likely is it that a random shuffle results in a 9+ ounce difference in means?\n",
    "- We have to repeat the shuffling a bunch of times. On each iteration:\n",
    "    1. Shuffle the weights.\n",
    "    2. Put them in a DataFrame.\n",
    "    3. Compute the difference in group means."
   ]
  },
  {
   "cell_type": "code",
   "execution_count": null,
   "metadata": {
    "slideshow": {
     "slide_type": "slide"
    }
   },
   "outputs": [],
   "source": [
    "n_repetitions = 500 # The dataset is large, so it takes too long to run if we use 5000 or 10000\n",
    "\n",
    "differences = np.array([])\n",
    "for i in np.arange(n_repetitions):\n",
    "    # Step 1: Shuffle the weights\n",
    "    shuffled_weights = np.random.permutation(\n",
    "        smoking_and_birthweight.get('Birth Weight')\n",
    "    )\n",
    "    \n",
    "    # Step 2: Put them in a DataFrame\n",
    "    shuffled = smoking_and_birthweight.assign(\n",
    "        ShuffledBirthWeight=shuffled_weights\n",
    "    )\n",
    "    \n",
    "    # Step 3: Compute the difference in group means and add the result to the differences array\n",
    "    difference = difference_in_mean_weights(shuffled)\n",
    "    \n",
    "    differences = np.append(differences, difference)"
   ]
  },
  {
   "cell_type": "code",
   "execution_count": null,
   "metadata": {},
   "outputs": [],
   "source": [
    "bpd.DataFrame().assign(DifferenceInMeans=differences).plot(kind='hist', bins=20, density=True, ec='w', figsize=(10, 5));"
   ]
  },
  {
   "cell_type": "markdown",
   "metadata": {},
   "source": [
    "- Note that the empirical distribution of the test statistic (difference in means) is centered around 0.\n",
    "- This matches our intuition – if the null hypothesis is true, there should be no difference in the group means on average."
   ]
  },
  {
   "cell_type": "markdown",
   "metadata": {
    "slideshow": {
     "slide_type": "slide"
    }
   },
   "source": [
    "### Conclusion of the test\n",
    "\n",
    "Where does our observed statistic lie?"
   ]
  },
  {
   "cell_type": "code",
   "execution_count": null,
   "metadata": {},
   "outputs": [],
   "source": [
    "bpd.DataFrame().assign(SimulatedDifferenceInMeans=differences).plot(kind='hist', bins=20, density=True, ec='w', figsize=(10, 5))\n",
    "plt.axvline(observed_difference, color='red', label='observed difference in means')\n",
    "plt.legend();"
   ]
  },
  {
   "cell_type": "code",
   "execution_count": null,
   "metadata": {},
   "outputs": [],
   "source": [
    "smoker_p_value = np.count_nonzero(differences >= observed_difference) / 500\n",
    "smoker_p_value"
   ]
  },
  {
   "cell_type": "markdown",
   "metadata": {
    "slideshow": {
     "slide_type": "slide"
    }
   },
   "source": [
    "### Conclusion\n",
    "\n",
    "- Under the null hypothesis, we rarely see differences as large as this.\n",
    "- Therefore, we reject the null hypothesis: the two groups do not come from the same distribution."
   ]
  },
  {
   "cell_type": "markdown",
   "metadata": {
    "slideshow": {
     "slide_type": "slide"
    }
   },
   "source": [
    "### Caution! ⚠️\n",
    "\n",
    "- We **cannot** conclude that smoking *causes* lower birth weight!\n",
    "- This was an observational study; there may be confounding factors.\n",
    "    - Maybe smokers are more likely to drink caffeine, and caffeine causes lower birth weight.\n",
    "- But it suggests that it may be causal."
   ]
  },
  {
   "cell_type": "markdown",
   "metadata": {
    "slideshow": {
     "slide_type": "skip"
    }
   },
   "source": [
    "## Example 2: Deflategate 🏈"
   ]
  },
  {
   "cell_type": "markdown",
   "metadata": {
    "slideshow": {
     "slide_type": "skip"
    }
   },
   "source": [
    "### Did the New England Patriots cheat?\n",
    "\n",
    "<center><img width=\"40%\" src=\"./data/deflate.jpg\"></center>\n",
    "\n",
    "- On January 18, 2015, the New England Patriots played the Indianapolis Colts for a spot in the Super Bowl.\n",
    "- The Patriots won, 45-7. They went on to win the Super Bowl.\n",
    "- After the game, it was alleged that the Patriots intentionally deflated footballs, making them easier to catch."
   ]
  },
  {
   "cell_type": "markdown",
   "metadata": {
    "slideshow": {
     "slide_type": "skip"
    }
   },
   "source": [
    "### Background\n",
    "\n",
    "- Each team brings 12 footballs to the game. Teams use their own footballs while on offense.\n",
    "- NFL rules stipulate that **each ball must be inflated to between 12.5 and 13.5 pounds per square inch (psi)**.\n",
    "- Before the game, officials found that all of the Patriots' footballs were at about 12.5 psi, and that all of the Colts' footballs were at about 13.0 psi.\n",
    "    - This pre-game data was not written down.\n",
    "- In the second quarter, the Colts intercepted a Patriots ball and notified officials that it felt under-inflated.\n",
    "- At halftime, two officials (Clete Blakeman and Dyrol Prioleau) independently measured the pressures of as many of the 24 footballs as they could.\n",
    "    - They ran out of time before they could finish."
   ]
  },
  {
   "cell_type": "markdown",
   "metadata": {
    "slideshow": {
     "slide_type": "skip"
    }
   },
   "source": [
    "### The measurements"
   ]
  },
  {
   "cell_type": "code",
   "execution_count": null,
   "metadata": {
    "slideshow": {
     "slide_type": "skip"
    }
   },
   "outputs": [],
   "source": [
    "footballs = bpd.read_csv('data/deflategate.csv')\n",
    "footballs"
   ]
  },
  {
   "cell_type": "markdown",
   "metadata": {
    "slideshow": {
     "slide_type": "skip"
    }
   },
   "source": [
    "There are only 15 rows (11 for Patriots footballs, 4 for Colts footballs) since the officials weren't able to record the pressures of every ball."
   ]
  },
  {
   "cell_type": "markdown",
   "metadata": {
    "slideshow": {
     "slide_type": "skip"
    }
   },
   "source": [
    "### Combining the measurements\n",
    "\n",
    "- Both officials measured each ball.\n",
    "- Their measurements are slightly different, so we'll average them to get a combined pressure for each ball."
   ]
  },
  {
   "cell_type": "code",
   "execution_count": null,
   "metadata": {
    "slideshow": {
     "slide_type": "skip"
    }
   },
   "outputs": [],
   "source": [
    "footballs = footballs.assign(\n",
    "    Pressure=(footballs.get('Blakeman') + footballs.get('Prioleau')) / 2\n",
    ").drop(columns=['Blakeman', 'Prioleau'])\n",
    "footballs"
   ]
  },
  {
   "cell_type": "markdown",
   "metadata": {
    "slideshow": {
     "slide_type": "skip"
    }
   },
   "source": [
    "### Differences in average pressure\n",
    "\n",
    "- At first glance, it looks as though the Patriots' footballs are at a lower pressure.\n",
    "- We could do a permutation test for the difference in mean pressure, but that wouldn't point towards cheating.\n",
    "    - The Patriot's balls *started* at a lower psi (which is not an issue on its own).\n",
    "- The allegations were that the Patriots **deflated** their balls, during the game.\n",
    "    - We want to check to see if the Patriots' footballs lost more pressure than the Colts' footballs from the start of the game to halftime, when these measurements were taken."
   ]
  },
  {
   "cell_type": "code",
   "execution_count": null,
   "metadata": {
    "slideshow": {
     "slide_type": "skip"
    }
   },
   "outputs": [],
   "source": [
    "# Mean pressure for each team's footballs\n",
    "footballs.groupby('Team').mean()"
   ]
  },
  {
   "cell_type": "markdown",
   "metadata": {
    "slideshow": {
     "slide_type": "skip"
    }
   },
   "source": [
    "### Calculating the pressure drop\n",
    "\n",
    "- Let's calculate the drop in pressure for each ball in `footballs`.\n",
    "- The Patriots' footballs started at around 12.5 psi, while the Colts' footballs started at around 13 psi.\n",
    "- **Strategy**: we'll make an array with starting pressure for each ball, and from that subtract the halftime pressure of each ball.\n",
    "    - Note that the first 11 rows correspond to Patriots balls and the last 4 rows correspond to Colts balls.\n",
    "    - Thus, we need an array with 11 `12.5`s followed by 4 `13`s.\n",
    "    - We can use `np.ones` to help us."
   ]
  },
  {
   "cell_type": "code",
   "execution_count": null,
   "metadata": {
    "slideshow": {
     "slide_type": "skip"
    }
   },
   "outputs": [],
   "source": [
    "footballs"
   ]
  },
  {
   "cell_type": "code",
   "execution_count": null,
   "metadata": {
    "slideshow": {
     "slide_type": "skip"
    }
   },
   "outputs": [],
   "source": [
    "# np.ones(n) returns an array of n 1s\n",
    "np.ones(11)"
   ]
  },
  {
   "cell_type": "code",
   "execution_count": null,
   "metadata": {
    "slideshow": {
     "slide_type": "skip"
    }
   },
   "outputs": [],
   "source": [
    "starting_pressure = np.ones(11) * 12.5\n",
    "starting_pressure = np.append(starting_pressure, np.ones(4) * 13)\n",
    "starting_pressure"
   ]
  },
  {
   "cell_type": "markdown",
   "metadata": {
    "slideshow": {
     "slide_type": "skip"
    }
   },
   "source": [
    "### Calculating the pressure drop"
   ]
  },
  {
   "cell_type": "code",
   "execution_count": null,
   "metadata": {
    "slideshow": {
     "slide_type": "skip"
    }
   },
   "outputs": [],
   "source": [
    "footballs = footballs.assign(\n",
    "    PressureDrop=(starting_pressure - footballs.get('Pressure'))\n",
    ")\n",
    "footballs"
   ]
  },
  {
   "cell_type": "markdown",
   "metadata": {
    "slideshow": {
     "slide_type": "skip"
    }
   },
   "source": [
    "### The question\n",
    "\n",
    "- Did the Patriots' footballs drop in pressure more than the Colts'?\n",
    "    - We want to test whether two samples came from the same distribution – this calls for a permutation test.\n",
    "- **Null hypothesis**: The drop in pressures for both teams came from the same distribution.\n",
    "    - By chance, the Patriots' footballs deflated more.\n",
    "- **Alternative hypothesis**: No, the Patriots' footballs deflated more than one would expect due to random chance alone."
   ]
  },
  {
   "cell_type": "markdown",
   "metadata": {
    "slideshow": {
     "slide_type": "skip"
    }
   },
   "source": [
    "### The test statistic\n",
    "\n",
    "Similar to in the baby weights example, our test statistic will be the difference between the teams' average pressure drops."
   ]
  },
  {
   "cell_type": "code",
   "execution_count": null,
   "metadata": {
    "slideshow": {
     "slide_type": "skip"
    }
   },
   "outputs": [],
   "source": [
    "means = footballs.groupby('Team').mean().get('PressureDrop')\n",
    "means"
   ]
  },
  {
   "cell_type": "code",
   "execution_count": null,
   "metadata": {
    "slideshow": {
     "slide_type": "skip"
    }
   },
   "outputs": [],
   "source": [
    "# The observed statistic\n",
    "observed_difference = means.loc['Patriots'] - means.loc['Colts']\n",
    "observed_difference"
   ]
  },
  {
   "cell_type": "markdown",
   "metadata": {
    "slideshow": {
     "slide_type": "skip"
    }
   },
   "source": [
    "The average pressure drop for the Patriots was 0.73 psi more than the Colts."
   ]
  },
  {
   "cell_type": "markdown",
   "metadata": {
    "slideshow": {
     "slide_type": "skip"
    }
   },
   "source": [
    "### Permutation test\n",
    "\n",
    "- We run a permutation test to see if this is a significant difference.\n",
    "- Permute the drop in pressure many, many times, and compute the difference in the mean pressure drops for the two teams.\n",
    "    - Instead, we could permute the team names."
   ]
  },
  {
   "cell_type": "code",
   "execution_count": null,
   "metadata": {
    "slideshow": {
     "slide_type": "skip"
    }
   },
   "outputs": [],
   "source": [
    "def difference_in_mean_pressure_drops(pressures_df):\n",
    "    team_means = pressures_df.groupby('Team').mean().get('ShuffledPressureDrop')\n",
    "    return team_means.loc['Patriots'] - team_means.loc['Colts']"
   ]
  },
  {
   "cell_type": "code",
   "execution_count": null,
   "metadata": {
    "slideshow": {
     "slide_type": "skip"
    }
   },
   "outputs": [],
   "source": [
    "n_repetitions = 5000 # The dataset is much smaller than in the baby weights example, so a larger number of repetitions will still run quickly\n",
    "\n",
    "differences = np.array([])\n",
    "for i in np.arange(n_repetitions):\n",
    "    # Step 1: Shuffle the pressure drops\n",
    "    shuffled_drops = np.random.permutation(footballs.get('PressureDrop'))\n",
    "    \n",
    "    # Step 2: Put them in a DataFrame\n",
    "    shuffled = footballs.assign(\n",
    "        ShuffledPressureDrop=shuffled_drops\n",
    "    )\n",
    "    \n",
    "    # Step 3: Compute the difference in group means and add the result to the differences array\n",
    "    difference = difference_in_mean_pressure_drops(shuffled)\n",
    "\n",
    "    differences = np.append(differences, difference)"
   ]
  },
  {
   "cell_type": "markdown",
   "metadata": {
    "slideshow": {
     "slide_type": "skip"
    }
   },
   "source": [
    "### Conclusion"
   ]
  },
  {
   "cell_type": "code",
   "execution_count": null,
   "metadata": {
    "slideshow": {
     "slide_type": "skip"
    }
   },
   "outputs": [],
   "source": [
    "bpd.DataFrame().assign(SimulatedDifferenceInMeans=differences).plot(kind='hist', bins=20, density=True, ec='w', figsize=(10, 5))\n",
    "plt.axvline(observed_difference, color='red', label='observed difference in means')\n",
    "plt.legend();"
   ]
  },
  {
   "cell_type": "markdown",
   "metadata": {
    "slideshow": {
     "slide_type": "skip"
    }
   },
   "source": [
    "- It doesn't look good for the Patriots. What is the p-value?\n",
    "    - Recall, the p-value is the **probability of seeing a result as or more extreme than the observation under the null hypothesis**.\n",
    "    - In this case, that's the probability of the difference in mean pressure drops being greater than or equal to 0.7335."
   ]
  },
  {
   "cell_type": "code",
   "execution_count": null,
   "metadata": {
    "slideshow": {
     "slide_type": "skip"
    }
   },
   "outputs": [],
   "source": [
    "observed_difference"
   ]
  },
  {
   "cell_type": "code",
   "execution_count": null,
   "metadata": {
    "slideshow": {
     "slide_type": "skip"
    }
   },
   "outputs": [],
   "source": [
    "# Calculating the p-value\n",
    "np.count_nonzero(differences >= observed_difference) / n_repetitions"
   ]
  },
  {
   "cell_type": "markdown",
   "metadata": {
    "slideshow": {
     "slide_type": "skip"
    }
   },
   "source": [
    "This p-value is low enough to consider this result to be highly statistically significant ($p<0.01$)."
   ]
  },
  {
   "cell_type": "markdown",
   "metadata": {
    "slideshow": {
     "slide_type": "skip"
    }
   },
   "source": [
    "### Caution! ⚠️\n",
    "\n",
    "- We conclude that it is unlikely that the difference in mean pressure drop is due to chance alone.\n",
    "- But this doesn't establish *causation*.\n",
    "- That is, we can't conclude that the Patriots **intentionally** deflated their footballs.\n",
    "- This was an *observational* study; to establish causation, we'd need an RCT (Randomized Controlled Trial)."
   ]
  },
  {
   "cell_type": "markdown",
   "metadata": {
    "slideshow": {
     "slide_type": "skip"
    }
   },
   "source": [
    "### Aftermath\n",
    "\n",
    "- Quote from an investigative report commissioned by the NFL:\n",
    "\n",
    "> “[T]he average pressure drop of the Patriots game balls exceeded the average pressure drop of the Colts balls by 0.45 to 1.02 psi, depending on various possible assumptions regarding the gauges used, and assuming an initial pressure of 12.5 psi for the Patriots balls and 13.0 for the Colts balls.”\n",
    "\n",
    "- Many different methods were used to determine whether the drop in pressures were due to chance, including physics. \n",
    "    - We computed an observed difference of 0.7335, which is in line with the findings of the report. \n",
    "- In the end, Tom Brady (quarterback for the Patriots at the time) was suspended 4 games and the team was fined $1 million dollars.\n",
    "- The [Deflategate Wikipedia article](https://en.wikipedia.org/wiki/Deflategate) is extremely thorough, give it a read if you're curious!"
   ]
  },
  {
   "cell_type": "markdown",
   "metadata": {
    "slideshow": {
     "slide_type": "slide"
    }
   },
   "source": [
    "## Summary"
   ]
  },
  {
   "cell_type": "markdown",
   "metadata": {
    "slideshow": {
     "slide_type": "slide"
    }
   },
   "source": [
    "### Summary\n",
    "\n",
    "- The total variation distance is a test statistic that measures the difference between two categorical distributions.\n",
    "    - Note: the TVD is **not** used for permutation tests!\n",
    "- Permutation tests help us determine if two numerical samples came from the sample population.\n",
    "- We can answers questions like:\n",
    "    - \"Do smoking moms and nonsmoking moms have babies that weigh the same?\"\n",
    "    - \"Were COVID-19 rates the same in Republican states and Democratic states?\"\n",
    "    - More generally: are *these things* like *those things*?"
   ]
  },
  {
   "cell_type": "markdown",
   "metadata": {
    "slideshow": {
     "slide_type": "slide"
    }
   },
   "source": [
    "### A/B testing\n",
    "\n",
    "- Permutation tests are one way to perform **A/B tests**.\n",
    "    - These are both also hypothesis tests.\n",
    "- An A/B test aims to determine if two samples are from the same population (the name comes from giving names to the samples – sample A and sample B).\n",
    "- We implemented A/B tests by using permutations. Butside of this class, permutation tests can be used for other purposes, and A/B tests can be done without permutations. \n",
    "- **For us, they mean the same thing, so if you see A/B test anywhere in the class, that is referring to a permutation test.**"
   ]
  },
  {
   "cell_type": "code",
   "execution_count": null,
   "metadata": {
    "scrolled": true,
    "slideshow": {
     "slide_type": "slide"
    }
   },
   "outputs": [],
   "source": [
    "show_permutation_testing_slides()"
   ]
  },
  {
   "cell_type": "markdown",
   "metadata": {
    "slideshow": {
     "slide_type": "slide"
    }
   },
   "source": [
    "### Next time\n",
    "\n",
    "- We'll see how we can use permutation tests to try and establish causality.\n",
    "- We'll also introduce bootstrapping, a procedure that will allow us to quantify the variation in parameter estimates by using just a single sample."
   ]
  }
 ],
 "metadata": {
  "kernelspec": {
   "display_name": "Python 3 (ipykernel)",
   "language": "python",
   "name": "python3"
  },
  "language_info": {
   "codemirror_mode": {
    "name": "ipython",
    "version": 3
   },
   "file_extension": ".py",
   "mimetype": "text/x-python",
   "name": "python",
   "nbconvert_exporter": "python",
   "pygments_lexer": "ipython3",
   "version": "3.8.5"
  },
  "livereveal": {
   "scroll": true,
   "transition": "none"
  }
 },
 "nbformat": 4,
 "nbformat_minor": 2
}
