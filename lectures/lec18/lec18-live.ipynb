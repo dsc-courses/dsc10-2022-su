{
 "cells": [
  {
   "cell_type": "code",
   "execution_count": null,
   "metadata": {
    "slideshow": {
     "slide_type": "skip"
    }
   },
   "outputs": [],
   "source": [
    "# Set up packages for lecture. Don't worry about understanding this code, but\n",
    "# make sure to run it if you're following along.\n",
    "import numpy as np\n",
    "import babypandas as bpd\n",
    "import pandas as pd\n",
    "from matplotlib_inline.backend_inline import set_matplotlib_formats\n",
    "import matplotlib.pyplot as plt\n",
    "%reload_ext pandas_tutor\n",
    "%set_pandas_tutor_options {'projectorMode': True}\n",
    "set_matplotlib_formats(\"svg\")\n",
    "plt.style.use('fivethirtyeight')\n",
    "\n",
    "np.set_printoptions(threshold=20, precision=2, suppress=True)\n",
    "pd.set_option(\"display.max_rows\", 7)\n",
    "pd.set_option(\"display.max_columns\", 8)\n",
    "pd.set_option(\"display.precision\", 2)\n",
    "\n",
    "from IPython.display import display, IFrame, HTML, YouTubeVideo\n",
    "def show_permutation_testing_slides():\n",
    "    src = \"https://docs.google.com/presentation/d/e/2PACX-1vSovXDonR6EmjrT45h4pY1mwmcKFMWVSdgpbKHC5HNTm9sbG7dojvvCDEQCjuk2dk1oA4gmwMogr8ZL/embed?start=false&loop=false&delayms=3000\"\n",
    "    width = 960\n",
    "    height = 569\n",
    "    display(IFrame(src, width, height))\n",
    "    \n",
    "def show_bootstrapping_slides():\n",
    "    src = \"https://docs.google.com/presentation/d/e/2PACX-1vS_iYHJYXSVMMZ-YQVFwMEFR6EFN3FDSAvaMyUm-YJfLQgRMTHm3vI-wWJJ5999eFJq70nWp2hyItZg/embed?start=false&loop=false&delayms=3000\"\n",
    "    width = 960\n",
    "    height = 509\n",
    "    display(IFrame(src, width, height))"
   ]
  },
  {
   "cell_type": "markdown",
   "metadata": {
    "slideshow": {
     "slide_type": "slide"
    }
   },
   "source": [
    "# Lecture 18 – More Permutation Testing, Causality, and Bootstrapping\n",
    "\n",
    "## DSC 10, Summer 2022"
   ]
  },
  {
   "cell_type": "markdown",
   "metadata": {
    "slideshow": {
     "slide_type": "slide"
    }
   },
   "source": [
    "### Announcements\n",
    "\n",
    "- Homework 5 is due **Sat at 11:59pm**.\n",
    "- Lab 6 is due **Tue at 11:59pm**."
   ]
  },
  {
   "cell_type": "markdown",
   "metadata": {
    "slideshow": {
     "slide_type": "slide"
    }
   },
   "source": [
    "### Agenda\n",
    "\n",
    "- Permutation test examples:\n",
    "    - Baby weights\n",
    "    - Deflategate\n",
    "- Using permutation tests to show causality.\n",
    "- Bootstrapping."
   ]
  },
  {
   "cell_type": "markdown",
   "metadata": {
    "slideshow": {
     "slide_type": "slide"
    }
   },
   "source": [
    "### A note about pacing\n",
    "\n",
    "- These slides have extra content to be flexible\n",
    "- Understanding material > going fast\n",
    "- Permutation testing is important, so we'll go through several more examples today\n",
    "- You'll have to write code like the You Try activities many times in your assignments."
   ]
  },
  {
   "cell_type": "markdown",
   "metadata": {
    "slideshow": {
     "slide_type": "slide"
    }
   },
   "source": [
    "## Permutation Testing: Baby Weights\n",
    "\n"
   ]
  },
  {
   "cell_type": "markdown",
   "metadata": {
    "slideshow": {
     "slide_type": "slide"
    }
   },
   "source": [
    "### Permutation testing (a.k.a. A/B testing)\n",
    "- Given two samples, are they drawn from the same population?\n",
    "- We can use permutation tests to answer questions like:\n",
    "    - \"Do smoking moms and nonsmoking moms have babies that weigh the same?\"\n",
    "    - \"Were COVID-19 rates the same in Republican states and Democratic states?\"\n",
    "    - **More generally:** are *these things* like *those things*?"
   ]
  },
  {
   "cell_type": "code",
   "execution_count": null,
   "metadata": {},
   "outputs": [],
   "source": [
    "baby = bpd.read_csv('data/baby.csv')\n",
    "smoking_and_birthweight = baby.get(['Maternal Smoker', 'Birth Weight'])\n",
    "smoking_and_birthweight"
   ]
  },
  {
   "cell_type": "markdown",
   "metadata": {},
   "source": [
    "### Shuffling the birth weights"
   ]
  },
  {
   "cell_type": "code",
   "execution_count": null,
   "metadata": {
    "slideshow": {
     "slide_type": "slide"
    }
   },
   "outputs": [],
   "source": [
    "original_and_shuffled = smoking_and_birthweight.assign(\n",
    "    shuffled=np.random.permutation(smoking_and_birthweight.get('Birth Weight'))\n",
    ")\n",
    "original_and_shuffled"
   ]
  },
  {
   "cell_type": "code",
   "execution_count": null,
   "metadata": {},
   "outputs": [],
   "source": [
    "# Our test statistic\n",
    "def difference_in_mean_weights(weights_df):\n",
    "    group_means = weights_df.groupby('Maternal Smoker').mean().get('shuffled')\n",
    "    return group_means.loc[False] - group_means.loc[True]\n",
    "\n",
    "difference_in_mean_weights(original_and_shuffled)"
   ]
  },
  {
   "cell_type": "markdown",
   "metadata": {
    "slideshow": {
     "slide_type": "slide"
    }
   },
   "source": [
    "### You Try: Is there a difference between smoking and non-smoking birth weights?\n",
    "\n",
    "Let's finish up our activity from the end of last time's lecture:\n",
    "\n",
    "1. Simulate drawing a sample by shuffling the birth weights. Compute mean weight for smokers - mean weight for non-smoker.\n",
    "1. Repeat Step 1 500 times. Store the results in an array called `differences`.\n",
    "1. Plot the simulated differences in a histogram. Plot the observed test statistic as a vertical line.\n",
    "1. Compute the p-value, and make a decision."
   ]
  },
  {
   "cell_type": "code",
   "execution_count": null,
   "metadata": {},
   "outputs": [],
   "source": [
    "# Copy your code from lec17 here:\n"
   ]
  },
  {
   "cell_type": "code",
   "execution_count": null,
   "metadata": {},
   "outputs": [],
   "source": []
  },
  {
   "cell_type": "code",
   "execution_count": null,
   "metadata": {},
   "outputs": [],
   "source": []
  },
  {
   "cell_type": "code",
   "execution_count": null,
   "metadata": {},
   "outputs": [],
   "source": []
  },
  {
   "cell_type": "markdown",
   "metadata": {
    "slideshow": {
     "slide_type": "slide"
    }
   },
   "source": [
    "### Caution! ⚠️\n",
    "\n",
    "- We **cannot** conclude that smoking *causes* lower birth weight!\n",
    "- This was an observational study; there may be confounding factors.\n",
    "    - Maybe smokers are more likely to drink caffeine, and caffeine causes lower birth weight.\n",
    "- But it suggests that it may be causal."
   ]
  },
  {
   "cell_type": "code",
   "execution_count": null,
   "metadata": {
    "scrolled": false,
    "slideshow": {
     "slide_type": "slide"
    }
   },
   "outputs": [],
   "source": [
    "show_permutation_testing_slides()"
   ]
  },
  {
   "cell_type": "markdown",
   "metadata": {
    "slideshow": {
     "slide_type": "slide"
    }
   },
   "source": [
    "## Another Permutation Testing Example: Deflategate 🏈"
   ]
  },
  {
   "cell_type": "markdown",
   "metadata": {
    "slideshow": {
     "slide_type": "slide"
    }
   },
   "source": [
    "### Did the New England Patriots cheat?\n",
    "\n",
    "<center><img width=\"40%\" src=\"./data/deflate.jpg\"></center>\n",
    "\n",
    "- On January 18, 2015, the New England Patriots played the Indianapolis Colts for a spot in the Super Bowl.\n",
    "- The Patriots won, 45-7. They went on to win the Super Bowl.\n",
    "- After the game, it was alleged that the Patriots intentionally deflated footballs, making them easier to catch."
   ]
  },
  {
   "cell_type": "markdown",
   "metadata": {
    "slideshow": {
     "slide_type": "slide"
    }
   },
   "source": [
    "### Background\n",
    "\n",
    "- Each team brings 12 footballs to the game. Teams use their own footballs while on offense.\n",
    "- NFL rules stipulate that **each ball must be inflated to between 12.5 and 13.5 pounds per square inch (psi)**.\n",
    "- Before the game, officials found that all of the Patriots' footballs were at about 12.5 psi, and that all of the Colts' footballs were at about 13.0 psi.\n",
    "    - This pre-game data was not written down.\n",
    "- In the second quarter, the Colts intercepted a Patriots ball and notified officials that it felt under-inflated.\n",
    "- At halftime, two officials (Clete Blakeman and Dyrol Prioleau) independently measured the pressures of as many of the 24 footballs as they could.\n",
    "    - They ran out of time before they could finish."
   ]
  },
  {
   "cell_type": "markdown",
   "metadata": {
    "slideshow": {
     "slide_type": "slide"
    }
   },
   "source": [
    "### The measurements"
   ]
  },
  {
   "cell_type": "code",
   "execution_count": null,
   "metadata": {
    "slideshow": {
     "slide_type": ""
    }
   },
   "outputs": [],
   "source": [
    "footballs = bpd.read_csv('data/deflategate.csv')\n",
    "footballs"
   ]
  },
  {
   "cell_type": "markdown",
   "metadata": {
    "slideshow": {
     "slide_type": "fragment"
    }
   },
   "source": [
    "There are only 15 rows (11 for Patriots footballs, 4 for Colts footballs) since the officials weren't able to record the pressures of every ball."
   ]
  },
  {
   "cell_type": "markdown",
   "metadata": {
    "slideshow": {
     "slide_type": "slide"
    }
   },
   "source": [
    "### Combining the measurements\n",
    "\n",
    "- Both officials measured each ball.\n",
    "- Their measurements are slightly different, so we'll average them to get a combined pressure for each ball."
   ]
  },
  {
   "cell_type": "code",
   "execution_count": null,
   "metadata": {
    "slideshow": {
     "slide_type": ""
    }
   },
   "outputs": [],
   "source": [
    "footballs = footballs.assign(\n",
    "    psi=(footballs.get('Blakeman') + footballs.get('Prioleau')) / 2\n",
    ").drop(columns=['Blakeman', 'Prioleau'])\n",
    "footballs"
   ]
  },
  {
   "cell_type": "markdown",
   "metadata": {
    "slideshow": {
     "slide_type": "slide"
    }
   },
   "source": [
    "### Differences in average pressure\n",
    "\n",
    "- At first glance, it looks as though the Patriots' footballs are at a lower pressure.\n",
    "- We could do a permutation test for the difference in mean pressure, but that wouldn't point towards cheating.\n",
    "    - The Patriot's balls *started* at a lower psi (which is not an issue on its own).\n",
    "- The allegations were that the Patriots **deflated** their balls, during the game.\n",
    "    - We want to check to see if the Patriots' footballs lost more pressure than the Colts' footballs from the start of the game to halftime, when these measurements were taken."
   ]
  },
  {
   "cell_type": "code",
   "execution_count": null,
   "metadata": {
    "slideshow": {
     "slide_type": ""
    }
   },
   "outputs": [],
   "source": [
    "# Mean pressure for each team's footballs\n",
    "footballs.groupby('Team').mean()"
   ]
  },
  {
   "cell_type": "markdown",
   "metadata": {
    "slideshow": {
     "slide_type": "slide"
    }
   },
   "source": [
    "### Calculating the pressure drop\n",
    "\n",
    "- Let's calculate the drop in pressure for each ball in `footballs`.\n",
    "- The Patriots' footballs started at around 12.5 psi, while the Colts' footballs started at around 13 psi.\n",
    "- **Strategy**: we'll make an array with starting pressure for each ball, and from that subtract the halftime pressure of each ball.\n",
    "    - Note that the first 11 rows correspond to Patriots balls and the last 4 rows correspond to Colts balls.\n",
    "    - Thus, we need an array with 11 `12.5`s followed by 4 `13`s.\n",
    "    - We can use `np.ones` to help us."
   ]
  },
  {
   "cell_type": "code",
   "execution_count": null,
   "metadata": {
    "slideshow": {
     "slide_type": ""
    }
   },
   "outputs": [],
   "source": [
    "footballs"
   ]
  },
  {
   "cell_type": "code",
   "execution_count": null,
   "metadata": {},
   "outputs": [],
   "source": []
  },
  {
   "cell_type": "code",
   "execution_count": null,
   "metadata": {},
   "outputs": [],
   "source": []
  },
  {
   "cell_type": "markdown",
   "metadata": {
    "slideshow": {
     "slide_type": "slide"
    }
   },
   "source": [
    "### Calculating the pressure drop"
   ]
  },
  {
   "cell_type": "code",
   "execution_count": null,
   "metadata": {
    "slideshow": {
     "slide_type": ""
    }
   },
   "outputs": [],
   "source": [
    "footballs = footballs.assign(\n",
    "    psi_drop=...\n",
    ")\n",
    "footballs"
   ]
  },
  {
   "cell_type": "markdown",
   "metadata": {
    "slideshow": {
     "slide_type": "slide"
    }
   },
   "source": [
    "### The question\n",
    "\n",
    "- Did the Patriots' footballs drop in pressure more than the Colts'?\n",
    "    - We want to test whether two samples came from the same distribution – this calls for a permutation test."
   ]
  },
  {
   "cell_type": "markdown",
   "metadata": {
    "slideshow": {
     "slide_type": "slide"
    }
   },
   "source": [
    "### You Try: Permutation Test\n",
    "\n",
    "1. State null and alternative hypotheses.\n",
    "1. Pick an appropriate test statistic.\n",
    "1. Simulate drawing a sample by shuffling the pressure drops (`psi_drop`). Then, calculate your test statistic on the sample.\n",
    "1. Repeat step 3 5,000 times. Store your results in an array called `differences`.\n",
    "1. Plot `differences` on a histogram, then plot the observed statistic as a vertical line.\n",
    "1. Calculate the p-value, and draw a conclusion."
   ]
  },
  {
   "cell_type": "code",
   "execution_count": null,
   "metadata": {},
   "outputs": [],
   "source": []
  },
  {
   "cell_type": "code",
   "execution_count": null,
   "metadata": {},
   "outputs": [],
   "source": []
  },
  {
   "cell_type": "code",
   "execution_count": null,
   "metadata": {},
   "outputs": [],
   "source": []
  },
  {
   "cell_type": "code",
   "execution_count": null,
   "metadata": {},
   "outputs": [],
   "source": []
  },
  {
   "cell_type": "markdown",
   "metadata": {
    "slideshow": {
     "slide_type": "slide"
    }
   },
   "source": [
    "### Caution! ⚠️\n",
    "\n",
    "- We conclude that it is unlikely that the difference in mean pressure drop is due to chance alone.\n",
    "- But this doesn't establish *causation*.\n",
    "- That is, we can't conclude that the Patriots **intentionally** deflated their footballs.\n",
    "- This was an *observational* study; to establish causation, we'd need an RCT (Randomized Controlled Trial)."
   ]
  },
  {
   "cell_type": "markdown",
   "metadata": {
    "slideshow": {
     "slide_type": "slide"
    }
   },
   "source": [
    "### Aftermath\n",
    "\n",
    "- Quote from an investigative report commissioned by the NFL:\n",
    "\n",
    "> “[T]he average pressure drop of the Patriots game balls exceeded the average pressure drop of the Colts balls by 0.45 to 1.02 psi, depending on various possible assumptions regarding the gauges used, and assuming an initial pressure of 12.5 psi for the Patriots balls and 13.0 for the Colts balls.”\n",
    "\n",
    "- Many different methods were used to determine whether the drop in pressures were due to chance, including physics. \n",
    "    - We computed an observed difference of 0.7335, which is in line with the findings of the report. \n",
    "- In the end, Tom Brady (quarterback for the Patriots at the time) was suspended 4 games and the team was fined $1 million dollars.\n",
    "- The [Deflategate Wikipedia article](https://en.wikipedia.org/wiki/Deflategate) is extremely thorough, give it a read if you're curious!"
   ]
  },
  {
   "cell_type": "markdown",
   "metadata": {
    "slideshow": {
     "slide_type": "slide"
    }
   },
   "source": [
    "## Causality example: chronic back pain"
   ]
  },
  {
   "cell_type": "markdown",
   "metadata": {
    "slideshow": {
     "slide_type": "slide"
    }
   },
   "source": [
    "### Causality and permutation tests\n",
    "\n",
    "- Permutation tests can be used to establish **causality** in a randomized control trial!\n",
    "- If the only difference between two groups is that one was given the treatment, and there is a statistically significant difference between the two groups, then we can conclude the treatment had some effect."
   ]
  },
  {
   "cell_type": "markdown",
   "metadata": {
    "slideshow": {
     "slide_type": "slide"
    }
   },
   "source": [
    "### Using Botulinum toxin A (Botox) to treat lower back pain\n",
    "\n",
    "\n",
    "> [Botulinum neurotoxins (BoNTs) are the most potent toxins known.](https://febs.onlinelibrary.wiley.com/doi/10.1002/1873-3468.13446)\n",
    "\n",
    "- Botox is commonly used for treating muscle disorders, migraines, and for cosmetic purposes.\n",
    "- A randomized controlled trial examined the use of Botox in the treatment of lower back pain.\n",
    "    - 31 patients with pain were randomly assigned to control and treatment groups.\n",
    "    - The control group received a placebo (saline injection).\n",
    "        - Placebos are used when we don't want individuals to know which group they are in.\n",
    "    - The treatment group received Botox.\n",
    "    - After eight weeks, the number of people who experienced relief in both groups was counted."
   ]
  },
  {
   "cell_type": "markdown",
   "metadata": {
    "slideshow": {
     "slide_type": "slide"
    }
   },
   "source": [
    "### The data\n",
    "\n",
    "- 1 means \"experienced relief\".\n",
    "- 0 means \"no relief\"."
   ]
  },
  {
   "cell_type": "code",
   "execution_count": null,
   "metadata": {},
   "outputs": [],
   "source": [
    "back = bpd.read_csv('data/bta.csv')\n",
    "back"
   ]
  },
  {
   "cell_type": "code",
   "execution_count": null,
   "metadata": {},
   "outputs": [],
   "source": [
    "back.groupby('Group').count()"
   ]
  },
  {
   "cell_type": "markdown",
   "metadata": {
    "slideshow": {
     "slide_type": "slide"
    }
   },
   "source": [
    "### The results"
   ]
  },
  {
   "cell_type": "code",
   "execution_count": null,
   "metadata": {},
   "outputs": [],
   "source": [
    "# This evaluates to the proportion experiencing relief in each group\n",
    "back.groupby('Group').mean()"
   ]
  },
  {
   "cell_type": "markdown",
   "metadata": {},
   "source": [
    "- 60% of the treatment group experienced relief, compared to 12.5% of the control group.\n",
    "- But what if the people in the treatment group would have gotten better without the treatment, by chance?\n",
    "    - If this were the case, then the treatment would look like it had an impact even if it didn't.\n",
    "    - To account for this possibility, we should conduct a hypothesis test."
   ]
  },
  {
   "cell_type": "markdown",
   "metadata": {
    "slideshow": {
     "slide_type": "slide"
    }
   },
   "source": [
    "### A permutation test\n",
    "\n",
    "- Here, we have two numerical samples – the results for the control group, and the results for the treatment group.\n",
    "- **Null hypothesis**: Results for both groups come from the same distribution. \n",
    "    - In other words, Botox does not do anything different than saline, and the results we saw are due to chance. \n",
    "- **Alternative hypothesis**: More people in the treatment group experience relief.\n",
    "    - In other words, Botox helped with relief more than saline.\n",
    "- **Test statistic**: difference in proportion experiencing relief."
   ]
  },
  {
   "cell_type": "code",
   "execution_count": null,
   "metadata": {},
   "outputs": [],
   "source": []
  },
  {
   "cell_type": "code",
   "execution_count": null,
   "metadata": {},
   "outputs": [],
   "source": []
  },
  {
   "cell_type": "code",
   "execution_count": null,
   "metadata": {},
   "outputs": [],
   "source": []
  },
  {
   "cell_type": "code",
   "execution_count": null,
   "metadata": {},
   "outputs": [],
   "source": []
  },
  {
   "cell_type": "markdown",
   "metadata": {
    "slideshow": {
     "slide_type": "slide"
    }
   },
   "source": [
    "### Conclusion\n",
    "\n",
    "- We reject the null hypothesis with a high degree of confidence.\n",
    "- This is evidence that the treatment **caused** improvement.\n",
    "    - **Only because** this was a **randomized controlled trial**.\n",
    "    - In earlier examples (e.g. birth weights of babies from smoking moms and nonsmoking moms), we could not establish causality because there could have been other differences between the two groups.\n",
    "- Read more about this example in [CIT 12.2](https://inferentialthinking.com/chapters/12/2/Causality.html?highlight=randomized%20control#potential-outcomes)."
   ]
  },
  {
   "cell_type": "markdown",
   "metadata": {
    "slideshow": {
     "slide_type": "slide"
    }
   },
   "source": [
    "## Bootstrapping 🥾"
   ]
  },
  {
   "cell_type": "markdown",
   "metadata": {
    "slideshow": {
     "slide_type": "slide"
    }
   },
   "source": [
    "### City of San Diego employee salary data\n",
    "\n",
    "All City of San Diego employee salary data [is public](https://publicpay.ca.gov/Reports/Cities/City.aspx?entityid=405&year=2020&rpt=1). We are using the latest available data."
   ]
  },
  {
   "cell_type": "code",
   "execution_count": null,
   "metadata": {},
   "outputs": [],
   "source": [
    "population = bpd.read_csv('data/2020_salaries.csv')\n",
    "population"
   ]
  },
  {
   "cell_type": "markdown",
   "metadata": {
    "slideshow": {
     "slide_type": "slide"
    }
   },
   "source": [
    "When you load in a dataset that has so many columns that you can't see them all, it's a good idea to look at the column names."
   ]
  },
  {
   "cell_type": "code",
   "execution_count": null,
   "metadata": {},
   "outputs": [],
   "source": [
    "population.columns"
   ]
  },
  {
   "cell_type": "markdown",
   "metadata": {
    "slideshow": {
     "slide_type": "slide"
    }
   },
   "source": [
    "### We only need the total wages..."
   ]
  },
  {
   "cell_type": "code",
   "execution_count": null,
   "metadata": {},
   "outputs": [],
   "source": [
    "population = population.get(['TotalWages'])\n",
    "population"
   ]
  },
  {
   "cell_type": "code",
   "execution_count": null,
   "metadata": {
    "scrolled": false
   },
   "outputs": [],
   "source": [
    "population.plot(kind='hist', bins=np.arange(0, 325000, 10000), density=True, ec='w', figsize=(10, 5));"
   ]
  },
  {
   "cell_type": "markdown",
   "metadata": {
    "slideshow": {
     "slide_type": "slide"
    }
   },
   "source": [
    "### The median salary\n",
    "\n",
    "- We can use `.median()` to find the median salary of all city employees.\n",
    "- This is **not** a random quantity."
   ]
  },
  {
   "cell_type": "code",
   "execution_count": null,
   "metadata": {},
   "outputs": [],
   "source": [
    "population_median = population.get('TotalWages').median()\n",
    "population_median"
   ]
  },
  {
   "cell_type": "markdown",
   "metadata": {
    "slideshow": {
     "slide_type": "slide"
    }
   },
   "source": [
    "### Let's be realistic...\n",
    "\n",
    "- In practice, it is costly and time-consuming to survey **all** 12,000+ employees.\n",
    "    - More generally, we can't expect to survey all members of the population we care about.\n",
    "- Instead, we gather salaries for a random sample of, say, 500 people.\n",
    "- Hopefully, the median of the sample is close to the median of the population."
   ]
  },
  {
   "cell_type": "markdown",
   "metadata": {
    "slideshow": {
     "slide_type": "slide"
    }
   },
   "source": [
    "### In the language of statistics\n",
    "\n",
    "- The full DataFrame of salaries is the **population**.\n",
    "- We observe a **sample** of 500 salaries from the population.\n",
    "- We want to determine the **population median (a parameter)**, but we don't have the whole population, so instead we use the **sample median (a statistic) as an estimate**.\n",
    "- Hopefully the sample median is close to the population median."
   ]
  },
  {
   "cell_type": "markdown",
   "metadata": {
    "slideshow": {
     "slide_type": "slide"
    }
   },
   "source": [
    "### The sample median\n",
    "\n",
    "- Let's survey 500 employees at random.\n",
    "- We can use `.sample()`:"
   ]
  },
  {
   "cell_type": "code",
   "execution_count": null,
   "metadata": {},
   "outputs": [],
   "source": [
    "np.random.seed(23) # Magic to ensure that we get the same results every time this code is run\n",
    "\n",
    "# Take a sample of size 500\n",
    "my_sample = population.sample(500)\n",
    "my_sample"
   ]
  },
  {
   "cell_type": "markdown",
   "metadata": {},
   "source": [
    "We won't reassign `my_sample` at any point in this notebook, so it will always refer to this particular sample."
   ]
  },
  {
   "cell_type": "code",
   "execution_count": null,
   "metadata": {},
   "outputs": [],
   "source": [
    "# Compute the sample median\n",
    "sample_median = my_sample.get('TotalWages').median()\n",
    "sample_median"
   ]
  },
  {
   "cell_type": "markdown",
   "metadata": {
    "slideshow": {
     "slide_type": "slide"
    }
   },
   "source": [
    "### How confident are we that this is a good estimate?\n",
    "\n",
    "- Our estimate depended on a random sample.\n",
    "- If our sample was different, our estimate may have been different, too.\n",
    "- **How different could our estimate have been?**\n",
    "- Our confidence in the estimate depends on the answer to this question."
   ]
  },
  {
   "cell_type": "markdown",
   "metadata": {
    "slideshow": {
     "slide_type": "slide"
    }
   },
   "source": [
    "### The sample median is random\n",
    "\n",
    "- The sample median is a random number.\n",
    "- It comes from some distribution, which we don't know.\n",
    "- How different could our estimate have been, if we drew a different sample?\n",
    "    - \"Narrow\" distribution $\\Rightarrow$ not too different.\n",
    "    - \"Wide\" distribution $\\Rightarrow$ quite different.\n",
    "- **What is the distribution of the sample median?**"
   ]
  },
  {
   "cell_type": "markdown",
   "metadata": {
    "slideshow": {
     "slide_type": "slide"
    }
   },
   "source": [
    "### An impractical approach\n",
    "\n",
    "- One idea: repeatedly collect random samples of 500 **from the population** and compute its median.\n",
    "    - This is what we did in Lecture 14 to compute an empirical distribution of the sample mean of flight delays.\n",
    "- We can plot the empirical distribution of the sample median with a histogram.\n",
    "- This is an approximation of the true distribution of the sample median, using 1000 samples."
   ]
  },
  {
   "cell_type": "code",
   "execution_count": null,
   "metadata": {},
   "outputs": [],
   "source": [
    "sample_medians = np.array([])\n",
    "for i in np.arange(1_000):\n",
    "    median = population.sample(500).get('TotalWages').median()\n",
    "    sample_medians = np.append(sample_medians, median)\n",
    "sample_medians"
   ]
  },
  {
   "cell_type": "code",
   "execution_count": null,
   "metadata": {},
   "outputs": [],
   "source": [
    "(bpd.DataFrame()\n",
    " .assign(SampleMedians=sample_medians)\n",
    " .plot(kind='hist', density=True,\n",
    "       bins=30, ec='w', figsize=(8, 5))\n",
    ");"
   ]
  },
  {
   "cell_type": "markdown",
   "metadata": {
    "slideshow": {
     "slide_type": "slide"
    }
   },
   "source": [
    "### The problem\n",
    "\n",
    "- Drawing new samples like this is impractical.\n",
    "    - If we were able to do this, why not just collect more data in the first place?\n",
    "- Often, we can't ask for new samples from the population.\n",
    "- **Key insight:** our original sample, `my_sample`, looks a lot like the population.\n",
    "    - Their distributions are similar."
   ]
  },
  {
   "cell_type": "code",
   "execution_count": null,
   "metadata": {},
   "outputs": [],
   "source": [
    "fig, ax = plt.subplots(figsize=(10, 5))\n",
    "bins=np.arange(10_000, 300_000, 10_000)\n",
    "population.plot(kind='hist', y='TotalWages', ax=ax, density=True, alpha=.75, bins=bins, ec='w')\n",
    "my_sample.plot(kind='hist', y='TotalWages', ax=ax, density=True, alpha=.75, bins=bins, ec='w')\n",
    "plt.legend(['Population', 'My Sample']);"
   ]
  },
  {
   "cell_type": "markdown",
   "metadata": {
    "slideshow": {
     "slide_type": "fragment"
    }
   },
   "source": [
    "Note that unlike the previous histogram we saw, this is depicting the distribution of the population and of one particular sample (`my_sample`), **not** the distribution of sample medians for 246 samples."
   ]
  },
  {
   "cell_type": "markdown",
   "metadata": {
    "slideshow": {
     "slide_type": "slide"
    }
   },
   "source": [
    "### The bootstrap\n",
    "\n",
    "- **Big idea:** Use the sample to simulate more samples.\n",
    "    - The sample itself looks like the population.\n",
    "    - So, resampling from the sample is like sampling from the population.\n",
    "    - The act of resampling from a sample is called **bootstrapping** or \"**the bootstrap**\" method.\n",
    "\n",
    "- In our case specifically:\n",
    "    - We have a sample of 500 salaries.\n",
    "    - We want another sample of 500 salaries, but we can't draw from the population.\n",
    "    - However, the original sample looks like the population.\n",
    "    - So, let's just **resample from the sample!**"
   ]
  },
  {
   "cell_type": "code",
   "execution_count": null,
   "metadata": {
    "scrolled": false,
    "slideshow": {
     "slide_type": "slide"
    }
   },
   "outputs": [],
   "source": [
    "show_bootstrapping_slides()"
   ]
  },
  {
   "cell_type": "markdown",
   "metadata": {
    "slideshow": {
     "slide_type": "slide"
    }
   },
   "source": [
    "### Resampling with replacement\n",
    "\n",
    "When bootstrapping, we resample **with** replacement. Why? 🤔"
   ]
  },
  {
   "cell_type": "markdown",
   "metadata": {
    "slideshow": {
     "slide_type": "slide"
    }
   },
   "source": [
    "### Resampling with replacement\n",
    "\n",
    "- Our goal when bootstrapping is to create a sample of the same size as our original sample.\n",
    "- If we were to resample without replacement $n$ times from an original sample of size $n$, our resample would look exactly the same as the original sample.\n",
    "    - For instance, if we sample 5 elements without replacement from `['A', 'B', 'C', 'D', 'E']`, our sample will contain the same 5 characters, just in a different order.\n",
    "- So, we need to sample **with replacement** to ensure that our resamples can be different from the original sample.\n",
    "- Why does this work? If we assume population is large, sampling with replacement is approx the same as sampling without replacement."
   ]
  },
  {
   "cell_type": "markdown",
   "metadata": {
    "slideshow": {
     "slide_type": "slide"
    }
   },
   "source": [
    "### Running the bootstrap\n",
    "\n",
    "- We can simulate the act of collecting new samples by **sampling with replacement from our original sample, `my_sample`**."
   ]
  },
  {
   "cell_type": "code",
   "execution_count": null,
   "metadata": {},
   "outputs": [],
   "source": [
    "# Note that the population DataFrame doesn't appear anywhere here!"
   ]
  },
  {
   "cell_type": "code",
   "execution_count": null,
   "metadata": {},
   "outputs": [],
   "source": [
    "boot_medians"
   ]
  },
  {
   "cell_type": "markdown",
   "metadata": {
    "slideshow": {
     "slide_type": "slide"
    }
   },
   "source": [
    "### Bootstrap distribution of the sample median"
   ]
  },
  {
   "cell_type": "code",
   "execution_count": null,
   "metadata": {
    "scrolled": false
   },
   "outputs": [],
   "source": [
    "bpd.DataFrame().assign(BootstrapMedians=boot_medians).plot(kind='hist', density=True, bins=np.arange(60000, 85000, 1000), ec='w', figsize=(10, 5))\n",
    "plt.scatter(population_median, 0.000004, color='orange', s=100, label='population median').set_zorder(2)\n",
    "plt.legend();"
   ]
  },
  {
   "cell_type": "markdown",
   "metadata": {
    "slideshow": {
     "slide_type": "fragment"
    }
   },
   "source": [
    "- The population median (orange dot) is near the middle.\n",
    "    - **In reality, we'd never get to see this!**"
   ]
  },
  {
   "cell_type": "markdown",
   "metadata": {
    "slideshow": {
     "slide_type": "slide"
    }
   },
   "source": [
    "## What's the bootstrap useful for?\n",
    "\n",
    "- We have a sample median wage:"
   ]
  },
  {
   "cell_type": "code",
   "execution_count": null,
   "metadata": {},
   "outputs": [],
   "source": [
    "my_sample.get('TotalWages').median()"
   ]
  },
  {
   "cell_type": "markdown",
   "metadata": {
    "slideshow": {
     "slide_type": "fragment"
    }
   },
   "source": [
    "- And now we can say: the population median wage is approx \\\\$69616.\n",
    "    - But how approximate?"
   ]
  },
  {
   "cell_type": "code",
   "execution_count": null,
   "metadata": {
    "scrolled": false,
    "slideshow": {
     "slide_type": "slide"
    }
   },
   "outputs": [],
   "source": [
    "(bpd.DataFrame()\n",
    " .assign(BootstrapMedians=boot_medians)\n",
    " .plot(kind='hist', density=True, bins=np.arange(60000, 85000, 1000), ec='w', figsize=(10, 5))\n",
    ")\n",
    "# plt.scatter(population_median, 0.000004, color='orange', s=100, label='population median').set_zorder(2)\n",
    "plt.legend();"
   ]
  },
  {
   "cell_type": "markdown",
   "metadata": {
    "slideshow": {
     "slide_type": "fragment"
    }
   },
   "source": [
    "- So now we can say: my guess for the population median wage is that it's between \\\\$65,000 and \\\\$75,000.\n",
    "- Next time, we'll talk about how to set this range precisely."
   ]
  },
  {
   "cell_type": "markdown",
   "metadata": {
    "slideshow": {
     "slide_type": "slide"
    }
   },
   "source": [
    "## Why does it matter?\n",
    "\n",
    "- Now, we're learning estimation techniques that are more applicable to real life.\n",
    "- Real life: no population, only a sample!\n",
    "- Using the bootstrap lets us **quantify uncertainty**.\n",
    "    - With one sample, I might think population median wage is between \\\\$65,000 and \\\\$75,000.\n",
    "    - With another, I might think it's between \\\\$68,000 and \\\\$71,000.\n",
    "    - In the second case, I'm more certain about my estimate.\n",
    "- Next time: we'll make this rigorous and say exactly what uncertainty means."
   ]
  }
 ],
 "metadata": {
  "kernelspec": {
   "display_name": "Python 3 (ipykernel)",
   "language": "python",
   "name": "python3"
  },
  "language_info": {
   "codemirror_mode": {
    "name": "ipython",
    "version": 3
   },
   "file_extension": ".py",
   "mimetype": "text/x-python",
   "name": "python",
   "nbconvert_exporter": "python",
   "pygments_lexer": "ipython3",
   "version": "3.8.5"
  },
  "livereveal": {
   "scroll": true,
   "transition": "none"
  }
 },
 "nbformat": 4,
 "nbformat_minor": 2
}
