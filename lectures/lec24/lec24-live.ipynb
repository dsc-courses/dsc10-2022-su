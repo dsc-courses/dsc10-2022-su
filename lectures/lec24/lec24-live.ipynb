{
 "cells": [
  {
   "cell_type": "code",
   "execution_count": null,
   "metadata": {
    "slideshow": {
     "slide_type": "skip"
    }
   },
   "outputs": [],
   "source": [
    "# Set up packages for lecture. Don't worry about understanding this code, but\n",
    "# make sure to run it if you're following along.\n",
    "import numpy as np\n",
    "import babypandas as bpd\n",
    "import pandas as pd\n",
    "from matplotlib_inline.backend_inline import set_matplotlib_formats\n",
    "import matplotlib.pyplot as plt\n",
    "from scipy import stats\n",
    "%reload_ext pandas_tutor\n",
    "%set_pandas_tutor_options {'projectorMode': True}\n",
    "set_matplotlib_formats(\"svg\")\n",
    "plt.style.use('fivethirtyeight')\n",
    "\n",
    "np.set_printoptions(threshold=20, precision=2, suppress=True)\n",
    "pd.set_option(\"display.max_rows\", 7)\n",
    "pd.set_option(\"display.max_columns\", 8)\n",
    "pd.set_option(\"display.precision\", 2)\n",
    "\n",
    "# Demonstration code\n",
    "def r_scatter(r):\n",
    "    \"Generate a scatter plot with a correlation approximately r\"\n",
    "    x = np.random.normal(0, 1, 1000)\n",
    "    z = np.random.normal(0, 1, 1000)\n",
    "    y = r * x + (np.sqrt(1 - r ** 2)) * z\n",
    "    plt.scatter(x, y)\n",
    "    plt.xlim(-4, 4)\n",
    "    plt.ylim(-4, 4)\n",
    "    \n",
    "def show_scatter_grid():\n",
    "    plt.subplots(1, 4, figsize=(10, 2))\n",
    "    for i, r in enumerate([-1, -2/3, -1/3, 0]):\n",
    "        plt.subplot(1, 4, i+1)\n",
    "        r_scatter(r)\n",
    "        plt.title(f'r = {np.round(r, 2)}')\n",
    "    plt.show()\n",
    "    plt.subplots(1, 4, figsize=(10, 2))\n",
    "    for i, r in enumerate([1, 2/3, 1/3]):\n",
    "        plt.subplot(1, 4, i+1)\n",
    "        r_scatter(r)\n",
    "        plt.title(f'r = {np.round(r, 2)}')\n",
    "    plt.subplot(1, 4, 4)\n",
    "    plt.axis('off')\n",
    "    plt.show()"
   ]
  },
  {
   "cell_type": "markdown",
   "metadata": {
    "slideshow": {
     "slide_type": "slide"
    }
   },
   "source": [
    "# Lecture 24 – Prediction and Correlation\n",
    "\n",
    "## DSC 10, Summer 2022"
   ]
  },
  {
   "cell_type": "markdown",
   "metadata": {
    "slideshow": {
     "slide_type": "slide"
    }
   },
   "source": [
    "### Announcements\n",
    "\n",
    "- Homework 7 is due **Sat at 11:59pm**.\n",
    "- Lab 8 is due on **Tues at 11:59pm**.\n",
    "- The Final Project is due on **Wednesday 8/31 at 11:59pm**\n",
    "    - Start if you haven't already!"
   ]
  },
  {
   "cell_type": "markdown",
   "metadata": {
    "slideshow": {
     "slide_type": "slide"
    }
   },
   "source": [
    "### Agenda\n",
    "\n",
    "- Prediction.\n",
    "- Correlation.\n",
    "- Regression."
   ]
  },
  {
   "cell_type": "markdown",
   "metadata": {
    "slideshow": {
     "slide_type": "slide"
    }
   },
   "source": [
    "## Prediction"
   ]
  },
  {
   "cell_type": "markdown",
   "metadata": {
    "slideshow": {
     "slide_type": "slide"
    }
   },
   "source": [
    "### Prediction\n",
    "\n",
    "- Suppose we have a dataset with at least two variables, e.g. education level and income.\n",
    "- We're interested in **predicting** the future – predicting one variable based on another:\n",
    "    - Given my education level, what is my income?\n",
    "    - Given my height, how tall will my kid be as an adult?\n",
    "    - Given the difficulty of a recipe, how many dirty dishes will it create? \n",
    "- To do this, we need to first observe a pattern between the two variables."
   ]
  },
  {
   "cell_type": "markdown",
   "metadata": {
    "slideshow": {
     "slide_type": "slide"
    }
   },
   "source": [
    "### Association\n",
    "\n",
    "- An **association** is any link or relationship between two variables in a scatter plot.\n",
    "- Associations can be linear or non-linear.\n",
    "- If two variables have a positive association, then as one variable increases, the other tends to increase.\n",
    "- If two variables have a negative association, then as one variable increases, the other tends to decrease.\n",
    "- As we saw earlier in the quarter, association $\\neq$ causation!\n",
    "    - But, just an association is enough to let us make predictions."
   ]
  },
  {
   "cell_type": "markdown",
   "metadata": {
    "slideshow": {
     "slide_type": "slide"
    }
   },
   "source": [
    "### Example: hybrid cars"
   ]
  },
  {
   "cell_type": "code",
   "execution_count": null,
   "metadata": {},
   "outputs": [],
   "source": [
    "hybrid = bpd.read_csv('data/hybrid.csv')\n",
    "hybrid"
   ]
  },
  {
   "cell_type": "markdown",
   "metadata": {
    "slideshow": {
     "slide_type": "slide"
    }
   },
   "source": [
    "### `'acceleration'` and `'msrp'`\n",
    "- Is there an association?\n",
    "- What kind of association?"
   ]
  },
  {
   "cell_type": "code",
   "execution_count": null,
   "metadata": {},
   "outputs": [],
   "source": [
    "hybrid.plot(kind='scatter', x='acceleration', y='msrp', figsize=(10, 5));"
   ]
  },
  {
   "cell_type": "markdown",
   "metadata": {
    "slideshow": {
     "slide_type": "slide"
    }
   },
   "source": [
    "### `'mpg'` and `'msrp'`\n",
    "\n",
    "- Is there an association?\n",
    "- What kind of association?"
   ]
  },
  {
   "cell_type": "code",
   "execution_count": null,
   "metadata": {},
   "outputs": [],
   "source": [
    "hybrid.plot(kind='scatter', x='mpg', y='msrp', figsize=(10, 5));"
   ]
  },
  {
   "cell_type": "markdown",
   "metadata": {
    "slideshow": {
     "slide_type": "fragment"
    }
   },
   "source": [
    "**Observations:**\n",
    "- There is an association – cars with better fuel economy tended to be cheaper.\n",
    "    - Why is that? 🤔\n",
    "- The association looks more curved than linear. \n",
    "    - It may roughly follow $y \\approx \\frac{1}{x}$.\n",
    "   "
   ]
  },
  {
   "cell_type": "markdown",
   "metadata": {
    "slideshow": {
     "slide_type": "slide"
    }
   },
   "source": [
    "### Understanding units\n",
    "- A linear change in units doesn't change the shape of the plot, it only changes the scale of the plot.\n",
    "    - Linear change means adding or subtracting a constant, and multiplying or dividing by a constant.\n",
    "- In other words, instead of plotting price in _dollars_ and fuel economy in _MPG_, we can plot price in _Euros_ and fuel economy in _kilometers per liter_ and the plot would look the same, just with different axes:"
   ]
  },
  {
   "cell_type": "code",
   "execution_count": null,
   "metadata": {
    "slideshow": {
     "slide_type": "-"
    }
   },
   "outputs": [],
   "source": [
    "hybrid.assign(\n",
    "        km_per_liter=hybrid.get('mpg') * 0.425144,\n",
    "        eur=hybrid.get('msrp') * 0.95 \n",
    ").plot(kind='scatter', x='km_per_liter', y='eur', figsize=(10, 5));"
   ]
  },
  {
   "cell_type": "markdown",
   "metadata": {
    "slideshow": {
     "slide_type": "slide"
    }
   },
   "source": [
    "### Converting columns to standard units\n",
    "- Recall: to convert $x$ to standard units, we compute\n",
    "\n",
    "$$z(x) = \\frac{x - \\text{mean of all $x$s}}{\\text{SD of all $x$s}}$$\n",
    "\n",
    "- Converting columns to standard units makes different scatter plots comparable, by making the $x$ and $y$ axes \"similarly scaled.\"\n",
    "    - Both axes measure the number of standard deviations a data point is above or below its mean.\n",
    "- Converting columns to standard units doesn't change shape of the scatter plot (the conversion is linear)."
   ]
  },
  {
   "cell_type": "markdown",
   "metadata": {
    "slideshow": {
     "slide_type": "slide"
    }
   },
   "source": [
    "### You Try: Standard Units\n",
    "\n",
    "Fill in the function `standard_units`. It takes in an array of numbers and returns the array converted to standard units.\n",
    "\n",
    "Afetr writing `standard_units`, the `standardize` function should work."
   ]
  },
  {
   "cell_type": "code",
   "execution_count": null,
   "metadata": {},
   "outputs": [],
   "source": [
    "def standard_units(any_numbers):\n",
    "    \"Convert any array of numbers to standard units.\"\n",
    "    ..."
   ]
  },
  {
   "cell_type": "code",
   "execution_count": null,
   "metadata": {},
   "outputs": [],
   "source": [
    "def standardize(df):\n",
    "    \"\"\"Return a DataFrame in which all columns of df are converted to standard units.\"\"\"\n",
    "    df_su = bpd.DataFrame()\n",
    "    for column in df.columns:\n",
    "        df_su = df_su.assign(**{column + ' (su)': standard_units(df.get(column))})\n",
    "    return df_su"
   ]
  },
  {
   "cell_type": "code",
   "execution_count": null,
   "metadata": {},
   "outputs": [],
   "source": [
    "# If your code is right, this cell should output a dataframe with the\n",
    "# standardized acceleration and msrp columns\n",
    "standardize(hybrid.get(['acceleration', 'msrp']))"
   ]
  },
  {
   "cell_type": "markdown",
   "metadata": {
    "slideshow": {
     "slide_type": "slide"
    }
   },
   "source": [
    "### Standard units for hybrid cars\n",
    "For a given pair of variables:\n",
    "- Which cars are average from both perspectives?\n",
    "- Which cars are both well above/below average?"
   ]
  },
  {
   "cell_type": "code",
   "execution_count": null,
   "metadata": {
    "scrolled": false
   },
   "outputs": [],
   "source": [
    "hybrid_su = ...\n",
    "hybrid_su"
   ]
  },
  {
   "cell_type": "markdown",
   "metadata": {
    "slideshow": {
     "slide_type": "slide"
    }
   },
   "source": [
    "### `'acceleration'` and `'msrp'`"
   ]
  },
  {
   "cell_type": "code",
   "execution_count": null,
   "metadata": {
    "scrolled": false,
    "slideshow": {
     "slide_type": "-"
    }
   },
   "outputs": [],
   "source": [
    "hybrid_su.plot(kind='scatter', x='acceleration (su)', y='msrp (su)', figsize=(10, 5));"
   ]
  },
  {
   "cell_type": "markdown",
   "metadata": {},
   "source": [
    "Which cars have `'acceleration'`s and `'msrp'`s that are more than 2 SDs above average?"
   ]
  },
  {
   "cell_type": "code",
   "execution_count": null,
   "metadata": {
    "slideshow": {
     "slide_type": "-"
    }
   },
   "outputs": [],
   "source": [
    "hybrid_su[(hybrid_su.get('acceleration (su)') > 2) &\n",
    "          (hybrid_su.get('msrp (su)') > 2)]"
   ]
  },
  {
   "cell_type": "markdown",
   "metadata": {
    "slideshow": {
     "slide_type": "slide"
    }
   },
   "source": [
    "### `'mpg'` and `'msrp'`"
   ]
  },
  {
   "cell_type": "code",
   "execution_count": null,
   "metadata": {
    "scrolled": false,
    "slideshow": {
     "slide_type": "-"
    }
   },
   "outputs": [],
   "source": [
    "hybrid_su.plot(kind='scatter', x='mpg (su)', y='msrp (su)', figsize=(10, 5));"
   ]
  },
  {
   "cell_type": "markdown",
   "metadata": {
    "slideshow": {
     "slide_type": "-"
    }
   },
   "source": [
    "Which cars have close to average `'mpg'`s and close to average `'msrp'`s?"
   ]
  },
  {
   "cell_type": "code",
   "execution_count": null,
   "metadata": {},
   "outputs": [],
   "source": [
    "hybrid_su[(hybrid_su.get('mpg (su)') <= 0.3) &\n",
    "          (hybrid_su.get('mpg (su)') >= -0.3) &\n",
    "          (hybrid_su.get('msrp (su)') <= 0.3) &\n",
    "          (hybrid_su.get('msrp (su)') >= -0.3)]"
   ]
  },
  {
   "cell_type": "markdown",
   "metadata": {
    "slideshow": {
     "slide_type": "slide"
    }
   },
   "source": [
    "### Observation on associations in standard units\n",
    "- If two variables are positively associated,\n",
    "    - their high, positive values in standard units are typically seen together, and\n",
    "    - their low, negative values are seen together as well.\n",
    "- If two variables are negatively associated,\n",
    "    - high, positive values of one are typically coupled with low, negative values of the other.\n",
    "- If two variables aren't associated, there should be no such pattern."
   ]
  },
  {
   "cell_type": "code",
   "execution_count": null,
   "metadata": {
    "slideshow": {
     "slide_type": "slide"
    }
   },
   "outputs": [],
   "source": [
    "hybrid_su.plot(kind='scatter', x='acceleration (su)', y='msrp (su)', figsize=(10, 5))\n",
    "plt.axvline(0, color='black');\n",
    "plt.axhline(0, color='black');"
   ]
  },
  {
   "cell_type": "code",
   "execution_count": null,
   "metadata": {
    "slideshow": {
     "slide_type": "slide"
    }
   },
   "outputs": [],
   "source": [
    "hybrid_su.plot(kind='scatter', x='mpg (su)', y='msrp (su)', figsize=(10, 5))\n",
    "plt.axvline(0, color='black');\n",
    "plt.axhline(0, color='black');"
   ]
  },
  {
   "cell_type": "markdown",
   "metadata": {
    "slideshow": {
     "slide_type": "slide"
    }
   },
   "source": [
    "## Correlation"
   ]
  },
  {
   "cell_type": "markdown",
   "metadata": {
    "slideshow": {
     "slide_type": "slide"
    }
   },
   "source": [
    "### Definition: correlation coefficient\n",
    "\n",
    "**Definition**: The correlation coefficient $r$ of two variables $x$ and $y$ is the \n",
    "- **average** value of the \n",
    "- **product** of $x$ and $y$\n",
    "- when both are measured in **standard units**.\n",
    "\n",
    "If `x` and `y` are two Series or arrays, \n",
    "```py\n",
    "r = (x_su * y_su).mean()\n",
    "```\n",
    "where `x_su` and `y_su` are `x` and `y` converted to standard units."
   ]
  },
  {
   "cell_type": "markdown",
   "metadata": {
    "slideshow": {
     "slide_type": "slide"
    }
   },
   "source": [
    "Let's calculate $r$ for `'acceleration'` and `'msrp'`."
   ]
  },
  {
   "cell_type": "code",
   "execution_count": null,
   "metadata": {
    "slideshow": {
     "slide_type": "-"
    }
   },
   "outputs": [],
   "source": [
    "hybrid_su"
   ]
  },
  {
   "cell_type": "code",
   "execution_count": null,
   "metadata": {
    "slideshow": {
     "slide_type": "-"
    }
   },
   "outputs": [],
   "source": [
    "r_acc_price = ...\n",
    "r_acc_price"
   ]
  },
  {
   "cell_type": "code",
   "execution_count": null,
   "metadata": {},
   "outputs": [],
   "source": [
    "hybrid_su.plot(kind='scatter', x='acceleration (su)', y='msrp (su)', figsize=(10, 5))\n",
    "plt.axvline(0, color='black');\n",
    "plt.axhline(0, color='black');"
   ]
  },
  {
   "cell_type": "markdown",
   "metadata": {
    "slideshow": {
     "slide_type": "slide"
    }
   },
   "source": [
    "### The correlation coefficient: $r$\n",
    "\n",
    "- $r$ measures how clustered points are around a straight line – **it measures linear association**.\n",
    "    - If two variables are correlated, it means they are linearly associated.\n",
    "- $r$ is always between $-1$ and $1$.\n",
    "    - If $r = 1$, the scatter plot is a line of slope 1.\n",
    "    - If $r = -1$, the scatter plot is a line of slope -1.\n",
    "    - If $r = 0$, there is no linear association (_uncorrelated_).\n",
    "- $r$ is computed based on standard units.\n",
    "    - The correlation between price in _dollars_ and fuel economy in _MPG_ is the same as the correlation between price in _Euros_ and fuel economy in _kilometers per liter_."
   ]
  },
  {
   "cell_type": "markdown",
   "metadata": {
    "slideshow": {
     "slide_type": "slide"
    }
   },
   "source": [
    "Let's now calculate $r$ for `'mpg'` and `'msrp'`."
   ]
  },
  {
   "cell_type": "code",
   "execution_count": null,
   "metadata": {
    "scrolled": false
   },
   "outputs": [],
   "source": [
    "hybrid_su"
   ]
  },
  {
   "cell_type": "code",
   "execution_count": null,
   "metadata": {
    "slideshow": {
     "slide_type": "-"
    }
   },
   "outputs": [],
   "source": [
    "r_mpg_price = ...\n",
    "r_mpg_price"
   ]
  },
  {
   "cell_type": "code",
   "execution_count": null,
   "metadata": {},
   "outputs": [],
   "source": [
    "hybrid_su.plot(kind='scatter', x='mpg (su)', y='msrp (su)', figsize=(10, 5));\n",
    "plt.axvline(0, color='black');\n",
    "plt.axhline(0, color='black');"
   ]
  },
  {
   "cell_type": "markdown",
   "metadata": {
    "slideshow": {
     "slide_type": "slide"
    }
   },
   "source": [
    "### Scatter plots with different correlation coefficients"
   ]
  },
  {
   "cell_type": "code",
   "execution_count": null,
   "metadata": {},
   "outputs": [],
   "source": [
    "show_scatter_grid()"
   ]
  },
  {
   "cell_type": "markdown",
   "metadata": {
    "slideshow": {
     "slide_type": "slide"
    }
   },
   "source": [
    "### Discussion Question\n",
    "\n",
    "Does this scatter plot show:\n",
    "\n",
    "- A. Association and correlation?\n",
    "- B. Association but not correlation?\n",
    "- C. Correlation but not association?\n",
    "- D. Neither association nor correlation?"
   ]
  },
  {
   "cell_type": "code",
   "execution_count": null,
   "metadata": {},
   "outputs": [],
   "source": [
    "x2 = bpd.DataFrame().assign(\n",
    "    x=np.arange(-6, 6.1, 0.5), \n",
    "    y=np.arange(-6, 6.1, 0.5) ** 2\n",
    ")\n",
    "x2.plot(kind='scatter', x='x', y='y', figsize=(10, 5));"
   ]
  },
  {
   "cell_type": "markdown",
   "metadata": {
    "slideshow": {
     "slide_type": "slide"
    }
   },
   "source": [
    "### Answer"
   ]
  },
  {
   "cell_type": "code",
   "execution_count": null,
   "metadata": {},
   "outputs": [],
   "source": []
  },
  {
   "cell_type": "code",
   "execution_count": null,
   "metadata": {},
   "outputs": [],
   "source": []
  },
  {
   "cell_type": "code",
   "execution_count": null,
   "metadata": {},
   "outputs": [],
   "source": []
  },
  {
   "cell_type": "markdown",
   "metadata": {
    "slideshow": {
     "slide_type": "slide"
    }
   },
   "source": [
    "## Regression"
   ]
  },
  {
   "cell_type": "markdown",
   "metadata": {
    "slideshow": {
     "slide_type": "slide"
    }
   },
   "source": [
    "### Goal: predict a child's height from the height of their parents\n",
    "\n",
    "- Earlier in the quarter, we looked at Galton's method of predicting heights.\n",
    "    - A child's \"midparent\" height is a weighted average of the height of their parents.\n",
    "- Observation: Children of shorter parents tend to be shorter!"
   ]
  },
  {
   "cell_type": "code",
   "execution_count": null,
   "metadata": {},
   "outputs": [],
   "source": [
    "galton = bpd.read_csv('data/galton.csv')\n",
    "galton.plot(kind='scatter', x='midparentHeight', y='childHeight', figsize=(10, 5));"
   ]
  },
  {
   "cell_type": "markdown",
   "metadata": {
    "slideshow": {
     "slide_type": "slide"
    }
   },
   "source": [
    "### Goal: predict a child's height from the height of their parents\n",
    "Galton's method involved predicting a child's height by\n",
    "- looking at all midparents within $\\pm 0.5$ inches of the child's midparent height and\n",
    "- averaging the heights of all children of those midparents."
   ]
  },
  {
   "cell_type": "code",
   "execution_count": null,
   "metadata": {},
   "outputs": [],
   "source": [
    "def predict_child(parent_height):\n",
    "    \"\"\"Return a prediction of the height of a child \n",
    "    whose parents have a midparent height of parent_height.\n",
    "    \"\"\"\n",
    "    close_points = galton[(galton.get('midparentHeight') <= parent_height + 0.5) & \n",
    "                          (galton.get('midparentHeight') >= parent_height - 0.5)]\n",
    "    return close_points.get('childHeight').mean()\n",
    "\n",
    "with_predictions = galton.assign(\n",
    "    Prediction=galton.get('midparentHeight').apply(predict_child)\n",
    ")\n",
    "with_predictions"
   ]
  },
  {
   "cell_type": "code",
   "execution_count": null,
   "metadata": {
    "slideshow": {
     "slide_type": "slide"
    }
   },
   "outputs": [],
   "source": [
    "ax = with_predictions.plot(kind='scatter', x='midparentHeight', y='childHeight')\n",
    "with_predictions.plot(kind='scatter', x='midparentHeight', y='Prediction', ax=ax, color='C2', label=\"graph of averages\", figsize=(10, 5));\n",
    "plt.legend();"
   ]
  },
  {
   "cell_type": "markdown",
   "metadata": {
    "slideshow": {
     "slide_type": "fragment"
    }
   },
   "source": [
    "- This is a **graph of averages**.\n",
    "- We grouped each $x$ value with nearby $x$ values, and averaged the corresponding $y$ values for each group.\n",
    "- Each gold point corresponds to the predicted $y$ value for each group.\n",
    "- Notice: the graph of averages looks like a straight line! **Let's try to find that line.**"
   ]
  },
  {
   "cell_type": "markdown",
   "metadata": {
    "slideshow": {
     "slide_type": "slide"
    }
   },
   "source": [
    "### Correlation\n",
    "\n",
    "Let's calculate the correlation between `'midparentHeight'` and `'childHeight'`."
   ]
  },
  {
   "cell_type": "code",
   "execution_count": null,
   "metadata": {},
   "outputs": [],
   "source": []
  },
  {
   "cell_type": "code",
   "execution_count": null,
   "metadata": {},
   "outputs": [],
   "source": []
  },
  {
   "cell_type": "markdown",
   "metadata": {
    "slideshow": {
     "slide_type": "slide"
    }
   },
   "source": [
    "### The regression line\n",
    "\n",
    "Suppose **$x$ and $y$ are in standard units**, and $r$ is the correlation coefficient between $x$ and $y$. Then, the regression line is defined as follows:\n",
    "\n",
    "<center><img src='data/regression-line.png' width=400></center>\n",
    "\n",
    "- The regression line is the line through $(0,0)$ with slope $r$.\n",
    "- If $x$ and $y$ are linearly associated, then the graph of averages will be very similar to the regression line.\n",
    "- If the regression line is given by $f(x) = mx + b$, then the prediction for $x$ is given by $f(x)$."
   ]
  },
  {
   "cell_type": "code",
   "execution_count": null,
   "metadata": {
    "slideshow": {
     "slide_type": "slide"
    }
   },
   "outputs": [],
   "source": [
    "heights_su.plot(kind='scatter', x='midparentHeight (su)', y='childHeight (su)', figsize=(10, 5))\n",
    "plt.plot(np.arange(-3, 3, 0.1), np.arange(-3, 3, 0.1) * r_mid_child, color='purple', label='regression line');\n",
    "plt.legend();"
   ]
  },
  {
   "cell_type": "markdown",
   "metadata": {
    "slideshow": {
     "slide_type": "slide"
    }
   },
   "source": [
    "### Making predictions in standard units\n",
    "\n",
    "- If $r = 0.32$, and the given $x$ is 2 in standard units, then:\n",
    "    - The prediction for $y$ is 0.64 standard units.\n",
    "    - The regression line predicts that parents whose midparent height is 2 SDs above average have children with whose heights are 0.64 SDs above average.\n",
    "\n",
    "- **Note:** We predict that a child will be somewhat closer to average than their parents.\n",
    "    - This is a consequence of the slope ($r$, in this case) having magnitude less than 1.\n",
    "    - This effect is called **regression to the mean**."
   ]
  },
  {
   "cell_type": "markdown",
   "metadata": {
    "slideshow": {
     "slide_type": "slide"
    }
   },
   "source": [
    "### You Try: Predicting Heights\n",
    "\n",
    "Of course, we'd like to be able to predict a child's height in original units, not just in standard units. Here's how we'll approach this problem:\n",
    "\n",
    "1. Convert `'midparentHeight'` to standard units.\n",
    "2. Use the correlation coefficient to predict `'childHeight'` in standard units.\n",
    "3. Scale the  predicted `'childHeight'` from standard units back to inches.\n",
    "\n",
    "Fill in the `predict_with_r` function. It takes in one number (the midparent height) and returns the prediction of the best-fit line."
   ]
  },
  {
   "cell_type": "code",
   "execution_count": null,
   "metadata": {},
   "outputs": [],
   "source": []
  },
  {
   "cell_type": "code",
   "execution_count": null,
   "metadata": {},
   "outputs": [],
   "source": []
  },
  {
   "cell_type": "code",
   "execution_count": null,
   "metadata": {
    "slideshow": {
     "slide_type": "slide"
    }
   },
   "outputs": [],
   "source": [
    "def predict_with_r(parent):\n",
    "    \"\"\"Return a prediction of the height of a child \n",
    "    whose parents have a midparent height of parent, \n",
    "    using linear regression.\n",
    "    \"\"\"\n",
    "    ..."
   ]
  },
  {
   "cell_type": "code",
   "execution_count": null,
   "metadata": {},
   "outputs": [],
   "source": [
    "# If you wrote your function right, this line should output 58.33\n",
    "predict_with_r(56)"
   ]
  },
  {
   "cell_type": "code",
   "execution_count": null,
   "metadata": {
    "slideshow": {
     "slide_type": "slide"
    }
   },
   "outputs": [],
   "source": [
    "preds = with_predictions.assign(\n",
    "    Prediction_r=galton.get('midparentHeight').apply(predict_with_r)\n",
    ")\n",
    "ax = preds.plot(kind='scatter', x='midparentHeight', y='childHeight', figsize=(10, 5))\n",
    "preds.plot(kind='scatter', x='midparentHeight', y='Prediction', ax=ax, color='C2', label='graph of averages')\n",
    "preds.plot(kind='line', x='midparentHeight', y='Prediction_r', ax=ax, color='purple', label='regression line');\n",
    "plt.legend();"
   ]
  },
  {
   "cell_type": "markdown",
   "metadata": {},
   "source": [
    "As you can see, the graph of averages and the regression line are pretty similar!"
   ]
  },
  {
   "cell_type": "markdown",
   "metadata": {
    "slideshow": {
     "slide_type": "slide"
    }
   },
   "source": [
    "### You Try\n",
    "\n",
    "A course has a midterm (mean 80, standard deviation 15) and a really hard final (mean 50, standard deviation 12).\n",
    "\n",
    "If the scatter diagram comparing midterm & final scores for students looks linearly associated with correlation 0.75, then what is the predicted final exam score for a student who received a 90 on the midterm?"
   ]
  },
  {
   "cell_type": "code",
   "execution_count": null,
   "metadata": {},
   "outputs": [],
   "source": []
  },
  {
   "cell_type": "markdown",
   "metadata": {
    "slideshow": {
     "slide_type": "slide"
    }
   },
   "source": [
    "## Why does it matter?\n",
    "\n",
    "- Now, you can fit linear models!\n",
    "- Linear models seem basic but they're super useful.\n",
    "    - A modern case study: http://www.textbook.ds100.org/ch/12/pa_intro.html\n",
    "- Correlation coefficient $r$ actually gives the **best possible** line for the data.\n",
    "    - We'll see more next time."
   ]
  }
 ],
 "metadata": {
  "kernelspec": {
   "display_name": "Python 3 (ipykernel)",
   "language": "python",
   "name": "python3"
  },
  "language_info": {
   "codemirror_mode": {
    "name": "ipython",
    "version": 3
   },
   "file_extension": ".py",
   "mimetype": "text/x-python",
   "name": "python",
   "nbconvert_exporter": "python",
   "pygments_lexer": "ipython3",
   "version": "3.8.5"
  },
  "livereveal": {
   "scroll": true,
   "transition": "none"
  }
 },
 "nbformat": 4,
 "nbformat_minor": 2
}
