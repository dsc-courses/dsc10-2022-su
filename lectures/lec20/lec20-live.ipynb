{
 "cells": [
  {
   "cell_type": "code",
   "execution_count": null,
   "metadata": {
    "slideshow": {
     "slide_type": "skip"
    }
   },
   "outputs": [],
   "source": [
    "# Set up packages for lecture. Don't worry about understanding this code, but\n",
    "# make sure to run it if you're following along.\n",
    "import numpy as np\n",
    "import babypandas as bpd\n",
    "import pandas as pd\n",
    "from matplotlib_inline.backend_inline import set_matplotlib_formats\n",
    "import matplotlib.pyplot as plt\n",
    "%reload_ext pandas_tutor\n",
    "%set_pandas_tutor_options {'projectorMode': True}\n",
    "set_matplotlib_formats(\"svg\")\n",
    "plt.style.use('fivethirtyeight')\n",
    "\n",
    "np.set_printoptions(threshold=20, precision=2, suppress=True)\n",
    "pd.set_option(\"display.max_rows\", 7)\n",
    "pd.set_option(\"display.max_columns\", 8)\n",
    "pd.set_option(\"display.precision\", 2)\n",
    "\n",
    "# Animations\n",
    "from IPython.display import display, IFrame\n",
    "\n",
    "def show_confidence_interval_slides():\n",
    "    src=\"https://docs.google.com/presentation/d/e/2PACX-1vTaPZsueXI6fey_5cj2Y1TevkR1joBvpwaWVsZNvgBlnJSrw1EiBLHJywkFH_QNLU5Tdr6JZgDrhFxG/embed?start=false&loop=false&delayms=3000\"\n",
    "    width = 960\n",
    "    height = 989\n",
    "    display(IFrame(src, width, height))"
   ]
  },
  {
   "cell_type": "markdown",
   "metadata": {
    "slideshow": {
     "slide_type": "slide"
    }
   },
   "source": [
    "# Lecture 20 – Confidence Intervals, Center and Spread\n",
    "\n",
    "## DSC 10, Spring 2022"
   ]
  },
  {
   "cell_type": "markdown",
   "metadata": {
    "slideshow": {
     "slide_type": "slide"
    }
   },
   "source": [
    "### Announcements\n",
    "\n",
    "- Lab 6 is due **tomorrow at 11:59pm**.\n",
    "- HW 6 is due **Sat at 11:59pm**.\n",
    "- Final project will be released this week.\n",
    "    - [Get a partner lined up][partner]! \n",
    "    - If you work with a partner, you **must** follow these [pair programming guidelines](https://dsc10.com/pair-programming)\n",
    "    \n",
    "[partner]: https://docs.google.com/spreadsheets/d/1bikGY4L2mvnlEY3Gux1A3OqomRDh7Z00R___CRJZj-A/edit#gid=176865528"
   ]
  },
  {
   "cell_type": "markdown",
   "metadata": {
    "slideshow": {
     "slide_type": "slide"
    }
   },
   "source": [
    "### Agenda\n",
    "\n",
    "- Interpreting confidence intervals.\n",
    "- Confidence intervals for hypothesis testing.\n",
    "- Mean and median.\n",
    "- Standard deviation."
   ]
  },
  {
   "cell_type": "markdown",
   "metadata": {
    "slideshow": {
     "slide_type": "slide"
    }
   },
   "source": [
    "## Interpreting confidence intervals"
   ]
  },
  {
   "cell_type": "markdown",
   "metadata": {},
   "source": [
    "Let's rerun our code from last time to compute a confidence interval:"
   ]
  },
  {
   "cell_type": "code",
   "execution_count": null,
   "metadata": {},
   "outputs": [],
   "source": [
    "np.random.seed(23) # Magic to ensure that we get the same results every time this code is run\n",
    "\n",
    "population = bpd.read_csv('data/2020_salaries.csv').get(['TotalWages'])\n",
    "population_median = population.get('TotalWages').median()\n",
    "my_sample = population.sample(500)\n",
    "sample_median = my_sample.get('TotalWages').median()"
   ]
  },
  {
   "cell_type": "code",
   "execution_count": null,
   "metadata": {},
   "outputs": [],
   "source": [
    "# bootstrap the sample medians\n",
    "n_resamples = 5000\n",
    "boot_medians = np.array([])\n",
    "\n",
    "for i in np.arange(n_resamples):\n",
    "    resample = my_sample.sample(500, replace=True)\n",
    "    median = resample.get('TotalWages').median()\n",
    "    boot_medians = np.append(boot_medians, median)"
   ]
  },
  {
   "cell_type": "code",
   "execution_count": null,
   "metadata": {
    "slideshow": {
     "slide_type": "slide"
    }
   },
   "outputs": [],
   "source": [
    "left = np.percentile(boot_medians, 2.5)\n",
    "right = np.percentile(boot_medians, 97.5)\n",
    "\n",
    "# Therefore, our interval is\n",
    "[left, right]"
   ]
  },
  {
   "cell_type": "code",
   "execution_count": null,
   "metadata": {},
   "outputs": [],
   "source": [
    "bpd.DataFrame().assign(BootstrapMedians=boot_medians).plot(kind='hist', density=True, bins=np.arange(60000, 85000, 1000), ec='w', figsize=(10, 5))\n",
    "plt.plot([left, right], [0, 0], color='lime', linewidth=12, label='95% confidence interval');\n",
    "plt.axvline(sample_median, c='r', label='sample_median');\n",
    "plt.scatter(population_median, 0.000004, color='orange', s=100, label='population median').set_zorder(3)\n",
    "plt.legend();"
   ]
  },
  {
   "cell_type": "markdown",
   "metadata": {
    "slideshow": {
     "slide_type": "slide"
    }
   },
   "source": [
    "### Interpreting confidence intervals\n",
    "\n",
    "- 95% of our bootstrap medians fell within this interval.\n",
    "- We're pretty confident that the true median does, too.\n",
    "- How confident should we be about this? **What does a 95% confidence interval mean?**"
   ]
  },
  {
   "cell_type": "markdown",
   "metadata": {
    "slideshow": {
     "slide_type": "slide"
    }
   },
   "source": [
    "### Capturing the true value\n",
    "\n",
    "- Consider the process of:\n",
    "    - Collecting a **new original sample** from the population,\n",
    "    - Bootstrap resampling from it many times, computing the statistic (e.g. median) in each resample, and\n",
    "    - Constructing a new 95% confidence interval.\n",
    "- What a 95% confidence level states is that **approximately 95% of the time, the intervals you create through this process will contain the true population parameter**.\n",
    "- The confidence is in **the process** that generates the interval."
   ]
  },
  {
   "cell_type": "markdown",
   "metadata": {
    "slideshow": {
     "slide_type": "slide"
    }
   },
   "source": [
    "### Many confidence intervals\n",
    "\n",
    "- We repeated the process outlined on the previous slide 200 times, to come up with 200 confidence intervals.\n",
    "    - We did this in advance and saved the results to a file to save time.\n",
    "- The resulting CIs are stored in the array `many_cis` below."
   ]
  },
  {
   "cell_type": "code",
   "execution_count": null,
   "metadata": {},
   "outputs": [],
   "source": [
    "many_cis = np.load('data/many_cis.npy')\n",
    "many_cis"
   ]
  },
  {
   "cell_type": "markdown",
   "metadata": {
    "slideshow": {
     "slide_type": "slide"
    }
   },
   "source": [
    "In the visualization below,\n",
    "- The orange line represents the population parameter. **This is not random.**\n",
    "- Each green line represents a separate confidence interval, created using the specified process.\n",
    "- Most of these confidence intervals contain the true parameter – but not all!"
   ]
  },
  {
   "cell_type": "code",
   "execution_count": null,
   "metadata": {},
   "outputs": [],
   "source": [
    "plt.figure(figsize=(10, 5))\n",
    "for i, ci in enumerate(many_cis):\n",
    "    plt.plot([ci[0], ci[1]], [i, i], color='green', linewidth=1)\n",
    "plt.axvline(x=population_median, color='orange');"
   ]
  },
  {
   "cell_type": "markdown",
   "metadata": {
    "slideshow": {
     "slide_type": "slide"
    }
   },
   "source": [
    "### Which confidence intervals don't contain the true parameter?"
   ]
  },
  {
   "cell_type": "code",
   "execution_count": null,
   "metadata": {},
   "outputs": [],
   "source": [
    "plt.figure(figsize=(10, 5))\n",
    "count_outside = 0\n",
    "for i, ci in enumerate(many_cis):\n",
    "    if ci[0] > population_median or ci[1] < population_median:\n",
    "        plt.plot([ci[0], ci[1]], [i, i], color='green', linewidth=1)\n",
    "        count_outside = count_outside + 1\n",
    "plt.axvline(x=population_median, color='orange');"
   ]
  },
  {
   "cell_type": "code",
   "execution_count": null,
   "metadata": {},
   "outputs": [],
   "source": [
    "count_outside"
   ]
  },
  {
   "cell_type": "markdown",
   "metadata": {},
   "source": [
    "- 13 of my 200 confidence intervals didn't contain the true parameter.\n",
    "- That means 187/200, or 93.5% of them, did.\n",
    "    - This is pretty close to 95%!\n",
    "- In reality, you will have **no way of knowing if your confidence interval contains the true parameter**, since you have no way of knowing if your original sample is good."
   ]
  },
  {
   "cell_type": "markdown",
   "metadata": {
    "slideshow": {
     "slide_type": "slide"
    }
   },
   "source": [
    "### Confidence Tradeoffs\n",
    "\n",
    "- If I choose 95% confidence, about 5% of my samples will be \"unlucky\".\n",
    "    - When I use an unlucky sample to make my CI, the CI won't contain the population parameter.\n",
    "- If I choose 80% confidence, about 20% of my samples will be unlucky.\n",
    "    - But, my confidence interval will be narrower, which means I'm making a more precise estimation.\n",
    "- How do I have high confidence and high precision?\n",
    "    - Take a big sample!"
   ]
  },
  {
   "cell_type": "markdown",
   "metadata": {
    "slideshow": {
     "slide_type": "slide"
    }
   },
   "source": [
    "### Misinterpreting confidence intervals\n",
    "\n",
    "- Confidence intervals are confusing. Here are a few common misconceptions."
   ]
  },
  {
   "cell_type": "code",
   "execution_count": null,
   "metadata": {},
   "outputs": [],
   "source": [
    "# Our interval\n",
    "[left, right]"
   ]
  },
  {
   "cell_type": "markdown",
   "metadata": {},
   "source": [
    "- It is **not true** that this interval contains 95% of all salaries.\n",
    "- Instead, it is true that this interval contains 95% of all bootstrapped **median** salaries."
   ]
  },
  {
   "cell_type": "code",
   "execution_count": null,
   "metadata": {},
   "outputs": [],
   "source": [
    "population.plot(kind='hist', y='TotalWages', density=True, ec='w', figsize=(10, 5))\n",
    "plt.plot([left, right], [0, 0], color='lime', linewidth=10, label='95% confidence interval');\n",
    "plt.legend();"
   ]
  },
  {
   "cell_type": "markdown",
   "metadata": {
    "slideshow": {
     "slide_type": "slide"
    }
   },
   "source": [
    "### Misinterpreting confidence intervals"
   ]
  },
  {
   "cell_type": "code",
   "execution_count": null,
   "metadata": {},
   "outputs": [],
   "source": [
    "# Our interval\n",
    "[left, right]"
   ]
  },
  {
   "cell_type": "markdown",
   "metadata": {},
   "source": [
    "- It is **not true** that there is a 95% chance that the interval above contains the population parameter.\n",
    "    - Once I have a sample, the interval is (essentially) fixed.\n",
    "    - Either the population parameter is in the interval, or it is not. There is no randomness involved.\n",
    "- Remember that the 95% confidence is in the process that created an interval.\n",
    "    - This process (sampling, then bootstrapping, then creating an interval) has a roughly 95% chance of creating a good interval.\n",
    "    - 95% confidence needs all three steps. Can't skip the first one!"
   ]
  },
  {
   "cell_type": "code",
   "execution_count": null,
   "metadata": {
    "scrolled": false,
    "slideshow": {
     "slide_type": "slide"
    }
   },
   "outputs": [],
   "source": [
    "show_confidence_interval_slides()"
   ]
  },
  {
   "cell_type": "markdown",
   "metadata": {
    "slideshow": {
     "slide_type": "slide"
    }
   },
   "source": [
    "### Bootstrap rules of thumb\n",
    "\n",
    "- The bootstrap is an awesome tool:\n",
    "    - We only had to collect a single sample from the population to get the (approximate) distribution of the sample median.\n",
    "- But it has limitations:\n",
    "    - It is not good for sensitive statistics, like the max or min.\n",
    "    - It requires the sample to be a good approximation of population.\n",
    "        - If our original sample was not representative of the population, the resulting bootstrapped samples will also not be representative of the population."
   ]
  },
  {
   "cell_type": "markdown",
   "metadata": {
    "slideshow": {
     "slide_type": "slide"
    }
   },
   "source": [
    "### Example: estimating the max of a population\n",
    "\n",
    "Suppose we want to estimate the maximum salary of all San Diego city employees, given just a single sample `my_sample`."
   ]
  },
  {
   "cell_type": "code",
   "execution_count": null,
   "metadata": {},
   "outputs": [],
   "source": [
    "# The true maximum salary in the population\n",
    "population_max = population.get('TotalWages').max()\n",
    "population_max"
   ]
  },
  {
   "cell_type": "markdown",
   "metadata": {
    "slideshow": {
     "slide_type": "slide"
    }
   },
   "source": [
    "### Running the bootstrap\n",
    "\n",
    "- We want to estimate the maximum number in the population.\n",
    "- Our estimate will be the max in the sample.\n",
    "- We run the bootstrap:"
   ]
  },
  {
   "cell_type": "code",
   "execution_count": null,
   "metadata": {},
   "outputs": [],
   "source": [
    "n_resamples = 5000\n",
    "boot_maxes = np.array([])\n",
    "\n",
    "for i in range(n_resamples):\n",
    "    resample = my_sample.sample(my_sample.shape[0], replace=True)\n",
    "    boot_max = resample.get('TotalWages').max()\n",
    "    boot_maxes = np.append(boot_maxes, boot_max)"
   ]
  },
  {
   "cell_type": "code",
   "execution_count": null,
   "metadata": {},
   "outputs": [],
   "source": [
    "boot_maxes"
   ]
  },
  {
   "cell_type": "markdown",
   "metadata": {
    "slideshow": {
     "slide_type": "slide"
    }
   },
   "source": [
    "### Visualize\n",
    "\n",
    "The bootstrap distribution doesn't capture the population maximum (orange dot) of 320699. Why not? 🤔"
   ]
  },
  {
   "cell_type": "code",
   "execution_count": null,
   "metadata": {
    "scrolled": false
   },
   "outputs": [],
   "source": [
    "bpd.DataFrame().assign(BootstrapMax=boot_maxes).plot(kind='hist', \n",
    "                                                     density=True, \n",
    "                                                     bins=10,\n",
    "                                                     ec='w',\n",
    "                                                     figsize=(10, 5))\n",
    "plt.scatter(population_max, 0.0000008, color='orange', s=100, label='population max')\n",
    "plt.legend();"
   ]
  },
  {
   "cell_type": "markdown",
   "metadata": {
    "slideshow": {
     "slide_type": "slide"
    }
   },
   "source": [
    "### Why did that happen?"
   ]
  },
  {
   "cell_type": "code",
   "execution_count": null,
   "metadata": {},
   "outputs": [],
   "source": [
    "my_sample.get('TotalWages').max()"
   ]
  },
  {
   "cell_type": "markdown",
   "metadata": {
    "slideshow": {
     "slide_type": "fragment"
    }
   },
   "source": [
    "- The largest value in our original sample was 257062. \n",
    "- Therefore, the largest value in any bootstrapped sample is at most 257062.\n",
    "- Generally, the bootstrap works better for measures of central tendency or variation (means, medians, variances) than it does for extremas (maxes and mins)."
   ]
  },
  {
   "cell_type": "markdown",
   "metadata": {
    "slideshow": {
     "slide_type": "slide"
    }
   },
   "source": [
    "## Confidence intervals and hypothesis testing"
   ]
  },
  {
   "cell_type": "code",
   "execution_count": null,
   "metadata": {
    "scrolled": false,
    "slideshow": {
     "slide_type": "slide"
    }
   },
   "outputs": [],
   "source": [
    "show_confidence_interval_slides()"
   ]
  },
  {
   "cell_type": "markdown",
   "metadata": {
    "slideshow": {
     "slide_type": "slide"
    }
   },
   "source": [
    "### Using a confidence interval for hypothesis testing\n",
    "\n",
    "It turns out that we can use bootstrapped confidence intervals for hypothesis testing!\n",
    "\n",
    "- **Null hypothesis**: The population parameter is equal to some value, $x$.\n",
    "- **Alternative hypothesis**: The population parameter is not equal to $x$.\n",
    "- Cutoff for p-value: p%.\n",
    "- Strategy:\n",
    "    - Construct a (100-p)% confidence interval for the population parameter.\n",
    "    - If $x$ is not in the interval, reject the null hypothesis.\n",
    "    - If $x$ is in the interval, our results are consistent with the null (fail to reject it)."
   ]
  },
  {
   "cell_type": "markdown",
   "metadata": {
    "slideshow": {
     "slide_type": "slide"
    }
   },
   "source": [
    "### Example: Fire-Rescue Department 🚒"
   ]
  },
  {
   "cell_type": "code",
   "execution_count": null,
   "metadata": {
    "scrolled": false
   },
   "outputs": [],
   "source": [
    "population = bpd.read_csv('data/2020_salaries.csv')\n",
    "fire_rescue_population = population[population.get('DepartmentOrSubdivision') == 'Fire-Rescue']\n",
    "fire_rescue_population"
   ]
  },
  {
   "cell_type": "markdown",
   "metadata": {
    "slideshow": {
     "slide_type": "slide"
    }
   },
   "source": [
    "### Just a sample\n",
    "- Suppose we only have access to a sample of 300 Fire-Rescue Department workers.\n",
    "- We want to understand the median salary of *all* Fire-Rescue Department workers.\n",
    "- **Null hypothesis**: The median salary of Fire-Rescue Department workers is the same as the median of all San Diego city employee salaries, \\$71,354.50.\n",
    "- **Alternative hypothesis**: The median salary of Fire-Rescue Department workers is not the same as the median of all San Diego city employee salaries.\n",
    "- We'll use a significance level (i.e. p-value cutoff) of 0.01, to be *really* sure."
   ]
  },
  {
   "cell_type": "code",
   "execution_count": null,
   "metadata": {},
   "outputs": [],
   "source": [
    "# The median salary of all City of SD employees, in all departments\n",
    "population_median = population.get('TotalWages').median()\n",
    "population_median"
   ]
  },
  {
   "cell_type": "code",
   "execution_count": null,
   "metadata": {
    "scrolled": true
   },
   "outputs": [],
   "source": [
    "fire_rescue_sample = fire_rescue_population.sample(300, replace=False)\n",
    "fire_rescue_sample"
   ]
  },
  {
   "cell_type": "markdown",
   "metadata": {
    "slideshow": {
     "slide_type": "slide"
    }
   },
   "source": [
    "### Testing the hypotheses\n",
    "- Since we're using a significance level of 0.01 = 1%, we need a 99% confidence interval for the median salary of Fire-Rescue Department workers.\n",
    "- To construct a confidence interval, we'll bootstrap to compute many sample medians, and we'll find the middle 99% of the distribution of bootstrapped medians using `np.percentile`."
   ]
  },
  {
   "cell_type": "code",
   "execution_count": null,
   "metadata": {},
   "outputs": [],
   "source": [
    "n_resamples = 500\n",
    "fire_rescue_medians = np.array([])\n",
    "for i in range(n_resamples):\n",
    "    resample = fire_rescue_sample.sample(300, replace=True)\n",
    "    median = resample.get('TotalWages').median()\n",
    "    fire_rescue_medians = np.append(fire_rescue_medians, median)"
   ]
  },
  {
   "cell_type": "code",
   "execution_count": null,
   "metadata": {},
   "outputs": [],
   "source": [
    "fire_rescue_medians"
   ]
  },
  {
   "cell_type": "markdown",
   "metadata": {
    "slideshow": {
     "slide_type": "slide"
    }
   },
   "source": [
    "### Finding the interval"
   ]
  },
  {
   "cell_type": "code",
   "execution_count": null,
   "metadata": {},
   "outputs": [],
   "source": [
    "fire_left = np.percentile(fire_rescue_medians, 0.5)\n",
    "fire_left"
   ]
  },
  {
   "cell_type": "code",
   "execution_count": null,
   "metadata": {},
   "outputs": [],
   "source": [
    "fire_right = np.percentile(fire_rescue_medians, 99.5)\n",
    "fire_right"
   ]
  },
  {
   "cell_type": "code",
   "execution_count": null,
   "metadata": {},
   "outputs": [],
   "source": [
    "# Resulting interval\n",
    "[fire_left, fire_right]"
   ]
  },
  {
   "cell_type": "markdown",
   "metadata": {
    "slideshow": {
     "slide_type": "fragment"
    }
   },
   "source": [
    "Is \\$71,354.50 in this interval? ❌"
   ]
  },
  {
   "cell_type": "markdown",
   "metadata": {
    "slideshow": {
     "slide_type": "slide"
    }
   },
   "source": [
    "### Conclusion of the hypothesis test\n",
    "- Since our 99% confidence interval did not contain the median of all San Diego city employee salaries, \\$71,354.50, we reject the null.\n",
    "- Fire-Rescue Department workers do not have the same median salary as other city employees.\n",
    "- We can't say why."
   ]
  },
  {
   "cell_type": "code",
   "execution_count": null,
   "metadata": {},
   "outputs": [],
   "source": [
    "bpd.DataFrame().assign(FireRescueBootstrapMedians=fire_rescue_medians).plot(kind='hist', density=True, bins=np.arange(75000, 125000, 1000), ec='w', figsize=(10, 5))\n",
    "plt.plot([fire_left, fire_right], [0, 0], color='lime', linewidth=12, label='99% confidence interval');\n",
    "plt.legend();"
   ]
  },
  {
   "cell_type": "code",
   "execution_count": null,
   "metadata": {},
   "outputs": [],
   "source": [
    "# Actual population median of Fire-Rescue Department salaries\n",
    "fire_rescue_population.get('TotalWages').median()"
   ]
  },
  {
   "cell_type": "markdown",
   "metadata": {
    "slideshow": {
     "slide_type": "slide"
    }
   },
   "source": [
    "## Mean and median"
   ]
  },
  {
   "cell_type": "markdown",
   "metadata": {
    "slideshow": {
     "slide_type": "slide"
    }
   },
   "source": [
    "<center><h3>What is the \"center\" of a distribution?</h3></center>"
   ]
  },
  {
   "cell_type": "markdown",
   "metadata": {
    "slideshow": {
     "slide_type": "slide"
    }
   },
   "source": [
    "### The mean (i.e. average)\n",
    "\n",
    "The mean of the data\n",
    "\n",
    "$$2, 3, 3, 9$$\n",
    "\n",
    "is\n",
    "\n",
    "$$\\rm{mean} = \\frac{2 + 3 + 3 + 9}{4} = 4.25$$"
   ]
  },
  {
   "cell_type": "markdown",
   "metadata": {
    "slideshow": {
     "slide_type": "slide"
    }
   },
   "source": [
    "### The mean (i.e. average)\n",
    "\n",
    "The mean of a set of data points can be thought of as a \"one-number summary\". It... \n",
    "\n",
    "- doesn't have to be equal to one of the data points.\n",
    "- doesn't have to be an integer, even if all of the data points are integers.\n",
    "- will be somewhere between the min and max, but not necessarily halfway in between.\n",
    "- has the same units as the data."
   ]
  },
  {
   "cell_type": "markdown",
   "metadata": {
    "slideshow": {
     "slide_type": "slide"
    }
   },
   "source": [
    "### The median\n",
    "\n",
    "- Like the mean, the median is a \"one-number summary\" of a set of data points.\n",
    "- The median is a number in the \"middle\" of the data.\n",
    "- To calculate it, **sort the data points and pick the number in the middle**.\n",
    "    - If there are two middle numbers, we usually pick the number halfway between (i.e. the mean of the middle two)."
   ]
  },
  {
   "cell_type": "markdown",
   "metadata": {
    "slideshow": {
     "slide_type": "fragment"
    }
   },
   "source": [
    "- **Example:** $\\text{Median}(1, 4, 7, 12, 32) = 7$"
   ]
  },
  {
   "cell_type": "markdown",
   "metadata": {
    "slideshow": {
     "slide_type": "fragment"
    }
   },
   "source": [
    "- **Example:** $\\text{Median}(1, 4, 7, 12) = 5.5$"
   ]
  },
  {
   "cell_type": "markdown",
   "metadata": {
    "slideshow": {
     "slide_type": "slide"
    }
   },
   "source": [
    "### You Try:\n",
    "\n",
    "Create a data set that has this histogram. (You can do it with a short list of whole numbers.)\n",
    "\n",
    "<br>\n",
    "<center><img src='data/df_A.png' width=450></center>\n",
    "<br>\n",
    "\n",
    "What are its mean and median?"
   ]
  },
  {
   "cell_type": "code",
   "execution_count": null,
   "metadata": {},
   "outputs": [],
   "source": []
  },
  {
   "cell_type": "code",
   "execution_count": null,
   "metadata": {},
   "outputs": [],
   "source": []
  },
  {
   "cell_type": "markdown",
   "metadata": {
    "slideshow": {
     "slide_type": "slide"
    }
   },
   "source": [
    "### Example: Flight Delays ✈️"
   ]
  },
  {
   "cell_type": "code",
   "execution_count": null,
   "metadata": {},
   "outputs": [],
   "source": [
    "delays = bpd.read_csv('data/delays.csv')\n",
    "delays.plot(kind='hist', y='Delay', bins=np.arange(-20.5, 210, 5), density=True, ec='w', figsize=(6, 2))\n",
    "plt.title('Flight Delays')\n",
    "plt.xlabel('Delay (minutes)');"
   ]
  },
  {
   "cell_type": "markdown",
   "metadata": {},
   "source": [
    "**Question:** Which is larger – the mean or the median?"
   ]
  },
  {
   "cell_type": "code",
   "execution_count": null,
   "metadata": {},
   "outputs": [],
   "source": []
  },
  {
   "cell_type": "code",
   "execution_count": null,
   "metadata": {},
   "outputs": [],
   "source": []
  },
  {
   "cell_type": "code",
   "execution_count": null,
   "metadata": {
    "scrolled": false,
    "slideshow": {
     "slide_type": "slide"
    }
   },
   "outputs": [],
   "source": [
    "delays.plot(kind='hist', y='Delay', bins=np.arange(-20.5, 210, 5), density=True, ec='w', alpha=0.65, figsize=(10, 5))\n",
    "plt.plot([delays.get('Delay').mean(), delays.get('Delay').mean()], [0, 1], color='green', label='Mean')\n",
    "plt.scatter([delays.get('Delay').mean()], [-0.0017], color='green', marker='^', s=250)\n",
    "plt.plot([delays.get('Delay').median(), delays.get('Delay').median()], [0, 1], color='purple', label='Median')\n",
    "plt.title('Flight Delays')\n",
    "plt.xlabel('Delay (minutes)')\n",
    "plt.ylim(-0.005, 0.065)\n",
    "plt.legend();"
   ]
  },
  {
   "cell_type": "markdown",
   "metadata": {
    "slideshow": {
     "slide_type": "slide"
    }
   },
   "source": [
    "### Comparing the mean and median\n",
    "- **Mean:** Balance point of the histogram.\n",
    "    - Numerically: the sum of the differences between all data points and the mean is 0.\n",
    "    - Physically: Think of a see-saw.\n",
    "- **Median:** Half-way point of the data.\n",
    "    - Half of the area of a histogram is to the left of the median, and half is to the right.\n",
    "- If the distribution is symmetric about a value, then that value is both the mean and the median.\n",
    "- If the distribution is **skewed**, then the mean is pulled away from the median in the direction of the tail.\n",
    "\n",
    "- **Key property:** The median is more **robust** (less **sensitive**) to **outliers**."
   ]
  },
  {
   "cell_type": "markdown",
   "metadata": {
    "slideshow": {
     "slide_type": "slide"
    }
   },
   "source": [
    "### Example: Net Worth 💰\n",
    "\n",
    "Suppose we have the net worth of all UCSD students."
   ]
  },
  {
   "cell_type": "code",
   "execution_count": null,
   "metadata": {},
   "outputs": [],
   "source": [
    "worths = np.random.lognormal(5.5, 1.25, 20_000)\n",
    "plt.hist(worths, bins=np.arange(0, 2_000, 100), density=True, ec='w');"
   ]
  },
  {
   "cell_type": "code",
   "execution_count": null,
   "metadata": {},
   "outputs": [],
   "source": []
  },
  {
   "cell_type": "code",
   "execution_count": null,
   "metadata": {},
   "outputs": [],
   "source": []
  },
  {
   "cell_type": "markdown",
   "metadata": {
    "slideshow": {
     "slide_type": "slide"
    }
   },
   "source": [
    "Suppose that LeBron James enrolls at UCSD as a Data Science major. Per [Forbes](https://bleacherreport.com/articles/10014995-forbes-lebron-james-net-worth-close-to-1b-to-break-nba-earnings-record-this-year), his net worth is close to one billion dollars."
   ]
  },
  {
   "cell_type": "code",
   "execution_count": null,
   "metadata": {},
   "outputs": [],
   "source": [
    "new_worths = ..."
   ]
  },
  {
   "cell_type": "code",
   "execution_count": null,
   "metadata": {},
   "outputs": [],
   "source": [
    "np.mean(new_worths)"
   ]
  },
  {
   "cell_type": "code",
   "execution_count": null,
   "metadata": {},
   "outputs": [],
   "source": [
    "np.median(new_worths)"
   ]
  },
  {
   "cell_type": "markdown",
   "metadata": {
    "slideshow": {
     "slide_type": "fragment"
    }
   },
   "source": [
    "The mean net worth is now over 50 thousand dollars, while the median is unchanged!"
   ]
  },
  {
   "cell_type": "markdown",
   "metadata": {
    "slideshow": {
     "slide_type": "slide"
    }
   },
   "source": [
    "## Standard deviation"
   ]
  },
  {
   "cell_type": "markdown",
   "metadata": {
    "slideshow": {
     "slide_type": "slide"
    }
   },
   "source": [
    "### Question: How \"wide\" is a distribution? \n",
    "\n",
    "- **One idea:** “biggest value - smallest value” (known as the **range**).\n",
    "    - Issue: this doesn’t tell us much about the shape of the distribution.\n",
    "\n",
    "- **Another idea:** \"standard deviation\".\n",
    "    - The mean is at the center. \n",
    "    - The standard deviation quantifies how far the data points typically are from the center."
   ]
  },
  {
   "cell_type": "markdown",
   "metadata": {
    "slideshow": {
     "slide_type": "slide"
    }
   },
   "source": [
    "### Deviations from the mean"
   ]
  },
  {
   "cell_type": "code",
   "execution_count": null,
   "metadata": {},
   "outputs": [],
   "source": [
    "data = np.array([2, 3, 3, 9])"
   ]
  },
  {
   "cell_type": "code",
   "execution_count": null,
   "metadata": {},
   "outputs": [],
   "source": []
  },
  {
   "cell_type": "code",
   "execution_count": null,
   "metadata": {},
   "outputs": [],
   "source": []
  },
  {
   "cell_type": "markdown",
   "metadata": {
    "slideshow": {
     "slide_type": "slide"
    }
   },
   "source": [
    "### What is the average deviation?"
   ]
  },
  {
   "cell_type": "code",
   "execution_count": null,
   "metadata": {},
   "outputs": [],
   "source": []
  },
  {
   "cell_type": "code",
   "execution_count": null,
   "metadata": {},
   "outputs": [],
   "source": []
  },
  {
   "cell_type": "markdown",
   "metadata": {
    "slideshow": {
     "slide_type": "fragment"
    }
   },
   "source": [
    "- As was mentioned before, this is true of any dataset – the average deviation from the mean is 0.\n",
    "- This implies that the average deviation itself is not useful in measuring the spread of data."
   ]
  },
  {
   "cell_type": "markdown",
   "metadata": {
    "slideshow": {
     "slide_type": "slide"
    }
   },
   "source": [
    "### Average **squared** deviation"
   ]
  },
  {
   "cell_type": "code",
   "execution_count": null,
   "metadata": {},
   "outputs": [],
   "source": []
  },
  {
   "cell_type": "code",
   "execution_count": null,
   "metadata": {},
   "outputs": [],
   "source": []
  },
  {
   "cell_type": "markdown",
   "metadata": {
    "slideshow": {
     "slide_type": "fragment"
    }
   },
   "source": [
    "This quantity, the average squared deviation from the mean, is called the **variance**."
   ]
  },
  {
   "cell_type": "markdown",
   "metadata": {
    "slideshow": {
     "slide_type": "slide"
    }
   },
   "source": [
    "### Standard deviation\n",
    "\n",
    "- Our data usually has units, e.g. dollars.\n",
    "- The variance is in \"squared\" units, e.g. $\\text{dollars}^2$.\n",
    "- To account for this, we can take the square root of the variance, and the result is called the **standard deviation**."
   ]
  },
  {
   "cell_type": "code",
   "execution_count": null,
   "metadata": {},
   "outputs": [],
   "source": []
  },
  {
   "cell_type": "markdown",
   "metadata": {
    "slideshow": {
     "slide_type": "slide"
    }
   },
   "source": [
    "### Standard deviation\n",
    "\n",
    "- The standard deviation (SD) measures roughly how far the data are from their average.\n",
    "    - Larger SD = more spread out.\n",
    "- Standard deviation has the same units as the original data.\n",
    "- `numpy` has a function, `np.std`, that calculates the standard deviation for us."
   ]
  },
  {
   "cell_type": "code",
   "execution_count": null,
   "metadata": {},
   "outputs": [],
   "source": [
    "np.std(data)"
   ]
  },
  {
   "cell_type": "markdown",
   "metadata": {
    "slideshow": {
     "slide_type": "slide"
    }
   },
   "source": [
    "### Variance and standard deviation\n",
    "\n",
    "To summarize:\n",
    "\n",
    "$$\\text{variance} = \\text{average squared deviation from the mean} = \\frac{(\\text{value}_1 - \\text{average})^2 + (\\text{value}_2 - \\text{average})^2 + ... + (\\text{value}_n - \\text{average})^2}{n}$$\n",
    "\n",
    "$$\\text{standard deviation} = \\sqrt{\\text{variance}}$$\n",
    "\n",
    "where $n$ is the number of observations."
   ]
  },
  {
   "cell_type": "markdown",
   "metadata": {
    "slideshow": {
     "slide_type": "slide"
    }
   },
   "source": [
    "### What can we do with the standard deviation?\n",
    "\n",
    "It turns out, no matter what the shape of the distribution is, the bulk of the data are in the range “average ± a few SDs”."
   ]
  },
  {
   "cell_type": "markdown",
   "metadata": {
    "slideshow": {
     "slide_type": "slide"
    }
   },
   "source": [
    "### Chebyshev’s inequality\n",
    "\n",
    "**Fact:** No matter what the shape of the distribution is, the proportion of values in the range “average ± z SDs” is at least \n",
    "\n",
    "$$1 - \\frac{1}{z^2}$$"
   ]
  },
  {
   "cell_type": "markdown",
   "metadata": {
    "slideshow": {
     "slide_type": "slide"
    }
   },
   "source": [
    "### Chebyshev's inequality\n",
    "\n",
    "|Range|Proportion|\n",
    "|---|---|\n",
    "|average ± 2 SDs|\tat least $1 - \\frac{1}{4}$   (75%)|\n",
    "|average ± 3 SDs|\tat least $1 - \\frac{1}{9}$   (88.888…%)|\n",
    "|average ± 4 SDs|\tat least $1 - \\frac{1}{16}$ (93.75%)|\n",
    "|average ± 5 SDs|\tat least $1 - \\frac{1}{25}$  (96%)|\n",
    "\n",
    "No matter what the distribution is! "
   ]
  },
  {
   "cell_type": "markdown",
   "metadata": {
    "slideshow": {
     "slide_type": "slide"
    }
   },
   "source": [
    "### Example: NBA 🏀"
   ]
  },
  {
   "cell_type": "code",
   "execution_count": null,
   "metadata": {
    "scrolled": false
   },
   "outputs": [],
   "source": [
    "nba = bpd.read_csv('data/nba.csv')\n",
    "nba.plot(kind='hist', y='Height', density=True, bins=np.arange(69.5, 90, 1), ec='w', figsize=(10, 5), alpha=0.65);"
   ]
  },
  {
   "cell_type": "code",
   "execution_count": null,
   "metadata": {},
   "outputs": [],
   "source": [
    "mean = nba.get('Height').mean()\n",
    "sd = np.std(nba.get('Height'))\n",
    "print('mean:\\t\\t\\t%f' % mean, \n",
    "      '\\nstandard deviation:\\t%f' % sd)"
   ]
  },
  {
   "cell_type": "markdown",
   "metadata": {
    "slideshow": {
     "slide_type": "slide"
    }
   },
   "source": [
    "### Mean and standard deviation\n",
    "\n",
    "For this data, mean is about 79 and the SD is about 3.5. By Chebyshev's inequality...\n",
    "\n",
    "- **At least** 75% of the data is in $$[\\text{Mean} - 2 \\cdot \\text{SD}, \\text{Mean} + 2 \\cdot \\text{SD}] = [79 - 2\\cdot 3.5,\\, 79 + 2\\cdot 3.5] = [72, 86]$$\n",
    "- **At least** 88% of the data is in $$[\\text{Mean} - 3 \\cdot \\text{SD}, \\text{Mean} + 3 \\cdot \\text{SD}] = [79 - 3\\cdot 3.5,\\, 79 +3\\cdot 3.5] = [68.5, 89.5]$$"
   ]
  },
  {
   "cell_type": "code",
   "execution_count": null,
   "metadata": {},
   "outputs": [],
   "source": [
    "nba.plot(kind='hist', y='Height', density=True, bins=np.arange(69.5, 90, 1), ec='w', figsize=(10, 5), alpha=0.25);\n",
    "plt.plot([mean-2*sd, mean-2*sd], [0, 0.13], color='maroon', label=\"± 2SD\")\n",
    "plt.plot([mean+2*sd, mean+2*sd], [0, 0.13], color='maroon')\n",
    "plt.plot([mean-3*sd, mean-3*sd], [0, 0.13], color='blue', label=\"± 3SD\")\n",
    "plt.plot([mean+3*sd, mean+3*sd], [0, 0.13], color='blue')\n",
    "plt.plot([mean, mean], [0, 1], color='green', label='Mean')\n",
    "plt.scatter([mean], [-0.003], color='green', marker='^', s=250)\n",
    "plt.ylim(-0.005, 0.13)\n",
    "plt.legend();"
   ]
  },
  {
   "cell_type": "markdown",
   "metadata": {
    "slideshow": {
     "slide_type": "slide"
    }
   },
   "source": [
    "### Chebyshev's inequality\n",
    "\n",
    "- Chebyshev's inequality works for **any** distribution.\n",
    "- But if we know the type of the distribution (e.g., normal), we can say more!\n",
    "    - More on this next time."
   ]
  },
  {
   "cell_type": "markdown",
   "metadata": {
    "slideshow": {
     "slide_type": "slide"
    }
   },
   "source": [
    "### You Try: \n",
    "\n",
    "For a particular set of data points, Chebyshev's inequality states that at least $\\frac{3}{4}$ of the data points are between 30 and 90. What is the standard deviation of the data?"
   ]
  },
  {
   "cell_type": "markdown",
   "metadata": {},
   "source": [
    "*Write your answer here*"
   ]
  },
  {
   "cell_type": "markdown",
   "metadata": {},
   "source": [
    "## Why does it matter?\n",
    "\n",
    "- It's all connected:\n",
    "    - Confidence intervals and hypothesis testing are two sides of the same coin.\n",
    "- Mean, SD, and median are used all the time in science.\n",
    "    - SD is a useful way to summarize spread."
   ]
  }
 ],
 "metadata": {
  "kernelspec": {
   "display_name": "Python 3 (ipykernel)",
   "language": "python",
   "name": "python3"
  },
  "language_info": {
   "codemirror_mode": {
    "name": "ipython",
    "version": 3
   },
   "file_extension": ".py",
   "mimetype": "text/x-python",
   "name": "python",
   "nbconvert_exporter": "python",
   "pygments_lexer": "ipython3",
   "version": "3.8.5"
  },
  "livereveal": {
   "scroll": true,
   "transition": "none"
  }
 },
 "nbformat": 4,
 "nbformat_minor": 2
}
