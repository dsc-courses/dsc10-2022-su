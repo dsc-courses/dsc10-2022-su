{
 "cells": [
  {
   "cell_type": "code",
   "execution_count": 5,
   "metadata": {
    "slideshow": {
     "slide_type": "skip"
    }
   },
   "outputs": [
    {
     "data": {
      "text/html": [
       "\n",
       "<script type=\"text/javascript\" src=\"https://pandastutor.com/build/wsembed.bundle.2022-07-07-release.js\"></script>\n",
       "<script>\n",
       "console.log(\"initializing pandas_tutor js\")\n",
       "\n",
       "function drawWsv(viz_id, spec, options) {\n",
       "  if (typeof createWsvFromPandasTrace === 'undefined') {\n",
       "    setTimeout(() => drawWsv(viz_id, spec, options), 2000) // retry in 2 seconds\n",
       "    return\n",
       "  }\n",
       "  createWsvFromPandasTrace(viz_id, spec, options)\n",
       "}\n",
       "</script>\n"
      ],
      "text/plain": [
       "<IPython.core.display.HTML object>"
      ]
     },
     "metadata": {},
     "output_type": "display_data"
    }
   ],
   "source": [
    "# Set up packages for lecture. Don't worry about understanding this code, but\n",
    "# make sure to run it if you're following along.\n",
    "import numpy as np\n",
    "import babypandas as bpd\n",
    "import pandas as pd\n",
    "from matplotlib_inline.backend_inline import set_matplotlib_formats\n",
    "import matplotlib.pyplot as plt\n",
    "%reload_ext pandas_tutor\n",
    "%set_pandas_tutor_options {'projectorMode': True}\n",
    "set_matplotlib_formats(\"svg\")\n",
    "plt.style.use('fivethirtyeight')\n",
    "\n",
    "np.set_printoptions(threshold=20, precision=2, suppress=True)\n",
    "pd.set_option(\"display.max_rows\", 7)\n",
    "pd.set_option(\"display.max_columns\", 8)\n",
    "pd.set_option(\"display.precision\", 2)"
   ]
  },
  {
   "cell_type": "markdown",
   "metadata": {
    "slideshow": {
     "slide_type": "slide"
    }
   },
   "source": [
    "# Lecture 13 – Simulation\n",
    "\n",
    "## DSC 10, Summer 2022"
   ]
  },
  {
   "cell_type": "markdown",
   "metadata": {
    "slideshow": {
     "slide_type": "slide"
    }
   },
   "source": [
    "### Announcements\n",
    "\n",
    "- The midterm is **Fri 7/29 at 11:00am**.\n",
    "- Homework 4 is due on **Sat 7/30 at 11:59pm**.\n",
    "- The Midterm Project is due **Sat 8/6 at 11:59pm**."
   ]
  },
  {
   "cell_type": "markdown",
   "metadata": {
    "slideshow": {
     "slide_type": "slide"
    }
   },
   "source": [
    "### Agenda\n",
    "\n",
    "- Simulation.\n",
    "    - Example: What's the probability of getting 60 or more heads if I flip 100 coins?\n",
    "    - Example: The \"Monty Hall\" Problem."
   ]
  },
  {
   "cell_type": "markdown",
   "metadata": {
    "slideshow": {
     "slide_type": "slide"
    }
   },
   "source": [
    "## Simulation"
   ]
  },
  {
   "cell_type": "markdown",
   "metadata": {
    "slideshow": {
     "slide_type": "slide"
    }
   },
   "source": [
    "### Simulation\n",
    "\n",
    "- What is the probability of getting 60 or more heads if I flip 100 coins?\n",
    "- While we _could_ calculate it by hand (and will learn how to in future courses), we can also approximate it using the computer:\n",
    "    1. Figure out how to do one experiment (i.e., flip 100 coins).\n",
    "    2. Run the experiment a bunch of times.\n",
    "    3. Find the proportion of experiments in which the number of heads was 60 or more.\n",
    "- This is how we'll use **simulation** – to approximate a probability through computation.\n",
    "    - The techniques we will introduce in today's lecture will appear in almost every lecture for the remainder of the quarter!"
   ]
  },
  {
   "cell_type": "markdown",
   "metadata": {
    "slideshow": {
     "slide_type": "slide"
    }
   },
   "source": [
    "### Making a random choice\n",
    "\n",
    "- To simulate, we need a way to perform a random experiment on the computer (e.g. flipping a coin, rolling a die).\n",
    "- A helpful function is `np.random.choice(options)`.\n",
    "    - The input, `options`, is a list or array to choose from.\n",
    "    - The output is a random element in `options`. By default, all elements are equally likely to be chosen."
   ]
  },
  {
   "cell_type": "code",
   "execution_count": 6,
   "metadata": {},
   "outputs": [],
   "source": [
    "# Simulate a fair coin flip"
   ]
  },
  {
   "cell_type": "code",
   "execution_count": 7,
   "metadata": {
    "scrolled": true
   },
   "outputs": [],
   "source": [
    "# Simulate a roll of a die"
   ]
  },
  {
   "cell_type": "markdown",
   "metadata": {
    "slideshow": {
     "slide_type": "slide"
    }
   },
   "source": [
    "### Making multiple random choices\n",
    "\n",
    "`np.random.choice(options, n)` will return an array of `n` randomly selected elements from `options`."
   ]
  },
  {
   "cell_type": "code",
   "execution_count": 8,
   "metadata": {
    "scrolled": true
   },
   "outputs": [],
   "source": [
    "# Simulate 10 fair coin flips"
   ]
  },
  {
   "cell_type": "markdown",
   "metadata": {
    "slideshow": {
     "slide_type": "slide"
    }
   },
   "source": [
    "### With replacement vs. without replacement\n",
    "\n",
    "- By default, `np.random.choice` selects **with** replacement.\n",
    "- That is, after making a selection, that option is still available.\n",
    "    - e.g. if every time you draw a marble from a bag, you put it back.\n",
    "- If an option can only be selected once, select **without** replacement by specifying `replace=False`.\n",
    "    - e.g. if every time you draw a marble from a bag, you do not put it back."
   ]
  },
  {
   "cell_type": "code",
   "execution_count": 9,
   "metadata": {},
   "outputs": [],
   "source": [
    "# Choose three colleges to win free HDH swag\n",
    "colleges = ['Revelle', 'John Muir', 'Thurgood Marshall', \n",
    "            'Earl Warren', 'Eleanor Roosevelt', 'Sixth', 'Seventh']"
   ]
  },
  {
   "cell_type": "markdown",
   "metadata": {
    "slideshow": {
     "slide_type": "slide"
    }
   },
   "source": [
    "## Example: What's the probability of getting 60 or more heads if I flip 100 coins?"
   ]
  },
  {
   "cell_type": "markdown",
   "metadata": {
    "slideshow": {
     "slide_type": "slide"
    }
   },
   "source": [
    "### Flipping coins\n",
    "\n",
    "What is the probability of getting 60 or more heads if I flip 100 coins?\n",
    "\n",
    "**Strategy:**\n",
    "\n",
    "1. Figure out how to do one experiment (i.e., flip 100 coins).\n",
    "2. Run the experiment a bunch of times.\n",
    "3. Find the proportion of experiments in which the number of heads was 60 or more."
   ]
  },
  {
   "cell_type": "markdown",
   "metadata": {
    "slideshow": {
     "slide_type": "slide"
    }
   },
   "source": [
    "### Step 1: Figure out how to do one experiment\n",
    "\n",
    "- Use `np.random.choice` to flip 100 coins.\n",
    "- Use `np.count_nonzero` to count the number of heads.\n",
    "    - `np.count_nonzero(array)` returns the number of entries in `array` that are `True`.\n",
    "    "
   ]
  },
  {
   "cell_type": "code",
   "execution_count": null,
   "metadata": {},
   "outputs": [],
   "source": []
  },
  {
   "cell_type": "code",
   "execution_count": null,
   "metadata": {},
   "outputs": [],
   "source": []
  },
  {
   "cell_type": "code",
   "execution_count": null,
   "metadata": {},
   "outputs": [],
   "source": []
  },
  {
   "cell_type": "markdown",
   "metadata": {
    "slideshow": {
     "slide_type": "fragment"
    }
   },
   "source": [
    "- Q: Why is it called `count_nonzero`?\n",
    "- A: In Python, `True == 1` and `False == 0`, so counting the non-zero elements counts the number of `True`s."
   ]
  },
  {
   "cell_type": "markdown",
   "metadata": {
    "slideshow": {
     "slide_type": "slide"
    }
   },
   "source": [
    "### Aside: Putting the experiment in a function\n",
    "\n",
    "It's a good idea to do this, as it makes it easier to run the experiment again."
   ]
  },
  {
   "cell_type": "code",
   "execution_count": null,
   "metadata": {},
   "outputs": [],
   "source": []
  },
  {
   "cell_type": "code",
   "execution_count": null,
   "metadata": {},
   "outputs": [],
   "source": [
    "coin_experiment()"
   ]
  },
  {
   "cell_type": "markdown",
   "metadata": {
    "slideshow": {
     "slide_type": "slide"
    }
   },
   "source": [
    "### Step 2: Repeat the experiment\n",
    "\n",
    "- How do we run the same code many times? **Using a `for`-loop!**\n",
    "- Each time we run the experiment, we'll need to store the results in an array.\n",
    "    - To do this, we'll use `np.append`!"
   ]
  },
  {
   "cell_type": "code",
   "execution_count": null,
   "metadata": {
    "slideshow": {
     "slide_type": "-"
    }
   },
   "outputs": [],
   "source": [
    "# Specify the number of repetitions\n",
    "\n",
    "# Create an empty array to store the results\n",
    "\n",
    "# For each repetition, run the experiment and add the result to head_counts"
   ]
  },
  {
   "cell_type": "code",
   "execution_count": null,
   "metadata": {},
   "outputs": [],
   "source": []
  },
  {
   "cell_type": "code",
   "execution_count": null,
   "metadata": {},
   "outputs": [],
   "source": []
  },
  {
   "cell_type": "markdown",
   "metadata": {
    "slideshow": {
     "slide_type": "slide"
    }
   },
   "source": [
    "### Step 3: Find the proportion of experiments in which the number of heads was 60 or more"
   ]
  },
  {
   "cell_type": "code",
   "execution_count": null,
   "metadata": {},
   "outputs": [],
   "source": []
  },
  {
   "cell_type": "code",
   "execution_count": null,
   "metadata": {},
   "outputs": [],
   "source": [
    "# In how many experiments was the number of heads >= 60?"
   ]
  },
  {
   "cell_type": "code",
   "execution_count": null,
   "metadata": {},
   "outputs": [],
   "source": [
    "# What is this as a proportion?"
   ]
  },
  {
   "cell_type": "code",
   "execution_count": null,
   "metadata": {},
   "outputs": [],
   "source": [
    "# Can also use np.mean()! Why?"
   ]
  },
  {
   "cell_type": "markdown",
   "metadata": {},
   "source": [
    "This is quite close to the true theoretical answer!"
   ]
  },
  {
   "cell_type": "code",
   "execution_count": null,
   "metadata": {},
   "outputs": [],
   "source": [
    "# The theoretical answer – don't worry about how or why this code works\n",
    "import math\n",
    "sum([math.comb(100, i) * (1 / 2)**100 for i in np.arange(60, 101)])"
   ]
  },
  {
   "cell_type": "markdown",
   "metadata": {
    "slideshow": {
     "slide_type": "slide"
    }
   },
   "source": [
    "### Visualizing the distribution"
   ]
  },
  {
   "cell_type": "code",
   "execution_count": null,
   "metadata": {},
   "outputs": [],
   "source": [
    "bpd.DataFrame().assign(\n",
    "    Number_of_Heads=head_counts\n",
    ").plot(kind='hist', bins=np.arange(30.5, 70), density=True, ec='w', figsize=(10, 5));\n",
    "plt.axvline(60, color='C1');"
   ]
  },
  {
   "cell_type": "markdown",
   "metadata": {
    "slideshow": {
     "slide_type": "-"
    }
   },
   "source": [
    "- This histogram describes the distribution of the number of heads in each experiment.\n",
    "- Now we see another reason to use density histogram.\n",
    "    - Using density means that the bars can also represent **probabilities**.\n",
    "    - We call this type of histogram a **probability distribution**."
   ]
  },
  {
   "cell_type": "markdown",
   "metadata": {
    "slideshow": {
     "slide_type": "slide"
    }
   },
   "source": [
    "## Example: The \"Monty Hall\" Problem"
   ]
  },
  {
   "cell_type": "markdown",
   "metadata": {
    "slideshow": {
     "slide_type": "slide"
    }
   },
   "source": [
    "<img src=\"data/monty_1.svg\" width=75% />"
   ]
  },
  {
   "cell_type": "markdown",
   "metadata": {
    "slideshow": {
     "slide_type": "slide"
    }
   },
   "source": [
    "<img src=\"data/monty_2.svg\" width=75% />"
   ]
  },
  {
   "cell_type": "markdown",
   "metadata": {
    "slideshow": {
     "slide_type": "slide"
    }
   },
   "source": [
    "<img src=\"data/monty_3.svg\" width=85% />"
   ]
  },
  {
   "cell_type": "markdown",
   "metadata": {
    "slideshow": {
     "slide_type": "slide"
    }
   },
   "source": [
    "### The \"Monty Hall\" Problem\n",
    "\n",
    "Suppose you’re on a game show, and you’re given the choice of three doors: Behind one door is a car 🚗; behind the others, goats 🐐🐐. \n",
    "\n",
    "- You pick a door, say No. 2, and the host, **who knows what’s behind the doors**, opens another door, say No. 3, which has a goat. \n",
    "\n",
    "- He then says to you, “Do you want to pick door No. 1?” \n",
    "\n",
    "- **Question:** Is it to your advantage to switch your choice?\n",
    "\n",
    "_(The question was originally posed in Parade magazine’s \"Ask Marilyn\" column. It is called the \"Monty Hall problem\" because Monty Hall was the host of the game show in question, \"Let's Make a Deal.\")_"
   ]
  },
  {
   "cell_type": "markdown",
   "metadata": {
    "slideshow": {
     "slide_type": "slide"
    }
   },
   "source": [
    "### Hmm...\n",
    "\n",
    "You originally selected door #2. The host reveals door #3 to have a goat behind it. What should you do?\n",
    "\n",
    "A. Might as well stick with door number #2; it has just as high a chance of winning as door #1. It doesn't matter whether you switch or not.\n",
    "\n",
    "B. Switch to door number #1; it has a higher chance of winning than door #2."
   ]
  },
  {
   "cell_type": "markdown",
   "metadata": {
    "slideshow": {
     "slide_type": "slide"
    }
   },
   "source": [
    "### Let's see 🤔\n",
    "\n",
    "- We'll use simulation to compute:\n",
    "    - the probability of winning if we switch.\n",
    "    - the probability of winning if we stay.\n",
    "        - This is just 1 - (probability of winning if we switch).\n",
    "- Whichever strategy has the higher probability of winning is better!"
   ]
  },
  {
   "cell_type": "markdown",
   "metadata": {
    "slideshow": {
     "slide_type": "slide"
    }
   },
   "source": [
    "### Time to simulate!\n",
    "\n",
    "Let's **simulate** the Monty Hall problem many times to **estimate** the probability of winning.\n",
    "\n",
    "1. Figure out how to simulate one game of Monty Hall.\n",
    "2. Play the game many times.\n",
    "3. Count the proportion of wins for each strategy (stay or switch)."
   ]
  },
  {
   "cell_type": "markdown",
   "metadata": {
    "slideshow": {
     "slide_type": "slide"
    }
   },
   "source": [
    "### You Try:\n",
    "\n",
    "Implement a simulation of the Monty Hall problem.\n",
    "\n",
    "1. Write a function `simulate_monty_hall()` that simulates one game of Monty Hall. If staying wins the game, output `'Stay'`. Otherwise, output `'Switch'`. \n",
    "2. Create an array `winning_strategies` that has 10,000 game results from simulating Monty Hall.\n",
    "3. Count the proportion of wins for each strategy (stay or switch) and interpret it.\n",
    "\n",
    "**Try it out. Work with a neighbor if you'd like.**"
   ]
  },
  {
   "cell_type": "code",
   "execution_count": null,
   "metadata": {},
   "outputs": [],
   "source": [
    "# You try: Step 1\n"
   ]
  },
  {
   "cell_type": "code",
   "execution_count": null,
   "metadata": {},
   "outputs": [],
   "source": [
    "# You try: Step 2\n"
   ]
  },
  {
   "cell_type": "code",
   "execution_count": null,
   "metadata": {},
   "outputs": [],
   "source": [
    "# You try: Step 3\n"
   ]
  },
  {
   "cell_type": "markdown",
   "metadata": {
    "slideshow": {
     "slide_type": "slide"
    }
   },
   "source": [
    "### Step 1: Simulate a single game\n",
    "\n",
    "When a contestant picks their door, there are three equally-likely outcomes:\n",
    "\n",
    "1. Goat 🐐 #1.\n",
    "2. Goat 🐐 #2.\n",
    "3. Car 🚗."
   ]
  },
  {
   "cell_type": "markdown",
   "metadata": {
    "slideshow": {
     "slide_type": "slide"
    }
   },
   "source": [
    "### Step 1: Simulate a single game\n",
    "\n",
    "Suppose we can see what is behind their door (but the contestant can't).\n",
    "\n",
    "- If it is a car, they will win if they stay.\n",
    "- If it is a goat, they will win if they switch."
   ]
  },
  {
   "cell_type": "markdown",
   "metadata": {
    "slideshow": {
     "slide_type": "slide"
    }
   },
   "source": [
    "### Step 1: Simulate a single game"
   ]
  },
  {
   "cell_type": "code",
   "execution_count": null,
   "metadata": {},
   "outputs": [],
   "source": []
  },
  {
   "cell_type": "markdown",
   "metadata": {
    "slideshow": {
     "slide_type": "slide"
    }
   },
   "source": [
    "### Step 1: Simulate a single game\n",
    "\n",
    "Let's turn this into a function to make it easier to repeat:"
   ]
  },
  {
   "cell_type": "code",
   "execution_count": null,
   "metadata": {},
   "outputs": [],
   "source": []
  },
  {
   "cell_type": "code",
   "execution_count": null,
   "metadata": {},
   "outputs": [],
   "source": [
    "simulate_monty_hall()"
   ]
  },
  {
   "cell_type": "markdown",
   "metadata": {
    "slideshow": {
     "slide_type": "slide"
    }
   },
   "source": [
    "### Step 2: Play the game many times\n",
    "\n",
    "We should save the winning strategies. To do so, let's use `np.append`:"
   ]
  },
  {
   "cell_type": "code",
   "execution_count": null,
   "metadata": {},
   "outputs": [],
   "source": []
  },
  {
   "cell_type": "code",
   "execution_count": null,
   "metadata": {},
   "outputs": [],
   "source": [
    "winning_strategies"
   ]
  },
  {
   "cell_type": "markdown",
   "metadata": {
    "slideshow": {
     "slide_type": "slide"
    }
   },
   "source": [
    "### Step 3: Count the proportion of wins for each strategy (stay or switch)"
   ]
  },
  {
   "cell_type": "code",
   "execution_count": null,
   "metadata": {},
   "outputs": [],
   "source": []
  },
  {
   "cell_type": "code",
   "execution_count": null,
   "metadata": {},
   "outputs": [],
   "source": []
  },
  {
   "cell_type": "code",
   "execution_count": null,
   "metadata": {},
   "outputs": [],
   "source": []
  },
  {
   "cell_type": "markdown",
   "metadata": {
    "slideshow": {
     "slide_type": "slide"
    }
   },
   "source": [
    "### Marilyn vos Savant's column\n",
    "\n",
    "\n",
    "<div style=\"display: flex; margin-top: .5in; margin-right: 1in\">\n",
    "<div style=\"width: 85%;\">\n",
    "    <ul>\n",
    "        <li>vos Savant asked the question in <i>Parade</i> magazine.</li>\n",
    "        <li>She stated the correct answer: <i>switch</i>.</li>\n",
    "        <li>She received over 10,000 letters in disagreement, including over 1,000 letters from people with Ph.D.s.</li>\n",
    "    </ul>\n",
    "</div>\n",
    "<div style=\"width: 40%;\">\n",
    "    <img src=\"data/vos_savant.jpg\" width=300>\n",
    "</div>\n",
    "</div>\n"
   ]
  },
  {
   "cell_type": "markdown",
   "metadata": {
    "slideshow": {
     "slide_type": "slide"
    }
   },
   "source": [
    "## Why Does It Matter?"
   ]
  },
  {
   "cell_type": "markdown",
   "metadata": {
    "slideshow": {
     "slide_type": "slide"
    }
   },
   "source": [
    "### Simulation finds probabilities\n",
    "\n",
    "- Calculating probabilities is important, but can be hard!\n",
    "    - You'll learn plenty of formulas in future DSC classes.\n",
    "- Simulation lets us find probabilities by using a computer rather than math.\n",
    "- Many real-world scenarios are complicated.\n",
    "    - Simulation is much easier than math in many of these cases."
   ]
  },
  {
   "cell_type": "markdown",
   "metadata": {
    "slideshow": {
     "slide_type": "slide"
    }
   },
   "source": [
    "### What's next?\n",
    "\n",
    "- In the next class, we will start talking about sampling.\n",
    "    - Key idea: I want to learn something about a large population (e.g. all undergraduates at UCSD). However, it's far too difficult to survey everyone. If I collect a sample, what can I infer about the larger population?\n",
    "- **Simulation (today) will not be on the midterm, but probability will.**"
   ]
  }
 ],
 "metadata": {
  "kernelspec": {
   "display_name": "Python 3 (ipykernel)",
   "language": "python",
   "name": "python3"
  },
  "language_info": {
   "codemirror_mode": {
    "name": "ipython",
    "version": 3
   },
   "file_extension": ".py",
   "mimetype": "text/x-python",
   "name": "python",
   "nbconvert_exporter": "python",
   "pygments_lexer": "ipython3",
   "version": "3.8.5"
  },
  "livereveal": {
   "scroll": true,
   "transition": "none"
  }
 },
 "nbformat": 4,
 "nbformat_minor": 2
}
