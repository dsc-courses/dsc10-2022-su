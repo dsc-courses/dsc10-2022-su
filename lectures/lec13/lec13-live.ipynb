{
 "cells": [
  {
   "cell_type": "code",
   "execution_count": 11,
   "metadata": {
    "slideshow": {
     "slide_type": "skip"
    }
   },
   "outputs": [
    {
     "data": {
      "text/html": [
       "\n",
       "<script type=\"text/javascript\" src=\"https://pandastutor.com/build/wsembed.bundle.2022-07-07-release.js\"></script>\n",
       "<script>\n",
       "console.log(\"initializing pandas_tutor js\")\n",
       "\n",
       "function drawWsv(viz_id, spec, options) {\n",
       "  if (typeof createWsvFromPandasTrace === 'undefined') {\n",
       "    setTimeout(() => drawWsv(viz_id, spec, options), 2000) // retry in 2 seconds\n",
       "    return\n",
       "  }\n",
       "  createWsvFromPandasTrace(viz_id, spec, options)\n",
       "}\n",
       "</script>\n"
      ],
      "text/plain": [
       "<IPython.core.display.HTML object>"
      ]
     },
     "metadata": {},
     "output_type": "display_data"
    }
   ],
   "source": [
    "# Set up packages for lecture. Don't worry about understanding this code, but\n",
    "# make sure to run it if you're following along.\n",
    "import numpy as np\n",
    "import babypandas as bpd\n",
    "import pandas as pd\n",
    "from matplotlib_inline.backend_inline import set_matplotlib_formats\n",
    "import matplotlib.pyplot as plt\n",
    "%reload_ext pandas_tutor\n",
    "%set_pandas_tutor_options {'projectorMode': True}\n",
    "set_matplotlib_formats(\"svg\")\n",
    "plt.style.use('fivethirtyeight')\n",
    "\n",
    "np.set_printoptions(threshold=20, precision=2, suppress=True)\n",
    "pd.set_option(\"display.max_rows\", 7)\n",
    "pd.set_option(\"display.max_columns\", 8)\n",
    "pd.set_option(\"display.precision\", 2)"
   ]
  },
  {
   "cell_type": "markdown",
   "metadata": {
    "slideshow": {
     "slide_type": "slide"
    }
   },
   "source": [
    "# Lecture 13 – Simulation\n",
    "\n",
    "## DSC 10, Summer 2022"
   ]
  },
  {
   "cell_type": "markdown",
   "metadata": {
    "slideshow": {
     "slide_type": "slide"
    }
   },
   "source": [
    "### Announcements\n",
    "\n",
    "- The midterm is **Fri 7/29 at 11:00am**.\n",
    "- Homework 4 is due on **Sat 7/30 at 11:59pm**.\n",
    "- The Midterm Project is due **Sat 8/6 at 11:59pm**."
   ]
  },
  {
   "cell_type": "markdown",
   "metadata": {
    "slideshow": {
     "slide_type": "slide"
    }
   },
   "source": [
    "### Agenda\n",
    "\n",
    "- Simulation.\n",
    "    - Example: What's the probability of getting 60 or more heads if I flip 100 coins?\n",
    "    - Example: The \"Monty Hall\" Problem."
   ]
  },
  {
   "cell_type": "markdown",
   "metadata": {
    "slideshow": {
     "slide_type": "slide"
    }
   },
   "source": [
    "## Simulation"
   ]
  },
  {
   "cell_type": "markdown",
   "metadata": {
    "slideshow": {
     "slide_type": "slide"
    }
   },
   "source": [
    "### Simulation\n",
    "\n",
    "- What is the probability of getting 60 or more heads if I flip 100 coins?\n",
    "- While we _could_ calculate it by hand (and will learn how to in future courses), we can also approximate it using the computer:\n",
    "    1. Figure out how to do one experiment (i.e., flip 100 coins).\n",
    "    2. Run the experiment a bunch of times.\n",
    "    3. Find the proportion of experiments in which the number of heads was 60 or more.\n",
    "- This is how we'll use **simulation** – to approximate a probability through computation.\n",
    "    - The techniques we will introduce in today's lecture will appear in almost every lecture for the remainder of the quarter!"
   ]
  },
  {
   "cell_type": "markdown",
   "metadata": {
    "slideshow": {
     "slide_type": "slide"
    }
   },
   "source": [
    "### Making a random choice\n",
    "\n",
    "- To simulate, we need a way to perform a random experiment on the computer (e.g. flipping a coin, rolling a die).\n",
    "- A helpful function is `np.random.choice(options)`.\n",
    "    - The input, `options`, is a list or array to choose from.\n",
    "    - The output is a random element in `options`. By default, all elements are equally likely to be chosen."
   ]
  },
  {
   "cell_type": "code",
   "execution_count": 17,
   "metadata": {},
   "outputs": [
    {
     "data": {
      "text/plain": [
       "'Heads'"
      ]
     },
     "execution_count": 17,
     "metadata": {},
     "output_type": "execute_result"
    }
   ],
   "source": [
    "# Simulate a fair coin flip\n",
    "np.random.choice(['Heads', 'Tails'])"
   ]
  },
  {
   "cell_type": "code",
   "execution_count": 24,
   "metadata": {
    "scrolled": true
   },
   "outputs": [
    {
     "data": {
      "text/plain": [
       "1"
      ]
     },
     "execution_count": 24,
     "metadata": {},
     "output_type": "execute_result"
    }
   ],
   "source": [
    "# Simulate a roll of a die\n",
    "np.random.choice(np.arange(1, 7))"
   ]
  },
  {
   "cell_type": "markdown",
   "metadata": {
    "slideshow": {
     "slide_type": "slide"
    }
   },
   "source": [
    "### Making multiple random choices\n",
    "\n",
    "`np.random.choice(options, n)` will return an array of `n` randomly selected elements from `options`."
   ]
  },
  {
   "cell_type": "code",
   "execution_count": 28,
   "metadata": {
    "scrolled": true
   },
   "outputs": [
    {
     "data": {
      "text/plain": [
       "array(['Heads', 'Heads', 'Heads', ..., 'Tails', 'Heads', 'Heads'],\n",
       "      dtype='<U5')"
      ]
     },
     "execution_count": 28,
     "metadata": {},
     "output_type": "execute_result"
    }
   ],
   "source": [
    "# Simulate 10 fair coin flips\n",
    "np.random.choice(['Heads', 'Tails'], 100)"
   ]
  },
  {
   "cell_type": "markdown",
   "metadata": {
    "slideshow": {
     "slide_type": "slide"
    }
   },
   "source": [
    "### With replacement vs. without replacement\n",
    "\n",
    "- By default, `np.random.choice` selects **with** replacement.\n",
    "- That is, after making a selection, that option is still available.\n",
    "    - e.g. if every time you draw a marble from a bag, you put it back.\n",
    "- If an option can only be selected once, select **without** replacement by specifying `replace=False`.\n",
    "    - e.g. if every time you draw a marble from a bag, you do not put it back."
   ]
  },
  {
   "cell_type": "code",
   "execution_count": 38,
   "metadata": {},
   "outputs": [
    {
     "data": {
      "text/plain": [
       "array(['Sixth', 'John Muir', 'Earl Warren'], dtype='<U17')"
      ]
     },
     "execution_count": 38,
     "metadata": {},
     "output_type": "execute_result"
    }
   ],
   "source": [
    "# Choose three colleges to win free HDH swag\n",
    "colleges = ['Revelle', 'John Muir', 'Thurgood Marshall', \n",
    "            'Earl Warren', 'Eleanor Roosevelt', 'Sixth', 'Seventh']\n",
    "\n",
    "np.random.choice(colleges, 3, replace=False)"
   ]
  },
  {
   "cell_type": "markdown",
   "metadata": {
    "slideshow": {
     "slide_type": "slide"
    }
   },
   "source": [
    "## Example: What's the probability of getting 60 or more heads if I flip 100 coins?"
   ]
  },
  {
   "cell_type": "markdown",
   "metadata": {
    "slideshow": {
     "slide_type": "slide"
    }
   },
   "source": [
    "### Flipping coins\n",
    "\n",
    "What is the probability of getting 60 or more heads if I flip 100 coins?\n",
    "\n",
    "**Strategy:**\n",
    "\n",
    "1. Figure out how to do one experiment (i.e., flip 100 coins).\n",
    "2. Run the experiment a bunch of times.\n",
    "3. Find the proportion of experiments in which the number of heads was 60 or more."
   ]
  },
  {
   "cell_type": "markdown",
   "metadata": {
    "slideshow": {
     "slide_type": "slide"
    }
   },
   "source": [
    "### Step 1: Figure out how to do one experiment\n",
    "\n",
    "- Use `np.random.choice` to flip 100 coins.\n",
    "- Use `np.count_nonzero` to count the number of heads.\n",
    "    - `np.count_nonzero(array)` returns the number of entries in `array` that are `True`.\n",
    "    "
   ]
  },
  {
   "cell_type": "code",
   "execution_count": 48,
   "metadata": {},
   "outputs": [
    {
     "data": {
      "text/plain": [
       "array(['Tails', 'Tails', 'Tails', ..., 'Heads', 'Heads', 'Heads'],\n",
       "      dtype='<U5')"
      ]
     },
     "execution_count": 48,
     "metadata": {},
     "output_type": "execute_result"
    }
   ],
   "source": [
    "coins = np.random.choice(['Heads', 'Tails'], 100)\n",
    "coins"
   ]
  },
  {
   "cell_type": "code",
   "execution_count": 49,
   "metadata": {},
   "outputs": [
    {
     "data": {
      "text/plain": [
       "48"
      ]
     },
     "execution_count": 49,
     "metadata": {},
     "output_type": "execute_result"
    }
   ],
   "source": [
    "(coins == 'Heads').sum()"
   ]
  },
  {
   "cell_type": "code",
   "execution_count": 50,
   "metadata": {},
   "outputs": [
    {
     "data": {
      "text/plain": [
       "48"
      ]
     },
     "execution_count": 50,
     "metadata": {},
     "output_type": "execute_result"
    }
   ],
   "source": [
    "np.count_nonzero(coins == 'Heads')"
   ]
  },
  {
   "cell_type": "markdown",
   "metadata": {
    "slideshow": {
     "slide_type": "fragment"
    }
   },
   "source": [
    "- Q: Why is it called `count_nonzero`?\n",
    "- A: In Python, `True == 1` and `False == 0`, so counting the non-zero elements counts the number of `True`s."
   ]
  },
  {
   "cell_type": "markdown",
   "metadata": {
    "slideshow": {
     "slide_type": "slide"
    }
   },
   "source": [
    "### Aside: Putting the experiment in a function\n",
    "\n",
    "It's a good idea to do this, as it makes it easier to run the experiment again."
   ]
  },
  {
   "cell_type": "code",
   "execution_count": 51,
   "metadata": {},
   "outputs": [],
   "source": [
    "def coin_experiment():\n",
    "    coins = np.random.choice(['Heads', 'Tails'], 100)\n",
    "    return np.count_nonzero(coins == 'Heads')"
   ]
  },
  {
   "cell_type": "code",
   "execution_count": 61,
   "metadata": {},
   "outputs": [
    {
     "data": {
      "text/plain": [
       "51"
      ]
     },
     "execution_count": 61,
     "metadata": {},
     "output_type": "execute_result"
    }
   ],
   "source": [
    "coin_experiment()"
   ]
  },
  {
   "cell_type": "markdown",
   "metadata": {
    "slideshow": {
     "slide_type": "slide"
    }
   },
   "source": [
    "### Step 2: Repeat the experiment\n",
    "\n",
    "- How do we run the same code many times? **Using a `for`-loop!**\n",
    "- Each time we run the experiment, we'll need to store the results in an array.\n",
    "    - To do this, we'll use `np.append`!"
   ]
  },
  {
   "cell_type": "code",
   "execution_count": 62,
   "metadata": {
    "slideshow": {
     "slide_type": "-"
    }
   },
   "outputs": [],
   "source": [
    "# Specify the number of repetitions\n",
    "repetitions = 10_000\n",
    "\n",
    "# Create an empty array to store the results\n",
    "head_counts = np.array([])\n",
    "\n",
    "# For each repetition, run the experiment and add the result to head_counts\n",
    "for i in np.arange(repetitions):\n",
    "    count = coin_experiment()\n",
    "    head_counts = np.append(head_counts, count)"
   ]
  },
  {
   "cell_type": "code",
   "execution_count": 63,
   "metadata": {},
   "outputs": [
    {
     "data": {
      "text/plain": [
       "array([50., 49., 46., ..., 39., 44., 52.])"
      ]
     },
     "execution_count": 63,
     "metadata": {},
     "output_type": "execute_result"
    }
   ],
   "source": [
    "head_counts"
   ]
  },
  {
   "cell_type": "code",
   "execution_count": null,
   "metadata": {},
   "outputs": [],
   "source": []
  },
  {
   "cell_type": "markdown",
   "metadata": {
    "slideshow": {
     "slide_type": "slide"
    }
   },
   "source": [
    "### Step 3: Find the proportion of experiments in which the number of heads was 60 or more"
   ]
  },
  {
   "cell_type": "code",
   "execution_count": 67,
   "metadata": {},
   "outputs": [
    {
     "data": {
      "text/plain": [
       "array([50., 49., 46., ..., 39., 44., 52.])"
      ]
     },
     "execution_count": 67,
     "metadata": {},
     "output_type": "execute_result"
    }
   ],
   "source": [
    "head_counts"
   ]
  },
  {
   "cell_type": "code",
   "execution_count": 69,
   "metadata": {},
   "outputs": [
    {
     "data": {
      "text/plain": [
       "274"
      ]
     },
     "execution_count": 69,
     "metadata": {},
     "output_type": "execute_result"
    }
   ],
   "source": [
    "# In how many experiments was the number of heads >= 60?\n",
    "at_least_60 = (head_counts >= 60).sum()\n",
    "at_least_60"
   ]
  },
  {
   "cell_type": "code",
   "execution_count": 70,
   "metadata": {},
   "outputs": [
    {
     "data": {
      "text/plain": [
       "0.0274"
      ]
     },
     "execution_count": 70,
     "metadata": {},
     "output_type": "execute_result"
    }
   ],
   "source": [
    "# What is this as a proportion?\n",
    "at_least_60 / repetitions"
   ]
  },
  {
   "cell_type": "code",
   "execution_count": 71,
   "metadata": {},
   "outputs": [
    {
     "data": {
      "text/plain": [
       "0.0274"
      ]
     },
     "execution_count": 71,
     "metadata": {},
     "output_type": "execute_result"
    }
   ],
   "source": [
    "# Can also use np.mean()! Why?\n",
    "np.mean(head_counts >= 60)"
   ]
  },
  {
   "cell_type": "markdown",
   "metadata": {},
   "source": [
    "This is quite close to the true theoretical answer!"
   ]
  },
  {
   "cell_type": "code",
   "execution_count": 72,
   "metadata": {},
   "outputs": [
    {
     "data": {
      "text/plain": [
       "0.028443966820490392"
      ]
     },
     "execution_count": 72,
     "metadata": {},
     "output_type": "execute_result"
    }
   ],
   "source": [
    "# The theoretical answer – don't worry about how or why this code works\n",
    "import math\n",
    "sum([math.comb(100, i) * (1 / 2)**100 for i in np.arange(60, 101)])"
   ]
  },
  {
   "cell_type": "markdown",
   "metadata": {
    "slideshow": {
     "slide_type": "slide"
    }
   },
   "source": [
    "### Visualizing the distribution"
   ]
  },
  {
   "cell_type": "code",
   "execution_count": 73,
   "metadata": {},
   "outputs": [
    {
     "data": {
      "image/svg+xml": [
       "<?xml version=\"1.0\" encoding=\"utf-8\" standalone=\"no\"?>\n",
       "<!DOCTYPE svg PUBLIC \"-//W3C//DTD SVG 1.1//EN\"\n",
       "  \"http://www.w3.org/Graphics/SVG/1.1/DTD/svg11.dtd\">\n",
       "<svg height=\"323.049375pt\" version=\"1.1\" viewBox=\"0 0 695.731125 323.049375\" width=\"695.731125pt\" xmlns=\"http://www.w3.org/2000/svg\" xmlns:xlink=\"http://www.w3.org/1999/xlink\">\n",
       " <metadata>\n",
       "  <rdf:RDF xmlns:cc=\"http://creativecommons.org/ns#\" xmlns:dc=\"http://purl.org/dc/elements/1.1/\" xmlns:rdf=\"http://www.w3.org/1999/02/22-rdf-syntax-ns#\">\n",
       "   <cc:Work>\n",
       "    <dc:type rdf:resource=\"http://purl.org/dc/dcmitype/StillImage\"/>\n",
       "    <dc:date>2022-07-27T11:17:59.094544</dc:date>\n",
       "    <dc:format>image/svg+xml</dc:format>\n",
       "    <dc:creator>\n",
       "     <cc:Agent>\n",
       "      <dc:title>Matplotlib v3.4.2, https://matplotlib.org/</dc:title>\n",
       "     </cc:Agent>\n",
       "    </dc:creator>\n",
       "   </cc:Work>\n",
       "  </rdf:RDF>\n",
       " </metadata>\n",
       " <defs>\n",
       "  <style type=\"text/css\">*{stroke-linecap:butt;stroke-linejoin:round;}</style>\n",
       " </defs>\n",
       " <g id=\"figure_1\">\n",
       "  <g id=\"patch_1\">\n",
       "   <path d=\"M 0 323.049375 \n",
       "L 695.731125 323.049375 \n",
       "L 695.731125 0 \n",
       "L 0 0 \n",
       "z\n",
       "\" style=\"fill:#f0f0f0;\"/>\n",
       "  </g>\n",
       "  <g id=\"axes_1\">\n",
       "   <g id=\"patch_2\">\n",
       "    <path d=\"M 62.131125 298.8 \n",
       "L 688.531125 298.8 \n",
       "L 688.531125 7.2 \n",
       "L 62.131125 7.2 \n",
       "z\n",
       "\" style=\"fill:#f0f0f0;\"/>\n",
       "   </g>\n",
       "   <g id=\"matplotlib.axis_1\">\n",
       "    <g id=\"xtick_1\">\n",
       "     <g id=\"line2d_1\">\n",
       "      <path clip-path=\"url(#pdd3b5ccc9a)\" d=\"M 83.303153 298.8 \n",
       "L 83.303153 7.2 \n",
       "\" style=\"fill:none;stroke:#cbcbcb;\"/>\n",
       "     </g>\n",
       "     <g id=\"line2d_2\"/>\n",
       "     <g id=\"text_1\">\n",
       "      <!-- 30 -->\n",
       "      <g transform=\"translate(74.395653 312.937813)scale(0.14 -0.14)\">\n",
       "       <defs>\n",
       "        <path d=\"M 2597 2516 \n",
       "Q 3050 2419 3304 2112 \n",
       "Q 3559 1806 3559 1356 \n",
       "Q 3559 666 3084 287 \n",
       "Q 2609 -91 1734 -91 \n",
       "Q 1441 -91 1130 -33 \n",
       "Q 819 25 488 141 \n",
       "L 488 750 \n",
       "Q 750 597 1062 519 \n",
       "Q 1375 441 1716 441 \n",
       "Q 2309 441 2620 675 \n",
       "Q 2931 909 2931 1356 \n",
       "Q 2931 1769 2642 2001 \n",
       "Q 2353 2234 1838 2234 \n",
       "L 1294 2234 \n",
       "L 1294 2753 \n",
       "L 1863 2753 \n",
       "Q 2328 2753 2575 2939 \n",
       "Q 2822 3125 2822 3475 \n",
       "Q 2822 3834 2567 4026 \n",
       "Q 2313 4219 1838 4219 \n",
       "Q 1578 4219 1281 4162 \n",
       "Q 984 4106 628 3988 \n",
       "L 628 4550 \n",
       "Q 988 4650 1302 4700 \n",
       "Q 1616 4750 1894 4750 \n",
       "Q 2613 4750 3031 4423 \n",
       "Q 3450 4097 3450 3541 \n",
       "Q 3450 3153 3228 2886 \n",
       "Q 3006 2619 2597 2516 \n",
       "z\n",
       "\" id=\"DejaVuSans-33\" transform=\"scale(0.015625)\"/>\n",
       "        <path d=\"M 2034 4250 \n",
       "Q 1547 4250 1301 3770 \n",
       "Q 1056 3291 1056 2328 \n",
       "Q 1056 1369 1301 889 \n",
       "Q 1547 409 2034 409 \n",
       "Q 2525 409 2770 889 \n",
       "Q 3016 1369 3016 2328 \n",
       "Q 3016 3291 2770 3770 \n",
       "Q 2525 4250 2034 4250 \n",
       "z\n",
       "M 2034 4750 \n",
       "Q 2819 4750 3233 4129 \n",
       "Q 3647 3509 3647 2328 \n",
       "Q 3647 1150 3233 529 \n",
       "Q 2819 -91 2034 -91 \n",
       "Q 1250 -91 836 529 \n",
       "Q 422 1150 422 2328 \n",
       "Q 422 3509 836 4129 \n",
       "Q 1250 4750 2034 4750 \n",
       "z\n",
       "\" id=\"DejaVuSans-30\" transform=\"scale(0.015625)\"/>\n",
       "       </defs>\n",
       "       <use xlink:href=\"#DejaVuSans-33\"/>\n",
       "       <use x=\"63.623047\" xlink:href=\"#DejaVuSans-30\"/>\n",
       "      </g>\n",
       "     </g>\n",
       "    </g>\n",
       "    <g id=\"xtick_2\">\n",
       "     <g id=\"line2d_3\">\n",
       "      <path clip-path=\"url(#pdd3b5ccc9a)\" d=\"M 156.310146 298.8 \n",
       "L 156.310146 7.2 \n",
       "\" style=\"fill:none;stroke:#cbcbcb;\"/>\n",
       "     </g>\n",
       "     <g id=\"line2d_4\"/>\n",
       "     <g id=\"text_2\">\n",
       "      <!-- 35 -->\n",
       "      <g transform=\"translate(147.402646 312.937813)scale(0.14 -0.14)\">\n",
       "       <defs>\n",
       "        <path d=\"M 691 4666 \n",
       "L 3169 4666 \n",
       "L 3169 4134 \n",
       "L 1269 4134 \n",
       "L 1269 2991 \n",
       "Q 1406 3038 1543 3061 \n",
       "Q 1681 3084 1819 3084 \n",
       "Q 2600 3084 3056 2656 \n",
       "Q 3513 2228 3513 1497 \n",
       "Q 3513 744 3044 326 \n",
       "Q 2575 -91 1722 -91 \n",
       "Q 1428 -91 1123 -41 \n",
       "Q 819 9 494 109 \n",
       "L 494 744 \n",
       "Q 775 591 1075 516 \n",
       "Q 1375 441 1709 441 \n",
       "Q 2250 441 2565 725 \n",
       "Q 2881 1009 2881 1497 \n",
       "Q 2881 1984 2565 2268 \n",
       "Q 2250 2553 1709 2553 \n",
       "Q 1456 2553 1204 2497 \n",
       "Q 953 2441 691 2322 \n",
       "L 691 4666 \n",
       "z\n",
       "\" id=\"DejaVuSans-35\" transform=\"scale(0.015625)\"/>\n",
       "       </defs>\n",
       "       <use xlink:href=\"#DejaVuSans-33\"/>\n",
       "       <use x=\"63.623047\" xlink:href=\"#DejaVuSans-35\"/>\n",
       "      </g>\n",
       "     </g>\n",
       "    </g>\n",
       "    <g id=\"xtick_3\">\n",
       "     <g id=\"line2d_5\">\n",
       "      <path clip-path=\"url(#pdd3b5ccc9a)\" d=\"M 229.317139 298.8 \n",
       "L 229.317139 7.2 \n",
       "\" style=\"fill:none;stroke:#cbcbcb;\"/>\n",
       "     </g>\n",
       "     <g id=\"line2d_6\"/>\n",
       "     <g id=\"text_3\">\n",
       "      <!-- 40 -->\n",
       "      <g transform=\"translate(220.409639 312.937813)scale(0.14 -0.14)\">\n",
       "       <defs>\n",
       "        <path d=\"M 2419 4116 \n",
       "L 825 1625 \n",
       "L 2419 1625 \n",
       "L 2419 4116 \n",
       "z\n",
       "M 2253 4666 \n",
       "L 3047 4666 \n",
       "L 3047 1625 \n",
       "L 3713 1625 \n",
       "L 3713 1100 \n",
       "L 3047 1100 \n",
       "L 3047 0 \n",
       "L 2419 0 \n",
       "L 2419 1100 \n",
       "L 313 1100 \n",
       "L 313 1709 \n",
       "L 2253 4666 \n",
       "z\n",
       "\" id=\"DejaVuSans-34\" transform=\"scale(0.015625)\"/>\n",
       "       </defs>\n",
       "       <use xlink:href=\"#DejaVuSans-34\"/>\n",
       "       <use x=\"63.623047\" xlink:href=\"#DejaVuSans-30\"/>\n",
       "      </g>\n",
       "     </g>\n",
       "    </g>\n",
       "    <g id=\"xtick_4\">\n",
       "     <g id=\"line2d_7\">\n",
       "      <path clip-path=\"url(#pdd3b5ccc9a)\" d=\"M 302.324132 298.8 \n",
       "L 302.324132 7.2 \n",
       "\" style=\"fill:none;stroke:#cbcbcb;\"/>\n",
       "     </g>\n",
       "     <g id=\"line2d_8\"/>\n",
       "     <g id=\"text_4\">\n",
       "      <!-- 45 -->\n",
       "      <g transform=\"translate(293.416632 312.937813)scale(0.14 -0.14)\">\n",
       "       <use xlink:href=\"#DejaVuSans-34\"/>\n",
       "       <use x=\"63.623047\" xlink:href=\"#DejaVuSans-35\"/>\n",
       "      </g>\n",
       "     </g>\n",
       "    </g>\n",
       "    <g id=\"xtick_5\">\n",
       "     <g id=\"line2d_9\">\n",
       "      <path clip-path=\"url(#pdd3b5ccc9a)\" d=\"M 375.331125 298.8 \n",
       "L 375.331125 7.2 \n",
       "\" style=\"fill:none;stroke:#cbcbcb;\"/>\n",
       "     </g>\n",
       "     <g id=\"line2d_10\"/>\n",
       "     <g id=\"text_5\">\n",
       "      <!-- 50 -->\n",
       "      <g transform=\"translate(366.423625 312.937813)scale(0.14 -0.14)\">\n",
       "       <use xlink:href=\"#DejaVuSans-35\"/>\n",
       "       <use x=\"63.623047\" xlink:href=\"#DejaVuSans-30\"/>\n",
       "      </g>\n",
       "     </g>\n",
       "    </g>\n",
       "    <g id=\"xtick_6\">\n",
       "     <g id=\"line2d_11\">\n",
       "      <path clip-path=\"url(#pdd3b5ccc9a)\" d=\"M 448.338118 298.8 \n",
       "L 448.338118 7.2 \n",
       "\" style=\"fill:none;stroke:#cbcbcb;\"/>\n",
       "     </g>\n",
       "     <g id=\"line2d_12\"/>\n",
       "     <g id=\"text_6\">\n",
       "      <!-- 55 -->\n",
       "      <g transform=\"translate(439.430618 312.937813)scale(0.14 -0.14)\">\n",
       "       <use xlink:href=\"#DejaVuSans-35\"/>\n",
       "       <use x=\"63.623047\" xlink:href=\"#DejaVuSans-35\"/>\n",
       "      </g>\n",
       "     </g>\n",
       "    </g>\n",
       "    <g id=\"xtick_7\">\n",
       "     <g id=\"line2d_13\">\n",
       "      <path clip-path=\"url(#pdd3b5ccc9a)\" d=\"M 521.345111 298.8 \n",
       "L 521.345111 7.2 \n",
       "\" style=\"fill:none;stroke:#cbcbcb;\"/>\n",
       "     </g>\n",
       "     <g id=\"line2d_14\"/>\n",
       "     <g id=\"text_7\">\n",
       "      <!-- 60 -->\n",
       "      <g transform=\"translate(512.437611 312.937813)scale(0.14 -0.14)\">\n",
       "       <defs>\n",
       "        <path d=\"M 2113 2584 \n",
       "Q 1688 2584 1439 2293 \n",
       "Q 1191 2003 1191 1497 \n",
       "Q 1191 994 1439 701 \n",
       "Q 1688 409 2113 409 \n",
       "Q 2538 409 2786 701 \n",
       "Q 3034 994 3034 1497 \n",
       "Q 3034 2003 2786 2293 \n",
       "Q 2538 2584 2113 2584 \n",
       "z\n",
       "M 3366 4563 \n",
       "L 3366 3988 \n",
       "Q 3128 4100 2886 4159 \n",
       "Q 2644 4219 2406 4219 \n",
       "Q 1781 4219 1451 3797 \n",
       "Q 1122 3375 1075 2522 \n",
       "Q 1259 2794 1537 2939 \n",
       "Q 1816 3084 2150 3084 \n",
       "Q 2853 3084 3261 2657 \n",
       "Q 3669 2231 3669 1497 \n",
       "Q 3669 778 3244 343 \n",
       "Q 2819 -91 2113 -91 \n",
       "Q 1303 -91 875 529 \n",
       "Q 447 1150 447 2328 \n",
       "Q 447 3434 972 4092 \n",
       "Q 1497 4750 2381 4750 \n",
       "Q 2619 4750 2861 4703 \n",
       "Q 3103 4656 3366 4563 \n",
       "z\n",
       "\" id=\"DejaVuSans-36\" transform=\"scale(0.015625)\"/>\n",
       "       </defs>\n",
       "       <use xlink:href=\"#DejaVuSans-36\"/>\n",
       "       <use x=\"63.623047\" xlink:href=\"#DejaVuSans-30\"/>\n",
       "      </g>\n",
       "     </g>\n",
       "    </g>\n",
       "    <g id=\"xtick_8\">\n",
       "     <g id=\"line2d_15\">\n",
       "      <path clip-path=\"url(#pdd3b5ccc9a)\" d=\"M 594.352104 298.8 \n",
       "L 594.352104 7.2 \n",
       "\" style=\"fill:none;stroke:#cbcbcb;\"/>\n",
       "     </g>\n",
       "     <g id=\"line2d_16\"/>\n",
       "     <g id=\"text_8\">\n",
       "      <!-- 65 -->\n",
       "      <g transform=\"translate(585.444604 312.937813)scale(0.14 -0.14)\">\n",
       "       <use xlink:href=\"#DejaVuSans-36\"/>\n",
       "       <use x=\"63.623047\" xlink:href=\"#DejaVuSans-35\"/>\n",
       "      </g>\n",
       "     </g>\n",
       "    </g>\n",
       "    <g id=\"xtick_9\">\n",
       "     <g id=\"line2d_17\">\n",
       "      <path clip-path=\"url(#pdd3b5ccc9a)\" d=\"M 667.359097 298.8 \n",
       "L 667.359097 7.2 \n",
       "\" style=\"fill:none;stroke:#cbcbcb;\"/>\n",
       "     </g>\n",
       "     <g id=\"line2d_18\"/>\n",
       "     <g id=\"text_9\">\n",
       "      <!-- 70 -->\n",
       "      <g transform=\"translate(658.451597 312.937813)scale(0.14 -0.14)\">\n",
       "       <defs>\n",
       "        <path d=\"M 525 4666 \n",
       "L 3525 4666 \n",
       "L 3525 4397 \n",
       "L 1831 0 \n",
       "L 1172 0 \n",
       "L 2766 4134 \n",
       "L 525 4134 \n",
       "L 525 4666 \n",
       "z\n",
       "\" id=\"DejaVuSans-37\" transform=\"scale(0.015625)\"/>\n",
       "       </defs>\n",
       "       <use xlink:href=\"#DejaVuSans-37\"/>\n",
       "       <use x=\"63.623047\" xlink:href=\"#DejaVuSans-30\"/>\n",
       "      </g>\n",
       "     </g>\n",
       "    </g>\n",
       "   </g>\n",
       "   <g id=\"matplotlib.axis_2\">\n",
       "    <g id=\"ytick_1\">\n",
       "     <g id=\"line2d_19\">\n",
       "      <path clip-path=\"url(#pdd3b5ccc9a)\" d=\"M 62.131125 298.8 \n",
       "L 688.531125 298.8 \n",
       "\" style=\"fill:none;stroke:#cbcbcb;\"/>\n",
       "     </g>\n",
       "     <g id=\"line2d_20\"/>\n",
       "     <g id=\"text_10\">\n",
       "      <!-- 0.00 -->\n",
       "      <g transform=\"translate(27.45925 304.118906)scale(0.14 -0.14)\">\n",
       "       <defs>\n",
       "        <path d=\"M 684 794 \n",
       "L 1344 794 \n",
       "L 1344 0 \n",
       "L 684 0 \n",
       "L 684 794 \n",
       "z\n",
       "\" id=\"DejaVuSans-2e\" transform=\"scale(0.015625)\"/>\n",
       "       </defs>\n",
       "       <use xlink:href=\"#DejaVuSans-30\"/>\n",
       "       <use x=\"63.623047\" xlink:href=\"#DejaVuSans-2e\"/>\n",
       "       <use x=\"95.410156\" xlink:href=\"#DejaVuSans-30\"/>\n",
       "       <use x=\"159.033203\" xlink:href=\"#DejaVuSans-30\"/>\n",
       "      </g>\n",
       "     </g>\n",
       "    </g>\n",
       "    <g id=\"ytick_2\">\n",
       "     <g id=\"line2d_21\">\n",
       "      <path clip-path=\"url(#pdd3b5ccc9a)\" d=\"M 62.131125 265.137662 \n",
       "L 688.531125 265.137662 \n",
       "\" style=\"fill:none;stroke:#cbcbcb;\"/>\n",
       "     </g>\n",
       "     <g id=\"line2d_22\"/>\n",
       "     <g id=\"text_11\">\n",
       "      <!-- 0.01 -->\n",
       "      <g transform=\"translate(27.45925 270.456569)scale(0.14 -0.14)\">\n",
       "       <defs>\n",
       "        <path d=\"M 794 531 \n",
       "L 1825 531 \n",
       "L 1825 4091 \n",
       "L 703 3866 \n",
       "L 703 4441 \n",
       "L 1819 4666 \n",
       "L 2450 4666 \n",
       "L 2450 531 \n",
       "L 3481 531 \n",
       "L 3481 0 \n",
       "L 794 0 \n",
       "L 794 531 \n",
       "z\n",
       "\" id=\"DejaVuSans-31\" transform=\"scale(0.015625)\"/>\n",
       "       </defs>\n",
       "       <use xlink:href=\"#DejaVuSans-30\"/>\n",
       "       <use x=\"63.623047\" xlink:href=\"#DejaVuSans-2e\"/>\n",
       "       <use x=\"95.410156\" xlink:href=\"#DejaVuSans-30\"/>\n",
       "       <use x=\"159.033203\" xlink:href=\"#DejaVuSans-31\"/>\n",
       "      </g>\n",
       "     </g>\n",
       "    </g>\n",
       "    <g id=\"ytick_3\">\n",
       "     <g id=\"line2d_23\">\n",
       "      <path clip-path=\"url(#pdd3b5ccc9a)\" d=\"M 62.131125 231.475325 \n",
       "L 688.531125 231.475325 \n",
       "\" style=\"fill:none;stroke:#cbcbcb;\"/>\n",
       "     </g>\n",
       "     <g id=\"line2d_24\"/>\n",
       "     <g id=\"text_12\">\n",
       "      <!-- 0.02 -->\n",
       "      <g transform=\"translate(27.45925 236.794231)scale(0.14 -0.14)\">\n",
       "       <defs>\n",
       "        <path d=\"M 1228 531 \n",
       "L 3431 531 \n",
       "L 3431 0 \n",
       "L 469 0 \n",
       "L 469 531 \n",
       "Q 828 903 1448 1529 \n",
       "Q 2069 2156 2228 2338 \n",
       "Q 2531 2678 2651 2914 \n",
       "Q 2772 3150 2772 3378 \n",
       "Q 2772 3750 2511 3984 \n",
       "Q 2250 4219 1831 4219 \n",
       "Q 1534 4219 1204 4116 \n",
       "Q 875 4013 500 3803 \n",
       "L 500 4441 \n",
       "Q 881 4594 1212 4672 \n",
       "Q 1544 4750 1819 4750 \n",
       "Q 2544 4750 2975 4387 \n",
       "Q 3406 4025 3406 3419 \n",
       "Q 3406 3131 3298 2873 \n",
       "Q 3191 2616 2906 2266 \n",
       "Q 2828 2175 2409 1742 \n",
       "Q 1991 1309 1228 531 \n",
       "z\n",
       "\" id=\"DejaVuSans-32\" transform=\"scale(0.015625)\"/>\n",
       "       </defs>\n",
       "       <use xlink:href=\"#DejaVuSans-30\"/>\n",
       "       <use x=\"63.623047\" xlink:href=\"#DejaVuSans-2e\"/>\n",
       "       <use x=\"95.410156\" xlink:href=\"#DejaVuSans-30\"/>\n",
       "       <use x=\"159.033203\" xlink:href=\"#DejaVuSans-32\"/>\n",
       "      </g>\n",
       "     </g>\n",
       "    </g>\n",
       "    <g id=\"ytick_4\">\n",
       "     <g id=\"line2d_25\">\n",
       "      <path clip-path=\"url(#pdd3b5ccc9a)\" d=\"M 62.131125 197.812987 \n",
       "L 688.531125 197.812987 \n",
       "\" style=\"fill:none;stroke:#cbcbcb;\"/>\n",
       "     </g>\n",
       "     <g id=\"line2d_26\"/>\n",
       "     <g id=\"text_13\">\n",
       "      <!-- 0.03 -->\n",
       "      <g transform=\"translate(27.45925 203.131893)scale(0.14 -0.14)\">\n",
       "       <use xlink:href=\"#DejaVuSans-30\"/>\n",
       "       <use x=\"63.623047\" xlink:href=\"#DejaVuSans-2e\"/>\n",
       "       <use x=\"95.410156\" xlink:href=\"#DejaVuSans-30\"/>\n",
       "       <use x=\"159.033203\" xlink:href=\"#DejaVuSans-33\"/>\n",
       "      </g>\n",
       "     </g>\n",
       "    </g>\n",
       "    <g id=\"ytick_5\">\n",
       "     <g id=\"line2d_27\">\n",
       "      <path clip-path=\"url(#pdd3b5ccc9a)\" d=\"M 62.131125 164.150649 \n",
       "L 688.531125 164.150649 \n",
       "\" style=\"fill:none;stroke:#cbcbcb;\"/>\n",
       "     </g>\n",
       "     <g id=\"line2d_28\"/>\n",
       "     <g id=\"text_14\">\n",
       "      <!-- 0.04 -->\n",
       "      <g transform=\"translate(27.45925 169.469556)scale(0.14 -0.14)\">\n",
       "       <use xlink:href=\"#DejaVuSans-30\"/>\n",
       "       <use x=\"63.623047\" xlink:href=\"#DejaVuSans-2e\"/>\n",
       "       <use x=\"95.410156\" xlink:href=\"#DejaVuSans-30\"/>\n",
       "       <use x=\"159.033203\" xlink:href=\"#DejaVuSans-34\"/>\n",
       "      </g>\n",
       "     </g>\n",
       "    </g>\n",
       "    <g id=\"ytick_6\">\n",
       "     <g id=\"line2d_29\">\n",
       "      <path clip-path=\"url(#pdd3b5ccc9a)\" d=\"M 62.131125 130.488312 \n",
       "L 688.531125 130.488312 \n",
       "\" style=\"fill:none;stroke:#cbcbcb;\"/>\n",
       "     </g>\n",
       "     <g id=\"line2d_30\"/>\n",
       "     <g id=\"text_15\">\n",
       "      <!-- 0.05 -->\n",
       "      <g transform=\"translate(27.45925 135.807218)scale(0.14 -0.14)\">\n",
       "       <use xlink:href=\"#DejaVuSans-30\"/>\n",
       "       <use x=\"63.623047\" xlink:href=\"#DejaVuSans-2e\"/>\n",
       "       <use x=\"95.410156\" xlink:href=\"#DejaVuSans-30\"/>\n",
       "       <use x=\"159.033203\" xlink:href=\"#DejaVuSans-35\"/>\n",
       "      </g>\n",
       "     </g>\n",
       "    </g>\n",
       "    <g id=\"ytick_7\">\n",
       "     <g id=\"line2d_31\">\n",
       "      <path clip-path=\"url(#pdd3b5ccc9a)\" d=\"M 62.131125 96.825974 \n",
       "L 688.531125 96.825974 \n",
       "\" style=\"fill:none;stroke:#cbcbcb;\"/>\n",
       "     </g>\n",
       "     <g id=\"line2d_32\"/>\n",
       "     <g id=\"text_16\">\n",
       "      <!-- 0.06 -->\n",
       "      <g transform=\"translate(27.45925 102.14488)scale(0.14 -0.14)\">\n",
       "       <use xlink:href=\"#DejaVuSans-30\"/>\n",
       "       <use x=\"63.623047\" xlink:href=\"#DejaVuSans-2e\"/>\n",
       "       <use x=\"95.410156\" xlink:href=\"#DejaVuSans-30\"/>\n",
       "       <use x=\"159.033203\" xlink:href=\"#DejaVuSans-36\"/>\n",
       "      </g>\n",
       "     </g>\n",
       "    </g>\n",
       "    <g id=\"ytick_8\">\n",
       "     <g id=\"line2d_33\">\n",
       "      <path clip-path=\"url(#pdd3b5ccc9a)\" d=\"M 62.131125 63.163636 \n",
       "L 688.531125 63.163636 \n",
       "\" style=\"fill:none;stroke:#cbcbcb;\"/>\n",
       "     </g>\n",
       "     <g id=\"line2d_34\"/>\n",
       "     <g id=\"text_17\">\n",
       "      <!-- 0.07 -->\n",
       "      <g transform=\"translate(27.45925 68.482543)scale(0.14 -0.14)\">\n",
       "       <use xlink:href=\"#DejaVuSans-30\"/>\n",
       "       <use x=\"63.623047\" xlink:href=\"#DejaVuSans-2e\"/>\n",
       "       <use x=\"95.410156\" xlink:href=\"#DejaVuSans-30\"/>\n",
       "       <use x=\"159.033203\" xlink:href=\"#DejaVuSans-37\"/>\n",
       "      </g>\n",
       "     </g>\n",
       "    </g>\n",
       "    <g id=\"ytick_9\">\n",
       "     <g id=\"line2d_35\">\n",
       "      <path clip-path=\"url(#pdd3b5ccc9a)\" d=\"M 62.131125 29.501299 \n",
       "L 688.531125 29.501299 \n",
       "\" style=\"fill:none;stroke:#cbcbcb;\"/>\n",
       "     </g>\n",
       "     <g id=\"line2d_36\"/>\n",
       "     <g id=\"text_18\">\n",
       "      <!-- 0.08 -->\n",
       "      <g transform=\"translate(27.45925 34.820205)scale(0.14 -0.14)\">\n",
       "       <defs>\n",
       "        <path d=\"M 2034 2216 \n",
       "Q 1584 2216 1326 1975 \n",
       "Q 1069 1734 1069 1313 \n",
       "Q 1069 891 1326 650 \n",
       "Q 1584 409 2034 409 \n",
       "Q 2484 409 2743 651 \n",
       "Q 3003 894 3003 1313 \n",
       "Q 3003 1734 2745 1975 \n",
       "Q 2488 2216 2034 2216 \n",
       "z\n",
       "M 1403 2484 \n",
       "Q 997 2584 770 2862 \n",
       "Q 544 3141 544 3541 \n",
       "Q 544 4100 942 4425 \n",
       "Q 1341 4750 2034 4750 \n",
       "Q 2731 4750 3128 4425 \n",
       "Q 3525 4100 3525 3541 \n",
       "Q 3525 3141 3298 2862 \n",
       "Q 3072 2584 2669 2484 \n",
       "Q 3125 2378 3379 2068 \n",
       "Q 3634 1759 3634 1313 \n",
       "Q 3634 634 3220 271 \n",
       "Q 2806 -91 2034 -91 \n",
       "Q 1263 -91 848 271 \n",
       "Q 434 634 434 1313 \n",
       "Q 434 1759 690 2068 \n",
       "Q 947 2378 1403 2484 \n",
       "z\n",
       "M 1172 3481 \n",
       "Q 1172 3119 1398 2916 \n",
       "Q 1625 2713 2034 2713 \n",
       "Q 2441 2713 2670 2916 \n",
       "Q 2900 3119 2900 3481 \n",
       "Q 2900 3844 2670 4047 \n",
       "Q 2441 4250 2034 4250 \n",
       "Q 1625 4250 1398 4047 \n",
       "Q 1172 3844 1172 3481 \n",
       "z\n",
       "\" id=\"DejaVuSans-38\" transform=\"scale(0.015625)\"/>\n",
       "       </defs>\n",
       "       <use xlink:href=\"#DejaVuSans-30\"/>\n",
       "       <use x=\"63.623047\" xlink:href=\"#DejaVuSans-2e\"/>\n",
       "       <use x=\"95.410156\" xlink:href=\"#DejaVuSans-30\"/>\n",
       "       <use x=\"159.033203\" xlink:href=\"#DejaVuSans-38\"/>\n",
       "      </g>\n",
       "     </g>\n",
       "    </g>\n",
       "    <g id=\"text_19\">\n",
       "     <!-- Frequency -->\n",
       "     <g transform=\"translate(19.965375 196.393875)rotate(-90)scale(0.168 -0.168)\">\n",
       "      <defs>\n",
       "       <path d=\"M 628 4666 \n",
       "L 3309 4666 \n",
       "L 3309 4134 \n",
       "L 1259 4134 \n",
       "L 1259 2759 \n",
       "L 3109 2759 \n",
       "L 3109 2228 \n",
       "L 1259 2228 \n",
       "L 1259 0 \n",
       "L 628 0 \n",
       "L 628 4666 \n",
       "z\n",
       "\" id=\"DejaVuSans-46\" transform=\"scale(0.015625)\"/>\n",
       "       <path d=\"M 2631 2963 \n",
       "Q 2534 3019 2420 3045 \n",
       "Q 2306 3072 2169 3072 \n",
       "Q 1681 3072 1420 2755 \n",
       "Q 1159 2438 1159 1844 \n",
       "L 1159 0 \n",
       "L 581 0 \n",
       "L 581 3500 \n",
       "L 1159 3500 \n",
       "L 1159 2956 \n",
       "Q 1341 3275 1631 3429 \n",
       "Q 1922 3584 2338 3584 \n",
       "Q 2397 3584 2469 3576 \n",
       "Q 2541 3569 2628 3553 \n",
       "L 2631 2963 \n",
       "z\n",
       "\" id=\"DejaVuSans-72\" transform=\"scale(0.015625)\"/>\n",
       "       <path d=\"M 3597 1894 \n",
       "L 3597 1613 \n",
       "L 953 1613 \n",
       "Q 991 1019 1311 708 \n",
       "Q 1631 397 2203 397 \n",
       "Q 2534 397 2845 478 \n",
       "Q 3156 559 3463 722 \n",
       "L 3463 178 \n",
       "Q 3153 47 2828 -22 \n",
       "Q 2503 -91 2169 -91 \n",
       "Q 1331 -91 842 396 \n",
       "Q 353 884 353 1716 \n",
       "Q 353 2575 817 3079 \n",
       "Q 1281 3584 2069 3584 \n",
       "Q 2775 3584 3186 3129 \n",
       "Q 3597 2675 3597 1894 \n",
       "z\n",
       "M 3022 2063 \n",
       "Q 3016 2534 2758 2815 \n",
       "Q 2500 3097 2075 3097 \n",
       "Q 1594 3097 1305 2825 \n",
       "Q 1016 2553 972 2059 \n",
       "L 3022 2063 \n",
       "z\n",
       "\" id=\"DejaVuSans-65\" transform=\"scale(0.015625)\"/>\n",
       "       <path d=\"M 947 1747 \n",
       "Q 947 1113 1208 752 \n",
       "Q 1469 391 1925 391 \n",
       "Q 2381 391 2643 752 \n",
       "Q 2906 1113 2906 1747 \n",
       "Q 2906 2381 2643 2742 \n",
       "Q 2381 3103 1925 3103 \n",
       "Q 1469 3103 1208 2742 \n",
       "Q 947 2381 947 1747 \n",
       "z\n",
       "M 2906 525 \n",
       "Q 2725 213 2448 61 \n",
       "Q 2172 -91 1784 -91 \n",
       "Q 1150 -91 751 415 \n",
       "Q 353 922 353 1747 \n",
       "Q 353 2572 751 3078 \n",
       "Q 1150 3584 1784 3584 \n",
       "Q 2172 3584 2448 3432 \n",
       "Q 2725 3281 2906 2969 \n",
       "L 2906 3500 \n",
       "L 3481 3500 \n",
       "L 3481 -1331 \n",
       "L 2906 -1331 \n",
       "L 2906 525 \n",
       "z\n",
       "\" id=\"DejaVuSans-71\" transform=\"scale(0.015625)\"/>\n",
       "       <path d=\"M 544 1381 \n",
       "L 544 3500 \n",
       "L 1119 3500 \n",
       "L 1119 1403 \n",
       "Q 1119 906 1312 657 \n",
       "Q 1506 409 1894 409 \n",
       "Q 2359 409 2629 706 \n",
       "Q 2900 1003 2900 1516 \n",
       "L 2900 3500 \n",
       "L 3475 3500 \n",
       "L 3475 0 \n",
       "L 2900 0 \n",
       "L 2900 538 \n",
       "Q 2691 219 2414 64 \n",
       "Q 2138 -91 1772 -91 \n",
       "Q 1169 -91 856 284 \n",
       "Q 544 659 544 1381 \n",
       "z\n",
       "M 1991 3584 \n",
       "L 1991 3584 \n",
       "z\n",
       "\" id=\"DejaVuSans-75\" transform=\"scale(0.015625)\"/>\n",
       "       <path d=\"M 3513 2113 \n",
       "L 3513 0 \n",
       "L 2938 0 \n",
       "L 2938 2094 \n",
       "Q 2938 2591 2744 2837 \n",
       "Q 2550 3084 2163 3084 \n",
       "Q 1697 3084 1428 2787 \n",
       "Q 1159 2491 1159 1978 \n",
       "L 1159 0 \n",
       "L 581 0 \n",
       "L 581 3500 \n",
       "L 1159 3500 \n",
       "L 1159 2956 \n",
       "Q 1366 3272 1645 3428 \n",
       "Q 1925 3584 2291 3584 \n",
       "Q 2894 3584 3203 3211 \n",
       "Q 3513 2838 3513 2113 \n",
       "z\n",
       "\" id=\"DejaVuSans-6e\" transform=\"scale(0.015625)\"/>\n",
       "       <path d=\"M 3122 3366 \n",
       "L 3122 2828 \n",
       "Q 2878 2963 2633 3030 \n",
       "Q 2388 3097 2138 3097 \n",
       "Q 1578 3097 1268 2742 \n",
       "Q 959 2388 959 1747 \n",
       "Q 959 1106 1268 751 \n",
       "Q 1578 397 2138 397 \n",
       "Q 2388 397 2633 464 \n",
       "Q 2878 531 3122 666 \n",
       "L 3122 134 \n",
       "Q 2881 22 2623 -34 \n",
       "Q 2366 -91 2075 -91 \n",
       "Q 1284 -91 818 406 \n",
       "Q 353 903 353 1747 \n",
       "Q 353 2603 823 3093 \n",
       "Q 1294 3584 2113 3584 \n",
       "Q 2378 3584 2631 3529 \n",
       "Q 2884 3475 3122 3366 \n",
       "z\n",
       "\" id=\"DejaVuSans-63\" transform=\"scale(0.015625)\"/>\n",
       "       <path d=\"M 2059 -325 \n",
       "Q 1816 -950 1584 -1140 \n",
       "Q 1353 -1331 966 -1331 \n",
       "L 506 -1331 \n",
       "L 506 -850 \n",
       "L 844 -850 \n",
       "Q 1081 -850 1212 -737 \n",
       "Q 1344 -625 1503 -206 \n",
       "L 1606 56 \n",
       "L 191 3500 \n",
       "L 800 3500 \n",
       "L 1894 763 \n",
       "L 2988 3500 \n",
       "L 3597 3500 \n",
       "L 2059 -325 \n",
       "z\n",
       "\" id=\"DejaVuSans-79\" transform=\"scale(0.015625)\"/>\n",
       "      </defs>\n",
       "      <use xlink:href=\"#DejaVuSans-46\"/>\n",
       "      <use x=\"50.269531\" xlink:href=\"#DejaVuSans-72\"/>\n",
       "      <use x=\"89.132812\" xlink:href=\"#DejaVuSans-65\"/>\n",
       "      <use x=\"150.65625\" xlink:href=\"#DejaVuSans-71\"/>\n",
       "      <use x=\"214.132812\" xlink:href=\"#DejaVuSans-75\"/>\n",
       "      <use x=\"277.511719\" xlink:href=\"#DejaVuSans-65\"/>\n",
       "      <use x=\"339.035156\" xlink:href=\"#DejaVuSans-6e\"/>\n",
       "      <use x=\"402.414062\" xlink:href=\"#DejaVuSans-63\"/>\n",
       "      <use x=\"457.394531\" xlink:href=\"#DejaVuSans-79\"/>\n",
       "     </g>\n",
       "    </g>\n",
       "   </g>\n",
       "   <g id=\"patch_3\">\n",
       "    <path clip-path=\"url(#pdd3b5ccc9a)\" d=\"M 90.603852 298.8 \n",
       "L 105.205251 298.8 \n",
       "L 105.205251 298.8 \n",
       "L 90.603852 298.8 \n",
       "z\n",
       "\" style=\"fill:#008fd5;stroke:#ffffff;stroke-linejoin:miter;stroke-width:0.5;\"/>\n",
       "   </g>\n",
       "   <g id=\"patch_4\">\n",
       "    <path clip-path=\"url(#pdd3b5ccc9a)\" d=\"M 105.205251 298.8 \n",
       "L 119.806649 298.8 \n",
       "L 119.806649 297.79013 \n",
       "L 105.205251 297.79013 \n",
       "z\n",
       "\" style=\"fill:#008fd5;stroke:#ffffff;stroke-linejoin:miter;stroke-width:0.5;\"/>\n",
       "   </g>\n",
       "   <g id=\"patch_5\">\n",
       "    <path clip-path=\"url(#pdd3b5ccc9a)\" d=\"M 119.806649 298.8 \n",
       "L 134.408048 298.8 \n",
       "L 134.408048 297.79013 \n",
       "L 119.806649 297.79013 \n",
       "z\n",
       "\" style=\"fill:#008fd5;stroke:#ffffff;stroke-linejoin:miter;stroke-width:0.5;\"/>\n",
       "   </g>\n",
       "   <g id=\"patch_6\">\n",
       "    <path clip-path=\"url(#pdd3b5ccc9a)\" d=\"M 134.408048 298.8 \n",
       "L 149.009447 298.8 \n",
       "L 149.009447 294.087273 \n",
       "L 134.408048 294.087273 \n",
       "z\n",
       "\" style=\"fill:#008fd5;stroke:#ffffff;stroke-linejoin:miter;stroke-width:0.5;\"/>\n",
       "   </g>\n",
       "   <g id=\"patch_7\">\n",
       "    <path clip-path=\"url(#pdd3b5ccc9a)\" d=\"M 149.009447 298.8 \n",
       "L 163.610845 298.8 \n",
       "L 163.610845 296.107013 \n",
       "L 149.009447 296.107013 \n",
       "z\n",
       "\" style=\"fill:#008fd5;stroke:#ffffff;stroke-linejoin:miter;stroke-width:0.5;\"/>\n",
       "   </g>\n",
       "   <g id=\"patch_8\">\n",
       "    <path clip-path=\"url(#pdd3b5ccc9a)\" d=\"M 163.610845 298.8 \n",
       "L 178.212244 298.8 \n",
       "L 178.212244 291.394286 \n",
       "L 163.610845 291.394286 \n",
       "z\n",
       "\" style=\"fill:#008fd5;stroke:#ffffff;stroke-linejoin:miter;stroke-width:0.5;\"/>\n",
       "   </g>\n",
       "   <g id=\"patch_9\">\n",
       "    <path clip-path=\"url(#pdd3b5ccc9a)\" d=\"M 178.212244 298.8 \n",
       "L 192.813642 298.8 \n",
       "L 192.813642 291.057662 \n",
       "L 178.212244 291.057662 \n",
       "z\n",
       "\" style=\"fill:#008fd5;stroke:#ffffff;stroke-linejoin:miter;stroke-width:0.5;\"/>\n",
       "   </g>\n",
       "   <g id=\"patch_10\">\n",
       "    <path clip-path=\"url(#pdd3b5ccc9a)\" d=\"M 192.813642 298.8 \n",
       "L 207.415041 298.8 \n",
       "L 207.415041 284.998442 \n",
       "L 192.813642 284.998442 \n",
       "z\n",
       "\" style=\"fill:#008fd5;stroke:#ffffff;stroke-linejoin:miter;stroke-width:0.5;\"/>\n",
       "   </g>\n",
       "   <g id=\"patch_11\">\n",
       "    <path clip-path=\"url(#pdd3b5ccc9a)\" d=\"M 207.415041 298.8 \n",
       "L 222.01644 298.8 \n",
       "L 222.01644 276.582857 \n",
       "L 207.415041 276.582857 \n",
       "z\n",
       "\" style=\"fill:#008fd5;stroke:#ffffff;stroke-linejoin:miter;stroke-width:0.5;\"/>\n",
       "   </g>\n",
       "   <g id=\"patch_12\">\n",
       "    <path clip-path=\"url(#pdd3b5ccc9a)\" d=\"M 222.01644 298.8 \n",
       "L 236.617838 298.8 \n",
       "L 236.617838 263.454545 \n",
       "L 222.01644 263.454545 \n",
       "z\n",
       "\" style=\"fill:#008fd5;stroke:#ffffff;stroke-linejoin:miter;stroke-width:0.5;\"/>\n",
       "   </g>\n",
       "   <g id=\"patch_13\">\n",
       "    <path clip-path=\"url(#pdd3b5ccc9a)\" d=\"M 236.617838 298.8 \n",
       "L 251.219237 298.8 \n",
       "L 251.219237 241.910649 \n",
       "L 236.617838 241.910649 \n",
       "z\n",
       "\" style=\"fill:#008fd5;stroke:#ffffff;stroke-linejoin:miter;stroke-width:0.5;\"/>\n",
       "   </g>\n",
       "   <g id=\"patch_14\">\n",
       "    <path clip-path=\"url(#pdd3b5ccc9a)\" d=\"M 251.219237 298.8 \n",
       "L 265.820635 298.8 \n",
       "L 265.820635 229.455584 \n",
       "L 251.219237 229.455584 \n",
       "z\n",
       "\" style=\"fill:#008fd5;stroke:#ffffff;stroke-linejoin:miter;stroke-width:0.5;\"/>\n",
       "   </g>\n",
       "   <g id=\"patch_15\">\n",
       "    <path clip-path=\"url(#pdd3b5ccc9a)\" d=\"M 265.820635 298.8 \n",
       "L 280.422034 298.8 \n",
       "L 280.422034 198.14961 \n",
       "L 265.820635 198.14961 \n",
       "z\n",
       "\" style=\"fill:#008fd5;stroke:#ffffff;stroke-linejoin:miter;stroke-width:0.5;\"/>\n",
       "   </g>\n",
       "   <g id=\"patch_16\">\n",
       "    <path clip-path=\"url(#pdd3b5ccc9a)\" d=\"M 280.422034 298.8 \n",
       "L 295.023433 298.8 \n",
       "L 295.023433 163.814026 \n",
       "L 280.422034 163.814026 \n",
       "z\n",
       "\" style=\"fill:#008fd5;stroke:#ffffff;stroke-linejoin:miter;stroke-width:0.5;\"/>\n",
       "   </g>\n",
       "   <g id=\"patch_17\">\n",
       "    <path clip-path=\"url(#pdd3b5ccc9a)\" d=\"M 295.023433 298.8 \n",
       "L 309.624831 298.8 \n",
       "L 309.624831 132.508052 \n",
       "L 295.023433 132.508052 \n",
       "z\n",
       "\" style=\"fill:#008fd5;stroke:#ffffff;stroke-linejoin:miter;stroke-width:0.5;\"/>\n",
       "   </g>\n",
       "   <g id=\"patch_18\">\n",
       "    <path clip-path=\"url(#pdd3b5ccc9a)\" d=\"M 309.624831 298.8 \n",
       "L 324.22623 298.8 \n",
       "L 324.22623 102.548571 \n",
       "L 309.624831 102.548571 \n",
       "z\n",
       "\" style=\"fill:#008fd5;stroke:#ffffff;stroke-linejoin:miter;stroke-width:0.5;\"/>\n",
       "   </g>\n",
       "   <g id=\"patch_19\">\n",
       "    <path clip-path=\"url(#pdd3b5ccc9a)\" d=\"M 324.22623 298.8 \n",
       "L 338.827628 298.8 \n",
       "L 338.827628 86.054026 \n",
       "L 324.22623 86.054026 \n",
       "z\n",
       "\" style=\"fill:#008fd5;stroke:#ffffff;stroke-linejoin:miter;stroke-width:0.5;\"/>\n",
       "   </g>\n",
       "   <g id=\"patch_20\">\n",
       "    <path clip-path=\"url(#pdd3b5ccc9a)\" d=\"M 338.827628 298.8 \n",
       "L 353.429027 298.8 \n",
       "L 353.429027 45.995844 \n",
       "L 338.827628 45.995844 \n",
       "z\n",
       "\" style=\"fill:#008fd5;stroke:#ffffff;stroke-linejoin:miter;stroke-width:0.5;\"/>\n",
       "   </g>\n",
       "   <g id=\"patch_21\">\n",
       "    <path clip-path=\"url(#pdd3b5ccc9a)\" d=\"M 353.429027 298.8 \n",
       "L 368.030426 298.8 \n",
       "L 368.030426 43.976104 \n",
       "L 353.429027 43.976104 \n",
       "z\n",
       "\" style=\"fill:#008fd5;stroke:#ffffff;stroke-linejoin:miter;stroke-width:0.5;\"/>\n",
       "   </g>\n",
       "   <g id=\"patch_22\">\n",
       "    <path clip-path=\"url(#pdd3b5ccc9a)\" d=\"M 368.030426 298.8 \n",
       "L 382.631824 298.8 \n",
       "L 382.631824 21.085714 \n",
       "L 368.030426 21.085714 \n",
       "z\n",
       "\" style=\"fill:#008fd5;stroke:#ffffff;stroke-linejoin:miter;stroke-width:0.5;\"/>\n",
       "   </g>\n",
       "   <g id=\"patch_23\">\n",
       "    <path clip-path=\"url(#pdd3b5ccc9a)\" d=\"M 382.631824 298.8 \n",
       "L 397.233223 298.8 \n",
       "L 397.233223 32.867532 \n",
       "L 382.631824 32.867532 \n",
       "z\n",
       "\" style=\"fill:#008fd5;stroke:#ffffff;stroke-linejoin:miter;stroke-width:0.5;\"/>\n",
       "   </g>\n",
       "   <g id=\"patch_24\">\n",
       "    <path clip-path=\"url(#pdd3b5ccc9a)\" d=\"M 397.233223 298.8 \n",
       "L 411.834622 298.8 \n",
       "L 411.834622 47.342338 \n",
       "L 397.233223 47.342338 \n",
       "z\n",
       "\" style=\"fill:#008fd5;stroke:#ffffff;stroke-linejoin:miter;stroke-width:0.5;\"/>\n",
       "   </g>\n",
       "   <g id=\"patch_25\">\n",
       "    <path clip-path=\"url(#pdd3b5ccc9a)\" d=\"M 411.834622 298.8 \n",
       "L 426.43602 298.8 \n",
       "L 426.43602 58.450909 \n",
       "L 411.834622 58.450909 \n",
       "z\n",
       "\" style=\"fill:#008fd5;stroke:#ffffff;stroke-linejoin:miter;stroke-width:0.5;\"/>\n",
       "   </g>\n",
       "   <g id=\"patch_26\">\n",
       "    <path clip-path=\"url(#pdd3b5ccc9a)\" d=\"M 426.43602 298.8 \n",
       "L 441.037419 298.8 \n",
       "L 441.037419 121.736104 \n",
       "L 426.43602 121.736104 \n",
       "z\n",
       "\" style=\"fill:#008fd5;stroke:#ffffff;stroke-linejoin:miter;stroke-width:0.5;\"/>\n",
       "   </g>\n",
       "   <g id=\"patch_27\">\n",
       "    <path clip-path=\"url(#pdd3b5ccc9a)\" d=\"M 441.037419 298.8 \n",
       "L 455.638817 298.8 \n",
       "L 455.638817 135.874286 \n",
       "L 441.037419 135.874286 \n",
       "z\n",
       "\" style=\"fill:#008fd5;stroke:#ffffff;stroke-linejoin:miter;stroke-width:0.5;\"/>\n",
       "   </g>\n",
       "   <g id=\"patch_28\">\n",
       "    <path clip-path=\"url(#pdd3b5ccc9a)\" d=\"M 455.638817 298.8 \n",
       "L 470.240216 298.8 \n",
       "L 470.240216 170.546494 \n",
       "L 455.638817 170.546494 \n",
       "z\n",
       "\" style=\"fill:#008fd5;stroke:#ffffff;stroke-linejoin:miter;stroke-width:0.5;\"/>\n",
       "   </g>\n",
       "   <g id=\"patch_29\">\n",
       "    <path clip-path=\"url(#pdd3b5ccc9a)\" d=\"M 470.240216 298.8 \n",
       "L 484.841615 298.8 \n",
       "L 484.841615 192.763636 \n",
       "L 470.240216 192.763636 \n",
       "z\n",
       "\" style=\"fill:#008fd5;stroke:#ffffff;stroke-linejoin:miter;stroke-width:0.5;\"/>\n",
       "   </g>\n",
       "   <g id=\"patch_30\">\n",
       "    <path clip-path=\"url(#pdd3b5ccc9a)\" d=\"M 484.841615 298.8 \n",
       "L 499.443013 298.8 \n",
       "L 499.443013 225.416104 \n",
       "L 484.841615 225.416104 \n",
       "z\n",
       "\" style=\"fill:#008fd5;stroke:#ffffff;stroke-linejoin:miter;stroke-width:0.5;\"/>\n",
       "   </g>\n",
       "   <g id=\"patch_31\">\n",
       "    <path clip-path=\"url(#pdd3b5ccc9a)\" d=\"M 499.443013 298.8 \n",
       "L 514.044412 298.8 \n",
       "L 514.044412 248.643117 \n",
       "L 499.443013 248.643117 \n",
       "z\n",
       "\" style=\"fill:#008fd5;stroke:#ffffff;stroke-linejoin:miter;stroke-width:0.5;\"/>\n",
       "   </g>\n",
       "   <g id=\"patch_32\">\n",
       "    <path clip-path=\"url(#pdd3b5ccc9a)\" d=\"M 514.044412 298.8 \n",
       "L 528.64581 298.8 \n",
       "L 528.64581 263.117922 \n",
       "L 514.044412 263.117922 \n",
       "z\n",
       "\" style=\"fill:#008fd5;stroke:#ffffff;stroke-linejoin:miter;stroke-width:0.5;\"/>\n",
       "   </g>\n",
       "   <g id=\"patch_33\">\n",
       "    <path clip-path=\"url(#pdd3b5ccc9a)\" d=\"M 528.64581 298.8 \n",
       "L 543.247209 298.8 \n",
       "L 543.247209 275.572987 \n",
       "L 528.64581 275.572987 \n",
       "z\n",
       "\" style=\"fill:#008fd5;stroke:#ffffff;stroke-linejoin:miter;stroke-width:0.5;\"/>\n",
       "   </g>\n",
       "   <g id=\"patch_34\">\n",
       "    <path clip-path=\"url(#pdd3b5ccc9a)\" d=\"M 543.247209 298.8 \n",
       "L 557.848608 298.8 \n",
       "L 557.848608 281.632208 \n",
       "L 543.247209 281.632208 \n",
       "z\n",
       "\" style=\"fill:#008fd5;stroke:#ffffff;stroke-linejoin:miter;stroke-width:0.5;\"/>\n",
       "   </g>\n",
       "   <g id=\"patch_35\">\n",
       "    <path clip-path=\"url(#pdd3b5ccc9a)\" d=\"M 557.848608 298.8 \n",
       "L 572.450006 298.8 \n",
       "L 572.450006 291.057662 \n",
       "L 557.848608 291.057662 \n",
       "z\n",
       "\" style=\"fill:#008fd5;stroke:#ffffff;stroke-linejoin:miter;stroke-width:0.5;\"/>\n",
       "   </g>\n",
       "   <g id=\"patch_36\">\n",
       "    <path clip-path=\"url(#pdd3b5ccc9a)\" d=\"M 572.450006 298.8 \n",
       "L 587.051405 298.8 \n",
       "L 587.051405 295.097143 \n",
       "L 572.450006 295.097143 \n",
       "z\n",
       "\" style=\"fill:#008fd5;stroke:#ffffff;stroke-linejoin:miter;stroke-width:0.5;\"/>\n",
       "   </g>\n",
       "   <g id=\"patch_37\">\n",
       "    <path clip-path=\"url(#pdd3b5ccc9a)\" d=\"M 587.051405 298.8 \n",
       "L 601.652803 298.8 \n",
       "L 601.652803 296.78026 \n",
       "L 587.051405 296.78026 \n",
       "z\n",
       "\" style=\"fill:#008fd5;stroke:#ffffff;stroke-linejoin:miter;stroke-width:0.5;\"/>\n",
       "   </g>\n",
       "   <g id=\"patch_38\">\n",
       "    <path clip-path=\"url(#pdd3b5ccc9a)\" d=\"M 601.652803 298.8 \n",
       "L 616.254202 298.8 \n",
       "L 616.254202 297.453506 \n",
       "L 601.652803 297.453506 \n",
       "z\n",
       "\" style=\"fill:#008fd5;stroke:#ffffff;stroke-linejoin:miter;stroke-width:0.5;\"/>\n",
       "   </g>\n",
       "   <g id=\"patch_39\">\n",
       "    <path clip-path=\"url(#pdd3b5ccc9a)\" d=\"M 616.254202 298.8 \n",
       "L 630.855601 298.8 \n",
       "L 630.855601 297.79013 \n",
       "L 616.254202 297.79013 \n",
       "z\n",
       "\" style=\"fill:#008fd5;stroke:#ffffff;stroke-linejoin:miter;stroke-width:0.5;\"/>\n",
       "   </g>\n",
       "   <g id=\"patch_40\">\n",
       "    <path clip-path=\"url(#pdd3b5ccc9a)\" d=\"M 630.855601 298.8 \n",
       "L 645.456999 298.8 \n",
       "L 645.456999 298.463377 \n",
       "L 630.855601 298.463377 \n",
       "z\n",
       "\" style=\"fill:#008fd5;stroke:#ffffff;stroke-linejoin:miter;stroke-width:0.5;\"/>\n",
       "   </g>\n",
       "   <g id=\"patch_41\">\n",
       "    <path clip-path=\"url(#pdd3b5ccc9a)\" d=\"M 645.456999 298.8 \n",
       "L 660.058398 298.8 \n",
       "L 660.058398 298.8 \n",
       "L 645.456999 298.8 \n",
       "z\n",
       "\" style=\"fill:#008fd5;stroke:#ffffff;stroke-linejoin:miter;stroke-width:0.5;\"/>\n",
       "   </g>\n",
       "   <g id=\"line2d_37\">\n",
       "    <path clip-path=\"url(#pdd3b5ccc9a)\" d=\"M 521.345111 298.8 \n",
       "L 521.345111 7.2 \n",
       "\" style=\"fill:none;stroke:#fc4f30;stroke-width:4;\"/>\n",
       "   </g>\n",
       "   <g id=\"patch_42\">\n",
       "    <path d=\"M 62.131125 298.8 \n",
       "L 62.131125 7.2 \n",
       "\" style=\"fill:none;stroke:#f0f0f0;stroke-linecap:square;stroke-linejoin:miter;stroke-width:3;\"/>\n",
       "   </g>\n",
       "   <g id=\"patch_43\">\n",
       "    <path d=\"M 688.531125 298.8 \n",
       "L 688.531125 7.2 \n",
       "\" style=\"fill:none;stroke:#f0f0f0;stroke-linecap:square;stroke-linejoin:miter;stroke-width:3;\"/>\n",
       "   </g>\n",
       "   <g id=\"patch_44\">\n",
       "    <path d=\"M 62.131125 298.8 \n",
       "L 688.531125 298.8 \n",
       "\" style=\"fill:none;stroke:#f0f0f0;stroke-linecap:square;stroke-linejoin:miter;stroke-width:3;\"/>\n",
       "   </g>\n",
       "   <g id=\"patch_45\">\n",
       "    <path d=\"M 62.131125 7.2 \n",
       "L 688.531125 7.2 \n",
       "\" style=\"fill:none;stroke:#f0f0f0;stroke-linecap:square;stroke-linejoin:miter;stroke-width:3;\"/>\n",
       "   </g>\n",
       "   <g id=\"legend_1\">\n",
       "    <g id=\"patch_46\">\n",
       "     <path d=\"M 71.931125 39.33875 \n",
       "L 244.369562 39.33875 \n",
       "Q 247.169562 39.33875 247.169562 36.53875 \n",
       "L 247.169562 17 \n",
       "Q 247.169562 14.2 244.369562 14.2 \n",
       "L 71.931125 14.2 \n",
       "Q 69.131125 14.2 69.131125 17 \n",
       "L 69.131125 36.53875 \n",
       "Q 69.131125 39.33875 71.931125 39.33875 \n",
       "z\n",
       "\" style=\"fill:#f0f0f0;opacity:0.8;stroke:#cccccc;stroke-linejoin:miter;stroke-width:0.5;\"/>\n",
       "    </g>\n",
       "    <g id=\"patch_47\">\n",
       "     <path d=\"M 74.731125 30.437813 \n",
       "L 102.731125 30.437813 \n",
       "L 102.731125 20.637813 \n",
       "L 74.731125 20.637813 \n",
       "z\n",
       "\" style=\"fill:#008fd5;stroke:#ffffff;stroke-linejoin:miter;stroke-width:0.5;\"/>\n",
       "    </g>\n",
       "    <g id=\"text_20\">\n",
       "     <!-- Number_of_Heads -->\n",
       "     <g transform=\"translate(113.931125 30.437813)scale(0.14 -0.14)\">\n",
       "      <defs>\n",
       "       <path d=\"M 628 4666 \n",
       "L 1478 4666 \n",
       "L 3547 763 \n",
       "L 3547 4666 \n",
       "L 4159 4666 \n",
       "L 4159 0 \n",
       "L 3309 0 \n",
       "L 1241 3903 \n",
       "L 1241 0 \n",
       "L 628 0 \n",
       "L 628 4666 \n",
       "z\n",
       "\" id=\"DejaVuSans-4e\" transform=\"scale(0.015625)\"/>\n",
       "       <path d=\"M 3328 2828 \n",
       "Q 3544 3216 3844 3400 \n",
       "Q 4144 3584 4550 3584 \n",
       "Q 5097 3584 5394 3201 \n",
       "Q 5691 2819 5691 2113 \n",
       "L 5691 0 \n",
       "L 5113 0 \n",
       "L 5113 2094 \n",
       "Q 5113 2597 4934 2840 \n",
       "Q 4756 3084 4391 3084 \n",
       "Q 3944 3084 3684 2787 \n",
       "Q 3425 2491 3425 1978 \n",
       "L 3425 0 \n",
       "L 2847 0 \n",
       "L 2847 2094 \n",
       "Q 2847 2600 2669 2842 \n",
       "Q 2491 3084 2119 3084 \n",
       "Q 1678 3084 1418 2786 \n",
       "Q 1159 2488 1159 1978 \n",
       "L 1159 0 \n",
       "L 581 0 \n",
       "L 581 3500 \n",
       "L 1159 3500 \n",
       "L 1159 2956 \n",
       "Q 1356 3278 1631 3431 \n",
       "Q 1906 3584 2284 3584 \n",
       "Q 2666 3584 2933 3390 \n",
       "Q 3200 3197 3328 2828 \n",
       "z\n",
       "\" id=\"DejaVuSans-6d\" transform=\"scale(0.015625)\"/>\n",
       "       <path d=\"M 3116 1747 \n",
       "Q 3116 2381 2855 2742 \n",
       "Q 2594 3103 2138 3103 \n",
       "Q 1681 3103 1420 2742 \n",
       "Q 1159 2381 1159 1747 \n",
       "Q 1159 1113 1420 752 \n",
       "Q 1681 391 2138 391 \n",
       "Q 2594 391 2855 752 \n",
       "Q 3116 1113 3116 1747 \n",
       "z\n",
       "M 1159 2969 \n",
       "Q 1341 3281 1617 3432 \n",
       "Q 1894 3584 2278 3584 \n",
       "Q 2916 3584 3314 3078 \n",
       "Q 3713 2572 3713 1747 \n",
       "Q 3713 922 3314 415 \n",
       "Q 2916 -91 2278 -91 \n",
       "Q 1894 -91 1617 61 \n",
       "Q 1341 213 1159 525 \n",
       "L 1159 0 \n",
       "L 581 0 \n",
       "L 581 4863 \n",
       "L 1159 4863 \n",
       "L 1159 2969 \n",
       "z\n",
       "\" id=\"DejaVuSans-62\" transform=\"scale(0.015625)\"/>\n",
       "       <path d=\"M 3263 -1063 \n",
       "L 3263 -1509 \n",
       "L -63 -1509 \n",
       "L -63 -1063 \n",
       "L 3263 -1063 \n",
       "z\n",
       "\" id=\"DejaVuSans-5f\" transform=\"scale(0.015625)\"/>\n",
       "       <path d=\"M 1959 3097 \n",
       "Q 1497 3097 1228 2736 \n",
       "Q 959 2375 959 1747 \n",
       "Q 959 1119 1226 758 \n",
       "Q 1494 397 1959 397 \n",
       "Q 2419 397 2687 759 \n",
       "Q 2956 1122 2956 1747 \n",
       "Q 2956 2369 2687 2733 \n",
       "Q 2419 3097 1959 3097 \n",
       "z\n",
       "M 1959 3584 \n",
       "Q 2709 3584 3137 3096 \n",
       "Q 3566 2609 3566 1747 \n",
       "Q 3566 888 3137 398 \n",
       "Q 2709 -91 1959 -91 \n",
       "Q 1206 -91 779 398 \n",
       "Q 353 888 353 1747 \n",
       "Q 353 2609 779 3096 \n",
       "Q 1206 3584 1959 3584 \n",
       "z\n",
       "\" id=\"DejaVuSans-6f\" transform=\"scale(0.015625)\"/>\n",
       "       <path d=\"M 2375 4863 \n",
       "L 2375 4384 \n",
       "L 1825 4384 \n",
       "Q 1516 4384 1395 4259 \n",
       "Q 1275 4134 1275 3809 \n",
       "L 1275 3500 \n",
       "L 2222 3500 \n",
       "L 2222 3053 \n",
       "L 1275 3053 \n",
       "L 1275 0 \n",
       "L 697 0 \n",
       "L 697 3053 \n",
       "L 147 3053 \n",
       "L 147 3500 \n",
       "L 697 3500 \n",
       "L 697 3744 \n",
       "Q 697 4328 969 4595 \n",
       "Q 1241 4863 1831 4863 \n",
       "L 2375 4863 \n",
       "z\n",
       "\" id=\"DejaVuSans-66\" transform=\"scale(0.015625)\"/>\n",
       "       <path d=\"M 628 4666 \n",
       "L 1259 4666 \n",
       "L 1259 2753 \n",
       "L 3553 2753 \n",
       "L 3553 4666 \n",
       "L 4184 4666 \n",
       "L 4184 0 \n",
       "L 3553 0 \n",
       "L 3553 2222 \n",
       "L 1259 2222 \n",
       "L 1259 0 \n",
       "L 628 0 \n",
       "L 628 4666 \n",
       "z\n",
       "\" id=\"DejaVuSans-48\" transform=\"scale(0.015625)\"/>\n",
       "       <path d=\"M 2194 1759 \n",
       "Q 1497 1759 1228 1600 \n",
       "Q 959 1441 959 1056 \n",
       "Q 959 750 1161 570 \n",
       "Q 1363 391 1709 391 \n",
       "Q 2188 391 2477 730 \n",
       "Q 2766 1069 2766 1631 \n",
       "L 2766 1759 \n",
       "L 2194 1759 \n",
       "z\n",
       "M 3341 1997 \n",
       "L 3341 0 \n",
       "L 2766 0 \n",
       "L 2766 531 \n",
       "Q 2569 213 2275 61 \n",
       "Q 1981 -91 1556 -91 \n",
       "Q 1019 -91 701 211 \n",
       "Q 384 513 384 1019 \n",
       "Q 384 1609 779 1909 \n",
       "Q 1175 2209 1959 2209 \n",
       "L 2766 2209 \n",
       "L 2766 2266 \n",
       "Q 2766 2663 2505 2880 \n",
       "Q 2244 3097 1772 3097 \n",
       "Q 1472 3097 1187 3025 \n",
       "Q 903 2953 641 2809 \n",
       "L 641 3341 \n",
       "Q 956 3463 1253 3523 \n",
       "Q 1550 3584 1831 3584 \n",
       "Q 2591 3584 2966 3190 \n",
       "Q 3341 2797 3341 1997 \n",
       "z\n",
       "\" id=\"DejaVuSans-61\" transform=\"scale(0.015625)\"/>\n",
       "       <path d=\"M 2906 2969 \n",
       "L 2906 4863 \n",
       "L 3481 4863 \n",
       "L 3481 0 \n",
       "L 2906 0 \n",
       "L 2906 525 \n",
       "Q 2725 213 2448 61 \n",
       "Q 2172 -91 1784 -91 \n",
       "Q 1150 -91 751 415 \n",
       "Q 353 922 353 1747 \n",
       "Q 353 2572 751 3078 \n",
       "Q 1150 3584 1784 3584 \n",
       "Q 2172 3584 2448 3432 \n",
       "Q 2725 3281 2906 2969 \n",
       "z\n",
       "M 947 1747 \n",
       "Q 947 1113 1208 752 \n",
       "Q 1469 391 1925 391 \n",
       "Q 2381 391 2643 752 \n",
       "Q 2906 1113 2906 1747 \n",
       "Q 2906 2381 2643 2742 \n",
       "Q 2381 3103 1925 3103 \n",
       "Q 1469 3103 1208 2742 \n",
       "Q 947 2381 947 1747 \n",
       "z\n",
       "\" id=\"DejaVuSans-64\" transform=\"scale(0.015625)\"/>\n",
       "       <path d=\"M 2834 3397 \n",
       "L 2834 2853 \n",
       "Q 2591 2978 2328 3040 \n",
       "Q 2066 3103 1784 3103 \n",
       "Q 1356 3103 1142 2972 \n",
       "Q 928 2841 928 2578 \n",
       "Q 928 2378 1081 2264 \n",
       "Q 1234 2150 1697 2047 \n",
       "L 1894 2003 \n",
       "Q 2506 1872 2764 1633 \n",
       "Q 3022 1394 3022 966 \n",
       "Q 3022 478 2636 193 \n",
       "Q 2250 -91 1575 -91 \n",
       "Q 1294 -91 989 -36 \n",
       "Q 684 19 347 128 \n",
       "L 347 722 \n",
       "Q 666 556 975 473 \n",
       "Q 1284 391 1588 391 \n",
       "Q 1994 391 2212 530 \n",
       "Q 2431 669 2431 922 \n",
       "Q 2431 1156 2273 1281 \n",
       "Q 2116 1406 1581 1522 \n",
       "L 1381 1569 \n",
       "Q 847 1681 609 1914 \n",
       "Q 372 2147 372 2553 \n",
       "Q 372 3047 722 3315 \n",
       "Q 1072 3584 1716 3584 \n",
       "Q 2034 3584 2315 3537 \n",
       "Q 2597 3491 2834 3397 \n",
       "z\n",
       "\" id=\"DejaVuSans-73\" transform=\"scale(0.015625)\"/>\n",
       "      </defs>\n",
       "      <use xlink:href=\"#DejaVuSans-4e\"/>\n",
       "      <use x=\"74.804688\" xlink:href=\"#DejaVuSans-75\"/>\n",
       "      <use x=\"138.183594\" xlink:href=\"#DejaVuSans-6d\"/>\n",
       "      <use x=\"235.595703\" xlink:href=\"#DejaVuSans-62\"/>\n",
       "      <use x=\"299.072266\" xlink:href=\"#DejaVuSans-65\"/>\n",
       "      <use x=\"360.595703\" xlink:href=\"#DejaVuSans-72\"/>\n",
       "      <use x=\"401.708984\" xlink:href=\"#DejaVuSans-5f\"/>\n",
       "      <use x=\"451.708984\" xlink:href=\"#DejaVuSans-6f\"/>\n",
       "      <use x=\"512.890625\" xlink:href=\"#DejaVuSans-66\"/>\n",
       "      <use x=\"548.095703\" xlink:href=\"#DejaVuSans-5f\"/>\n",
       "      <use x=\"598.095703\" xlink:href=\"#DejaVuSans-48\"/>\n",
       "      <use x=\"673.291016\" xlink:href=\"#DejaVuSans-65\"/>\n",
       "      <use x=\"734.814453\" xlink:href=\"#DejaVuSans-61\"/>\n",
       "      <use x=\"796.09375\" xlink:href=\"#DejaVuSans-64\"/>\n",
       "      <use x=\"859.570312\" xlink:href=\"#DejaVuSans-73\"/>\n",
       "     </g>\n",
       "    </g>\n",
       "   </g>\n",
       "  </g>\n",
       " </g>\n",
       " <defs>\n",
       "  <clipPath id=\"pdd3b5ccc9a\">\n",
       "   <rect height=\"291.6\" width=\"626.4\" x=\"62.131125\" y=\"7.2\"/>\n",
       "  </clipPath>\n",
       " </defs>\n",
       "</svg>\n"
      ],
      "text/plain": [
       "<Figure size 720x360 with 1 Axes>"
      ]
     },
     "metadata": {},
     "output_type": "display_data"
    }
   ],
   "source": [
    "bpd.DataFrame().assign(\n",
    "    Number_of_Heads=head_counts\n",
    ").plot(kind='hist', bins=np.arange(30.5, 70), density=True, ec='w', figsize=(10, 5));\n",
    "plt.axvline(60, color='C1');"
   ]
  },
  {
   "cell_type": "markdown",
   "metadata": {
    "slideshow": {
     "slide_type": "-"
    }
   },
   "source": [
    "- This histogram describes the distribution of the number of heads in each experiment.\n",
    "- Now we see another reason to use density histogram.\n",
    "    - Using density means that the bars can also represent **probabilities**.\n",
    "    - We call this type of histogram a **probability distribution**."
   ]
  },
  {
   "cell_type": "markdown",
   "metadata": {
    "slideshow": {
     "slide_type": "slide"
    }
   },
   "source": [
    "## Example: The \"Monty Hall\" Problem"
   ]
  },
  {
   "cell_type": "markdown",
   "metadata": {
    "slideshow": {
     "slide_type": "slide"
    }
   },
   "source": [
    "<img src=\"data/monty_1.svg\" width=75% />"
   ]
  },
  {
   "cell_type": "markdown",
   "metadata": {
    "slideshow": {
     "slide_type": "slide"
    }
   },
   "source": [
    "<img src=\"data/monty_2.svg\" width=75% />"
   ]
  },
  {
   "cell_type": "markdown",
   "metadata": {
    "slideshow": {
     "slide_type": "slide"
    }
   },
   "source": [
    "<img src=\"data/monty_3.svg\" width=85% />"
   ]
  },
  {
   "cell_type": "markdown",
   "metadata": {
    "slideshow": {
     "slide_type": "slide"
    }
   },
   "source": [
    "### The \"Monty Hall\" Problem\n",
    "\n",
    "Suppose you’re on a game show, and you’re given the choice of three doors: Behind one door is a car 🚗; behind the others, goats 🐐🐐. \n",
    "\n",
    "- You pick a door, say No. 2, and the host, **who knows what’s behind the doors**, opens another door, say No. 3, which has a goat. \n",
    "\n",
    "- He then says to you, “Do you want to pick door No. 1?” \n",
    "\n",
    "- **Question:** Is it to your advantage to switch your choice?\n",
    "\n",
    "_(The question was originally posed in Parade magazine’s \"Ask Marilyn\" column. It is called the \"Monty Hall problem\" because Monty Hall was the host of the game show in question, \"Let's Make a Deal.\")_"
   ]
  },
  {
   "cell_type": "markdown",
   "metadata": {
    "slideshow": {
     "slide_type": "slide"
    }
   },
   "source": [
    "### Hmm...\n",
    "\n",
    "You originally selected door #2. The host reveals door #3 to have a goat behind it. What should you do?\n",
    "\n",
    "A. Might as well stick with door number #2; it has just as high a chance of winning as door #1. It doesn't matter whether you switch or not.\n",
    "\n",
    "B. Switch to door number #1; it has a higher chance of winning than door #2."
   ]
  },
  {
   "cell_type": "markdown",
   "metadata": {
    "slideshow": {
     "slide_type": "slide"
    }
   },
   "source": [
    "### Let's see 🤔\n",
    "\n",
    "- We'll use simulation to compute:\n",
    "    - the probability of winning if we switch.\n",
    "    - the probability of winning if we stay.\n",
    "        - This is just 1 - (probability of winning if we switch).\n",
    "- Whichever strategy has the higher probability of winning is better!"
   ]
  },
  {
   "cell_type": "markdown",
   "metadata": {
    "slideshow": {
     "slide_type": "slide"
    }
   },
   "source": [
    "### Time to simulate!\n",
    "\n",
    "Let's **simulate** the Monty Hall problem many times to **estimate** the probability of winning.\n",
    "\n",
    "1. Figure out how to simulate one game of Monty Hall.\n",
    "2. Play the game many times.\n",
    "3. Count the proportion of wins for each strategy (stay or switch)."
   ]
  },
  {
   "cell_type": "markdown",
   "metadata": {
    "slideshow": {
     "slide_type": "slide"
    }
   },
   "source": [
    "### You Try:\n",
    "\n",
    "Implement a simulation of the Monty Hall problem.\n",
    "\n",
    "1. Write a function `simulate_monty_hall()` that simulates one game of Monty Hall. If staying wins the game, output `'Stay'`. Otherwise, output `'Switch'`. \n",
    "2. Create an array `winning_strategies` that has 10,000 game results from simulating Monty Hall.\n",
    "3. Count the proportion of wins for each strategy (stay or switch) and interpret it.\n",
    "\n",
    "**Try it out. Work with a neighbor if you'd like.**"
   ]
  },
  {
   "cell_type": "code",
   "execution_count": null,
   "metadata": {},
   "outputs": [],
   "source": [
    "# You try: Step 1\n"
   ]
  },
  {
   "cell_type": "code",
   "execution_count": null,
   "metadata": {},
   "outputs": [],
   "source": [
    "# You try: Step 2\n"
   ]
  },
  {
   "cell_type": "code",
   "execution_count": null,
   "metadata": {},
   "outputs": [],
   "source": [
    "# You try: Step 3\n"
   ]
  },
  {
   "cell_type": "markdown",
   "metadata": {
    "slideshow": {
     "slide_type": "slide"
    }
   },
   "source": [
    "### Step 1: Simulate a single game\n",
    "\n",
    "When a contestant picks their door, there are three equally-likely outcomes:\n",
    "\n",
    "1. Goat 🐐 #1.\n",
    "2. Goat 🐐 #2.\n",
    "3. Car 🚗."
   ]
  },
  {
   "cell_type": "markdown",
   "metadata": {
    "slideshow": {
     "slide_type": "slide"
    }
   },
   "source": [
    "### Step 1: Simulate a single game\n",
    "\n",
    "Suppose we can see what is behind their door (but the contestant can't).\n",
    "\n",
    "- If it is a car, they will win if they stay.\n",
    "- If it is a goat, they will win if they switch."
   ]
  },
  {
   "cell_type": "markdown",
   "metadata": {
    "slideshow": {
     "slide_type": "slide"
    }
   },
   "source": [
    "### Step 1: Simulate a single game"
   ]
  },
  {
   "cell_type": "code",
   "execution_count": 82,
   "metadata": {},
   "outputs": [
    {
     "data": {
      "text/plain": [
       "'Goat 1'"
      ]
     },
     "execution_count": 82,
     "metadata": {},
     "output_type": "execute_result"
    }
   ],
   "source": [
    "my_door = np.random.choice(['Car', 'Goat 1', 'Goat 2'])\n",
    "my_door"
   ]
  },
  {
   "cell_type": "markdown",
   "metadata": {
    "slideshow": {
     "slide_type": "slide"
    }
   },
   "source": [
    "### Step 1: Simulate a single game\n",
    "\n",
    "Let's turn this into a function to make it easier to repeat:"
   ]
  },
  {
   "cell_type": "code",
   "execution_count": 83,
   "metadata": {},
   "outputs": [],
   "source": [
    "def simulate_monty_hall():\n",
    "    my_door = np.random.choice(['Car', 'Goat 1', 'Goat 2'])\n",
    "    if my_door == 'Car':\n",
    "        return 'Stay'\n",
    "    else:\n",
    "        return 'Switch'"
   ]
  },
  {
   "cell_type": "code",
   "execution_count": 95,
   "metadata": {},
   "outputs": [
    {
     "data": {
      "text/plain": [
       "'Stay'"
      ]
     },
     "execution_count": 95,
     "metadata": {},
     "output_type": "execute_result"
    }
   ],
   "source": [
    "simulate_monty_hall()"
   ]
  },
  {
   "cell_type": "markdown",
   "metadata": {
    "slideshow": {
     "slide_type": "slide"
    }
   },
   "source": [
    "### Step 2: Play the game many times\n",
    "\n",
    "We should save the winning strategies. To do so, let's use `np.append`:"
   ]
  },
  {
   "cell_type": "code",
   "execution_count": 96,
   "metadata": {},
   "outputs": [],
   "source": [
    "winning_strategies = np.array([])\n",
    "\n",
    "for i in np.arange(10_000):\n",
    "    to_win = simulate_monty_hall()\n",
    "    winning_strategies = np.append(winning_strategies, to_win)"
   ]
  },
  {
   "cell_type": "code",
   "execution_count": 97,
   "metadata": {},
   "outputs": [
    {
     "data": {
      "text/plain": [
       "array(['Switch', 'Switch', 'Switch', ..., 'Stay', 'Switch', 'Switch'],\n",
       "      dtype='<U32')"
      ]
     },
     "execution_count": 97,
     "metadata": {},
     "output_type": "execute_result"
    }
   ],
   "source": [
    "winning_strategies"
   ]
  },
  {
   "cell_type": "markdown",
   "metadata": {
    "slideshow": {
     "slide_type": "slide"
    }
   },
   "source": [
    "### Step 3: Count the proportion of wins for each strategy (stay or switch)"
   ]
  },
  {
   "cell_type": "code",
   "execution_count": 98,
   "metadata": {},
   "outputs": [
    {
     "data": {
      "text/plain": [
       "array(['Switch', 'Switch', 'Switch', ..., 'Stay', 'Switch', 'Switch'],\n",
       "      dtype='<U32')"
      ]
     },
     "execution_count": 98,
     "metadata": {},
     "output_type": "execute_result"
    }
   ],
   "source": [
    "winning_strategies"
   ]
  },
  {
   "cell_type": "code",
   "execution_count": 100,
   "metadata": {},
   "outputs": [
    {
     "data": {
      "text/plain": [
       "0.3355"
      ]
     },
     "execution_count": 100,
     "metadata": {},
     "output_type": "execute_result"
    }
   ],
   "source": [
    "np.mean(winning_strategies == 'Stay')"
   ]
  },
  {
   "cell_type": "code",
   "execution_count": 101,
   "metadata": {},
   "outputs": [
    {
     "data": {
      "text/plain": [
       "0.6645"
      ]
     },
     "execution_count": 101,
     "metadata": {},
     "output_type": "execute_result"
    }
   ],
   "source": [
    "np.mean(winning_strategies == 'Switch')"
   ]
  },
  {
   "cell_type": "markdown",
   "metadata": {
    "slideshow": {
     "slide_type": "slide"
    }
   },
   "source": [
    "### Marilyn vos Savant's column\n",
    "\n",
    "\n",
    "<div style=\"display: flex; margin-top: .5in; margin-right: 1in\">\n",
    "<div style=\"width: 85%;\">\n",
    "    <ul>\n",
    "        <li>vos Savant asked the question in <i>Parade</i> magazine.</li>\n",
    "        <li>She stated the correct answer: <i>switch</i>.</li>\n",
    "        <li>She received over 10,000 letters in disagreement, including over 1,000 letters from people with Ph.D.s.</li>\n",
    "    </ul>\n",
    "</div>\n",
    "<div style=\"width: 40%;\">\n",
    "    <img src=\"data/vos_savant.jpg\" width=300>\n",
    "</div>\n",
    "</div>\n"
   ]
  },
  {
   "cell_type": "markdown",
   "metadata": {
    "slideshow": {
     "slide_type": "slide"
    }
   },
   "source": [
    "## Why Does It Matter?"
   ]
  },
  {
   "cell_type": "markdown",
   "metadata": {
    "slideshow": {
     "slide_type": "slide"
    }
   },
   "source": [
    "### Simulation finds probabilities\n",
    "\n",
    "- Calculating probabilities is important, but can be hard!\n",
    "    - You'll learn plenty of formulas in future DSC classes.\n",
    "- Simulation lets us find probabilities by using a computer rather than math.\n",
    "- Many real-world scenarios are complicated.\n",
    "    - Simulation is much easier than math in many of these cases."
   ]
  },
  {
   "cell_type": "markdown",
   "metadata": {
    "slideshow": {
     "slide_type": "slide"
    }
   },
   "source": [
    "### What's next?\n",
    "\n",
    "- In the next class, we will start talking about sampling.\n",
    "    - Key idea: I want to learn something about a large population (e.g. all undergraduates at UCSD). However, it's far too difficult to survey everyone. If I collect a sample, what can I infer about the larger population?\n",
    "- **Simulation (today) will not be on the midterm, but probability will.**"
   ]
  }
 ],
 "metadata": {
  "kernelspec": {
   "display_name": "Python 3 (ipykernel)",
   "language": "python",
   "name": "python3"
  },
  "language_info": {
   "codemirror_mode": {
    "name": "ipython",
    "version": 3
   },
   "file_extension": ".py",
   "mimetype": "text/x-python",
   "name": "python",
   "nbconvert_exporter": "python",
   "pygments_lexer": "ipython3",
   "version": "3.8.5"
  },
  "livereveal": {
   "scroll": true,
   "transition": "none"
  }
 },
 "nbformat": 4,
 "nbformat_minor": 2
}
